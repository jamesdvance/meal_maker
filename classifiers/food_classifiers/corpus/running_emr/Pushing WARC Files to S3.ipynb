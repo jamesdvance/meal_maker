{
 "cells": [
  {
   "cell_type": "markdown",
   "metadata": {},
   "source": [
    "### Writing Food Related Subset to S3\n",
    "In this script I will explore feasibility and cost of transfering subset of Common Crawl files to S3"
   ]
  },
  {
   "cell_type": "markdown",
   "metadata": {},
   "source": [
    "Steps: \n",
    "    1. Download WARC files for first 100 urls\n",
    "    2. Push to S3 in bulk upload\n",
    "    3. Check AWS for cost of upload"
   ]
  },
  {
   "cell_type": "code",
   "execution_count": 7,
   "metadata": {
    "collapsed": false
   },
   "outputs": [
    {
     "ename": "ModuleNotFoundError",
     "evalue": "No module named '__builtin__'",
     "output_type": "error",
     "traceback": [
      "\u001b[0;31m---------------------------------------------------------------------------\u001b[0m",
      "\u001b[0;31mModuleNotFoundError\u001b[0m                       Traceback (most recent call last)",
      "\u001b[0;32m<ipython-input-7-b7f7d43d2b4e>\u001b[0m in \u001b[0;36m<module>\u001b[0;34m()\u001b[0m\n\u001b[1;32m      2\u001b[0m \u001b[1;32mimport\u001b[0m \u001b[0mrequests\u001b[0m\u001b[1;33m\u001b[0m\u001b[0m\n\u001b[1;32m      3\u001b[0m \u001b[1;32mimport\u001b[0m \u001b[0mboto3\u001b[0m\u001b[1;33m\u001b[0m\u001b[0m\n\u001b[0;32m----> 4\u001b[0;31m \u001b[1;32mfrom\u001b[0m \u001b[0mwarc\u001b[0m \u001b[1;32mimport\u001b[0m \u001b[0mWARCFile\u001b[0m\u001b[1;33m,\u001b[0m \u001b[0mWARCReader\u001b[0m\u001b[1;33m\u001b[0m\u001b[0m\n\u001b[0m",
      "\u001b[0;32mC:\\ProgramData\\Anaconda3\\lib\\site-packages\\warc\\__init__.py\u001b[0m in \u001b[0;36m<module>\u001b[0;34m()\u001b[0m\n\u001b[1;32m      8\u001b[0m \"\"\"\n\u001b[1;32m      9\u001b[0m \u001b[1;33m\u001b[0m\u001b[0m\n\u001b[0;32m---> 10\u001b[0;31m \u001b[1;32mfrom\u001b[0m \u001b[1;33m.\u001b[0m\u001b[0marc\u001b[0m \u001b[1;32mimport\u001b[0m \u001b[0mARCFile\u001b[0m\u001b[1;33m,\u001b[0m \u001b[0mARCRecord\u001b[0m\u001b[1;33m,\u001b[0m \u001b[0mARCHeader\u001b[0m\u001b[1;33m\u001b[0m\u001b[0m\n\u001b[0m\u001b[1;32m     11\u001b[0m \u001b[1;32mfrom\u001b[0m \u001b[1;33m.\u001b[0m\u001b[0mwarc\u001b[0m \u001b[1;32mimport\u001b[0m \u001b[0mWARCFile\u001b[0m\u001b[1;33m,\u001b[0m \u001b[0mWARCRecord\u001b[0m\u001b[1;33m,\u001b[0m \u001b[0mWARCHeader\u001b[0m\u001b[1;33m,\u001b[0m \u001b[0mWARCReader\u001b[0m\u001b[1;33m\u001b[0m\u001b[0m\n\u001b[1;32m     12\u001b[0m \u001b[1;33m\u001b[0m\u001b[0m\n",
      "\u001b[0;32mC:\\ProgramData\\Anaconda3\\lib\\site-packages\\warc\\arc.py\u001b[0m in \u001b[0;36m<module>\u001b[0;34m()\u001b[0m\n\u001b[1;32m      5\u001b[0m \"\"\"\n\u001b[1;32m      6\u001b[0m \u001b[1;33m\u001b[0m\u001b[0m\n\u001b[0;32m----> 7\u001b[0;31m \u001b[1;32mimport\u001b[0m \u001b[0m__builtin__\u001b[0m\u001b[1;33m\u001b[0m\u001b[0m\n\u001b[0m\u001b[1;32m      8\u001b[0m \u001b[1;32mimport\u001b[0m \u001b[0mdatetime\u001b[0m\u001b[1;33m\u001b[0m\u001b[0m\n\u001b[1;32m      9\u001b[0m \u001b[1;32mimport\u001b[0m \u001b[0mos\u001b[0m\u001b[1;33m\u001b[0m\u001b[0m\n",
      "\u001b[0;31mModuleNotFoundError\u001b[0m: No module named '__builtin__'"
     ]
    }
   ],
   "source": [
    "import pandas as pd\n",
    "import requests\n",
    "import boto3"
   ]
  },
  {
   "cell_type": "markdown",
   "metadata": {},
   "source": [
    "Loading dataframe of Relevant Files"
   ]
  },
  {
   "cell_type": "code",
   "execution_count": 2,
   "metadata": {
    "collapsed": false
   },
   "outputs": [],
   "source": [
    "cc_info = pd.read_csv(\"C:/Users/J/Datasets/Nutrition/nutrition_relevant_warc_files.csv\")"
   ]
  },
  {
   "cell_type": "code",
   "execution_count": 5,
   "metadata": {
    "collapsed": false
   },
   "outputs": [
    {
     "data": {
      "text/plain": [
       "5029232"
      ]
     },
     "execution_count": 5,
     "metadata": {},
     "output_type": "execute_result"
    }
   ],
   "source": [
    "len(cc_info)"
   ]
  },
  {
   "cell_type": "code",
   "execution_count": 4,
   "metadata": {
    "collapsed": false
   },
   "outputs": [
    {
     "data": {
      "text/html": [
       "<div>\n",
       "<table border=\"1\" class=\"dataframe\">\n",
       "  <thead>\n",
       "    <tr style=\"text-align: right;\">\n",
       "      <th></th>\n",
       "      <th>url</th>\n",
       "      <th>warc_filename</th>\n",
       "      <th>warc_record_offset</th>\n",
       "      <th>warc_record_length</th>\n",
       "    </tr>\n",
       "  </thead>\n",
       "  <tbody>\n",
       "    <tr>\n",
       "      <th>0</th>\n",
       "      <td>https://fawkfoods.com/black-g-butter-1</td>\n",
       "      <td>crawl-data/CC-MAIN-2018-13/segments/1521257645...</td>\n",
       "      <td>590931791</td>\n",
       "      <td>14992</td>\n",
       "    </tr>\n",
       "    <tr>\n",
       "      <th>1</th>\n",
       "      <td>https://fawkfoods.com/black-g-mayonnaise</td>\n",
       "      <td>crawl-data/CC-MAIN-2018-13/segments/1521257645...</td>\n",
       "      <td>585520293</td>\n",
       "      <td>12986</td>\n",
       "    </tr>\n",
       "    <tr>\n",
       "      <th>2</th>\n",
       "      <td>https://fawkfoods.com/coming-soon</td>\n",
       "      <td>crawl-data/CC-MAIN-2018-13/segments/1521257645...</td>\n",
       "      <td>581291522</td>\n",
       "      <td>29786</td>\n",
       "    </tr>\n",
       "    <tr>\n",
       "      <th>3</th>\n",
       "      <td>https://fawkfoods.com/contact</td>\n",
       "      <td>crawl-data/CC-MAIN-2018-13/segments/1521257645...</td>\n",
       "      <td>577802990</td>\n",
       "      <td>13533</td>\n",
       "    </tr>\n",
       "    <tr>\n",
       "      <th>4</th>\n",
       "      <td>https://fawkfoods.com/fried-school-prawns-and-...</td>\n",
       "      <td>crawl-data/CC-MAIN-2018-13/segments/1521257645...</td>\n",
       "      <td>599911420</td>\n",
       "      <td>15609</td>\n",
       "    </tr>\n",
       "  </tbody>\n",
       "</table>\n",
       "</div>"
      ],
      "text/plain": [
       "                                                 url  \\\n",
       "0             https://fawkfoods.com/black-g-butter-1   \n",
       "1           https://fawkfoods.com/black-g-mayonnaise   \n",
       "2                  https://fawkfoods.com/coming-soon   \n",
       "3                      https://fawkfoods.com/contact   \n",
       "4  https://fawkfoods.com/fried-school-prawns-and-...   \n",
       "\n",
       "                                       warc_filename  warc_record_offset  \\\n",
       "0  crawl-data/CC-MAIN-2018-13/segments/1521257645...           590931791   \n",
       "1  crawl-data/CC-MAIN-2018-13/segments/1521257645...           585520293   \n",
       "2  crawl-data/CC-MAIN-2018-13/segments/1521257645...           581291522   \n",
       "3  crawl-data/CC-MAIN-2018-13/segments/1521257645...           577802990   \n",
       "4  crawl-data/CC-MAIN-2018-13/segments/1521257645...           599911420   \n",
       "\n",
       "   warc_record_length  \n",
       "0               14992  \n",
       "1               12986  \n",
       "2               29786  \n",
       "3               13533  \n",
       "4               15609  "
      ]
     },
     "execution_count": 4,
     "metadata": {},
     "output_type": "execute_result"
    }
   ],
   "source": [
    "cc_info.head()"
   ]
  },
  {
   "cell_type": "markdown",
   "metadata": {},
   "source": [
    "Loading in files"
   ]
  },
  {
   "cell_type": "code",
   "execution_count": 3,
   "metadata": {
    "collapsed": true
   },
   "outputs": [],
   "source": [
    "pg_prefix = 'https://commoncrawl.s3.amazonaws.com/'"
   ]
  },
  {
   "cell_type": "code",
   "execution_count": 4,
   "metadata": {
    "collapsed": false
   },
   "outputs": [
    {
     "ename": "NameError",
     "evalue": "name 'BytesIO' is not defined",
     "output_type": "error",
     "traceback": [
      "\u001b[0;31m---------------------------------------------------------------------------\u001b[0m",
      "\u001b[0;31mNameError\u001b[0m                                 Traceback (most recent call last)",
      "\u001b[0;32m<ipython-input-4-3c4f893d075c>\u001b[0m in \u001b[0;36m<module>\u001b[0;34m()\u001b[0m\n\u001b[1;32m      2\u001b[0m \u001b[1;32mfor\u001b[0m \u001b[0mi\u001b[0m \u001b[1;32min\u001b[0m \u001b[0mrange\u001b[0m\u001b[1;33m(\u001b[0m\u001b[1;36m100\u001b[0m\u001b[1;33m)\u001b[0m\u001b[1;33m:\u001b[0m\u001b[1;33m\u001b[0m\u001b[0m\n\u001b[1;32m      3\u001b[0m     \u001b[0mpg\u001b[0m \u001b[1;33m=\u001b[0m \u001b[0mrequests\u001b[0m\u001b[1;33m.\u001b[0m\u001b[0mget\u001b[0m\u001b[1;33m(\u001b[0m\u001b[0mpg_prefix\u001b[0m\u001b[1;33m+\u001b[0m\u001b[0mcc_info\u001b[0m\u001b[1;33m[\u001b[0m\u001b[1;34m'warc_filename'\u001b[0m\u001b[1;33m]\u001b[0m\u001b[1;33m[\u001b[0m\u001b[0mi\u001b[0m\u001b[1;33m]\u001b[0m\u001b[1;33m)\u001b[0m\u001b[1;33m\u001b[0m\u001b[0m\n\u001b[0;32m----> 4\u001b[0;31m     \u001b[0mrawdata\u001b[0m \u001b[1;33m=\u001b[0m \u001b[0mBytesIO\u001b[0m\u001b[1;33m(\u001b[0m\u001b[0mpg_resp\u001b[0m\u001b[1;33m.\u001b[0m\u001b[0mcontent\u001b[0m\u001b[1;33m)\u001b[0m\u001b[1;33m\u001b[0m\u001b[0m\n\u001b[0m",
      "\u001b[0;31mNameError\u001b[0m: name 'BytesIO' is not defined"
     ]
    }
   ],
   "source": [
    "#for file in warc_filename:\n",
    "for i in range(100):\n",
    "    pg = requests.get(pg_prefix+cc_info['warc_filename'][i])\n",
    "    rawdata = BytesIO(pg_resp.content)"
   ]
  },
  {
   "cell_type": "code",
   "execution_count": null,
   "metadata": {
    "collapsed": true
   },
   "outputs": [],
   "source": []
  }
 ],
 "metadata": {
  "kernelspec": {
   "display_name": "Python 3",
   "language": "python",
   "name": "python3"
  },
  "language_info": {
   "codemirror_mode": {
    "name": "ipython",
    "version": 3
   },
   "file_extension": ".py",
   "mimetype": "text/x-python",
   "name": "python",
   "nbconvert_exporter": "python",
   "pygments_lexer": "ipython3",
   "version": "3.6.0"
  }
 },
 "nbformat": 4,
 "nbformat_minor": 2
}
