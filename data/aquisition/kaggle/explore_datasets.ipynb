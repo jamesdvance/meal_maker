{
 "cells": [
  {
   "cell_type": "code",
   "execution_count": 4,
   "metadata": {},
   "outputs": [],
   "source": [
    "import pandas as pd \n",
    "# from PIL import pillow \n",
    "import requests"
   ]
  },
  {
   "cell_type": "code",
   "execution_count": 7,
   "metadata": {},
   "outputs": [],
   "source": [
    "import urllib\n",
    "import time"
   ]
  },
  {
   "cell_type": "code",
   "execution_count": 8,
   "metadata": {},
   "outputs": [],
   "source": [
    "def try_url(url):\n",
    "    while True:\n",
    "        try:\n",
    "            page = requests.get(url)\n",
    "            break\n",
    "        except:\n",
    "            time.sleep(30)\n",
    "    ctr=0\n",
    "    while(page.status_code!=200):\n",
    "        if ctr>10&ctr<200:\n",
    "            time.sleep(45)\n",
    "        elif ctr>=200:\n",
    "            break\n",
    "        time.sleep(30)\n",
    "        page = requests.get(url)\n",
    "        ctr+=1 \n",
    "    return page"
   ]
  },
  {
   "cell_type": "code",
   "execution_count": null,
   "metadata": {},
   "outputs": [],
   "source": []
  }
 ],
 "metadata": {
  "kernelspec": {
   "display_name": "MatchMyLookEnv_py10",
   "language": "python",
   "name": "python3"
  },
  "language_info": {
   "codemirror_mode": {
    "name": "ipython",
    "version": 3
   },
   "file_extension": ".py",
   "mimetype": "text/x-python",
   "name": "python",
   "nbconvert_exporter": "python",
   "pygments_lexer": "ipython3",
   "version": "3.10.0"
  },
  "orig_nbformat": 4
 },
 "nbformat": 4,
 "nbformat_minor": 2
}
