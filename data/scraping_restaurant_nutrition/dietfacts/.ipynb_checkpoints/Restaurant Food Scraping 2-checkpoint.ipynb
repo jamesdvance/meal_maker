{
 "cells": [
  {
   "cell_type": "code",
   "execution_count": 1,
   "metadata": {
    "collapsed": true
   },
   "outputs": [],
   "source": [
    "from bs4 import BeautifulSoup\n",
    "import requests \n",
    "import pandas as pd\n",
    "import numpy as np\n",
    "import time\n",
    "import re"
   ]
  },
  {
   "cell_type": "code",
   "execution_count": 2,
   "metadata": {
    "collapsed": false
   },
   "outputs": [],
   "source": [
    "# Parsing all nutrient pages\n",
    "ff_start = requests.get('http://www.dietfacts.com/fastfood.asp')\n",
    "ff_soup = BeautifulSoup(ff_start.text,'html.parser')\n",
    "ff_plain = ff_soup.findAll('a',attrs={'class':'plain'})\n",
    "# Finding all restaurants\n",
    "ff_links = []\n",
    "ff_restaurants = []\n",
    "for line in ff_plain:\n",
    "    ff_links.append(line['href'])\n",
    "    ff_restaurants.append(line.text)\n",
    "# Formatting links to be useable\n",
    "base_url = 'http://www.dietfacts.com/'\n",
    "ff_links_full = [base_url+link for link in ff_links]"
   ]
  },
  {
   "cell_type": "code",
   "execution_count": 3,
   "metadata": {
    "collapsed": false
   },
   "outputs": [],
   "source": [
    "def parse_nut_info(nut_soup):\n",
    "\t# Getting the Right Soup\n",
    "\tnut_space = nut_soup.findAll('basefont')[1].findAll('tr')\n",
    "\t# Extracting Variables\n",
    "\tproduct_name = nut_soup.find('h1').text\n",
    "\tserving_size = nut_space[0].find('td').findAll('nobr')[0].text + ' ' + nut_space[0].find('td').findAll('nobr')[1].text\n",
    "\tcalories = nut_space[0].find('td').findAll('font')[3].text\n",
    "\tcalories_from_fat = nut_space[0].find('td').findAll('nobr')[2].text\n",
    "\ttotal_fat = nut_space[0].find('td').findAll('font')[6].text+' '+nut_space[0].find('td').findAll('font')[7].text\n",
    "\tsaturated_fat = nut_space[0].find('td').findAll('font')[9].text\n",
    "\tcholesterol = nut_space[0].find('td').findAll('font')[11].text\n",
    "\tsodium = nut_space[0].find('td').findAll('font')[13].text\n",
    "\ttotal_carb = nut_space[0].find('td').findAll('font')[15].text\n",
    "\ttotal_fiber = nut_space[0].find('td').findAll('font')[17].text\n",
    "\ttotal_protein = nut_space[0].find('td').findAll('font')[19].text\n",
    "\tnutrients_list = [serving_size,calories,calories_from_fat, total_fat, saturated_fat, cholesterol, sodium,total_carb, total_fiber,total_protein]\n",
    "\tnutrient_col = []\n",
    "\tvalue_col =[]\n",
    "\tfor item in nutrients_list:\n",
    "\t    new_item = item.replace('\\xa0',u' ').strip()\n",
    "\t    if len(re.split(u'  ', new_item))==2:\n",
    "\t        nutrient_col.append(re.split(u'  ', new_item)[0])\n",
    "\t        value_col.append(re.split(u'  ', new_item)[1])\n",
    "\t    else:\n",
    "\t        nutrient_col.append(re.split(u' ', new_item)[0])\n",
    "\t        value_col.append(re.split(u' ', new_item)[1])\n",
    "\tnutrient_df = pd.DataFrame([value_col],columns=nutrient_col)\n",
    "\titem_name_df = pd.DataFrame([{'Item Name':product_name}])\n",
    "\tnutrient_df = pd.concat([item_name_df, nutrient_df], axis=1)\n",
    "\treturn nutrient_df\n"
   ]
  },
  {
   "cell_type": "code",
   "execution_count": 151,
   "metadata": {
    "collapsed": false
   },
   "outputs": [],
   "source": [
    "# Parsing single nutrient pages:\n",
    "link1 = 'http://www.dietfacts.com/html/nutrition-facts/qdoba-mexican-grill-chicken-burrito-with-rice-and-cheese-mild-no-beans-13-inch-flour-tortil9555.htm'\n",
    "\n",
    "# Parse a Burrito\n",
    "req1 = requests.get(link1)\n",
    "nut_soup = BeautifulSoup(req1.text,'html.parser')\n",
    "#test1 = parse_nut_info(soup1)\n",
    "nut_space = nut_soup.findAll('basefont')[1].findAll('tr')"
   ]
  },
  {
   "cell_type": "code",
   "execution_count": 152,
   "metadata": {
    "collapsed": false
   },
   "outputs": [
    {
     "data": {
      "text/html": [
       "<div>\n",
       "<table border=\"1\" class=\"dataframe\">\n",
       "  <thead>\n",
       "    <tr style=\"text-align: right;\">\n",
       "      <th></th>\n",
       "      <th>calcium_perc</th>\n",
       "      <th>calories</th>\n",
       "      <th>carb_g</th>\n",
       "      <th>cholesterol_mg</th>\n",
       "      <th>fat_g</th>\n",
       "      <th>fiber_g</th>\n",
       "      <th>iron_perc</th>\n",
       "      <th>item_name</th>\n",
       "      <th>potassium_mg</th>\n",
       "      <th>protein_g</th>\n",
       "      <th>saturated_fat_g</th>\n",
       "      <th>serving_size</th>\n",
       "      <th>sodium_mg</th>\n",
       "      <th>sugar_g</th>\n",
       "      <th>trans_fat_g</th>\n",
       "      <th>vit_a_perc</th>\n",
       "      <th>vit_c_perc</th>\n",
       "    </tr>\n",
       "  </thead>\n",
       "  <tbody>\n",
       "    <tr>\n",
       "      <th>0</th>\n",
       "      <td>not found</td>\n",
       "      <td>1115</td>\n",
       "      <td>99.56g</td>\n",
       "      <td>not found</td>\n",
       "      <td>57.43g</td>\n",
       "      <td>8g</td>\n",
       "      <td>not found</td>\n",
       "      <td>Chicken Burrito with rice and cheese - mild (n...</td>\n",
       "      <td>not found</td>\n",
       "      <td>49.1g</td>\n",
       "      <td>Total Carbohydrate  99.56g</td>\n",
       "      <td>1 burrito</td>\n",
       "      <td>not found</td>\n",
       "      <td>not found</td>\n",
       "      <td>not found</td>\n",
       "      <td>not found</td>\n",
       "      <td>not found</td>\n",
       "    </tr>\n",
       "  </tbody>\n",
       "</table>\n",
       "</div>"
      ],
      "text/plain": [
       "  calcium_perc calories  carb_g cholesterol_mg   fat_g fiber_g  iron_perc  \\\n",
       "0    not found     1115  99.56g      not found  57.43g      8g  not found   \n",
       "\n",
       "                                           item_name potassium_mg protein_g  \\\n",
       "0  Chicken Burrito with rice and cheese - mild (n...    not found     49.1g   \n",
       "\n",
       "              saturated_fat_g serving_size  sodium_mg    sugar_g trans_fat_g  \\\n",
       "0  Total Carbohydrate  99.56g    1 burrito  not found  not found   not found   \n",
       "\n",
       "  vit_a_perc vit_c_perc  \n",
       "0  not found  not found  "
      ]
     },
     "execution_count": 152,
     "metadata": {},
     "output_type": "execute_result"
    }
   ],
   "source": [
    "parse_nut_info(nut_soup)"
   ]
  },
  {
   "cell_type": "code",
   "execution_count": 99,
   "metadata": {
    "collapsed": false
   },
   "outputs": [],
   "source": [
    "def get_serving_size(result_set):\n",
    "    br_all = result_set.findAll('nobr')\n",
    "    for i in range(len(br_all)-1):\n",
    "        if br_all[i].text.strip() == 'Serving Size:':\n",
    "            serving_size = br_all[(i+1)].text.strip()\n",
    "            return serving_size\n",
    "    return 'not found'"
   ]
  },
  {
   "cell_type": "code",
   "execution_count": 100,
   "metadata": {
    "collapsed": false
   },
   "outputs": [],
   "source": [
    "serving_size = get_serving_size(nut_space[0])"
   ]
  },
  {
   "cell_type": "code",
   "execution_count": 101,
   "metadata": {
    "collapsed": false
   },
   "outputs": [
    {
     "data": {
      "text/plain": [
       "'1.17 oz'"
      ]
     },
     "execution_count": 101,
     "metadata": {},
     "output_type": "execute_result"
    }
   ],
   "source": [
    "serving_size"
   ]
  },
  {
   "cell_type": "code",
   "execution_count": 46,
   "metadata": {
    "collapsed": true
   },
   "outputs": [],
   "source": [
    "def get_calories(result_set):\n",
    "    tds = result_set.findAll('td')\n",
    "    for td in tds:\n",
    "        b_space = td.find('b')\n",
    "        if b_space ==None:\n",
    "             pass\n",
    "        elif b_space.text.strip() == 'Calories':\n",
    "            calories = td.find('font').text.strip()\n",
    "            calories = calories.replace('Calories', u'').strip()\n",
    "            calories = calories.replace('\\xa0', u'').strip()\n",
    "            return calories\n",
    "            \n",
    "    return 'not found'\n"
   ]
  },
  {
   "cell_type": "code",
   "execution_count": 63,
   "metadata": {
    "collapsed": false
   },
   "outputs": [],
   "source": [
    "def get_total_fat(result_set):\n",
    "    tds = result_set.findAll('td')\n",
    "    for td in tds:\n",
    "        font_space = td.findAll('font')\n",
    "        if font_space==None:\n",
    "             pass\n",
    "        elif len(font_space)<2:\n",
    "            pass\n",
    "        elif font_space[0].text.strip() == 'Total Fat':\n",
    "            total_fat = font_space[1].text.strip()\n",
    "            return total_fat\n",
    "    return 'not found'"
   ]
  },
  {
   "cell_type": "code",
   "execution_count": 69,
   "metadata": {
    "collapsed": false
   },
   "outputs": [],
   "source": [
    "def get_total_carb(result_set):\n",
    "    tds = result_set.findAll('td')    \n",
    "    for td in tds:\n",
    "        b_space = td.find('b')\n",
    "        if b_space ==None:\n",
    "            pass\n",
    "        elif b_space.text.strip() == 'Total Carbohydrate':\n",
    "            carbs = td.find('font').text.strip()\n",
    "            carbs = carbs.replace('Total Carbohydrate', u'').strip()\n",
    "            carbs = carbs.replace('\\xa0', u'').strip()\n",
    "            return carbs\n",
    "\n",
    "    return 'not found'"
   ]
  },
  {
   "cell_type": "code",
   "execution_count": 71,
   "metadata": {
    "collapsed": false
   },
   "outputs": [],
   "source": [
    "carbs = get_total_carb(nut_space[0])"
   ]
  },
  {
   "cell_type": "code",
   "execution_count": 72,
   "metadata": {
    "collapsed": false
   },
   "outputs": [
    {
     "data": {
      "text/plain": [
       "'99.56g'"
      ]
     },
     "execution_count": 72,
     "metadata": {},
     "output_type": "execute_result"
    }
   ],
   "source": [
    "carbs"
   ]
  },
  {
   "cell_type": "code",
   "execution_count": 86,
   "metadata": {
    "collapsed": false
   },
   "outputs": [],
   "source": [
    "def get_dietary_fiber(result_set):\n",
    "    tds = result_set.findAll('td')\n",
    "    for td in tds:\n",
    "        font_text = td.find('font')\n",
    "        if font_text == None:\n",
    "            pass\n",
    "        else:\n",
    "            font_text = font_text.text.strip()\n",
    "            if font_text.find('Dietary Fiber') != -1:\n",
    "                    fiber = font_text.replace('\\xa0', u'').strip()\n",
    "                    fiber = fiber.replace('Dietary Fiber', u'').strip()\n",
    "                    return fiber\n",
    "    return 'not found'"
   ]
  },
  {
   "cell_type": "code",
   "execution_count": 87,
   "metadata": {
    "collapsed": false
   },
   "outputs": [
    {
     "data": {
      "text/plain": [
       "'8g'"
      ]
     },
     "execution_count": 87,
     "metadata": {},
     "output_type": "execute_result"
    }
   ],
   "source": [
    "get_dietary_fiber(nut_space[0])"
   ]
  },
  {
   "cell_type": "code",
   "execution_count": 90,
   "metadata": {
    "collapsed": true
   },
   "outputs": [],
   "source": [
    "def get_protein(result_set):\n",
    "    tds = result_set.findAll('td')\n",
    "    for td in tds:\n",
    "        b_space = td.find('b')\n",
    "        if b_space ==None:\n",
    "             pass\n",
    "        elif b_space.text.strip() == 'Protein':\n",
    "            protein = td.find('font').text.strip()\n",
    "            protein = protein.replace('Protein', u'').strip()\n",
    "            protein = protein.replace('\\xa0', u'').strip()\n",
    "            return protein\n",
    "            \n",
    "    return 'not found'"
   ]
  },
  {
   "cell_type": "code",
   "execution_count": 91,
   "metadata": {
    "collapsed": false
   },
   "outputs": [
    {
     "data": {
      "text/plain": [
       "'49.1g'"
      ]
     },
     "execution_count": 91,
     "metadata": {},
     "output_type": "execute_result"
    }
   ],
   "source": [
    "get_protein(nut_space[0])"
   ]
  },
  {
   "cell_type": "code",
   "execution_count": 147,
   "metadata": {
    "collapsed": true
   },
   "outputs": [],
   "source": [
    "# Parsing single nutrient pages:\n",
    "link2= 'http://www.dietfacts.com/html/nutrition-facts/mcdonalds-bacon-clubhouse-burger-thick-cut-applewood-s82260.htm'\n",
    "\n",
    "# Parse a Burrito\n",
    "req2 = requests.get(link2)\n",
    "nut_soup = BeautifulSoup(req2.text,'html.parser')\n",
    "#test1 = parse_nut_info(soup1)\n",
    "nut_space = nut_space = nut_soup.findAll('basefont')[1].findAll('tr')"
   ]
  },
  {
   "cell_type": "code",
   "execution_count": 148,
   "metadata": {
    "collapsed": false
   },
   "outputs": [
    {
     "name": "stdout",
     "output_type": "stream",
     "text": [
      "Serving Size 1 sandwich  9.5 oz  270g\n",
      "Calories 720\n",
      "Fat 40g\n",
      "Saturated Fat 15g\n",
      "Trans Fat 1.5g\n",
      "Cholesterol 115mg\n",
      "Sodium 1470mg\n",
      "Potassium not found\n",
      "Carbs 51g\n",
      "Fiber 4g\n",
      "Sugars 14g\n",
      "Protein 39g\n",
      "Vitamin A 7.6%\n",
      "Vitamin C 25%\n",
      "Calcium 29%\n",
      "Iron 25%\n"
     ]
    }
   ],
   "source": [
    "print('Serving Size '+get_serving_size(nut_space[0]))\n",
    "print('Calories '+get_calories(nut_space[0]))\n",
    "print('Fat '+get_total_fat(nut_space[0]))\n",
    "print(\"Saturated Fat \"+ get_saturated_fat(nut_space[0]))\n",
    "print(\"Trans Fat \" + get_trans_fat(nut_space[0]))\n",
    "print(\"Cholesterol \"+get_cholesterol(nut_space[0]))\n",
    "print(\"Sodium \" + get_sodium(nut_space[0]))\n",
    "print(\"Potassium \"+get_potassium(nut_space[0]))\n",
    "print('Carbs '+get_total_carb(nut_space[0]))\n",
    "print('Fiber ' + get_dietary_fiber(nut_space[0]))\n",
    "print(\"Sugars \"+get_sugars(nut_space[0]))\n",
    "print('Protein '+get_protein(nut_space[0]))\n",
    "print(\"Vitamin A \"+get_vitamin_a(nut_soup))\n",
    "print(\"Vitamin C \"+get_vitamin_c(nut_soup))\n",
    "print(\"Calcium \"+get_calcium(nut_soup))\n",
    "print(\"Iron \"+get_iron(nut_soup))"
   ]
  },
  {
   "cell_type": "code",
   "execution_count": null,
   "metadata": {
    "collapsed": true
   },
   "outputs": [],
   "source": [
    "print(\"Saturated Fat \"+ get_saturated_fat(nut_space[0]))\n",
    "print(\"Trans Fat \" + get_trans_fat(nut_space[0]))\n"
   ]
  },
  {
   "cell_type": "code",
   "execution_count": 104,
   "metadata": {
    "collapsed": true
   },
   "outputs": [],
   "source": [
    "def get_saturated_fat(result_set):\n",
    "    tds = result_set.findAll('td')\n",
    "    for td in tds:\n",
    "        font_text = td.find('font')\n",
    "        if font_text == None:\n",
    "            pass\n",
    "        else:\n",
    "            font_text = font_text.text.strip()\n",
    "            if font_text.find('Saturated Fat') != -1:\n",
    "                    sat_fat = font_text.replace('\\xa0', u'').strip()\n",
    "                    sat_fat = sat_fat.replace('Saturated Fat', u'').strip()\n",
    "                    return sat_fat\n",
    "    return 'not found'"
   ]
  },
  {
   "cell_type": "code",
   "execution_count": 105,
   "metadata": {
    "collapsed": false
   },
   "outputs": [
    {
     "data": {
      "text/plain": [
       "'1g'"
      ]
     },
     "execution_count": 105,
     "metadata": {},
     "output_type": "execute_result"
    }
   ],
   "source": [
    "print(get_saturated_fat(nut_space[0])"
   ]
  },
  {
   "cell_type": "code",
   "execution_count": 108,
   "metadata": {
    "collapsed": true
   },
   "outputs": [],
   "source": [
    "def get_trans_fat(result_set):\n",
    "    tds = result_set.findAll('td')\n",
    "    for td in tds:\n",
    "        font_text = td.find('font')\n",
    "        if font_text == None:\n",
    "            pass\n",
    "        else:\n",
    "            font_text = font_text.text.strip()\n",
    "            if font_text.find('Trans Fat') != -1:\n",
    "                    trans_fat = font_text.replace('\\xa0', u'').strip()\n",
    "                    trans_fat = trans_fat.replace('Trans Fat', u'').strip()\n",
    "                    return trans_fat\n",
    "    return 'not found'"
   ]
  },
  {
   "cell_type": "code",
   "execution_count": 109,
   "metadata": {
    "collapsed": false
   },
   "outputs": [
    {
     "data": {
      "text/plain": [
       "'0g'"
      ]
     },
     "execution_count": 109,
     "metadata": {},
     "output_type": "execute_result"
    }
   ],
   "source": [
    "get_trans_fat(nut_space[0])"
   ]
  },
  {
   "cell_type": "code",
   "execution_count": 110,
   "metadata": {
    "collapsed": true
   },
   "outputs": [],
   "source": [
    "def get_cholesterol(result_set):\n",
    "    tds = result_set.findAll('td')\n",
    "    for td in tds:\n",
    "        b_space = td.find('b')\n",
    "        if b_space ==None:\n",
    "             pass\n",
    "        elif b_space.text.strip() == 'Cholesterol':\n",
    "            cholesterol = td.find('font').text.strip()\n",
    "            cholesterol = cholesterol.replace('Cholesterol', u'').strip()\n",
    "            cholesterol = cholesterol.replace('\\xa0', u'').strip()\n",
    "            return cholesterol\n",
    "            \n",
    "    return 'not found'"
   ]
  },
  {
   "cell_type": "code",
   "execution_count": 111,
   "metadata": {
    "collapsed": false
   },
   "outputs": [
    {
     "data": {
      "text/plain": [
       "'45mg'"
      ]
     },
     "execution_count": 111,
     "metadata": {},
     "output_type": "execute_result"
    }
   ],
   "source": [
    "get_cholesterol(nut_space[0])"
   ]
  },
  {
   "cell_type": "code",
   "execution_count": 112,
   "metadata": {
    "collapsed": true
   },
   "outputs": [],
   "source": [
    "def get_sodium(result_set):\n",
    "    tds = result_set.findAll('td')\n",
    "    for td in tds:\n",
    "        b_space = td.find('b')\n",
    "        if b_space ==None:\n",
    "             pass\n",
    "        elif b_space.text.strip() == 'Sodium':\n",
    "            sodium = td.find('font').text.strip()\n",
    "            sodium = sodium.replace('Sodium', u'').strip()\n",
    "            sodium = sodium.replace('\\xa0', u'').strip()\n",
    "            return sodium\n",
    "            \n",
    "    return 'not found'"
   ]
  },
  {
   "cell_type": "code",
   "execution_count": 113,
   "metadata": {
    "collapsed": false
   },
   "outputs": [
    {
     "data": {
      "text/plain": [
       "'110mg'"
      ]
     },
     "execution_count": 113,
     "metadata": {},
     "output_type": "execute_result"
    }
   ],
   "source": [
    "get_sodium(nut_space[0])"
   ]
  },
  {
   "cell_type": "code",
   "execution_count": 115,
   "metadata": {
    "collapsed": true
   },
   "outputs": [],
   "source": [
    "def get_potassium(result_set):\n",
    "    tds = result_set.findAll('td')\n",
    "    for td in tds:\n",
    "        b_space = td.find('b')\n",
    "        if b_space ==None:\n",
    "             pass\n",
    "        elif b_space.text.strip() == 'Potassium':\n",
    "            potassium = td.find('font').text.strip()\n",
    "            potassium = potassium.replace('Potassium', u'').strip()\n",
    "            potassium = potassium.replace('\\xa0', u'').strip()\n",
    "            return potassium\n",
    "    return 'not found'"
   ]
  },
  {
   "cell_type": "code",
   "execution_count": 116,
   "metadata": {
    "collapsed": false
   },
   "outputs": [
    {
     "data": {
      "text/plain": [
       "'150mg'"
      ]
     },
     "execution_count": 116,
     "metadata": {},
     "output_type": "execute_result"
    }
   ],
   "source": [
    "get_potassium(nut_space[0])"
   ]
  },
  {
   "cell_type": "code",
   "execution_count": 117,
   "metadata": {
    "collapsed": true
   },
   "outputs": [],
   "source": [
    "#Could just make these generic\n",
    "def get_sugars(result_set):\n",
    "    tds = result_set.findAll('td')\n",
    "    for td in tds:\n",
    "        font_text = td.find('font')\n",
    "        if font_text == None:\n",
    "            pass\n",
    "        else:\n",
    "            font_text = font_text.text.strip()\n",
    "            if font_text.find('Sugars') != -1:\n",
    "                    sugars = font_text.replace('\\xa0', u'').strip()\n",
    "                    sugars = sugars.replace('Sugars', u'').strip()\n",
    "                    return sugars\n",
    "    return 'not found'"
   ]
  },
  {
   "cell_type": "code",
   "execution_count": 127,
   "metadata": {
    "collapsed": false
   },
   "outputs": [
    {
     "data": {
      "text/plain": [
       "'0g'"
      ]
     },
     "execution_count": 127,
     "metadata": {},
     "output_type": "execute_result"
    }
   ],
   "source": [
    "get_sugars(nut_space[0])"
   ]
  },
  {
   "cell_type": "code",
   "execution_count": null,
   "metadata": {
    "collapsed": true
   },
   "outputs": [],
   "source": []
  },
  {
   "cell_type": "code",
   "execution_count": 123,
   "metadata": {
    "collapsed": true
   },
   "outputs": [],
   "source": [
    "def get_vitamin_a(all_soup):\n",
    "    tds = all_soup.findAll('td')\n",
    "    for td in tds:\n",
    "        font_text = td.find('font')\n",
    "        if font_text == None:\n",
    "            pass\n",
    "        else:\n",
    "            font_text = font_text.text.strip()\n",
    "            if font_text.find('Vitamin A') != -1:\n",
    "                    vit_a = font_text.replace('\\xa0', u'').strip()\n",
    "                    vit_a = vit_a.replace('Vitamin A', u'').strip()\n",
    "                    return vit_a\n",
    "    return 'not found'"
   ]
  },
  {
   "cell_type": "code",
   "execution_count": 124,
   "metadata": {
    "collapsed": false
   },
   "outputs": [
    {
     "data": {
      "text/plain": [
       "'2%'"
      ]
     },
     "execution_count": 124,
     "metadata": {},
     "output_type": "execute_result"
    }
   ],
   "source": [
    "get_vitamin_a(nut_soup)"
   ]
  },
  {
   "cell_type": "code",
   "execution_count": 128,
   "metadata": {
    "collapsed": true
   },
   "outputs": [],
   "source": [
    "def get_vitamin_c(all_soup):\n",
    "    tds = all_soup.findAll('td')\n",
    "    for td in tds:\n",
    "        font_text = td.find('font')\n",
    "        if font_text == None:\n",
    "            pass\n",
    "        else:\n",
    "            font_text = font_text.text.strip()\n",
    "            if font_text.find('Vitamin C') != -1:\n",
    "                    vit_c = font_text.replace('\\xa0', u'').strip()\n",
    "                    vit_c = vit_c.replace('Vitamin C', u'').strip()\n",
    "                    return vit_c\n",
    "    return 'not found'"
   ]
  },
  {
   "cell_type": "code",
   "execution_count": 129,
   "metadata": {
    "collapsed": false
   },
   "outputs": [
    {
     "data": {
      "text/plain": [
       "'0%'"
      ]
     },
     "execution_count": 129,
     "metadata": {},
     "output_type": "execute_result"
    }
   ],
   "source": [
    "get_vitamin_c(nut_soup)"
   ]
  },
  {
   "cell_type": "code",
   "execution_count": 130,
   "metadata": {
    "collapsed": true
   },
   "outputs": [],
   "source": [
    "def get_calcium(all_soup):\n",
    "    tds = all_soup.findAll('td')\n",
    "    for td in tds:\n",
    "        font_text = td.find('font')\n",
    "        if font_text == None:\n",
    "            pass\n",
    "        else:\n",
    "            font_text = font_text.text.strip()\n",
    "            if font_text.find('Calcium') != -1:\n",
    "                    calcium = font_text.replace('\\xa0', u'').strip()\n",
    "                    calcium = calcium.replace('Calcium', u'').strip()\n",
    "                    return calcium\n",
    "    return 'not found'"
   ]
  },
  {
   "cell_type": "code",
   "execution_count": 131,
   "metadata": {
    "collapsed": false
   },
   "outputs": [
    {
     "data": {
      "text/plain": [
       "'0%'"
      ]
     },
     "execution_count": 131,
     "metadata": {},
     "output_type": "execute_result"
    }
   ],
   "source": [
    "get_calcium(nut_soup)"
   ]
  },
  {
   "cell_type": "code",
   "execution_count": 132,
   "metadata": {
    "collapsed": true
   },
   "outputs": [],
   "source": [
    "def get_iron(all_soup):\n",
    "    tds = all_soup.findAll('td')\n",
    "    for td in tds:\n",
    "        font_text = td.find('font')\n",
    "        if font_text == None:\n",
    "            pass\n",
    "        else:\n",
    "            font_text = font_text.text.strip()\n",
    "            if font_text.find('Iron') != -1:\n",
    "                    iron = font_text.replace('\\xa0', u'').strip()\n",
    "                    iron = iron.replace('Iron', u'').strip()\n",
    "                    return iron\n",
    "    return 'not found'"
   ]
  },
  {
   "cell_type": "code",
   "execution_count": 133,
   "metadata": {
    "collapsed": false
   },
   "outputs": [
    {
     "data": {
      "text/plain": [
       "'2%'"
      ]
     },
     "execution_count": 133,
     "metadata": {},
     "output_type": "execute_result"
    }
   ],
   "source": [
    "get_iron(nut_soup)"
   ]
  },
  {
   "cell_type": "code",
   "execution_count": 153,
   "metadata": {
    "collapsed": true
   },
   "outputs": [],
   "source": [
    "def get_brand_name(all_soup):\n",
    "    h2_all = all_soup.findAll('h2')\n",
    "    for h2 in h2_all:\n",
    "        if h2.find('a') != None:\n",
    "            if h2.find('a').text.strip().find('Nutrition Facts') != -1:\n",
    "                brand_name = h2.find('a').text.strip().replace('Nutrition Facts', u'').strip()\n",
    "                return brand_name\n",
    "    return 'not found'"
   ]
  },
  {
   "cell_type": "code",
   "execution_count": 154,
   "metadata": {
    "collapsed": false
   },
   "outputs": [
    {
     "data": {
      "text/plain": [
       "'Qdoba Mexican Grill®'"
      ]
     },
     "execution_count": 154,
     "metadata": {},
     "output_type": "execute_result"
    }
   ],
   "source": [
    "get_brand_name(nut_soup)"
   ]
  },
  {
   "cell_type": "code",
   "execution_count": null,
   "metadata": {
    "collapsed": true
   },
   "outputs": [],
   "source": [
    "def get_item_desc(all_soup):"
   ]
  },
  {
   "cell_type": "code",
   "execution_count": 73,
   "metadata": {
    "collapsed": false
   },
   "outputs": [
    {
     "name": "stdout",
     "output_type": "stream",
     "text": [
      "0\n",
      "-1\n"
     ]
    }
   ],
   "source": [
    "text = 'wow'\n",
    "print( text.find('wo'))\n",
    "print(text.find('bob'))"
   ]
  },
  {
   "cell_type": "code",
   "execution_count": null,
   "metadata": {
    "collapsed": true
   },
   "outputs": [],
   "source": [
    "b_all = nut_space[0].findAll('b')"
   ]
  },
  {
   "cell_type": "code",
   "execution_count": 16,
   "metadata": {
    "collapsed": false
   },
   "outputs": [
    {
     "ename": "IndexError",
     "evalue": "list index out of range",
     "output_type": "error",
     "traceback": [
      "\u001b[0;31m---------------------------------------------------------------------------\u001b[0m",
      "\u001b[0;31mIndexError\u001b[0m                                Traceback (most recent call last)",
      "\u001b[0;32m<ipython-input-16-52d6d1e165c4>\u001b[0m in \u001b[0;36m<module>\u001b[0;34m()\u001b[0m\n\u001b[0;32m----> 1\u001b[0;31m \u001b[0mbr_all\u001b[0m\u001b[1;33m[\u001b[0m\u001b[0mlen\u001b[0m\u001b[1;33m(\u001b[0m\u001b[0mbr_all\u001b[0m\u001b[1;33m)\u001b[0m\u001b[1;33m]\u001b[0m\u001b[1;33m\u001b[0m\u001b[0m\n\u001b[0m",
      "\u001b[0;31mIndexError\u001b[0m: list index out of range"
     ]
    }
   ],
   "source": [
    "br_all[len(br_all)]"
   ]
  },
  {
   "cell_type": "code",
   "execution_count": 8,
   "metadata": {
    "collapsed": false
   },
   "outputs": [
    {
     "ename": "IndexError",
     "evalue": "list index out of range",
     "output_type": "error",
     "traceback": [
      "\u001b[0;31m---------------------------------------------------------------------------\u001b[0m",
      "\u001b[0;31mIndexError\u001b[0m                                Traceback (most recent call last)",
      "\u001b[0;32m<ipython-input-8-4d68dffcdb85>\u001b[0m in \u001b[0;36m<module>\u001b[0;34m()\u001b[0m\n\u001b[1;32m     10\u001b[0m \u001b[0msodium\u001b[0m \u001b[1;33m=\u001b[0m \u001b[0mnut_space\u001b[0m\u001b[1;33m[\u001b[0m\u001b[1;36m0\u001b[0m\u001b[1;33m]\u001b[0m\u001b[1;33m.\u001b[0m\u001b[0mfind\u001b[0m\u001b[1;33m(\u001b[0m\u001b[1;34m'td'\u001b[0m\u001b[1;33m)\u001b[0m\u001b[1;33m.\u001b[0m\u001b[0mfindAll\u001b[0m\u001b[1;33m(\u001b[0m\u001b[1;34m'font'\u001b[0m\u001b[1;33m)\u001b[0m\u001b[1;33m[\u001b[0m\u001b[1;36m13\u001b[0m\u001b[1;33m]\u001b[0m\u001b[1;33m.\u001b[0m\u001b[0mtext\u001b[0m\u001b[1;33m\u001b[0m\u001b[0m\n\u001b[1;32m     11\u001b[0m \u001b[0mtotal_carb\u001b[0m \u001b[1;33m=\u001b[0m \u001b[0mnut_space\u001b[0m\u001b[1;33m[\u001b[0m\u001b[1;36m0\u001b[0m\u001b[1;33m]\u001b[0m\u001b[1;33m.\u001b[0m\u001b[0mfind\u001b[0m\u001b[1;33m(\u001b[0m\u001b[1;34m'td'\u001b[0m\u001b[1;33m)\u001b[0m\u001b[1;33m.\u001b[0m\u001b[0mfindAll\u001b[0m\u001b[1;33m(\u001b[0m\u001b[1;34m'font'\u001b[0m\u001b[1;33m)\u001b[0m\u001b[1;33m[\u001b[0m\u001b[1;36m15\u001b[0m\u001b[1;33m]\u001b[0m\u001b[1;33m.\u001b[0m\u001b[0mtext\u001b[0m\u001b[1;33m\u001b[0m\u001b[0m\n\u001b[0;32m---> 12\u001b[0;31m \u001b[0mtotal_fiber\u001b[0m \u001b[1;33m=\u001b[0m \u001b[0mnut_space\u001b[0m\u001b[1;33m[\u001b[0m\u001b[1;36m0\u001b[0m\u001b[1;33m]\u001b[0m\u001b[1;33m.\u001b[0m\u001b[0mfind\u001b[0m\u001b[1;33m(\u001b[0m\u001b[1;34m'td'\u001b[0m\u001b[1;33m)\u001b[0m\u001b[1;33m.\u001b[0m\u001b[0mfindAll\u001b[0m\u001b[1;33m(\u001b[0m\u001b[1;34m'font'\u001b[0m\u001b[1;33m)\u001b[0m\u001b[1;33m[\u001b[0m\u001b[1;36m17\u001b[0m\u001b[1;33m]\u001b[0m\u001b[1;33m.\u001b[0m\u001b[0mtext\u001b[0m\u001b[1;33m\u001b[0m\u001b[0m\n\u001b[0m\u001b[1;32m     13\u001b[0m \u001b[0mtotal_protein\u001b[0m \u001b[1;33m=\u001b[0m \u001b[0mnut_space\u001b[0m\u001b[1;33m[\u001b[0m\u001b[1;36m0\u001b[0m\u001b[1;33m]\u001b[0m\u001b[1;33m.\u001b[0m\u001b[0mfind\u001b[0m\u001b[1;33m(\u001b[0m\u001b[1;34m'td'\u001b[0m\u001b[1;33m)\u001b[0m\u001b[1;33m.\u001b[0m\u001b[0mfindAll\u001b[0m\u001b[1;33m(\u001b[0m\u001b[1;34m'font'\u001b[0m\u001b[1;33m)\u001b[0m\u001b[1;33m[\u001b[0m\u001b[1;36m19\u001b[0m\u001b[1;33m]\u001b[0m\u001b[1;33m.\u001b[0m\u001b[0mtext\u001b[0m\u001b[1;33m\u001b[0m\u001b[0m\n\u001b[1;32m     14\u001b[0m \u001b[0mnutrients_list\u001b[0m \u001b[1;33m=\u001b[0m \u001b[1;33m[\u001b[0m\u001b[0mserving_size\u001b[0m\u001b[1;33m,\u001b[0m\u001b[0mcalories\u001b[0m\u001b[1;33m,\u001b[0m\u001b[0mcalories_from_fat\u001b[0m\u001b[1;33m,\u001b[0m \u001b[0mtotal_fat\u001b[0m\u001b[1;33m,\u001b[0m \u001b[0msaturated_fat\u001b[0m\u001b[1;33m,\u001b[0m \u001b[0mcholesterol\u001b[0m\u001b[1;33m,\u001b[0m \u001b[0msodium\u001b[0m\u001b[1;33m,\u001b[0m\u001b[0mtotal_carb\u001b[0m\u001b[1;33m,\u001b[0m \u001b[0mtotal_fiber\u001b[0m\u001b[1;33m,\u001b[0m\u001b[0mtotal_protein\u001b[0m\u001b[1;33m]\u001b[0m\u001b[1;33m\u001b[0m\u001b[0m\n",
      "\u001b[0;31mIndexError\u001b[0m: list index out of range"
     ]
    }
   ],
   "source": [
    "nut_space = nut_soup.findAll('basefont')[1].findAll('tr')\n",
    "# Extracting Variables\n",
    "product_name = nut_soup.find('h1').text\n",
    "serving_size = nut_space[0].find('td').findAll('nobr')[0].text + ' ' + nut_space[0].find('td').findAll('nobr')[1].text\n",
    "calories = nut_space[0].find('td').findAll('font')[3].text\n",
    "calories_from_fat = nut_space[0].find('td').findAll('nobr')[2].text\n",
    "total_fat = nut_space[0].find('td').findAll('font')[6].text+' '+nut_space[0].find('td').findAll('font')[7].text\n",
    "saturated_fat = nut_space[0].find('td').findAll('font')[9].text\n",
    "cholesterol = nut_space[0].find('td').findAll('font')[11].text\n",
    "sodium = nut_space[0].find('td').findAll('font')[13].text\n",
    "total_carb = nut_space[0].find('td').findAll('font')[15].text\n",
    "total_fiber = nut_space[0].find('td').findAll('font')[17].text\n",
    "total_protein = nut_space[0].find('td').findAll('font')[19].text\n",
    "nutrients_list = [serving_size,calories,calories_from_fat, total_fat, saturated_fat, cholesterol, sodium,total_carb, total_fiber,total_protein]\n",
    "nutrient_col = []\n",
    "value_col =[]\n",
    "for item in nutrients_list:\n",
    "    new_item = item.replace('\\xa0',u' ').strip()\n",
    "    if len(re.split(u'  ', new_item))==2:\n",
    "        nutrient_col.append(re.split(u'  ', new_item)[0])\n",
    "        value_col.append(re.split(u'  ', new_item)[1])\n",
    "    else:\n",
    "        nutrient_col.append(re.split(u' ', new_item)[0])\n",
    "        value_col.append(re.split(u' ', new_item)[1])\n",
    "nutrient_df = pd.DataFrame([value_col],columns=nutrient_col)\n",
    "item_name_df = pd.DataFrame([{'Item Name':product_name}])\n",
    "nutrient_df = pd.concat([item_name_df, nutrient_df], axis=1)"
   ]
  },
  {
   "cell_type": "code",
   "execution_count": 150,
   "metadata": {
    "collapsed": false
   },
   "outputs": [],
   "source": [
    "def parse_nut_info(nut_soup):\n",
    "    # Getting the Right Soup\n",
    "    # without using classes\n",
    "    nut_space = nut_soup.findAll('basefont')[1].findAll('tr')\n",
    "    # Item name\n",
    "    item_name = nut_soup.find('h1').text\n",
    "    # Extracting Variables\n",
    "    serving_size = get_serving_size(nut_space[0])\n",
    "    calories = get_calories(nut_space[0])\n",
    "    total_fat = get_total_fat(nut_space[0])\n",
    "    sat_fat = get_saturated_fat(nut_space[0])\n",
    "    trans_fat = get_trans_fat(nut_space[0])\n",
    "    cholesterol = get_cholesterol(nut_space[0])\n",
    "    sodium = get_sodium(nut_space[0])\n",
    "    potassium = get_potassium(nut_space[0])\n",
    "    carb = get_total_carb(nut_space[0])\n",
    "    fiber = get_dietary_fiber(nut_space[0])\n",
    "    sugars = get_sugars(nut_space[0])\n",
    "    protein = get_protein(nut_space[0])\n",
    "    vit_a = get_vitamin_a(nut_soup)\n",
    "    vit_c = get_vitamin_c(nut_soup)\n",
    "    calcium = get_calcium(nut_soup)\n",
    "    iron = get_iron(nut_soup)\n",
    "    \n",
    "    nutrient_df = pd.DataFrame([{\n",
    "            'item_name':item_name,\n",
    "            'serving_size':serving_size,\n",
    "            'calories':calories,\n",
    "            'fat_g':total_fat,\n",
    "            'saturated_fat_g':sat_fat,\n",
    "            'trans_fat_g':trans_fat,\n",
    "            'cholesterol_mg':cholesterol,\n",
    "            'sodium_mg':sodium,\n",
    "            'potassium_mg':potassium,\n",
    "            'carb_g':carb,\n",
    "            'fiber_g':fiber,\n",
    "            'sugar_g':sugars,\n",
    "            'protein_g':protein,\n",
    "            'vit_a_perc':vit_a,\n",
    "            'vit_c_perc':vit_c,\n",
    "            'calcium_perc':calcium,\n",
    "            'iron_perc':iron\n",
    "            }])\n",
    "\n",
    "    return nutrient_df"
   ]
  }
 ],
 "metadata": {
  "kernelspec": {
   "display_name": "Python 3",
   "language": "python",
   "name": "python3"
  },
  "language_info": {
   "codemirror_mode": {
    "name": "ipython",
    "version": 3
   },
   "file_extension": ".py",
   "mimetype": "text/x-python",
   "name": "python",
   "nbconvert_exporter": "python",
   "pygments_lexer": "ipython3",
   "version": "3.6.0"
  }
 },
 "nbformat": 4,
 "nbformat_minor": 2
}
