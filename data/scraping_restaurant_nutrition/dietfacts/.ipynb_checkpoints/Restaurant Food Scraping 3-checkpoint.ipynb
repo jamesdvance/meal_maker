{
 "cells": [
  {
   "cell_type": "code",
   "execution_count": 22,
   "metadata": {
    "collapsed": false
   },
   "outputs": [],
   "source": [
    "from bs4 import BeautifulSoup\n",
    "import requests \n",
    "import pandas as pd\n",
    "import numpy as np\n",
    "import time\n",
    "import re\n",
    "import sys\n",
    "sys.path.append('C:/Users/J/Desktop/Git_Repositories/scraping_restaurant_nutrition')\n",
    "from nutrient_finder_functions_w_nan import *"
   ]
  },
  {
   "cell_type": "code",
   "execution_count": 2,
   "metadata": {
    "collapsed": true
   },
   "outputs": [],
   "source": [
    "def parse_nut_info(nut_soup):\n",
    "    # Getting the Right Soup\n",
    "    # without using classes\n",
    "    nut_space = nut_soup.findAll('basefont')[1].findAll('tr')\n",
    "    # Item name\n",
    "    item_name = nut_soup.find('h1').text\n",
    "    # Extracting Variables\n",
    "    serving_size = get_serving_size(nut_space[0])\n",
    "    calories = get_calories(nut_space[0])\n",
    "    total_fat = get_total_fat(nut_space[0])\n",
    "    sat_fat = get_saturated_fat(nut_space[0])\n",
    "    trans_fat = get_trans_fat(nut_space[0])\n",
    "    cholesterol = get_cholesterol(nut_space[0])\n",
    "    sodium = get_sodium(nut_space[0])\n",
    "    potassium = get_potassium(nut_space[0])\n",
    "    carb = get_total_carb(nut_space[0])\n",
    "    fiber = get_dietary_fiber(nut_space[0])\n",
    "    sugars = get_sugars(nut_space[0])\n",
    "    protein = get_protein(nut_space[0])\n",
    "    vit_a = get_vitamin_a(nut_soup)\n",
    "    vit_c = get_vitamin_c(nut_soup)\n",
    "    calcium = get_calcium(nut_soup)\n",
    "    iron = get_iron(nut_soup)\n",
    "    \n",
    "    nutrient_df = pd.DataFrame([{\n",
    "            'item_name':item_name,\n",
    "            'serving_size':serving_size,\n",
    "            'calories':calories,\n",
    "            'fat_g':total_fat,\n",
    "            'saturated_fat_g':sat_fat,\n",
    "            'trans_fat_g':trans_fat,\n",
    "            'cholesterol_mg':cholesterol,\n",
    "            'sodium_mg':sodium,\n",
    "            'potassium_mg':potassium,\n",
    "            'carb_g':carb,\n",
    "            'fiber_g':fiber,\n",
    "            'sugar_g':sugars,\n",
    "            'protein_g':protein,\n",
    "            'vit_a_perc':vit_a,\n",
    "            'vit_c_perc':vit_c,\n",
    "            'calcium_perc':calcium,\n",
    "            'iron_perc':iron\n",
    "            }])\n",
    "\n",
    "    return nutrient_df"
   ]
  },
  {
   "cell_type": "code",
   "execution_count": 9,
   "metadata": {
    "collapsed": true
   },
   "outputs": [],
   "source": [
    "nut_page = requests.get('http://www.dietfacts.com/html/nutrition-facts/dunkin-donuts-wake-up-wrap-with-bacon-bacon-scrambled62220.htm')"
   ]
  },
  {
   "cell_type": "code",
   "execution_count": 23,
   "metadata": {
    "collapsed": true
   },
   "outputs": [],
   "source": [
    "nut_soup = BeautifulSoup(nut_page.text, 'html.parser')\n",
    "results = parse_nut_info(nut_soup)"
   ]
  },
  {
   "cell_type": "code",
   "execution_count": 27,
   "metadata": {
    "collapsed": true
   },
   "outputs": [],
   "source": [
    "def get_calcium(all_soup):\n",
    "    tds = all_soup.findAll('td')\n",
    "    for td in tds:\n",
    "        font_text = td.find('font',attrs={'size':'2','face':'Verdana','color':'#666699' })\n",
    "        if font_text == None:\n",
    "            pass\n",
    "        else:\n",
    "            font_text = font_text.text.strip()\n",
    "            if font_text.find('Calcium') != -1:\n",
    "                    calcium = font_text.replace('\\xa0', u'').strip()\n",
    "                    calcium = calcium.replace('Calcium', u'').strip()\n",
    "                    return calcium\n",
    "    return np.nan"
   ]
  },
  {
   "cell_type": "code",
   "execution_count": 28,
   "metadata": {
    "collapsed": false
   },
   "outputs": [
    {
     "data": {
      "text/plain": [
       "'10%'"
      ]
     },
     "execution_count": 28,
     "metadata": {},
     "output_type": "execute_result"
    }
   ],
   "source": [
    "get_calcium(nut_soup)"
   ]
  },
  {
   "cell_type": "code",
   "execution_count": 4,
   "metadata": {
    "collapsed": true
   },
   "outputs": [],
   "source": [
    "page = requests.get('http://www.dietfacts.com/list.asp?brand=Panera+Bread')\n",
    "brand_soup = BeautifulSoup(page.text, 'html.parser')"
   ]
  },
  {
   "cell_type": "code",
   "execution_count": 10,
   "metadata": {
    "collapsed": true
   },
   "outputs": [],
   "source": [
    "def n_items(page_soup):\n",
    "    tds = page_soup.findAll('td')\n",
    "    for td in tds:\n",
    "        bs = td.findAll('b')\n",
    "        if bs != None:\n",
    "            for b in bs:\n",
    "                if b.text.strip().find('Page 1 of') !=-1:\n",
    "                    page_ind = b.text.strip()\n",
    "                    page_ind = page_ind.replace('Page 1 of ',u'').strip()\n",
    "                    return page_ind\n",
    "                \n",
    "    return \"not found\""
   ]
  },
  {
   "cell_type": "code",
   "execution_count": 12,
   "metadata": {
    "collapsed": false
   },
   "outputs": [],
   "source": [
    "n_pages = n_items(brand_soup)"
   ]
  },
  {
   "cell_type": "code",
   "execution_count": 18,
   "metadata": {
    "collapsed": true
   },
   "outputs": [],
   "source": [
    "page_url = 'http://www.dietfacts.com/list.asp?brand=Panera+Bread'"
   ]
  },
  {
   "cell_type": "code",
   "execution_count": 23,
   "metadata": {
    "collapsed": false
   },
   "outputs": [],
   "source": [
    "page_links = []\n",
    "for i in range(2,int(n_pages)+1):\n",
    "    page_links.append(page_url+'&page='+str(i))"
   ]
  },
  {
   "cell_type": "code",
   "execution_count": 24,
   "metadata": {
    "collapsed": false
   },
   "outputs": [
    {
     "data": {
      "text/plain": [
       "['http://www.dietfacts.com/list.asp?brand=Panera+Bread&page=2',\n",
       " 'http://www.dietfacts.com/list.asp?brand=Panera+Bread&page=3',\n",
       " 'http://www.dietfacts.com/list.asp?brand=Panera+Bread&page=4',\n",
       " 'http://www.dietfacts.com/list.asp?brand=Panera+Bread&page=5',\n",
       " 'http://www.dietfacts.com/list.asp?brand=Panera+Bread&page=6',\n",
       " 'http://www.dietfacts.com/list.asp?brand=Panera+Bread&page=7',\n",
       " 'http://www.dietfacts.com/list.asp?brand=Panera+Bread&page=8',\n",
       " 'http://www.dietfacts.com/list.asp?brand=Panera+Bread&page=9']"
      ]
     },
     "execution_count": 24,
     "metadata": {},
     "output_type": "execute_result"
    }
   ],
   "source": [
    "page_links"
   ]
  },
  {
   "cell_type": "code",
   "execution_count": 43,
   "metadata": {
    "collapsed": true
   },
   "outputs": [],
   "source": [
    "base_url = 'http://www.dietfacts.com/'"
   ]
  },
  {
   "cell_type": "code",
   "execution_count": 50,
   "metadata": {
    "collapsed": false
   },
   "outputs": [],
   "source": [
    "a_links = brand_soup.findAll('table')[2].findAll('a')\n",
    "rest_links = []\n",
    "rest_food_names = []\n",
    "rest_food_desc = []\n",
    "food_df = pd.DataFrame()\n",
    "for a in a_links:\n",
    "    href_res = a['href']\n",
    "    if href_res.find('html/nutrition-facts')!= -1:\n",
    "        if a.find('b') != None:\n",
    "            food_url = base_url+a['href']\n",
    "            nut_page = requests.get(food_url)\n",
    "            nut_soup = BeautifulSoup(nut_page.text, 'html.parser')\n",
    "            nut_df = parse_nut_info(nut_soup)\n",
    "            food_df = food_df.append(nut_df, ignore_index=True)\n"
   ]
  },
  {
   "cell_type": "code",
   "execution_count": 58,
   "metadata": {
    "collapsed": false
   },
   "outputs": [
    {
     "data": {
      "text/plain": [
       "<bound method DataFrame.drop_duplicates of    calcium_perc calories carb_g cholesterol_mg fat_g fiber_g  iron_perc  \\\n",
       "0     not found      260    34g           30mg   11g      1g  not found   \n",
       "1     not found      510    50g           85mg   30g      2g  not found   \n",
       "2     not found      390    40g            0mg   22g      1g  not found   \n",
       "3     not found      120    25g            0mg    0g      1g  not found   \n",
       "4     not found      120    25g            0mg    0g      1g  not found   \n",
       "5     not found      120    25g            0mg    0g      1g  not found   \n",
       "6     not found      110    23g            0mg    0g     <1g  not found   \n",
       "7     not found      110    23g            0mg    0g     <1g  not found   \n",
       "8     not found      140    26g            0mg    2g      1g  not found   \n",
       "9     not found      140    26g            0mg    2g      1g  not found   \n",
       "10    not found      120    24g            0mg  0.5g      1g  not found   \n",
       "11    not found      120    24g            0mg  0.5g      1g  not found   \n",
       "12    not found      140    25g            0mg  2.5g      1g  not found   \n",
       "13    not found      120    24g            0mg    0g      1g  not found   \n",
       "14    not found      120    24g            0mg    0g      1g  not found   \n",
       "15    not found      120    24g            0mg    0g      1g  not found   \n",
       "16    not found      110    22g            0mg    0g      2g  not found   \n",
       "17    not found      110    22g            0mg    0g      2g  not found   \n",
       "18    not found      120    21g            5mg  1.5g     <1g  not found   \n",
       "19    not found      120    21g            5mg  1.5g     <1g  not found   \n",
       "20    not found      120    21g            5mg  1.5g     <1g  not found   \n",
       "21    not found      130    23g            0mg    2g      1g  not found   \n",
       "22    not found      330    58g           15mg    5g      2g  not found   \n",
       "23    not found      230    16g           45mg   17g      1g  not found   \n",
       "24    not found      140    21g           10mg  3.5g     <1g  not found   \n",
       "25    not found      150    19g            5mg    6g      1g  not found   \n",
       "26    not found      140    21g           10mg  3.5g     <1g  not found   \n",
       "27    not found      730    54g          115mg   35g      2g  not found   \n",
       "28    not found      430    33g           70mg   19g      5g  not found   \n",
       "29    not found      770    84g           45mg   28g      5g  not found   \n",
       "\n",
       "                         item_name potassium_mg protein_g saturated_fat_g  \\\n",
       "0                  Apple Croissant    not found        4g              7g   \n",
       "1                     Apple Danish    not found        9g             15g   \n",
       "2             Apple Raisin Strudel    not found        4g              6g   \n",
       "3             Artisan Country Demi    not found        5g              0g   \n",
       "4             Artisan Country Loaf    not found        5g              0g   \n",
       "5            Artisan Country Miche    not found        5g              0g   \n",
       "6          Artisan French Baguette    not found        4g              0g   \n",
       "7             Artisan French Miche    not found        4g              0g   \n",
       "8      Artisan Kalamata Olive Demi    not found        5g              0g   \n",
       "9      Artisan Kalamata Olive Loaf    not found        5g              0g   \n",
       "10         Artisan Multigrain Loaf    not found        4g              0g   \n",
       "11        Artisan Multigrain Miche    not found        4g              0g   \n",
       "12      Artisan Raisin Pecan Boule    not found        4g              0g   \n",
       "13    Artisan Sesame Semolina Demi    not found        4g              0g   \n",
       "14    Artisan Sesame Semolina Loaf    not found        4g              0g   \n",
       "15   Artisan Sesame Semolina Miche    not found        4g              0g   \n",
       "16   Artisan Stone-Milled Rye Loaf    not found        4g              0g   \n",
       "17  Artisan Stone-Milled Rye Miche    not found        4g              0g   \n",
       "18       Artisan Three Cheese Demi    not found        5g              1g   \n",
       "19       Artisan Three Cheese Loaf    not found        5g              1g   \n",
       "20      Artisan Three Cheese Miche    not found        5g              1g   \n",
       "21         Artisan Three Seed Demi    not found        5g              0g   \n",
       "22             Asiago Cheese Bagel    not found       15g            2.5g   \n",
       "23            Asiago Cheese Bisque    not found        6g       not found   \n",
       "24              Asiago Cheese Demi    not found        7g              2g   \n",
       "25          Asiago Cheese Focaccia    not found        5g              2g   \n",
       "26              Asiago Cheese Loaf    not found        7g              2g   \n",
       "27      Asiago Roast Beef Sandwich    not found       50g             16g   \n",
       "28      Asian Sesame Chicken Salad    not found       32g              3g   \n",
       "29     Bacon Turkey Bravo Sandwich    not found       47g              9g   \n",
       "\n",
       "              serving_size sodium_mg    sugar_g trans_fat_g vit_a_perc  \\\n",
       "0     1 croissant  3.5 oz     230mg        17g   not found  not found   \n",
       "1        1 danish  5.5 oz     350mg        17g   not found  not found   \n",
       "2         1 piece  4.5 oz     330mg        18g   not found  not found   \n",
       "3                     2 oz     290mg         1g   not found  not found   \n",
       "4                     2 oz     290mg         1g   not found  not found   \n",
       "5                     2 oz     290mg         1g   not found  not found   \n",
       "6                     2 oz     310mg         1g   not found  not found   \n",
       "7                     2 oz     310mg         1g   not found  not found   \n",
       "8                     2 oz     270mg         1g   not found  not found   \n",
       "9                     2 oz     270mg         1g   not found  not found   \n",
       "10                    2 oz     230mg         1g   not found  not found   \n",
       "11                    2 oz     230mg         1g   not found  not found   \n",
       "12                    2 oz     280mg         5g   not found  not found   \n",
       "13                    2 oz     300mg         1g   not found  not found   \n",
       "14                    2 oz     300mg         1g   not found  not found   \n",
       "15                    2 oz     300mg         1g   not found  not found   \n",
       "16                    2 oz     320mg         1g   not found  not found   \n",
       "17                    2 oz     320mg         1g   not found  not found   \n",
       "18                    2 oz     270mg         1g   not found  not found   \n",
       "19                    2 oz     270mg         1g   not found  not found   \n",
       "20                    2 oz     270mg         1g   not found  not found   \n",
       "21                    2 oz     250mg         1g   not found  not found   \n",
       "22                 4.75 oz     480mg         5g   not found  not found   \n",
       "23           1 bowl  8 oz     700mg  not found   not found  not found   \n",
       "24                    2 oz     310mg         1g   not found  not found   \n",
       "25                    2 oz     300mg         1g   not found  not found   \n",
       "26                    2 oz     310mg         1g   not found  not found   \n",
       "27      1 sandwich  13 oz    1620mg         4g   not found  not found   \n",
       "28  1 salad  12 oz  336g    1080mg         7g          0g  not found   \n",
       "29    1 sandwich  14.5 oz    2850mg         6g   not found  not found   \n",
       "\n",
       "   vit_c_perc  \n",
       "0   not found  \n",
       "1   not found  \n",
       "2   not found  \n",
       "3   not found  \n",
       "4   not found  \n",
       "5   not found  \n",
       "6   not found  \n",
       "7   not found  \n",
       "8   not found  \n",
       "9   not found  \n",
       "10  not found  \n",
       "11  not found  \n",
       "12  not found  \n",
       "13  not found  \n",
       "14  not found  \n",
       "15  not found  \n",
       "16  not found  \n",
       "17  not found  \n",
       "18  not found  \n",
       "19  not found  \n",
       "20  not found  \n",
       "21  not found  \n",
       "22  not found  \n",
       "23  not found  \n",
       "24  not found  \n",
       "25  not found  \n",
       "26  not found  \n",
       "27  not found  \n",
       "28  not found  \n",
       "29  not found  >"
      ]
     },
     "execution_count": 58,
     "metadata": {},
     "output_type": "execute_result"
    }
   ],
   "source": [
    "food_df.drop_duplicates"
   ]
  }
 ],
 "metadata": {
  "kernelspec": {
   "display_name": "Python 3",
   "language": "python",
   "name": "python3"
  },
  "language_info": {
   "codemirror_mode": {
    "name": "ipython",
    "version": 3
   },
   "file_extension": ".py",
   "mimetype": "text/x-python",
   "name": "python",
   "nbconvert_exporter": "python",
   "pygments_lexer": "ipython3",
   "version": "3.6.0"
  }
 },
 "nbformat": 4,
 "nbformat_minor": 2
}
