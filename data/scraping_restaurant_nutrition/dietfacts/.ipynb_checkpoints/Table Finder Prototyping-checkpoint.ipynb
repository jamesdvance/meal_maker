{
 "cells": [
  {
   "cell_type": "code",
   "execution_count": 1,
   "metadata": {
    "collapsed": false
   },
   "outputs": [
    {
     "ename": "IndentationError",
     "evalue": "expected an indented block (nutrient_finder_functions.py, line 247)",
     "output_type": "error",
     "traceback": [
      "\u001b[0;36m  File \u001b[0;32m\"C:\\Users\\J\\Desktop\\Git_Repositories\\scraping_restaurant_nutrition\\nutrient_finder_functions.py\"\u001b[0;36m, line \u001b[0;32m247\u001b[0m\n\u001b[0;31m    time.sleep(20)\u001b[0m\n\u001b[0m       ^\u001b[0m\n\u001b[0;31mIndentationError\u001b[0m\u001b[0;31m:\u001b[0m expected an indented block\n"
     ]
    }
   ],
   "source": [
    "from bs4 import BeautifulSoup\n",
    "import requests \n",
    "import pandas as pd\n",
    "import numpy as np\n",
    "import time\n",
    "import re\n",
    "import sys\n",
    "sys.path.append('C:/Users/J/Desktop/Git_Repositories/scraping_restaurant_nutrition')\n",
    "from nutrient_finder_functions import *"
   ]
  },
  {
   "cell_type": "code",
   "execution_count": 2,
   "metadata": {
    "collapsed": true
   },
   "outputs": [],
   "source": [
    "\n",
    "pos_url = 'http://www.dietfacts.com/html/nutrition-facts/180-blue-with-acai-energy-drink-canned-66435.htm'\n",
    "neg_url = 'http://www.dietfacts.com/list.asp?brand=Jason_s+Deli'"
   ]
  },
  {
   "cell_type": "code",
   "execution_count": null,
   "metadata": {
    "collapsed": false
   },
   "outputs": [],
   "source": [
    "pos_page = requests.get(pos_url)\n",
    "pos_soup = BeautifulSoup(pos_page.text, 'html.parser')\n",
    "pos_result  = pos_soup.find('table', attrs={'width':'300'})"
   ]
  },
  {
   "cell_type": "code",
   "execution_count": 7,
   "metadata": {
    "collapsed": false
   },
   "outputs": [
    {
     "data": {
      "text/plain": [
       "False"
      ]
     },
     "execution_count": 7,
     "metadata": {},
     "output_type": "execute_result"
    }
   ],
   "source": [
    "pos_result ==None"
   ]
  },
  {
   "cell_type": "code",
   "execution_count": 8,
   "metadata": {
    "collapsed": true
   },
   "outputs": [],
   "source": [
    "neg_page = requests.get(neg_url)\n",
    "neg_soup = BeautifulSoup(neg_page.text, 'html.parser')\n",
    "neg_result  = neg_soup.find('table', attrs={'width':'300'})"
   ]
  },
  {
   "cell_type": "code",
   "execution_count": null,
   "metadata": {
    "collapsed": false
   },
   "outputs": [],
   "source": [
    "zero_finder(neg_url)"
   ]
  },
  {
   "cell_type": "code",
   "execution_count": null,
   "metadata": {
    "collapsed": true
   },
   "outputs": [],
   "source": [
    "zero_finder(pos_url)"
   ]
  },
  {
   "cell_type": "code",
   "execution_count": null,
   "metadata": {
    "collapsed": true
   },
   "outputs": [],
   "source": [
    "def zero_finder(page_url):\n",
    "    import requests\n",
    "    from bs4 import BeautifulSoup\n",
    "    page = requests.get(page_url)\n",
    "    soup = BeautifulSoup(page.text, 'html.parser')\n",
    "    if soup.find('table', attrs={'width':'300'})!=None:\n",
    "        return True\n",
    "    tds = soup.findAll('td')\n",
    "    for td in tds:\n",
    "        bs = td.findAll('b')\n",
    "        if bs != None:\n",
    "            for b in bs:\n",
    "                if b.text.strip().find('Page 1 of') !=-1:\n",
    "                    return True\n",
    "    return False"
   ]
  }
 ],
 "metadata": {
  "kernelspec": {
   "display_name": "Python 3",
   "language": "python",
   "name": "python3"
  }
 },
 "nbformat": 4,
 "nbformat_minor": 2
}
