{
 "cells": [
  {
   "cell_type": "code",
   "execution_count": 1,
   "metadata": {
    "collapsed": true
   },
   "outputs": [],
   "source": [
    "fd_grps_url = 'https://www.fatsecret.com/calories-nutrition/group/beans-and-legumes'"
   ]
  },
  {
   "cell_type": "code",
   "execution_count": 19,
   "metadata": {
    "collapsed": true
   },
   "outputs": [],
   "source": [
    "import requests\n",
    "from bs4 import BeautifulSoup\n",
    "import pandas as pd\n",
    "import numpy as np\n",
    "import unidecode\n",
    "import math"
   ]
  },
  {
   "cell_type": "code",
   "execution_count": 3,
   "metadata": {
    "collapsed": true
   },
   "outputs": [],
   "source": [
    "start_url = 'https://www.fatsecret.com/calories-nutrition/group/beans-and-legumes'"
   ]
  },
  {
   "cell_type": "code",
   "execution_count": 4,
   "metadata": {
    "collapsed": true
   },
   "outputs": [],
   "source": [
    "base_url = 'https://www.fatsecret.com'"
   ]
  },
  {
   "cell_type": "code",
   "execution_count": 5,
   "metadata": {
    "collapsed": false
   },
   "outputs": [],
   "source": [
    "start_pg = requests.get(start_url)\n",
    "start_soup = BeautifulSoup(start_pg.text, 'html.parser')"
   ]
  },
  {
   "cell_type": "code",
   "execution_count": 6,
   "metadata": {
    "collapsed": false
   },
   "outputs": [],
   "source": [
    "grps_list_box = start_soup.find('div',attrs={'class':'linkHolder'}).find('table',attrs={'class':'common'})"
   ]
  },
  {
   "cell_type": "code",
   "execution_count": 7,
   "metadata": {
    "collapsed": true
   },
   "outputs": [],
   "source": [
    "group_soup = grps_list_box.findAll('tr')"
   ]
  },
  {
   "cell_type": "code",
   "execution_count": 8,
   "metadata": {
    "collapsed": true
   },
   "outputs": [],
   "source": [
    "groups = []\n",
    "group_links = []\n",
    "for group in group_soup:\n",
    "    groups.append(group.find('a').text.strip())\n",
    "    group_links.append(base_url + group.find('a')['href'])"
   ]
  },
  {
   "cell_type": "code",
   "execution_count": 21,
   "metadata": {
    "collapsed": false
   },
   "outputs": [
    {
     "data": {
      "text/plain": [
       "['Beans & Legumes',\n",
       " 'Beverages',\n",
       " 'Breads & Cereals',\n",
       " 'Cheese, Milk & Dairy',\n",
       " 'Eggs',\n",
       " 'Fast Food',\n",
       " 'Fish & Seafood',\n",
       " 'Fruit',\n",
       " 'Meat',\n",
       " 'Nuts & Seeds',\n",
       " 'Pasta, Rice & Noodles',\n",
       " 'Salads',\n",
       " 'Sauces, Spices & Spreads',\n",
       " 'Snacks',\n",
       " 'Soups',\n",
       " 'Sweets, Candy & Desserts',\n",
       " 'Vegetables',\n",
       " 'Other']"
      ]
     },
     "execution_count": 21,
     "metadata": {},
     "output_type": "execute_result"
    }
   ],
   "source": [
    "groups"
   ]
  },
  {
   "cell_type": "code",
   "execution_count": 9,
   "metadata": {
    "collapsed": true
   },
   "outputs": [],
   "source": [
    "food_sub_categories = start_soup.find('div', attrs={'class':'secHolder'})"
   ]
  },
  {
   "cell_type": "code",
   "execution_count": 10,
   "metadata": {
    "collapsed": true
   },
   "outputs": [],
   "source": [
    "food_sub_subcategory_names = food_sub_categories.findAll('h2')"
   ]
  },
  {
   "cell_type": "code",
   "execution_count": 11,
   "metadata": {
    "collapsed": false
   },
   "outputs": [],
   "source": [
    "sub_cat_names = []\n",
    "sub_cat_links = []\n",
    "for name in food_sub_subcategory_names:\n",
    "    sub_cat_names.append(name.text)\n",
    "    sub_cat_links.append(base_url+name.find('a')['href'])"
   ]
  },
  {
   "cell_type": "code",
   "execution_count": 12,
   "metadata": {
    "collapsed": false
   },
   "outputs": [
    {
     "data": {
      "text/plain": [
       "['https://www.fatsecret.com/calories-nutrition/food/baked-beans',\n",
       " 'https://www.fatsecret.com/calories-nutrition/food/beans',\n",
       " 'https://www.fatsecret.com/calories-nutrition/food/black-beans',\n",
       " 'https://www.fatsecret.com/calories-nutrition/food/chickpeas',\n",
       " 'https://www.fatsecret.com/calories-nutrition/food/green-beans',\n",
       " 'https://www.fatsecret.com/calories-nutrition/food/kidney-beans',\n",
       " 'https://www.fatsecret.com/calories-nutrition/food/lentils',\n",
       " 'https://www.fatsecret.com/calories-nutrition/food/lima-beans',\n",
       " 'https://www.fatsecret.com/calories-nutrition/food/pinto-beans',\n",
       " 'https://www.fatsecret.com/calories-nutrition/food/quinoa',\n",
       " 'https://www.fatsecret.com/calories-nutrition/food/refried-beans',\n",
       " 'https://www.fatsecret.com/calories-nutrition/food/tofu']"
      ]
     },
     "execution_count": 12,
     "metadata": {},
     "output_type": "execute_result"
    }
   ],
   "source": [
    "sub_cat_links"
   ]
  },
  {
   "cell_type": "code",
   "execution_count": 23,
   "metadata": {
    "collapsed": true
   },
   "outputs": [],
   "source": [
    "sub_cat_page = requests.get('https://www.fatsecret.com/calories-nutrition/food/beef')\n",
    "sub_cat_soup = BeautifulSoup(sub_cat_page.text,'html.parser')"
   ]
  },
  {
   "cell_type": "code",
   "execution_count": 24,
   "metadata": {
    "collapsed": true
   },
   "outputs": [],
   "source": [
    "# Gives the different tables for generic nutrition\n",
    "generic_box_sps = sub_cat_soup.findAll('table',attrs={'class':'generic nutrition'})"
   ]
  },
  {
   "cell_type": "code",
   "execution_count": 27,
   "metadata": {
    "collapsed": false
   },
   "outputs": [
    {
     "name": "stdout",
     "output_type": "stream",
     "text": [
      "Cooked Beef\n",
      "nan\n"
     ]
    }
   ],
   "source": [
    "names = []\n",
    "food_links = []\n",
    "for box in generic_box_sps:\n",
    "    if box.find('td', attrs={'class':'subtitle'}) != None:\n",
    "        fd_name = box.find('td', attrs={'class':'subtitle'}).text.strip()\n",
    "    else:\n",
    "        fd_name = np.nan\n",
    "    print(fd_name)\n",
    "    foods = box.findAll('tr', attrs={'class':'food'})\n",
    "    for food in foods:\n",
    "        # Loop through 'trs'\n",
    "        names.append(food.find('a').text)\n",
    "        food_links.append(base_url +  food.find('a')['href'])"
   ]
  },
  {
   "cell_type": "code",
   "execution_count": 45,
   "metadata": {
    "collapsed": false
   },
   "outputs": [
    {
     "data": {
      "text/plain": [
       "True"
      ]
     },
     "execution_count": 45,
     "metadata": {},
     "output_type": "execute_result"
    }
   ],
   "source": [
    "'food' in foods[10]['class']"
   ]
  },
  {
   "cell_type": "code",
   "execution_count": 40,
   "metadata": {
    "collapsed": false
   },
   "outputs": [
    {
     "data": {
      "text/plain": [
       "True"
      ]
     },
     "execution_count": 40,
     "metadata": {},
     "output_type": "execute_result"
    }
   ],
   "source": [
    "'food' in food['class']"
   ]
  },
  {
   "cell_type": "code",
   "execution_count": 39,
   "metadata": {
    "collapsed": false
   },
   "outputs": [
    {
     "data": {
      "text/plain": [
       "['food', 'last']"
      ]
     },
     "execution_count": 39,
     "metadata": {},
     "output_type": "execute_result"
    }
   ],
   "source": [
    "food['class']"
   ]
  },
  {
   "cell_type": "code",
   "execution_count": null,
   "metadata": {
    "collapsed": true
   },
   "outputs": [],
   "source": [
    "for box in generic_box_sps:\n",
    "    if box.find('td', attrs={'class':'subtitle'}) != None: # Check if these exist\n",
    "        rows = box.findAll('tr')\n",
    "        for row in rows:\n",
    "            if row.find('td',attrs={'class':'subtitle'})!= None:\n",
    "                fd_name = box.find('td', attrs={'class':'subtitle'}).text.strip()\n",
    "            else:\n",
    "                \n",
    "                \n",
    "    else:\n",
    "        fd_name = np.nan\n",
    "        foods = box.findAll('tr', attrs={'class':'food'})\n",
    "        for food in foods:\n",
    "        # Loop through 'trs'\n",
    "            names.append(food.find('a').text)\n",
    "            food_links.append(base_url +  food.find('a')['href'])"
   ]
  },
  {
   "cell_type": "code",
   "execution_count": 35,
   "metadata": {
    "collapsed": false
   },
   "outputs": [
    {
     "ename": "KeyError",
     "evalue": "'classs'",
     "output_type": "error",
     "traceback": [
      "\u001b[0;31m---------------------------------------------------------------------------\u001b[0m",
      "\u001b[0;31mKeyError\u001b[0m                                  Traceback (most recent call last)",
      "\u001b[0;32m<ipython-input-35-53f25d1448cb>\u001b[0m in \u001b[0;36m<module>\u001b[0;34m()\u001b[0m\n\u001b[0;32m----> 1\u001b[0;31m \u001b[0mfood\u001b[0m\u001b[1;33m[\u001b[0m\u001b[1;34m'classs'\u001b[0m\u001b[1;33m]\u001b[0m\u001b[1;33m\u001b[0m\u001b[0m\n\u001b[0m",
      "\u001b[0;32mC:\\ProgramData\\Anaconda3\\lib\\site-packages\\bs4\\element.py\u001b[0m in \u001b[0;36m__getitem__\u001b[0;34m(self, key)\u001b[0m\n\u001b[1;32m    995\u001b[0m         \"\"\"tag[key] returns the value of the 'key' attribute for the tag,\n\u001b[1;32m    996\u001b[0m         and throws an exception if it's not there.\"\"\"\n\u001b[0;32m--> 997\u001b[0;31m         \u001b[1;32mreturn\u001b[0m \u001b[0mself\u001b[0m\u001b[1;33m.\u001b[0m\u001b[0mattrs\u001b[0m\u001b[1;33m[\u001b[0m\u001b[0mkey\u001b[0m\u001b[1;33m]\u001b[0m\u001b[1;33m\u001b[0m\u001b[0m\n\u001b[0m\u001b[1;32m    998\u001b[0m \u001b[1;33m\u001b[0m\u001b[0m\n\u001b[1;32m    999\u001b[0m     \u001b[1;32mdef\u001b[0m \u001b[0m__iter__\u001b[0m\u001b[1;33m(\u001b[0m\u001b[0mself\u001b[0m\u001b[1;33m)\u001b[0m\u001b[1;33m:\u001b[0m\u001b[1;33m\u001b[0m\u001b[0m\n",
      "\u001b[0;31mKeyError\u001b[0m: 'classs'"
     ]
    }
   ],
   "source": [
    "food['classs']"
   ]
  },
  {
   "cell_type": "code",
   "execution_count": null,
   "metadata": {
    "collapsed": true
   },
   "outputs": [],
   "source": [
    "# Relationship type - primary or related"
   ]
  },
  {
   "cell_type": "code",
   "execution_count": null,
   "metadata": {
    "collapsed": true
   },
   "outputs": [],
   "source": [
    "food_url = 'https://www.fatsecret.com/calories-nutrition/usda/plain-or-vegetarian-baked-beans-(canned)?portionid=37546&portionamount=1.000'"
   ]
  },
  {
   "cell_type": "code",
   "execution_count": null,
   "metadata": {
    "collapsed": true
   },
   "outputs": [],
   "source": []
  }
 ],
 "metadata": {
  "kernelspec": {
   "display_name": "Python 3",
   "language": "python",
   "name": "python3"
  },
  "language_info": {
   "codemirror_mode": {
    "name": "ipython",
    "version": 3
   },
   "file_extension": ".py",
   "mimetype": "text/x-python",
   "name": "python",
   "nbconvert_exporter": "python",
   "pygments_lexer": "ipython3",
   "version": "3.6.0"
  }
 },
 "nbformat": 4,
 "nbformat_minor": 2
}
