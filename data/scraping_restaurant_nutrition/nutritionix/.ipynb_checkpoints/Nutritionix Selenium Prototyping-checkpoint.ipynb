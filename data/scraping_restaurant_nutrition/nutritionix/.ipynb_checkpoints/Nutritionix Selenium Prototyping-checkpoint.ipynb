{
 "cells": [
  {
   "cell_type": "code",
   "execution_count": 6,
   "metadata": {
    "collapsed": false
   },
   "outputs": [],
   "source": [
    "restaurant_url = 'https://www.nutritionix.com/brands/restaurant'"
   ]
  },
  {
   "cell_type": "code",
   "execution_count": 1,
   "metadata": {
    "collapsed": true
   },
   "outputs": [],
   "source": [
    "import re\n",
    "from selenium import webdriver\n",
    "from selenium.webdriver.common.by import By\n",
    "from selenium.webdriver.support.ui import Select\n",
    "from selenium.webdriver.support.ui import WebDriverWait\t\n",
    "from selenium.webdriver.support import expected_conditions as EC\n",
    "from selenium.common.exceptions import TimeoutException\n",
    "from selenium.common.exceptions import StaleElementReferenceException\n",
    "from selenium.common.exceptions import NoSuchElementException\n",
    "import json\n",
    "import pandas as pd\n",
    "import datetime"
   ]
  },
  {
   "cell_type": "code",
   "execution_count": 13,
   "metadata": {
    "collapsed": false
   },
   "outputs": [],
   "source": [
    "browser = webdriver.Firefox()\n",
    "browser.get(restaurant_url)\n",
    "names = browser.find_elements_by_class_name('brand-name-container')"
   ]
  },
  {
   "cell_type": "code",
   "execution_count": 14,
   "metadata": {
    "collapsed": false
   },
   "outputs": [
    {
     "name": "stdout",
     "output_type": "stream",
     "text": [
      "Applebee's\n",
      "Bareburger\n",
      "Burger King\n",
      "Chipotle\n",
      "Domino's\n",
      "In-N-Out Burger\n",
      "Jack in the Box\n",
      "Manchu Wok\n",
      "Panera Bread\n",
      "Papa John's\n",
      "Pinkberry\n",
      "Pizza Hut\n",
      "Potbelly\n",
      "Pret A Manger US\n",
      "Quizno's\n",
      "Sbarro\n",
      "Sonic\n",
      "Subway\n",
      "Wendy's\n",
      "YoCream\n"
     ]
    }
   ],
   "source": [
    "for name in names:\n",
    "    print(name.text)"
   ]
  }
 ],
 "metadata": {
  "kernelspec": {
   "display_name": "Python 3",
   "language": "python",
   "name": "python3"
  },
  "language_info": {
   "codemirror_mode": {
    "name": "ipython",
    "version": 3
   },
   "file_extension": ".py",
   "mimetype": "text/x-python",
   "name": "python",
   "nbconvert_exporter": "python",
   "pygments_lexer": "ipython3",
   "version": "3.6.0"
  }
 },
 "nbformat": 4,
 "nbformat_minor": 2
}
