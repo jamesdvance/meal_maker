{
 "cells": [
  {
   "cell_type": "code",
   "execution_count": 1,
   "metadata": {
    "collapsed": true
   },
   "outputs": [],
   "source": [
    "import requests\n",
    "from bs4 import BeautifulSoup\n",
    "import pandas as pd\n",
    "import numpy as np\n",
    "import math\n",
    "import time"
   ]
  },
  {
   "cell_type": "markdown",
   "metadata": {},
   "source": [
    "starting with a single food page"
   ]
  },
  {
   "cell_type": "code",
   "execution_count": 2,
   "metadata": {
    "collapsed": true
   },
   "outputs": [],
   "source": [
    "fd_url = 'https://www.nutritionix.com/i/pret-a-manger-us/acai-super-berry-smoothie/c6402936fa13ce6304d87e4c'"
   ]
  },
  {
   "cell_type": "code",
   "execution_count": 3,
   "metadata": {
    "collapsed": true
   },
   "outputs": [],
   "source": [
    "import sys\n",
    "import requests\n",
    "from PyQt4.QtGui import * \n",
    "from PyQt4.QtCore import *\n",
    "from PyQt4.QtWebKit import *\n",
    "from bs4 import BeautifulSoup"
   ]
  },
  {
   "cell_type": "code",
   "execution_count": 4,
   "metadata": {
    "collapsed": true
   },
   "outputs": [],
   "source": [
    "class Render(QWebPage):\n",
    "\tdef __init__(self, url):\n",
    "\t\tself.app = QApplication(sys.argv) # from QTGUi package. Initializes a window system and constructs and application object with argv\n",
    "\t\tQWebPage.__init__(self)\n",
    "\t\tself.loadFinished.connect(self._loadFinished)\n",
    "\t\tself.mainFrame().load(QUrl(url))\n",
    "\t\tself.app.exec() \n",
    "\n",
    "\tdef _loadFinished(self, result):  \n",
    "\t    self.frame = self.mainFrame()  \n",
    "\t    self.app.quit()"
   ]
  },
  {
   "cell_type": "code",
   "execution_count": null,
   "metadata": {
    "collapsed": false
   },
   "outputs": [],
   "source": [
    "url = Render(fd_url)\n",
    "html = url.frame.toHtml()\n",
    "bsObj = BeautifulSoup(html, 'html.parser')\n",
    "label = bsObj.find('div', attrs={'class':'nutritionLabel'})"
   ]
  },
  {
   "cell_type": "code",
   "execution_count": 7,
   "metadata": {
    "collapsed": false
   },
   "outputs": [
    {
     "data": {
      "text/plain": [
       "<!DOCTYPE html>\n",
       "<html lang=\"en-us\" state-class=\"cssClass\"><head><style type=\"text/css\">@charset \"UTF-8\";[ng\\:cloak],[ng-cloak],[data-ng-cloak],[x-ng-cloak],.ng-cloak,.x-ng-cloak,.ng-hide:not(.ng-hide-animate){display:none !important;}ng\\:form{display:block;}.ng-animate-shim{visibility:hidden;}.ng-anchor{position:absolute;}</style>\n",
       "<base href=\"/\">\n",
       "<meta content=\"width=device-width, initial-scale=1, user-scalable=no\" name=\"viewport\">\n",
       "<meta content=\"en\" http-equiv=\"Content-Language\">\n",
       "<title ng-bind=\"MetaTags.title || 'Nutritionix'\">Nutritionix</title>\n",
       "<meta content=\"{{MetaTags.title || 'Nutritionix'}}\" property=\"og:title\">\n",
       "<meta content=\"{{MetaTags.title || 'Nutritionix'}}\" name=\"twitter:title\">\n",
       "<meta content=\"137b225f91bb8e3a501ae281806e9b14\" name=\"p:domain_verify\">\n",
       "<meta content=\"{{MetaTags.description}}\" name=\"description\" ng-if=\"MetaTags.description\">\n",
       "<meta content=\"{{MetaTags.description}}\" ng-if=\"MetaTags.description\" property=\"og:description\">\n",
       "<meta content=\"{{MetaTags.description}}\" name=\"twitter:description\" ng-if=\"MetaTags.description\">\n",
       "<meta content=\"{{MetaTags.keywords}}\" name=\"keywords\" ng-if=\"MetaTags.keywords\">\n",
       "<meta content=\"{{value}}\" name=\"{{key.indexOf('og:') === 0 || key.indexOf('fb:') === 0 ? '' : key}}\" ng-repeat=\"(key, value) in MetaTags.properties\" property=\"{{key}}\">\n",
       "<meta content=\"{{MetaTags.properties.productID}}\" itemprop=\"productID\" ng-if=\"MetaTags.properties.productID\">\n",
       "<link href=\"//maxcdn.bootstrapcdn.com/font-awesome/4.6.3/css/font-awesome.min.css\" rel=\"stylesheet\">\n",
       "<link href=\"https://fonts.googleapis.com/css?family=Oswald|Open+Sans:300,400|Roboto:100,300,400,500,700|Roboto+Slab:400,300|Quicksand:400,300|Archivo+Black\" rel=\"stylesheet\" type=\"text/css\">\n",
       "<link href=\"/nix_dist/vendors_6ca70a.css\" rel=\"stylesheet\">\n",
       "<link href=\"/nix_dist/main_6ca70a.css\" ng-if=\"!$root.isReport\" rel=\"stylesheet\">\n",
       "<link href=\"/nix_dist/reports_6ca70a.css\" ng-if=\"$root.isReport\" rel=\"stylesheet\">\n",
       "<link href=\"/nix_dist/print_6ca70a.css\" media=\"print\" rel=\"stylesheet\">\n",
       "<link href=\"https://s3.amazonaws.com/cdn4-nutritionix/images/nix_apple.png\" rel=\"shortcut icon\" sizes=\"16x16\">\n",
       "<link ng-href=\"{{$root.rel.prev}}\" ng-if=\"$root.rel.prev\" rel=\"prev\">\n",
       "<link ng-href=\"{{$root.rel.next}}\" ng-if=\"$root.rel.next\" rel=\"next\">\n",
       "<link href=\"/nix_app/manifest.json\" rel=\"manifest\">\n",
       "<!--[if lte IE 9]>\n",
       "  <script src=\"//cdn.rawgit.com/jpillora/xdomain/0.7.3/dist/xdomain.min.js\"></script>\n",
       "  <script>\n",
       "    xdomain.slaves({\n",
       "      \"http://nix-export.s3.amazonaws.com\":   \"/proxy.html\",\n",
       "      \"http://d1gvlspmcma3iu.cloudfront.net\": \"/proxy.html\",\n",
       "      \"https://nix-export.s3.amazonaws.com\":   \"/proxy.html\",\n",
       "      \"https://d1gvlspmcma3iu.cloudfront.net\": \"/proxy.html\"\n",
       "    });\n",
       "  </script>\n",
       "  <![endif]-->\n",
       "<script async=\"\" src=\"https://www.gstatic.com/recaptcha/api2/v1519325468512/recaptcha__en.js\" type=\"text/javascript\"></script><script async=\"\" src=\"https://www.google.com/recaptcha/api.js?onload=vcRecaptchaApiLoaded&amp;render=explicit\" type=\"text/javascript\"></script><script async=\"\" src=\"//pagead2.googlesyndication.com/pagead/js/adsbygoogle.js\"></script>\n",
       "<script data-cfasync=\"false\" src=\"/nix_dist/vendors_6ca70a.js\" type=\"text/javascript\"></script><link href=\"https://adservice.google.com/adsid/integrator.js?domain=www.nutritionix.com\" rel=\"preload\"><script src=\"https://adservice.google.com/adsid/integrator.js?domain=www.nutritionix.com\" type=\"text/javascript\"></script>\n",
       "<script data-cfasync=\"false\" src=\"/nix_dist/main_6ca70a.js\" type=\"text/javascript\"></script>\n",
       "</link></link></link></link></link></link></link></link></link></link></link></meta></meta></meta></meta></meta></meta></meta></meta></meta></meta></meta></base></head>\n",
       "<body>\n",
       "<div class=\"main-container\" ui-view=\"\"></div>\n",
       "<nixy></nixy>\n",
       "<script type=\"application/ld+json\">\n",
       "{\n",
       "\t\"@context\" : \"https://schema.org\",\n",
       "\t\"@type\" : \"Organization\",\n",
       "\t\"name\" : \"Nutritionix\",\n",
       "\t\"alternateName\" : \"Nutritionix - Largest Verified Nutrition Database\",\n",
       "\t\"url\" : \"https://www.nutritionix.com/\",\n",
       "\t\"logo\" : \"https://d2eawub7utcl6.cloudfront.net/images/nutritionix_logo_250px.png\",\n",
       "\t\"sameAs\" : [\n",
       "\t\t\"https://www.facebook.com/nutritionix\",\n",
       "\t\t\"https://www.twitter.com/nutritionix\",\n",
       "\t\t\"https://www.linkedin.com/company-beta/1494426/\"\n",
       "\t]\n",
       "}\n",
       "</script>\n",
       "</body></html>"
      ]
     },
     "execution_count": 7,
     "metadata": {},
     "output_type": "execute_result"
    }
   ],
   "source": [
    "bsObj"
   ]
  }
 ],
 "metadata": {
  "kernelspec": {
   "display_name": "Python 3",
   "language": "python",
   "name": "python3"
  },
  "language_info": {
   "codemirror_mode": {
    "name": "ipython",
    "version": 3
   },
   "file_extension": ".py",
   "mimetype": "text/x-python",
   "name": "python",
   "nbconvert_exporter": "python",
   "pygments_lexer": "ipython3",
   "version": "3.6.0"
  }
 },
 "nbformat": 4,
 "nbformat_minor": 2
}
