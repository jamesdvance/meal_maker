{
 "cells": [
  {
   "cell_type": "markdown",
   "metadata": {},
   "source": [
    "# Desktop Meal-Maker Master\n",
    "A master script for running all features of the 'meal-maker' app without the Django interface. \n",
    "\n",
    "#### Requirements\n",
    "1. Calculating TDEE and Required Calories\n",
    "2. Entering Macro Preferences\n",
    "3. Defining other restrictions and requirements\n",
    "\n",
    "#### Understanding Pallate\n",
    "1. Polling Raw Ingredient Likes and Dislikes\n",
    "2. Getting location and polling restaurant likes and dislikes\n",
    "3. Polling tag likes and dislikes (coming later)\n",
    "4. Polling Treats and Vices (such as chocolate, alchohol)\n",
    "\n",
    "#### Matching Food Groups\n",
    "1. Matching USDA food groups with foods via fuzzy match\n",
    "2. Integrating tags to match with food groups and generate new classifications\n",
    "\n",
    "#### Specifiying Meal Requirements\n",
    "1. Specifying days and meals of 1 week preferring restaurant, recipe, leftover or quick-prep item\n",
    "\n",
    "#### Running Recommendations\n",
    "1. Providing recommendations for week of meals\n",
    "2. Capturing feedback on meals to swap out, etc\n",
    "3. Adjusting for feedback - adjusting item sizes to perfectly match the cal/macro requirements\n",
    "\n",
    "#### Providing Output\n",
    "1. Provide shopping list\n",
    "2. Provide meal cooking and prepping schedule integrateable into Google Calendar"
   ]
  },
  {
   "cell_type": "markdown",
   "metadata": {},
   "source": [
    "## Requirements\n",
    "###### 1. Calculating TDEE and Calories"
   ]
  },
  {
   "cell_type": "code",
   "execution_count": 1,
   "metadata": {
    "collapsed": true
   },
   "outputs": [],
   "source": [
    "import warnings\n",
    "warnings.filterwarnings('ignore')\n",
    "import pickle\n",
    "import pandas as pd"
   ]
  },
  {
   "cell_type": "code",
   "execution_count": 2,
   "metadata": {
    "collapsed": false
   },
   "outputs": [],
   "source": [
    "from calc_reqs import calc_tdee, calc_cal"
   ]
  },
  {
   "cell_type": "code",
   "execution_count": 4,
   "metadata": {
    "collapsed": false
   },
   "outputs": [
    {
     "name": "stdout",
     "output_type": "stream",
     "text": [
      "How Much Do You Weigh (in pounds)? 3\n",
      "How Tall Are You (in inches)? \n"
     ]
    },
    {
     "ename": "ValueError",
     "evalue": "could not convert string to float: ",
     "output_type": "error",
     "traceback": [
      "\u001b[0;31m---------------------------------------------------------------------------\u001b[0m",
      "\u001b[0;31mValueError\u001b[0m                                Traceback (most recent call last)",
      "\u001b[0;32m<ipython-input-4-938218dcd273>\u001b[0m in \u001b[0;36m<module>\u001b[0;34m()\u001b[0m\n\u001b[0;32m----> 1\u001b[0;31m \u001b[0mtdee\u001b[0m \u001b[1;33m=\u001b[0m \u001b[0mcalc_tdee\u001b[0m\u001b[1;33m(\u001b[0m\u001b[1;33m)\u001b[0m\u001b[1;33m\u001b[0m\u001b[0m\n\u001b[0m",
      "\u001b[0;32mC:\\Users\\J\\Desktop\\Git_Repositories\\meal_maker\\desktop-meal-maker\\calc_reqs.py\u001b[0m in \u001b[0;36mcalc_tdee\u001b[0;34m(bmr)\u001b[0m\n\u001b[1;32m     20\u001b[0m \u001b[1;33m\u001b[0m\u001b[0m\n\u001b[1;32m     21\u001b[0m     \u001b[1;32mif\u001b[0m \u001b[0mbmr\u001b[0m \u001b[1;33m==\u001b[0m \u001b[1;32mNone\u001b[0m\u001b[1;33m:\u001b[0m\u001b[1;33m\u001b[0m\u001b[0m\n\u001b[0;32m---> 22\u001b[0;31m         \u001b[0mbmr\u001b[0m\u001b[1;33m=\u001b[0m\u001b[0mcalc_bmr\u001b[0m\u001b[1;33m(\u001b[0m\u001b[1;33m)\u001b[0m\u001b[1;33m\u001b[0m\u001b[0m\n\u001b[0m\u001b[1;32m     23\u001b[0m \u001b[1;33m\u001b[0m\u001b[0m\n\u001b[1;32m     24\u001b[0m     \u001b[0mprint\u001b[0m\u001b[1;33m(\u001b[0m\u001b[1;34m\"Exercise Level 1: Little or no exercise w/ a desk job.\"\u001b[0m\u001b[1;33m)\u001b[0m\u001b[1;33m\u001b[0m\u001b[0m\n",
      "\u001b[0;32mC:\\Users\\J\\Desktop\\Git_Repositories\\meal_maker\\desktop-meal-maker\\calc_reqs.py\u001b[0m in \u001b[0;36mcalc_bmr\u001b[0;34m()\u001b[0m\n\u001b[1;32m      5\u001b[0m \u001b[1;33m\u001b[0m\u001b[0m\n\u001b[1;32m      6\u001b[0m     \u001b[0mweight\u001b[0m \u001b[1;33m=\u001b[0m \u001b[0mfloat\u001b[0m\u001b[1;33m(\u001b[0m\u001b[0minput\u001b[0m\u001b[1;33m(\u001b[0m\u001b[1;34m\"How Much Do You Weigh (in pounds)? \"\u001b[0m\u001b[1;33m)\u001b[0m\u001b[1;33m)\u001b[0m\u001b[1;33m\u001b[0m\u001b[0m\n\u001b[0;32m----> 7\u001b[0;31m     \u001b[0mheight\u001b[0m \u001b[1;33m=\u001b[0m \u001b[0mfloat\u001b[0m\u001b[1;33m(\u001b[0m\u001b[0minput\u001b[0m\u001b[1;33m(\u001b[0m\u001b[1;34m\"How Tall Are You (in inches)? \"\u001b[0m\u001b[1;33m)\u001b[0m\u001b[1;33m)\u001b[0m\u001b[1;33m\u001b[0m\u001b[0m\n\u001b[0m\u001b[1;32m      8\u001b[0m     \u001b[0msex\u001b[0m \u001b[1;33m=\u001b[0m \u001b[0minput\u001b[0m\u001b[1;33m(\u001b[0m\u001b[1;34m\"Are you male or female? \"\u001b[0m\u001b[1;33m)\u001b[0m\u001b[1;33m\u001b[0m\u001b[0m\n\u001b[1;32m      9\u001b[0m     \u001b[0mage\u001b[0m \u001b[1;33m=\u001b[0m \u001b[0mfloat\u001b[0m\u001b[1;33m(\u001b[0m\u001b[0minput\u001b[0m\u001b[1;33m(\u001b[0m\u001b[1;34m\"How old are you (years)? \"\u001b[0m\u001b[1;33m)\u001b[0m\u001b[1;33m)\u001b[0m\u001b[1;33m\u001b[0m\u001b[0m\n",
      "\u001b[0;31mValueError\u001b[0m: could not convert string to float: "
     ]
    }
   ],
   "source": [
    "tdee = calc_tdee()"
   ]
  },
  {
   "cell_type": "code",
   "execution_count": 3,
   "metadata": {
    "collapsed": false
   },
   "outputs": [
    {
     "name": "stdout",
     "output_type": "stream",
     "text": [
      "How would you like your weight to change this week? [Choose between -1,-.5, 0, .5, 1, 2] -.5\n",
      "I'm recommending a calorie amount of 2476.178233010247adjusted by -250. Your total calorie requirement is 2226.178233010247.\n"
     ]
    }
   ],
   "source": [
    "cal_req = calc_cal(tdee)"
   ]
  },
  {
   "cell_type": "code",
   "execution_count": 7,
   "metadata": {
    "collapsed": true
   },
   "outputs": [],
   "source": [
    "pickle.dump(cal_req, open('cal_req.obj', 'wb'))\n",
    "pickle.dump(tdee, open('tdee.obj', 'wb'))"
   ]
  },
  {
   "cell_type": "markdown",
   "metadata": {},
   "source": [
    "To get this without the questioning:"
   ]
  },
  {
   "cell_type": "code",
   "execution_count": 3,
   "metadata": {
    "collapsed": false
   },
   "outputs": [],
   "source": [
    "cal_req=pickle.load(open(\"cal_req.obj\", \"rb\"))\n",
    "tdee=pickle.load(open(\"tdee.obj\", \"rb\"))"
   ]
  },
  {
   "cell_type": "markdown",
   "metadata": {},
   "source": [
    "##### 2. Entering Macro Preferences"
   ]
  },
  {
   "cell_type": "code",
   "execution_count": 5,
   "metadata": {
    "collapsed": true
   },
   "outputs": [],
   "source": [
    "from macro_pref import macro_preferences"
   ]
  },
  {
   "cell_type": "code",
   "execution_count": 6,
   "metadata": {
    "collapsed": false
   },
   "outputs": [
    {
     "name": "stdout",
     "output_type": "stream",
     "text": [
      "what percentage of protein, fat, and carbs do you prefer? (seperate by commas)40, 35, 25\n"
     ]
    }
   ],
   "source": [
    "prot_perc, fat_perc, carb_perc = macro_preferences()"
   ]
  },
  {
   "cell_type": "code",
   "execution_count": 14,
   "metadata": {
    "collapsed": false
   },
   "outputs": [],
   "source": [
    "pickle.dump(prot_perc, open('prot_perc.obj','wb'))\n",
    "pickle.dump(fat_perc, open('fat_perc.obj', 'wb'))\n",
    "pickle.dump(carb_perc, open('carb_perc.obj', 'wb'))"
   ]
  },
  {
   "cell_type": "code",
   "execution_count": 4,
   "metadata": {
    "collapsed": true
   },
   "outputs": [],
   "source": [
    "prot_perc, fat_perc, carb_perc = pickle.load( open('prot_perc.obj','rb')), pickle.load(open('fat_perc.obj', 'rb')), pickle.load(open('carb_perc.obj', 'rb'))"
   ]
  },
  {
   "cell_type": "markdown",
   "metadata": {},
   "source": [
    "##### 3. Defining Other Restrictions and Requirements"
   ]
  },
  {
   "cell_type": "markdown",
   "metadata": {},
   "source": [
    "Here I'd like to add a vegetables per lunch / dinner requirement, as well as a one fruit / day. \n",
    "\n",
    "This part could contain a lot of complexity later based on different diet types, but x vegetables per lunch / dinner, and 1 fruit a day is a good start"
   ]
  },
  {
   "cell_type": "code",
   "execution_count": 24,
   "metadata": {
    "collapsed": false
   },
   "outputs": [],
   "source": [
    "from diet_reqs import food_grp_reqs, vitamin_mineral_reqs"
   ]
  },
  {
   "cell_type": "code",
   "execution_count": 25,
   "metadata": {
    "collapsed": false
   },
   "outputs": [
    {
     "name": "stdout",
     "output_type": "stream",
     "text": [
      "['Whole Fruit' 'Fruit Juice' 'Dark Green Vegetables' 'Legumes'\n",
      " 'Red and Orange Vegetables' 'Starchy Vegetables' 'Other Vegetables'\n",
      " 'Whole Grain' 'Refined Grains' 'Milk' 'Yogurt' 'Cheese' 'Soymilk' 'Eggs'\n",
      " 'High Omega-3 Fish' 'Low Omega-3 Fish' 'Nuts and Seeds' 'Poultry'\n",
      " 'Red Meats' 'Processed Soy Products' 'Oils' 'Solid Fats']\n",
      "Which group would you like to add to rules? Whole Fruit\n",
      "How often would you like this item in your diet? Choices are Breakfast, Lunch, Dinner, Daily, Weekly. Daily\n",
      "How much would you like at that recurrance? 1\n"
     ]
    }
   ],
   "source": [
    "food_grp_req_df = food_grp_reqs()"
   ]
  },
  {
   "cell_type": "code",
   "execution_count": 27,
   "metadata": {
    "collapsed": false
   },
   "outputs": [
    {
     "name": "stdout",
     "output_type": "stream",
     "text": [
      "['Whole Fruit' 'Fruit Juice' 'Dark Green Vegetables' 'Legumes'\n",
      " 'Red and Orange Vegetables' 'Starchy Vegetables' 'Other Vegetables'\n",
      " 'Whole Grain' 'Refined Grains' 'Milk' 'Yogurt' 'Cheese' 'Soymilk' 'Eggs'\n",
      " 'High Omega-3 Fish' 'Low Omega-3 Fish' 'Nuts and Seeds' 'Poultry'\n",
      " 'Red Meats' 'Processed Soy Products' 'Oils' 'Solid Fats']\n",
      "Which group would you like to add to rules? Dark Green Vegetables\n",
      "How often would you like this item in your diet? Choices are Breakfast, Lunch, Dinner, Daily, Weekly. Lunch\n",
      "How much would you like at that recurrance? 1\n"
     ]
    }
   ],
   "source": [
    "food_grp_req_df = food_grp_req_df.append([food_grp_reqs()])"
   ]
  },
  {
   "cell_type": "code",
   "execution_count": 29,
   "metadata": {
    "collapsed": false
   },
   "outputs": [
    {
     "name": "stdout",
     "output_type": "stream",
     "text": [
      "['Whole Fruit' 'Fruit Juice' 'Dark Green Vegetables' 'Legumes'\n",
      " 'Red and Orange Vegetables' 'Starchy Vegetables' 'Other Vegetables'\n",
      " 'Whole Grain' 'Refined Grains' 'Milk' 'Yogurt' 'Cheese' 'Soymilk' 'Eggs'\n",
      " 'High Omega-3 Fish' 'Low Omega-3 Fish' 'Nuts and Seeds' 'Poultry'\n",
      " 'Red Meats' 'Processed Soy Products' 'Oils' 'Solid Fats']\n",
      "Which group would you like to add to rules? Dark Green Vegetables\n",
      "How often would you like this item in your diet? Choices are Breakfast, Lunch, Dinner, Daily, Weekly. Dinner\n",
      "How much would you like at that recurrance? 1\n"
     ]
    }
   ],
   "source": [
    "food_grp_req_df = food_grp_req_df.append([food_grp_reqs()])"
   ]
  },
  {
   "cell_type": "code",
   "execution_count": 1,
   "metadata": {
    "collapsed": false
   },
   "outputs": [
    {
     "ename": "NameError",
     "evalue": "name 'pickle' is not defined",
     "output_type": "error",
     "traceback": [
      "\u001b[0;31m---------------------------------------------------------------------------\u001b[0m",
      "\u001b[0;31mNameError\u001b[0m                                 Traceback (most recent call last)",
      "\u001b[0;32m<ipython-input-1-c8db1e478c4b>\u001b[0m in \u001b[0;36m<module>\u001b[0;34m()\u001b[0m\n\u001b[0;32m----> 1\u001b[0;31m \u001b[0mpickle\u001b[0m\u001b[1;33m.\u001b[0m\u001b[0mdump\u001b[0m\u001b[1;33m(\u001b[0m\u001b[0mfood_grp_req_df\u001b[0m\u001b[1;33m,\u001b[0m \u001b[0mopen\u001b[0m\u001b[1;33m(\u001b[0m\u001b[1;34m\"food_grp_req_df.obj\"\u001b[0m\u001b[1;33m,\u001b[0m \u001b[1;34m\"wb\"\u001b[0m\u001b[1;33m)\u001b[0m\u001b[1;33m)\u001b[0m\u001b[1;33m\u001b[0m\u001b[0m\n\u001b[0m",
      "\u001b[0;31mNameError\u001b[0m: name 'pickle' is not defined"
     ]
    }
   ],
   "source": [
    "pickle.dump(food_grp_req_df, open(\"food_grp_req_df.obj\", \"wb\"))"
   ]
  },
  {
   "cell_type": "code",
   "execution_count": 5,
   "metadata": {
    "collapsed": true
   },
   "outputs": [],
   "source": [
    "food_grp_req_df = pickle.load(open(\"food_grp_req_df.obj\", \"rb\"))"
   ]
  },
  {
   "cell_type": "markdown",
   "metadata": {},
   "source": [
    "#### Adding things you want to eat this week"
   ]
  },
  {
   "cell_type": "markdown",
   "metadata": {},
   "source": [
    "Can load full usda reqs from pdf"
   ]
  },
  {
   "cell_type": "markdown",
   "metadata": {},
   "source": [
    "##### Daily Vitamin Indicator\n"
   ]
  },
  {
   "cell_type": "code",
   "execution_count": 11,
   "metadata": {
    "collapsed": false
   },
   "outputs": [
    {
     "name": "stdout",
     "output_type": "stream",
     "text": [
      "Want to make sure you get at least 90% of the recommended daily value for the major vitamins? (1/0)1\n"
     ]
    }
   ],
   "source": [
    "vit_ind = int(input(\"Want to make sure you get at least 90% of the recommended daily value for the major vitamins? (1/0)\"))"
   ]
  },
  {
   "cell_type": "markdown",
   "metadata": {},
   "source": [
    "#### Sugar Limit Indicator\n",
    "WHO - 5% daily cals recommended"
   ]
  },
  {
   "cell_type": "code",
   "execution_count": 10,
   "metadata": {
    "collapsed": false
   },
   "outputs": [
    {
     "name": "stdout",
     "output_type": "stream",
     "text": [
      "Want to follow the WHO guidelines of no more than 5% of daily cals from sugar? (1/0)1\n"
     ]
    }
   ],
   "source": [
    "sug_ind = int(input(\"Want to follow the WHO guidelines of no more than 5% of daily cals from sugar? (1/0)\"))"
   ]
  },
  {
   "cell_type": "code",
   "execution_count": 12,
   "metadata": {
    "collapsed": true
   },
   "outputs": [],
   "source": [
    "pickle.dump(vit_ind, open(\"vit_ind.obj\", \"wb\"))\n",
    "pickle.dump(sug_ind, open(\"sug_ind.obj\", \"wb\"))"
   ]
  },
  {
   "cell_type": "markdown",
   "metadata": {},
   "source": [
    "## Understanding Pallate\n",
    "##### Polling Raw Ingredient Likes and Dislikes"
   ]
  },
  {
   "cell_type": "markdown",
   "metadata": {},
   "source": [
    "Building a simple GUI to sort words as they appear into right and left for 'like' and 'dislike' respectively.\n",
    "When implementing family-style, can have family members swipe suggestions also. Should be written in JS or JQuery"
   ]
  },
  {
   "cell_type": "code",
   "execution_count": 3,
   "metadata": {
    "collapsed": false
   },
   "outputs": [],
   "source": [
    "from polling_likes_dislikes import poll_raw_ingred"
   ]
  },
  {
   "cell_type": "code",
   "execution_count": 6,
   "metadata": {
    "collapsed": false
   },
   "outputs": [],
   "source": [
    "nut_sm = pd.read_csv('C:/Users/J/Desktop/Businesses/Meal_Maker/Scraped_Data/combined_nutrition_small/nutrition_sm_2018_3_15_processed_comma.csv', encoding='ISO-8859-1')"
   ]
  },
  {
   "cell_type": "markdown",
   "metadata": {},
   "source": [
    "In the gui, it should let you search a keyword, then let you swipe left and right as they appear. That way you can specify 'raw tomotoes' but not 'tomato sauce'"
   ]
  },
  {
   "cell_type": "code",
   "execution_count": 5,
   "metadata": {
    "collapsed": false
   },
   "outputs": [
    {
     "name": "stdout",
     "output_type": "stream",
     "text": [
      "Tell me a raw ingredient you don't like: tomato\n",
      "Tomatoes\n",
      "Is this the food you were looking for: Tomatoes ? (1/0)1\n"
     ]
    }
   ],
   "source": [
    "dislike = poll_raw_ingred()"
   ]
  },
  {
   "cell_type": "code",
   "execution_count": 11,
   "metadata": {
    "collapsed": false
   },
   "outputs": [
    {
     "name": "stdout",
     "output_type": "stream",
     "text": [
      "Tell me a raw ingredient you don't like: lentil\n",
      "Peanut Oil\n",
      "Is this the food you were looking for: Peanut Oil ? (1/0)0\n",
      "Peanut Oil\n",
      "Is this the food you were looking for: Peanut Oil ? (1/0)0\n",
      "Walnut Oil\n",
      "Is this the food you were looking for: Walnut Oil ? (1/0)0\n",
      "Clementines\n",
      "Is this the food you were looking for: Clementines ? (1/0)0\n",
      "Lentil Soup\n",
      "Is this the food you were looking for: Lentil Soup ? (1/0)1\n",
      "Would you like to continue? (1/0)1\n",
      "Tell me a raw ingredient you don't like: Okra\n",
      "Okra\n",
      "Is this the food you were looking for: Okra ? (1/0)1\n",
      "Would you like to continue? (1/0)0\n"
     ]
    }
   ],
   "source": [
    "cont=1\n",
    "while cont==1:\n",
    "    dislike = poll_raw_ingred()\n",
    "    dislikes.append(dislike)\n",
    "    cont = int(input(\"Would you like to continue? (1/0)\"))"
   ]
  },
  {
   "cell_type": "code",
   "execution_count": 12,
   "metadata": {
    "collapsed": false
   },
   "outputs": [
    {
     "data": {
      "text/plain": [
       "['Tomatoes', 'Lentil Soup', 'Okra']"
      ]
     },
     "execution_count": 12,
     "metadata": {},
     "output_type": "execute_result"
    }
   ],
   "source": [
    "dislikes"
   ]
  },
  {
   "cell_type": "code",
   "execution_count": 13,
   "metadata": {
    "collapsed": true
   },
   "outputs": [],
   "source": [
    "pickle.dump(dislikes , open(\"dislikes.obj\", \"wb\"))"
   ]
  },
  {
   "cell_type": "markdown",
   "metadata": {},
   "source": [
    "#### Polling Likes"
   ]
  },
  {
   "cell_type": "code",
   "execution_count": 16,
   "metadata": {
    "collapsed": false
   },
   "outputs": [],
   "source": [
    "from polling_likes_dislikes import poll_include"
   ]
  },
  {
   "cell_type": "code",
   "execution_count": 17,
   "metadata": {
    "collapsed": false
   },
   "outputs": [
    {
     "name": "stdout",
     "output_type": "stream",
     "text": [
      "What type of food would you like to add? [raw ingredient, grocery, recipe, restaurant]?grocery\n",
      "Tell me a raw ingredient you want to eat this week: chicken breast\n",
      "Chicken Breast\n",
      "Is this the food you were looking for: Chicken Breast ? (1/0)1\n"
     ]
    }
   ],
   "source": [
    "fd1 = poll_include()"
   ]
  },
  {
   "cell_type": "code",
   "execution_count": 19,
   "metadata": {
    "collapsed": false
   },
   "outputs": [
    {
     "name": "stdout",
     "output_type": "stream",
     "text": [
      "What type of food would you like to add? [raw ingredient, grocery, recipe, restaurant]?chicken breast\n",
      "Sorry, that didn't match my options. What type of food would you like to add? [raw ingredient, grocery, recipe, restaurant]grocery\n",
      "Tell me a raw ingredient you want to eat this week: chicken breast\n",
      "Chicken Breast\n",
      "Is this the food you were looking for: Chicken Breast ? (1/0)1\n",
      "Would you like to continue? (1/0)1\n",
      "What type of food would you like to add? [raw ingredient, grocery, recipe, restaurant]?grocery\n",
      "Tell me a raw ingredient you want to eat this week: boneless pork chop\n",
      "Boneless Pork Chop\n",
      "Is this the food you were looking for: Boneless Pork Chop ? (1/0)1\n",
      "Would you like to continue? (1/0)1\n",
      "What type of food would you like to add? [raw ingredient, grocery, recipe, restaurant]?steamed broccoli\n",
      "Sorry, that didn't match my options. What type of food would you like to add? [raw ingredient, grocery, recipe, restaurant]grocery\n",
      "Tell me a raw ingredient you want to eat this week: steamed broccoli\n",
      "Steamed Broccoli\n",
      "Is this the food you were looking for: Steamed Broccoli ? (1/0)1\n",
      "Would you like to continue? (1/0)1\n",
      "What type of food would you like to add? [raw ingredient, grocery, recipe, restaurant]?grocery\n",
      "Tell me a raw ingredient you want to eat this week: roasted brussel sprouts\n",
      "Roasted Brussels Sprouts\n",
      "Is this the food you were looking for: Roasted Brussels Sprouts ? (1/0)1\n",
      "Would you like to continue? (1/0)1\n",
      "What type of food would you like to add? [raw ingredient, grocery, recipe, restaurant]?basmatti rice\n",
      "Sorry, that didn't match my options. What type of food would you like to add? [raw ingredient, grocery, recipe, restaurant]grocery\n",
      "Tell me a raw ingredient you want to eat this week: basmatti rice cooked\n",
      "Wild rice, cooked\n",
      "Is this the food you were looking for: Wild rice, cooked ? (1/0)0\n",
      "Basmati Rice Medley\n",
      "Is this the food you were looking for: Basmati Rice Medley ? (1/0)0\n",
      "Basmati Rice\n",
      "Is this the food you were looking for: Basmati Rice ? (1/0)1\n",
      "Would you like to continue? (1/0)0\n"
     ]
    }
   ],
   "source": [
    "likes=[]\n",
    "cont=1\n",
    "while cont==1:\n",
    "    like = poll_include()\n",
    "    likes.append(like)\n",
    "    cont = int(input(\"Would you like to continue? (1/0)\"))"
   ]
  },
  {
   "cell_type": "code",
   "execution_count": 20,
   "metadata": {
    "collapsed": false
   },
   "outputs": [
    {
     "data": {
      "text/plain": [
       "['Chicken Breast',\n",
       " 'Boneless Pork Chop',\n",
       " 'Steamed Broccoli',\n",
       " 'Roasted Brussels Sprouts',\n",
       " 'Basmati Rice']"
      ]
     },
     "execution_count": 20,
     "metadata": {},
     "output_type": "execute_result"
    }
   ],
   "source": [
    "likes"
   ]
  },
  {
   "cell_type": "code",
   "execution_count": 21,
   "metadata": {
    "collapsed": true
   },
   "outputs": [],
   "source": [
    "pickle.dump(likes , open(\"likes.obj\", \"wb\"))"
   ]
  },
  {
   "cell_type": "markdown",
   "metadata": {},
   "source": [
    "##### Getting location and polling restaurant likes and dislikes"
   ]
  },
  {
   "cell_type": "code",
   "execution_count": 1,
   "metadata": {
    "collapsed": true
   },
   "outputs": [],
   "source": [
    "from polling_likes_dislikes import poll_restaurants_nearbye, process_liked_restaurants"
   ]
  },
  {
   "cell_type": "code",
   "execution_count": 4,
   "metadata": {
    "collapsed": false
   },
   "outputs": [
    {
     "name": "stdout",
     "output_type": "stream",
     "text": [
      "What is your full address (exlude apt)? 575 12th Street South Arlington VA 22202\n"
     ]
    },
    {
     "name": "stderr",
     "output_type": "stream",
     "text": [
      "C:\\ProgramData\\Anaconda3\\lib\\site-packages\\IPython\\core\\interactiveshell.py:2881: DtypeWarning: Columns (0,5) have mixed types. Specify dtype option on import or set low_memory=False.\n",
      "  exec(code_obj, self.user_global_ns, self.user_ns)\n"
     ]
    },
    {
     "name": "stdout",
     "output_type": "stream",
     "text": [
      "Would you like to eat at California Pizza Kitchen this week? (1/0)1\n",
      "Would you like to eat at Chipotle Mexican Grill this week? (1/0)0\n",
      "Would you like to eat at Great Wraps this week? (1/0)0\n",
      "Would you like to eat at Nando's this week? (1/0)0\n",
      "Would you like to eat at Extreme Pizza this week? (1/0)0\n",
      "Would you like to eat at Buffalo Wild Wings this week? (1/0)0\n",
      "Would you like to eat at Pizza Pizza this week? (1/0)0\n",
      "Would you like to eat at Chipotle this week? (1/0)0\n",
      "Would you like to eat at Bonefish Grill this week? (1/0)0\n",
      "Would you like to eat at Champps this week? (1/0)0\n",
      "Would you like to eat at Legal Sea Foods this week? (1/0)0\n",
      "Would you like to eat at Shake Shack this week? (1/0)0\n",
      "Would you like to eat at Five Guys this week? (1/0)0\n",
      "Would you like to eat at Boston Market this week? (1/0)0\n",
      "Would you like to eat at 99 Restaurant this week? (1/0)0\n",
      "Would you like to eat at IHOP this week? (1/0)0\n",
      "Would you like to eat at Chevy's Fresh Mex this week? (1/0)0\n",
      "Would you like to eat at Panda Express this week? (1/0)0\n",
      "Would you like to eat at Popeye's Louisiana Kitchen this week? (1/0)0\n",
      "Would you like to eat at Sweetgreen this week? (1/0)1\n"
     ]
    }
   ],
   "source": [
    "my_home_rests = poll_restaurants_nearbye()"
   ]
  },
  {
   "cell_type": "code",
   "execution_count": 5,
   "metadata": {
    "collapsed": false
   },
   "outputs": [
    {
     "data": {
      "text/plain": [
       "['California Pizza Kitchen', 'Sweetgreen']"
      ]
     },
     "execution_count": 5,
     "metadata": {},
     "output_type": "execute_result"
    }
   ],
   "source": [
    "my_home_rests"
   ]
  },
  {
   "cell_type": "code",
   "execution_count": 6,
   "metadata": {
    "collapsed": false
   },
   "outputs": [
    {
     "name": "stdout",
     "output_type": "stream",
     "text": [
      "What is your full address (exlude apt)? 10323 Old Georgetown Rd, Bethesda, MD 20814\n"
     ]
    },
    {
     "name": "stderr",
     "output_type": "stream",
     "text": [
      "C:\\ProgramData\\Anaconda3\\lib\\site-packages\\IPython\\core\\interactiveshell.py:2881: DtypeWarning: Columns (0,5) have mixed types. Specify dtype option on import or set low_memory=False.\n",
      "  exec(code_obj, self.user_global_ns, self.user_ns)\n"
     ]
    },
    {
     "name": "stdout",
     "output_type": "stream",
     "text": [
      "Would you like to eat at Chipotle Mexican Grill this week? (1/0)0\n",
      "Would you like to eat at Wahoo's Fish Taco this week? (1/0)0\n",
      "Would you like to eat at Plaza Azteca this week? (1/0)0\n",
      "Would you like to eat at Chuy's this week? (1/0)0\n",
      "Would you like to eat at Sarku Japan this week? (1/0)0\n",
      "Would you like to eat at Chipotle this week? (1/0)0\n",
      "Would you like to eat at Not Your Average Joe's this week? (1/0)0\n",
      "Would you like to eat at Cava Grill this week? (1/0)0\n",
      "Would you like to eat at Chick-fil-A this week? (1/0)0\n",
      "Would you like to eat at Pizza Hut this week? (1/0)0\n",
      "Would you like to eat at Seasons 52 this week? (1/0)0\n",
      "Would you like to eat at Five Guys this week? (1/0)0\n",
      "Would you like to eat at Wendy's this week? (1/0)0\n",
      "Would you like to eat at Boston Market this week? (1/0)0\n",
      "Would you like to eat at 99 Restaurant this week? (1/0)0\n",
      "Would you like to eat at Popeye's Louisiana Kitchen this week? (1/0)0\n",
      "Would you like to eat at Panda Express this week? (1/0)0\n",
      "Would you like to eat at McDonald's this week? (1/0)0\n",
      "Would you like to eat at TGI Friday's this week? (1/0)0\n"
     ]
    }
   ],
   "source": [
    "my_work_rests = poll_restaurants_nearbye()"
   ]
  },
  {
   "cell_type": "code",
   "execution_count": 7,
   "metadata": {
    "collapsed": true
   },
   "outputs": [],
   "source": [
    "# This is where they would search for other restaurants not found\n",
    "my_work_rests.append(\"Starbucks\")"
   ]
  },
  {
   "cell_type": "code",
   "execution_count": 10,
   "metadata": {
    "collapsed": false
   },
   "outputs": [],
   "source": [
    "pickle.dump(my_home_rests, open(\"my_home_rests.obj\", \"wb\"))\n",
    "pickle.dump(my_work_rests, open(\"my_work_rests.obj\", \"wb\"))"
   ]
  },
  {
   "cell_type": "markdown",
   "metadata": {},
   "source": [
    "##### Polling food type likes and dislikes"
   ]
  },
  {
   "cell_type": "markdown",
   "metadata": {},
   "source": [
    "#### Polling Treats and Vices (such as chocolate, alchohol)"
   ]
  },
  {
   "cell_type": "markdown",
   "metadata": {},
   "source": [
    "Should combine the functions of food requirements : How often do you want this vice (by type)? Alcohol, chocolate and candy are default questions\n",
    "* Then, it moves to a polling format for each subgroup. \n",
    "* This should be the format for each 'group' defintion - after a req, it polls n examples to get an idea"
   ]
  },
  {
   "cell_type": "markdown",
   "metadata": {},
   "source": [
    "## Specifying Meal Requirements"
   ]
  },
  {
   "cell_type": "code",
   "execution_count": 27,
   "metadata": {
    "collapsed": false
   },
   "outputs": [],
   "source": [
    "food_types = list(nut_sm['food_type_grp'].unique())"
   ]
  },
  {
   "cell_type": "code",
   "execution_count": 28,
   "metadata": {
    "collapsed": false
   },
   "outputs": [],
   "source": [
    "food_types.append('recipe leftovers')"
   ]
  },
  {
   "cell_type": "code",
   "execution_count": 29,
   "metadata": {
    "collapsed": false
   },
   "outputs": [
    {
     "data": {
      "text/plain": [
       "['restaurant', 'grocery', nan, 'raw ingredient', 'recipe', 'recipe leftovers']"
      ]
     },
     "execution_count": 29,
     "metadata": {},
     "output_type": "execute_result"
    }
   ],
   "source": [
    "food_types"
   ]
  },
  {
   "cell_type": "markdown",
   "metadata": {},
   "source": [
    "Distributing by day\n",
    "\n",
    "Should be a gui, with guesses villed out, where the person can change them manually"
   ]
  },
  {
   "cell_type": "code",
   "execution_count": 36,
   "metadata": {
    "collapsed": false
   },
   "outputs": [],
   "source": [
    "import pandas as pd\n",
    "meals = pd.DataFrame(['breakfast', 'lunch', 'dinner', 'snack'], columns=['meals'])\n",
    "days = pd.DataFrame(['Sunday', 'Monday','Tuesday', 'Wednesday','Thursday','Friday','Saturday'], columns=['days'])"
   ]
  },
  {
   "cell_type": "code",
   "execution_count": 37,
   "metadata": {
    "collapsed": false
   },
   "outputs": [],
   "source": [
    "meals['key']=1\n",
    "days['key']=1"
   ]
  },
  {
   "cell_type": "code",
   "execution_count": 38,
   "metadata": {
    "collapsed": false
   },
   "outputs": [],
   "source": [
    "meals_df = pd.merge(meals,days,on=['key'])"
   ]
  },
  {
   "cell_type": "code",
   "execution_count": 39,
   "metadata": {
    "collapsed": false
   },
   "outputs": [],
   "source": [
    "meals_df = meals_df.sort(['days'])"
   ]
  },
  {
   "cell_type": "code",
   "execution_count": 40,
   "metadata": {
    "collapsed": false
   },
   "outputs": [],
   "source": [
    "day_sort_df=pd.DataFrame({'days':['Sunday','Monday','Tuesday','Wednesday','Thursday','Friday','Saturday'],'day_sort':['a','b','c','d','e','f','g']})\n",
    "meal_sort_df=pd.DataFrame({'meals':['breakfast', 'lunch', 'dinner', 'snack'],'sort_meal':['a','b','c','d',]})"
   ]
  },
  {
   "cell_type": "code",
   "execution_count": 41,
   "metadata": {
    "collapsed": false
   },
   "outputs": [],
   "source": [
    "meals_df = meals_df.merge(day_sort_df, on='days')\n",
    "meals_df = meals_df.merge(meal_sort_df, on='meals')"
   ]
  },
  {
   "cell_type": "code",
   "execution_count": 42,
   "metadata": {
    "collapsed": false
   },
   "outputs": [
    {
     "data": {
      "text/html": [
       "<div>\n",
       "<table border=\"1\" class=\"dataframe\">\n",
       "  <thead>\n",
       "    <tr style=\"text-align: right;\">\n",
       "      <th></th>\n",
       "      <th>meals</th>\n",
       "      <th>key</th>\n",
       "      <th>days</th>\n",
       "      <th>day_sort</th>\n",
       "      <th>sort_meal</th>\n",
       "    </tr>\n",
       "  </thead>\n",
       "  <tbody>\n",
       "    <tr>\n",
       "      <th>0</th>\n",
       "      <td>dinner</td>\n",
       "      <td>1</td>\n",
       "      <td>Friday</td>\n",
       "      <td>f</td>\n",
       "      <td>c</td>\n",
       "    </tr>\n",
       "    <tr>\n",
       "      <th>1</th>\n",
       "      <td>dinner</td>\n",
       "      <td>1</td>\n",
       "      <td>Monday</td>\n",
       "      <td>b</td>\n",
       "      <td>c</td>\n",
       "    </tr>\n",
       "    <tr>\n",
       "      <th>2</th>\n",
       "      <td>dinner</td>\n",
       "      <td>1</td>\n",
       "      <td>Saturday</td>\n",
       "      <td>g</td>\n",
       "      <td>c</td>\n",
       "    </tr>\n",
       "    <tr>\n",
       "      <th>3</th>\n",
       "      <td>dinner</td>\n",
       "      <td>1</td>\n",
       "      <td>Sunday</td>\n",
       "      <td>a</td>\n",
       "      <td>c</td>\n",
       "    </tr>\n",
       "    <tr>\n",
       "      <th>4</th>\n",
       "      <td>dinner</td>\n",
       "      <td>1</td>\n",
       "      <td>Thursday</td>\n",
       "      <td>e</td>\n",
       "      <td>c</td>\n",
       "    </tr>\n",
       "  </tbody>\n",
       "</table>\n",
       "</div>"
      ],
      "text/plain": [
       "    meals  key      days day_sort sort_meal\n",
       "0  dinner    1    Friday        f         c\n",
       "1  dinner    1    Monday        b         c\n",
       "2  dinner    1  Saturday        g         c\n",
       "3  dinner    1    Sunday        a         c\n",
       "4  dinner    1  Thursday        e         c"
      ]
     },
     "execution_count": 42,
     "metadata": {},
     "output_type": "execute_result"
    }
   ],
   "source": [
    "meals_df.head()"
   ]
  },
  {
   "cell_type": "code",
   "execution_count": 43,
   "metadata": {
    "collapsed": false
   },
   "outputs": [],
   "source": [
    "meals_df = meals_df.sort_values(by=['day_sort','sort_meal'])"
   ]
  },
  {
   "cell_type": "code",
   "execution_count": 24,
   "metadata": {
    "collapsed": false
   },
   "outputs": [
    {
     "name": "stdout",
     "output_type": "stream",
     "text": [
      "What do you normally eat for breakfast? recipe leftovers\n",
      "What do you normally eat for lunch? recipe leftovers\n",
      "What do you normally eat for dinner? recipe\n",
      "What do you normally eat for snack? grocery\n"
     ]
    }
   ],
   "source": [
    "#This should start with a poll\n",
    "# In the gui, they could set the default first, then go through and change individual entries\n",
    "meal_defaults_vec = ['breakfast','lunch','dinner','snack']\n",
    "meal_dict={}\n",
    "for meal in meal_defaults_vec:\n",
    "    ans = input(\"What do you normally eat for \"+meal+\"? \")\n",
    "    meal_dict[meal]=ans"
   ]
  },
  {
   "cell_type": "code",
   "execution_count": 30,
   "metadata": {
    "collapsed": false
   },
   "outputs": [
    {
     "data": {
      "text/plain": [
       "['restaurant', 'grocery', nan, 'raw ingredient', 'recipe', 'recipe leftovers']"
      ]
     },
     "execution_count": 30,
     "metadata": {},
     "output_type": "execute_result"
    }
   ],
   "source": [
    "food_types"
   ]
  },
  {
   "cell_type": "code",
   "execution_count": 31,
   "metadata": {
    "collapsed": false
   },
   "outputs": [
    {
     "name": "stdout",
     "output_type": "stream",
     "text": [
      "What food type on Sunday for breakfast? grocery\n"
     ]
    },
    {
     "name": "stderr",
     "output_type": "stream",
     "text": [
      "C:\\ProgramData\\Anaconda3\\lib\\site-packages\\pandas\\core\\indexing.py:141: SettingWithCopyWarning: \n",
      "A value is trying to be set on a copy of a slice from a DataFrame\n",
      "\n",
      "See the caveats in the documentation: http://pandas.pydata.org/pandas-docs/stable/indexing.html#indexing-view-versus-copy\n",
      "  self._setitem_with_indexer(indexer, value)\n"
     ]
    },
    {
     "name": "stdout",
     "output_type": "stream",
     "text": [
      "What food type on Sunday for lunch? restaurant\n",
      "What food type on Sunday for dinner? recipe\n",
      "What food type on Sunday for snack? grocery\n",
      "What food type on Monday for breakfast? recipe leftovers\n",
      "What food type on Monday for lunch? recipe leftovers\n",
      "What food type on Monday for dinner? recipe\n",
      "What food type on Monday for snack? grocery\n",
      "What food type on Tuesday for breakfast? recipe leftovers\n",
      "What food type on Tuesday for lunch? recipe leftovers\n",
      "What food type on Tuesday for dinner? recipe leftovers\n",
      "What food type on Tuesday for snack? grocery\n",
      "What food type on Wednesday for breakfast? recipe leftovers\n",
      "What food type on Wednesday for lunch? recipe leftovers\n",
      "What food type on Wednesday for dinner? restaurant\n",
      "What food type on Wednesday for snack? grocery\n",
      "What food type on Thursday for breakfast? recipe leftovers\n",
      "What food type on Thursday for lunch? recipe leftovers\n",
      "What food type on Thursday for dinner? recipe\n",
      "What food type on Thursday for snack? grocery\n",
      "What food type on Friday for breakfast? restaurant\n",
      "What food type on Friday for lunch? recipe leftovers\n",
      "What food type on Friday for dinner? recipe leftovers\n",
      "What food type on Friday for snack? grocery\n",
      "What food type on Saturday for breakfast? grocery\n",
      "What food type on Saturday for lunch? restaurant\n",
      "What food type on Saturday for dinner? recipe\n",
      "What food type on Saturday for snack? grocery\n"
     ]
    }
   ],
   "source": [
    "meals_df['pref_food_type'] = 'recipe'\n",
    "for i in range(len(meals_df)):\n",
    "    meals_df['pref_food_type'].iloc[i]= input(\"What food type on \"+meals_df['days'].iloc[i]+\" for \"+meals_df['meals'].iloc[i]+\"? \")"
   ]
  },
  {
   "cell_type": "code",
   "execution_count": 32,
   "metadata": {
    "collapsed": false
   },
   "outputs": [
    {
     "data": {
      "text/plain": [
       "array(['grocery', 'restaurant', 'recipe', 'recipe leftovers'], dtype=object)"
      ]
     },
     "execution_count": 32,
     "metadata": {},
     "output_type": "execute_result"
    }
   ],
   "source": [
    "meals_df['pref_food_type'].unique()"
   ]
  },
  {
   "cell_type": "code",
   "execution_count": 33,
   "metadata": {
    "collapsed": false
   },
   "outputs": [
    {
     "name": "stdout",
     "output_type": "stream",
     "text": [
      "Where will you be for this restaurant meal on Sunday for lunch ? (home/work) home\n"
     ]
    },
    {
     "name": "stderr",
     "output_type": "stream",
     "text": [
      "C:\\ProgramData\\Anaconda3\\lib\\site-packages\\pandas\\core\\indexing.py:141: SettingWithCopyWarning: \n",
      "A value is trying to be set on a copy of a slice from a DataFrame\n",
      "\n",
      "See the caveats in the documentation: http://pandas.pydata.org/pandas-docs/stable/indexing.html#indexing-view-versus-copy\n",
      "  self._setitem_with_indexer(indexer, value)\n"
     ]
    },
    {
     "name": "stdout",
     "output_type": "stream",
     "text": [
      "Where will you be for this restaurant meal on Wednesday for dinner ? (home/work) home\n",
      "Where will you be for this restaurant meal on Friday for breakfast ? (home/work) work\n",
      "Where will you be for this restaurant meal on Saturday for lunch ? (home/work) home\n"
     ]
    }
   ],
   "source": [
    "meals_df['rest_loc'] = 'home'\n",
    "for i in range(len(meals_df)):\n",
    "    if meals_df['pref_food_type'].iloc[i]=='restaurant':\n",
    "        meals_df['rest_loc'].iloc[i] = input(\"Where will you be for this \"+meals_df['pref_food_type'].iloc[i]+\" meal on \"+meals_df['days'].iloc[i]+\" for \"+meals_df['meals'].iloc[i]+\" ? (home/work) \")"
   ]
  },
  {
   "cell_type": "code",
   "execution_count": 34,
   "metadata": {
    "collapsed": false
   },
   "outputs": [],
   "source": [
    "food_type_preferences = {'longest leftovers (days)':3, 'breakfast rest':'Starbucks', 'preferred coffee':'black coffee', 'meal prep?':1}"
   ]
  },
  {
   "cell_type": "code",
   "execution_count": 35,
   "metadata": {
    "collapsed": true
   },
   "outputs": [],
   "source": [
    "pickle.dump(meals_df, open('meals_df.obj', 'wb'))\n",
    "pickle.dump(food_type_preferences, open('food_type_preferences.obj', 'wb'))"
   ]
  },
  {
   "cell_type": "code",
   "execution_count": null,
   "metadata": {
    "collapsed": true
   },
   "outputs": [],
   "source": []
  },
  {
   "cell_type": "markdown",
   "metadata": {},
   "source": [
    "## Matching Food Groups"
   ]
  },
  {
   "cell_type": "code",
   "execution_count": 22,
   "metadata": {
    "collapsed": false
   },
   "outputs": [
    {
     "data": {
      "text/html": [
       "<div>\n",
       "<table border=\"1\" class=\"dataframe\">\n",
       "  <thead>\n",
       "    <tr style=\"text-align: right;\">\n",
       "      <th></th>\n",
       "      <th>amount</th>\n",
       "      <th>group_column</th>\n",
       "      <th>group_val</th>\n",
       "      <th>recurrance</th>\n",
       "    </tr>\n",
       "  </thead>\n",
       "  <tbody>\n",
       "    <tr>\n",
       "      <th>0</th>\n",
       "      <td>1</td>\n",
       "      <td>usda_subgroup</td>\n",
       "      <td>Whole Fruit</td>\n",
       "      <td>Daily</td>\n",
       "    </tr>\n",
       "    <tr>\n",
       "      <th>0</th>\n",
       "      <td>1</td>\n",
       "      <td>usda_subgroup</td>\n",
       "      <td>Dark Green Vegetables</td>\n",
       "      <td>Lunch</td>\n",
       "    </tr>\n",
       "    <tr>\n",
       "      <th>0</th>\n",
       "      <td>1</td>\n",
       "      <td>usda_subgroup</td>\n",
       "      <td>Dark Green Vegetables</td>\n",
       "      <td>Dinner</td>\n",
       "    </tr>\n",
       "  </tbody>\n",
       "</table>\n",
       "</div>"
      ],
      "text/plain": [
       "  amount   group_column              group_val recurrance\n",
       "0      1  usda_subgroup            Whole Fruit      Daily\n",
       "0      1  usda_subgroup  Dark Green Vegetables      Lunch\n",
       "0      1  usda_subgroup  Dark Green Vegetables     Dinner"
      ]
     },
     "execution_count": 22,
     "metadata": {},
     "output_type": "execute_result"
    }
   ],
   "source": [
    "food_grp_req_df = pickle.load(open(\"food_grp_req_df.obj\", \"rb\"))\n",
    "food_grp_req_df"
   ]
  },
  {
   "cell_type": "code",
   "execution_count": 23,
   "metadata": {
    "collapsed": true
   },
   "outputs": [],
   "source": [
    "usda_brands = nut_sm['brand'][(nut_sm.food_type_grp=='grocery') & (nut_sm.source=='usda_branded')].unique()"
   ]
  },
  {
   "cell_type": "code",
   "execution_count": 24,
   "metadata": {
    "collapsed": false
   },
   "outputs": [
    {
     "data": {
      "text/plain": [
       "22191"
      ]
     },
     "execution_count": 24,
     "metadata": {},
     "output_type": "execute_result"
    }
   ],
   "source": [
    "len(usda_brands)"
   ]
  },
  {
   "cell_type": "code",
   "execution_count": 25,
   "metadata": {
    "collapsed": false
   },
   "outputs": [
    {
     "data": {
      "text/html": [
       "<div>\n",
       "<table border=\"1\" class=\"dataframe\">\n",
       "  <thead>\n",
       "    <tr style=\"text-align: right;\">\n",
       "      <th></th>\n",
       "      <th>food_key</th>\n",
       "      <th>food_description</th>\n",
       "      <th>brand</th>\n",
       "      <th>food_type_grp</th>\n",
       "      <th>source</th>\n",
       "      <th>ingredients_list</th>\n",
       "      <th>serving_size_raw</th>\n",
       "      <th>serving_size_val</th>\n",
       "      <th>serving_size_unit</th>\n",
       "      <th>calories</th>\n",
       "      <th>...</th>\n",
       "      <th>saturated_fat_g</th>\n",
       "      <th>carb_g</th>\n",
       "      <th>fiber_g</th>\n",
       "      <th>sugar_g</th>\n",
       "      <th>sodium_mg</th>\n",
       "      <th>cholesterol_mg</th>\n",
       "      <th>calcium_mg</th>\n",
       "      <th>iron_mg</th>\n",
       "      <th>vit_a_mcg</th>\n",
       "      <th>vit_c_mg</th>\n",
       "    </tr>\n",
       "  </thead>\n",
       "  <tbody>\n",
       "    <tr>\n",
       "      <th>0</th>\n",
       "      <td>234617</td>\n",
       "      <td>Egg Cream, Chocolate flavored</td>\n",
       "      <td>5 &amp; Diner</td>\n",
       "      <td>restaurant</td>\n",
       "      <td>diet_facts_restaurants</td>\n",
       "      <td>NaN</td>\n",
       "      <td>1 egg cream</td>\n",
       "      <td>NaN</td>\n",
       "      <td>NaN</td>\n",
       "      <td>211.0</td>\n",
       "      <td>...</td>\n",
       "      <td>1.50</td>\n",
       "      <td>42.87</td>\n",
       "      <td>0.00</td>\n",
       "      <td>6.50</td>\n",
       "      <td>191.41</td>\n",
       "      <td>12.50</td>\n",
       "      <td>180.0</td>\n",
       "      <td>2.16</td>\n",
       "      <td>250.0</td>\n",
       "      <td>1.2</td>\n",
       "    </tr>\n",
       "    <tr>\n",
       "      <th>1</th>\n",
       "      <td>234618</td>\n",
       "      <td>Egg Cream, Vanilla flavored</td>\n",
       "      <td>5 &amp; Diner</td>\n",
       "      <td>restaurant</td>\n",
       "      <td>diet_facts_restaurants</td>\n",
       "      <td>NaN</td>\n",
       "      <td>1 egg cream</td>\n",
       "      <td>NaN</td>\n",
       "      <td>NaN</td>\n",
       "      <td>205.0</td>\n",
       "      <td>...</td>\n",
       "      <td>1.50</td>\n",
       "      <td>44.50</td>\n",
       "      <td>0.00</td>\n",
       "      <td>44.50</td>\n",
       "      <td>85.00</td>\n",
       "      <td>12.50</td>\n",
       "      <td>180.0</td>\n",
       "      <td>0.00</td>\n",
       "      <td>250.0</td>\n",
       "      <td>1.2</td>\n",
       "    </tr>\n",
       "    <tr>\n",
       "      <th>2</th>\n",
       "      <td>234619</td>\n",
       "      <td>Eggs Benedict</td>\n",
       "      <td>5 &amp; Diner</td>\n",
       "      <td>restaurant</td>\n",
       "      <td>diet_facts_restaurants</td>\n",
       "      <td>two poached eggs on top of sliced ham and an E...</td>\n",
       "      <td>1 order</td>\n",
       "      <td>NaN</td>\n",
       "      <td>NaN</td>\n",
       "      <td>702.0</td>\n",
       "      <td>...</td>\n",
       "      <td>24.12</td>\n",
       "      <td>36.44</td>\n",
       "      <td>1.35</td>\n",
       "      <td>10.01</td>\n",
       "      <td>1864.89</td>\n",
       "      <td>562.57</td>\n",
       "      <td>220.0</td>\n",
       "      <td>4.14</td>\n",
       "      <td>2000.0</td>\n",
       "      <td>21.0</td>\n",
       "    </tr>\n",
       "    <tr>\n",
       "      <th>3</th>\n",
       "      <td>234620</td>\n",
       "      <td>Eggs Maximilian with Chorizo</td>\n",
       "      <td>5 &amp; Diner</td>\n",
       "      <td>restaurant</td>\n",
       "      <td>diet_facts_restaurants</td>\n",
       "      <td>NaN</td>\n",
       "      <td>1 order</td>\n",
       "      <td>NaN</td>\n",
       "      <td>NaN</td>\n",
       "      <td>1353.0</td>\n",
       "      <td>...</td>\n",
       "      <td>27.58</td>\n",
       "      <td>75.24</td>\n",
       "      <td>6.30</td>\n",
       "      <td>6.98</td>\n",
       "      <td>2033.99</td>\n",
       "      <td>751.81</td>\n",
       "      <td>440.0</td>\n",
       "      <td>7.38</td>\n",
       "      <td>4150.0</td>\n",
       "      <td>79.2</td>\n",
       "    </tr>\n",
       "    <tr>\n",
       "      <th>4</th>\n",
       "      <td>234621</td>\n",
       "      <td>Fish and Chips</td>\n",
       "      <td>5 &amp; Diner</td>\n",
       "      <td>restaurant</td>\n",
       "      <td>diet_facts_restaurants</td>\n",
       "      <td>battered cod served with French fries, corn on...</td>\n",
       "      <td>1 order</td>\n",
       "      <td>NaN</td>\n",
       "      <td>NaN</td>\n",
       "      <td>672.0</td>\n",
       "      <td>...</td>\n",
       "      <td>1.09</td>\n",
       "      <td>77.55</td>\n",
       "      <td>1.08</td>\n",
       "      <td>0.94</td>\n",
       "      <td>1904.20</td>\n",
       "      <td>109.72</td>\n",
       "      <td>140.0</td>\n",
       "      <td>4.86</td>\n",
       "      <td>650.0</td>\n",
       "      <td>3.6</td>\n",
       "    </tr>\n",
       "  </tbody>\n",
       "</table>\n",
       "<p>5 rows × 22 columns</p>\n",
       "</div>"
      ],
      "text/plain": [
       "  food_key               food_description      brand food_type_grp  \\\n",
       "0   234617  Egg Cream, Chocolate flavored  5 & Diner    restaurant   \n",
       "1   234618    Egg Cream, Vanilla flavored  5 & Diner    restaurant   \n",
       "2   234619                  Eggs Benedict  5 & Diner    restaurant   \n",
       "3   234620   Eggs Maximilian with Chorizo  5 & Diner    restaurant   \n",
       "4   234621                 Fish and Chips  5 & Diner    restaurant   \n",
       "\n",
       "                   source                                   ingredients_list  \\\n",
       "0  diet_facts_restaurants                                                NaN   \n",
       "1  diet_facts_restaurants                                                NaN   \n",
       "2  diet_facts_restaurants  two poached eggs on top of sliced ham and an E...   \n",
       "3  diet_facts_restaurants                                                NaN   \n",
       "4  diet_facts_restaurants  battered cod served with French fries, corn on...   \n",
       "\n",
       "  serving_size_raw  serving_size_val  serving_size_unit  calories    ...     \\\n",
       "0      1 egg cream               NaN                NaN     211.0    ...      \n",
       "1      1 egg cream               NaN                NaN     205.0    ...      \n",
       "2          1 order               NaN                NaN     702.0    ...      \n",
       "3          1 order               NaN                NaN    1353.0    ...      \n",
       "4          1 order               NaN                NaN     672.0    ...      \n",
       "\n",
       "   saturated_fat_g  carb_g  fiber_g  sugar_g  sodium_mg  cholesterol_mg  \\\n",
       "0             1.50   42.87     0.00     6.50     191.41           12.50   \n",
       "1             1.50   44.50     0.00    44.50      85.00           12.50   \n",
       "2            24.12   36.44     1.35    10.01    1864.89          562.57   \n",
       "3            27.58   75.24     6.30     6.98    2033.99          751.81   \n",
       "4             1.09   77.55     1.08     0.94    1904.20          109.72   \n",
       "\n",
       "   calcium_mg  iron_mg  vit_a_mcg  vit_c_mg  \n",
       "0       180.0     2.16      250.0       1.2  \n",
       "1       180.0     0.00      250.0       1.2  \n",
       "2       220.0     4.14     2000.0      21.0  \n",
       "3       440.0     7.38     4150.0      79.2  \n",
       "4       140.0     4.86      650.0       3.6  \n",
       "\n",
       "[5 rows x 22 columns]"
      ]
     },
     "execution_count": 25,
     "metadata": {},
     "output_type": "execute_result"
    }
   ],
   "source": [
    "nut_sm.head()"
   ]
  },
  {
   "cell_type": "markdown",
   "metadata": {},
   "source": [
    "## Recommendations"
   ]
  },
  {
   "cell_type": "code",
   "execution_count": 2,
   "metadata": {
    "collapsed": false
   },
   "outputs": [],
   "source": [
    "# Loading all relevant data\n",
    "# Cal & Macro Req\n",
    "cal_req=pickle.load(open(\"cal_req.obj\", \"rb\"))\n",
    "tdee=pickle.load(open(\"tdee.obj\", \"rb\"))\n",
    "prot_perc, fat_perc, carb_perc = pickle.load( open('prot_perc.obj','rb')), pickle.load(open('fat_perc.obj', 'rb')), pickle.load(open('carb_perc.obj', 'rb'))\n",
    "# Dietary Requirements\n",
    "food_grp_req_df = pickle.load(open(\"food_grp_req_df.obj\", \"rb\"))\n",
    "vit_ind = pickle.load(open(\"vit_ind.obj\", \"rb\"))\n",
    "sug_ind = pickle.load(open(\"sug_ind.obj\", \"rb\"))\n",
    "# Food likes and dislikes\n",
    "dislikes = pickle.load(open(\"dislikes.obj\", \"rb\"))\n",
    "likes = pickle.load(open(\"likes.obj\", \"rb\"))\n",
    "# Restaurants near me, likes / dislikes (should probably merge with next section)\n",
    "my_home_rests = pickle.load(open(\"my_home_rests.obj\", \"rb\"))\n",
    "my_work_rests = pickle.load(open(\"my_work_rests.obj\", \"rb\"))\n",
    "# Meal Type Requirements\n",
    "meals_df=pickle.load(open('meals_df.obj', 'rb'))\n",
    "food_type_preferences=pickle.load(open('food_type_preferences.obj', 'rb'))"
   ]
  },
  {
   "cell_type": "code",
   "execution_count": 55,
   "metadata": {
    "collapsed": false
   },
   "outputs": [],
   "source": [
    "rest_dict = {'home':my_home_rests,'work':my_work_rests}"
   ]
  },
  {
   "cell_type": "markdown",
   "metadata": {},
   "source": [
    "Need to read in the data with the labels and tags"
   ]
  },
  {
   "cell_type": "code",
   "execution_count": 3,
   "metadata": {
    "collapsed": false
   },
   "outputs": [],
   "source": [
    "# Reading in data with serving size unit and val filled out\n",
    "df = pd.read_csv('C:/Users/J/Desktop/Businesses/Meal_Maker/Scraped_Data/combined_nutrition_small/nutrition_sm_processed_ss.csv',encoding='ISO-8859-1')"
   ]
  },
  {
   "cell_type": "code",
   "execution_count": 4,
   "metadata": {
    "collapsed": false
   },
   "outputs": [],
   "source": [
    "# Reading in tags and groups df\n",
    "usda_grps = pd.read_csv(\"C:/Users/J/Desktop/Businesses/Meal_Maker/Food Classifications/labeled_data/usda_exact_match.csv\", encoding='ISO-8859-1')"
   ]
  },
  {
   "cell_type": "code",
   "execution_count": 5,
   "metadata": {
    "collapsed": false
   },
   "outputs": [],
   "source": [
    "usda_grps_fuz = pd.read_csv(\"C:/Users/J/Desktop/Businesses/Meal_Maker/Food Classifications/labeled_data/usda_fuzzy_match_.8.csv\",encoding='ISO-8859-1')"
   ]
  },
  {
   "cell_type": "code",
   "execution_count": 7,
   "metadata": {
    "collapsed": false
   },
   "outputs": [
    {
     "data": {
      "text/html": [
       "<div>\n",
       "<table border=\"1\" class=\"dataframe\">\n",
       "  <thead>\n",
       "    <tr style=\"text-align: right;\">\n",
       "      <th></th>\n",
       "      <th>food_description</th>\n",
       "      <th>brand</th>\n",
       "      <th>food_type_grp</th>\n",
       "      <th>ingredients_list</th>\n",
       "      <th>matched</th>\n",
       "      <th>Food</th>\n",
       "      <th>Group</th>\n",
       "      <th>Subgroup</th>\n",
       "    </tr>\n",
       "  </thead>\n",
       "  <tbody>\n",
       "    <tr>\n",
       "      <th>0</th>\n",
       "      <td>French Fries</td>\n",
       "      <td>5 &amp; Diner</td>\n",
       "      <td>restaurant</td>\n",
       "      <td>NaN</td>\n",
       "      <td>French Fries</td>\n",
       "      <td>French Fries</td>\n",
       "      <td>Vegetables</td>\n",
       "      <td>Starchy Vegetables</td>\n",
       "    </tr>\n",
       "    <tr>\n",
       "      <th>1</th>\n",
       "      <td>French Fries</td>\n",
       "      <td>Bob Evans</td>\n",
       "      <td>restaurant</td>\n",
       "      <td>NaN</td>\n",
       "      <td>French Fries</td>\n",
       "      <td>French Fries</td>\n",
       "      <td>Vegetables</td>\n",
       "      <td>Starchy Vegetables</td>\n",
       "    </tr>\n",
       "    <tr>\n",
       "      <th>2</th>\n",
       "      <td>French Fries</td>\n",
       "      <td>Boston Pizza (Canada)</td>\n",
       "      <td>restaurant</td>\n",
       "      <td>NaN</td>\n",
       "      <td>French Fries</td>\n",
       "      <td>French Fries</td>\n",
       "      <td>Vegetables</td>\n",
       "      <td>Starchy Vegetables</td>\n",
       "    </tr>\n",
       "    <tr>\n",
       "      <th>3</th>\n",
       "      <td>French Fries</td>\n",
       "      <td>Brown's Chicken &amp; Pasta</td>\n",
       "      <td>restaurant</td>\n",
       "      <td>NaN</td>\n",
       "      <td>French Fries</td>\n",
       "      <td>French Fries</td>\n",
       "      <td>Vegetables</td>\n",
       "      <td>Starchy Vegetables</td>\n",
       "    </tr>\n",
       "    <tr>\n",
       "      <th>4</th>\n",
       "      <td>Kids' French Fries</td>\n",
       "      <td>Buffalo Wild Wings</td>\n",
       "      <td>restaurant</td>\n",
       "      <td>NaN</td>\n",
       "      <td>French Fries</td>\n",
       "      <td>French Fries</td>\n",
       "      <td>Vegetables</td>\n",
       "      <td>Starchy Vegetables</td>\n",
       "    </tr>\n",
       "    <tr>\n",
       "      <th>5</th>\n",
       "      <td>French Fries</td>\n",
       "      <td>Captain D's</td>\n",
       "      <td>restaurant</td>\n",
       "      <td>NaN</td>\n",
       "      <td>French Fries</td>\n",
       "      <td>French Fries</td>\n",
       "      <td>Vegetables</td>\n",
       "      <td>Starchy Vegetables</td>\n",
       "    </tr>\n",
       "    <tr>\n",
       "      <th>6</th>\n",
       "      <td>French Fries</td>\n",
       "      <td>Church's Chicken</td>\n",
       "      <td>restaurant</td>\n",
       "      <td>NaN</td>\n",
       "      <td>French Fries</td>\n",
       "      <td>French Fries</td>\n",
       "      <td>Vegetables</td>\n",
       "      <td>Starchy Vegetables</td>\n",
       "    </tr>\n",
       "    <tr>\n",
       "      <th>7</th>\n",
       "      <td>French Fries</td>\n",
       "      <td>Country Buffet</td>\n",
       "      <td>restaurant</td>\n",
       "      <td>NaN</td>\n",
       "      <td>French Fries</td>\n",
       "      <td>French Fries</td>\n",
       "      <td>Vegetables</td>\n",
       "      <td>Starchy Vegetables</td>\n",
       "    </tr>\n",
       "    <tr>\n",
       "      <th>8</th>\n",
       "      <td>French Fries</td>\n",
       "      <td>Eat'n Park</td>\n",
       "      <td>restaurant</td>\n",
       "      <td>NaN</td>\n",
       "      <td>French Fries</td>\n",
       "      <td>French Fries</td>\n",
       "      <td>Vegetables</td>\n",
       "      <td>Starchy Vegetables</td>\n",
       "    </tr>\n",
       "    <tr>\n",
       "      <th>9</th>\n",
       "      <td>French Fries</td>\n",
       "      <td>El Pollo Loco</td>\n",
       "      <td>restaurant</td>\n",
       "      <td>NaN</td>\n",
       "      <td>French Fries</td>\n",
       "      <td>French Fries</td>\n",
       "      <td>Vegetables</td>\n",
       "      <td>Starchy Vegetables</td>\n",
       "    </tr>\n",
       "    <tr>\n",
       "      <th>10</th>\n",
       "      <td>Kids French Fries</td>\n",
       "      <td>El Pollo Loco</td>\n",
       "      <td>restaurant</td>\n",
       "      <td>NaN</td>\n",
       "      <td>French Fries</td>\n",
       "      <td>French Fries</td>\n",
       "      <td>Vegetables</td>\n",
       "      <td>Starchy Vegetables</td>\n",
       "    </tr>\n",
       "    <tr>\n",
       "      <th>11</th>\n",
       "      <td>French Fries</td>\n",
       "      <td>Farmer Boy's</td>\n",
       "      <td>restaurant</td>\n",
       "      <td>NaN</td>\n",
       "      <td>French Fries</td>\n",
       "      <td>French Fries</td>\n",
       "      <td>Vegetables</td>\n",
       "      <td>Starchy Vegetables</td>\n",
       "    </tr>\n",
       "    <tr>\n",
       "      <th>12</th>\n",
       "      <td>French Fries</td>\n",
       "      <td>Friendly's</td>\n",
       "      <td>restaurant</td>\n",
       "      <td>(6-ounce size)</td>\n",
       "      <td>French Fries</td>\n",
       "      <td>French Fries</td>\n",
       "      <td>Vegetables</td>\n",
       "      <td>Starchy Vegetables</td>\n",
       "    </tr>\n",
       "    <tr>\n",
       "      <th>13</th>\n",
       "      <td>Kid's French Fries</td>\n",
       "      <td>Ground Round</td>\n",
       "      <td>grocery</td>\n",
       "      <td>NaN</td>\n",
       "      <td>French Fries</td>\n",
       "      <td>French Fries</td>\n",
       "      <td>Vegetables</td>\n",
       "      <td>Starchy Vegetables</td>\n",
       "    </tr>\n",
       "    <tr>\n",
       "      <th>14</th>\n",
       "      <td>French Fries</td>\n",
       "      <td>H. Salt Fish &amp; Chips</td>\n",
       "      <td>restaurant</td>\n",
       "      <td>(approx. 30-40 fries)</td>\n",
       "      <td>French Fries</td>\n",
       "      <td>French Fries</td>\n",
       "      <td>Vegetables</td>\n",
       "      <td>Starchy Vegetables</td>\n",
       "    </tr>\n",
       "    <tr>\n",
       "      <th>15</th>\n",
       "      <td>French Fries</td>\n",
       "      <td>Hometown Buffet</td>\n",
       "      <td>restaurant</td>\n",
       "      <td>NaN</td>\n",
       "      <td>French Fries</td>\n",
       "      <td>French Fries</td>\n",
       "      <td>Vegetables</td>\n",
       "      <td>Starchy Vegetables</td>\n",
       "    </tr>\n",
       "    <tr>\n",
       "      <th>16</th>\n",
       "      <td>French Fries</td>\n",
       "      <td>HOSS's Family Steak &amp; Sea House</td>\n",
       "      <td>restaurant</td>\n",
       "      <td>NaN</td>\n",
       "      <td>French Fries</td>\n",
       "      <td>French Fries</td>\n",
       "      <td>Vegetables</td>\n",
       "      <td>Starchy Vegetables</td>\n",
       "    </tr>\n",
       "    <tr>\n",
       "      <th>17</th>\n",
       "      <td>French Fries</td>\n",
       "      <td>Hot Dog On A Stick</td>\n",
       "      <td>restaurant</td>\n",
       "      <td>NaN</td>\n",
       "      <td>French Fries</td>\n",
       "      <td>French Fries</td>\n",
       "      <td>Vegetables</td>\n",
       "      <td>Starchy Vegetables</td>\n",
       "    </tr>\n",
       "    <tr>\n",
       "      <th>18</th>\n",
       "      <td>French Fries</td>\n",
       "      <td>Houlihan's Restaurant</td>\n",
       "      <td>restaurant</td>\n",
       "      <td>NaN</td>\n",
       "      <td>French Fries</td>\n",
       "      <td>French Fries</td>\n",
       "      <td>Vegetables</td>\n",
       "      <td>Starchy Vegetables</td>\n",
       "    </tr>\n",
       "    <tr>\n",
       "      <th>19</th>\n",
       "      <td>Kid's French Fries</td>\n",
       "      <td>Houlihan's Restaurant</td>\n",
       "      <td>restaurant</td>\n",
       "      <td>NaN</td>\n",
       "      <td>French Fries</td>\n",
       "      <td>French Fries</td>\n",
       "      <td>Vegetables</td>\n",
       "      <td>Starchy Vegetables</td>\n",
       "    </tr>\n",
       "    <tr>\n",
       "      <th>20</th>\n",
       "      <td>French Fries</td>\n",
       "      <td>Ivar's</td>\n",
       "      <td>restaurant</td>\n",
       "      <td>NaN</td>\n",
       "      <td>French Fries</td>\n",
       "      <td>French Fries</td>\n",
       "      <td>Vegetables</td>\n",
       "      <td>Starchy Vegetables</td>\n",
       "    </tr>\n",
       "    <tr>\n",
       "      <th>21</th>\n",
       "      <td>French Fries</td>\n",
       "      <td>Lion's Choice</td>\n",
       "      <td>restaurant</td>\n",
       "      <td>NaN</td>\n",
       "      <td>French Fries</td>\n",
       "      <td>French Fries</td>\n",
       "      <td>Vegetables</td>\n",
       "      <td>Starchy Vegetables</td>\n",
       "    </tr>\n",
       "    <tr>\n",
       "      <th>22</th>\n",
       "      <td>French Fries</td>\n",
       "      <td>Lynden Farms</td>\n",
       "      <td>grocery</td>\n",
       "      <td>frozen</td>\n",
       "      <td>French Fries</td>\n",
       "      <td>French Fries</td>\n",
       "      <td>Vegetables</td>\n",
       "      <td>Starchy Vegetables</td>\n",
       "    </tr>\n",
       "    <tr>\n",
       "      <th>23</th>\n",
       "      <td>Small French Fries</td>\n",
       "      <td>McDonald's</td>\n",
       "      <td>grocery</td>\n",
       "      <td>Golden, long, thin, perfectly salted fries tha...</td>\n",
       "      <td>French Fries</td>\n",
       "      <td>French Fries</td>\n",
       "      <td>Vegetables</td>\n",
       "      <td>Starchy Vegetables</td>\n",
       "    </tr>\n",
       "    <tr>\n",
       "      <th>24</th>\n",
       "      <td>Kid's French Fries</td>\n",
       "      <td>Ninety Nine</td>\n",
       "      <td>restaurant</td>\n",
       "      <td>NaN</td>\n",
       "      <td>French Fries</td>\n",
       "      <td>French Fries</td>\n",
       "      <td>Vegetables</td>\n",
       "      <td>Starchy Vegetables</td>\n",
       "    </tr>\n",
       "    <tr>\n",
       "      <th>25</th>\n",
       "      <td>French Fries</td>\n",
       "      <td>Old Country Buffet</td>\n",
       "      <td>restaurant</td>\n",
       "      <td>NaN</td>\n",
       "      <td>French Fries</td>\n",
       "      <td>French Fries</td>\n",
       "      <td>Vegetables</td>\n",
       "      <td>Starchy Vegetables</td>\n",
       "    </tr>\n",
       "    <tr>\n",
       "      <th>26</th>\n",
       "      <td>French Fries, Side</td>\n",
       "      <td>O'Charley's</td>\n",
       "      <td>restaurant</td>\n",
       "      <td>NaN</td>\n",
       "      <td>French Fries</td>\n",
       "      <td>French Fries</td>\n",
       "      <td>Vegetables</td>\n",
       "      <td>Starchy Vegetables</td>\n",
       "    </tr>\n",
       "    <tr>\n",
       "      <th>27</th>\n",
       "      <td>French Fries</td>\n",
       "      <td>Original Tommy's</td>\n",
       "      <td>restaurant</td>\n",
       "      <td>NaN</td>\n",
       "      <td>French Fries</td>\n",
       "      <td>French Fries</td>\n",
       "      <td>Vegetables</td>\n",
       "      <td>Starchy Vegetables</td>\n",
       "    </tr>\n",
       "    <tr>\n",
       "      <th>28</th>\n",
       "      <td>French Fries</td>\n",
       "      <td>Pizzeria Uno Chicago Bar &amp; Grill</td>\n",
       "      <td>grocery</td>\n",
       "      <td>golden and crispy</td>\n",
       "      <td>French Fries</td>\n",
       "      <td>French Fries</td>\n",
       "      <td>Vegetables</td>\n",
       "      <td>Starchy Vegetables</td>\n",
       "    </tr>\n",
       "    <tr>\n",
       "      <th>29</th>\n",
       "      <td>French Fries</td>\n",
       "      <td>Popeye's Louisiana Kitchen</td>\n",
       "      <td>restaurant</td>\n",
       "      <td>NaN</td>\n",
       "      <td>French Fries</td>\n",
       "      <td>French Fries</td>\n",
       "      <td>Vegetables</td>\n",
       "      <td>Starchy Vegetables</td>\n",
       "    </tr>\n",
       "    <tr>\n",
       "      <th>...</th>\n",
       "      <td>...</td>\n",
       "      <td>...</td>\n",
       "      <td>...</td>\n",
       "      <td>...</td>\n",
       "      <td>...</td>\n",
       "      <td>...</td>\n",
       "      <td>...</td>\n",
       "      <td>...</td>\n",
       "    </tr>\n",
       "    <tr>\n",
       "      <th>4135</th>\n",
       "      <td>Tangerines, (mandarin oranges), canned, light ...</td>\n",
       "      <td>Fruits and Fruit Juices</td>\n",
       "      <td>grocery</td>\n",
       "      <td>NaN</td>\n",
       "      <td>Tangerines, mandarin oranges, canned , juice pack</td>\n",
       "      <td>Tangerines, mandarin oranges, canned , juice pack</td>\n",
       "      <td>Fruit</td>\n",
       "      <td>Whole Fruit</td>\n",
       "    </tr>\n",
       "    <tr>\n",
       "      <th>4136</th>\n",
       "      <td>Taro, cooked, without salt</td>\n",
       "      <td>Vegetables and Vegetable Products</td>\n",
       "      <td>grocery</td>\n",
       "      <td>NaN</td>\n",
       "      <td>cooked without salt</td>\n",
       "      <td>cooked without salt</td>\n",
       "      <td>Grain</td>\n",
       "      <td>Refined Grains</td>\n",
       "    </tr>\n",
       "    <tr>\n",
       "      <th>4137</th>\n",
       "      <td>Tomatoes, red, ripe, cooked</td>\n",
       "      <td>Vegetables and Vegetable Products</td>\n",
       "      <td>grocery</td>\n",
       "      <td>NaN</td>\n",
       "      <td>Tomatoes, red, ripe, raw</td>\n",
       "      <td>Tomatoes, red, ripe, raw</td>\n",
       "      <td>Vegetables</td>\n",
       "      <td>Red and Orange Vegetables</td>\n",
       "    </tr>\n",
       "    <tr>\n",
       "      <th>4138</th>\n",
       "      <td>Tomatoes, green, raw</td>\n",
       "      <td>Vegetables and Vegetable Products</td>\n",
       "      <td>grocery</td>\n",
       "      <td>NaN</td>\n",
       "      <td>Tomatoes, red, ripe, raw</td>\n",
       "      <td>Tomatoes, red, ripe, raw</td>\n",
       "      <td>Vegetables</td>\n",
       "      <td>Red and Orange Vegetables</td>\n",
       "    </tr>\n",
       "    <tr>\n",
       "      <th>4139</th>\n",
       "      <td>Tofu, raw, firm, prepared with calcium sulfate</td>\n",
       "      <td>Legumes and Legume Products</td>\n",
       "      <td>grocery</td>\n",
       "      <td>NaN</td>\n",
       "      <td>Tofu, firm, prepared with calcium sulfate and ...</td>\n",
       "      <td>Tofu, firm, prepared with calcium sulfate and ...</td>\n",
       "      <td>Protein Foods</td>\n",
       "      <td>Processed Soy Products</td>\n",
       "    </tr>\n",
       "    <tr>\n",
       "      <th>4140</th>\n",
       "      <td>Tofu, firm, prepared with calcium sulfate and ...</td>\n",
       "      <td>Legumes and Legume Products</td>\n",
       "      <td>grocery</td>\n",
       "      <td>NaN</td>\n",
       "      <td>Tofu, firm, prepared with calcium sulfate and ...</td>\n",
       "      <td>Tofu, firm, prepared with calcium sulfate and ...</td>\n",
       "      <td>Protein Foods</td>\n",
       "      <td>Processed Soy Products</td>\n",
       "    </tr>\n",
       "    <tr>\n",
       "      <th>4141</th>\n",
       "      <td>Tofu, fried, prepared with calcium sulfate</td>\n",
       "      <td>Legumes and Legume Products</td>\n",
       "      <td>grocery</td>\n",
       "      <td>NaN</td>\n",
       "      <td>Tofu, firm, prepared with calcium sulfate and ...</td>\n",
       "      <td>Tofu, firm, prepared with calcium sulfate and ...</td>\n",
       "      <td>Protein Foods</td>\n",
       "      <td>Processed Soy Products</td>\n",
       "    </tr>\n",
       "    <tr>\n",
       "      <th>4142</th>\n",
       "      <td>Tofu, soft, prepared with calcium sulfate and ...</td>\n",
       "      <td>Legumes and Legume Products</td>\n",
       "      <td>grocery</td>\n",
       "      <td>NaN</td>\n",
       "      <td>Tofu, firm, prepared with calcium sulfate and ...</td>\n",
       "      <td>Tofu, firm, prepared with calcium sulfate and ...</td>\n",
       "      <td>Protein Foods</td>\n",
       "      <td>Processed Soy Products</td>\n",
       "    </tr>\n",
       "    <tr>\n",
       "      <th>4143</th>\n",
       "      <td>Tomatillos, raw</td>\n",
       "      <td>Vegetables and Vegetable Products</td>\n",
       "      <td>grocery</td>\n",
       "      <td>NaN</td>\n",
       "      <td>Tomatillos, raw</td>\n",
       "      <td>Tomatillos, raw</td>\n",
       "      <td>Vegetables</td>\n",
       "      <td>Other Vegetables</td>\n",
       "    </tr>\n",
       "    <tr>\n",
       "      <th>4144</th>\n",
       "      <td>Tomato juice, canned, without salt added</td>\n",
       "      <td>Vegetables and Vegetable Products</td>\n",
       "      <td>grocery</td>\n",
       "      <td>NaN</td>\n",
       "      <td>Tomato juice, canned, without salt added</td>\n",
       "      <td>Tomato juice, canned, without salt added</td>\n",
       "      <td>Vegetables</td>\n",
       "      <td>Red and Orange Vegetables</td>\n",
       "    </tr>\n",
       "    <tr>\n",
       "      <th>4145</th>\n",
       "      <td>Tomato juice, canned, with salt added</td>\n",
       "      <td>Vegetables and Vegetable Products</td>\n",
       "      <td>grocery</td>\n",
       "      <td>NaN</td>\n",
       "      <td>Tomato juice, canned, without salt added</td>\n",
       "      <td>Tomato juice, canned, without salt added</td>\n",
       "      <td>Vegetables</td>\n",
       "      <td>Red and Orange Vegetables</td>\n",
       "    </tr>\n",
       "    <tr>\n",
       "      <th>4146</th>\n",
       "      <td>Tomato sauce, canned, no salt added</td>\n",
       "      <td>Vegetables and Vegetable Products</td>\n",
       "      <td>grocery</td>\n",
       "      <td>NaN</td>\n",
       "      <td>Tomato juice, canned, without salt added</td>\n",
       "      <td>Tomato juice, canned, without salt added</td>\n",
       "      <td>Vegetables</td>\n",
       "      <td>Red and Orange Vegetables</td>\n",
       "    </tr>\n",
       "    <tr>\n",
       "      <th>4147</th>\n",
       "      <td>Tomato products, canned, paste, without salt a...</td>\n",
       "      <td>Vegetables and Vegetable Products</td>\n",
       "      <td>grocery</td>\n",
       "      <td>NaN</td>\n",
       "      <td>Tomatoes, canned, puree, without salt added</td>\n",
       "      <td>Tomatoes, canned, puree, without salt added</td>\n",
       "      <td>Vegetables</td>\n",
       "      <td>Red and Orange Vegetables</td>\n",
       "    </tr>\n",
       "    <tr>\n",
       "      <th>4148</th>\n",
       "      <td>Tomato products, canned, puree, without salt a...</td>\n",
       "      <td>Vegetables and Vegetable Products</td>\n",
       "      <td>grocery</td>\n",
       "      <td>NaN</td>\n",
       "      <td>Tomatoes, canned, puree, without salt added</td>\n",
       "      <td>Tomatoes, canned, puree, without salt added</td>\n",
       "      <td>Vegetables</td>\n",
       "      <td>Red and Orange Vegetables</td>\n",
       "    </tr>\n",
       "    <tr>\n",
       "      <th>4149</th>\n",
       "      <td>Tomato products, canned, puree, with salt added</td>\n",
       "      <td>Vegetables and Vegetable Products</td>\n",
       "      <td>grocery</td>\n",
       "      <td>NaN</td>\n",
       "      <td>Tomatoes, canned, puree, without salt added</td>\n",
       "      <td>Tomatoes, canned, puree, without salt added</td>\n",
       "      <td>Vegetables</td>\n",
       "      <td>Red and Orange Vegetables</td>\n",
       "    </tr>\n",
       "    <tr>\n",
       "      <th>4150</th>\n",
       "      <td>Tortillas, ready-to-bake or -fry, corn</td>\n",
       "      <td>Baked Products</td>\n",
       "      <td>grocery</td>\n",
       "      <td>NaN</td>\n",
       "      <td>Tortillas, ready-to-bake or -fry, corn</td>\n",
       "      <td>Tortillas, ready-to-bake or -fry, corn</td>\n",
       "      <td>Grain</td>\n",
       "      <td>Refined Grains</td>\n",
       "    </tr>\n",
       "    <tr>\n",
       "      <th>4151</th>\n",
       "      <td>Tortillas, ready-to-bake or -fry, whole wheat</td>\n",
       "      <td>Baked Products</td>\n",
       "      <td>grocery</td>\n",
       "      <td>NaN</td>\n",
       "      <td>Tortillas, ready-to-bake or -fry, corn</td>\n",
       "      <td>Tortillas, ready-to-bake or -fry, corn</td>\n",
       "      <td>Grain</td>\n",
       "      <td>Refined Grains</td>\n",
       "    </tr>\n",
       "    <tr>\n",
       "      <th>4152</th>\n",
       "      <td>Tortillas, ready-to-bake or -fry, flour, refri...</td>\n",
       "      <td>Baked Products</td>\n",
       "      <td>grocery</td>\n",
       "      <td>NaN</td>\n",
       "      <td>Tortillas, ready-to-bake or -fry, flour</td>\n",
       "      <td>Tortillas, ready-to-bake or -fry, flour</td>\n",
       "      <td>Grain</td>\n",
       "      <td>Refined Grains</td>\n",
       "    </tr>\n",
       "    <tr>\n",
       "      <th>4153</th>\n",
       "      <td>Tortillas, ready-to-bake or -fry, flour, shelf...</td>\n",
       "      <td>Baked Products</td>\n",
       "      <td>grocery</td>\n",
       "      <td>NaN</td>\n",
       "      <td>Tortillas, ready-to-bake or -fry, flour</td>\n",
       "      <td>Tortillas, ready-to-bake or -fry, flour</td>\n",
       "      <td>Grain</td>\n",
       "      <td>Refined Grains</td>\n",
       "    </tr>\n",
       "    <tr>\n",
       "      <th>4154</th>\n",
       "      <td>Turtle, green, raw</td>\n",
       "      <td>Finfish and Shellfish Products</td>\n",
       "      <td>grocery</td>\n",
       "      <td>NaN</td>\n",
       "      <td>Turtle, green, raw</td>\n",
       "      <td>Turtle, green, raw</td>\n",
       "      <td>Protein Foods</td>\n",
       "      <td>Low Omega-3 Fish</td>\n",
       "    </tr>\n",
       "    <tr>\n",
       "      <th>4155</th>\n",
       "      <td>Wheat flour, white, all-purpose, enriched, ble...</td>\n",
       "      <td>Cereal Grains and Pasta</td>\n",
       "      <td>grocery</td>\n",
       "      <td>NaN</td>\n",
       "      <td>Wheat flour, white, all-purpose, enriched, ble...</td>\n",
       "      <td>Wheat flour, white, all-purpose, enriched, ble...</td>\n",
       "      <td>Grain</td>\n",
       "      <td>Refined Grains</td>\n",
       "    </tr>\n",
       "    <tr>\n",
       "      <th>4156</th>\n",
       "      <td>Wheat flour, white, all-purpose, enriched, cal...</td>\n",
       "      <td>Cereal Grains and Pasta</td>\n",
       "      <td>grocery</td>\n",
       "      <td>NaN</td>\n",
       "      <td>Wheat flour, white, all-purpose, enriched, ble...</td>\n",
       "      <td>Wheat flour, white, all-purpose, enriched, ble...</td>\n",
       "      <td>Grain</td>\n",
       "      <td>Refined Grains</td>\n",
       "    </tr>\n",
       "    <tr>\n",
       "      <th>4157</th>\n",
       "      <td>Wheat flour, white, all-purpose, enriched, unb...</td>\n",
       "      <td>Cereal Grains and Pasta</td>\n",
       "      <td>grocery</td>\n",
       "      <td>NaN</td>\n",
       "      <td>Wheat flour, white, all-purpose, enriched, ble...</td>\n",
       "      <td>Wheat flour, white, all-purpose, enriched, ble...</td>\n",
       "      <td>Grain</td>\n",
       "      <td>Refined Grains</td>\n",
       "    </tr>\n",
       "    <tr>\n",
       "      <th>4158</th>\n",
       "      <td>Wheat flour, white, all-purpose, unenriched</td>\n",
       "      <td>Cereal Grains and Pasta</td>\n",
       "      <td>grocery</td>\n",
       "      <td>NaN</td>\n",
       "      <td>Wheat flour, white, all-purpose, enriched, ble...</td>\n",
       "      <td>Wheat flour, white, all-purpose, enriched, ble...</td>\n",
       "      <td>Grain</td>\n",
       "      <td>Refined Grains</td>\n",
       "    </tr>\n",
       "    <tr>\n",
       "      <th>4159</th>\n",
       "      <td>Yogurt, plain, skim milk, 13 grams protein per...</td>\n",
       "      <td>Dairy and Egg Products</td>\n",
       "      <td>grocery</td>\n",
       "      <td>NaN</td>\n",
       "      <td>Yogurt, plain, skim milk, 13 grams protein per...</td>\n",
       "      <td>Yogurt, plain, skim milk, 13 grams protein per...</td>\n",
       "      <td>Dairy</td>\n",
       "      <td>Yogurt</td>\n",
       "    </tr>\n",
       "    <tr>\n",
       "      <th>4160</th>\n",
       "      <td>Yogurt, plain, skim milk, 13 grams protein per...</td>\n",
       "      <td>Dairy and Egg Products</td>\n",
       "      <td>grocery</td>\n",
       "      <td>NaN</td>\n",
       "      <td>Yogurt, plain, skim milk, 13 grams protein per...</td>\n",
       "      <td>Yogurt, plain, skim milk, 13 grams protein per...</td>\n",
       "      <td>Dairy</td>\n",
       "      <td>Yogurt</td>\n",
       "    </tr>\n",
       "    <tr>\n",
       "      <th>4161</th>\n",
       "      <td>Yogurt, plain, skim milk, 13 grams protein per...</td>\n",
       "      <td>Dairy and Egg Products</td>\n",
       "      <td>grocery</td>\n",
       "      <td>NaN</td>\n",
       "      <td>Yogurt, plain, skim milk, 13 grams protein per...</td>\n",
       "      <td>Yogurt, plain, skim milk, 13 grams protein per...</td>\n",
       "      <td>Dairy</td>\n",
       "      <td>Yogurt</td>\n",
       "    </tr>\n",
       "    <tr>\n",
       "      <th>4162</th>\n",
       "      <td>Yogurt, plain, whole milk, 8 grams protein per...</td>\n",
       "      <td>Dairy and Egg Products</td>\n",
       "      <td>grocery</td>\n",
       "      <td>NaN</td>\n",
       "      <td>Yogurt, plain, skim milk, 13 grams protein per...</td>\n",
       "      <td>Yogurt, plain, skim milk, 13 grams protein per...</td>\n",
       "      <td>Dairy</td>\n",
       "      <td>Yogurt</td>\n",
       "    </tr>\n",
       "    <tr>\n",
       "      <th>4163</th>\n",
       "      <td>Yogurt, plain, whole milk, 8 grams protein per...</td>\n",
       "      <td>Dairy and Egg Products</td>\n",
       "      <td>grocery</td>\n",
       "      <td>NaN</td>\n",
       "      <td>Yogurt, plain, skim milk, 13 grams protein per...</td>\n",
       "      <td>Yogurt, plain, skim milk, 13 grams protein per...</td>\n",
       "      <td>Dairy</td>\n",
       "      <td>Yogurt</td>\n",
       "    </tr>\n",
       "    <tr>\n",
       "      <th>4164</th>\n",
       "      <td>Yogurt, plain, whole milk, 8 grams protein per...</td>\n",
       "      <td>Dairy and Egg Products</td>\n",
       "      <td>grocery</td>\n",
       "      <td>NaN</td>\n",
       "      <td>Yogurt, plain, skim milk, 13 grams protein per...</td>\n",
       "      <td>Yogurt, plain, skim milk, 13 grams protein per...</td>\n",
       "      <td>Dairy</td>\n",
       "      <td>Yogurt</td>\n",
       "    </tr>\n",
       "  </tbody>\n",
       "</table>\n",
       "<p>4165 rows × 8 columns</p>\n",
       "</div>"
      ],
      "text/plain": [
       "                                       food_description  \\\n",
       "0                                          French Fries   \n",
       "1                                          French Fries   \n",
       "2                                          French Fries   \n",
       "3                                          French Fries   \n",
       "4                                    Kids' French Fries   \n",
       "5                                          French Fries   \n",
       "6                                          French Fries   \n",
       "7                                          French Fries   \n",
       "8                                          French Fries   \n",
       "9                                          French Fries   \n",
       "10                                    Kids French Fries   \n",
       "11                                         French Fries   \n",
       "12                                         French Fries   \n",
       "13                                   Kid's French Fries   \n",
       "14                                         French Fries   \n",
       "15                                         French Fries   \n",
       "16                                         French Fries   \n",
       "17                                         French Fries   \n",
       "18                                         French Fries   \n",
       "19                                   Kid's French Fries   \n",
       "20                                         French Fries   \n",
       "21                                         French Fries   \n",
       "22                                         French Fries   \n",
       "23                                   Small French Fries   \n",
       "24                                   Kid's French Fries   \n",
       "25                                         French Fries   \n",
       "26                                   French Fries, Side   \n",
       "27                                         French Fries   \n",
       "28                                         French Fries   \n",
       "29                                         French Fries   \n",
       "...                                                 ...   \n",
       "4135  Tangerines, (mandarin oranges), canned, light ...   \n",
       "4136                         Taro, cooked, without salt   \n",
       "4137                        Tomatoes, red, ripe, cooked   \n",
       "4138                               Tomatoes, green, raw   \n",
       "4139     Tofu, raw, firm, prepared with calcium sulfate   \n",
       "4140  Tofu, firm, prepared with calcium sulfate and ...   \n",
       "4141         Tofu, fried, prepared with calcium sulfate   \n",
       "4142  Tofu, soft, prepared with calcium sulfate and ...   \n",
       "4143                                    Tomatillos, raw   \n",
       "4144           Tomato juice, canned, without salt added   \n",
       "4145              Tomato juice, canned, with salt added   \n",
       "4146                Tomato sauce, canned, no salt added   \n",
       "4147  Tomato products, canned, paste, without salt a...   \n",
       "4148  Tomato products, canned, puree, without salt a...   \n",
       "4149    Tomato products, canned, puree, with salt added   \n",
       "4150             Tortillas, ready-to-bake or -fry, corn   \n",
       "4151      Tortillas, ready-to-bake or -fry, whole wheat   \n",
       "4152  Tortillas, ready-to-bake or -fry, flour, refri...   \n",
       "4153  Tortillas, ready-to-bake or -fry, flour, shelf...   \n",
       "4154                                 Turtle, green, raw   \n",
       "4155  Wheat flour, white, all-purpose, enriched, ble...   \n",
       "4156  Wheat flour, white, all-purpose, enriched, cal...   \n",
       "4157  Wheat flour, white, all-purpose, enriched, unb...   \n",
       "4158        Wheat flour, white, all-purpose, unenriched   \n",
       "4159  Yogurt, plain, skim milk, 13 grams protein per...   \n",
       "4160  Yogurt, plain, skim milk, 13 grams protein per...   \n",
       "4161  Yogurt, plain, skim milk, 13 grams protein per...   \n",
       "4162  Yogurt, plain, whole milk, 8 grams protein per...   \n",
       "4163  Yogurt, plain, whole milk, 8 grams protein per...   \n",
       "4164  Yogurt, plain, whole milk, 8 grams protein per...   \n",
       "\n",
       "                                  brand food_type_grp  \\\n",
       "0                             5 & Diner    restaurant   \n",
       "1                             Bob Evans    restaurant   \n",
       "2                 Boston Pizza (Canada)    restaurant   \n",
       "3               Brown's Chicken & Pasta    restaurant   \n",
       "4                    Buffalo Wild Wings    restaurant   \n",
       "5                           Captain D's    restaurant   \n",
       "6                      Church's Chicken    restaurant   \n",
       "7                        Country Buffet    restaurant   \n",
       "8                            Eat'n Park    restaurant   \n",
       "9                         El Pollo Loco    restaurant   \n",
       "10                        El Pollo Loco    restaurant   \n",
       "11                         Farmer Boy's    restaurant   \n",
       "12                           Friendly's    restaurant   \n",
       "13                         Ground Round       grocery   \n",
       "14                 H. Salt Fish & Chips    restaurant   \n",
       "15                      Hometown Buffet    restaurant   \n",
       "16      HOSS's Family Steak & Sea House    restaurant   \n",
       "17                   Hot Dog On A Stick    restaurant   \n",
       "18                Houlihan's Restaurant    restaurant   \n",
       "19                Houlihan's Restaurant    restaurant   \n",
       "20                               Ivar's    restaurant   \n",
       "21                        Lion's Choice    restaurant   \n",
       "22                         Lynden Farms       grocery   \n",
       "23                           McDonald's       grocery   \n",
       "24                          Ninety Nine    restaurant   \n",
       "25                   Old Country Buffet    restaurant   \n",
       "26                          O'Charley's    restaurant   \n",
       "27                     Original Tommy's    restaurant   \n",
       "28     Pizzeria Uno Chicago Bar & Grill       grocery   \n",
       "29           Popeye's Louisiana Kitchen    restaurant   \n",
       "...                                 ...           ...   \n",
       "4135            Fruits and Fruit Juices       grocery   \n",
       "4136  Vegetables and Vegetable Products       grocery   \n",
       "4137  Vegetables and Vegetable Products       grocery   \n",
       "4138  Vegetables and Vegetable Products       grocery   \n",
       "4139        Legumes and Legume Products       grocery   \n",
       "4140        Legumes and Legume Products       grocery   \n",
       "4141        Legumes and Legume Products       grocery   \n",
       "4142        Legumes and Legume Products       grocery   \n",
       "4143  Vegetables and Vegetable Products       grocery   \n",
       "4144  Vegetables and Vegetable Products       grocery   \n",
       "4145  Vegetables and Vegetable Products       grocery   \n",
       "4146  Vegetables and Vegetable Products       grocery   \n",
       "4147  Vegetables and Vegetable Products       grocery   \n",
       "4148  Vegetables and Vegetable Products       grocery   \n",
       "4149  Vegetables and Vegetable Products       grocery   \n",
       "4150                     Baked Products       grocery   \n",
       "4151                     Baked Products       grocery   \n",
       "4152                     Baked Products       grocery   \n",
       "4153                     Baked Products       grocery   \n",
       "4154     Finfish and Shellfish Products       grocery   \n",
       "4155            Cereal Grains and Pasta       grocery   \n",
       "4156            Cereal Grains and Pasta       grocery   \n",
       "4157            Cereal Grains and Pasta       grocery   \n",
       "4158            Cereal Grains and Pasta       grocery   \n",
       "4159             Dairy and Egg Products       grocery   \n",
       "4160             Dairy and Egg Products       grocery   \n",
       "4161             Dairy and Egg Products       grocery   \n",
       "4162             Dairy and Egg Products       grocery   \n",
       "4163             Dairy and Egg Products       grocery   \n",
       "4164             Dairy and Egg Products       grocery   \n",
       "\n",
       "                                       ingredients_list  \\\n",
       "0                                                   NaN   \n",
       "1                                                   NaN   \n",
       "2                                                   NaN   \n",
       "3                                                   NaN   \n",
       "4                                                   NaN   \n",
       "5                                                   NaN   \n",
       "6                                                   NaN   \n",
       "7                                                   NaN   \n",
       "8                                                   NaN   \n",
       "9                                                   NaN   \n",
       "10                                                  NaN   \n",
       "11                                                  NaN   \n",
       "12                                       (6-ounce size)   \n",
       "13                                                  NaN   \n",
       "14                                (approx. 30-40 fries)   \n",
       "15                                                  NaN   \n",
       "16                                                  NaN   \n",
       "17                                                  NaN   \n",
       "18                                                  NaN   \n",
       "19                                                  NaN   \n",
       "20                                                  NaN   \n",
       "21                                                  NaN   \n",
       "22                                               frozen   \n",
       "23    Golden, long, thin, perfectly salted fries tha...   \n",
       "24                                                  NaN   \n",
       "25                                                  NaN   \n",
       "26                                                  NaN   \n",
       "27                                                  NaN   \n",
       "28                                    golden and crispy   \n",
       "29                                                  NaN   \n",
       "...                                                 ...   \n",
       "4135                                                NaN   \n",
       "4136                                                NaN   \n",
       "4137                                                NaN   \n",
       "4138                                                NaN   \n",
       "4139                                                NaN   \n",
       "4140                                                NaN   \n",
       "4141                                                NaN   \n",
       "4142                                                NaN   \n",
       "4143                                                NaN   \n",
       "4144                                                NaN   \n",
       "4145                                                NaN   \n",
       "4146                                                NaN   \n",
       "4147                                                NaN   \n",
       "4148                                                NaN   \n",
       "4149                                                NaN   \n",
       "4150                                                NaN   \n",
       "4151                                                NaN   \n",
       "4152                                                NaN   \n",
       "4153                                                NaN   \n",
       "4154                                                NaN   \n",
       "4155                                                NaN   \n",
       "4156                                                NaN   \n",
       "4157                                                NaN   \n",
       "4158                                                NaN   \n",
       "4159                                                NaN   \n",
       "4160                                                NaN   \n",
       "4161                                                NaN   \n",
       "4162                                                NaN   \n",
       "4163                                                NaN   \n",
       "4164                                                NaN   \n",
       "\n",
       "                                                matched  \\\n",
       "0                                          French Fries   \n",
       "1                                          French Fries   \n",
       "2                                          French Fries   \n",
       "3                                          French Fries   \n",
       "4                                          French Fries   \n",
       "5                                          French Fries   \n",
       "6                                          French Fries   \n",
       "7                                          French Fries   \n",
       "8                                          French Fries   \n",
       "9                                          French Fries   \n",
       "10                                         French Fries   \n",
       "11                                         French Fries   \n",
       "12                                         French Fries   \n",
       "13                                         French Fries   \n",
       "14                                         French Fries   \n",
       "15                                         French Fries   \n",
       "16                                         French Fries   \n",
       "17                                         French Fries   \n",
       "18                                         French Fries   \n",
       "19                                         French Fries   \n",
       "20                                         French Fries   \n",
       "21                                         French Fries   \n",
       "22                                         French Fries   \n",
       "23                                         French Fries   \n",
       "24                                         French Fries   \n",
       "25                                         French Fries   \n",
       "26                                         French Fries   \n",
       "27                                         French Fries   \n",
       "28                                         French Fries   \n",
       "29                                         French Fries   \n",
       "...                                                 ...   \n",
       "4135  Tangerines, mandarin oranges, canned , juice pack   \n",
       "4136                                cooked without salt   \n",
       "4137                           Tomatoes, red, ripe, raw   \n",
       "4138                           Tomatoes, red, ripe, raw   \n",
       "4139  Tofu, firm, prepared with calcium sulfate and ...   \n",
       "4140  Tofu, firm, prepared with calcium sulfate and ...   \n",
       "4141  Tofu, firm, prepared with calcium sulfate and ...   \n",
       "4142  Tofu, firm, prepared with calcium sulfate and ...   \n",
       "4143                                    Tomatillos, raw   \n",
       "4144           Tomato juice, canned, without salt added   \n",
       "4145           Tomato juice, canned, without salt added   \n",
       "4146           Tomato juice, canned, without salt added   \n",
       "4147        Tomatoes, canned, puree, without salt added   \n",
       "4148        Tomatoes, canned, puree, without salt added   \n",
       "4149        Tomatoes, canned, puree, without salt added   \n",
       "4150             Tortillas, ready-to-bake or -fry, corn   \n",
       "4151             Tortillas, ready-to-bake or -fry, corn   \n",
       "4152            Tortillas, ready-to-bake or -fry, flour   \n",
       "4153            Tortillas, ready-to-bake or -fry, flour   \n",
       "4154                                 Turtle, green, raw   \n",
       "4155  Wheat flour, white, all-purpose, enriched, ble...   \n",
       "4156  Wheat flour, white, all-purpose, enriched, ble...   \n",
       "4157  Wheat flour, white, all-purpose, enriched, ble...   \n",
       "4158  Wheat flour, white, all-purpose, enriched, ble...   \n",
       "4159  Yogurt, plain, skim milk, 13 grams protein per...   \n",
       "4160  Yogurt, plain, skim milk, 13 grams protein per...   \n",
       "4161  Yogurt, plain, skim milk, 13 grams protein per...   \n",
       "4162  Yogurt, plain, skim milk, 13 grams protein per...   \n",
       "4163  Yogurt, plain, skim milk, 13 grams protein per...   \n",
       "4164  Yogurt, plain, skim milk, 13 grams protein per...   \n",
       "\n",
       "                                                   Food          Group  \\\n",
       "0                                          French Fries     Vegetables   \n",
       "1                                          French Fries     Vegetables   \n",
       "2                                          French Fries     Vegetables   \n",
       "3                                          French Fries     Vegetables   \n",
       "4                                          French Fries     Vegetables   \n",
       "5                                          French Fries     Vegetables   \n",
       "6                                          French Fries     Vegetables   \n",
       "7                                          French Fries     Vegetables   \n",
       "8                                          French Fries     Vegetables   \n",
       "9                                          French Fries     Vegetables   \n",
       "10                                         French Fries     Vegetables   \n",
       "11                                         French Fries     Vegetables   \n",
       "12                                         French Fries     Vegetables   \n",
       "13                                         French Fries     Vegetables   \n",
       "14                                         French Fries     Vegetables   \n",
       "15                                         French Fries     Vegetables   \n",
       "16                                         French Fries     Vegetables   \n",
       "17                                         French Fries     Vegetables   \n",
       "18                                         French Fries     Vegetables   \n",
       "19                                         French Fries     Vegetables   \n",
       "20                                         French Fries     Vegetables   \n",
       "21                                         French Fries     Vegetables   \n",
       "22                                         French Fries     Vegetables   \n",
       "23                                         French Fries     Vegetables   \n",
       "24                                         French Fries     Vegetables   \n",
       "25                                         French Fries     Vegetables   \n",
       "26                                         French Fries     Vegetables   \n",
       "27                                         French Fries     Vegetables   \n",
       "28                                         French Fries     Vegetables   \n",
       "29                                         French Fries     Vegetables   \n",
       "...                                                 ...            ...   \n",
       "4135  Tangerines, mandarin oranges, canned , juice pack          Fruit   \n",
       "4136                                cooked without salt          Grain   \n",
       "4137                           Tomatoes, red, ripe, raw     Vegetables   \n",
       "4138                           Tomatoes, red, ripe, raw     Vegetables   \n",
       "4139  Tofu, firm, prepared with calcium sulfate and ...  Protein Foods   \n",
       "4140  Tofu, firm, prepared with calcium sulfate and ...  Protein Foods   \n",
       "4141  Tofu, firm, prepared with calcium sulfate and ...  Protein Foods   \n",
       "4142  Tofu, firm, prepared with calcium sulfate and ...  Protein Foods   \n",
       "4143                                    Tomatillos, raw     Vegetables   \n",
       "4144           Tomato juice, canned, without salt added     Vegetables   \n",
       "4145           Tomato juice, canned, without salt added     Vegetables   \n",
       "4146           Tomato juice, canned, without salt added     Vegetables   \n",
       "4147        Tomatoes, canned, puree, without salt added     Vegetables   \n",
       "4148        Tomatoes, canned, puree, without salt added     Vegetables   \n",
       "4149        Tomatoes, canned, puree, without salt added     Vegetables   \n",
       "4150             Tortillas, ready-to-bake or -fry, corn          Grain   \n",
       "4151             Tortillas, ready-to-bake or -fry, corn          Grain   \n",
       "4152            Tortillas, ready-to-bake or -fry, flour          Grain   \n",
       "4153            Tortillas, ready-to-bake or -fry, flour          Grain   \n",
       "4154                                 Turtle, green, raw  Protein Foods   \n",
       "4155  Wheat flour, white, all-purpose, enriched, ble...          Grain   \n",
       "4156  Wheat flour, white, all-purpose, enriched, ble...          Grain   \n",
       "4157  Wheat flour, white, all-purpose, enriched, ble...          Grain   \n",
       "4158  Wheat flour, white, all-purpose, enriched, ble...          Grain   \n",
       "4159  Yogurt, plain, skim milk, 13 grams protein per...          Dairy   \n",
       "4160  Yogurt, plain, skim milk, 13 grams protein per...          Dairy   \n",
       "4161  Yogurt, plain, skim milk, 13 grams protein per...          Dairy   \n",
       "4162  Yogurt, plain, skim milk, 13 grams protein per...          Dairy   \n",
       "4163  Yogurt, plain, skim milk, 13 grams protein per...          Dairy   \n",
       "4164  Yogurt, plain, skim milk, 13 grams protein per...          Dairy   \n",
       "\n",
       "                       Subgroup  \n",
       "0            Starchy Vegetables  \n",
       "1            Starchy Vegetables  \n",
       "2            Starchy Vegetables  \n",
       "3            Starchy Vegetables  \n",
       "4            Starchy Vegetables  \n",
       "5            Starchy Vegetables  \n",
       "6            Starchy Vegetables  \n",
       "7            Starchy Vegetables  \n",
       "8            Starchy Vegetables  \n",
       "9            Starchy Vegetables  \n",
       "10           Starchy Vegetables  \n",
       "11           Starchy Vegetables  \n",
       "12           Starchy Vegetables  \n",
       "13           Starchy Vegetables  \n",
       "14           Starchy Vegetables  \n",
       "15           Starchy Vegetables  \n",
       "16           Starchy Vegetables  \n",
       "17           Starchy Vegetables  \n",
       "18           Starchy Vegetables  \n",
       "19           Starchy Vegetables  \n",
       "20           Starchy Vegetables  \n",
       "21           Starchy Vegetables  \n",
       "22           Starchy Vegetables  \n",
       "23           Starchy Vegetables  \n",
       "24           Starchy Vegetables  \n",
       "25           Starchy Vegetables  \n",
       "26           Starchy Vegetables  \n",
       "27           Starchy Vegetables  \n",
       "28           Starchy Vegetables  \n",
       "29           Starchy Vegetables  \n",
       "...                         ...  \n",
       "4135                Whole Fruit  \n",
       "4136             Refined Grains  \n",
       "4137  Red and Orange Vegetables  \n",
       "4138  Red and Orange Vegetables  \n",
       "4139     Processed Soy Products  \n",
       "4140     Processed Soy Products  \n",
       "4141     Processed Soy Products  \n",
       "4142     Processed Soy Products  \n",
       "4143           Other Vegetables  \n",
       "4144  Red and Orange Vegetables  \n",
       "4145  Red and Orange Vegetables  \n",
       "4146  Red and Orange Vegetables  \n",
       "4147  Red and Orange Vegetables  \n",
       "4148  Red and Orange Vegetables  \n",
       "4149  Red and Orange Vegetables  \n",
       "4150             Refined Grains  \n",
       "4151             Refined Grains  \n",
       "4152             Refined Grains  \n",
       "4153             Refined Grains  \n",
       "4154           Low Omega-3 Fish  \n",
       "4155             Refined Grains  \n",
       "4156             Refined Grains  \n",
       "4157             Refined Grains  \n",
       "4158             Refined Grains  \n",
       "4159                     Yogurt  \n",
       "4160                     Yogurt  \n",
       "4161                     Yogurt  \n",
       "4162                     Yogurt  \n",
       "4163                     Yogurt  \n",
       "4164                     Yogurt  \n",
       "\n",
       "[4165 rows x 8 columns]"
      ]
     },
     "execution_count": 7,
     "metadata": {},
     "output_type": "execute_result"
    }
   ],
   "source": [
    "usda_grps_fuz"
   ]
  },
  {
   "cell_type": "code",
   "execution_count": 6,
   "metadata": {
    "collapsed": false
   },
   "outputs": [],
   "source": [
    "for i in range(len(food_grp_req_df)):\n",
    "    food_grp_req_df['recurrance'].iloc[i]= food_grp_req_df['recurrance'].iloc[i].lower()"
   ]
  },
  {
   "cell_type": "code",
   "execution_count": 7,
   "metadata": {
    "collapsed": false
   },
   "outputs": [
    {
     "data": {
      "text/html": [
       "<div>\n",
       "<table border=\"1\" class=\"dataframe\">\n",
       "  <thead>\n",
       "    <tr style=\"text-align: right;\">\n",
       "      <th></th>\n",
       "      <th>amount</th>\n",
       "      <th>group_column</th>\n",
       "      <th>group_val</th>\n",
       "      <th>recurrance</th>\n",
       "    </tr>\n",
       "  </thead>\n",
       "  <tbody>\n",
       "    <tr>\n",
       "      <th>0</th>\n",
       "      <td>1</td>\n",
       "      <td>usda_subgroup</td>\n",
       "      <td>Whole Fruit</td>\n",
       "      <td>daily</td>\n",
       "    </tr>\n",
       "    <tr>\n",
       "      <th>0</th>\n",
       "      <td>1</td>\n",
       "      <td>usda_subgroup</td>\n",
       "      <td>Dark Green Vegetables</td>\n",
       "      <td>lunch</td>\n",
       "    </tr>\n",
       "    <tr>\n",
       "      <th>0</th>\n",
       "      <td>1</td>\n",
       "      <td>usda_subgroup</td>\n",
       "      <td>Dark Green Vegetables</td>\n",
       "      <td>dinner</td>\n",
       "    </tr>\n",
       "  </tbody>\n",
       "</table>\n",
       "</div>"
      ],
      "text/plain": [
       "  amount   group_column              group_val recurrance\n",
       "0      1  usda_subgroup            Whole Fruit      daily\n",
       "0      1  usda_subgroup  Dark Green Vegetables      lunch\n",
       "0      1  usda_subgroup  Dark Green Vegetables     dinner"
      ]
     },
     "execution_count": 7,
     "metadata": {},
     "output_type": "execute_result"
    }
   ],
   "source": [
    "food_grp_req_df"
   ]
  },
  {
   "cell_type": "markdown",
   "metadata": {},
   "source": [
    "Creating heirarchical requirements df"
   ]
  },
  {
   "cell_type": "code",
   "execution_count": 8,
   "metadata": {
    "collapsed": true
   },
   "outputs": [],
   "source": [
    "reqs_df = pd.DataFrame(columns=['amount','group_column','group_val','recurrance'])"
   ]
  },
  {
   "cell_type": "code",
   "execution_count": 10,
   "metadata": {
    "collapsed": true
   },
   "outputs": [],
   "source": [
    "reqs_df = reqs_df.append([food_grp_req_df])"
   ]
  },
  {
   "cell_type": "markdown",
   "metadata": {},
   "source": [
    "Deriving Macro Reqs"
   ]
  },
  {
   "cell_type": "code",
   "execution_count": 11,
   "metadata": {
    "collapsed": true
   },
   "outputs": [],
   "source": [
    "macro_df = pd.DataFrame([{'protein_g':cal_req*prot_perc*.01/4, 'carb_g':cal_req*carb_perc*.01/4, 'fat_g':cal_req*fat_perc*.01/9 }])"
   ]
  },
  {
   "cell_type": "markdown",
   "metadata": {},
   "source": [
    "Deriving Vitamin Reqs"
   ]
  },
  {
   "cell_type": "code",
   "execution_count": 12,
   "metadata": {
    "collapsed": false
   },
   "outputs": [],
   "source": [
    "fda_vit_df =pd.DataFrame([{\n",
    "    'calcium_mg': 1000,\n",
    "    'iron_mg':18,\n",
    "    'vit_a_mcg':5000,\n",
    "    'vit_c_mg':60,\n",
    "    'sodium_mg': 2400 # less than\n",
    "    }])"
   ]
  },
  {
   "cell_type": "code",
   "execution_count": 42,
   "metadata": {
    "collapsed": false
   },
   "outputs": [
    {
     "data": {
      "text/plain": [
       "array(['Unnamed: 0', 'food_key', 'food_description', 'brand',\n",
       "       'food_type_grp', 'source', 'ingredients_list', 'serving_size_raw',\n",
       "       'serving_size_val', 'serving_size_unit', 'calories', 'protein_g',\n",
       "       'fat_g', 'saturated_fat_g', 'carb_g', 'fiber_g', 'sugar_g',\n",
       "       'sodium_mg', 'cholesterol_mg', 'calcium_mg', 'iron_mg', 'vit_a_mcg',\n",
       "       'vit_c_mg'], dtype=object)"
      ]
     },
     "execution_count": 42,
     "metadata": {},
     "output_type": "execute_result"
    }
   ],
   "source": [
    "df.columns.values"
   ]
  },
  {
   "cell_type": "markdown",
   "metadata": {},
   "source": [
    "Deriving Other DV Reqs\n",
    "* Sugar = 5% [AHA](http://circ.ahajournals.org/content/circulationaha/120/11/1011.full.pdf)\n",
    "* Saturated fat = 6% [AHA](https://healthyforgood.heart.org/Eat-smart/Articles/Saturated-Fats)\n",
    "* Fiber = 14g/1000 cals [Nutrition Reviews](http://healthyeating.sfgate.com/calculate-much-fiber-one-needs-day-4814.html)"
   ]
  },
  {
   "cell_type": "code",
   "execution_count": 13,
   "metadata": {
    "collapsed": false
   },
   "outputs": [],
   "source": [
    "dv_df = pd.DataFrame([{'sugar_g':cal_req*.05/4,'saturated_fat_g':cal_req*.05/9,'fiber_g':cal_req*(14/1000), 'cholesterol_mg':300}])"
   ]
  },
  {
   "cell_type": "code",
   "execution_count": 60,
   "metadata": {
    "collapsed": false
   },
   "outputs": [
    {
     "data": {
      "text/html": [
       "<div>\n",
       "<table border=\"1\" class=\"dataframe\">\n",
       "  <thead>\n",
       "    <tr style=\"text-align: right;\">\n",
       "      <th></th>\n",
       "      <th>cholesterol_mg</th>\n",
       "      <th>fiber_g</th>\n",
       "      <th>saturated_fat_g</th>\n",
       "      <th>sugar_g</th>\n",
       "    </tr>\n",
       "  </thead>\n",
       "  <tbody>\n",
       "    <tr>\n",
       "      <th>0</th>\n",
       "      <td>300</td>\n",
       "      <td>31.166495</td>\n",
       "      <td>12.367657</td>\n",
       "      <td>27.827228</td>\n",
       "    </tr>\n",
       "  </tbody>\n",
       "</table>\n",
       "</div>"
      ],
      "text/plain": [
       "   cholesterol_mg    fiber_g  saturated_fat_g    sugar_g\n",
       "0             300  31.166495        12.367657  27.827228"
      ]
     },
     "execution_count": 60,
     "metadata": {},
     "output_type": "execute_result"
    }
   ],
   "source": [
    "dv_df"
   ]
  },
  {
   "cell_type": "markdown",
   "metadata": {},
   "source": [
    "Deriving All Numeric Reqs"
   ]
  },
  {
   "cell_type": "code",
   "execution_count": 14,
   "metadata": {
    "collapsed": true
   },
   "outputs": [],
   "source": [
    "num_reqs_df = pd.concat([macro_df, fda_vit_df, dv_df], axis=1)"
   ]
  },
  {
   "cell_type": "code",
   "execution_count": 15,
   "metadata": {
    "collapsed": false
   },
   "outputs": [],
   "source": [
    "num_reqs_df = num_reqs_df"
   ]
  },
  {
   "cell_type": "code",
   "execution_count": 16,
   "metadata": {
    "collapsed": false
   },
   "outputs": [],
   "source": [
    "num_reqs_df = num_reqs_df[df.columns.values[11:len(df.columns.values)]]"
   ]
  },
  {
   "cell_type": "code",
   "execution_count": 17,
   "metadata": {
    "collapsed": false
   },
   "outputs": [
    {
     "data": {
      "text/html": [
       "<div>\n",
       "<table border=\"1\" class=\"dataframe\">\n",
       "  <thead>\n",
       "    <tr style=\"text-align: right;\">\n",
       "      <th></th>\n",
       "      <th>protein_g</th>\n",
       "      <th>fat_g</th>\n",
       "      <th>saturated_fat_g</th>\n",
       "      <th>carb_g</th>\n",
       "      <th>fiber_g</th>\n",
       "      <th>sugar_g</th>\n",
       "      <th>sodium_mg</th>\n",
       "      <th>cholesterol_mg</th>\n",
       "      <th>calcium_mg</th>\n",
       "      <th>iron_mg</th>\n",
       "      <th>vit_a_mcg</th>\n",
       "      <th>vit_c_mg</th>\n",
       "    </tr>\n",
       "  </thead>\n",
       "  <tbody>\n",
       "    <tr>\n",
       "      <th>0</th>\n",
       "      <td>222.617823</td>\n",
       "      <td>86.573598</td>\n",
       "      <td>12.367657</td>\n",
       "      <td>139.13614</td>\n",
       "      <td>31.166495</td>\n",
       "      <td>27.827228</td>\n",
       "      <td>2400</td>\n",
       "      <td>300</td>\n",
       "      <td>1000</td>\n",
       "      <td>18</td>\n",
       "      <td>5000</td>\n",
       "      <td>60</td>\n",
       "    </tr>\n",
       "  </tbody>\n",
       "</table>\n",
       "</div>"
      ],
      "text/plain": [
       "    protein_g      fat_g  saturated_fat_g     carb_g    fiber_g    sugar_g  \\\n",
       "0  222.617823  86.573598        12.367657  139.13614  31.166495  27.827228   \n",
       "\n",
       "   sodium_mg  cholesterol_mg  calcium_mg  iron_mg  vit_a_mcg  vit_c_mg  \n",
       "0       2400             300        1000       18       5000        60  "
      ]
     },
     "execution_count": 17,
     "metadata": {},
     "output_type": "execute_result"
    }
   ],
   "source": [
    "num_reqs_df"
   ]
  },
  {
   "cell_type": "markdown",
   "metadata": {},
   "source": [
    "Thinking genetic algorithm because this is about combinations"
   ]
  },
  {
   "cell_type": "markdown",
   "metadata": {},
   "source": [
    "#### First day of meals\n",
    "* Will need to generalize by week"
   ]
  },
  {
   "cell_type": "code",
   "execution_count": 47,
   "metadata": {
    "collapsed": false
   },
   "outputs": [
    {
     "data": {
      "text/html": [
       "<div>\n",
       "<table border=\"1\" class=\"dataframe\">\n",
       "  <thead>\n",
       "    <tr style=\"text-align: right;\">\n",
       "      <th></th>\n",
       "      <th>meals</th>\n",
       "      <th>key</th>\n",
       "      <th>days</th>\n",
       "      <th>day_sort</th>\n",
       "      <th>sort_meal</th>\n",
       "      <th>pref_food_type</th>\n",
       "      <th>rest_loc</th>\n",
       "    </tr>\n",
       "  </thead>\n",
       "  <tbody>\n",
       "    <tr>\n",
       "      <th>10</th>\n",
       "      <td>breakfast</td>\n",
       "      <td>1</td>\n",
       "      <td>Sunday</td>\n",
       "      <td>a</td>\n",
       "      <td>a</td>\n",
       "      <td>grocery</td>\n",
       "      <td>home</td>\n",
       "    </tr>\n",
       "    <tr>\n",
       "      <th>24</th>\n",
       "      <td>lunch</td>\n",
       "      <td>1</td>\n",
       "      <td>Sunday</td>\n",
       "      <td>a</td>\n",
       "      <td>b</td>\n",
       "      <td>restaurant</td>\n",
       "      <td>home</td>\n",
       "    </tr>\n",
       "    <tr>\n",
       "      <th>3</th>\n",
       "      <td>dinner</td>\n",
       "      <td>1</td>\n",
       "      <td>Sunday</td>\n",
       "      <td>a</td>\n",
       "      <td>c</td>\n",
       "      <td>recipe</td>\n",
       "      <td>home</td>\n",
       "    </tr>\n",
       "    <tr>\n",
       "      <th>17</th>\n",
       "      <td>snack</td>\n",
       "      <td>1</td>\n",
       "      <td>Sunday</td>\n",
       "      <td>a</td>\n",
       "      <td>d</td>\n",
       "      <td>grocery</td>\n",
       "      <td>home</td>\n",
       "    </tr>\n",
       "    <tr>\n",
       "      <th>8</th>\n",
       "      <td>breakfast</td>\n",
       "      <td>1</td>\n",
       "      <td>Monday</td>\n",
       "      <td>b</td>\n",
       "      <td>a</td>\n",
       "      <td>recipe leftovers</td>\n",
       "      <td>home</td>\n",
       "    </tr>\n",
       "    <tr>\n",
       "      <th>22</th>\n",
       "      <td>lunch</td>\n",
       "      <td>1</td>\n",
       "      <td>Monday</td>\n",
       "      <td>b</td>\n",
       "      <td>b</td>\n",
       "      <td>recipe leftovers</td>\n",
       "      <td>home</td>\n",
       "    </tr>\n",
       "    <tr>\n",
       "      <th>1</th>\n",
       "      <td>dinner</td>\n",
       "      <td>1</td>\n",
       "      <td>Monday</td>\n",
       "      <td>b</td>\n",
       "      <td>c</td>\n",
       "      <td>recipe</td>\n",
       "      <td>home</td>\n",
       "    </tr>\n",
       "    <tr>\n",
       "      <th>15</th>\n",
       "      <td>snack</td>\n",
       "      <td>1</td>\n",
       "      <td>Monday</td>\n",
       "      <td>b</td>\n",
       "      <td>d</td>\n",
       "      <td>grocery</td>\n",
       "      <td>home</td>\n",
       "    </tr>\n",
       "    <tr>\n",
       "      <th>12</th>\n",
       "      <td>breakfast</td>\n",
       "      <td>1</td>\n",
       "      <td>Tuesday</td>\n",
       "      <td>c</td>\n",
       "      <td>a</td>\n",
       "      <td>recipe leftovers</td>\n",
       "      <td>home</td>\n",
       "    </tr>\n",
       "    <tr>\n",
       "      <th>26</th>\n",
       "      <td>lunch</td>\n",
       "      <td>1</td>\n",
       "      <td>Tuesday</td>\n",
       "      <td>c</td>\n",
       "      <td>b</td>\n",
       "      <td>recipe leftovers</td>\n",
       "      <td>home</td>\n",
       "    </tr>\n",
       "    <tr>\n",
       "      <th>5</th>\n",
       "      <td>dinner</td>\n",
       "      <td>1</td>\n",
       "      <td>Tuesday</td>\n",
       "      <td>c</td>\n",
       "      <td>c</td>\n",
       "      <td>recipe leftovers</td>\n",
       "      <td>home</td>\n",
       "    </tr>\n",
       "    <tr>\n",
       "      <th>19</th>\n",
       "      <td>snack</td>\n",
       "      <td>1</td>\n",
       "      <td>Tuesday</td>\n",
       "      <td>c</td>\n",
       "      <td>d</td>\n",
       "      <td>grocery</td>\n",
       "      <td>home</td>\n",
       "    </tr>\n",
       "    <tr>\n",
       "      <th>13</th>\n",
       "      <td>breakfast</td>\n",
       "      <td>1</td>\n",
       "      <td>Wednesday</td>\n",
       "      <td>d</td>\n",
       "      <td>a</td>\n",
       "      <td>recipe leftovers</td>\n",
       "      <td>home</td>\n",
       "    </tr>\n",
       "    <tr>\n",
       "      <th>27</th>\n",
       "      <td>lunch</td>\n",
       "      <td>1</td>\n",
       "      <td>Wednesday</td>\n",
       "      <td>d</td>\n",
       "      <td>b</td>\n",
       "      <td>recipe leftovers</td>\n",
       "      <td>home</td>\n",
       "    </tr>\n",
       "    <tr>\n",
       "      <th>6</th>\n",
       "      <td>dinner</td>\n",
       "      <td>1</td>\n",
       "      <td>Wednesday</td>\n",
       "      <td>d</td>\n",
       "      <td>c</td>\n",
       "      <td>restaurant</td>\n",
       "      <td>home</td>\n",
       "    </tr>\n",
       "    <tr>\n",
       "      <th>20</th>\n",
       "      <td>snack</td>\n",
       "      <td>1</td>\n",
       "      <td>Wednesday</td>\n",
       "      <td>d</td>\n",
       "      <td>d</td>\n",
       "      <td>grocery</td>\n",
       "      <td>home</td>\n",
       "    </tr>\n",
       "    <tr>\n",
       "      <th>11</th>\n",
       "      <td>breakfast</td>\n",
       "      <td>1</td>\n",
       "      <td>Thursday</td>\n",
       "      <td>e</td>\n",
       "      <td>a</td>\n",
       "      <td>recipe leftovers</td>\n",
       "      <td>home</td>\n",
       "    </tr>\n",
       "    <tr>\n",
       "      <th>25</th>\n",
       "      <td>lunch</td>\n",
       "      <td>1</td>\n",
       "      <td>Thursday</td>\n",
       "      <td>e</td>\n",
       "      <td>b</td>\n",
       "      <td>recipe leftovers</td>\n",
       "      <td>home</td>\n",
       "    </tr>\n",
       "    <tr>\n",
       "      <th>4</th>\n",
       "      <td>dinner</td>\n",
       "      <td>1</td>\n",
       "      <td>Thursday</td>\n",
       "      <td>e</td>\n",
       "      <td>c</td>\n",
       "      <td>recipe</td>\n",
       "      <td>home</td>\n",
       "    </tr>\n",
       "    <tr>\n",
       "      <th>18</th>\n",
       "      <td>snack</td>\n",
       "      <td>1</td>\n",
       "      <td>Thursday</td>\n",
       "      <td>e</td>\n",
       "      <td>d</td>\n",
       "      <td>grocery</td>\n",
       "      <td>home</td>\n",
       "    </tr>\n",
       "    <tr>\n",
       "      <th>7</th>\n",
       "      <td>breakfast</td>\n",
       "      <td>1</td>\n",
       "      <td>Friday</td>\n",
       "      <td>f</td>\n",
       "      <td>a</td>\n",
       "      <td>restaurant</td>\n",
       "      <td>work</td>\n",
       "    </tr>\n",
       "    <tr>\n",
       "      <th>21</th>\n",
       "      <td>lunch</td>\n",
       "      <td>1</td>\n",
       "      <td>Friday</td>\n",
       "      <td>f</td>\n",
       "      <td>b</td>\n",
       "      <td>recipe leftovers</td>\n",
       "      <td>home</td>\n",
       "    </tr>\n",
       "    <tr>\n",
       "      <th>0</th>\n",
       "      <td>dinner</td>\n",
       "      <td>1</td>\n",
       "      <td>Friday</td>\n",
       "      <td>f</td>\n",
       "      <td>c</td>\n",
       "      <td>recipe leftovers</td>\n",
       "      <td>home</td>\n",
       "    </tr>\n",
       "    <tr>\n",
       "      <th>14</th>\n",
       "      <td>snack</td>\n",
       "      <td>1</td>\n",
       "      <td>Friday</td>\n",
       "      <td>f</td>\n",
       "      <td>d</td>\n",
       "      <td>grocery</td>\n",
       "      <td>home</td>\n",
       "    </tr>\n",
       "    <tr>\n",
       "      <th>9</th>\n",
       "      <td>breakfast</td>\n",
       "      <td>1</td>\n",
       "      <td>Saturday</td>\n",
       "      <td>g</td>\n",
       "      <td>a</td>\n",
       "      <td>grocery</td>\n",
       "      <td>home</td>\n",
       "    </tr>\n",
       "    <tr>\n",
       "      <th>23</th>\n",
       "      <td>lunch</td>\n",
       "      <td>1</td>\n",
       "      <td>Saturday</td>\n",
       "      <td>g</td>\n",
       "      <td>b</td>\n",
       "      <td>restaurant</td>\n",
       "      <td>home</td>\n",
       "    </tr>\n",
       "    <tr>\n",
       "      <th>2</th>\n",
       "      <td>dinner</td>\n",
       "      <td>1</td>\n",
       "      <td>Saturday</td>\n",
       "      <td>g</td>\n",
       "      <td>c</td>\n",
       "      <td>recipe</td>\n",
       "      <td>home</td>\n",
       "    </tr>\n",
       "    <tr>\n",
       "      <th>16</th>\n",
       "      <td>snack</td>\n",
       "      <td>1</td>\n",
       "      <td>Saturday</td>\n",
       "      <td>g</td>\n",
       "      <td>d</td>\n",
       "      <td>grocery</td>\n",
       "      <td>home</td>\n",
       "    </tr>\n",
       "  </tbody>\n",
       "</table>\n",
       "</div>"
      ],
      "text/plain": [
       "        meals  key       days day_sort sort_meal    pref_food_type rest_loc\n",
       "10  breakfast    1     Sunday        a         a           grocery     home\n",
       "24      lunch    1     Sunday        a         b        restaurant     home\n",
       "3      dinner    1     Sunday        a         c            recipe     home\n",
       "17      snack    1     Sunday        a         d           grocery     home\n",
       "8   breakfast    1     Monday        b         a  recipe leftovers     home\n",
       "22      lunch    1     Monday        b         b  recipe leftovers     home\n",
       "1      dinner    1     Monday        b         c            recipe     home\n",
       "15      snack    1     Monday        b         d           grocery     home\n",
       "12  breakfast    1    Tuesday        c         a  recipe leftovers     home\n",
       "26      lunch    1    Tuesday        c         b  recipe leftovers     home\n",
       "5      dinner    1    Tuesday        c         c  recipe leftovers     home\n",
       "19      snack    1    Tuesday        c         d           grocery     home\n",
       "13  breakfast    1  Wednesday        d         a  recipe leftovers     home\n",
       "27      lunch    1  Wednesday        d         b  recipe leftovers     home\n",
       "6      dinner    1  Wednesday        d         c        restaurant     home\n",
       "20      snack    1  Wednesday        d         d           grocery     home\n",
       "11  breakfast    1   Thursday        e         a  recipe leftovers     home\n",
       "25      lunch    1   Thursday        e         b  recipe leftovers     home\n",
       "4      dinner    1   Thursday        e         c            recipe     home\n",
       "18      snack    1   Thursday        e         d           grocery     home\n",
       "7   breakfast    1     Friday        f         a        restaurant     work\n",
       "21      lunch    1     Friday        f         b  recipe leftovers     home\n",
       "0      dinner    1     Friday        f         c  recipe leftovers     home\n",
       "14      snack    1     Friday        f         d           grocery     home\n",
       "9   breakfast    1   Saturday        g         a           grocery     home\n",
       "23      lunch    1   Saturday        g         b        restaurant     home\n",
       "2      dinner    1   Saturday        g         c            recipe     home\n",
       "16      snack    1   Saturday        g         d           grocery     home"
      ]
     },
     "execution_count": 47,
     "metadata": {},
     "output_type": "execute_result"
    }
   ],
   "source": [
    "meals_df"
   ]
  },
  {
   "cell_type": "code",
   "execution_count": 18,
   "metadata": {
    "collapsed": false
   },
   "outputs": [],
   "source": [
    "day_df  = meals_df[meals_df.days=='Sunday']"
   ]
  },
  {
   "cell_type": "code",
   "execution_count": 19,
   "metadata": {
    "collapsed": false
   },
   "outputs": [
    {
     "data": {
      "text/html": [
       "<div>\n",
       "<table border=\"1\" class=\"dataframe\">\n",
       "  <thead>\n",
       "    <tr style=\"text-align: right;\">\n",
       "      <th></th>\n",
       "      <th>meals</th>\n",
       "      <th>key</th>\n",
       "      <th>days</th>\n",
       "      <th>day_sort</th>\n",
       "      <th>sort_meal</th>\n",
       "      <th>pref_food_type</th>\n",
       "      <th>rest_loc</th>\n",
       "    </tr>\n",
       "  </thead>\n",
       "  <tbody>\n",
       "    <tr>\n",
       "      <th>10</th>\n",
       "      <td>breakfast</td>\n",
       "      <td>1</td>\n",
       "      <td>Sunday</td>\n",
       "      <td>a</td>\n",
       "      <td>a</td>\n",
       "      <td>grocery</td>\n",
       "      <td>home</td>\n",
       "    </tr>\n",
       "    <tr>\n",
       "      <th>24</th>\n",
       "      <td>lunch</td>\n",
       "      <td>1</td>\n",
       "      <td>Sunday</td>\n",
       "      <td>a</td>\n",
       "      <td>b</td>\n",
       "      <td>restaurant</td>\n",
       "      <td>home</td>\n",
       "    </tr>\n",
       "    <tr>\n",
       "      <th>3</th>\n",
       "      <td>dinner</td>\n",
       "      <td>1</td>\n",
       "      <td>Sunday</td>\n",
       "      <td>a</td>\n",
       "      <td>c</td>\n",
       "      <td>recipe</td>\n",
       "      <td>home</td>\n",
       "    </tr>\n",
       "    <tr>\n",
       "      <th>17</th>\n",
       "      <td>snack</td>\n",
       "      <td>1</td>\n",
       "      <td>Sunday</td>\n",
       "      <td>a</td>\n",
       "      <td>d</td>\n",
       "      <td>grocery</td>\n",
       "      <td>home</td>\n",
       "    </tr>\n",
       "  </tbody>\n",
       "</table>\n",
       "</div>"
      ],
      "text/plain": [
       "        meals  key    days day_sort sort_meal pref_food_type rest_loc\n",
       "10  breakfast    1  Sunday        a         a        grocery     home\n",
       "24      lunch    1  Sunday        a         b     restaurant     home\n",
       "3      dinner    1  Sunday        a         c         recipe     home\n",
       "17      snack    1  Sunday        a         d        grocery     home"
      ]
     },
     "execution_count": 19,
     "metadata": {},
     "output_type": "execute_result"
    }
   ],
   "source": [
    "day_df"
   ]
  },
  {
   "cell_type": "code",
   "execution_count": 20,
   "metadata": {
    "collapsed": true
   },
   "outputs": [],
   "source": [
    "from add_prop_fit import add_prop_fit"
   ]
  },
  {
   "cell_type": "markdown",
   "metadata": {},
   "source": [
    "Logically, it should start with the sharpest requirements first, then work backwords"
   ]
  },
  {
   "cell_type": "markdown",
   "metadata": {},
   "source": [
    "1. Meals\n",
    "2. Day\n",
    "3. Week"
   ]
  },
  {
   "cell_type": "code",
   "execution_count": 21,
   "metadata": {
    "collapsed": false
   },
   "outputs": [
    {
     "data": {
      "text/plain": [
       "0     daily\n",
       "0     lunch\n",
       "0    dinner\n",
       "Name: recurrance, dtype: object"
      ]
     },
     "execution_count": 21,
     "metadata": {},
     "output_type": "execute_result"
    }
   ],
   "source": [
    "food_grp_req_df['recurrance']"
   ]
  },
  {
   "cell_type": "code",
   "execution_count": 22,
   "metadata": {
    "collapsed": false
   },
   "outputs": [],
   "source": [
    "for meal in day_df['meals']:\n",
    "    fd_type = day_df.pref_food_type[day_df.meals==meal].item()\n",
    "    grps_reqs = reqs_df[reqs_df.recurrance==fd_type]"
   ]
  },
  {
   "cell_type": "markdown",
   "metadata": {},
   "source": [
    "## Defining Meal Requirements Function"
   ]
  },
  {
   "cell_type": "markdown",
   "metadata": {},
   "source": [
    "Meal Requirements are split into two categories: \n",
    "    1. Categorical\n",
    "    2. Numeric\n",
    "    \n",
    "Categorical affect the pool of foods used for a given meal\n",
    "Numeric are assessed in the cost function"
   ]
  },
  {
   "cell_type": "markdown",
   "metadata": {},
   "source": [
    "1. Try combo\n",
    "2. Assess cost\n",
    "3. Alter serving sizes\n",
    "4. Asses cost\n",
    "5. Try combo"
   ]
  },
  {
   "cell_type": "markdown",
   "metadata": {},
   "source": [
    "Building Numeric Reqs:"
   ]
  },
  {
   "cell_type": "markdown",
   "metadata": {},
   "source": [
    "Cost Function"
   ]
  },
  {
   "cell_type": "code",
   "execution_count": 24,
   "metadata": {
    "collapsed": false
   },
   "outputs": [],
   "source": [
    "mac_mat = num_reqs_df[['protein_g', 'carb_g','fat_g']].as_matrix().astype(float)\n",
    "req_mat = num_reqs_df[['fiber_g','calcium_mg','iron_mg','vit_a_mcg','vit_c_mg']].as_matrix().astype(float)\n",
    "thresh_mat = num_reqs_df[['saturated_fat_g', 'sodium_mg','cholesterol_mg']].as_matrix().astype(float)"
   ]
  },
  {
   "cell_type": "code",
   "execution_count": 25,
   "metadata": {
    "collapsed": true
   },
   "outputs": [],
   "source": [
    "import numpy as np"
   ]
  },
  {
   "cell_type": "code",
   "execution_count": 41,
   "metadata": {
    "collapsed": false
   },
   "outputs": [],
   "source": [
    "def comparer(rand_df, mac_mat, req_mat, thresh_mat):\n",
    "    mac_c = np.sum(np.sqrt((rand_df[['protein_g', 'carb_g','fat_g']].as_matrix().astype(float) - mac_mat)**2))*5\n",
    "    req_c = np.sum(np.sqrt((rand_df[['fiber_g','calcium_mg','iron_mg','vit_a_mcg','vit_c_mg']].as_matrix().astype(float)-req_mat)**2))\n",
    "    thresh_c = np.sum(np.minimum(thresh_mat-rand_df[['saturated_fat_g', 'sodium_mg','cholesterol_mg']].as_matrix().astype(float), np.zeros(len(thresh_mat))))\n",
    "    \n",
    "    return sum([mac_c, req_c ,thresh_c])"
   ]
  },
  {
   "cell_type": "code",
   "execution_count": 42,
   "metadata": {
    "collapsed": false
   },
   "outputs": [
    {
     "data": {
      "text/plain": [
       "7665.5942993349618"
      ]
     },
     "execution_count": 42,
     "metadata": {},
     "output_type": "execute_result"
    }
   ],
   "source": [
    "comparer(df.iloc[0,:],mac_mat, req_mat, thresh_mat)"
   ]
  },
  {
   "cell_type": "markdown",
   "metadata": {},
   "source": [
    "## Genetic Optimizer"
   ]
  },
  {
   "cell_type": "markdown",
   "metadata": {},
   "source": [
    "What is a meal?"
   ]
  },
  {
   "cell_type": "markdown",
   "metadata": {},
   "source": [
    "First thing I'm curious about - can you eat healthy without worrying about food groups?"
   ]
  },
  {
   "cell_type": "markdown",
   "metadata": {},
   "source": [
    "Differentiating by meal type"
   ]
  },
  {
   "cell_type": "code",
   "execution_count": 47,
   "metadata": {
    "collapsed": false
   },
   "outputs": [
    {
     "data": {
      "text/plain": [
       "['California Pizza Kitchen', 'Sweetgreen']"
      ]
     },
     "execution_count": 47,
     "metadata": {},
     "output_type": "execute_result"
    }
   ],
   "source": [
    "my_home_rests"
   ]
  },
  {
   "cell_type": "code",
   "execution_count": null,
   "metadata": {
    "collapsed": true
   },
   "outputs": [],
   "source": [
    "day_df[day_df.meals]"
   ]
  },
  {
   "cell_type": "code",
   "execution_count": 48,
   "metadata": {
    "collapsed": false
   },
   "outputs": [
    {
     "data": {
      "text/html": [
       "<div>\n",
       "<table border=\"1\" class=\"dataframe\">\n",
       "  <thead>\n",
       "    <tr style=\"text-align: right;\">\n",
       "      <th></th>\n",
       "      <th>meals</th>\n",
       "      <th>key</th>\n",
       "      <th>days</th>\n",
       "      <th>day_sort</th>\n",
       "      <th>sort_meal</th>\n",
       "      <th>pref_food_type</th>\n",
       "      <th>rest_loc</th>\n",
       "    </tr>\n",
       "  </thead>\n",
       "  <tbody>\n",
       "    <tr>\n",
       "      <th>10</th>\n",
       "      <td>breakfast</td>\n",
       "      <td>1</td>\n",
       "      <td>Sunday</td>\n",
       "      <td>a</td>\n",
       "      <td>a</td>\n",
       "      <td>grocery</td>\n",
       "      <td>home</td>\n",
       "    </tr>\n",
       "    <tr>\n",
       "      <th>24</th>\n",
       "      <td>lunch</td>\n",
       "      <td>1</td>\n",
       "      <td>Sunday</td>\n",
       "      <td>a</td>\n",
       "      <td>b</td>\n",
       "      <td>restaurant</td>\n",
       "      <td>home</td>\n",
       "    </tr>\n",
       "    <tr>\n",
       "      <th>3</th>\n",
       "      <td>dinner</td>\n",
       "      <td>1</td>\n",
       "      <td>Sunday</td>\n",
       "      <td>a</td>\n",
       "      <td>c</td>\n",
       "      <td>recipe</td>\n",
       "      <td>home</td>\n",
       "    </tr>\n",
       "    <tr>\n",
       "      <th>17</th>\n",
       "      <td>snack</td>\n",
       "      <td>1</td>\n",
       "      <td>Sunday</td>\n",
       "      <td>a</td>\n",
       "      <td>d</td>\n",
       "      <td>grocery</td>\n",
       "      <td>home</td>\n",
       "    </tr>\n",
       "  </tbody>\n",
       "</table>\n",
       "</div>"
      ],
      "text/plain": [
       "        meals  key    days day_sort sort_meal pref_food_type rest_loc\n",
       "10  breakfast    1  Sunday        a         a        grocery     home\n",
       "24      lunch    1  Sunday        a         b     restaurant     home\n",
       "3      dinner    1  Sunday        a         c         recipe     home\n",
       "17      snack    1  Sunday        a         d        grocery     home"
      ]
     },
     "execution_count": 48,
     "metadata": {},
     "output_type": "execute_result"
    }
   ],
   "source": [
    "day_df"
   ]
  },
  {
   "cell_type": "code",
   "execution_count": 53,
   "metadata": {
    "collapsed": false
   },
   "outputs": [],
   "source": [
    "breakfast_df = df[df.food_type_grp==day_df.pref_food_type[day_df.meals=='breakfast'].item()]\n",
    "lunch_df = df[df.food_type_grp==day_df.pref_food_type[day_df.meals=='lunch'].item()]\n",
    "dinner_df = df[df.food_type_grp==day_df.pref_food_type[day_df.meals=='dinner'].item()]\n",
    "snack_df = df[df.food_type_grp==day_df.pref_food_type[day_df.meals=='snack'].item()]"
   ]
  },
  {
   "cell_type": "code",
   "execution_count": 56,
   "metadata": {
    "collapsed": false
   },
   "outputs": [
    {
     "data": {
      "text/plain": [
       "array(['Unnamed: 0', 'food_key', 'food_description', 'brand',\n",
       "       'food_type_grp', 'source', 'ingredients_list', 'serving_size_raw',\n",
       "       'serving_size_val', 'serving_size_unit', 'calories', 'protein_g',\n",
       "       'fat_g', 'saturated_fat_g', 'carb_g', 'fiber_g', 'sugar_g',\n",
       "       'sodium_mg', 'cholesterol_mg', 'calcium_mg', 'iron_mg', 'vit_a_mcg',\n",
       "       'vit_c_mg'], dtype=object)"
      ]
     },
     "execution_count": 56,
     "metadata": {},
     "output_type": "execute_result"
    }
   ],
   "source": [
    "df.columns.values"
   ]
  },
  {
   "cell_type": "code",
   "execution_count": 80,
   "metadata": {
    "collapsed": false
   },
   "outputs": [],
   "source": [
    "dail_df = pd.DataFrame()\n",
    "for i in range(len(day_df)):\n",
    "    if day_df['pref_food_type'].iloc[i] == 'restaurant':\n",
    "        rests = rest_dict[day_df['rest_loc'].iloc[i]]\n",
    "        meal_df = df[(df.food_type_grp==day_df.pref_food_type[day_df.meals==meal].item())&(df['brand'].isin(rests))]\n",
    "        meal_df['meal'] = meal\n",
    "    else:\n",
    "        meal_df = df[(df.food_type_grp==day_df.pref_food_type[day_df.meals==meal].item())]\n",
    "    dail_df = dail_df.append([meal_df], ignore_index=True)"
   ]
  },
  {
   "cell_type": "markdown",
   "metadata": {},
   "source": [
    "Fill up the reqs first\n",
    "* For first example, ignore usda food groups "
   ]
  },
  {
   "cell_type": "markdown",
   "metadata": {},
   "source": [
    "Previous Method: Rescore distance function every time\n",
    "    * Instead could use clusters and search a given cluster by trying an item from one cluster and re-judging distance"
   ]
  },
  {
   "cell_type": "markdown",
   "metadata": {},
   "source": [
    "Chromosomes can be different meals\n",
    "  * Can mutate the meals\n",
    "  * Can see which meals work together"
   ]
  },
  {
   "cell_type": "markdown",
   "metadata": {},
   "source": [
    "https://github.com/DEAP/deap"
   ]
  },
  {
   "cell_type": "markdown",
   "metadata": {},
   "source": [
    "If we had them grouped in liked groups, genetic algoithm could randomly select one inside the group, while another random process selects which groups to try"
   ]
  },
  {
   "cell_type": "code",
   "execution_count": null,
   "metadata": {
    "collapsed": true
   },
   "outputs": [],
   "source": [
    "Split meal df"
   ]
  },
  {
   "cell_type": "code",
   "execution_count": 81,
   "metadata": {
    "collapsed": false
   },
   "outputs": [
    {
     "ename": "SyntaxError",
     "evalue": "invalid syntax (<ipython-input-81-cd4479f89c60>, line 1)",
     "output_type": "error",
     "traceback": [
      "\u001b[0;36m  File \u001b[0;32m\"<ipython-input-81-cd4479f89c60>\"\u001b[0;36m, line \u001b[0;32m1\u001b[0m\n\u001b[0;31m    Probability of falling into 1 - 3 categories very high\u001b[0m\n\u001b[0m                 ^\u001b[0m\n\u001b[0;31mSyntaxError\u001b[0m\u001b[0;31m:\u001b[0m invalid syntax\n"
     ]
    }
   ],
   "source": [
    "Probability of falling into 1 - 3 categories very high"
   ]
  },
  {
   "cell_type": "code",
   "execution_count": null,
   "metadata": {
    "collapsed": true
   },
   "outputs": [],
   "source": [
    "randomly select 1 - 3 items"
   ]
  },
  {
   "cell_type": "code",
   "execution_count": null,
   "metadata": {
    "collapsed": true
   },
   "outputs": [],
   "source": [
    "dail_df[]"
   ]
  },
  {
   "cell_type": "code",
   "execution_count": null,
   "metadata": {
    "collapsed": true
   },
   "outputs": [],
   "source": []
  },
  {
   "cell_type": "code",
   "execution_count": null,
   "metadata": {
    "collapsed": true
   },
   "outputs": [],
   "source": [
    "prot_reqs = sum()"
   ]
  },
  {
   "cell_type": "markdown",
   "metadata": {},
   "source": [
    "Should automatically blend disperate food groups together"
   ]
  },
  {
   "cell_type": "markdown",
   "metadata": {},
   "source": [
    "Once it fills a need, it need to widen its useful df"
   ]
  },
  {
   "cell_type": "markdown",
   "metadata": {},
   "source": [
    "There is a problem because no recipes have classifications yet"
   ]
  },
  {
   "cell_type": "markdown",
   "metadata": {},
   "source": [
    "Next step: What is a USDA serving and how much per ingredient are there?"
   ]
  },
  {
   "cell_type": "markdown",
   "metadata": {},
   "source": [
    "Can use the usda pdf to estimate yield of cooked meat from uncooked"
   ]
  },
  {
   "cell_type": "markdown",
   "metadata": {
    "collapsed": true
   },
   "source": [
    "What person swaps them out, the next item an be determined by k-nearest neighbors"
   ]
  }
 ],
 "metadata": {
  "kernelspec": {
   "display_name": "Python 3",
   "language": "python",
   "name": "python3"
  },
  "language_info": {
   "codemirror_mode": {
    "name": "ipython",
    "version": 3
   },
   "file_extension": ".py",
   "mimetype": "text/x-python",
   "name": "python",
   "nbconvert_exporter": "python",
   "pygments_lexer": "ipython3",
   "version": "3.6.0"
  }
 },
 "nbformat": 4,
 "nbformat_minor": 2
}
