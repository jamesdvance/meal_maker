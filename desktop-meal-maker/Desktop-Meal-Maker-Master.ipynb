{
 "cells": [
  {
   "cell_type": "markdown",
   "metadata": {},
   "source": [
    "# Desktop Meal-Maker Master\n",
    "A master script for running all features of the 'meal-maker' app without the Django interface. \n",
    "\n",
    "#### Requirements\n",
    "1. Calculating TDEE and Required Calories\n",
    "2. Entering Macro Preferences\n",
    "3. Defining other restrictions and requirements\n",
    "\n",
    "#### Understanding Pallate\n",
    "1. Polling Raw Ingredient Likes and Dislikes\n",
    "2. Getting location and polling restaurant likes and dislikes\n",
    "3. Polling tag likes and dislikes (coming later)\n",
    "4. Polling Treats and Vices (such as chocolate, alchohol)\n",
    "\n",
    "#### Specifiying Meal Requirements\n",
    "1. Specifying days and meals of 1 week preferring restaurant, recipe, leftover or quick-prep item\n",
    "\n",
    "#### Running Recommendations\n",
    "1. Providing recommendations for week of meals\n",
    "2. Capturing feedback on meals to swap out, etc\n",
    "3. Adjusting for feedback - adjusting item sizes to perfectly match the cal/macro requirements\n",
    "\n",
    "#### Providing Output\n",
    "1. Provide shopping list\n",
    "2. Provide meal cooking and prepping schedule integrateable into Google Calendar"
   ]
  },
  {
   "cell_type": "markdown",
   "metadata": {},
   "source": [
    "## Requirements\n",
    "###### 1. Calculating TDEE and Calories"
   ]
  },
  {
   "cell_type": "code",
   "execution_count": 1,
   "metadata": {
    "collapsed": true
   },
   "outputs": [],
   "source": [
    "import warnings\n",
    "warnings.filterwarnings('ignore')"
   ]
  },
  {
   "cell_type": "code",
   "execution_count": 2,
   "metadata": {
    "collapsed": false
   },
   "outputs": [],
   "source": [
    "from calc_reqs import calc_tdee, calc_cal"
   ]
  },
  {
   "cell_type": "code",
   "execution_count": 2,
   "metadata": {
    "collapsed": false
   },
   "outputs": [
    {
     "name": "stdout",
     "output_type": "stream",
     "text": [
      "How Much Do You Weigh (in pounds)? 170\n",
      "How Tall Are You (in inches)? 74\n",
      "Are you male or female? male\n",
      "How old are you (years)? 30\n",
      "Exercise Level 1: Little or no exercise w/ a desk job.\n",
      "Exercise Level 2: Light exercise or sport 1-3 days/ week. Sedentary otherwise.\n",
      "Exercise Level 3: Moderate exercise or sport 3-5 days a week\n",
      "Exercise Level 4: Heavy Exercise or sport 6-7 days a week.\n",
      "Exercise Level 5: I'm a physical animal. If I'm not doing 2-a-day workouts I'm working a demanding physical job.\n",
      "Which of these best describes your exercise level? Please enter a numbers?2\n"
     ]
    }
   ],
   "source": [
    "tdee = calc_tdee()"
   ]
  },
  {
   "cell_type": "code",
   "execution_count": 3,
   "metadata": {
    "collapsed": false
   },
   "outputs": [
    {
     "name": "stdout",
     "output_type": "stream",
     "text": [
      "How would you like your weight to change this week? [Choose between -1,-.5, 0, .5, 1, 2] -.5\n",
      "I'm recommending a calorie amount of 2476.178233010247adjusted by -250. Your total calorie requirement is 2226.178233010247.\n"
     ]
    }
   ],
   "source": [
    "cal_req = calc_cal(tdee)"
   ]
  },
  {
   "cell_type": "code",
   "execution_count": 9,
   "metadata": {
    "collapsed": true
   },
   "outputs": [],
   "source": [
    "import pickle"
   ]
  },
  {
   "cell_type": "code",
   "execution_count": 7,
   "metadata": {
    "collapsed": true
   },
   "outputs": [],
   "source": [
    "pickle.dump(cal_req, open('cal_req.obj', 'wb'))\n",
    "pickle.dump(tdee, open('tdee.obj', 'wb'))"
   ]
  },
  {
   "cell_type": "markdown",
   "metadata": {},
   "source": [
    "To get this without the questioning:"
   ]
  },
  {
   "cell_type": "code",
   "execution_count": 3,
   "metadata": {
    "collapsed": false
   },
   "outputs": [],
   "source": [
    "cal_req=pickle.load(open(\"cal_req.obj\", \"rb\"))\n",
    "tdee=pickle.load(open(\"tdee.obj\", \"rb\"))"
   ]
  },
  {
   "cell_type": "markdown",
   "metadata": {},
   "source": [
    "##### 2. Entering Macro Preferences"
   ]
  },
  {
   "cell_type": "code",
   "execution_count": 5,
   "metadata": {
    "collapsed": true
   },
   "outputs": [],
   "source": [
    "from macro_pref import macro_preferences"
   ]
  },
  {
   "cell_type": "code",
   "execution_count": 6,
   "metadata": {
    "collapsed": false
   },
   "outputs": [
    {
     "name": "stdout",
     "output_type": "stream",
     "text": [
      "what percentage of protein, fat, and carbs do you prefer? (seperate by commas)40, 35, 25\n"
     ]
    }
   ],
   "source": [
    "prot_perc, fat_perc, carb_perc = macro_preferences()"
   ]
  },
  {
   "cell_type": "code",
   "execution_count": 14,
   "metadata": {
    "collapsed": false
   },
   "outputs": [],
   "source": [
    "pickle.dump(prot_perc, open('prot_perc.obj','wb'))\n",
    "pickle.dump(fat_perc, open('fat_perc.obj', 'wb'))\n",
    "pickle.dump(carb_perc, open('carb_perc.obj', 'wb'))"
   ]
  },
  {
   "cell_type": "code",
   "execution_count": 4,
   "metadata": {
    "collapsed": true
   },
   "outputs": [],
   "source": [
    "prot_perc, fat_perc, carb_perc = pickle.load( open('prot_perc.obj','rb')), pickle.load(open('fat_perc.obj', 'rb')), pickle.load(open('carb_perc.obj', 'rb'))"
   ]
  },
  {
   "cell_type": "markdown",
   "metadata": {},
   "source": [
    "##### 3. Defining Other Restrictions and Requirements"
   ]
  },
  {
   "cell_type": "markdown",
   "metadata": {},
   "source": [
    "Here I'd like to add a vegetables per lunch / dinner requirement, as well as a one fruit / day. \n",
    "\n",
    "This part could contain a lot of complexity later based on different diet types, but x vegetables per lunch / dinner, and 1 fruit a day is a good start"
   ]
  },
  {
   "cell_type": "code",
   "execution_count": 24,
   "metadata": {
    "collapsed": false
   },
   "outputs": [],
   "source": [
    "from diet_reqs import food_grp_reqs, vitamin_mineral_reqs"
   ]
  },
  {
   "cell_type": "code",
   "execution_count": 25,
   "metadata": {
    "collapsed": false
   },
   "outputs": [
    {
     "name": "stdout",
     "output_type": "stream",
     "text": [
      "['Whole Fruit' 'Fruit Juice' 'Dark Green Vegetables' 'Legumes'\n",
      " 'Red and Orange Vegetables' 'Starchy Vegetables' 'Other Vegetables'\n",
      " 'Whole Grain' 'Refined Grains' 'Milk' 'Yogurt' 'Cheese' 'Soymilk' 'Eggs'\n",
      " 'High Omega-3 Fish' 'Low Omega-3 Fish' 'Nuts and Seeds' 'Poultry'\n",
      " 'Red Meats' 'Processed Soy Products' 'Oils' 'Solid Fats']\n",
      "Which group would you like to add to rules? Whole Fruit\n",
      "How often would you like this item in your diet? Choices are Breakfast, Lunch, Dinner, Daily, Weekly. Daily\n",
      "How much would you like at that recurrance? 1\n"
     ]
    }
   ],
   "source": [
    "food_grp_req_df = food_grp_reqs()"
   ]
  },
  {
   "cell_type": "code",
   "execution_count": 27,
   "metadata": {
    "collapsed": false
   },
   "outputs": [
    {
     "name": "stdout",
     "output_type": "stream",
     "text": [
      "['Whole Fruit' 'Fruit Juice' 'Dark Green Vegetables' 'Legumes'\n",
      " 'Red and Orange Vegetables' 'Starchy Vegetables' 'Other Vegetables'\n",
      " 'Whole Grain' 'Refined Grains' 'Milk' 'Yogurt' 'Cheese' 'Soymilk' 'Eggs'\n",
      " 'High Omega-3 Fish' 'Low Omega-3 Fish' 'Nuts and Seeds' 'Poultry'\n",
      " 'Red Meats' 'Processed Soy Products' 'Oils' 'Solid Fats']\n",
      "Which group would you like to add to rules? Dark Green Vegetables\n",
      "How often would you like this item in your diet? Choices are Breakfast, Lunch, Dinner, Daily, Weekly. Lunch\n",
      "How much would you like at that recurrance? 1\n"
     ]
    }
   ],
   "source": [
    "food_grp_req_df = food_grp_req_df.append([food_grp_reqs()])"
   ]
  },
  {
   "cell_type": "code",
   "execution_count": 29,
   "metadata": {
    "collapsed": false
   },
   "outputs": [
    {
     "name": "stdout",
     "output_type": "stream",
     "text": [
      "['Whole Fruit' 'Fruit Juice' 'Dark Green Vegetables' 'Legumes'\n",
      " 'Red and Orange Vegetables' 'Starchy Vegetables' 'Other Vegetables'\n",
      " 'Whole Grain' 'Refined Grains' 'Milk' 'Yogurt' 'Cheese' 'Soymilk' 'Eggs'\n",
      " 'High Omega-3 Fish' 'Low Omega-3 Fish' 'Nuts and Seeds' 'Poultry'\n",
      " 'Red Meats' 'Processed Soy Products' 'Oils' 'Solid Fats']\n",
      "Which group would you like to add to rules? Dark Green Vegetables\n",
      "How often would you like this item in your diet? Choices are Breakfast, Lunch, Dinner, Daily, Weekly. Dinner\n",
      "How much would you like at that recurrance? 1\n"
     ]
    }
   ],
   "source": [
    "food_grp_req_df = food_grp_req_df.append([food_grp_reqs()])"
   ]
  },
  {
   "cell_type": "code",
   "execution_count": 1,
   "metadata": {
    "collapsed": false
   },
   "outputs": [
    {
     "ename": "NameError",
     "evalue": "name 'pickle' is not defined",
     "output_type": "error",
     "traceback": [
      "\u001b[0;31m---------------------------------------------------------------------------\u001b[0m",
      "\u001b[0;31mNameError\u001b[0m                                 Traceback (most recent call last)",
      "\u001b[0;32m<ipython-input-1-c8db1e478c4b>\u001b[0m in \u001b[0;36m<module>\u001b[0;34m()\u001b[0m\n\u001b[0;32m----> 1\u001b[0;31m \u001b[0mpickle\u001b[0m\u001b[1;33m.\u001b[0m\u001b[0mdump\u001b[0m\u001b[1;33m(\u001b[0m\u001b[0mfood_grp_req_df\u001b[0m\u001b[1;33m,\u001b[0m \u001b[0mopen\u001b[0m\u001b[1;33m(\u001b[0m\u001b[1;34m\"food_grp_req_df.obj\"\u001b[0m\u001b[1;33m,\u001b[0m \u001b[1;34m\"wb\"\u001b[0m\u001b[1;33m)\u001b[0m\u001b[1;33m)\u001b[0m\u001b[1;33m\u001b[0m\u001b[0m\n\u001b[0m",
      "\u001b[0;31mNameError\u001b[0m: name 'pickle' is not defined"
     ]
    }
   ],
   "source": [
    "pickle.dump(food_grp_req_df, open(\"food_grp_req_df.obj\", \"wb\"))"
   ]
  },
  {
   "cell_type": "code",
   "execution_count": 5,
   "metadata": {
    "collapsed": true
   },
   "outputs": [],
   "source": [
    "food_grp_req_df = pickle.load(open(\"food_grp_req_df.obj\", \"rb\"))"
   ]
  },
  {
   "cell_type": "markdown",
   "metadata": {},
   "source": [
    "## Understanding Pallate\n",
    "##### Polling Raw Ingredient Likes and Dislikes"
   ]
  },
  {
   "cell_type": "markdown",
   "metadata": {},
   "source": [
    "Building a simple GUI to sort words as they appear into right and left for 'like' and 'dislike' respectively.\n",
    "When implementing family-style, can have family members swipe suggestions also. Should be written in JS or JQuery"
   ]
  },
  {
   "cell_type": "code",
   "execution_count": 3,
   "metadata": {
    "collapsed": false
   },
   "outputs": [],
   "source": [
    "from polling_likes_dislikes import poll_raw_ingred"
   ]
  },
  {
   "cell_type": "code",
   "execution_count": 26,
   "metadata": {
    "collapsed": false
   },
   "outputs": [
    {
     "name": "stderr",
     "output_type": "stream",
     "text": [
      "C:\\ProgramData\\Anaconda3\\lib\\site-packages\\IPython\\core\\interactiveshell.py:2717: DtypeWarning: Columns (0,5) have mixed types. Specify dtype option on import or set low_memory=False.\n",
      "  interactivity=interactivity, compiler=compiler, result=result)\n"
     ]
    }
   ],
   "source": [
    "import pandas as pd\n",
    "nut_sm = pd.read_csv('C:/Users/J/Desktop/Businesses/Meal_Maker/Scraped_Data/combined_nutrition_small/nutrition_sm_2018_3_15_processed_comma.csv', encoding='ISO-8859-1')"
   ]
  },
  {
   "cell_type": "markdown",
   "metadata": {},
   "source": [
    "In the gui, it should let you search a keyword, then let you swipe left and right as they appear. That way you can specify 'raw tomotoes' but not 'tomato sauce'"
   ]
  },
  {
   "cell_type": "code",
   "execution_count": 5,
   "metadata": {
    "collapsed": false
   },
   "outputs": [
    {
     "name": "stdout",
     "output_type": "stream",
     "text": [
      "Tell me a raw ingredient you don't like: tomato\n",
      "Tomatoes\n",
      "Is this the food you were looking for: Tomatoes ? (1/0)1\n"
     ]
    }
   ],
   "source": [
    "dislike = poll_raw_ingred()"
   ]
  },
  {
   "cell_type": "code",
   "execution_count": 11,
   "metadata": {
    "collapsed": false
   },
   "outputs": [
    {
     "name": "stdout",
     "output_type": "stream",
     "text": [
      "Tell me a raw ingredient you don't like: lentil\n",
      "Peanut Oil\n",
      "Is this the food you were looking for: Peanut Oil ? (1/0)0\n",
      "Peanut Oil\n",
      "Is this the food you were looking for: Peanut Oil ? (1/0)0\n",
      "Walnut Oil\n",
      "Is this the food you were looking for: Walnut Oil ? (1/0)0\n",
      "Clementines\n",
      "Is this the food you were looking for: Clementines ? (1/0)0\n",
      "Lentil Soup\n",
      "Is this the food you were looking for: Lentil Soup ? (1/0)1\n",
      "Would you like to continue? (1/0)1\n",
      "Tell me a raw ingredient you don't like: Okra\n",
      "Okra\n",
      "Is this the food you were looking for: Okra ? (1/0)1\n",
      "Would you like to continue? (1/0)0\n"
     ]
    }
   ],
   "source": [
    "cont=1\n",
    "while cont==1:\n",
    "    dislike = poll_raw_ingred()\n",
    "    dislikes.append(dislike)\n",
    "    cont = int(input(\"Would you like to continue? (1/0)\"))"
   ]
  },
  {
   "cell_type": "code",
   "execution_count": 12,
   "metadata": {
    "collapsed": false
   },
   "outputs": [
    {
     "data": {
      "text/plain": [
       "['Tomatoes', 'Lentil Soup', 'Okra']"
      ]
     },
     "execution_count": 12,
     "metadata": {},
     "output_type": "execute_result"
    }
   ],
   "source": [
    "dislikes"
   ]
  },
  {
   "cell_type": "code",
   "execution_count": 13,
   "metadata": {
    "collapsed": true
   },
   "outputs": [],
   "source": [
    "pickle.dump(dislikes , open(\"dislikes.obj\", \"wb\"))"
   ]
  },
  {
   "cell_type": "markdown",
   "metadata": {},
   "source": [
    "##### Getting location and polling restaurant likes and dislikes"
   ]
  },
  {
   "cell_type": "code",
   "execution_count": 1,
   "metadata": {
    "collapsed": true
   },
   "outputs": [],
   "source": [
    "from polling_likes_dislikes import poll_restaurants_nearbye, process_liked_restaurants"
   ]
  },
  {
   "cell_type": "code",
   "execution_count": 4,
   "metadata": {
    "collapsed": false
   },
   "outputs": [
    {
     "name": "stdout",
     "output_type": "stream",
     "text": [
      "What is your full address (exlude apt)? 575 12th Street South Arlington VA 22202\n"
     ]
    },
    {
     "name": "stderr",
     "output_type": "stream",
     "text": [
      "C:\\ProgramData\\Anaconda3\\lib\\site-packages\\IPython\\core\\interactiveshell.py:2881: DtypeWarning: Columns (0,5) have mixed types. Specify dtype option on import or set low_memory=False.\n",
      "  exec(code_obj, self.user_global_ns, self.user_ns)\n"
     ]
    },
    {
     "name": "stdout",
     "output_type": "stream",
     "text": [
      "Would you like to eat at California Pizza Kitchen this week? (1/0)1\n",
      "Would you like to eat at Chipotle Mexican Grill this week? (1/0)0\n",
      "Would you like to eat at Great Wraps this week? (1/0)0\n",
      "Would you like to eat at Nando's this week? (1/0)0\n",
      "Would you like to eat at Extreme Pizza this week? (1/0)0\n",
      "Would you like to eat at Buffalo Wild Wings this week? (1/0)0\n",
      "Would you like to eat at Pizza Pizza this week? (1/0)0\n",
      "Would you like to eat at Chipotle this week? (1/0)0\n",
      "Would you like to eat at Bonefish Grill this week? (1/0)0\n",
      "Would you like to eat at Champps this week? (1/0)0\n",
      "Would you like to eat at Legal Sea Foods this week? (1/0)0\n",
      "Would you like to eat at Shake Shack this week? (1/0)0\n",
      "Would you like to eat at Five Guys this week? (1/0)0\n",
      "Would you like to eat at Boston Market this week? (1/0)0\n",
      "Would you like to eat at 99 Restaurant this week? (1/0)0\n",
      "Would you like to eat at IHOP this week? (1/0)0\n",
      "Would you like to eat at Chevy's Fresh Mex this week? (1/0)0\n",
      "Would you like to eat at Panda Express this week? (1/0)0\n",
      "Would you like to eat at Popeye's Louisiana Kitchen this week? (1/0)0\n",
      "Would you like to eat at Sweetgreen this week? (1/0)1\n"
     ]
    }
   ],
   "source": [
    "my_home_rests = poll_restaurants_nearbye()"
   ]
  },
  {
   "cell_type": "code",
   "execution_count": 5,
   "metadata": {
    "collapsed": false
   },
   "outputs": [
    {
     "data": {
      "text/plain": [
       "['California Pizza Kitchen', 'Sweetgreen']"
      ]
     },
     "execution_count": 5,
     "metadata": {},
     "output_type": "execute_result"
    }
   ],
   "source": [
    "my_home_rests"
   ]
  },
  {
   "cell_type": "code",
   "execution_count": 6,
   "metadata": {
    "collapsed": false
   },
   "outputs": [
    {
     "name": "stdout",
     "output_type": "stream",
     "text": [
      "What is your full address (exlude apt)? 10323 Old Georgetown Rd, Bethesda, MD 20814\n"
     ]
    },
    {
     "name": "stderr",
     "output_type": "stream",
     "text": [
      "C:\\ProgramData\\Anaconda3\\lib\\site-packages\\IPython\\core\\interactiveshell.py:2881: DtypeWarning: Columns (0,5) have mixed types. Specify dtype option on import or set low_memory=False.\n",
      "  exec(code_obj, self.user_global_ns, self.user_ns)\n"
     ]
    },
    {
     "name": "stdout",
     "output_type": "stream",
     "text": [
      "Would you like to eat at Chipotle Mexican Grill this week? (1/0)0\n",
      "Would you like to eat at Wahoo's Fish Taco this week? (1/0)0\n",
      "Would you like to eat at Plaza Azteca this week? (1/0)0\n",
      "Would you like to eat at Chuy's this week? (1/0)0\n",
      "Would you like to eat at Sarku Japan this week? (1/0)0\n",
      "Would you like to eat at Chipotle this week? (1/0)0\n",
      "Would you like to eat at Not Your Average Joe's this week? (1/0)0\n",
      "Would you like to eat at Cava Grill this week? (1/0)0\n",
      "Would you like to eat at Chick-fil-A this week? (1/0)0\n",
      "Would you like to eat at Pizza Hut this week? (1/0)0\n",
      "Would you like to eat at Seasons 52 this week? (1/0)0\n",
      "Would you like to eat at Five Guys this week? (1/0)0\n",
      "Would you like to eat at Wendy's this week? (1/0)0\n",
      "Would you like to eat at Boston Market this week? (1/0)0\n",
      "Would you like to eat at 99 Restaurant this week? (1/0)0\n",
      "Would you like to eat at Popeye's Louisiana Kitchen this week? (1/0)0\n",
      "Would you like to eat at Panda Express this week? (1/0)0\n",
      "Would you like to eat at McDonald's this week? (1/0)0\n",
      "Would you like to eat at TGI Friday's this week? (1/0)0\n"
     ]
    }
   ],
   "source": [
    "my_work_rests = poll_restaurants_nearbye()"
   ]
  },
  {
   "cell_type": "code",
   "execution_count": 7,
   "metadata": {
    "collapsed": true
   },
   "outputs": [],
   "source": [
    "# This is where they would search for other restaurants not found\n",
    "my_work_rests.append(\"Starbucks\")"
   ]
  },
  {
   "cell_type": "code",
   "execution_count": 10,
   "metadata": {
    "collapsed": false
   },
   "outputs": [],
   "source": [
    "pickle.dump(my_home_rests, open(\"my_home_rests.obj\", \"wb\"))\n",
    "pickle.dump(my_work_rests, open(\"my_work_rests.obj\", \"wb\"))"
   ]
  },
  {
   "cell_type": "markdown",
   "metadata": {},
   "source": [
    "##### Polling food type likes and dislikes"
   ]
  },
  {
   "cell_type": "markdown",
   "metadata": {},
   "source": [
    "#### Polling Treats and Vices (such as chocolate, alchohol)"
   ]
  },
  {
   "cell_type": "markdown",
   "metadata": {},
   "source": [
    "Should combine the functions of food requirements : How often do you want this vice (by type)? Alcohol, chocolate and candy are default questions\n",
    "* Then, it moves to a polling format for each subgroup. \n",
    "* This should be the format for each 'group' defintion - after a req, it polls n examples to get an idea"
   ]
  },
  {
   "cell_type": "markdown",
   "metadata": {},
   "source": [
    "## Specifying Meal Requirements"
   ]
  },
  {
   "cell_type": "code",
   "execution_count": 27,
   "metadata": {
    "collapsed": false
   },
   "outputs": [],
   "source": [
    "food_types = list(nut_sm['food_type_grp'].unique())"
   ]
  },
  {
   "cell_type": "code",
   "execution_count": 28,
   "metadata": {
    "collapsed": false
   },
   "outputs": [],
   "source": [
    "food_types.append('recipe leftovers')"
   ]
  },
  {
   "cell_type": "code",
   "execution_count": 29,
   "metadata": {
    "collapsed": false
   },
   "outputs": [
    {
     "data": {
      "text/plain": [
       "['restaurant', 'grocery', nan, 'raw ingredient', 'recipe', 'recipe leftovers']"
      ]
     },
     "execution_count": 29,
     "metadata": {},
     "output_type": "execute_result"
    }
   ],
   "source": [
    "food_types"
   ]
  },
  {
   "cell_type": "markdown",
   "metadata": {},
   "source": [
    "Distributing by day\n",
    "\n",
    "Should be a gui, with guesses villed out, where the person can change them manually"
   ]
  },
  {
   "cell_type": "code",
   "execution_count": 7,
   "metadata": {
    "collapsed": false
   },
   "outputs": [],
   "source": [
    "import pandas as pd\n",
    "meals = pd.DataFrame(['breakfast', 'lunch', 'dinner', 'snack'], columns=['meals'])\n",
    "days = pd.DataFrame(['Sunday', 'Monday','Tuesday', 'Wednesday','Thursday','Friday','Saturday'], columns=['days'])"
   ]
  },
  {
   "cell_type": "code",
   "execution_count": 8,
   "metadata": {
    "collapsed": false
   },
   "outputs": [],
   "source": [
    "meals['key']=1\n",
    "days['key']=1"
   ]
  },
  {
   "cell_type": "code",
   "execution_count": 29,
   "metadata": {
    "collapsed": false
   },
   "outputs": [],
   "source": [
    "meals_df = pd.merge(meals,days,on=['key'])"
   ]
  },
  {
   "cell_type": "code",
   "execution_count": 30,
   "metadata": {
    "collapsed": false
   },
   "outputs": [
    {
     "name": "stderr",
     "output_type": "stream",
     "text": [
      "C:\\ProgramData\\Anaconda3\\lib\\site-packages\\ipykernel\\__main__.py:1: FutureWarning: sort(columns=....) is deprecated, use sort_values(by=.....)\n",
      "  if __name__ == '__main__':\n"
     ]
    }
   ],
   "source": [
    "meals_df = meals_df.sort(['days'])"
   ]
  },
  {
   "cell_type": "code",
   "execution_count": 31,
   "metadata": {
    "collapsed": false
   },
   "outputs": [],
   "source": [
    "day_sort_df=pd.DataFrame({'days':['Sunday','Monday','Tuesday','Wednesday','Thursday','Friday','Saturday'],'day_sort':['a','b','c','d','e','f','g']})\n",
    "meal_sort_df=pd.DataFrame({'meals':['breakfast', 'lunch', 'dinner', 'snack'],'sort_meal':['a','b','c','d',]})"
   ]
  },
  {
   "cell_type": "code",
   "execution_count": 32,
   "metadata": {
    "collapsed": false
   },
   "outputs": [],
   "source": [
    "meals_df = meals_df.merge(day_sort_df, on='days')\n",
    "meals_df = meals_df.merge(meal_sort_df, on='meals')"
   ]
  },
  {
   "cell_type": "code",
   "execution_count": 36,
   "metadata": {
    "collapsed": false
   },
   "outputs": [
    {
     "data": {
      "text/html": [
       "<div>\n",
       "<table border=\"1\" class=\"dataframe\">\n",
       "  <thead>\n",
       "    <tr style=\"text-align: right;\">\n",
       "      <th></th>\n",
       "      <th>meals</th>\n",
       "      <th>key</th>\n",
       "      <th>days</th>\n",
       "      <th>day_sort</th>\n",
       "      <th>sort_meal</th>\n",
       "    </tr>\n",
       "  </thead>\n",
       "  <tbody>\n",
       "    <tr>\n",
       "      <th>10</th>\n",
       "      <td>breakfast</td>\n",
       "      <td>1</td>\n",
       "      <td>Sunday</td>\n",
       "      <td>a</td>\n",
       "      <td>a</td>\n",
       "    </tr>\n",
       "    <tr>\n",
       "      <th>24</th>\n",
       "      <td>lunch</td>\n",
       "      <td>1</td>\n",
       "      <td>Sunday</td>\n",
       "      <td>a</td>\n",
       "      <td>b</td>\n",
       "    </tr>\n",
       "    <tr>\n",
       "      <th>3</th>\n",
       "      <td>dinner</td>\n",
       "      <td>1</td>\n",
       "      <td>Sunday</td>\n",
       "      <td>a</td>\n",
       "      <td>c</td>\n",
       "    </tr>\n",
       "    <tr>\n",
       "      <th>17</th>\n",
       "      <td>snack</td>\n",
       "      <td>1</td>\n",
       "      <td>Sunday</td>\n",
       "      <td>a</td>\n",
       "      <td>d</td>\n",
       "    </tr>\n",
       "    <tr>\n",
       "      <th>8</th>\n",
       "      <td>breakfast</td>\n",
       "      <td>1</td>\n",
       "      <td>Monday</td>\n",
       "      <td>b</td>\n",
       "      <td>a</td>\n",
       "    </tr>\n",
       "  </tbody>\n",
       "</table>\n",
       "</div>"
      ],
      "text/plain": [
       "        meals  key    days day_sort sort_meal\n",
       "10  breakfast    1  Sunday        a         a\n",
       "24      lunch    1  Sunday        a         b\n",
       "3      dinner    1  Sunday        a         c\n",
       "17      snack    1  Sunday        a         d\n",
       "8   breakfast    1  Monday        b         a"
      ]
     },
     "execution_count": 36,
     "metadata": {},
     "output_type": "execute_result"
    }
   ],
   "source": [
    "meals_df.head()"
   ]
  },
  {
   "cell_type": "code",
   "execution_count": 35,
   "metadata": {
    "collapsed": false
   },
   "outputs": [],
   "source": [
    "meals_df = meals_df.sort_values(by=['day_sort','sort_meal'])"
   ]
  },
  {
   "cell_type": "code",
   "execution_count": 24,
   "metadata": {
    "collapsed": false
   },
   "outputs": [
    {
     "name": "stdout",
     "output_type": "stream",
     "text": [
      "What do you normally eat for breakfast? recipe leftovers\n",
      "What do you normally eat for lunch? recipe leftovers\n",
      "What do you normally eat for dinner? recipe\n",
      "What do you normally eat for snack? grocery\n"
     ]
    }
   ],
   "source": [
    "#This should start with a poll\n",
    "# In the gui, they could set the default first, then go through and change individual entries\n",
    "meal_defaults_vec = ['breakfast','lunch','dinner','snack']\n",
    "meal_dict={}\n",
    "for meal in meal_defaults_vec:\n",
    "    ans = input(\"What do you normally eat for \"+meal+\"? \")\n",
    "    meal_dict[meal]=ans"
   ]
  },
  {
   "cell_type": "code",
   "execution_count": 30,
   "metadata": {
    "collapsed": false
   },
   "outputs": [
    {
     "data": {
      "text/plain": [
       "['restaurant', 'grocery', nan, 'raw ingredient', 'recipe', 'recipe leftovers']"
      ]
     },
     "execution_count": 30,
     "metadata": {},
     "output_type": "execute_result"
    }
   ],
   "source": [
    "food_types"
   ]
  },
  {
   "cell_type": "code",
   "execution_count": 31,
   "metadata": {
    "collapsed": false
   },
   "outputs": [
    {
     "name": "stdout",
     "output_type": "stream",
     "text": [
      "What food type on Sunday for breakfast? grocery\n"
     ]
    },
    {
     "name": "stderr",
     "output_type": "stream",
     "text": [
      "C:\\ProgramData\\Anaconda3\\lib\\site-packages\\pandas\\core\\indexing.py:141: SettingWithCopyWarning: \n",
      "A value is trying to be set on a copy of a slice from a DataFrame\n",
      "\n",
      "See the caveats in the documentation: http://pandas.pydata.org/pandas-docs/stable/indexing.html#indexing-view-versus-copy\n",
      "  self._setitem_with_indexer(indexer, value)\n"
     ]
    },
    {
     "name": "stdout",
     "output_type": "stream",
     "text": [
      "What food type on Sunday for lunch? restaurant\n",
      "What food type on Sunday for dinner? recipe\n",
      "What food type on Sunday for snack? grocery\n",
      "What food type on Monday for breakfast? recipe leftovers\n",
      "What food type on Monday for lunch? recipe leftovers\n",
      "What food type on Monday for dinner? recipe\n",
      "What food type on Monday for snack? grocery\n",
      "What food type on Tuesday for breakfast? recipe leftovers\n",
      "What food type on Tuesday for lunch? recipe leftovers\n",
      "What food type on Tuesday for dinner? recipe leftovers\n",
      "What food type on Tuesday for snack? grocery\n",
      "What food type on Wednesday for breakfast? recipe leftovers\n",
      "What food type on Wednesday for lunch? recipe leftovers\n",
      "What food type on Wednesday for dinner? restaurant\n",
      "What food type on Wednesday for snack? grocery\n",
      "What food type on Thursday for breakfast? recipe leftovers\n",
      "What food type on Thursday for lunch? recipe leftovers\n",
      "What food type on Thursday for dinner? recipe\n",
      "What food type on Thursday for snack? grocery\n",
      "What food type on Friday for breakfast? restaurant\n",
      "What food type on Friday for lunch? recipe leftovers\n",
      "What food type on Friday for dinner? recipe leftovers\n",
      "What food type on Friday for snack? grocery\n",
      "What food type on Saturday for breakfast? grocery\n",
      "What food type on Saturday for lunch? restaurant\n",
      "What food type on Saturday for dinner? recipe\n",
      "What food type on Saturday for snack? grocery\n"
     ]
    }
   ],
   "source": [
    "meals_df['pref_food_type'] = 'recipe'\n",
    "for i in range(len(meals_df)):\n",
    "    meals_df['pref_food_type'].iloc[i]= input(\"What food type on \"+meals_df['days'].iloc[i]+\" for \"+meals_df['meals'].iloc[i]+\"? \")"
   ]
  },
  {
   "cell_type": "code",
   "execution_count": 32,
   "metadata": {
    "collapsed": false
   },
   "outputs": [
    {
     "data": {
      "text/plain": [
       "array(['grocery', 'restaurant', 'recipe', 'recipe leftovers'], dtype=object)"
      ]
     },
     "execution_count": 32,
     "metadata": {},
     "output_type": "execute_result"
    }
   ],
   "source": [
    "meals_df['pref_food_type'].unique()"
   ]
  },
  {
   "cell_type": "code",
   "execution_count": 33,
   "metadata": {
    "collapsed": false
   },
   "outputs": [
    {
     "name": "stdout",
     "output_type": "stream",
     "text": [
      "Where will you be for this restaurant meal on Sunday for lunch ? (home/work) home\n"
     ]
    },
    {
     "name": "stderr",
     "output_type": "stream",
     "text": [
      "C:\\ProgramData\\Anaconda3\\lib\\site-packages\\pandas\\core\\indexing.py:141: SettingWithCopyWarning: \n",
      "A value is trying to be set on a copy of a slice from a DataFrame\n",
      "\n",
      "See the caveats in the documentation: http://pandas.pydata.org/pandas-docs/stable/indexing.html#indexing-view-versus-copy\n",
      "  self._setitem_with_indexer(indexer, value)\n"
     ]
    },
    {
     "name": "stdout",
     "output_type": "stream",
     "text": [
      "Where will you be for this restaurant meal on Wednesday for dinner ? (home/work) home\n",
      "Where will you be for this restaurant meal on Friday for breakfast ? (home/work) work\n",
      "Where will you be for this restaurant meal on Saturday for lunch ? (home/work) home\n"
     ]
    }
   ],
   "source": [
    "meals_df['rest_loc'] = 'home'\n",
    "for i in range(len(meals_df)):\n",
    "    if meals_df['pref_food_type'].iloc[i]=='restaurant':\n",
    "        meals_df['rest_loc'].iloc[i] = input(\"Where will you be for this \"+meals_df['pref_food_type'].iloc[i]+\" meal on \"+meals_df['days'].iloc[i]+\" for \"+meals_df['meals'].iloc[i]+\" ? (home/work) \")"
   ]
  },
  {
   "cell_type": "code",
   "execution_count": 34,
   "metadata": {
    "collapsed": false
   },
   "outputs": [],
   "source": [
    "food_type_preferences = {'longest leftovers (days)':3, 'breakfast rest':'Starbucks', 'preferred coffee':'black coffee', 'meal prep?':1}"
   ]
  },
  {
   "cell_type": "code",
   "execution_count": 35,
   "metadata": {
    "collapsed": true
   },
   "outputs": [],
   "source": [
    "pickle.dump(meals_df, open('meals_df.obj', 'wb'))\n",
    "pickle.dump(food_type_preferences, open('food_type_preferences.obj', 'wb'))"
   ]
  },
  {
   "cell_type": "markdown",
   "metadata": {},
   "source": [
    "## Recommendations"
   ]
  },
  {
   "cell_type": "code",
   "execution_count": 36,
   "metadata": {
    "collapsed": true
   },
   "outputs": [],
   "source": [
    "# Loading all relevant data\n",
    "# Cal & Macro Req\n",
    "cal_req=pickle.load(open(\"cal_req.obj\", \"rb\"))\n",
    "tdee=pickle.load(open(\"tdee.obj\", \"rb\"))\n",
    "prot_perc, fat_perc, carb_perc = pickle.load( open('prot_perc.obj','rb')), pickle.load(open('fat_perc.obj', 'rb')), pickle.load(open('carb_perc.obj', 'rb'))\n",
    "# Dietary Requirements\n",
    "food_grp_req_df = pickle.load(open(\"food_grp_req_df.obj\", \"rb\"))\n",
    "# Food likes and dislikes\n",
    "dislikes = pickle.load(open(\"dislikes.obj\", \"rb\"))\n",
    "# Restaurants near me, likes / dislikes (should probably merge with next section)\n",
    "my_home_rests = pickle.load(open(\"my_home_rests.obj\", \"rb\"))\n",
    "my_work_rests = pickle.load(open(\"my_work_rests.obj\", \"rb\"))\n",
    "# Meal Type Requirements\n",
    "meals_df=pickle.load(open('meals_df.obj', 'rb'))\n",
    "food_type_preferences=pickle.load(open('food_type_preferences.obj', 'rb'))"
   ]
  }
 ],
 "metadata": {
  "kernelspec": {
   "display_name": "Python 3",
   "language": "python",
   "name": "python3"
  },
  "language_info": {
   "codemirror_mode": {
    "name": "ipython",
    "version": 3
   },
   "file_extension": ".py",
   "mimetype": "text/x-python",
   "name": "python",
   "nbconvert_exporter": "python",
   "pygments_lexer": "ipython3",
   "version": "3.6.0"
  }
 },
 "nbformat": 4,
 "nbformat_minor": 2
}
