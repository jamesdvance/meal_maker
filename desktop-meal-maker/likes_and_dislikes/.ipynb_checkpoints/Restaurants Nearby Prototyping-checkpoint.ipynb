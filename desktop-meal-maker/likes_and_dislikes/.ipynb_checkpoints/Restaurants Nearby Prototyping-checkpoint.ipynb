{
 "cells": [
  {
   "cell_type": "code",
   "execution_count": 1,
   "metadata": {
    "collapsed": false
   },
   "outputs": [],
   "source": [
    "from googleplaces import GooglePlaces, types, lang\n",
    "import pandas as pd\n",
    "import requests"
   ]
  },
  {
   "cell_type": "code",
   "execution_count": 2,
   "metadata": {
    "collapsed": true
   },
   "outputs": [],
   "source": [
    "search_str = '575 12th Street S, Arlington VA 22202'"
   ]
  },
  {
   "cell_type": "code",
   "execution_count": 3,
   "metadata": {
    "collapsed": true
   },
   "outputs": [],
   "source": [
    "search_str_f = search_str.replace(' ','+')"
   ]
  },
  {
   "cell_type": "code",
   "execution_count": 4,
   "metadata": {
    "collapsed": true
   },
   "outputs": [],
   "source": [
    "lat_long_info = requests.get('https://maps.googleapis.com/maps/api/geocode/json?address='+search_str_f+'&key='+google_geo_api_key)"
   ]
  },
  {
   "cell_type": "code",
   "execution_count": 5,
   "metadata": {
    "collapsed": false
   },
   "outputs": [],
   "source": [
    "results = lat_long_info.json()['results']"
   ]
  },
  {
   "cell_type": "code",
   "execution_count": 6,
   "metadata": {
    "collapsed": false
   },
   "outputs": [],
   "source": [
    "lat, long = results[0]['geometry']['location']['lat'], results[0]['geometry']['location']['lng']"
   ]
  },
  {
   "cell_type": "code",
   "execution_count": 7,
   "metadata": {
    "collapsed": true
   },
   "outputs": [],
   "source": [
    "google_places = GooglePlaces(google_places_api_key)"
   ]
  },
  {
   "cell_type": "code",
   "execution_count": 8,
   "metadata": {
    "collapsed": false
   },
   "outputs": [],
   "source": [
    "result = google_places.nearby_search(\n",
    "    pagetoken = None,\n",
    "    location = '575 12th Street South, Arlington, VA',\n",
    "    lat_lng = {'lat':lat,'lng':long},\n",
    "    radius = 300,\n",
    "    keyword = 'restaurant',\n",
    "    rankby = 'distance',\n",
    "    type=['restaurant']\n",
    ")"
   ]
  },
  {
   "cell_type": "code",
   "execution_count": 9,
   "metadata": {
    "collapsed": false
   },
   "outputs": [
    {
     "name": "stdout",
     "output_type": "stream",
     "text": [
      "sweetgreen\n",
      "Epic Smokehouse\n",
      "Extreme Pizza\n",
      "California Pizza Kitchen at Pentagon Center\n",
      "Chevys Fresh Mex\n",
      "Skydome Restaurant\n",
      "Matchbox\n",
      "Shake Shack\n",
      "Auntie Anne's\n",
      "Fyve Restaurant Lounge\n",
      "Panda Express\n",
      "Chipotle Mexican Grill\n",
      "SUBWAY®Restaurants\n",
      "Popeyes Louisiana Kitchen\n",
      "Champps\n",
      "Sine Irish Pub & Restaurant Arlington\n",
      "Lebanese Taverna\n",
      "Nando's PERi-PERi Chicken\n",
      "Bonefish Grill\n",
      "Morton's The Steakhouse\n"
     ]
    }
   ],
   "source": [
    "for place in result.places:\n",
    "    print(place.name)"
   ]
  },
  {
   "cell_type": "code",
   "execution_count": 10,
   "metadata": {
    "collapsed": false
   },
   "outputs": [
    {
     "data": {
      "text/plain": [
       "True"
      ]
     },
     "execution_count": 10,
     "metadata": {},
     "output_type": "execute_result"
    }
   ],
   "source": [
    "result.has_next_page_token"
   ]
  },
  {
   "cell_type": "code",
   "execution_count": 11,
   "metadata": {
    "collapsed": false
   },
   "outputs": [],
   "source": [
    "result_next_page = google_places.nearby_search(pagetoken=result.next_page_token,lat_lng = {'lat':lat,'lng':long},)"
   ]
  },
  {
   "cell_type": "code",
   "execution_count": 12,
   "metadata": {
    "collapsed": false
   },
   "outputs": [
    {
     "name": "stdout",
     "output_type": "stream",
     "text": [
      "Sugar Factory\n",
      "pentagon city\n",
      "BELL20 Restaurant\n",
      "McCormick & Schmick's Seafood & Steaks\n",
      "SUBWAY®Restaurants\n",
      "Au Bon Pain\n",
      "The Athena Pallas Restaurant\n",
      "We, The Pizza\n",
      "SUBWAY®Restaurants\n",
      "SUBWAY®Restaurants\n",
      "Top Thai Restaurant\n",
      "Neramitra Thai Cuisine\n",
      "Panda Express\n",
      "Crystal City Restaurant\n",
      "Legal Sea Foods\n",
      "Jaleo\n",
      "Bar Louie\n",
      "SUBWAY®Restaurants\n",
      "Kapnos Taverna\n",
      "Legal Sea Foods\n"
     ]
    }
   ],
   "source": [
    "for place in result_next_page.places:\n",
    "    print(place.name)"
   ]
  },
  {
   "cell_type": "code",
   "execution_count": null,
   "metadata": {
    "collapsed": true
   },
   "outputs": [],
   "source": []
  }
 ],
 "metadata": {
  "kernelspec": {
   "display_name": "Python 3",
   "language": "python",
   "name": "python3"
  },
  "language_info": {
   "codemirror_mode": {
    "name": "ipython",
    "version": 3
   },
   "file_extension": ".py",
   "mimetype": "text/x-python",
   "name": "python",
   "nbconvert_exporter": "python",
   "pygments_lexer": "ipython3",
   "version": "3.6.0"
  }
 },
 "nbformat": 4,
 "nbformat_minor": 2
}
