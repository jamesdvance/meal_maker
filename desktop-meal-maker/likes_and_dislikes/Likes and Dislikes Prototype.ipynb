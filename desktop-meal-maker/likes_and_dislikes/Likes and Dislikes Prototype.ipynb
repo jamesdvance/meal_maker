{
 "cells": [
  {
   "cell_type": "markdown",
   "metadata": {},
   "source": [
    "### Likes and Dislikes in Notebook Form"
   ]
  },
  {
   "cell_type": "markdown",
   "metadata": {},
   "source": [
    "Goal is to build an interface that makes it easiest to tell the system foods and food groups or raw ingredients that one likes or dislikes. "
   ]
  },
  {
   "cell_type": "markdown",
   "metadata": {},
   "source": [
    "Eventually need to build a smart way to ask likes and dislikes - with highly relevant food items that relate or appear in many other items (like raw ingredients). A graph database might be one way to accomplish this. Tags in common could be the edges of the graph database"
   ]
  },
  {
   "cell_type": "code",
   "execution_count": 1,
   "metadata": {
    "collapsed": true
   },
   "outputs": [],
   "source": [
    "import pandas as pd\n",
    "import numpy as np"
   ]
  },
  {
   "cell_type": "code",
   "execution_count": 2,
   "metadata": {
    "collapsed": false
   },
   "outputs": [
    {
     "name": "stderr",
     "output_type": "stream",
     "text": [
      "C:\\ProgramData\\Anaconda3\\lib\\site-packages\\IPython\\core\\interactiveshell.py:2717: DtypeWarning: Columns (0,5) have mixed types. Specify dtype option on import or set low_memory=False.\n",
      "  interactivity=interactivity, compiler=compiler, result=result)\n"
     ]
    }
   ],
   "source": [
    "food_df = pd.read_csv(\"C:/Users/J/Desktop/Businesses/Meal_Maker/Scraped_Data/combined_nutrition_small/nutrition_sm_2018_3_15_processed_comma.csv\", encoding = 'ISO-8859-1')"
   ]
  },
  {
   "cell_type": "markdown",
   "metadata": {},
   "source": [
    "Practically, the best way to accomplish all of this might be with some leading questions first: \n",
    "'Tell me what foods or raw ingredients you don't like?'\n",
    "And to make brands relevant: 'Where are you going to be located this week?'\n",
    "zipcodes to then run the good function and only ask for brands nearbye"
   ]
  },
  {
   "cell_type": "markdown",
   "metadata": {},
   "source": [
    "Asking dislikes:"
   ]
  },
  {
   "cell_type": "code",
   "execution_count": 3,
   "metadata": {
    "collapsed": false
   },
   "outputs": [
    {
     "name": "stdout",
     "output_type": "stream",
     "text": [
      "What foods don't you like? (please seperate with commas)Tomatoes, lentils\n"
     ]
    }
   ],
   "source": [
    "dislikes = input(\"What foods don't you like? (please seperate with commas)\")"
   ]
  },
  {
   "cell_type": "code",
   "execution_count": 4,
   "metadata": {
    "collapsed": false
   },
   "outputs": [
    {
     "data": {
      "text/plain": [
       "'Tomatoes, lentils'"
      ]
     },
     "execution_count": 4,
     "metadata": {},
     "output_type": "execute_result"
    }
   ],
   "source": [
    "dislikes"
   ]
  },
  {
   "cell_type": "markdown",
   "metadata": {
    "collapsed": true
   },
   "source": [
    "Asking where you will be:"
   ]
  },
  {
   "cell_type": "code",
   "execution_count": 6,
   "metadata": {
    "collapsed": false
   },
   "outputs": [
    {
     "name": "stdout",
     "output_type": "stream",
     "text": [
      "Where will you be located this week? (please seperate multiple zipcodes with commas)22202\n"
     ]
    }
   ],
   "source": [
    "restaurant_zipcodes = input(\"Where will you be located this week? (please seperate multiple zipcodes with commas)\")"
   ]
  },
  {
   "cell_type": "markdown",
   "metadata": {},
   "source": [
    "Zipcode Restaurant Finder Function:"
   ]
  },
  {
   "cell_type": "code",
   "execution_count": null,
   "metadata": {
    "collapsed": true
   },
   "outputs": [],
   "source": [
    "Running through foods to get a like/dislike index"
   ]
  },
  {
   "cell_type": "markdown",
   "metadata": {},
   "source": [
    "The relatedness of all foods to the like/dislike score could give a >/< .5 score of 'like' rating (interpretted as the likelihood of the customer likeing ths food item). This likelihood could be the optimization number to maximize for the final recommendation"
   ]
  },
  {
   "cell_type": "code",
   "execution_count": 5,
   "metadata": {
    "collapsed": false
   },
   "outputs": [],
   "source": [
    "fd_descriptions = food_df.food_description.unique()\n",
    "brands = food_df.brand.unique()"
   ]
  },
  {
   "cell_type": "code",
   "execution_count": 24,
   "metadata": {
    "collapsed": false
   },
   "outputs": [
    {
     "name": "stdout",
     "output_type": "stream",
     "text": [
      "Do you like the brand: 5 & Diner?\n",
      "None0\n",
      "0\n",
      "Do you like the brand: Baja Sol?\n",
      "None0\n",
      "0\n",
      "Do you like the brand: Bali Spice?\n",
      "None0\n",
      "0\n",
      "Do you like the brand: Applebee's?\n",
      "None0\n",
      "0\n",
      "Do you like the brand: Black-Eyed Pea?\n",
      "None0\n",
      "0\n",
      "Do you like the brand: 54th Street Grill & Bar?\n",
      "None0\n",
      "0\n",
      "Do you like the brand: 7-Eleven?\n",
      "None0\n",
      "0\n",
      "Do you like the brand: 7-Up?\n",
      "None0\n",
      "0\n",
      "Do you like the brand: 8Blend?\n",
      "None0\n",
      "0\n",
      "Do you like the brand: A Taste of China?\n",
      "None0\n",
      "0\n"
     ]
    }
   ],
   "source": [
    "user_likes_df = pd.DataFrame(columns=['item_type', 'item', 'user', 'response'])\n",
    "for i in range(10):\n",
    "    resp = input(print(\"Do you like the brand: \"+brands[i]+\"?\"))\n",
    "    print(resp)\n",
    "    '''\n",
    "    if resp in (1,0):\n",
    "        response = resp\n",
    "    else:\n",
    "        response = np.nan\n",
    "    '''\n",
    "    row = pd.DataFrame([{'item_type':'brand', 'item':brands[i], 'user':'J', 'response':resp}])\n",
    "    user_likes_df = user_likes_df.append([row])"
   ]
  },
  {
   "cell_type": "code",
   "execution_count": 25,
   "metadata": {
    "collapsed": false
   },
   "outputs": [
    {
     "data": {
      "text/html": [
       "<div>\n",
       "<table border=\"1\" class=\"dataframe\">\n",
       "  <thead>\n",
       "    <tr style=\"text-align: right;\">\n",
       "      <th></th>\n",
       "      <th>item</th>\n",
       "      <th>item_type</th>\n",
       "      <th>response</th>\n",
       "      <th>user</th>\n",
       "    </tr>\n",
       "  </thead>\n",
       "  <tbody>\n",
       "    <tr>\n",
       "      <th>0</th>\n",
       "      <td>5 &amp; Diner</td>\n",
       "      <td>brand</td>\n",
       "      <td>0</td>\n",
       "      <td>J</td>\n",
       "    </tr>\n",
       "    <tr>\n",
       "      <th>0</th>\n",
       "      <td>Baja Sol</td>\n",
       "      <td>brand</td>\n",
       "      <td>0</td>\n",
       "      <td>J</td>\n",
       "    </tr>\n",
       "    <tr>\n",
       "      <th>0</th>\n",
       "      <td>Bali Spice</td>\n",
       "      <td>brand</td>\n",
       "      <td>0</td>\n",
       "      <td>J</td>\n",
       "    </tr>\n",
       "    <tr>\n",
       "      <th>0</th>\n",
       "      <td>Applebee's</td>\n",
       "      <td>brand</td>\n",
       "      <td>0</td>\n",
       "      <td>J</td>\n",
       "    </tr>\n",
       "    <tr>\n",
       "      <th>0</th>\n",
       "      <td>Black-Eyed Pea</td>\n",
       "      <td>brand</td>\n",
       "      <td>0</td>\n",
       "      <td>J</td>\n",
       "    </tr>\n",
       "    <tr>\n",
       "      <th>0</th>\n",
       "      <td>54th Street Grill &amp; Bar</td>\n",
       "      <td>brand</td>\n",
       "      <td>0</td>\n",
       "      <td>J</td>\n",
       "    </tr>\n",
       "    <tr>\n",
       "      <th>0</th>\n",
       "      <td>7-Eleven</td>\n",
       "      <td>brand</td>\n",
       "      <td>0</td>\n",
       "      <td>J</td>\n",
       "    </tr>\n",
       "    <tr>\n",
       "      <th>0</th>\n",
       "      <td>7-Up</td>\n",
       "      <td>brand</td>\n",
       "      <td>0</td>\n",
       "      <td>J</td>\n",
       "    </tr>\n",
       "    <tr>\n",
       "      <th>0</th>\n",
       "      <td>8Blend</td>\n",
       "      <td>brand</td>\n",
       "      <td>0</td>\n",
       "      <td>J</td>\n",
       "    </tr>\n",
       "    <tr>\n",
       "      <th>0</th>\n",
       "      <td>A Taste of China</td>\n",
       "      <td>brand</td>\n",
       "      <td>0</td>\n",
       "      <td>J</td>\n",
       "    </tr>\n",
       "  </tbody>\n",
       "</table>\n",
       "</div>"
      ],
      "text/plain": [
       "                      item item_type response user\n",
       "0                5 & Diner     brand        0    J\n",
       "0                 Baja Sol     brand        0    J\n",
       "0               Bali Spice     brand        0    J\n",
       "0               Applebee's     brand        0    J\n",
       "0           Black-Eyed Pea     brand        0    J\n",
       "0  54th Street Grill & Bar     brand        0    J\n",
       "0                 7-Eleven     brand        0    J\n",
       "0                     7-Up     brand        0    J\n",
       "0                   8Blend     brand        0    J\n",
       "0         A Taste of China     brand        0    J"
      ]
     },
     "execution_count": 25,
     "metadata": {},
     "output_type": "execute_result"
    }
   ],
   "source": [
    "user_likes_df"
   ]
  }
 ],
 "metadata": {
  "kernelspec": {
   "display_name": "Python 3",
   "language": "python",
   "name": "python3"
  },
  "language_info": {
   "codemirror_mode": {
    "name": "ipython",
    "version": 3
   },
   "file_extension": ".py",
   "mimetype": "text/x-python",
   "name": "python",
   "nbconvert_exporter": "python",
   "pygments_lexer": "ipython3",
   "version": "3.6.0"
  }
 },
 "nbformat": 4,
 "nbformat_minor": 2
}
