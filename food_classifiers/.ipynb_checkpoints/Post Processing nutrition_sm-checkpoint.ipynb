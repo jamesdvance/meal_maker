{
 "cells": [
  {
   "cell_type": "code",
   "execution_count": 2,
   "metadata": {
    "collapsed": true
   },
   "outputs": [],
   "source": [
    "import pandas as pd\n",
    "import numpy as np"
   ]
  },
  {
   "cell_type": "code",
   "execution_count": 29,
   "metadata": {
    "collapsed": false
   },
   "outputs": [
    {
     "name": "stderr",
     "output_type": "stream",
     "text": [
      "C:\\ProgramData\\Anaconda3\\lib\\site-packages\\IPython\\core\\interactiveshell.py:2717: DtypeWarning: Columns (0,5) have mixed types. Specify dtype option on import or set low_memory=False.\n",
      "  interactivity=interactivity, compiler=compiler, result=result)\n"
     ]
    }
   ],
   "source": [
    "df = pd.read_csv('C:/Users/J/Desktop/Businesses/Meal_Maker/Scraped_Data/combined_nutrition_small/nutrition_sm_2018_3_15_processed_comma.csv', delimiter = ',',encoding='ISO-8859-1')"
   ]
  },
  {
   "cell_type": "code",
   "execution_count": 30,
   "metadata": {
    "collapsed": false
   },
   "outputs": [
    {
     "data": {
      "text/plain": [
       "469829"
      ]
     },
     "execution_count": 30,
     "metadata": {},
     "output_type": "execute_result"
    }
   ],
   "source": [
    "len(df)"
   ]
  },
  {
   "cell_type": "code",
   "execution_count": 31,
   "metadata": {
    "collapsed": false
   },
   "outputs": [
    {
     "data": {
      "text/html": [
       "<div>\n",
       "<table border=\"1\" class=\"dataframe\">\n",
       "  <thead>\n",
       "    <tr style=\"text-align: right;\">\n",
       "      <th></th>\n",
       "      <th>food_key</th>\n",
       "      <th>food_description</th>\n",
       "      <th>brand</th>\n",
       "      <th>food_type_grp</th>\n",
       "      <th>source</th>\n",
       "      <th>ingredients_list</th>\n",
       "      <th>serving_size_raw</th>\n",
       "      <th>serving_size_val</th>\n",
       "      <th>serving_size_unit</th>\n",
       "      <th>calories</th>\n",
       "      <th>...</th>\n",
       "      <th>saturated_fat_g</th>\n",
       "      <th>carb_g</th>\n",
       "      <th>fiber_g</th>\n",
       "      <th>sugar_g</th>\n",
       "      <th>sodium_mg</th>\n",
       "      <th>cholesterol_mg</th>\n",
       "      <th>calcium_mg</th>\n",
       "      <th>iron_mg</th>\n",
       "      <th>vit_a_mcg</th>\n",
       "      <th>vit_c_mg</th>\n",
       "    </tr>\n",
       "  </thead>\n",
       "  <tbody>\n",
       "    <tr>\n",
       "      <th>0</th>\n",
       "      <td>234617</td>\n",
       "      <td>Egg Cream, Chocolate flavored</td>\n",
       "      <td>5 &amp; Diner</td>\n",
       "      <td>restaurant</td>\n",
       "      <td>diet_facts_restaurants</td>\n",
       "      <td>NaN</td>\n",
       "      <td>1 egg cream</td>\n",
       "      <td>NaN</td>\n",
       "      <td>NaN</td>\n",
       "      <td>211.0</td>\n",
       "      <td>...</td>\n",
       "      <td>1.50</td>\n",
       "      <td>42.87</td>\n",
       "      <td>0.00</td>\n",
       "      <td>6.50</td>\n",
       "      <td>191.41</td>\n",
       "      <td>12.50</td>\n",
       "      <td>180.0</td>\n",
       "      <td>2.16</td>\n",
       "      <td>250.0</td>\n",
       "      <td>1.2</td>\n",
       "    </tr>\n",
       "    <tr>\n",
       "      <th>1</th>\n",
       "      <td>234618</td>\n",
       "      <td>Egg Cream, Vanilla flavored</td>\n",
       "      <td>5 &amp; Diner</td>\n",
       "      <td>restaurant</td>\n",
       "      <td>diet_facts_restaurants</td>\n",
       "      <td>NaN</td>\n",
       "      <td>1 egg cream</td>\n",
       "      <td>NaN</td>\n",
       "      <td>NaN</td>\n",
       "      <td>205.0</td>\n",
       "      <td>...</td>\n",
       "      <td>1.50</td>\n",
       "      <td>44.50</td>\n",
       "      <td>0.00</td>\n",
       "      <td>44.50</td>\n",
       "      <td>85.00</td>\n",
       "      <td>12.50</td>\n",
       "      <td>180.0</td>\n",
       "      <td>0.00</td>\n",
       "      <td>250.0</td>\n",
       "      <td>1.2</td>\n",
       "    </tr>\n",
       "    <tr>\n",
       "      <th>2</th>\n",
       "      <td>234619</td>\n",
       "      <td>Eggs Benedict</td>\n",
       "      <td>5 &amp; Diner</td>\n",
       "      <td>restaurant</td>\n",
       "      <td>diet_facts_restaurants</td>\n",
       "      <td>two poached eggs on top of sliced ham and an E...</td>\n",
       "      <td>1 order</td>\n",
       "      <td>NaN</td>\n",
       "      <td>NaN</td>\n",
       "      <td>702.0</td>\n",
       "      <td>...</td>\n",
       "      <td>24.12</td>\n",
       "      <td>36.44</td>\n",
       "      <td>1.35</td>\n",
       "      <td>10.01</td>\n",
       "      <td>1864.89</td>\n",
       "      <td>562.57</td>\n",
       "      <td>220.0</td>\n",
       "      <td>4.14</td>\n",
       "      <td>2000.0</td>\n",
       "      <td>21.0</td>\n",
       "    </tr>\n",
       "    <tr>\n",
       "      <th>3</th>\n",
       "      <td>234620</td>\n",
       "      <td>Eggs Maximilian with Chorizo</td>\n",
       "      <td>5 &amp; Diner</td>\n",
       "      <td>restaurant</td>\n",
       "      <td>diet_facts_restaurants</td>\n",
       "      <td>NaN</td>\n",
       "      <td>1 order</td>\n",
       "      <td>NaN</td>\n",
       "      <td>NaN</td>\n",
       "      <td>1353.0</td>\n",
       "      <td>...</td>\n",
       "      <td>27.58</td>\n",
       "      <td>75.24</td>\n",
       "      <td>6.30</td>\n",
       "      <td>6.98</td>\n",
       "      <td>2033.99</td>\n",
       "      <td>751.81</td>\n",
       "      <td>440.0</td>\n",
       "      <td>7.38</td>\n",
       "      <td>4150.0</td>\n",
       "      <td>79.2</td>\n",
       "    </tr>\n",
       "    <tr>\n",
       "      <th>4</th>\n",
       "      <td>234621</td>\n",
       "      <td>Fish and Chips</td>\n",
       "      <td>5 &amp; Diner</td>\n",
       "      <td>restaurant</td>\n",
       "      <td>diet_facts_restaurants</td>\n",
       "      <td>battered cod served with French fries, corn on...</td>\n",
       "      <td>1 order</td>\n",
       "      <td>NaN</td>\n",
       "      <td>NaN</td>\n",
       "      <td>672.0</td>\n",
       "      <td>...</td>\n",
       "      <td>1.09</td>\n",
       "      <td>77.55</td>\n",
       "      <td>1.08</td>\n",
       "      <td>0.94</td>\n",
       "      <td>1904.20</td>\n",
       "      <td>109.72</td>\n",
       "      <td>140.0</td>\n",
       "      <td>4.86</td>\n",
       "      <td>650.0</td>\n",
       "      <td>3.6</td>\n",
       "    </tr>\n",
       "  </tbody>\n",
       "</table>\n",
       "<p>5 rows × 22 columns</p>\n",
       "</div>"
      ],
      "text/plain": [
       "  food_key               food_description      brand food_type_grp  \\\n",
       "0   234617  Egg Cream, Chocolate flavored  5 & Diner    restaurant   \n",
       "1   234618    Egg Cream, Vanilla flavored  5 & Diner    restaurant   \n",
       "2   234619                  Eggs Benedict  5 & Diner    restaurant   \n",
       "3   234620   Eggs Maximilian with Chorizo  5 & Diner    restaurant   \n",
       "4   234621                 Fish and Chips  5 & Diner    restaurant   \n",
       "\n",
       "                   source                                   ingredients_list  \\\n",
       "0  diet_facts_restaurants                                                NaN   \n",
       "1  diet_facts_restaurants                                                NaN   \n",
       "2  diet_facts_restaurants  two poached eggs on top of sliced ham and an E...   \n",
       "3  diet_facts_restaurants                                                NaN   \n",
       "4  diet_facts_restaurants  battered cod served with French fries, corn on...   \n",
       "\n",
       "  serving_size_raw  serving_size_val  serving_size_unit  calories    ...     \\\n",
       "0      1 egg cream               NaN                NaN     211.0    ...      \n",
       "1      1 egg cream               NaN                NaN     205.0    ...      \n",
       "2          1 order               NaN                NaN     702.0    ...      \n",
       "3          1 order               NaN                NaN    1353.0    ...      \n",
       "4          1 order               NaN                NaN     672.0    ...      \n",
       "\n",
       "   saturated_fat_g  carb_g  fiber_g  sugar_g  sodium_mg  cholesterol_mg  \\\n",
       "0             1.50   42.87     0.00     6.50     191.41           12.50   \n",
       "1             1.50   44.50     0.00    44.50      85.00           12.50   \n",
       "2            24.12   36.44     1.35    10.01    1864.89          562.57   \n",
       "3            27.58   75.24     6.30     6.98    2033.99          751.81   \n",
       "4             1.09   77.55     1.08     0.94    1904.20          109.72   \n",
       "\n",
       "   calcium_mg  iron_mg  vit_a_mcg  vit_c_mg  \n",
       "0       180.0     2.16      250.0       1.2  \n",
       "1       180.0     0.00      250.0       1.2  \n",
       "2       220.0     4.14     2000.0      21.0  \n",
       "3       440.0     7.38     4150.0      79.2  \n",
       "4       140.0     4.86      650.0       3.6  \n",
       "\n",
       "[5 rows x 22 columns]"
      ]
     },
     "execution_count": 31,
     "metadata": {},
     "output_type": "execute_result"
    }
   ],
   "source": [
    "df.head()"
   ]
  },
  {
   "cell_type": "code",
   "execution_count": 33,
   "metadata": {
    "collapsed": false
   },
   "outputs": [
    {
     "name": "stdout",
     "output_type": "stream",
     "text": [
      "food_key type object\n",
      "food_description type object\n",
      "brand type object\n",
      "food_type_grp type object\n",
      "source type object\n",
      "ingredients_list type object\n",
      "serving_size_raw type object\n",
      "serving_size_val type float64\n",
      "serving_size_unit type float64\n",
      "calories type float64\n",
      "protein_g type float64\n",
      "fat_g type float64\n",
      "saturated_fat_g type float64\n",
      "carb_g type float64\n",
      "fiber_g type float64\n",
      "sugar_g type float64\n",
      "sodium_mg type float64\n",
      "cholesterol_mg type float64\n",
      "calcium_mg type float64\n",
      "iron_mg type float64\n",
      "vit_a_mcg type float64\n",
      "vit_c_mg type float64\n"
     ]
    }
   ],
   "source": [
    "for i in range(len(df.columns)):\n",
    "    print(df.columns.values[i]+' type '+ str(df.iloc[:,i].dtype))"
   ]
  },
  {
   "cell_type": "markdown",
   "metadata": {},
   "source": [
    "This looks good"
   ]
  }
 ],
 "metadata": {
  "kernelspec": {
   "display_name": "Python 3",
   "language": "python",
   "name": "python3"
  },
  "language_info": {
   "codemirror_mode": {
    "name": "ipython",
    "version": 3
   },
   "file_extension": ".py",
   "mimetype": "text/x-python",
   "name": "python",
   "nbconvert_exporter": "python",
   "pygments_lexer": "ipython3",
   "version": "3.6.0"
  }
 },
 "nbformat": 4,
 "nbformat_minor": 2
}
