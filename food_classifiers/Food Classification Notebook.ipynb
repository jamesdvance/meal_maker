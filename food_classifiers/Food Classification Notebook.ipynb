{
 "cells": [
  {
   "cell_type": "markdown",
   "metadata": {},
   "source": [
    "# Unsupervised Deep Learning For Food Group Tags"
   ]
  },
  {
   "cell_type": "markdown",
   "metadata": {},
   "source": [
    "### Purpose\n",
    "The point of this notebook is to get a list of words highly associated with each food description. The associated words can be used to pre-populate 'tags' users might add to foods in the meal recommender system. Vector space modeling is the leading model to be used. "
   ]
  },
  {
   "cell_type": "markdown",
   "metadata": {},
   "source": [
    "### Part 1. Cleaning Dataset"
   ]
  },
  {
   "cell_type": "code",
   "execution_count": 1,
   "metadata": {
    "collapsed": false
   },
   "outputs": [],
   "source": [
    "import pandas as pd\n",
    "import numpy as np"
   ]
  },
  {
   "cell_type": "code",
   "execution_count": 2,
   "metadata": {
    "collapsed": false
   },
   "outputs": [
    {
     "name": "stderr",
     "output_type": "stream",
     "text": [
      "C:\\ProgramData\\Anaconda3\\lib\\site-packages\\IPython\\core\\interactiveshell.py:2717: DtypeWarning: Columns (0,5) have mixed types. Specify dtype option on import or set low_memory=False.\n",
      "  interactivity=interactivity, compiler=compiler, result=result)\n"
     ]
    }
   ],
   "source": [
    "# Can replace this with an S3 reference\n",
    "df = pd.read_csv('C:/Users/J/Desktop/Businesses/Meal_Maker/Scraped_Data/combined_nutrition_small/nutrition_sm_2018_3_15_processed_comma.csv', delimiter = ',',encoding='ISO-8859-1')"
   ]
  },
  {
   "cell_type": "markdown",
   "metadata": {},
   "source": [
    "Throughout this analysis, the format of food descriptions will all depend on the source of the data. Printing the unique values of the source column below will be a useful reference. "
   ]
  },
  {
   "cell_type": "code",
   "execution_count": 6,
   "metadata": {
    "collapsed": false
   },
   "outputs": [
    {
     "data": {
      "text/plain": [
       "array(['diet_facts_restaurants', 'diet_facts_brands', '700', 'fat_secret',\n",
       "       'usda_raw_ingred', 'fat_secret_all_search', 'fat_secret_recipes',\n",
       "       'usda_branded'], dtype=object)"
      ]
     },
     "execution_count": 6,
     "metadata": {},
     "output_type": "execute_result"
    }
   ],
   "source": [
    "df.source.unique()"
   ]
  },
  {
   "cell_type": "code",
   "execution_count": 3,
   "metadata": {
    "collapsed": false
   },
   "outputs": [],
   "source": [
    "df = df[df.source!='700']"
   ]
  },
  {
   "cell_type": "markdown",
   "metadata": {},
   "source": [
    "Depending on its source, the format of food descriptions will follow some specific patterns. Before getting into Word2Vec, want to normalize the food description column to only include a description of the food. "
   ]
  },
  {
   "cell_type": "markdown",
   "metadata": {},
   "source": [
    "### USDA Branded Products "
   ]
  },
  {
   "cell_type": "code",
   "execution_count": 6,
   "metadata": {
    "collapsed": false
   },
   "outputs": [
    {
     "data": {
      "text/plain": [
       "235133                         AARDVARK HABENERO HOT SAUCE,\n",
       "235134            AARON'S BEST, OVEN ROASTED TURKEY BREAST,\n",
       "235135    A&B AMERICAN STYLE, MORE HEAT SMALL BATCH PEPP...\n",
       "235136            A&B AMERICAN STYLE, ORGANIC PEPPER SAUCE,\n",
       "235137            A&B AMERICAN STYLE, PEPPER SAUCE, GARLIC,\n",
       "Name: food_description, dtype: object"
      ]
     },
     "execution_count": 6,
     "metadata": {},
     "output_type": "execute_result"
    }
   ],
   "source": [
    "df.food_description[df.source=='usda_branded'][0:5]"
   ]
  },
  {
   "cell_type": "markdown",
   "metadata": {},
   "source": [
    "These descriptions often contain the brand of the item, which is going to be less relevant to the meaning wanted out of the word vector exercise"
   ]
  },
  {
   "cell_type": "code",
   "execution_count": 7,
   "metadata": {
    "collapsed": false
   },
   "outputs": [
    {
     "data": {
      "text/html": [
       "<div>\n",
       "<table border=\"1\" class=\"dataframe\">\n",
       "  <thead>\n",
       "    <tr style=\"text-align: right;\">\n",
       "      <th></th>\n",
       "      <th>food_description</th>\n",
       "      <th>brand</th>\n",
       "    </tr>\n",
       "  </thead>\n",
       "  <tbody>\n",
       "    <tr>\n",
       "      <th>235133</th>\n",
       "      <td>AARDVARK HABENERO HOT SAUCE,</td>\n",
       "      <td>Secret Aardvark Trading Company</td>\n",
       "    </tr>\n",
       "    <tr>\n",
       "      <th>235134</th>\n",
       "      <td>AARON'S BEST, OVEN ROASTED TURKEY BREAST,</td>\n",
       "      <td>Agri Star Meat &amp; Poultry LLC</td>\n",
       "    </tr>\n",
       "    <tr>\n",
       "      <th>235135</th>\n",
       "      <td>A&amp;B AMERICAN STYLE, MORE HEAT SMALL BATCH PEPP...</td>\n",
       "      <td>A &amp; B AMERICAN STYLE LLC</td>\n",
       "    </tr>\n",
       "    <tr>\n",
       "      <th>235136</th>\n",
       "      <td>A&amp;B AMERICAN STYLE, ORGANIC PEPPER SAUCE,</td>\n",
       "      <td>A &amp; B AMERICAN STYLE LLC</td>\n",
       "    </tr>\n",
       "    <tr>\n",
       "      <th>235137</th>\n",
       "      <td>A&amp;B AMERICAN STYLE, PEPPER SAUCE, GARLIC,</td>\n",
       "      <td>Namaste Foods</td>\n",
       "    </tr>\n",
       "    <tr>\n",
       "      <th>235138</th>\n",
       "      <td>A&amp;B AMERICAN STYLE, SMALL BATCH PEPPER SAUCE, ...</td>\n",
       "      <td>A &amp; B AMERICAN STYLE LLC</td>\n",
       "    </tr>\n",
       "    <tr>\n",
       "      <th>235139</th>\n",
       "      <td>A. BAUER'S, PREPARED MUSTARD,</td>\n",
       "      <td>August Bauer's Sons Inc.</td>\n",
       "    </tr>\n",
       "    <tr>\n",
       "      <th>235140</th>\n",
       "      <td>ABBA-ZABA, SNACK SIZE BITES CANDY,</td>\n",
       "      <td>Annabelle Candy Co., Inc.</td>\n",
       "    </tr>\n",
       "    <tr>\n",
       "      <th>235141</th>\n",
       "      <td>ABBA-ZABA'S, TAFFY, WILD STRAWBERRY, SOUR,</td>\n",
       "      <td>Annabelle Candy Co., Inc.</td>\n",
       "    </tr>\n",
       "    <tr>\n",
       "      <th>235142</th>\n",
       "      <td>ABBEY FARM, RHUBARB &amp; GINGER PRESERVE,</td>\n",
       "      <td>Bewley Irish Imports</td>\n",
       "    </tr>\n",
       "    <tr>\n",
       "      <th>235143</th>\n",
       "      <td>ABBOTSFORD FARMS, CAGE FREE 100% LIQUID EGG WH...</td>\n",
       "      <td>Milton G. Waldbaum Company</td>\n",
       "    </tr>\n",
       "    <tr>\n",
       "      <th>235144</th>\n",
       "      <td>ABBOTT, EAS, ADVANTEDGE CARB CONTROL SHAKES, C...</td>\n",
       "      <td>Ross Products Division</td>\n",
       "    </tr>\n",
       "    <tr>\n",
       "      <th>235145</th>\n",
       "      <td>ABBOTT, EAS, ADVANTEDGE CARB CONTROL SHAKES, C...</td>\n",
       "      <td>Ross Products Division</td>\n",
       "    </tr>\n",
       "    <tr>\n",
       "      <th>235146</th>\n",
       "      <td>ABBOTT, EAS, ADVANT EDGE PURE MILK PROTEIN SHA...</td>\n",
       "      <td>Ross Products Division</td>\n",
       "    </tr>\n",
       "    <tr>\n",
       "      <th>235147</th>\n",
       "      <td>ABC, JELLY SNACK, TARO,</td>\n",
       "      <td>TSANG LIN INDUSTRIES CORPORATION.</td>\n",
       "    </tr>\n",
       "  </tbody>\n",
       "</table>\n",
       "</div>"
      ],
      "text/plain": [
       "                                         food_description  \\\n",
       "235133                       AARDVARK HABENERO HOT SAUCE,   \n",
       "235134          AARON'S BEST, OVEN ROASTED TURKEY BREAST,   \n",
       "235135  A&B AMERICAN STYLE, MORE HEAT SMALL BATCH PEPP...   \n",
       "235136          A&B AMERICAN STYLE, ORGANIC PEPPER SAUCE,   \n",
       "235137          A&B AMERICAN STYLE, PEPPER SAUCE, GARLIC,   \n",
       "235138  A&B AMERICAN STYLE, SMALL BATCH PEPPER SAUCE, ...   \n",
       "235139                      A. BAUER'S, PREPARED MUSTARD,   \n",
       "235140                 ABBA-ZABA, SNACK SIZE BITES CANDY,   \n",
       "235141         ABBA-ZABA'S, TAFFY, WILD STRAWBERRY, SOUR,   \n",
       "235142             ABBEY FARM, RHUBARB & GINGER PRESERVE,   \n",
       "235143  ABBOTSFORD FARMS, CAGE FREE 100% LIQUID EGG WH...   \n",
       "235144  ABBOTT, EAS, ADVANTEDGE CARB CONTROL SHAKES, C...   \n",
       "235145  ABBOTT, EAS, ADVANTEDGE CARB CONTROL SHAKES, C...   \n",
       "235146  ABBOTT, EAS, ADVANT EDGE PURE MILK PROTEIN SHA...   \n",
       "235147                            ABC, JELLY SNACK, TARO,   \n",
       "\n",
       "                                    brand  \n",
       "235133    Secret Aardvark Trading Company  \n",
       "235134       Agri Star Meat & Poultry LLC  \n",
       "235135           A & B AMERICAN STYLE LLC  \n",
       "235136           A & B AMERICAN STYLE LLC  \n",
       "235137                      Namaste Foods  \n",
       "235138           A & B AMERICAN STYLE LLC  \n",
       "235139           August Bauer's Sons Inc.  \n",
       "235140          Annabelle Candy Co., Inc.  \n",
       "235141          Annabelle Candy Co., Inc.  \n",
       "235142               Bewley Irish Imports  \n",
       "235143         Milton G. Waldbaum Company  \n",
       "235144             Ross Products Division  \n",
       "235145             Ross Products Division  \n",
       "235146             Ross Products Division  \n",
       "235147  TSANG LIN INDUSTRIES CORPORATION.  "
      ]
     },
     "execution_count": 7,
     "metadata": {},
     "output_type": "execute_result"
    }
   ],
   "source": [
    "df[['food_description', 'brand']][df.source=='usda_branded'][0:15]"
   ]
  },
  {
   "cell_type": "markdown",
   "metadata": {},
   "source": [
    "Unhelpful! Some brands are nicely embedded in the food description, seperated by a comma. Others contain only a part of the brand name in the product description (such as Secret Aardvark Trading Company's Aardvark Habenero Hot Sauce). But a fuzzy match on the brand name within a food description would likely also strip away helpful words like 'Candy' or 'Beverage'. \n",
    "\n",
    "So ultimately it doesn't look like there are helpful transformations for this subset"
   ]
  },
  {
   "cell_type": "markdown",
   "metadata": {},
   "source": [
    "## Part 2: Vector Space Modeling"
   ]
  },
  {
   "cell_type": "code",
   "execution_count": 8,
   "metadata": {
    "collapsed": false
   },
   "outputs": [
    {
     "name": "stderr",
     "output_type": "stream",
     "text": [
      "C:\\ProgramData\\Anaconda3\\lib\\site-packages\\gensim\\utils.py:1197: UserWarning: detected Windows; aliasing chunkize to chunkize_serial\n",
      "  warnings.warn(\"detected Windows; aliasing chunkize to chunkize_serial\")\n"
     ]
    }
   ],
   "source": [
    "import gensim"
   ]
  },
  {
   "cell_type": "markdown",
   "metadata": {},
   "source": [
    "Creating an baseline Word2Vec model with no negative sampling"
   ]
  },
  {
   "cell_type": "code",
   "execution_count": 12,
   "metadata": {
    "collapsed": true
   },
   "outputs": [],
   "source": [
    "text_8_path = 'C:/Users/J/Desktop/Businesses/Meal_Maker/Food Classifications/text8/text8'"
   ]
  },
  {
   "cell_type": "code",
   "execution_count": 13,
   "metadata": {
    "collapsed": true
   },
   "outputs": [],
   "source": [
    "text_8 = gensim.models.word2vec.Text8Corpus(text_8_path)"
   ]
  },
  {
   "cell_type": "code",
   "execution_count": 14,
   "metadata": {
    "collapsed": false
   },
   "outputs": [],
   "source": [
    "food_names = gensim.models.Word2Vec(text_8)"
   ]
  },
  {
   "cell_type": "code",
   "execution_count": 15,
   "metadata": {
    "collapsed": false
   },
   "outputs": [
    {
     "name": "stderr",
     "output_type": "stream",
     "text": [
      "C:\\ProgramData\\Anaconda3\\lib\\site-packages\\ipykernel\\__main__.py:1: DeprecationWarning: Call to deprecated `most_similar` (Method will be removed in 4.0.0, use self.wv.most_similar() instead).\n",
      "  if __name__ == '__main__':\n"
     ]
    },
    {
     "data": {
      "text/plain": [
       "[('seeds', 0.8733841180801392),\n",
       " ('flowers', 0.8649996519088745),\n",
       " ('goats', 0.8307944536209106),\n",
       " ('beans', 0.8189063668251038),\n",
       " ('fruit', 0.818173885345459),\n",
       " ('vegetables', 0.8105072379112244),\n",
       " ('larvae', 0.8049867749214172),\n",
       " ('fruits', 0.8022655248641968),\n",
       " ('bees', 0.7894999980926514),\n",
       " ('skins', 0.7847944498062134)]"
      ]
     },
     "execution_count": 15,
     "metadata": {},
     "output_type": "execute_result"
    }
   ],
   "source": [
    "food_names.most_similar('eggs')"
   ]
  },
  {
   "cell_type": "code",
   "execution_count": 16,
   "metadata": {
    "collapsed": false
   },
   "outputs": [
    {
     "name": "stderr",
     "output_type": "stream",
     "text": [
      "C:\\ProgramData\\Anaconda3\\lib\\site-packages\\ipykernel\\__main__.py:1: DeprecationWarning: Call to deprecated `most_similar` (Method will be removed in 4.0.0, use self.wv.most_similar() instead).\n",
      "  if __name__ == '__main__':\n"
     ]
    },
    {
     "data": {
      "text/plain": [
       "[('macintosh', 0.7894327640533447),\n",
       " ('amiga', 0.7420880794525146),\n",
       " ('intel', 0.7306458353996277),\n",
       " ('ibm', 0.7269545793533325),\n",
       " ('amd', 0.690711259841919),\n",
       " ('atari', 0.6872498989105225),\n",
       " ('pc', 0.679271936416626),\n",
       " ('nintendo', 0.674188494682312),\n",
       " ('hypercard', 0.6720134615898132),\n",
       " ('microsoft', 0.6710932850837708)]"
      ]
     },
     "execution_count": 16,
     "metadata": {},
     "output_type": "execute_result"
    }
   ],
   "source": [
    "food_names.most_similar('apple')"
   ]
  },
  {
   "cell_type": "code",
   "execution_count": 17,
   "metadata": {
    "collapsed": false
   },
   "outputs": [
    {
     "name": "stderr",
     "output_type": "stream",
     "text": [
      "C:\\ProgramData\\Anaconda3\\lib\\site-packages\\ipykernel\\__main__.py:1: DeprecationWarning: Call to deprecated `most_similar` (Method will be removed in 4.0.0, use self.wv.most_similar() instead).\n",
      "  if __name__ == '__main__':\n"
     ]
    },
    {
     "ename": "KeyError",
     "evalue": "\"word 'apple pie' not in vocabulary\"",
     "output_type": "error",
     "traceback": [
      "\u001b[0;31m---------------------------------------------------------------------------\u001b[0m",
      "\u001b[0;31mKeyError\u001b[0m                                  Traceback (most recent call last)",
      "\u001b[0;32m<ipython-input-17-8cbba27b30b4>\u001b[0m in \u001b[0;36m<module>\u001b[0;34m()\u001b[0m\n\u001b[0;32m----> 1\u001b[0;31m \u001b[0mfood_names\u001b[0m\u001b[1;33m.\u001b[0m\u001b[0mmost_similar\u001b[0m\u001b[1;33m(\u001b[0m\u001b[1;34m'apple pie'\u001b[0m\u001b[1;33m)\u001b[0m\u001b[1;33m\u001b[0m\u001b[0m\n\u001b[0m",
      "\u001b[0;32mC:\\ProgramData\\Anaconda3\\lib\\site-packages\\gensim\\utils.py\u001b[0m in \u001b[0;36mnew_func1\u001b[0;34m(*args, **kwargs)\u001b[0m\n\u001b[1;32m   1396\u001b[0m                     \u001b[0mstacklevel\u001b[0m\u001b[1;33m=\u001b[0m\u001b[1;36m2\u001b[0m\u001b[1;33m\u001b[0m\u001b[0m\n\u001b[1;32m   1397\u001b[0m                 )\n\u001b[0;32m-> 1398\u001b[0;31m                 \u001b[1;32mreturn\u001b[0m \u001b[0mfunc\u001b[0m\u001b[1;33m(\u001b[0m\u001b[1;33m*\u001b[0m\u001b[0margs\u001b[0m\u001b[1;33m,\u001b[0m \u001b[1;33m**\u001b[0m\u001b[0mkwargs\u001b[0m\u001b[1;33m)\u001b[0m\u001b[1;33m\u001b[0m\u001b[0m\n\u001b[0m\u001b[1;32m   1399\u001b[0m \u001b[1;33m\u001b[0m\u001b[0m\n\u001b[1;32m   1400\u001b[0m             \u001b[1;32mreturn\u001b[0m \u001b[0mnew_func1\u001b[0m\u001b[1;33m\u001b[0m\u001b[0m\n",
      "\u001b[0;32mC:\\ProgramData\\Anaconda3\\lib\\site-packages\\gensim\\models\\base_any2vec.py\u001b[0m in \u001b[0;36mmost_similar\u001b[0;34m(self, positive, negative, topn, restrict_vocab, indexer)\u001b[0m\n\u001b[1;32m    694\u001b[0m         \u001b[0mRefer\u001b[0m \u001b[0mto\u001b[0m \u001b[0mthe\u001b[0m \u001b[0mdocumentation\u001b[0m \u001b[1;32mfor\u001b[0m\u001b[0;31m \u001b[0m\u001b[0;31m`\u001b[0m\u001b[0mgensim\u001b[0m\u001b[1;33m.\u001b[0m\u001b[0mmodels\u001b[0m\u001b[1;33m.\u001b[0m\u001b[0mkeyedvectors\u001b[0m\u001b[1;33m.\u001b[0m\u001b[0mWordEmbeddingsKeyedVectors\u001b[0m\u001b[1;33m.\u001b[0m\u001b[0mmost_similar\u001b[0m\u001b[0;31m`\u001b[0m\u001b[1;33m\u001b[0m\u001b[0m\n\u001b[1;32m    695\u001b[0m         \"\"\"\n\u001b[0;32m--> 696\u001b[0;31m         \u001b[1;32mreturn\u001b[0m \u001b[0mself\u001b[0m\u001b[1;33m.\u001b[0m\u001b[0mwv\u001b[0m\u001b[1;33m.\u001b[0m\u001b[0mmost_similar\u001b[0m\u001b[1;33m(\u001b[0m\u001b[0mpositive\u001b[0m\u001b[1;33m,\u001b[0m \u001b[0mnegative\u001b[0m\u001b[1;33m,\u001b[0m \u001b[0mtopn\u001b[0m\u001b[1;33m,\u001b[0m \u001b[0mrestrict_vocab\u001b[0m\u001b[1;33m,\u001b[0m \u001b[0mindexer\u001b[0m\u001b[1;33m)\u001b[0m\u001b[1;33m\u001b[0m\u001b[0m\n\u001b[0m\u001b[1;32m    697\u001b[0m \u001b[1;33m\u001b[0m\u001b[0m\n\u001b[1;32m    698\u001b[0m     \u001b[1;33m@\u001b[0m\u001b[0mdeprecated\u001b[0m\u001b[1;33m(\u001b[0m\u001b[1;34m\"Method will be removed in 4.0.0, use self.wv.wmdistance() instead\"\u001b[0m\u001b[1;33m)\u001b[0m\u001b[1;33m\u001b[0m\u001b[0m\n",
      "\u001b[0;32mC:\\ProgramData\\Anaconda3\\lib\\site-packages\\gensim\\models\\keyedvectors.py\u001b[0m in \u001b[0;36mmost_similar\u001b[0;34m(self, positive, negative, topn, restrict_vocab, indexer)\u001b[0m\n\u001b[1;32m    363\u001b[0m                 \u001b[0mmean\u001b[0m\u001b[1;33m.\u001b[0m\u001b[0mappend\u001b[0m\u001b[1;33m(\u001b[0m\u001b[0mweight\u001b[0m \u001b[1;33m*\u001b[0m \u001b[0mword\u001b[0m\u001b[1;33m)\u001b[0m\u001b[1;33m\u001b[0m\u001b[0m\n\u001b[1;32m    364\u001b[0m             \u001b[1;32melse\u001b[0m\u001b[1;33m:\u001b[0m\u001b[1;33m\u001b[0m\u001b[0m\n\u001b[0;32m--> 365\u001b[0;31m                 \u001b[0mmean\u001b[0m\u001b[1;33m.\u001b[0m\u001b[0mappend\u001b[0m\u001b[1;33m(\u001b[0m\u001b[0mweight\u001b[0m \u001b[1;33m*\u001b[0m \u001b[0mself\u001b[0m\u001b[1;33m.\u001b[0m\u001b[0mword_vec\u001b[0m\u001b[1;33m(\u001b[0m\u001b[0mword\u001b[0m\u001b[1;33m,\u001b[0m \u001b[0muse_norm\u001b[0m\u001b[1;33m=\u001b[0m\u001b[1;32mTrue\u001b[0m\u001b[1;33m)\u001b[0m\u001b[1;33m)\u001b[0m\u001b[1;33m\u001b[0m\u001b[0m\n\u001b[0m\u001b[1;32m    366\u001b[0m                 \u001b[1;32mif\u001b[0m \u001b[0mword\u001b[0m \u001b[1;32min\u001b[0m \u001b[0mself\u001b[0m\u001b[1;33m.\u001b[0m\u001b[0mvocab\u001b[0m\u001b[1;33m:\u001b[0m\u001b[1;33m\u001b[0m\u001b[0m\n\u001b[1;32m    367\u001b[0m                     \u001b[0mall_words\u001b[0m\u001b[1;33m.\u001b[0m\u001b[0madd\u001b[0m\u001b[1;33m(\u001b[0m\u001b[0mself\u001b[0m\u001b[1;33m.\u001b[0m\u001b[0mvocab\u001b[0m\u001b[1;33m[\u001b[0m\u001b[0mword\u001b[0m\u001b[1;33m]\u001b[0m\u001b[1;33m.\u001b[0m\u001b[0mindex\u001b[0m\u001b[1;33m)\u001b[0m\u001b[1;33m\u001b[0m\u001b[0m\n",
      "\u001b[0;32mC:\\ProgramData\\Anaconda3\\lib\\site-packages\\gensim\\models\\keyedvectors.py\u001b[0m in \u001b[0;36mword_vec\u001b[0;34m(self, word, use_norm)\u001b[0m\n\u001b[1;32m    272\u001b[0m             \u001b[1;32mreturn\u001b[0m \u001b[0mresult\u001b[0m\u001b[1;33m\u001b[0m\u001b[0m\n\u001b[1;32m    273\u001b[0m         \u001b[1;32melse\u001b[0m\u001b[1;33m:\u001b[0m\u001b[1;33m\u001b[0m\u001b[0m\n\u001b[0;32m--> 274\u001b[0;31m             \u001b[1;32mraise\u001b[0m \u001b[0mKeyError\u001b[0m\u001b[1;33m(\u001b[0m\u001b[1;34m\"word '%s' not in vocabulary\"\u001b[0m \u001b[1;33m%\u001b[0m \u001b[0mword\u001b[0m\u001b[1;33m)\u001b[0m\u001b[1;33m\u001b[0m\u001b[0m\n\u001b[0m\u001b[1;32m    275\u001b[0m \u001b[1;33m\u001b[0m\u001b[0m\n\u001b[1;32m    276\u001b[0m     \u001b[1;32mdef\u001b[0m \u001b[0mget_vector\u001b[0m\u001b[1;33m(\u001b[0m\u001b[0mself\u001b[0m\u001b[1;33m,\u001b[0m \u001b[0mword\u001b[0m\u001b[1;33m)\u001b[0m\u001b[1;33m:\u001b[0m\u001b[1;33m\u001b[0m\u001b[0m\n",
      "\u001b[0;31mKeyError\u001b[0m: \"word 'apple pie' not in vocabulary\""
     ]
    }
   ],
   "source": [
    "food_names.most_similar('apple pie')"
   ]
  },
  {
   "cell_type": "code",
   "execution_count": 23,
   "metadata": {
    "collapsed": false
   },
   "outputs": [
    {
     "data": {
      "text/plain": [
       "'Cilantro Lime Dressing'"
      ]
     },
     "execution_count": 23,
     "metadata": {},
     "output_type": "execute_result"
    }
   ],
   "source": [
    "df['food_description'][0]"
   ]
  },
  {
   "cell_type": "markdown",
   "metadata": {},
   "source": [
    "Iterating to See How Many Raw Descriptions Are Supported In the Text8 Corpus"
   ]
  },
  {
   "cell_type": "code",
   "execution_count": 26,
   "metadata": {
    "collapsed": false
   },
   "outputs": [
    {
     "name": "stderr",
     "output_type": "stream",
     "text": [
      "C:\\ProgramData\\Anaconda3\\lib\\site-packages\\ipykernel\\__main__.py:5: DeprecationWarning: Call to deprecated `__getitem__` (Method will be removed in 4.0.0, use self.wv.__getitem__() instead).\n"
     ]
    }
   ],
   "source": [
    "food_vec = []\n",
    "results_holder = []\n",
    "for i in range(len(df)):\n",
    "    try:\n",
    "        word_vec = food_names[df['food_description'][1]]\n",
    "        food = df['food_description'][1]\n",
    "        food_vec = food_vec.append(food),\n",
    "        results_holder = results_holder.append(word_vec[0:10])\n",
    "    except:\n",
    "        pass"
   ]
  },
  {
   "cell_type": "code",
   "execution_count": null,
   "metadata": {
    "collapsed": true
   },
   "outputs": [],
   "source": [
    "print(len(food_vec))"
   ]
  },
  {
   "cell_type": "markdown",
   "metadata": {},
   "source": [
    "Two learnings here. First and foremost, this corpus is not specific enough for the exercise. 'Apple' should be returning 'fruit' and 'snack' but not 'macintosh' and 'microsoft'. Even if I had been able to nicely process my food descriptions cleanly, the results from this corpus still leave much to be desired.\n",
    "\n",
    "Second, the model (and corpus) needs to support phrases. Entering 'apple pie' returned no results even though there is almost certainly an apple pie Wikipedia entry in these results. \n",
    "\n",
    "Phrases can be supported by using Negative Sampling the final network layer rather than heirarchical softmax. We can test simple implementation by retraining on the text_8 corpus, using negative sampling with 5 noise words included."
   ]
  },
  {
   "cell_type": "code",
   "execution_count": 36,
   "metadata": {
    "collapsed": true
   },
   "outputs": [],
   "source": [
    "food_phrases = gensim.models.Word2Vec(text_8, hs=0, negative = 2)"
   ]
  },
  {
   "cell_type": "code",
   "execution_count": 23,
   "metadata": {
    "collapsed": false
   },
   "outputs": [
    {
     "name": "stderr",
     "output_type": "stream",
     "text": [
      "C:\\ProgramData\\Anaconda3\\lib\\site-packages\\ipykernel\\__main__.py:1: DeprecationWarning: Call to deprecated `most_similar` (Method will be removed in 4.0.0, use self.wv.most_similar() instead).\n",
      "  if __name__ == '__main__':\n"
     ]
    },
    {
     "data": {
      "text/plain": [
       "[('wizard', 0.7509090900421143),\n",
       " ('carol', 0.702263593673706),\n",
       " ('judy', 0.6979846954345703),\n",
       " ('betty', 0.6864558458328247),\n",
       " ('biopic', 0.6815564632415771),\n",
       " ('potter', 0.6814549565315247),\n",
       " ('gloria', 0.680546760559082),\n",
       " ('doc', 0.679688572883606),\n",
       " ('remake', 0.6795153021812439),\n",
       " ('mister', 0.6771171689033508)]"
      ]
     },
     "execution_count": 23,
     "metadata": {},
     "output_type": "execute_result"
    }
   ],
   "source": [
    "food_names.most_similar('oz')"
   ]
  },
  {
   "cell_type": "markdown",
   "metadata": {},
   "source": [
    "## Part3: Serving Sizes"
   ]
  },
  {
   "cell_type": "markdown",
   "metadata": {},
   "source": [
    "A human meal planner can look at a serving size '1 can' and decide 'I can eat half a can now, and half a can later'. A machine can perform at least a somewhat similar decision if and only if it can understand that '1' is the amount and 'can' is the unit. This exercise will attempt to use text processing to seperate values and units, and at best to normalize units to the same type (i.e. 'oz' and 'ounces'). \n",
    "\n",
    "To start with we investigate a sample of the 'serving size' column below."
   ]
  },
  {
   "cell_type": "code",
   "execution_count": 9,
   "metadata": {
    "collapsed": true
   },
   "outputs": [],
   "source": [
    "import nltk"
   ]
  },
  {
   "cell_type": "code",
   "execution_count": 10,
   "metadata": {
    "collapsed": false
   },
   "outputs": [
    {
     "data": {
      "text/plain": [
       "0    1 egg cream\n",
       "1    1 egg cream\n",
       "2        1 order\n",
       "3        1 order\n",
       "4        1 order\n",
       "Name: serving_size_raw, dtype: object"
      ]
     },
     "execution_count": 10,
     "metadata": {},
     "output_type": "execute_result"
    }
   ],
   "source": [
    "df.serving_size_raw.head()"
   ]
  },
  {
   "cell_type": "markdown",
   "metadata": {},
   "source": [
    "So egg cream is probably not going to be a standard unit of measurement. But is there a way to recognize when a unit stands for '1 item'?\n",
    "\n",
    "On the other hand 'order' should be a word often repeated. We can start with word frequency as a good indication of true 'units' vs descriptions of items. \n",
    "\n",
    "Before getting a bag of words of the serving size units, stripping away the values would be helpful"
   ]
  },
  {
   "cell_type": "code",
   "execution_count": 9,
   "metadata": {
    "collapsed": false
   },
   "outputs": [
    {
     "name": "stderr",
     "output_type": "stream",
     "text": [
      "C:\\ProgramData\\Anaconda3\\lib\\site-packages\\ipykernel\\__main__.py:11: SettingWithCopyWarning: \n",
      "A value is trying to be set on a copy of a slice from a DataFrame\n",
      "\n",
      "See the caveats in the documentation: http://pandas.pydata.org/pandas-docs/stable/indexing.html#indexing-view-versus-copy\n",
      "C:\\ProgramData\\Anaconda3\\lib\\site-packages\\ipykernel\\__main__.py:13: SettingWithCopyWarning: \n",
      "A value is trying to be set on a copy of a slice from a DataFrame\n",
      "\n",
      "See the caveats in the documentation: http://pandas.pydata.org/pandas-docs/stable/indexing.html#indexing-view-versus-copy\n"
     ]
    }
   ],
   "source": [
    "df['ss_numbers_raw'] = ''\n",
    "for i in range((len(df)-1)):\n",
    "    line_numbers = []\n",
    "    line = df.iloc[i,6]\n",
    "    if type(line) == str:\n",
    "        for t in line.split():\n",
    "            try:\n",
    "                line_numbers.append(float(t))   \n",
    "            except ValueError:\n",
    "                pass\n",
    "        df['ss_numbers_raw'][i]= line_numbers\n",
    "    else:\n",
    "        df['ss_numbers_raw'][i]=line"
   ]
  },
  {
   "cell_type": "code",
   "execution_count": 19,
   "metadata": {
    "collapsed": false
   },
   "outputs": [
    {
     "data": {
      "text/html": [
       "<div>\n",
       "<table border=\"1\" class=\"dataframe\">\n",
       "  <thead>\n",
       "    <tr style=\"text-align: right;\">\n",
       "      <th></th>\n",
       "      <th>ss_numbers_raw</th>\n",
       "      <th>serving_size_raw</th>\n",
       "    </tr>\n",
       "  </thead>\n",
       "  <tbody>\n",
       "    <tr>\n",
       "      <th>10000</th>\n",
       "      <td>[8.0, 240.0]</td>\n",
       "      <td>8 fl oz  240 mL</td>\n",
       "    </tr>\n",
       "    <tr>\n",
       "      <th>10001</th>\n",
       "      <td>[12.0, 355.0]</td>\n",
       "      <td>12 fl oz  355 mL</td>\n",
       "    </tr>\n",
       "    <tr>\n",
       "      <th>10002</th>\n",
       "      <td>[1.0, 12.0, 355.0]</td>\n",
       "      <td>1 can  12 fl oz  355 mL</td>\n",
       "    </tr>\n",
       "    <tr>\n",
       "      <th>10003</th>\n",
       "      <td>[8.0, 240.0]</td>\n",
       "      <td>8 fl oz  240 mL</td>\n",
       "    </tr>\n",
       "    <tr>\n",
       "      <th>10004</th>\n",
       "      <td>[8.0, 240.0]</td>\n",
       "      <td>8 fl oz  240 mL</td>\n",
       "    </tr>\n",
       "    <tr>\n",
       "      <th>10005</th>\n",
       "      <td>[1.0, 12.0, 355.0]</td>\n",
       "      <td>1 can  12 fl oz  355 mL</td>\n",
       "    </tr>\n",
       "    <tr>\n",
       "      <th>10006</th>\n",
       "      <td>[8.0, 240.0]</td>\n",
       "      <td>2/5 bottle  8 fl oz  240 mL</td>\n",
       "    </tr>\n",
       "    <tr>\n",
       "      <th>10007</th>\n",
       "      <td>[1.0, 12.0, 355.0]</td>\n",
       "      <td>1 can  12 fl oz  355 mL</td>\n",
       "    </tr>\n",
       "    <tr>\n",
       "      <th>10008</th>\n",
       "      <td>[8.0, 240.0]</td>\n",
       "      <td>8 fl oz  240 mL</td>\n",
       "    </tr>\n",
       "    <tr>\n",
       "      <th>10009</th>\n",
       "      <td>[8.0, 240.0]</td>\n",
       "      <td>8 fl oz  240 mL</td>\n",
       "    </tr>\n",
       "  </tbody>\n",
       "</table>\n",
       "</div>"
      ],
      "text/plain": [
       "           ss_numbers_raw             serving_size_raw\n",
       "10000        [8.0, 240.0]              8 fl oz  240 mL\n",
       "10001       [12.0, 355.0]             12 fl oz  355 mL\n",
       "10002  [1.0, 12.0, 355.0]      1 can  12 fl oz  355 mL\n",
       "10003        [8.0, 240.0]              8 fl oz  240 mL\n",
       "10004        [8.0, 240.0]              8 fl oz  240 mL\n",
       "10005  [1.0, 12.0, 355.0]      1 can  12 fl oz  355 mL\n",
       "10006        [8.0, 240.0]  2/5 bottle  8 fl oz  240 mL\n",
       "10007  [1.0, 12.0, 355.0]      1 can  12 fl oz  355 mL\n",
       "10008        [8.0, 240.0]              8 fl oz  240 mL\n",
       "10009        [8.0, 240.0]              8 fl oz  240 mL"
      ]
     },
     "execution_count": 19,
     "metadata": {},
     "output_type": "execute_result"
    }
   ],
   "source": [
    "df[['ss_numbers_raw', 'serving_size_raw']][10000:10010]"
   ]
  },
  {
   "cell_type": "code",
   "execution_count": 3,
   "metadata": {
    "collapsed": false
   },
   "outputs": [
    {
     "ename": "NameError",
     "evalue": "name 'df' is not defined",
     "output_type": "error",
     "traceback": [
      "\u001b[0;31m---------------------------------------------------------------------------\u001b[0m",
      "\u001b[0;31mNameError\u001b[0m                                 Traceback (most recent call last)",
      "\u001b[0;32m<ipython-input-3-ff2d38d68b57>\u001b[0m in \u001b[0;36m<module>\u001b[0;34m()\u001b[0m\n\u001b[0;32m----> 1\u001b[0;31m \u001b[0mdf\u001b[0m\u001b[1;33m[\u001b[0m\u001b[1;34m'ss_strings_raw'\u001b[0m\u001b[1;33m]\u001b[0m \u001b[1;33m=\u001b[0m \u001b[1;34m''\u001b[0m\u001b[1;33m\u001b[0m\u001b[0m\n\u001b[0m\u001b[1;32m      2\u001b[0m \u001b[1;32mfor\u001b[0m \u001b[0mi\u001b[0m \u001b[1;32min\u001b[0m \u001b[0mrange\u001b[0m\u001b[1;33m(\u001b[0m\u001b[0mlen\u001b[0m\u001b[1;33m(\u001b[0m\u001b[0mdf\u001b[0m\u001b[1;33m.\u001b[0m\u001b[0mserving_size_raw\u001b[0m\u001b[1;33m)\u001b[0m\u001b[1;33m)\u001b[0m\u001b[1;33m:\u001b[0m\u001b[1;33m\u001b[0m\u001b[0m\n\u001b[1;32m      3\u001b[0m     \u001b[0mline_strings\u001b[0m \u001b[1;33m=\u001b[0m \u001b[1;33m[\u001b[0m\u001b[1;33m]\u001b[0m\u001b[1;33m\u001b[0m\u001b[0m\n\u001b[1;32m      4\u001b[0m     \u001b[0mline\u001b[0m \u001b[1;33m=\u001b[0m \u001b[0mdf\u001b[0m\u001b[1;33m.\u001b[0m\u001b[0miloc\u001b[0m\u001b[1;33m[\u001b[0m\u001b[0mi\u001b[0m\u001b[1;33m,\u001b[0m\u001b[1;36m6\u001b[0m\u001b[1;33m]\u001b[0m\u001b[1;33m\u001b[0m\u001b[0m\n\u001b[1;32m      5\u001b[0m     \u001b[1;32mif\u001b[0m \u001b[0mtype\u001b[0m\u001b[1;33m(\u001b[0m\u001b[0mline\u001b[0m\u001b[1;33m)\u001b[0m \u001b[1;33m==\u001b[0m \u001b[0mstr\u001b[0m\u001b[1;33m:\u001b[0m\u001b[1;33m\u001b[0m\u001b[0m\n",
      "\u001b[0;31mNameError\u001b[0m: name 'df' is not defined"
     ]
    }
   ],
   "source": [
    "df['ss_strings_raw'] = ''\n",
    "for i in range(len(df.serving_size_raw)):\n",
    "    line_strings = []\n",
    "    line = df.iloc[i,6]\n",
    "    if type(line) == str:\n",
    "        for t in line.split():\n",
    "            try:\n",
    "                float(t)\n",
    "            except ValueError:\n",
    "                line_strings.append(t)\n",
    "        df['ss_strings_raw'][i]= line_strings\n",
    "    else:\n",
    "        df['ss_strings_raw'][i]=''"
   ]
  },
  {
   "cell_type": "code",
   "execution_count": 21,
   "metadata": {
    "collapsed": false
   },
   "outputs": [
    {
     "data": {
      "text/html": [
       "<div>\n",
       "<table border=\"1\" class=\"dataframe\">\n",
       "  <thead>\n",
       "    <tr style=\"text-align: right;\">\n",
       "      <th></th>\n",
       "      <th>ss_numbers_raw</th>\n",
       "      <th>serving_size_raw</th>\n",
       "    </tr>\n",
       "  </thead>\n",
       "  <tbody>\n",
       "    <tr>\n",
       "      <th>10000</th>\n",
       "      <td>[fl, oz, mL]</td>\n",
       "      <td>8 fl oz  240 mL</td>\n",
       "    </tr>\n",
       "    <tr>\n",
       "      <th>10001</th>\n",
       "      <td>[fl, oz, mL]</td>\n",
       "      <td>12 fl oz  355 mL</td>\n",
       "    </tr>\n",
       "    <tr>\n",
       "      <th>10002</th>\n",
       "      <td>[can, fl, oz, mL]</td>\n",
       "      <td>1 can  12 fl oz  355 mL</td>\n",
       "    </tr>\n",
       "    <tr>\n",
       "      <th>10003</th>\n",
       "      <td>[fl, oz, mL]</td>\n",
       "      <td>8 fl oz  240 mL</td>\n",
       "    </tr>\n",
       "    <tr>\n",
       "      <th>10004</th>\n",
       "      <td>[fl, oz, mL]</td>\n",
       "      <td>8 fl oz  240 mL</td>\n",
       "    </tr>\n",
       "    <tr>\n",
       "      <th>10005</th>\n",
       "      <td>[can, fl, oz, mL]</td>\n",
       "      <td>1 can  12 fl oz  355 mL</td>\n",
       "    </tr>\n",
       "    <tr>\n",
       "      <th>10006</th>\n",
       "      <td>[2/5, bottle, fl, oz, mL]</td>\n",
       "      <td>2/5 bottle  8 fl oz  240 mL</td>\n",
       "    </tr>\n",
       "    <tr>\n",
       "      <th>10007</th>\n",
       "      <td>[can, fl, oz, mL]</td>\n",
       "      <td>1 can  12 fl oz  355 mL</td>\n",
       "    </tr>\n",
       "    <tr>\n",
       "      <th>10008</th>\n",
       "      <td>[fl, oz, mL]</td>\n",
       "      <td>8 fl oz  240 mL</td>\n",
       "    </tr>\n",
       "    <tr>\n",
       "      <th>10009</th>\n",
       "      <td>[fl, oz, mL]</td>\n",
       "      <td>8 fl oz  240 mL</td>\n",
       "    </tr>\n",
       "  </tbody>\n",
       "</table>\n",
       "</div>"
      ],
      "text/plain": [
       "                  ss_numbers_raw             serving_size_raw\n",
       "10000               [fl, oz, mL]              8 fl oz  240 mL\n",
       "10001               [fl, oz, mL]             12 fl oz  355 mL\n",
       "10002          [can, fl, oz, mL]      1 can  12 fl oz  355 mL\n",
       "10003               [fl, oz, mL]              8 fl oz  240 mL\n",
       "10004               [fl, oz, mL]              8 fl oz  240 mL\n",
       "10005          [can, fl, oz, mL]      1 can  12 fl oz  355 mL\n",
       "10006  [2/5, bottle, fl, oz, mL]  2/5 bottle  8 fl oz  240 mL\n",
       "10007          [can, fl, oz, mL]      1 can  12 fl oz  355 mL\n",
       "10008               [fl, oz, mL]              8 fl oz  240 mL\n",
       "10009               [fl, oz, mL]              8 fl oz  240 mL"
      ]
     },
     "execution_count": 21,
     "metadata": {},
     "output_type": "execute_result"
    }
   ],
   "source": [
    "df[['ss_strings_raw', 'serving_size_raw']][10000:10010]"
   ]
  },
  {
   "cell_type": "code",
   "execution_count": 38,
   "metadata": {
    "collapsed": false
   },
   "outputs": [
    {
     "data": {
      "text/plain": [
       "array(['food_key', 'food_description', 'brand', 'food_type_grp', 'source',\n",
       "       'ingredients_list', 'serving_size_raw', 'serving_size_val',\n",
       "       'serving_size_unit', 'calories', 'protein_g', 'fat_g',\n",
       "       'saturated_fat_g', 'carb_g', 'fiber_g', 'sugar_g', 'sodium_mg',\n",
       "       'cholesterol_mg', 'calcium_mg', 'iron_mg', 'vit_a_mcg', 'vit_c_mg',\n",
       "       'ss_numbers_raw'], dtype=object)"
      ]
     },
     "execution_count": 38,
     "metadata": {},
     "output_type": "execute_result"
    }
   ],
   "source": [
    "df.columns.values"
   ]
  },
  {
   "cell_type": "code",
   "execution_count": null,
   "metadata": {
    "collapsed": false
   },
   "outputs": [
    {
     "name": "stderr",
     "output_type": "stream",
     "text": [
      "C:\\ProgramData\\Anaconda3\\lib\\site-packages\\pandas\\core\\indexing.py:141: SettingWithCopyWarning: \n",
      "A value is trying to be set on a copy of a slice from a DataFrame\n",
      "\n",
      "See the caveats in the documentation: http://pandas.pydata.org/pandas-docs/stable/indexing.html#indexing-view-versus-copy\n",
      "  self._setitem_with_indexer(indexer, value)\n"
     ]
    }
   ],
   "source": [
    "# First \n",
    "for i in range((len(df.serving_size_raw)-1)):\n",
    "    line_strings = []\n",
    "    line_floats = []\n",
    "    line = df.iloc[i,6]\n",
    "    if type(line) == str:\n",
    "        for t in line.split():\n",
    "            try:\n",
    "                float(t)\n",
    "                line_floats.append(t)\n",
    "            except ValueError:\n",
    "                line_strings.append(t)\n",
    "        if len(line_floats) > 1:\n",
    "            text1 = line[(line.find(line_floats[0])+1):(line.find(line_floats[1])-1)].strip()\n",
    "            df.serving_size_val.iloc[i] = float(line_floats[0])\n",
    "            df.serving_size_unit.iloc[i] = text1\n",
    "        elif len(line_floats) == 1:`\n",
    "            \n",
    "            df.serving_size_val.iloc[i] = float(line_floats[0])\n",
    "            df.serving_size_unit.iloc[i] = line[(line.find(line_floats[0])+1):len(line)].strip()\n",
    "        else:\n",
    "            df.serving_size_unit.iloc[i] = line\n",
    "    else:\n",
    "        df.serving_size_val.iloc[i] = line"
   ]
  },
  {
   "cell_type": "code",
   "execution_count": 12,
   "metadata": {
    "collapsed": false
   },
   "outputs": [
    {
     "data": {
      "text/plain": [
       "'egg cream'"
      ]
     },
     "execution_count": 12,
     "metadata": {},
     "output_type": "execute_result"
    }
   ],
   "source": [
    "df.serving_size_unit.iloc[1]"
   ]
  },
  {
   "cell_type": "code",
   "execution_count": 9,
   "metadata": {
    "collapsed": false
   },
   "outputs": [
    {
     "data": {
      "text/plain": [
       "float"
      ]
     },
     "execution_count": 9,
     "metadata": {},
     "output_type": "execute_result"
    }
   ],
   "source": [
    "type(line_floats[0])"
   ]
  },
  {
   "cell_type": "code",
   "execution_count": 11,
   "metadata": {
    "collapsed": true
   },
   "outputs": [],
   "source": [
    "test = df.iloc[10004,6]"
   ]
  },
  {
   "cell_type": "code",
   "execution_count": 36,
   "metadata": {
    "collapsed": false
   },
   "outputs": [],
   "source": [
    "line_strings = []\n",
    "line_floats = []\n",
    "for t in test.split():\n",
    "    try:\n",
    "        float(t)\n",
    "        line_floats.append(t)\n",
    "    except ValueError:\n",
    "        line_strings.append(t)\n",
    "if len(line_floats) > 1:\n",
    "    text1 = test[(test.find(line_floats[0])+1):(test.find(line_floats[1])-1)].strip()"
   ]
  },
  {
   "cell_type": "code",
   "execution_count": 37,
   "metadata": {
    "collapsed": false
   },
   "outputs": [
    {
     "data": {
      "text/plain": [
       "'fl oz'"
      ]
     },
     "execution_count": 37,
     "metadata": {},
     "output_type": "execute_result"
    }
   ],
   "source": [
    "text1"
   ]
  },
  {
   "cell_type": "code",
   "execution_count": null,
   "metadata": {
    "collapsed": true
   },
   "outputs": [],
   "source": [
    "df.to_csv('C:/Users/J/Desktop/Businesses/Meal_Maker/Scrape d_Data/combined_nutrition_small/nutrition_sm_2018_3_16_processed.csv', delimiter = ',',encoding='ISO-8859-1')"
   ]
  },
  {
   "cell_type": "code",
   "execution_count": null,
   "metadata": {
    "collapsed": true
   },
   "outputs": [],
   "source": []
  }
 ],
 "metadata": {
  "kernelspec": {
   "display_name": "Python 3",
   "language": "python",
   "name": "python3"
  },
  "language_info": {
   "codemirror_mode": {
    "name": "ipython",
    "version": 3
   },
   "file_extension": ".py",
   "mimetype": "text/x-python",
   "name": "python",
   "nbconvert_exporter": "python",
   "pygments_lexer": "ipython3",
   "version": "3.6.0"
  }
 },
 "nbformat": 4,
 "nbformat_minor": 2
}
