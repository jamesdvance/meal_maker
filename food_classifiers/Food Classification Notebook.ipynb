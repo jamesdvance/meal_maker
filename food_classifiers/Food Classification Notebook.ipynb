{
 "cells": [
  {
   "cell_type": "markdown",
   "metadata": {},
   "source": [
    "# Food Classification"
   ]
  },
  {
   "cell_type": "markdown",
   "metadata": {},
   "source": [
    "### Purpose\n",
    "1. Classify each item into a USDA food group\n",
    "2. Pre-populate the 'tags' associated with each order to find useful attributes and groupings.\n",
    "3. Create a circular machine-learning approach to constantly refine and re-score likely food groups and other emergent categories from updates and new tags - new tags should inform new food groups and vice versa. 'Important' groups should emerge based upon how often they are used in rules"
   ]
  },
  {
   "cell_type": "markdown",
   "metadata": {},
   "source": [
    "### Part 1. Cleaning Dataset"
   ]
  },
  {
   "cell_type": "code",
   "execution_count": 1,
   "metadata": {
    "collapsed": false
   },
   "outputs": [],
   "source": [
    "import pandas as pd\n",
    "import numpy as np"
   ]
  },
  {
   "cell_type": "code",
   "execution_count": 4,
   "metadata": {
    "collapsed": false
   },
   "outputs": [
    {
     "name": "stderr",
     "output_type": "stream",
     "text": [
      "C:\\ProgramData\\Anaconda3\\lib\\site-packages\\IPython\\core\\interactiveshell.py:2717: DtypeWarning: Columns (0,5) have mixed types. Specify dtype option on import or set low_memory=False.\n",
      "  interactivity=interactivity, compiler=compiler, result=result)\n"
     ]
    }
   ],
   "source": [
    "# Can replace this with an S3 reference\n",
    "df = pd.read_csv('C:/Users/J/Desktop/Businesses/Meal_Maker/Scraped_Data/combined_nutrition_small/nutrition_sm_2018_3_15_processed_comma.csv', delimiter = ',',encoding='ISO-8859-1')"
   ]
  },
  {
   "cell_type": "markdown",
   "metadata": {},
   "source": [
    "Throughout this analysis, the format of food descriptions will all depend on the source of the data. Printing the unique values of the source column below will be a useful reference. "
   ]
  },
  {
   "cell_type": "code",
   "execution_count": 5,
   "metadata": {
    "collapsed": false
   },
   "outputs": [
    {
     "data": {
      "text/plain": [
       "array(['diet_facts_restaurants', 'diet_facts_brands', '700', 'fat_secret',\n",
       "       'usda_raw_ingred', 'fat_secret_all_search', 'fat_secret_recipes',\n",
       "       'usda_branded'], dtype=object)"
      ]
     },
     "execution_count": 5,
     "metadata": {},
     "output_type": "execute_result"
    }
   ],
   "source": [
    "df.source.unique()"
   ]
  },
  {
   "cell_type": "code",
   "execution_count": 6,
   "metadata": {
    "collapsed": false
   },
   "outputs": [],
   "source": [
    "df = df[df.source!='700']"
   ]
  },
  {
   "cell_type": "markdown",
   "metadata": {},
   "source": [
    "## Self-Labeling Food Groups\n",
    "1. Sampling 20k an exporting for self-labeling\n",
    "2. Importing USDA food groups and matching\n",
    "3. Importing fat-secret classifications as 'tags'\n",
    "4. Build a master 'labeled dataset (include 'label source')"
   ]
  },
  {
   "cell_type": "markdown",
   "metadata": {},
   "source": [
    "##### Self-Labeling Export"
   ]
  },
  {
   "cell_type": "code",
   "execution_count": null,
   "metadata": {
    "collapsed": true
   },
   "outputs": [],
   "source": [
    "df_short = df[['food_description', 'brand', 'food_type_grp', 'ingredients_list']]\n",
    "samp_df = df_short.sample(20000)"
   ]
  },
  {
   "cell_type": "code",
   "execution_count": null,
   "metadata": {
    "collapsed": true
   },
   "outputs": [],
   "source": [
    "#Export for self-labeling\n",
    "samp_df.to_csv(\"C:/Users/J/Desktop/Businesses/Meal_Maker/Food classifications/sample_foods_to_label.csv\", index=False)"
   ]
  },
  {
   "cell_type": "markdown",
   "metadata": {},
   "source": [
    "##### Importing USDA Food groups and matching"
   ]
  },
  {
   "cell_type": "markdown",
   "metadata": {},
   "source": [
    "Exact Matching"
   ]
  },
  {
   "cell_type": "code",
   "execution_count": 7,
   "metadata": {
    "collapsed": true
   },
   "outputs": [],
   "source": [
    "fd_grps = pd.read_csv(\"C:/Users/J/Desktop/Businesses/Meal_Maker/Food Classifications/usda_food_groups.csv\")"
   ]
  },
  {
   "cell_type": "code",
   "execution_count": 8,
   "metadata": {
    "collapsed": false
   },
   "outputs": [
    {
     "data": {
      "text/html": [
       "<div>\n",
       "<table border=\"1\" class=\"dataframe\">\n",
       "  <thead>\n",
       "    <tr style=\"text-align: right;\">\n",
       "      <th></th>\n",
       "      <th>Food</th>\n",
       "      <th>Group</th>\n",
       "      <th>Subgroup</th>\n",
       "    </tr>\n",
       "  </thead>\n",
       "  <tbody>\n",
       "    <tr>\n",
       "      <th>0</th>\n",
       "      <td>Apples, cooked or canned</td>\n",
       "      <td>Fruit</td>\n",
       "      <td>Whole Fruit</td>\n",
       "    </tr>\n",
       "    <tr>\n",
       "      <th>1</th>\n",
       "      <td>Applesauce, canned, unsweetened, without vitam...</td>\n",
       "      <td>Fruit</td>\n",
       "      <td>Whole Fruit</td>\n",
       "    </tr>\n",
       "    <tr>\n",
       "      <th>2</th>\n",
       "      <td>Apples, dried</td>\n",
       "      <td>Fruit</td>\n",
       "      <td>Whole Fruit</td>\n",
       "    </tr>\n",
       "    <tr>\n",
       "      <th>3</th>\n",
       "      <td>Apple, dried, sulfured, uncooked</td>\n",
       "      <td>Fruit</td>\n",
       "      <td>Whole Fruit</td>\n",
       "    </tr>\n",
       "    <tr>\n",
       "      <th>4</th>\n",
       "      <td>Apples, raw</td>\n",
       "      <td>Fruit</td>\n",
       "      <td>Whole Fruit</td>\n",
       "    </tr>\n",
       "    <tr>\n",
       "      <th>5</th>\n",
       "      <td>Apple, raw, with skin</td>\n",
       "      <td>Fruit</td>\n",
       "      <td>Whole Fruit</td>\n",
       "    </tr>\n",
       "    <tr>\n",
       "      <th>6</th>\n",
       "      <td>Applesauce</td>\n",
       "      <td>Fruit</td>\n",
       "      <td>Whole Fruit</td>\n",
       "    </tr>\n",
       "    <tr>\n",
       "      <th>7</th>\n",
       "      <td>Applesauce, canned, unsweetened, without vitam...</td>\n",
       "      <td>Fruit</td>\n",
       "      <td>Whole Fruit</td>\n",
       "    </tr>\n",
       "    <tr>\n",
       "      <th>8</th>\n",
       "      <td>Apricot, cooked or canned</td>\n",
       "      <td>Fruit</td>\n",
       "      <td>Whole Fruit</td>\n",
       "    </tr>\n",
       "    <tr>\n",
       "      <th>9</th>\n",
       "      <td>Apricot, canned, water pack</td>\n",
       "      <td>Fruit</td>\n",
       "      <td>Whole Fruit</td>\n",
       "    </tr>\n",
       "    <tr>\n",
       "      <th>10</th>\n",
       "      <td>Apricot, dried</td>\n",
       "      <td>Fruit</td>\n",
       "      <td>Whole Fruit</td>\n",
       "    </tr>\n",
       "    <tr>\n",
       "      <th>11</th>\n",
       "      <td>Apricot, dried, sulfured, uncooked</td>\n",
       "      <td>Fruit</td>\n",
       "      <td>Whole Fruit</td>\n",
       "    </tr>\n",
       "    <tr>\n",
       "      <th>12</th>\n",
       "      <td>Apricot, raw</td>\n",
       "      <td>Fruit</td>\n",
       "      <td>Whole Fruit</td>\n",
       "    </tr>\n",
       "    <tr>\n",
       "      <th>13</th>\n",
       "      <td>Apricots, raw</td>\n",
       "      <td>Fruit</td>\n",
       "      <td>Whole Fruit</td>\n",
       "    </tr>\n",
       "    <tr>\n",
       "      <th>14</th>\n",
       "      <td>Bananas, cooked or canned (Incl. red)</td>\n",
       "      <td>Fruit</td>\n",
       "      <td>Whole Fruit</td>\n",
       "    </tr>\n",
       "    <tr>\n",
       "      <th>15</th>\n",
       "      <td>Bananas, raw</td>\n",
       "      <td>Fruit</td>\n",
       "      <td>Whole Fruit</td>\n",
       "    </tr>\n",
       "    <tr>\n",
       "      <th>16</th>\n",
       "      <td>Bananas, dried</td>\n",
       "      <td>Fruit</td>\n",
       "      <td>Whole Fruit</td>\n",
       "    </tr>\n",
       "    <tr>\n",
       "      <th>17</th>\n",
       "      <td>Bananas, dehydrated</td>\n",
       "      <td>Fruit</td>\n",
       "      <td>Whole Fruit</td>\n",
       "    </tr>\n",
       "    <tr>\n",
       "      <th>18</th>\n",
       "      <td>Bananas, raw (Incl. white, red, Chinese,</td>\n",
       "      <td>Fruit</td>\n",
       "      <td>Whole Fruit</td>\n",
       "    </tr>\n",
       "    <tr>\n",
       "      <th>19</th>\n",
       "      <td>Bananas, raw</td>\n",
       "      <td>Fruit</td>\n",
       "      <td>Whole Fruit</td>\n",
       "    </tr>\n",
       "    <tr>\n",
       "      <th>20</th>\n",
       "      <td>Blackberries, cooked or canned</td>\n",
       "      <td>Fruit</td>\n",
       "      <td>Whole Fruit</td>\n",
       "    </tr>\n",
       "    <tr>\n",
       "      <th>21</th>\n",
       "      <td>Blackberries, raw</td>\n",
       "      <td>Fruit</td>\n",
       "      <td>Whole Fruit</td>\n",
       "    </tr>\n",
       "    <tr>\n",
       "      <th>22</th>\n",
       "      <td>Blackberries, raw</td>\n",
       "      <td>Fruit</td>\n",
       "      <td>Whole Fruit</td>\n",
       "    </tr>\n",
       "    <tr>\n",
       "      <th>23</th>\n",
       "      <td>Blackberries, raw</td>\n",
       "      <td>Fruit</td>\n",
       "      <td>Whole Fruit</td>\n",
       "    </tr>\n",
       "    <tr>\n",
       "      <th>24</th>\n",
       "      <td>Blueberries, cooked or canned</td>\n",
       "      <td>Fruit</td>\n",
       "      <td>Whole Fruit</td>\n",
       "    </tr>\n",
       "    <tr>\n",
       "      <th>25</th>\n",
       "      <td>Blueberries, raw</td>\n",
       "      <td>Fruit</td>\n",
       "      <td>Whole Fruit</td>\n",
       "    </tr>\n",
       "    <tr>\n",
       "      <th>26</th>\n",
       "      <td>Blueberries, dried</td>\n",
       "      <td>Fruit</td>\n",
       "      <td>Whole Fruit</td>\n",
       "    </tr>\n",
       "    <tr>\n",
       "      <th>27</th>\n",
       "      <td>Blueberries, raw</td>\n",
       "      <td>Fruit</td>\n",
       "      <td>Whole Fruit</td>\n",
       "    </tr>\n",
       "    <tr>\n",
       "      <th>28</th>\n",
       "      <td>Blueberries, raw</td>\n",
       "      <td>Fruit</td>\n",
       "      <td>Whole Fruit</td>\n",
       "    </tr>\n",
       "    <tr>\n",
       "      <th>29</th>\n",
       "      <td>Blueberries, raw</td>\n",
       "      <td>Fruit</td>\n",
       "      <td>Whole Fruit</td>\n",
       "    </tr>\n",
       "    <tr>\n",
       "      <th>...</th>\n",
       "      <td>...</td>\n",
       "      <td>...</td>\n",
       "      <td>...</td>\n",
       "    </tr>\n",
       "    <tr>\n",
       "      <th>839</th>\n",
       "      <td>Sausage</td>\n",
       "      <td>Protein Foods</td>\n",
       "      <td>Red Meats</td>\n",
       "    </tr>\n",
       "    <tr>\n",
       "      <th>840</th>\n",
       "      <td>Turkey sausage, reduced fat, brown and serve, ...</td>\n",
       "      <td>Protein Foods</td>\n",
       "      <td>Red Meats</td>\n",
       "    </tr>\n",
       "    <tr>\n",
       "      <th>841</th>\n",
       "      <td>Tofu</td>\n",
       "      <td>Protein Foods</td>\n",
       "      <td>Processed Soy Products</td>\n",
       "    </tr>\n",
       "    <tr>\n",
       "      <th>842</th>\n",
       "      <td>Tofu, firm, prepared with calcium sulfate and ...</td>\n",
       "      <td>Protein Foods</td>\n",
       "      <td>Processed Soy Products</td>\n",
       "    </tr>\n",
       "    <tr>\n",
       "      <th>843</th>\n",
       "      <td>Processed Soy</td>\n",
       "      <td>Protein Foods</td>\n",
       "      <td>Processed Soy Products</td>\n",
       "    </tr>\n",
       "    <tr>\n",
       "      <th>844</th>\n",
       "      <td>Soy protein isolate</td>\n",
       "      <td>Protein Foods</td>\n",
       "      <td>Processed Soy Products</td>\n",
       "    </tr>\n",
       "    <tr>\n",
       "      <th>845</th>\n",
       "      <td>Unhydrogenated soy oil 53%</td>\n",
       "      <td>Oils and Solid Fats</td>\n",
       "      <td>Oils</td>\n",
       "    </tr>\n",
       "    <tr>\n",
       "      <th>846</th>\n",
       "      <td>Canola oil 22%</td>\n",
       "      <td>Oils and Solid Fats</td>\n",
       "      <td>Oils</td>\n",
       "    </tr>\n",
       "    <tr>\n",
       "      <th>847</th>\n",
       "      <td>Olive oil 4%</td>\n",
       "      <td>Oils and Solid Fats</td>\n",
       "      <td>Oils</td>\n",
       "    </tr>\n",
       "    <tr>\n",
       "      <th>848</th>\n",
       "      <td>Corn oil 10%</td>\n",
       "      <td>Oils and Solid Fats</td>\n",
       "      <td>Oils</td>\n",
       "    </tr>\n",
       "    <tr>\n",
       "      <th>849</th>\n",
       "      <td>Sunflower oil 3%</td>\n",
       "      <td>Oils and Solid Fats</td>\n",
       "      <td>Oils</td>\n",
       "    </tr>\n",
       "    <tr>\n",
       "      <th>850</th>\n",
       "      <td>Cottonseed oil 4%</td>\n",
       "      <td>Oils and Solid Fats</td>\n",
       "      <td>Oils</td>\n",
       "    </tr>\n",
       "    <tr>\n",
       "      <th>851</th>\n",
       "      <td>Peanut oil 1%</td>\n",
       "      <td>Oils and Solid Fats</td>\n",
       "      <td>Oils</td>\n",
       "    </tr>\n",
       "    <tr>\n",
       "      <th>852</th>\n",
       "      <td>Safflower oil 0%</td>\n",
       "      <td>Oils and Solid Fats</td>\n",
       "      <td>Oils</td>\n",
       "    </tr>\n",
       "    <tr>\n",
       "      <th>853</th>\n",
       "      <td>Margarine (1/2 total) 3%</td>\n",
       "      <td>Oils and Solid Fats</td>\n",
       "      <td>Oils</td>\n",
       "    </tr>\n",
       "    <tr>\n",
       "      <th>854</th>\n",
       "      <td>Oil, soybean, salad or cooking</td>\n",
       "      <td>Oils and Solid Fats</td>\n",
       "      <td>Oils</td>\n",
       "    </tr>\n",
       "    <tr>\n",
       "      <th>855</th>\n",
       "      <td>Oil, canola</td>\n",
       "      <td>Oils and Solid Fats</td>\n",
       "      <td>Oils</td>\n",
       "    </tr>\n",
       "    <tr>\n",
       "      <th>856</th>\n",
       "      <td>Oil, olive, salad or cooking</td>\n",
       "      <td>Oils and Solid Fats</td>\n",
       "      <td>Oils</td>\n",
       "    </tr>\n",
       "    <tr>\n",
       "      <th>857</th>\n",
       "      <td>Oil, corn, industrial and retail, all purpose ...</td>\n",
       "      <td>Oils and Solid Fats</td>\n",
       "      <td>Oils</td>\n",
       "    </tr>\n",
       "    <tr>\n",
       "      <th>858</th>\n",
       "      <td>Oil, sunflower, linoleic (approx. 65%) Oil, co...</td>\n",
       "      <td>Oils and Solid Fats</td>\n",
       "      <td>Oils</td>\n",
       "    </tr>\n",
       "    <tr>\n",
       "      <th>859</th>\n",
       "      <td>Oil, peanut, salad or cooking</td>\n",
       "      <td>Oils and Solid Fats</td>\n",
       "      <td>Oils</td>\n",
       "    </tr>\n",
       "    <tr>\n",
       "      <th>860</th>\n",
       "      <td>Oil, safflower, salad or cooking, linoleic (ov...</td>\n",
       "      <td>Oils and Solid Fats</td>\n",
       "      <td>Oils</td>\n",
       "    </tr>\n",
       "    <tr>\n",
       "      <th>861</th>\n",
       "      <td>Palm oil</td>\n",
       "      <td>Oils and Solid Fats</td>\n",
       "      <td>Solid Fats</td>\n",
       "    </tr>\n",
       "    <tr>\n",
       "      <th>862</th>\n",
       "      <td>Palm Kernel oil Coconut oil</td>\n",
       "      <td>Oils and Solid Fats</td>\n",
       "      <td>Solid Fats</td>\n",
       "    </tr>\n",
       "    <tr>\n",
       "      <th>863</th>\n",
       "      <td>Dairy fat (incl. butter) Pork fat (incl. lard)...</td>\n",
       "      <td>Oils and Solid Fats</td>\n",
       "      <td>Solid Fats</td>\n",
       "    </tr>\n",
       "    <tr>\n",
       "      <th>864</th>\n",
       "      <td>Palm oil</td>\n",
       "      <td>Oils and Solid Fats</td>\n",
       "      <td>Solid Fats</td>\n",
       "    </tr>\n",
       "    <tr>\n",
       "      <th>865</th>\n",
       "      <td>Palm kernel oil Coconut oil Butter, salted Lard</td>\n",
       "      <td>Oils and Solid Fats</td>\n",
       "      <td>Solid Fats</td>\n",
       "    </tr>\n",
       "    <tr>\n",
       "      <th>866</th>\n",
       "      <td>Vegetable shortening,household,composite Beef ...</td>\n",
       "      <td>Oils and Solid Fats</td>\n",
       "      <td>Solid Fats</td>\n",
       "    </tr>\n",
       "    <tr>\n",
       "      <th>867</th>\n",
       "      <td>Soybean oil, partially hydrogenated</td>\n",
       "      <td>Oils and Solid Fats</td>\n",
       "      <td>Solid Fats</td>\n",
       "    </tr>\n",
       "    <tr>\n",
       "      <th>868</th>\n",
       "      <td>Margarine (1/2 total) 3%</td>\n",
       "      <td>Oils and Solid Fats</td>\n",
       "      <td>Solid Fats</td>\n",
       "    </tr>\n",
       "  </tbody>\n",
       "</table>\n",
       "<p>869 rows × 3 columns</p>\n",
       "</div>"
      ],
      "text/plain": [
       "                                                  Food                Group  \\\n",
       "0                             Apples, cooked or canned                Fruit   \n",
       "1    Applesauce, canned, unsweetened, without vitam...                Fruit   \n",
       "2                                        Apples, dried                Fruit   \n",
       "3                     Apple, dried, sulfured, uncooked                Fruit   \n",
       "4                                          Apples, raw                Fruit   \n",
       "5                                Apple, raw, with skin                Fruit   \n",
       "6                                           Applesauce                Fruit   \n",
       "7    Applesauce, canned, unsweetened, without vitam...                Fruit   \n",
       "8                            Apricot, cooked or canned                Fruit   \n",
       "9                          Apricot, canned, water pack                Fruit   \n",
       "10                                      Apricot, dried                Fruit   \n",
       "11                  Apricot, dried, sulfured, uncooked                Fruit   \n",
       "12                                        Apricot, raw                Fruit   \n",
       "13                                       Apricots, raw                Fruit   \n",
       "14               Bananas, cooked or canned (Incl. red)                Fruit   \n",
       "15                                        Bananas, raw                Fruit   \n",
       "16                                      Bananas, dried                Fruit   \n",
       "17                                 Bananas, dehydrated                Fruit   \n",
       "18            Bananas, raw (Incl. white, red, Chinese,                Fruit   \n",
       "19                                        Bananas, raw                Fruit   \n",
       "20                      Blackberries, cooked or canned                Fruit   \n",
       "21                                   Blackberries, raw                Fruit   \n",
       "22                                   Blackberries, raw                Fruit   \n",
       "23                                   Blackberries, raw                Fruit   \n",
       "24                       Blueberries, cooked or canned                Fruit   \n",
       "25                                    Blueberries, raw                Fruit   \n",
       "26                                  Blueberries, dried                Fruit   \n",
       "27                                    Blueberries, raw                Fruit   \n",
       "28                                    Blueberries, raw                Fruit   \n",
       "29                                    Blueberries, raw                Fruit   \n",
       "..                                                 ...                  ...   \n",
       "839                                            Sausage        Protein Foods   \n",
       "840  Turkey sausage, reduced fat, brown and serve, ...        Protein Foods   \n",
       "841                                               Tofu        Protein Foods   \n",
       "842  Tofu, firm, prepared with calcium sulfate and ...        Protein Foods   \n",
       "843                                      Processed Soy        Protein Foods   \n",
       "844                                Soy protein isolate        Protein Foods   \n",
       "845                         Unhydrogenated soy oil 53%  Oils and Solid Fats   \n",
       "846                                     Canola oil 22%  Oils and Solid Fats   \n",
       "847                                       Olive oil 4%  Oils and Solid Fats   \n",
       "848                                       Corn oil 10%  Oils and Solid Fats   \n",
       "849                                   Sunflower oil 3%  Oils and Solid Fats   \n",
       "850                                  Cottonseed oil 4%  Oils and Solid Fats   \n",
       "851                                      Peanut oil 1%  Oils and Solid Fats   \n",
       "852                                   Safflower oil 0%  Oils and Solid Fats   \n",
       "853                           Margarine (1/2 total) 3%  Oils and Solid Fats   \n",
       "854                     Oil, soybean, salad or cooking  Oils and Solid Fats   \n",
       "855                                        Oil, canola  Oils and Solid Fats   \n",
       "856                       Oil, olive, salad or cooking  Oils and Solid Fats   \n",
       "857  Oil, corn, industrial and retail, all purpose ...  Oils and Solid Fats   \n",
       "858  Oil, sunflower, linoleic (approx. 65%) Oil, co...  Oils and Solid Fats   \n",
       "859                      Oil, peanut, salad or cooking  Oils and Solid Fats   \n",
       "860  Oil, safflower, salad or cooking, linoleic (ov...  Oils and Solid Fats   \n",
       "861                                           Palm oil  Oils and Solid Fats   \n",
       "862                        Palm Kernel oil Coconut oil  Oils and Solid Fats   \n",
       "863  Dairy fat (incl. butter) Pork fat (incl. lard)...  Oils and Solid Fats   \n",
       "864                                           Palm oil  Oils and Solid Fats   \n",
       "865    Palm kernel oil Coconut oil Butter, salted Lard  Oils and Solid Fats   \n",
       "866  Vegetable shortening,household,composite Beef ...  Oils and Solid Fats   \n",
       "867                Soybean oil, partially hydrogenated  Oils and Solid Fats   \n",
       "868                           Margarine (1/2 total) 3%  Oils and Solid Fats   \n",
       "\n",
       "                   Subgroup  \n",
       "0               Whole Fruit  \n",
       "1               Whole Fruit  \n",
       "2               Whole Fruit  \n",
       "3               Whole Fruit  \n",
       "4               Whole Fruit  \n",
       "5               Whole Fruit  \n",
       "6               Whole Fruit  \n",
       "7               Whole Fruit  \n",
       "8               Whole Fruit  \n",
       "9               Whole Fruit  \n",
       "10              Whole Fruit  \n",
       "11              Whole Fruit  \n",
       "12              Whole Fruit  \n",
       "13              Whole Fruit  \n",
       "14              Whole Fruit  \n",
       "15              Whole Fruit  \n",
       "16              Whole Fruit  \n",
       "17              Whole Fruit  \n",
       "18              Whole Fruit  \n",
       "19              Whole Fruit  \n",
       "20              Whole Fruit  \n",
       "21              Whole Fruit  \n",
       "22              Whole Fruit  \n",
       "23              Whole Fruit  \n",
       "24              Whole Fruit  \n",
       "25              Whole Fruit  \n",
       "26              Whole Fruit  \n",
       "27              Whole Fruit  \n",
       "28              Whole Fruit  \n",
       "29              Whole Fruit  \n",
       "..                      ...  \n",
       "839               Red Meats  \n",
       "840               Red Meats  \n",
       "841  Processed Soy Products  \n",
       "842  Processed Soy Products  \n",
       "843  Processed Soy Products  \n",
       "844  Processed Soy Products  \n",
       "845                    Oils  \n",
       "846                    Oils  \n",
       "847                    Oils  \n",
       "848                    Oils  \n",
       "849                    Oils  \n",
       "850                    Oils  \n",
       "851                    Oils  \n",
       "852                    Oils  \n",
       "853                    Oils  \n",
       "854                    Oils  \n",
       "855                    Oils  \n",
       "856                    Oils  \n",
       "857                    Oils  \n",
       "858                    Oils  \n",
       "859                    Oils  \n",
       "860                    Oils  \n",
       "861              Solid Fats  \n",
       "862              Solid Fats  \n",
       "863              Solid Fats  \n",
       "864              Solid Fats  \n",
       "865              Solid Fats  \n",
       "866              Solid Fats  \n",
       "867              Solid Fats  \n",
       "868              Solid Fats  \n",
       "\n",
       "[869 rows x 3 columns]"
      ]
     },
     "execution_count": 8,
     "metadata": {},
     "output_type": "execute_result"
    }
   ],
   "source": [
    "fd_grps"
   ]
  },
  {
   "cell_type": "code",
   "execution_count": 18,
   "metadata": {
    "collapsed": false
   },
   "outputs": [],
   "source": [
    "full_df = df_short.merge(fd_grps, how='inner',left_on='food_description', right_on='Food')"
   ]
  },
  {
   "cell_type": "code",
   "execution_count": 21,
   "metadata": {
    "collapsed": false
   },
   "outputs": [],
   "source": [
    "full_df.to_csv(\"C:/Users/J/Desktop/Businesses/Meal_Maker/Food Classifications/labeled_data/usda_exact_match.csv\", index=False)"
   ]
  },
  {
   "cell_type": "markdown",
   "metadata": {},
   "source": [
    "Fuzzy Matching"
   ]
  },
  {
   "cell_type": "code",
   "execution_count": 22,
   "metadata": {
    "collapsed": true
   },
   "outputs": [],
   "source": [
    "import difflib"
   ]
  },
  {
   "cell_type": "code",
   "execution_count": 28,
   "metadata": {
    "collapsed": true
   },
   "outputs": [],
   "source": [
    "# Set index in fd grps\n",
    "fd_grps=fd_grps.set_index(['Food'])"
   ]
  },
  {
   "cell_type": "code",
   "execution_count": 27,
   "metadata": {
    "collapsed": false
   },
   "outputs": [],
   "source": [
    "df_short=df_short.set_index(['food_description'])"
   ]
  },
  {
   "cell_type": "code",
   "execution_count": null,
   "metadata": {
    "collapsed": false
   },
   "outputs": [],
   "source": [
    "df_short.index= df_short.index.map(lambda x: difflib.get_close_matches(x, fd_grps.index,n=1,cutoff=0.8))"
   ]
  },
  {
   "cell_type": "code",
   "execution_count": null,
   "metadata": {
    "collapsed": true
   },
   "outputs": [],
   "source": [
    "fuzzy_grps = df_short.join(fd_grps)"
   ]
  },
  {
   "cell_type": "code",
   "execution_count": null,
   "metadata": {
    "collapsed": true
   },
   "outputs": [],
   "source": [
    "fuzzy_grps.to_csv(\"C:/Users/J/Desktop/Businesses/Meal_Maker/Food Classifications/labeled_data/usda_fuzzy_match_.8.csv\", index=False)"
   ]
  },
  {
   "cell_type": "markdown",
   "metadata": {},
   "source": [
    "##### Importing Fat Secret 'Food Groups' as tags"
   ]
  },
  {
   "cell_type": "code",
   "execution_count": 3,
   "metadata": {
    "collapsed": true
   },
   "outputs": [],
   "source": [
    "fs_tags = pd.read_csv(\"C:/Users/J/Desktop/Businesses/Meal_Maker/Scraped_Data/fat_secret_groups_in_progress.csv\")"
   ]
  },
  {
   "cell_type": "code",
   "execution_count": 4,
   "metadata": {
    "collapsed": false
   },
   "outputs": [
    {
     "data": {
      "text/html": [
       "<div>\n",
       "<table border=\"1\" class=\"dataframe\">\n",
       "  <thead>\n",
       "    <tr style=\"text-align: right;\">\n",
       "      <th></th>\n",
       "      <th>food</th>\n",
       "      <th>food_group</th>\n",
       "      <th>food_label</th>\n",
       "      <th>food_sub_group</th>\n",
       "      <th>calcium_perc</th>\n",
       "      <th>calories</th>\n",
       "      <th>carb_g</th>\n",
       "      <th>cholesterol_mg</th>\n",
       "      <th>fat_g</th>\n",
       "      <th>fiber_g</th>\n",
       "      <th>iron_perc</th>\n",
       "      <th>protein</th>\n",
       "      <th>saturated_fat_g</th>\n",
       "      <th>serving_size</th>\n",
       "      <th>sodium_mg</th>\n",
       "      <th>sugar_g</th>\n",
       "      <th>vit_a_perc</th>\n",
       "      <th>vit_c_perc</th>\n",
       "    </tr>\n",
       "  </thead>\n",
       "  <tbody>\n",
       "    <tr>\n",
       "      <th>0</th>\n",
       "      <td>Plain or Vegetarian Baked Beans</td>\n",
       "      <td>Beans &amp; Legumes</td>\n",
       "      <td>NaN</td>\n",
       "      <td>Baked Beans</td>\n",
       "      <td>9</td>\n",
       "      <td>239.0</td>\n",
       "      <td>53.70</td>\n",
       "      <td>0</td>\n",
       "      <td>0.94</td>\n",
       "      <td>10.4</td>\n",
       "      <td>17</td>\n",
       "      <td>12.06</td>\n",
       "      <td>0.224</td>\n",
       "      <td>1 cup</td>\n",
       "      <td>856</td>\n",
       "      <td>22.96</td>\n",
       "      <td>5</td>\n",
       "      <td>0</td>\n",
       "    </tr>\n",
       "    <tr>\n",
       "      <th>1</th>\n",
       "      <td>Baked Beans with Pork</td>\n",
       "      <td>Beans &amp; Legumes</td>\n",
       "      <td>NaN</td>\n",
       "      <td>Baked Beans</td>\n",
       "      <td>13</td>\n",
       "      <td>268.0</td>\n",
       "      <td>50.55</td>\n",
       "      <td>18</td>\n",
       "      <td>3.92</td>\n",
       "      <td>13.9</td>\n",
       "      <td>24</td>\n",
       "      <td>13.13</td>\n",
       "      <td>1.515</td>\n",
       "      <td>1 cup</td>\n",
       "      <td>1047</td>\n",
       "      <td>-</td>\n",
       "      <td>9</td>\n",
       "      <td>8</td>\n",
       "    </tr>\n",
       "    <tr>\n",
       "      <th>2</th>\n",
       "      <td>Baked Beans with Franks</td>\n",
       "      <td>Beans &amp; Legumes</td>\n",
       "      <td>NaN</td>\n",
       "      <td>Baked Beans</td>\n",
       "      <td>12</td>\n",
       "      <td>368.0</td>\n",
       "      <td>39.86</td>\n",
       "      <td>16</td>\n",
       "      <td>17.02</td>\n",
       "      <td>17.9</td>\n",
       "      <td>25</td>\n",
       "      <td>17.48</td>\n",
       "      <td>6.092</td>\n",
       "      <td>1 cup</td>\n",
       "      <td>1114</td>\n",
       "      <td>16.91</td>\n",
       "      <td>4</td>\n",
       "      <td>10</td>\n",
       "    </tr>\n",
       "    <tr>\n",
       "      <th>3</th>\n",
       "      <td>Baked Beans with Beef</td>\n",
       "      <td>Beans &amp; Legumes</td>\n",
       "      <td>NaN</td>\n",
       "      <td>Baked Beans</td>\n",
       "      <td>12</td>\n",
       "      <td>322.0</td>\n",
       "      <td>44.98</td>\n",
       "      <td>59</td>\n",
       "      <td>9.18</td>\n",
       "      <td>-</td>\n",
       "      <td>24</td>\n",
       "      <td>16.97</td>\n",
       "      <td>4.461</td>\n",
       "      <td>1 cup</td>\n",
       "      <td>1264</td>\n",
       "      <td>-</td>\n",
       "      <td>11</td>\n",
       "      <td>8</td>\n",
       "    </tr>\n",
       "    <tr>\n",
       "      <th>4</th>\n",
       "      <td>Baked Beans with Pork and Sweet Sauce</td>\n",
       "      <td>Beans &amp; Legumes</td>\n",
       "      <td>NaN</td>\n",
       "      <td>Baked Beans</td>\n",
       "      <td>15</td>\n",
       "      <td>283.0</td>\n",
       "      <td>53.43</td>\n",
       "      <td>18</td>\n",
       "      <td>3.64</td>\n",
       "      <td>10.6</td>\n",
       "      <td>23</td>\n",
       "      <td>13.38</td>\n",
       "      <td>1.27</td>\n",
       "      <td>1 cup</td>\n",
       "      <td>845</td>\n",
       "      <td>21.66</td>\n",
       "      <td>0</td>\n",
       "      <td>12</td>\n",
       "    </tr>\n",
       "  </tbody>\n",
       "</table>\n",
       "</div>"
      ],
      "text/plain": [
       "                                    food       food_group food_label  \\\n",
       "0        Plain or Vegetarian Baked Beans  Beans & Legumes        NaN   \n",
       "1                  Baked Beans with Pork  Beans & Legumes        NaN   \n",
       "2                Baked Beans with Franks  Beans & Legumes        NaN   \n",
       "3                  Baked Beans with Beef  Beans & Legumes        NaN   \n",
       "4  Baked Beans with Pork and Sweet Sauce  Beans & Legumes        NaN   \n",
       "\n",
       "  food_sub_group calcium_perc  calories  carb_g cholesterol_mg  fat_g fiber_g  \\\n",
       "0    Baked Beans            9     239.0   53.70              0   0.94    10.4   \n",
       "1    Baked Beans           13     268.0   50.55             18   3.92    13.9   \n",
       "2    Baked Beans           12     368.0   39.86             16  17.02    17.9   \n",
       "3    Baked Beans           12     322.0   44.98             59   9.18       -   \n",
       "4    Baked Beans           15     283.0   53.43             18   3.64    10.6   \n",
       "\n",
       "  iron_perc  protein saturated_fat_g serving_size sodium_mg sugar_g  \\\n",
       "0        17    12.06           0.224        1 cup       856   22.96   \n",
       "1        24    13.13           1.515        1 cup      1047       -   \n",
       "2        25    17.48           6.092        1 cup      1114   16.91   \n",
       "3        24    16.97           4.461        1 cup      1264       -   \n",
       "4        23    13.38            1.27        1 cup       845   21.66   \n",
       "\n",
       "  vit_a_perc vit_c_perc  \n",
       "0          5          0  \n",
       "1          9          8  \n",
       "2          4         10  \n",
       "3         11          8  \n",
       "4          0         12  "
      ]
     },
     "execution_count": 4,
     "metadata": {},
     "output_type": "execute_result"
    }
   ],
   "source": [
    "fs_tags.head()"
   ]
  },
  {
   "cell_type": "markdown",
   "metadata": {},
   "source": [
    "Perform Like To Like Transformation From FS Food Groups to USDA Food Groups"
   ]
  },
  {
   "cell_type": "code",
   "execution_count": 13,
   "metadata": {
    "collapsed": true
   },
   "outputs": [],
   "source": [
    "fs_grps = fs_tags['food_group'].unique()\n",
    "fs_sub_grps = fs_tags['food_sub_group'].unique()"
   ]
  },
  {
   "cell_type": "code",
   "execution_count": 22,
   "metadata": {
    "collapsed": false
   },
   "outputs": [
    {
     "name": "stderr",
     "output_type": "stream",
     "text": [
      "C:\\ProgramData\\Anaconda3\\lib\\site-packages\\ipykernel\\__main__.py:1: VisibleDeprecationWarning: using a non-integer number instead of an integer will result in an error in the future\n",
      "  if __name__ == '__main__':\n"
     ]
    },
    {
     "ename": "IndexError",
     "evalue": "only integers, slices (`:`), ellipsis (`...`), numpy.newaxis (`None`) and integer or boolean arrays are valid indices",
     "output_type": "error",
     "traceback": [
      "\u001b[0;31m---------------------------------------------------------------------------\u001b[0m",
      "\u001b[0;31mIndexError\u001b[0m                                Traceback (most recent call last)",
      "\u001b[0;32m<ipython-input-22-aaa5f1bb18d9>\u001b[0m in \u001b[0;36m<module>\u001b[0;34m()\u001b[0m\n\u001b[0;32m----> 1\u001b[0;31m \u001b[0mfs_grps_on\u001b[0m \u001b[1;33m=\u001b[0m \u001b[0mfs_grps\u001b[0m\u001b[1;33m[\u001b[0m\u001b[1;34m'food_group'\u001b[0m\u001b[1;33m,\u001b[0m \u001b[1;34m'food_sub_group'\u001b[0m\u001b[1;33m]\u001b[0m\u001b[1;33m\u001b[0m\u001b[0m\n\u001b[0m",
      "\u001b[0;31mIndexError\u001b[0m: only integers, slices (`:`), ellipsis (`...`), numpy.newaxis (`None`) and integer or boolean arrays are valid indices"
     ]
    }
   ],
   "source": [
    "fs_grps_on = fs_grps['food_group', 'food_sub_group']"
   ]
  },
  {
   "cell_type": "code",
   "execution_count": 21,
   "metadata": {
    "collapsed": false
   },
   "outputs": [
    {
     "name": "stderr",
     "output_type": "stream",
     "text": [
      "C:\\ProgramData\\Anaconda3\\lib\\site-packages\\ipykernel\\__main__.py:1: VisibleDeprecationWarning: using a non-integer number instead of an integer will result in an error in the future\n",
      "  if __name__ == '__main__':\n"
     ]
    },
    {
     "ename": "IndexError",
     "evalue": "only integers, slices (`:`), ellipsis (`...`), numpy.newaxis (`None`) and integer or boolean arrays are valid indices",
     "output_type": "error",
     "traceback": [
      "\u001b[0;31m---------------------------------------------------------------------------\u001b[0m",
      "\u001b[0;31mIndexError\u001b[0m                                Traceback (most recent call last)",
      "\u001b[0;32m<ipython-input-21-d26bcfd2bf01>\u001b[0m in \u001b[0;36m<module>\u001b[0;34m()\u001b[0m\n\u001b[0;32m----> 1\u001b[0;31m \u001b[0mfs_grps_df\u001b[0m \u001b[1;33m=\u001b[0m \u001b[0mfs_grps\u001b[0m\u001b[1;33m[\u001b[0m\u001b[1;34m'food_group'\u001b[0m\u001b[1;33m,\u001b[0m \u001b[1;34m'food_sub_group'\u001b[0m\u001b[1;33m]\u001b[0m\u001b[1;33m.\u001b[0m\u001b[0mdrop_duplicates\u001b[0m\u001b[1;33m(\u001b[0m\u001b[1;33m)\u001b[0m\u001b[1;33m\u001b[0m\u001b[0m\n\u001b[0m",
      "\u001b[0;31mIndexError\u001b[0m: only integers, slices (`:`), ellipsis (`...`), numpy.newaxis (`None`) and integer or boolean arrays are valid indices"
     ]
    }
   ],
   "source": [
    "fs_grps_df = fs_grps['food_group', 'food_sub_group'].drop_duplicates()"
   ]
  },
  {
   "cell_type": "code",
   "execution_count": 6,
   "metadata": {
    "collapsed": false
   },
   "outputs": [
    {
     "data": {
      "text/plain": [
       "array(['Beans & Legumes', 'Beverages', 'Breads & Cereals',\n",
       "       'Cheese, Milk & Dairy', 'Eggs', 'Fast Food', 'Fish & Seafood',\n",
       "       'Fruit', 'Meat', 'Nuts & Seeds', 'Pasta, Rice & Noodles', 'Salads',\n",
       "       'Sauces, Spices & Spreads', 'Snacks', 'Soups',\n",
       "       'Sweets, Candy & Desserts', 'Vegetables', 'Other'], dtype=object)"
      ]
     },
     "execution_count": 6,
     "metadata": {},
     "output_type": "execute_result"
    }
   ],
   "source": [
    "fs_grps"
   ]
  },
  {
   "cell_type": "code",
   "execution_count": 14,
   "metadata": {
    "collapsed": false
   },
   "outputs": [
    {
     "data": {
      "text/plain": [
       "array(['Baked Beans', 'Beans', 'Black Beans', 'Chickpeas', 'Green Beans',\n",
       "       'Kidney Beans', 'Lentils', 'Lima Beans', 'Pinto Beans', 'Quinoa',\n",
       "       'Refried Beans', 'Tofu', 'Alcohol', 'Apple Juice', 'Beer',\n",
       "       'Cappuccino', 'Chocolate Milk', 'Cocktails', 'Cocoa', 'Coffee',\n",
       "       'Cranberry Juice', 'Drink Mixes', 'Energy Drinks', 'Fruit Punch',\n",
       "       'Ice Cream Sodas', 'Iced Coffee', 'Iced Tea', 'Juice', 'Latte',\n",
       "       'Lemonade', 'Milk Shakes', 'Orange Juice', 'Red Wine', 'Root Beer',\n",
       "       'Smoothies', 'Sodas', 'Soy Milk', 'Tea', 'Vegetable Juice', 'Vodka',\n",
       "       'Water', 'White Wine', 'Wine', 'Bagels', 'Biscuits', 'Bread',\n",
       "       'Breadsticks', 'Buns', 'Cereal', 'Cornbread', 'Croissants',\n",
       "       'English Muffins', 'Flatbread', 'Focaccia', 'Garlic Bread',\n",
       "       'Granola', 'Muesli', 'Multigrain Bread', 'Naan', 'Oatmeal', 'Oats',\n",
       "       'Pita Bread', 'Potato Bread', 'Raisin Bread', 'Rolls', 'Rye Bread',\n",
       "       'Scones', 'Sourdough Bread', 'Toast', 'Tortillas', 'Wheat Bread',\n",
       "       'White Bread', 'Whole Wheat Bread', 'Wraps', 'American Cheese',\n",
       "       'Blue Cheese', 'Brie Cheese', 'Butter', 'Buttermilk',\n",
       "       'Camembert Cheese', 'Cheddar Cheese', 'Cheese', 'Colby Cheese',\n",
       "       'Cottage Cheese', 'Cream', 'Cream Cheese', 'Feta Cheese',\n",
       "       \"Goat's Cheese\", 'Gorgonzola Cheese', 'Gouda Cheese', 'Half & Half',\n",
       "       'Havarti Cheese', 'Margarine', 'Mexican Cheese', 'Milk',\n",
       "       'Mozzarella Cheese', 'Muenster Cheese', 'Parmesan Cheese',\n",
       "       'Provolone Cheese', 'Ricotta Cheese', 'Romano Cheese', 'Skim Milk',\n",
       "       'Sour Cream', 'String Cheese', 'Swiss Cheese', 'Yogurt',\n",
       "       'Egg Whites', 'Egg Yolks', 'Eggs', 'Fried Eggs', 'Hard Boiled Eggs',\n",
       "       'Omelets', 'Poached Eggs', 'Scrambled Eggs', 'Burgers', 'Burritos',\n",
       "       'Calzones', 'Cheese Pizza', 'Cheeseburgers', 'Chicken Nuggets',\n",
       "       'Curries', 'Enchiladas', 'Fajitas', 'French Fries', 'Hamburgers',\n",
       "       'Hash Browns', 'Hot Dogs', 'Nachos', 'Onion Rings',\n",
       "       'Pepperoni Pizza', 'Pizza', 'Quesadillas', 'Tacos', 'Tostadas',\n",
       "       'Veggie Burgers', 'Anchovies', 'Calamari', 'Carp', 'Catfish',\n",
       "       'Clams', 'Cod', 'Crab', 'Crawfish', 'Eel', 'Fish', 'Flounder',\n",
       "       'Haddock', 'Halibut', 'Herring', 'Lobster', 'Mackerel', 'Mahi Mahi',\n",
       "       'Mussels', 'Octopus', 'Oysters', 'Salmon', 'Sardines', 'Scallops',\n",
       "       'Seafood', 'Shrimp', 'Smoked Salmon', 'Snapper', 'Squid',\n",
       "       'Swordfish', 'Tilapia', 'Trout', 'Tuna', 'Apples', 'Apricots',\n",
       "       'Avocados', 'Bananas', 'Berries', 'Blackberries', 'Blueberries',\n",
       "       'Cantaloupe', 'Cherries', 'Coconuts', 'Cranberries', 'Dates',\n",
       "       'Dried Fruit', 'Figs', 'Fruit Salad', 'Grapefruits', 'Grapes',\n",
       "       'Honeydew Melons', 'Kiwifruit', 'Litchis', 'Mandarin Oranges',\n",
       "       'Mangos', 'Melons', 'Nectarines', 'Oranges', 'Papayas', 'Peaches',\n",
       "       'Pears', 'Pineapples', 'Plums', 'Prunes', 'Raisins', 'Raspberries',\n",
       "       'Strawberries', 'Watermelons', 'Bacon', 'Beef', 'Bologna',\n",
       "       'Brisket', 'Chicken', 'Chicken Breast', 'Chicken Drumsticks',\n",
       "       'Chicken Thighs', 'Chicken Wings', 'Corned Beef', 'Duck',\n",
       "       'Fried Chicken', 'Grilled Chicken', 'Ground Beef', 'Ground Chicken',\n",
       "       'Ground Pork', 'Ground Turkey', 'Ham', 'Lamb', 'Lamb Chops',\n",
       "       'Meatballs', 'Meatloaf', 'Pastrami', 'Pepperoni', 'Pork',\n",
       "       'Pork Chops', 'Ribs', 'Roast Beef', 'Roast Chicken', 'Roast Pork',\n",
       "       'Roast Turkey', 'Salami', 'Sausages', 'Steak', 'Turkey',\n",
       "       'Turkey Bacon', 'Turkey Breast', 'Veal', 'Almonds', 'Brazil Nuts',\n",
       "       'Cashews', 'Chestnuts', 'Macadamia Nuts', 'Mixed Nuts', 'Nuts',\n",
       "       'Peanuts', 'Pecans', 'Pine Nuts', 'Pistachios', 'Seeds', 'Soy Nuts',\n",
       "       'Sunflower Seeds', 'Walnuts', 'Brown Rice', 'Couscous',\n",
       "       'Fried Rice', 'Gnocchi', 'Jambalaya', 'Lasagna', 'Macaroni',\n",
       "       'Macaroni and Cheese', 'Noodles', 'Paella', 'Pasta', 'Pilaf',\n",
       "       'Polenta', 'Ravioli', 'Rice', 'Risotto', 'Spaghetti', 'Tortellini',\n",
       "       'White Rice', 'Wild Rice', 'Caesar Salad', 'Chicken Salad',\n",
       "       'Coleslaw', 'Egg Salad', 'Garden Salad', 'Greek Salad',\n",
       "       'Pasta Salad', 'Potato Salad', 'Salads', 'Taco Salad', 'Tuna Salad',\n",
       "       'Applesauce', 'Barbecue Sauce', 'Caesar Dressing', 'Chutney',\n",
       "       'Dips', 'French Dressing', 'Gravy', 'Guacamole', 'Honey', 'Hummus',\n",
       "       'Italian Dressing', 'Jams', 'Ketchup', 'Maple Syrup', 'Mayonnaise',\n",
       "       'Mustard', 'Olive Oil', 'Pasta Sauce', 'Peanut Butter', 'Pepper',\n",
       "       'Ranch Dressing', 'Relish', 'Salad Dressing', 'Salsa', 'Salt',\n",
       "       'Sauces', 'Seasoning', 'Soy Sauce', 'Sugar', 'Sweetener', 'Syrup',\n",
       "       'Tahini', 'Teriyaki Sauce', 'Vegetable Oil', 'Vinaigrette',\n",
       "       'Vinegar', 'Cereal Bars', 'Chips', 'Corn Chips', 'Crackers',\n",
       "       'Crispbread', 'Granola Bars', 'Gum', 'Jerky', 'Nutrition Bars',\n",
       "       'Popcorn', 'Potato Chips', 'Pretzels', 'Rice Cakes', 'Sandwiches',\n",
       "       'Sushi', 'Tortilla Chips', 'Trail Mix', 'Bisque', 'Broth',\n",
       "       'Chicken Soup', 'Chili', 'Chowders', 'Gumbo', 'Miso Soup',\n",
       "       'Noodle Soup', 'Soups', 'Stews', 'Tomato Soup', 'Brownies', 'Cakes',\n",
       "       'Candies', 'Cheesecake', 'Chocolate', 'Cookies', 'Crepes',\n",
       "       'Cupcakes', 'Custard', 'Dark Chocolate', 'Donuts', 'Frozen Yogurt',\n",
       "       'Fudge', 'Ice Cream Cones', 'Ice Creams', 'Ice Pop', 'Licorice',\n",
       "       'Marshmallows', 'Muffins', 'Pancakes', 'Pastries', 'Pies',\n",
       "       'Puddings', 'Soft Serve Ice Creams', 'Sorbet', 'Souffle',\n",
       "       'Strudels', 'Sundaes', 'Sweet Rolls', 'Wafers', 'Waffles',\n",
       "       'Artichokes', 'Asparagus', 'Baby Carrots', 'Baked Potatoes',\n",
       "       'Beets', 'Broccoli', 'Brussels Sprouts', 'Cabbage', 'Carrots',\n",
       "       'Cauliflower', 'Celery', 'Cherry Tomatoes', 'Corn',\n",
       "       'Corn on the Cob', 'Cucumbers', 'Edamame', 'Eggplant', 'Garlic',\n",
       "       'Green Peas', 'Jalapenos', 'Kale', 'Leeks', 'Lettuce',\n",
       "       'Mashed Potatoes', 'Mixed Vegetables', 'Mushrooms', 'Okra',\n",
       "       'Olives', 'Onions', 'Parsnips', 'Peas', 'Peppers', 'Pickles',\n",
       "       'Potatoes', 'Pumpkins', 'Radishes', 'Spinach', 'Squash',\n",
       "       'Succotash', 'Sweet Potato', 'Tomatoes', 'Turnips', 'Yam',\n",
       "       'Zucchini', 'Alfalfa', 'Almond Butter', 'Almond Milk',\n",
       "       'Apple Cider', 'Apple Pie', 'Barley', 'Beverages', 'Bison',\n",
       "       'Blueberry Pie', 'Bread Crumbs', 'Breakfast Items', 'Brown Sugar',\n",
       "       'Bulgur', 'Capers', 'Carrot Cake', 'Casseroles', 'Challah',\n",
       "       'Champagne', 'Cherry Pie', 'Chilaquiles', 'Chimichangas',\n",
       "       'Chocolate Cake', 'Chocolate Chip Cookies', 'Chow Mein', 'Cobbler',\n",
       "       'Coffee Creamer', 'Collards', 'Corn Dogs', 'Cornmeal', 'Croutons',\n",
       "       'Desserts', 'Dumplings', 'Egg Rolls', 'Eggnog', 'Empanadas',\n",
       "       'Falafel', 'Fish Oil', 'Flour', 'French Toast', 'Fritters',\n",
       "       'Frostings', 'Frozen Drinks', 'Fruit', 'Fruit Cocktail', 'Gelatin',\n",
       "       'Goulash', 'Grape Juice', 'Grapefruit Juice', 'Grits', 'Gyros',\n",
       "       'Hominy', 'Horseradish', 'Hot Chocolate', 'Lo Mein', 'Malt Drinks',\n",
       "       'Meatless Foods', 'Melt Sandwiches', 'Mousse', 'Nectar', 'Nougat',\n",
       "       'Nutrition Drinks', 'Pate', 'Pecan Pie', 'Pie Crust', 'Pot Pies',\n",
       "       'Potato Skins', 'Protein Powder', 'Quiche', 'Raisin Bran',\n",
       "       'Red Potatoes', 'Rice Noodles', 'Roasted Potatoes', 'Rum',\n",
       "       'Samosas', 'Sandwich Cookies', 'Sauerkraut', 'Seaweed', 'Shallots',\n",
       "       'Sherbet', 'Sides', 'Snacks', 'Snow Peas', 'Soy Yogurt', 'Spreads',\n",
       "       'Spring Rolls', 'Stir Frys', 'Stuffing', 'Sun-Dried Tomatoes',\n",
       "       'Supplements', 'Tabouli', 'Taco Shells', 'Tamales', 'Taquitos',\n",
       "       'Tempeh', 'Tempura', 'Toppings', 'Turnover', 'Vegetables',\n",
       "       'Water Chestnuts'], dtype=object)"
      ]
     },
     "execution_count": 14,
     "metadata": {},
     "output_type": "execute_result"
    }
   ],
   "source": [
    "fs_sub_grps"
   ]
  },
  {
   "cell_type": "code",
   "execution_count": 9,
   "metadata": {
    "collapsed": true
   },
   "outputs": [],
   "source": [
    "usda_sub_grps =fd_grps['Subgroup'].unique()"
   ]
  },
  {
   "cell_type": "code",
   "execution_count": 11,
   "metadata": {
    "collapsed": false
   },
   "outputs": [
    {
     "data": {
      "text/plain": [
       "array(['Whole Fruit', 'Fruit Juice', 'Dark Green Vegetables', 'Legumes',\n",
       "       'Red and Orange Vegetables', 'Starchy Vegetables',\n",
       "       'Other Vegetables', 'Whole Grain', 'Refined Grains', 'Milk',\n",
       "       'Yogurt', 'Cheese', 'Soymilk', 'Eggs', 'High Omega-3 Fish',\n",
       "       'Low Omega-3 Fish', 'Nuts and Seeds', 'Poultry', 'Red Meats',\n",
       "       'Processed Soy Products', 'Oils', 'Solid Fats'], dtype=object)"
      ]
     },
     "execution_count": 11,
     "metadata": {},
     "output_type": "execute_result"
    }
   ],
   "source": [
    "usda_sub_grps"
   ]
  },
  {
   "cell_type": "markdown",
   "metadata": {},
   "source": [
    "## Food Group Classifier\n",
    "\n",
    "Features:\n",
    "1. One-hot encoded tokenized words from food description\n",
    "2. One-hot encoded tokenized bi-grams from food description\n",
    "3. All nutritional information\n",
    "4. Word vector of food desription\n",
    "5. Fuzzy-match score of string similarity to major food words\n",
    "\n",
    "Steps:\n",
    "1. Cluster on nutritional info to find likely groups\n",
    "2. K-nearest neighbors on nutritional info as tag/food group classification\n",
    "3. More intricate food classifier algorithms"
   ]
  },
  {
   "cell_type": "markdown",
   "metadata": {},
   "source": [
    "### Tokenizing and Phrasing Food Description "
   ]
  },
  {
   "cell_type": "markdown",
   "metadata": {},
   "source": [
    "1. Tokenize\n",
    "2. 2-gram phrases\n",
    "3. Remove brand tokens or bi-gram\n",
    "4. TF/IDF of each token or big-gram\n",
    "5. Create a word vector for each description\n",
    "6. One-hot encode since this is a finite dictionary"
   ]
  },
  {
   "cell_type": "code",
   "execution_count": 6,
   "metadata": {
    "collapsed": false
   },
   "outputs": [
    {
     "data": {
      "text/plain": [
       "235133                         AARDVARK HABENERO HOT SAUCE,\n",
       "235134            AARON'S BEST, OVEN ROASTED TURKEY BREAST,\n",
       "235135    A&B AMERICAN STYLE, MORE HEAT SMALL BATCH PEPP...\n",
       "235136            A&B AMERICAN STYLE, ORGANIC PEPPER SAUCE,\n",
       "235137            A&B AMERICAN STYLE, PEPPER SAUCE, GARLIC,\n",
       "Name: food_description, dtype: object"
      ]
     },
     "execution_count": 6,
     "metadata": {},
     "output_type": "execute_result"
    }
   ],
   "source": [
    "df.food_description[df.source=='usda_branded'][0:5]"
   ]
  },
  {
   "cell_type": "markdown",
   "metadata": {},
   "source": [
    "These descriptions often contain the brand of the item, which is going to be less relevant to the meaning wanted out of the word vector exercise"
   ]
  },
  {
   "cell_type": "code",
   "execution_count": 7,
   "metadata": {
    "collapsed": false
   },
   "outputs": [
    {
     "data": {
      "text/html": [
       "<div>\n",
       "<table border=\"1\" class=\"dataframe\">\n",
       "  <thead>\n",
       "    <tr style=\"text-align: right;\">\n",
       "      <th></th>\n",
       "      <th>food_description</th>\n",
       "      <th>brand</th>\n",
       "    </tr>\n",
       "  </thead>\n",
       "  <tbody>\n",
       "    <tr>\n",
       "      <th>235133</th>\n",
       "      <td>AARDVARK HABENERO HOT SAUCE,</td>\n",
       "      <td>Secret Aardvark Trading Company</td>\n",
       "    </tr>\n",
       "    <tr>\n",
       "      <th>235134</th>\n",
       "      <td>AARON'S BEST, OVEN ROASTED TURKEY BREAST,</td>\n",
       "      <td>Agri Star Meat &amp; Poultry LLC</td>\n",
       "    </tr>\n",
       "    <tr>\n",
       "      <th>235135</th>\n",
       "      <td>A&amp;B AMERICAN STYLE, MORE HEAT SMALL BATCH PEPP...</td>\n",
       "      <td>A &amp; B AMERICAN STYLE LLC</td>\n",
       "    </tr>\n",
       "    <tr>\n",
       "      <th>235136</th>\n",
       "      <td>A&amp;B AMERICAN STYLE, ORGANIC PEPPER SAUCE,</td>\n",
       "      <td>A &amp; B AMERICAN STYLE LLC</td>\n",
       "    </tr>\n",
       "    <tr>\n",
       "      <th>235137</th>\n",
       "      <td>A&amp;B AMERICAN STYLE, PEPPER SAUCE, GARLIC,</td>\n",
       "      <td>Namaste Foods</td>\n",
       "    </tr>\n",
       "    <tr>\n",
       "      <th>235138</th>\n",
       "      <td>A&amp;B AMERICAN STYLE, SMALL BATCH PEPPER SAUCE, ...</td>\n",
       "      <td>A &amp; B AMERICAN STYLE LLC</td>\n",
       "    </tr>\n",
       "    <tr>\n",
       "      <th>235139</th>\n",
       "      <td>A. BAUER'S, PREPARED MUSTARD,</td>\n",
       "      <td>August Bauer's Sons Inc.</td>\n",
       "    </tr>\n",
       "    <tr>\n",
       "      <th>235140</th>\n",
       "      <td>ABBA-ZABA, SNACK SIZE BITES CANDY,</td>\n",
       "      <td>Annabelle Candy Co., Inc.</td>\n",
       "    </tr>\n",
       "    <tr>\n",
       "      <th>235141</th>\n",
       "      <td>ABBA-ZABA'S, TAFFY, WILD STRAWBERRY, SOUR,</td>\n",
       "      <td>Annabelle Candy Co., Inc.</td>\n",
       "    </tr>\n",
       "    <tr>\n",
       "      <th>235142</th>\n",
       "      <td>ABBEY FARM, RHUBARB &amp; GINGER PRESERVE,</td>\n",
       "      <td>Bewley Irish Imports</td>\n",
       "    </tr>\n",
       "    <tr>\n",
       "      <th>235143</th>\n",
       "      <td>ABBOTSFORD FARMS, CAGE FREE 100% LIQUID EGG WH...</td>\n",
       "      <td>Milton G. Waldbaum Company</td>\n",
       "    </tr>\n",
       "    <tr>\n",
       "      <th>235144</th>\n",
       "      <td>ABBOTT, EAS, ADVANTEDGE CARB CONTROL SHAKES, C...</td>\n",
       "      <td>Ross Products Division</td>\n",
       "    </tr>\n",
       "    <tr>\n",
       "      <th>235145</th>\n",
       "      <td>ABBOTT, EAS, ADVANTEDGE CARB CONTROL SHAKES, C...</td>\n",
       "      <td>Ross Products Division</td>\n",
       "    </tr>\n",
       "    <tr>\n",
       "      <th>235146</th>\n",
       "      <td>ABBOTT, EAS, ADVANT EDGE PURE MILK PROTEIN SHA...</td>\n",
       "      <td>Ross Products Division</td>\n",
       "    </tr>\n",
       "    <tr>\n",
       "      <th>235147</th>\n",
       "      <td>ABC, JELLY SNACK, TARO,</td>\n",
       "      <td>TSANG LIN INDUSTRIES CORPORATION.</td>\n",
       "    </tr>\n",
       "  </tbody>\n",
       "</table>\n",
       "</div>"
      ],
      "text/plain": [
       "                                         food_description  \\\n",
       "235133                       AARDVARK HABENERO HOT SAUCE,   \n",
       "235134          AARON'S BEST, OVEN ROASTED TURKEY BREAST,   \n",
       "235135  A&B AMERICAN STYLE, MORE HEAT SMALL BATCH PEPP...   \n",
       "235136          A&B AMERICAN STYLE, ORGANIC PEPPER SAUCE,   \n",
       "235137          A&B AMERICAN STYLE, PEPPER SAUCE, GARLIC,   \n",
       "235138  A&B AMERICAN STYLE, SMALL BATCH PEPPER SAUCE, ...   \n",
       "235139                      A. BAUER'S, PREPARED MUSTARD,   \n",
       "235140                 ABBA-ZABA, SNACK SIZE BITES CANDY,   \n",
       "235141         ABBA-ZABA'S, TAFFY, WILD STRAWBERRY, SOUR,   \n",
       "235142             ABBEY FARM, RHUBARB & GINGER PRESERVE,   \n",
       "235143  ABBOTSFORD FARMS, CAGE FREE 100% LIQUID EGG WH...   \n",
       "235144  ABBOTT, EAS, ADVANTEDGE CARB CONTROL SHAKES, C...   \n",
       "235145  ABBOTT, EAS, ADVANTEDGE CARB CONTROL SHAKES, C...   \n",
       "235146  ABBOTT, EAS, ADVANT EDGE PURE MILK PROTEIN SHA...   \n",
       "235147                            ABC, JELLY SNACK, TARO,   \n",
       "\n",
       "                                    brand  \n",
       "235133    Secret Aardvark Trading Company  \n",
       "235134       Agri Star Meat & Poultry LLC  \n",
       "235135           A & B AMERICAN STYLE LLC  \n",
       "235136           A & B AMERICAN STYLE LLC  \n",
       "235137                      Namaste Foods  \n",
       "235138           A & B AMERICAN STYLE LLC  \n",
       "235139           August Bauer's Sons Inc.  \n",
       "235140          Annabelle Candy Co., Inc.  \n",
       "235141          Annabelle Candy Co., Inc.  \n",
       "235142               Bewley Irish Imports  \n",
       "235143         Milton G. Waldbaum Company  \n",
       "235144             Ross Products Division  \n",
       "235145             Ross Products Division  \n",
       "235146             Ross Products Division  \n",
       "235147  TSANG LIN INDUSTRIES CORPORATION.  "
      ]
     },
     "execution_count": 7,
     "metadata": {},
     "output_type": "execute_result"
    }
   ],
   "source": [
    "df[['food_description', 'brand']][df.source=='usda_branded'][0:15]"
   ]
  },
  {
   "cell_type": "markdown",
   "metadata": {},
   "source": [
    "Unhelpful! Some brands are nicely embedded in the food description, seperated by a comma. Others contain only a part of the brand name in the product description (such as Secret Aardvark Trading Company's Aardvark Habenero Hot Sauce). But a fuzzy match on the brand name within a food description would likely also strip away helpful words like 'Candy' or 'Beverage'. \n",
    "\n",
    "So ultimately it doesn't look like there are helpful transformations for this subset"
   ]
  },
  {
   "cell_type": "code",
   "execution_count": 19,
   "metadata": {
    "collapsed": false
   },
   "outputs": [
    {
     "data": {
      "text/plain": [
       "400000                         PREMIUM MEATS & CHEESES,\n",
       "400001                         PREMIUM MEATS & CHEESES,\n",
       "400002                      PREMIUM MILK CHOCOLATE BAR,\n",
       "400003                                    PREMIUM MILK,\n",
       "400004                         PREMIUM MEATS & CHEESES,\n",
       "400005                         PREMIUM MEATS & CHEESES,\n",
       "400006       PREMIUM MEATS HONEY ROASTED TURKEY BREAST,\n",
       "400007       PREMIUM MEATS HONEY ROASTED TURKEY BREAST,\n",
       "400008                              PREMIUM MEAT SNACK,\n",
       "400009        PREMIUM MEATS OVEN ROASTED TURKEY BREAST,\n",
       "400010                                   PREMIUM MEATS,\n",
       "400011         PREMIUM MEDITERRANEAN STYLE FETA CHEESE,\n",
       "400012                           PREMIUM MEDIUM RELISH,\n",
       "400013                       PREMIUM MERLOT WINE JELLY,\n",
       "400014                     PREMIUM MEYER ROLLED WAFERS,\n",
       "400015                       PREMIUM MICROWAVE POPCORN,\n",
       "400016                          PREMIUM MILD BBQ SAUCE,\n",
       "400017                                   SELTZER WATER,\n",
       "400018                      PREMIUM MILK CHOCOLATE BAR,\n",
       "400019                     PREMIUM MILK CHOCOLATE EGGS,\n",
       "400020         PREMIUM MILK CHOCOLATE SEA SALT CARAMEL,\n",
       "400021                          PREMIUM MILK CHOCOLATE,\n",
       "400022                          PREMIUM MILK CHOCOLATE,\n",
       "400023                          PREMIUM MILK CHOCOLATE,\n",
       "400024                          PREMIUM MILK CHOCOLATE,\n",
       "400025                          PREMIUM MILK CHOCOLATE,\n",
       "400026                          PREMIUM MILK CHOCOLATE,\n",
       "400027                          PREMIUM MILK CHOCOLATE,\n",
       "400028                          PREMIUM MILK CHOCOLATE,\n",
       "400029                          PREMIUM MILK CHOCOLATE,\n",
       "                              ...                      \n",
       "400070                             PREMIUM NOODLE SOUP,\n",
       "400071                              PREMIUM OOLONG TEA,\n",
       "400072                            PREMIUM ORANGE JUICE,\n",
       "400073                             PREMIUM NOODLE SOUP,\n",
       "400074                             PREMIUM NOODLE SOUP,\n",
       "400075                           PREMIUM NO PULP JUICE,\n",
       "400076                PREMIUM NORTH ATLANTIC CRAB MEAT,\n",
       "400077             PREMIUM NUTRITIONAL YEAST SEASONING,\n",
       "400078                           PREMIUM NUTRITION BAR,\n",
       "400079        PREMIUM NUTS, SMOKEY ALMONDS BBQ PEANUTS,\n",
       "400080                                    PREMIUM NUTS,\n",
       "400081                    PREMIUM OCTOPUS IN OLIVE OIL,\n",
       "400082          PREMIUM 3-OIL BLEND FOOD RELEASE SPRAY,\n",
       "400083    PREMIUM OLD FASHIONED BUN-LENGTH BEEF FRANKS,\n",
       "400084                           PREMIUM ORANGE SLICES,\n",
       "400085                 PREMIUM OLD WEST BARBECUE SAUCE,\n",
       "400086                 PREMIUM OLD WEST BARBECUE SAUCE,\n",
       "400087                               PREMIUM OLIVE OIL,\n",
       "400088                              PREMIUM ONION BUNS,\n",
       "400089                             PREMIUM ONION ROLLS,\n",
       "400090                            PREMIUM ORANGE JUICE,\n",
       "400091                            PREMIUM ORANGE JUICE,\n",
       "400092                            PREMIUM ORANGE JUICE,\n",
       "400093                            PREMIUM ORANGE JUICE,\n",
       "400094                            PREMIUM ORANGE JUICE,\n",
       "400095                  PREMIUM ORANGE JUICE WITH PULP,\n",
       "400096            PREMIUM ORCHARD, CHILI LEMON PEANUTS,\n",
       "400097            PREMIUM ORCHARD, CHOCOLATE SNACK MIX,\n",
       "400098             PREMIUM ORCHARD, FANCY PECAN HALVES,\n",
       "400099             PREMIUM ORCHARD, GREEK YOGURT BLEND,\n",
       "Name: food_description, dtype: object"
      ]
     },
     "execution_count": 19,
     "metadata": {},
     "output_type": "execute_result"
    }
   ],
   "source": [
    "df.food_description[400000:400100]"
   ]
  },
  {
   "cell_type": "markdown",
   "metadata": {},
   "source": [
    "## Using Nutritional Information To Supplement Grouping\n",
    "\n",
    "1. Cluster items by nutritional profile. (k-means)\n",
    "2. Use distance from each group to help classify\n",
    "3. Use basic classification to predict food group according to self-labeled item"
   ]
  },
  {
   "cell_type": "code",
   "execution_count": null,
   "metadata": {
    "collapsed": true
   },
   "outputs": [],
   "source": []
  },
  {
   "cell_type": "markdown",
   "metadata": {},
   "source": [
    "## Part 2: Vector Space Modeling"
   ]
  },
  {
   "cell_type": "code",
   "execution_count": 5,
   "metadata": {
    "collapsed": false
   },
   "outputs": [
    {
     "name": "stderr",
     "output_type": "stream",
     "text": [
      "C:\\ProgramData\\Anaconda3\\lib\\site-packages\\gensim\\utils.py:1197: UserWarning: detected Windows; aliasing chunkize to chunkize_serial\n",
      "  warnings.warn(\"detected Windows; aliasing chunkize to chunkize_serial\")\n"
     ]
    }
   ],
   "source": [
    "import gensim"
   ]
  },
  {
   "cell_type": "markdown",
   "metadata": {},
   "source": [
    "Creating an baseline Word2Vec model with no negative sampling"
   ]
  },
  {
   "cell_type": "code",
   "execution_count": 6,
   "metadata": {
    "collapsed": true
   },
   "outputs": [],
   "source": [
    "text_8_path = 'C:/Users/J/Desktop/Businesses/Meal_Maker/Food Classifications/text8/text8'"
   ]
  },
  {
   "cell_type": "code",
   "execution_count": 7,
   "metadata": {
    "collapsed": true
   },
   "outputs": [],
   "source": [
    "text_8 = gensim.models.word2vec.Text8Corpus(text_8_path)"
   ]
  },
  {
   "cell_type": "code",
   "execution_count": 14,
   "metadata": {
    "collapsed": false
   },
   "outputs": [],
   "source": [
    "phrases = gensim.models.phrases.Phrases(text_8)"
   ]
  },
  {
   "cell_type": "code",
   "execution_count": 15,
   "metadata": {
    "collapsed": false
   },
   "outputs": [
    {
     "name": "stderr",
     "output_type": "stream",
     "text": [
      "C:\\ProgramData\\Anaconda3\\lib\\site-packages\\gensim\\models\\phrases.py:494: UserWarning: For a faster implementation, use the gensim.models.phrases.Phraser class\n",
      "  warnings.warn(\"For a faster implementation, use the gensim.models.phrases.Phraser class\")\n"
     ]
    },
    {
     "ename": "TypeError",
     "evalue": "'int' object is not iterable",
     "output_type": "error",
     "traceback": [
      "\u001b[0;31m---------------------------------------------------------------------------\u001b[0m",
      "\u001b[0;31mTypeError\u001b[0m                                 Traceback (most recent call last)",
      "\u001b[0;32m<ipython-input-15-d1461c1619d4>\u001b[0m in \u001b[0;36m<module>\u001b[0;34m()\u001b[0m\n\u001b[0;32m----> 1\u001b[0;31m \u001b[0mfood_phrases\u001b[0m \u001b[1;33m=\u001b[0m \u001b[0mgensim\u001b[0m\u001b[1;33m.\u001b[0m\u001b[0mmodels\u001b[0m\u001b[1;33m.\u001b[0m\u001b[0mWord2Vec\u001b[0m\u001b[1;33m(\u001b[0m\u001b[0mphrases\u001b[0m\u001b[1;33m)\u001b[0m\u001b[1;33m\u001b[0m\u001b[0m\n\u001b[0m",
      "\u001b[0;32mC:\\ProgramData\\Anaconda3\\lib\\site-packages\\gensim\\models\\word2vec.py\u001b[0m in \u001b[0;36m__init__\u001b[0;34m(self, sentences, size, alpha, window, min_count, max_vocab_size, sample, seed, workers, min_alpha, sg, hs, negative, cbow_mean, hashfxn, iter, null_word, trim_rule, sorted_vocab, batch_words, compute_loss, callbacks)\u001b[0m\n\u001b[1;32m    525\u001b[0m             \u001b[0mbatch_words\u001b[0m\u001b[1;33m=\u001b[0m\u001b[0mbatch_words\u001b[0m\u001b[1;33m,\u001b[0m \u001b[0mtrim_rule\u001b[0m\u001b[1;33m=\u001b[0m\u001b[0mtrim_rule\u001b[0m\u001b[1;33m,\u001b[0m \u001b[0msg\u001b[0m\u001b[1;33m=\u001b[0m\u001b[0msg\u001b[0m\u001b[1;33m,\u001b[0m \u001b[0malpha\u001b[0m\u001b[1;33m=\u001b[0m\u001b[0malpha\u001b[0m\u001b[1;33m,\u001b[0m \u001b[0mwindow\u001b[0m\u001b[1;33m=\u001b[0m\u001b[0mwindow\u001b[0m\u001b[1;33m,\u001b[0m \u001b[0mseed\u001b[0m\u001b[1;33m=\u001b[0m\u001b[0mseed\u001b[0m\u001b[1;33m,\u001b[0m\u001b[1;33m\u001b[0m\u001b[0m\n\u001b[1;32m    526\u001b[0m             \u001b[0mhs\u001b[0m\u001b[1;33m=\u001b[0m\u001b[0mhs\u001b[0m\u001b[1;33m,\u001b[0m \u001b[0mnegative\u001b[0m\u001b[1;33m=\u001b[0m\u001b[0mnegative\u001b[0m\u001b[1;33m,\u001b[0m \u001b[0mcbow_mean\u001b[0m\u001b[1;33m=\u001b[0m\u001b[0mcbow_mean\u001b[0m\u001b[1;33m,\u001b[0m \u001b[0mmin_alpha\u001b[0m\u001b[1;33m=\u001b[0m\u001b[0mmin_alpha\u001b[0m\u001b[1;33m,\u001b[0m \u001b[0mcompute_loss\u001b[0m\u001b[1;33m=\u001b[0m\u001b[0mcompute_loss\u001b[0m\u001b[1;33m,\u001b[0m\u001b[1;33m\u001b[0m\u001b[0m\n\u001b[0;32m--> 527\u001b[0;31m             fast_version=FAST_VERSION)\n\u001b[0m\u001b[1;32m    528\u001b[0m \u001b[1;33m\u001b[0m\u001b[0m\n\u001b[1;32m    529\u001b[0m     \u001b[1;32mdef\u001b[0m \u001b[0m_do_train_job\u001b[0m\u001b[1;33m(\u001b[0m\u001b[0mself\u001b[0m\u001b[1;33m,\u001b[0m \u001b[0msentences\u001b[0m\u001b[1;33m,\u001b[0m \u001b[0malpha\u001b[0m\u001b[1;33m,\u001b[0m \u001b[0minits\u001b[0m\u001b[1;33m)\u001b[0m\u001b[1;33m:\u001b[0m\u001b[1;33m\u001b[0m\u001b[0m\n",
      "\u001b[0;32mC:\\ProgramData\\Anaconda3\\lib\\site-packages\\gensim\\models\\base_any2vec.py\u001b[0m in \u001b[0;36m__init__\u001b[0;34m(self, sentences, workers, vector_size, epochs, callbacks, batch_words, trim_rule, sg, alpha, window, seed, hs, negative, cbow_mean, min_alpha, compute_loss, fast_version, **kwargs)\u001b[0m\n\u001b[1;32m    333\u001b[0m             \u001b[1;32mif\u001b[0m \u001b[0misinstance\u001b[0m\u001b[1;33m(\u001b[0m\u001b[0msentences\u001b[0m\u001b[1;33m,\u001b[0m \u001b[0mGeneratorType\u001b[0m\u001b[1;33m)\u001b[0m\u001b[1;33m:\u001b[0m\u001b[1;33m\u001b[0m\u001b[0m\n\u001b[1;32m    334\u001b[0m                 \u001b[1;32mraise\u001b[0m \u001b[0mTypeError\u001b[0m\u001b[1;33m(\u001b[0m\u001b[1;34m\"You can't pass a generator as the sentences argument. Try an iterator.\"\u001b[0m\u001b[1;33m)\u001b[0m\u001b[1;33m\u001b[0m\u001b[0m\n\u001b[0;32m--> 335\u001b[0;31m             \u001b[0mself\u001b[0m\u001b[1;33m.\u001b[0m\u001b[0mbuild_vocab\u001b[0m\u001b[1;33m(\u001b[0m\u001b[0msentences\u001b[0m\u001b[1;33m,\u001b[0m \u001b[0mtrim_rule\u001b[0m\u001b[1;33m=\u001b[0m\u001b[0mtrim_rule\u001b[0m\u001b[1;33m)\u001b[0m\u001b[1;33m\u001b[0m\u001b[0m\n\u001b[0m\u001b[1;32m    336\u001b[0m             self.train(\n\u001b[1;32m    337\u001b[0m                 \u001b[0msentences\u001b[0m\u001b[1;33m,\u001b[0m \u001b[0mtotal_examples\u001b[0m\u001b[1;33m=\u001b[0m\u001b[0mself\u001b[0m\u001b[1;33m.\u001b[0m\u001b[0mcorpus_count\u001b[0m\u001b[1;33m,\u001b[0m \u001b[0mepochs\u001b[0m\u001b[1;33m=\u001b[0m\u001b[0mself\u001b[0m\u001b[1;33m.\u001b[0m\u001b[0mepochs\u001b[0m\u001b[1;33m,\u001b[0m \u001b[0mstart_alpha\u001b[0m\u001b[1;33m=\u001b[0m\u001b[0mself\u001b[0m\u001b[1;33m.\u001b[0m\u001b[0malpha\u001b[0m\u001b[1;33m,\u001b[0m\u001b[1;33m\u001b[0m\u001b[0m\n",
      "\u001b[0;32mC:\\ProgramData\\Anaconda3\\lib\\site-packages\\gensim\\models\\base_any2vec.py\u001b[0m in \u001b[0;36mbuild_vocab\u001b[0;34m(self, sentences, update, progress_per, keep_raw_vocab, trim_rule, **kwargs)\u001b[0m\n\u001b[1;32m    478\u001b[0m         \"\"\"\n\u001b[1;32m    479\u001b[0m         total_words, corpus_count = self.vocabulary.scan_vocab(\n\u001b[0;32m--> 480\u001b[0;31m             sentences, progress_per=progress_per, trim_rule=trim_rule)\n\u001b[0m\u001b[1;32m    481\u001b[0m         \u001b[0mself\u001b[0m\u001b[1;33m.\u001b[0m\u001b[0mcorpus_count\u001b[0m \u001b[1;33m=\u001b[0m \u001b[0mcorpus_count\u001b[0m\u001b[1;33m\u001b[0m\u001b[0m\n\u001b[1;32m    482\u001b[0m         report_values = self.vocabulary.prepare_vocab(\n",
      "\u001b[0;32mC:\\ProgramData\\Anaconda3\\lib\\site-packages\\gensim\\models\\word2vec.py\u001b[0m in \u001b[0;36mscan_vocab\u001b[0;34m(self, sentences, progress_per, trim_rule)\u001b[0m\n\u001b[1;32m   1149\u001b[0m         \u001b[0mvocab\u001b[0m \u001b[1;33m=\u001b[0m \u001b[0mdefaultdict\u001b[0m\u001b[1;33m(\u001b[0m\u001b[0mint\u001b[0m\u001b[1;33m)\u001b[0m\u001b[1;33m\u001b[0m\u001b[0m\n\u001b[1;32m   1150\u001b[0m         \u001b[0mchecked_string_types\u001b[0m \u001b[1;33m=\u001b[0m \u001b[1;36m0\u001b[0m\u001b[1;33m\u001b[0m\u001b[0m\n\u001b[0;32m-> 1151\u001b[0;31m         \u001b[1;32mfor\u001b[0m \u001b[0msentence_no\u001b[0m\u001b[1;33m,\u001b[0m \u001b[0msentence\u001b[0m \u001b[1;32min\u001b[0m \u001b[0menumerate\u001b[0m\u001b[1;33m(\u001b[0m\u001b[0msentences\u001b[0m\u001b[1;33m)\u001b[0m\u001b[1;33m:\u001b[0m\u001b[1;33m\u001b[0m\u001b[0m\n\u001b[0m\u001b[1;32m   1152\u001b[0m             \u001b[1;32mif\u001b[0m \u001b[1;32mnot\u001b[0m \u001b[0mchecked_string_types\u001b[0m\u001b[1;33m:\u001b[0m\u001b[1;33m\u001b[0m\u001b[0m\n\u001b[1;32m   1153\u001b[0m                 \u001b[1;32mif\u001b[0m \u001b[0misinstance\u001b[0m\u001b[1;33m(\u001b[0m\u001b[0msentence\u001b[0m\u001b[1;33m,\u001b[0m \u001b[0mstring_types\u001b[0m\u001b[1;33m)\u001b[0m\u001b[1;33m:\u001b[0m\u001b[1;33m\u001b[0m\u001b[0m\n",
      "\u001b[0;32mC:\\ProgramData\\Anaconda3\\lib\\site-packages\\gensim\\models\\phrases.py\u001b[0m in \u001b[0;36m__getitem__\u001b[0;34m(self, sentence)\u001b[0m\n\u001b[1;32m    496\u001b[0m         \u001b[0mdelimiter\u001b[0m \u001b[1;33m=\u001b[0m \u001b[0mself\u001b[0m\u001b[1;33m.\u001b[0m\u001b[0mdelimiter\u001b[0m  \u001b[1;31m# delimiter used for lookup\u001b[0m\u001b[1;33m\u001b[0m\u001b[0m\n\u001b[1;32m    497\u001b[0m \u001b[1;33m\u001b[0m\u001b[0m\n\u001b[0;32m--> 498\u001b[0;31m         \u001b[0mis_single\u001b[0m\u001b[1;33m,\u001b[0m \u001b[0msentence\u001b[0m \u001b[1;33m=\u001b[0m \u001b[0m_is_single\u001b[0m\u001b[1;33m(\u001b[0m\u001b[0msentence\u001b[0m\u001b[1;33m)\u001b[0m\u001b[1;33m\u001b[0m\u001b[0m\n\u001b[0m\u001b[1;32m    499\u001b[0m         \u001b[1;32mif\u001b[0m \u001b[1;32mnot\u001b[0m \u001b[0mis_single\u001b[0m\u001b[1;33m:\u001b[0m\u001b[1;33m\u001b[0m\u001b[0m\n\u001b[1;32m    500\u001b[0m             \u001b[1;31m# if the input is an entire corpus (rather than a single sentence),\u001b[0m\u001b[1;33m\u001b[0m\u001b[1;33m\u001b[0m\u001b[0m\n",
      "\u001b[0;32mC:\\ProgramData\\Anaconda3\\lib\\site-packages\\gensim\\models\\phrases.py\u001b[0m in \u001b[0;36m_is_single\u001b[0;34m(obj)\u001b[0m\n\u001b[1;32m    108\u001b[0m     \u001b[1;32mis\u001b[0m \u001b[0ma\u001b[0m \u001b[0mcorpus\u001b[0m \u001b[1;32mif\u001b[0m \u001b[0mit\u001b[0m \u001b[1;32mis\u001b[0m \u001b[0man\u001b[0m \u001b[0miterable\u001b[0m \u001b[0mof\u001b[0m \u001b[0mdocuments\u001b[0m\u001b[1;33m.\u001b[0m\u001b[1;33m\u001b[0m\u001b[0m\n\u001b[1;32m    109\u001b[0m     \"\"\"\n\u001b[0;32m--> 110\u001b[0;31m     \u001b[0mobj_iter\u001b[0m \u001b[1;33m=\u001b[0m \u001b[0miter\u001b[0m\u001b[1;33m(\u001b[0m\u001b[0mobj\u001b[0m\u001b[1;33m)\u001b[0m\u001b[1;33m\u001b[0m\u001b[0m\n\u001b[0m\u001b[1;32m    111\u001b[0m     \u001b[0mtemp_iter\u001b[0m \u001b[1;33m=\u001b[0m \u001b[0mobj_iter\u001b[0m\u001b[1;33m\u001b[0m\u001b[0m\n\u001b[1;32m    112\u001b[0m     \u001b[1;32mtry\u001b[0m\u001b[1;33m:\u001b[0m\u001b[1;33m\u001b[0m\u001b[0m\n",
      "\u001b[0;31mTypeError\u001b[0m: 'int' object is not iterable"
     ]
    }
   ],
   "source": [
    "food_phrases = gensim.models.Word2Vec(phrases)"
   ]
  },
  {
   "cell_type": "code",
   "execution_count": 10,
   "metadata": {
    "collapsed": false
   },
   "outputs": [
    {
     "ename": "NameError",
     "evalue": "name 'food_names' is not defined",
     "output_type": "error",
     "traceback": [
      "\u001b[0;31m---------------------------------------------------------------------------\u001b[0m",
      "\u001b[0;31mNameError\u001b[0m                                 Traceback (most recent call last)",
      "\u001b[0;32m<ipython-input-10-29a1d14857bf>\u001b[0m in \u001b[0;36m<module>\u001b[0;34m()\u001b[0m\n\u001b[0;32m----> 1\u001b[0;31m \u001b[0mfood_names\u001b[0m\u001b[1;33m.\u001b[0m\u001b[0mmost_similar\u001b[0m\u001b[1;33m(\u001b[0m\u001b[1;34m'eggs benedict'\u001b[0m\u001b[1;33m)\u001b[0m\u001b[1;33m\u001b[0m\u001b[0m\n\u001b[0m",
      "\u001b[0;31mNameError\u001b[0m: name 'food_names' is not defined"
     ]
    }
   ],
   "source": [
    "food_names.most_similar('eggs benedict')"
   ]
  },
  {
   "cell_type": "code",
   "execution_count": 16,
   "metadata": {
    "collapsed": false
   },
   "outputs": [
    {
     "name": "stderr",
     "output_type": "stream",
     "text": [
      "C:\\ProgramData\\Anaconda3\\lib\\site-packages\\ipykernel\\__main__.py:1: DeprecationWarning: Call to deprecated `most_similar` (Method will be removed in 4.0.0, use self.wv.most_similar() instead).\n",
      "  if __name__ == '__main__':\n"
     ]
    },
    {
     "data": {
      "text/plain": [
       "[('macintosh', 0.7894327640533447),\n",
       " ('amiga', 0.7420880794525146),\n",
       " ('intel', 0.7306458353996277),\n",
       " ('ibm', 0.7269545793533325),\n",
       " ('amd', 0.690711259841919),\n",
       " ('atari', 0.6872498989105225),\n",
       " ('pc', 0.679271936416626),\n",
       " ('nintendo', 0.674188494682312),\n",
       " ('hypercard', 0.6720134615898132),\n",
       " ('microsoft', 0.6710932850837708)]"
      ]
     },
     "execution_count": 16,
     "metadata": {},
     "output_type": "execute_result"
    }
   ],
   "source": [
    "food_names.most_similar('apple')"
   ]
  },
  {
   "cell_type": "code",
   "execution_count": 17,
   "metadata": {
    "collapsed": false
   },
   "outputs": [
    {
     "name": "stderr",
     "output_type": "stream",
     "text": [
      "C:\\ProgramData\\Anaconda3\\lib\\site-packages\\ipykernel\\__main__.py:1: DeprecationWarning: Call to deprecated `most_similar` (Method will be removed in 4.0.0, use self.wv.most_similar() instead).\n",
      "  if __name__ == '__main__':\n"
     ]
    },
    {
     "ename": "KeyError",
     "evalue": "\"word 'apple pie' not in vocabulary\"",
     "output_type": "error",
     "traceback": [
      "\u001b[0;31m---------------------------------------------------------------------------\u001b[0m",
      "\u001b[0;31mKeyError\u001b[0m                                  Traceback (most recent call last)",
      "\u001b[0;32m<ipython-input-17-8cbba27b30b4>\u001b[0m in \u001b[0;36m<module>\u001b[0;34m()\u001b[0m\n\u001b[0;32m----> 1\u001b[0;31m \u001b[0mfood_names\u001b[0m\u001b[1;33m.\u001b[0m\u001b[0mmost_similar\u001b[0m\u001b[1;33m(\u001b[0m\u001b[1;34m'apple pie'\u001b[0m\u001b[1;33m)\u001b[0m\u001b[1;33m\u001b[0m\u001b[0m\n\u001b[0m",
      "\u001b[0;32mC:\\ProgramData\\Anaconda3\\lib\\site-packages\\gensim\\utils.py\u001b[0m in \u001b[0;36mnew_func1\u001b[0;34m(*args, **kwargs)\u001b[0m\n\u001b[1;32m   1396\u001b[0m                     \u001b[0mstacklevel\u001b[0m\u001b[1;33m=\u001b[0m\u001b[1;36m2\u001b[0m\u001b[1;33m\u001b[0m\u001b[0m\n\u001b[1;32m   1397\u001b[0m                 )\n\u001b[0;32m-> 1398\u001b[0;31m                 \u001b[1;32mreturn\u001b[0m \u001b[0mfunc\u001b[0m\u001b[1;33m(\u001b[0m\u001b[1;33m*\u001b[0m\u001b[0margs\u001b[0m\u001b[1;33m,\u001b[0m \u001b[1;33m**\u001b[0m\u001b[0mkwargs\u001b[0m\u001b[1;33m)\u001b[0m\u001b[1;33m\u001b[0m\u001b[0m\n\u001b[0m\u001b[1;32m   1399\u001b[0m \u001b[1;33m\u001b[0m\u001b[0m\n\u001b[1;32m   1400\u001b[0m             \u001b[1;32mreturn\u001b[0m \u001b[0mnew_func1\u001b[0m\u001b[1;33m\u001b[0m\u001b[0m\n",
      "\u001b[0;32mC:\\ProgramData\\Anaconda3\\lib\\site-packages\\gensim\\models\\base_any2vec.py\u001b[0m in \u001b[0;36mmost_similar\u001b[0;34m(self, positive, negative, topn, restrict_vocab, indexer)\u001b[0m\n\u001b[1;32m    694\u001b[0m         \u001b[0mRefer\u001b[0m \u001b[0mto\u001b[0m \u001b[0mthe\u001b[0m \u001b[0mdocumentation\u001b[0m \u001b[1;32mfor\u001b[0m\u001b[0;31m \u001b[0m\u001b[0;31m`\u001b[0m\u001b[0mgensim\u001b[0m\u001b[1;33m.\u001b[0m\u001b[0mmodels\u001b[0m\u001b[1;33m.\u001b[0m\u001b[0mkeyedvectors\u001b[0m\u001b[1;33m.\u001b[0m\u001b[0mWordEmbeddingsKeyedVectors\u001b[0m\u001b[1;33m.\u001b[0m\u001b[0mmost_similar\u001b[0m\u001b[0;31m`\u001b[0m\u001b[1;33m\u001b[0m\u001b[0m\n\u001b[1;32m    695\u001b[0m         \"\"\"\n\u001b[0;32m--> 696\u001b[0;31m         \u001b[1;32mreturn\u001b[0m \u001b[0mself\u001b[0m\u001b[1;33m.\u001b[0m\u001b[0mwv\u001b[0m\u001b[1;33m.\u001b[0m\u001b[0mmost_similar\u001b[0m\u001b[1;33m(\u001b[0m\u001b[0mpositive\u001b[0m\u001b[1;33m,\u001b[0m \u001b[0mnegative\u001b[0m\u001b[1;33m,\u001b[0m \u001b[0mtopn\u001b[0m\u001b[1;33m,\u001b[0m \u001b[0mrestrict_vocab\u001b[0m\u001b[1;33m,\u001b[0m \u001b[0mindexer\u001b[0m\u001b[1;33m)\u001b[0m\u001b[1;33m\u001b[0m\u001b[0m\n\u001b[0m\u001b[1;32m    697\u001b[0m \u001b[1;33m\u001b[0m\u001b[0m\n\u001b[1;32m    698\u001b[0m     \u001b[1;33m@\u001b[0m\u001b[0mdeprecated\u001b[0m\u001b[1;33m(\u001b[0m\u001b[1;34m\"Method will be removed in 4.0.0, use self.wv.wmdistance() instead\"\u001b[0m\u001b[1;33m)\u001b[0m\u001b[1;33m\u001b[0m\u001b[0m\n",
      "\u001b[0;32mC:\\ProgramData\\Anaconda3\\lib\\site-packages\\gensim\\models\\keyedvectors.py\u001b[0m in \u001b[0;36mmost_similar\u001b[0;34m(self, positive, negative, topn, restrict_vocab, indexer)\u001b[0m\n\u001b[1;32m    363\u001b[0m                 \u001b[0mmean\u001b[0m\u001b[1;33m.\u001b[0m\u001b[0mappend\u001b[0m\u001b[1;33m(\u001b[0m\u001b[0mweight\u001b[0m \u001b[1;33m*\u001b[0m \u001b[0mword\u001b[0m\u001b[1;33m)\u001b[0m\u001b[1;33m\u001b[0m\u001b[0m\n\u001b[1;32m    364\u001b[0m             \u001b[1;32melse\u001b[0m\u001b[1;33m:\u001b[0m\u001b[1;33m\u001b[0m\u001b[0m\n\u001b[0;32m--> 365\u001b[0;31m                 \u001b[0mmean\u001b[0m\u001b[1;33m.\u001b[0m\u001b[0mappend\u001b[0m\u001b[1;33m(\u001b[0m\u001b[0mweight\u001b[0m \u001b[1;33m*\u001b[0m \u001b[0mself\u001b[0m\u001b[1;33m.\u001b[0m\u001b[0mword_vec\u001b[0m\u001b[1;33m(\u001b[0m\u001b[0mword\u001b[0m\u001b[1;33m,\u001b[0m \u001b[0muse_norm\u001b[0m\u001b[1;33m=\u001b[0m\u001b[1;32mTrue\u001b[0m\u001b[1;33m)\u001b[0m\u001b[1;33m)\u001b[0m\u001b[1;33m\u001b[0m\u001b[0m\n\u001b[0m\u001b[1;32m    366\u001b[0m                 \u001b[1;32mif\u001b[0m \u001b[0mword\u001b[0m \u001b[1;32min\u001b[0m \u001b[0mself\u001b[0m\u001b[1;33m.\u001b[0m\u001b[0mvocab\u001b[0m\u001b[1;33m:\u001b[0m\u001b[1;33m\u001b[0m\u001b[0m\n\u001b[1;32m    367\u001b[0m                     \u001b[0mall_words\u001b[0m\u001b[1;33m.\u001b[0m\u001b[0madd\u001b[0m\u001b[1;33m(\u001b[0m\u001b[0mself\u001b[0m\u001b[1;33m.\u001b[0m\u001b[0mvocab\u001b[0m\u001b[1;33m[\u001b[0m\u001b[0mword\u001b[0m\u001b[1;33m]\u001b[0m\u001b[1;33m.\u001b[0m\u001b[0mindex\u001b[0m\u001b[1;33m)\u001b[0m\u001b[1;33m\u001b[0m\u001b[0m\n",
      "\u001b[0;32mC:\\ProgramData\\Anaconda3\\lib\\site-packages\\gensim\\models\\keyedvectors.py\u001b[0m in \u001b[0;36mword_vec\u001b[0;34m(self, word, use_norm)\u001b[0m\n\u001b[1;32m    272\u001b[0m             \u001b[1;32mreturn\u001b[0m \u001b[0mresult\u001b[0m\u001b[1;33m\u001b[0m\u001b[0m\n\u001b[1;32m    273\u001b[0m         \u001b[1;32melse\u001b[0m\u001b[1;33m:\u001b[0m\u001b[1;33m\u001b[0m\u001b[0m\n\u001b[0;32m--> 274\u001b[0;31m             \u001b[1;32mraise\u001b[0m \u001b[0mKeyError\u001b[0m\u001b[1;33m(\u001b[0m\u001b[1;34m\"word '%s' not in vocabulary\"\u001b[0m \u001b[1;33m%\u001b[0m \u001b[0mword\u001b[0m\u001b[1;33m)\u001b[0m\u001b[1;33m\u001b[0m\u001b[0m\n\u001b[0m\u001b[1;32m    275\u001b[0m \u001b[1;33m\u001b[0m\u001b[0m\n\u001b[1;32m    276\u001b[0m     \u001b[1;32mdef\u001b[0m \u001b[0mget_vector\u001b[0m\u001b[1;33m(\u001b[0m\u001b[0mself\u001b[0m\u001b[1;33m,\u001b[0m \u001b[0mword\u001b[0m\u001b[1;33m)\u001b[0m\u001b[1;33m:\u001b[0m\u001b[1;33m\u001b[0m\u001b[0m\n",
      "\u001b[0;31mKeyError\u001b[0m: \"word 'apple pie' not in vocabulary\""
     ]
    }
   ],
   "source": [
    "food_names.most_similar('apple pie')"
   ]
  },
  {
   "cell_type": "code",
   "execution_count": 23,
   "metadata": {
    "collapsed": false
   },
   "outputs": [
    {
     "data": {
      "text/plain": [
       "'Cilantro Lime Dressing'"
      ]
     },
     "execution_count": 23,
     "metadata": {},
     "output_type": "execute_result"
    }
   ],
   "source": [
    "df['food_description'][0]"
   ]
  },
  {
   "cell_type": "markdown",
   "metadata": {},
   "source": [
    "Iterating to See How Many Raw Descriptions Are Supported In the Text8 Corpus"
   ]
  },
  {
   "cell_type": "code",
   "execution_count": 26,
   "metadata": {
    "collapsed": false
   },
   "outputs": [
    {
     "name": "stderr",
     "output_type": "stream",
     "text": [
      "C:\\ProgramData\\Anaconda3\\lib\\site-packages\\ipykernel\\__main__.py:5: DeprecationWarning: Call to deprecated `__getitem__` (Method will be removed in 4.0.0, use self.wv.__getitem__() instead).\n"
     ]
    }
   ],
   "source": [
    "food_vec = []\n",
    "results_holder = []\n",
    "for i in range(len(df)):\n",
    "    try:\n",
    "        word_vec = food_names[df['food_description'][1]]\n",
    "        food = df['food_description'][1]\n",
    "        food_vec = food_vec.append(food),\n",
    "        results_holder = results_holder.append(word_vec[0:10])\n",
    "    except:\n",
    "        pass"
   ]
  },
  {
   "cell_type": "code",
   "execution_count": null,
   "metadata": {
    "collapsed": true
   },
   "outputs": [],
   "source": [
    "print(len(food_vec))"
   ]
  },
  {
   "cell_type": "markdown",
   "metadata": {},
   "source": [
    "Two learnings here. First and foremost, this corpus is not specific enough for the exercise. 'Apple' should be returning 'fruit' and 'snack' but not 'macintosh' and 'microsoft'. Even if I had been able to nicely process my food descriptions cleanly, the results from this corpus still leave much to be desired.\n",
    "\n",
    "Second, the model (and corpus) needs to support phrases. Entering 'apple pie' returned no results even though there is almost certainly an apple pie Wikipedia entry in these results. \n",
    "\n",
    "Phrases can be supported by using Negative Sampling the final network layer rather than heirarchical softmax. We can test simple implementation by retraining on the text_8 corpus, using negative sampling with 5 noise words included."
   ]
  },
  {
   "cell_type": "code",
   "execution_count": 36,
   "metadata": {
    "collapsed": true
   },
   "outputs": [],
   "source": [
    "food_phrases = gensim.models.Word2Vec(text_8, hs=0, negative = 2)"
   ]
  },
  {
   "cell_type": "code",
   "execution_count": 23,
   "metadata": {
    "collapsed": false
   },
   "outputs": [
    {
     "name": "stderr",
     "output_type": "stream",
     "text": [
      "C:\\ProgramData\\Anaconda3\\lib\\site-packages\\ipykernel\\__main__.py:1: DeprecationWarning: Call to deprecated `most_similar` (Method will be removed in 4.0.0, use self.wv.most_similar() instead).\n",
      "  if __name__ == '__main__':\n"
     ]
    },
    {
     "data": {
      "text/plain": [
       "[('wizard', 0.7509090900421143),\n",
       " ('carol', 0.702263593673706),\n",
       " ('judy', 0.6979846954345703),\n",
       " ('betty', 0.6864558458328247),\n",
       " ('biopic', 0.6815564632415771),\n",
       " ('potter', 0.6814549565315247),\n",
       " ('gloria', 0.680546760559082),\n",
       " ('doc', 0.679688572883606),\n",
       " ('remake', 0.6795153021812439),\n",
       " ('mister', 0.6771171689033508)]"
      ]
     },
     "execution_count": 23,
     "metadata": {},
     "output_type": "execute_result"
    }
   ],
   "source": [
    "food_names.most_similar('oz')"
   ]
  },
  {
   "cell_type": "markdown",
   "metadata": {},
   "source": [
    "## Part3: Serving Sizes"
   ]
  },
  {
   "cell_type": "markdown",
   "metadata": {},
   "source": [
    "A human meal planner can look at a serving size '1 can' and decide 'I can eat half a can now, and half a can later'. A machine can perform at least a somewhat similar decision if and only if it can understand that '1' is the amount and 'can' is the unit. This exercise will attempt to use text processing to seperate values and units, and at best to normalize units to the same type (i.e. 'oz' and 'ounces'). \n",
    "\n",
    "To start with we investigate a sample of the 'serving size' column below."
   ]
  },
  {
   "cell_type": "code",
   "execution_count": 9,
   "metadata": {
    "collapsed": true
   },
   "outputs": [],
   "source": [
    "import nltk"
   ]
  },
  {
   "cell_type": "code",
   "execution_count": 10,
   "metadata": {
    "collapsed": false
   },
   "outputs": [
    {
     "data": {
      "text/plain": [
       "0    1 egg cream\n",
       "1    1 egg cream\n",
       "2        1 order\n",
       "3        1 order\n",
       "4        1 order\n",
       "Name: serving_size_raw, dtype: object"
      ]
     },
     "execution_count": 10,
     "metadata": {},
     "output_type": "execute_result"
    }
   ],
   "source": [
    "df.serving_size_raw.head()"
   ]
  },
  {
   "cell_type": "markdown",
   "metadata": {},
   "source": [
    "So egg cream is probably not going to be a standard unit of measurement. But is there a way to recognize when a unit stands for '1 item'?\n",
    "\n",
    "On the other hand 'order' should be a word often repeated. We can start with word frequency as a good indication of true 'units' vs descriptions of items. \n",
    "\n",
    "Before getting a bag of words of the serving size units, stripping away the values would be helpful"
   ]
  },
  {
   "cell_type": "code",
   "execution_count": null,
   "metadata": {
    "collapsed": false
   },
   "outputs": [
    {
     "name": "stderr",
     "output_type": "stream",
     "text": [
      "C:\\ProgramData\\Anaconda3\\lib\\site-packages\\ipykernel\\__main__.py:11: SettingWithCopyWarning: \n",
      "A value is trying to be set on a copy of a slice from a DataFrame\n",
      "\n",
      "See the caveats in the documentation: http://pandas.pydata.org/pandas-docs/stable/indexing.html#indexing-view-versus-copy\n"
     ]
    }
   ],
   "source": [
    "df['ss_numbers_raw'] = ''\n",
    "for i in range((len(df)-1)):\n",
    "    line_numbers = []\n",
    "    line = df.iloc[i,6]\n",
    "    if type(line) == str:\n",
    "        for t in line.split():\n",
    "            try:\n",
    "                line_numbers.append(float(t))   \n",
    "            except ValueError:\n",
    "                pass\n",
    "        df['ss_numbers_raw'][i]= line_numbers\n",
    "    else:\n",
    "        df['ss_numbers_raw'][i]=line"
   ]
  },
  {
   "cell_type": "code",
   "execution_count": 19,
   "metadata": {
    "collapsed": false
   },
   "outputs": [
    {
     "data": {
      "text/html": [
       "<div>\n",
       "<table border=\"1\" class=\"dataframe\">\n",
       "  <thead>\n",
       "    <tr style=\"text-align: right;\">\n",
       "      <th></th>\n",
       "      <th>ss_numbers_raw</th>\n",
       "      <th>serving_size_raw</th>\n",
       "    </tr>\n",
       "  </thead>\n",
       "  <tbody>\n",
       "    <tr>\n",
       "      <th>10000</th>\n",
       "      <td>[8.0, 240.0]</td>\n",
       "      <td>8 fl oz  240 mL</td>\n",
       "    </tr>\n",
       "    <tr>\n",
       "      <th>10001</th>\n",
       "      <td>[12.0, 355.0]</td>\n",
       "      <td>12 fl oz  355 mL</td>\n",
       "    </tr>\n",
       "    <tr>\n",
       "      <th>10002</th>\n",
       "      <td>[1.0, 12.0, 355.0]</td>\n",
       "      <td>1 can  12 fl oz  355 mL</td>\n",
       "    </tr>\n",
       "    <tr>\n",
       "      <th>10003</th>\n",
       "      <td>[8.0, 240.0]</td>\n",
       "      <td>8 fl oz  240 mL</td>\n",
       "    </tr>\n",
       "    <tr>\n",
       "      <th>10004</th>\n",
       "      <td>[8.0, 240.0]</td>\n",
       "      <td>8 fl oz  240 mL</td>\n",
       "    </tr>\n",
       "    <tr>\n",
       "      <th>10005</th>\n",
       "      <td>[1.0, 12.0, 355.0]</td>\n",
       "      <td>1 can  12 fl oz  355 mL</td>\n",
       "    </tr>\n",
       "    <tr>\n",
       "      <th>10006</th>\n",
       "      <td>[8.0, 240.0]</td>\n",
       "      <td>2/5 bottle  8 fl oz  240 mL</td>\n",
       "    </tr>\n",
       "    <tr>\n",
       "      <th>10007</th>\n",
       "      <td>[1.0, 12.0, 355.0]</td>\n",
       "      <td>1 can  12 fl oz  355 mL</td>\n",
       "    </tr>\n",
       "    <tr>\n",
       "      <th>10008</th>\n",
       "      <td>[8.0, 240.0]</td>\n",
       "      <td>8 fl oz  240 mL</td>\n",
       "    </tr>\n",
       "    <tr>\n",
       "      <th>10009</th>\n",
       "      <td>[8.0, 240.0]</td>\n",
       "      <td>8 fl oz  240 mL</td>\n",
       "    </tr>\n",
       "  </tbody>\n",
       "</table>\n",
       "</div>"
      ],
      "text/plain": [
       "           ss_numbers_raw             serving_size_raw\n",
       "10000        [8.0, 240.0]              8 fl oz  240 mL\n",
       "10001       [12.0, 355.0]             12 fl oz  355 mL\n",
       "10002  [1.0, 12.0, 355.0]      1 can  12 fl oz  355 mL\n",
       "10003        [8.0, 240.0]              8 fl oz  240 mL\n",
       "10004        [8.0, 240.0]              8 fl oz  240 mL\n",
       "10005  [1.0, 12.0, 355.0]      1 can  12 fl oz  355 mL\n",
       "10006        [8.0, 240.0]  2/5 bottle  8 fl oz  240 mL\n",
       "10007  [1.0, 12.0, 355.0]      1 can  12 fl oz  355 mL\n",
       "10008        [8.0, 240.0]              8 fl oz  240 mL\n",
       "10009        [8.0, 240.0]              8 fl oz  240 mL"
      ]
     },
     "execution_count": 19,
     "metadata": {},
     "output_type": "execute_result"
    }
   ],
   "source": [
    "df[['ss_numbers_raw', 'serving_size_raw']][10000:10010]"
   ]
  },
  {
   "cell_type": "code",
   "execution_count": 3,
   "metadata": {
    "collapsed": false
   },
   "outputs": [
    {
     "ename": "NameError",
     "evalue": "name 'df' is not defined",
     "output_type": "error",
     "traceback": [
      "\u001b[0;31m---------------------------------------------------------------------------\u001b[0m",
      "\u001b[0;31mNameError\u001b[0m                                 Traceback (most recent call last)",
      "\u001b[0;32m<ipython-input-3-ff2d38d68b57>\u001b[0m in \u001b[0;36m<module>\u001b[0;34m()\u001b[0m\n\u001b[0;32m----> 1\u001b[0;31m \u001b[0mdf\u001b[0m\u001b[1;33m[\u001b[0m\u001b[1;34m'ss_strings_raw'\u001b[0m\u001b[1;33m]\u001b[0m \u001b[1;33m=\u001b[0m \u001b[1;34m''\u001b[0m\u001b[1;33m\u001b[0m\u001b[0m\n\u001b[0m\u001b[1;32m      2\u001b[0m \u001b[1;32mfor\u001b[0m \u001b[0mi\u001b[0m \u001b[1;32min\u001b[0m \u001b[0mrange\u001b[0m\u001b[1;33m(\u001b[0m\u001b[0mlen\u001b[0m\u001b[1;33m(\u001b[0m\u001b[0mdf\u001b[0m\u001b[1;33m.\u001b[0m\u001b[0mserving_size_raw\u001b[0m\u001b[1;33m)\u001b[0m\u001b[1;33m)\u001b[0m\u001b[1;33m:\u001b[0m\u001b[1;33m\u001b[0m\u001b[0m\n\u001b[1;32m      3\u001b[0m     \u001b[0mline_strings\u001b[0m \u001b[1;33m=\u001b[0m \u001b[1;33m[\u001b[0m\u001b[1;33m]\u001b[0m\u001b[1;33m\u001b[0m\u001b[0m\n\u001b[1;32m      4\u001b[0m     \u001b[0mline\u001b[0m \u001b[1;33m=\u001b[0m \u001b[0mdf\u001b[0m\u001b[1;33m.\u001b[0m\u001b[0miloc\u001b[0m\u001b[1;33m[\u001b[0m\u001b[0mi\u001b[0m\u001b[1;33m,\u001b[0m\u001b[1;36m6\u001b[0m\u001b[1;33m]\u001b[0m\u001b[1;33m\u001b[0m\u001b[0m\n\u001b[1;32m      5\u001b[0m     \u001b[1;32mif\u001b[0m \u001b[0mtype\u001b[0m\u001b[1;33m(\u001b[0m\u001b[0mline\u001b[0m\u001b[1;33m)\u001b[0m \u001b[1;33m==\u001b[0m \u001b[0mstr\u001b[0m\u001b[1;33m:\u001b[0m\u001b[1;33m\u001b[0m\u001b[0m\n",
      "\u001b[0;31mNameError\u001b[0m: name 'df' is not defined"
     ]
    }
   ],
   "source": [
    "df['ss_strings_raw'] = ''\n",
    "for i in range(len(df.serving_size_raw)):\n",
    "    line_strings = []\n",
    "    line = df.iloc[i,6]\n",
    "    if type(line) == str:\n",
    "        for t in line.split():\n",
    "            try:\n",
    "                float(t)\n",
    "            except ValueError:\n",
    "                line_strings.append(t)\n",
    "        df['ss_strings_raw'][i]= line_strings\n",
    "    else:\n",
    "        df['ss_strings_raw'][i]=''"
   ]
  },
  {
   "cell_type": "code",
   "execution_count": 21,
   "metadata": {
    "collapsed": false
   },
   "outputs": [
    {
     "data": {
      "text/html": [
       "<div>\n",
       "<table border=\"1\" class=\"dataframe\">\n",
       "  <thead>\n",
       "    <tr style=\"text-align: right;\">\n",
       "      <th></th>\n",
       "      <th>ss_numbers_raw</th>\n",
       "      <th>serving_size_raw</th>\n",
       "    </tr>\n",
       "  </thead>\n",
       "  <tbody>\n",
       "    <tr>\n",
       "      <th>10000</th>\n",
       "      <td>[fl, oz, mL]</td>\n",
       "      <td>8 fl oz  240 mL</td>\n",
       "    </tr>\n",
       "    <tr>\n",
       "      <th>10001</th>\n",
       "      <td>[fl, oz, mL]</td>\n",
       "      <td>12 fl oz  355 mL</td>\n",
       "    </tr>\n",
       "    <tr>\n",
       "      <th>10002</th>\n",
       "      <td>[can, fl, oz, mL]</td>\n",
       "      <td>1 can  12 fl oz  355 mL</td>\n",
       "    </tr>\n",
       "    <tr>\n",
       "      <th>10003</th>\n",
       "      <td>[fl, oz, mL]</td>\n",
       "      <td>8 fl oz  240 mL</td>\n",
       "    </tr>\n",
       "    <tr>\n",
       "      <th>10004</th>\n",
       "      <td>[fl, oz, mL]</td>\n",
       "      <td>8 fl oz  240 mL</td>\n",
       "    </tr>\n",
       "    <tr>\n",
       "      <th>10005</th>\n",
       "      <td>[can, fl, oz, mL]</td>\n",
       "      <td>1 can  12 fl oz  355 mL</td>\n",
       "    </tr>\n",
       "    <tr>\n",
       "      <th>10006</th>\n",
       "      <td>[2/5, bottle, fl, oz, mL]</td>\n",
       "      <td>2/5 bottle  8 fl oz  240 mL</td>\n",
       "    </tr>\n",
       "    <tr>\n",
       "      <th>10007</th>\n",
       "      <td>[can, fl, oz, mL]</td>\n",
       "      <td>1 can  12 fl oz  355 mL</td>\n",
       "    </tr>\n",
       "    <tr>\n",
       "      <th>10008</th>\n",
       "      <td>[fl, oz, mL]</td>\n",
       "      <td>8 fl oz  240 mL</td>\n",
       "    </tr>\n",
       "    <tr>\n",
       "      <th>10009</th>\n",
       "      <td>[fl, oz, mL]</td>\n",
       "      <td>8 fl oz  240 mL</td>\n",
       "    </tr>\n",
       "  </tbody>\n",
       "</table>\n",
       "</div>"
      ],
      "text/plain": [
       "                  ss_numbers_raw             serving_size_raw\n",
       "10000               [fl, oz, mL]              8 fl oz  240 mL\n",
       "10001               [fl, oz, mL]             12 fl oz  355 mL\n",
       "10002          [can, fl, oz, mL]      1 can  12 fl oz  355 mL\n",
       "10003               [fl, oz, mL]              8 fl oz  240 mL\n",
       "10004               [fl, oz, mL]              8 fl oz  240 mL\n",
       "10005          [can, fl, oz, mL]      1 can  12 fl oz  355 mL\n",
       "10006  [2/5, bottle, fl, oz, mL]  2/5 bottle  8 fl oz  240 mL\n",
       "10007          [can, fl, oz, mL]      1 can  12 fl oz  355 mL\n",
       "10008               [fl, oz, mL]              8 fl oz  240 mL\n",
       "10009               [fl, oz, mL]              8 fl oz  240 mL"
      ]
     },
     "execution_count": 21,
     "metadata": {},
     "output_type": "execute_result"
    }
   ],
   "source": [
    "df[['ss_strings_raw', 'serving_size_raw']][10000:10010]"
   ]
  },
  {
   "cell_type": "code",
   "execution_count": 38,
   "metadata": {
    "collapsed": false
   },
   "outputs": [
    {
     "data": {
      "text/plain": [
       "array(['food_key', 'food_description', 'brand', 'food_type_grp', 'source',\n",
       "       'ingredients_list', 'serving_size_raw', 'serving_size_val',\n",
       "       'serving_size_unit', 'calories', 'protein_g', 'fat_g',\n",
       "       'saturated_fat_g', 'carb_g', 'fiber_g', 'sugar_g', 'sodium_mg',\n",
       "       'cholesterol_mg', 'calcium_mg', 'iron_mg', 'vit_a_mcg', 'vit_c_mg',\n",
       "       'ss_numbers_raw'], dtype=object)"
      ]
     },
     "execution_count": 38,
     "metadata": {},
     "output_type": "execute_result"
    }
   ],
   "source": [
    "df.columns.values"
   ]
  },
  {
   "cell_type": "code",
   "execution_count": null,
   "metadata": {
    "collapsed": false
   },
   "outputs": [
    {
     "name": "stderr",
     "output_type": "stream",
     "text": [
      "C:\\ProgramData\\Anaconda3\\lib\\site-packages\\pandas\\core\\indexing.py:141: SettingWithCopyWarning: \n",
      "A value is trying to be set on a copy of a slice from a DataFrame\n",
      "\n",
      "See the caveats in the documentation: http://pandas.pydata.org/pandas-docs/stable/indexing.html#indexing-view-versus-copy\n",
      "  self._setitem_with_indexer(indexer, value)\n"
     ]
    }
   ],
   "source": [
    "# First \n",
    "for i in range((len(df.serving_size_raw)-1)):\n",
    "    line_strings = []\n",
    "    line_floats = []\n",
    "    line = df.iloc[i,6]\n",
    "    if type(line) == str:\n",
    "        for t in line.split():\n",
    "            try:\n",
    "                float(t)\n",
    "                line_floats.append(t)\n",
    "            except ValueError:\n",
    "                line_strings.append(t)\n",
    "        if len(line_floats) > 1:\n",
    "            text1 = line[(line.find(line_floats[0])+1):(line.find(line_floats[1])-1)].strip()\n",
    "            df.serving_size_val.iloc[i] = float(line_floats[0])\n",
    "            df.serving_size_unit.iloc[i] = text1\n",
    "        elif len(line_floats) == 1:\n",
    "            \n",
    "            df.serving_size_val.iloc[i] = float(line_floats[0])\n",
    "            df.serving_size_unit.iloc[i] = line[(line.find(line_floats[0])+1):len(line)].strip()\n",
    "        else:\n",
    "            df.serving_size_unit.iloc[i] = line\n",
    "    else:\n",
    "        df.serving_size_val.iloc[i] = line"
   ]
  },
  {
   "cell_type": "code",
   "execution_count": 12,
   "metadata": {
    "collapsed": false
   },
   "outputs": [
    {
     "data": {
      "text/plain": [
       "'egg cream'"
      ]
     },
     "execution_count": 12,
     "metadata": {},
     "output_type": "execute_result"
    }
   ],
   "source": [
    "df.serving_size_unit.iloc[1]"
   ]
  },
  {
   "cell_type": "code",
   "execution_count": 9,
   "metadata": {
    "collapsed": false
   },
   "outputs": [
    {
     "data": {
      "text/plain": [
       "float"
      ]
     },
     "execution_count": 9,
     "metadata": {},
     "output_type": "execute_result"
    }
   ],
   "source": [
    "type(line_floats[0])"
   ]
  },
  {
   "cell_type": "code",
   "execution_count": 11,
   "metadata": {
    "collapsed": true
   },
   "outputs": [],
   "source": [
    "test = df.iloc[10004,6]"
   ]
  },
  {
   "cell_type": "code",
   "execution_count": 36,
   "metadata": {
    "collapsed": false
   },
   "outputs": [],
   "source": [
    "line_strings = []\n",
    "line_floats = []\n",
    "for t in test.split():\n",
    "    try:\n",
    "        float(t)\n",
    "        line_floats.append(t)\n",
    "    except ValueError:\n",
    "        line_strings.append(t)\n",
    "if len(line_floats) > 1:\n",
    "    text1 = test[(test.find(line_floats[0])+1):(test.find(line_floats[1])-1)].strip()"
   ]
  },
  {
   "cell_type": "code",
   "execution_count": 37,
   "metadata": {
    "collapsed": false
   },
   "outputs": [
    {
     "data": {
      "text/plain": [
       "'fl oz'"
      ]
     },
     "execution_count": 37,
     "metadata": {},
     "output_type": "execute_result"
    }
   ],
   "source": [
    "text1"
   ]
  },
  {
   "cell_type": "code",
   "execution_count": null,
   "metadata": {
    "collapsed": true
   },
   "outputs": [],
   "source": [
    "df.to_csv('C:/Users/J/Desktop/Businesses/Meal_Maker/Scraped_Data/combined_nutrition_small/nutrition_sm_2018_3_16_processed.csv', delimiter = ',',encoding='ISO-8859-1')"
   ]
  },
  {
   "cell_type": "code",
   "execution_count": null,
   "metadata": {
    "collapsed": true
   },
   "outputs": [],
   "source": []
  }
 ],
 "metadata": {
  "kernelspec": {
   "display_name": "Python 3",
   "language": "python",
   "name": "python3"
  },
  "language_info": {
   "codemirror_mode": {
    "name": "ipython",
    "version": 3
   },
   "file_extension": ".py",
   "mimetype": "text/x-python",
   "name": "python",
   "nbconvert_exporter": "python",
   "pygments_lexer": "ipython3",
   "version": "3.6.0"
  }
 },
 "nbformat": 4,
 "nbformat_minor": 2
}
