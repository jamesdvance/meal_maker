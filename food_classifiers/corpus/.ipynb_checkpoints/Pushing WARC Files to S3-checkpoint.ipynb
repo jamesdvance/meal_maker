{
 "cells": [
  {
   "cell_type": "code",
   "execution_count": 1,
   "metadata": {
    "collapsed": true
   },
   "outputs": [],
   "source": [
    "import pandas as pd\n",
    "import requests"
   ]
  },
  {
   "cell_type": "code",
   "execution_count": 2,
   "metadata": {
    "collapsed": true
   },
   "outputs": [],
   "source": [
    "cc_info = pd.read_csv(\"C:/Users/J/Datasets/Nutrition/nutrition_relevant_warc_files.csv\")"
   ]
  },
  {
   "cell_type": "code",
   "execution_count": 3,
   "metadata": {
    "collapsed": false
   },
   "outputs": [
    {
     "data": {
      "text/plain": [
       "5029232"
      ]
     },
     "execution_count": 3,
     "metadata": {},
     "output_type": "execute_result"
    }
   ],
   "source": [
    "len(cc_info)"
   ]
  },
  {
   "cell_type": "code",
   "execution_count": 4,
   "metadata": {
    "collapsed": false
   },
   "outputs": [
    {
     "data": {
      "text/html": [
       "<div>\n",
       "<table border=\"1\" class=\"dataframe\">\n",
       "  <thead>\n",
       "    <tr style=\"text-align: right;\">\n",
       "      <th></th>\n",
       "      <th>url</th>\n",
       "      <th>warc_filename</th>\n",
       "      <th>warc_record_offset</th>\n",
       "      <th>warc_record_length</th>\n",
       "    </tr>\n",
       "  </thead>\n",
       "  <tbody>\n",
       "    <tr>\n",
       "      <th>0</th>\n",
       "      <td>https://fawkfoods.com/black-g-butter-1</td>\n",
       "      <td>crawl-data/CC-MAIN-2018-13/segments/1521257645...</td>\n",
       "      <td>590931791</td>\n",
       "      <td>14992</td>\n",
       "    </tr>\n",
       "    <tr>\n",
       "      <th>1</th>\n",
       "      <td>https://fawkfoods.com/black-g-mayonnaise</td>\n",
       "      <td>crawl-data/CC-MAIN-2018-13/segments/1521257645...</td>\n",
       "      <td>585520293</td>\n",
       "      <td>12986</td>\n",
       "    </tr>\n",
       "    <tr>\n",
       "      <th>2</th>\n",
       "      <td>https://fawkfoods.com/coming-soon</td>\n",
       "      <td>crawl-data/CC-MAIN-2018-13/segments/1521257645...</td>\n",
       "      <td>581291522</td>\n",
       "      <td>29786</td>\n",
       "    </tr>\n",
       "    <tr>\n",
       "      <th>3</th>\n",
       "      <td>https://fawkfoods.com/contact</td>\n",
       "      <td>crawl-data/CC-MAIN-2018-13/segments/1521257645...</td>\n",
       "      <td>577802990</td>\n",
       "      <td>13533</td>\n",
       "    </tr>\n",
       "    <tr>\n",
       "      <th>4</th>\n",
       "      <td>https://fawkfoods.com/fried-school-prawns-and-...</td>\n",
       "      <td>crawl-data/CC-MAIN-2018-13/segments/1521257645...</td>\n",
       "      <td>599911420</td>\n",
       "      <td>15609</td>\n",
       "    </tr>\n",
       "  </tbody>\n",
       "</table>\n",
       "</div>"
      ],
      "text/plain": [
       "                                                 url  \\\n",
       "0             https://fawkfoods.com/black-g-butter-1   \n",
       "1           https://fawkfoods.com/black-g-mayonnaise   \n",
       "2                  https://fawkfoods.com/coming-soon   \n",
       "3                      https://fawkfoods.com/contact   \n",
       "4  https://fawkfoods.com/fried-school-prawns-and-...   \n",
       "\n",
       "                                       warc_filename  warc_record_offset  \\\n",
       "0  crawl-data/CC-MAIN-2018-13/segments/1521257645...           590931791   \n",
       "1  crawl-data/CC-MAIN-2018-13/segments/1521257645...           585520293   \n",
       "2  crawl-data/CC-MAIN-2018-13/segments/1521257645...           581291522   \n",
       "3  crawl-data/CC-MAIN-2018-13/segments/1521257645...           577802990   \n",
       "4  crawl-data/CC-MAIN-2018-13/segments/1521257645...           599911420   \n",
       "\n",
       "   warc_record_length  \n",
       "0               14992  \n",
       "1               12986  \n",
       "2               29786  \n",
       "3               13533  \n",
       "4               15609  "
      ]
     },
     "execution_count": 4,
     "metadata": {},
     "output_type": "execute_result"
    }
   ],
   "source": [
    "cc_info.head()"
   ]
  }
 ],
 "metadata": {
  "kernelspec": {
   "display_name": "Python 3",
   "language": "python",
   "name": "python3"
  },
  "language_info": {
   "codemirror_mode": {
    "name": "ipython",
    "version": 3
   },
   "file_extension": ".py",
   "mimetype": "text/x-python",
   "name": "python",
   "nbconvert_exporter": "python",
   "pygments_lexer": "ipython3",
   "version": "3.6.0"
  }
 },
 "nbformat": 4,
 "nbformat_minor": 2
}
