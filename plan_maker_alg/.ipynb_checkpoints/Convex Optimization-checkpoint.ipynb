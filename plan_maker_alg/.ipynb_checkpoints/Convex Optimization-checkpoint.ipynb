{
 "cells": [
  {
   "cell_type": "markdown",
   "metadata": {},
   "source": [
    "# Convex Optimization\n",
    "\n",
    "Work through possibility of using convex optimization as plan-maker algorithm\n",
    "* It's an integer program of zero / one possibilities\n",
    "* It may not be an integer program in certain cases where a food item can be halved - phase 2\n",
    "* Accounting for meals and other requirements will be tricky - may need to be mixed into the process\n",
    "* Is kind of a giant knapsack problem\n",
    "* Can try and maximize the p(acceptance)\n",
    "\n",
    "Open questions\n",
    "* How to account for different meals - and different meal data sources?\n",
    "    * It looks like the convex optimization should happen with parameters that are sub-parameters of the greater good. It is part of the function called by the Genetic algorithm which combines meals to make days and days to make weeks"
   ]
  },
  {
   "cell_type": "code",
   "execution_count": 35,
   "metadata": {
    "collapsed": false
   },
   "outputs": [],
   "source": [
    "import cvxpy\n",
    "import cvxflow\n",
    "import tensorflow as tf\n",
    "import pandas as pd\n",
    "import numpy as np\n",
    "import pickle"
   ]
  },
  {
   "cell_type": "code",
   "execution_count": 32,
   "metadata": {
    "collapsed": false
   },
   "outputs": [],
   "source": [
    "df = pd.read_csv('C:/Users/J/Desktop/Businesses/Meal_Maker/Scraped_Data/combined_nutrition_small/nutrition_sm_processed_ss.csv',dtype = {'food_key':int,'ingredients_list':object}, encoding='ISO-8859-1')"
   ]
  },
  {
   "cell_type": "code",
   "execution_count": null,
   "metadata": {
    "collapsed": true
   },
   "outputs": [],
   "source": [
    "# Load in reqs df"
   ]
  },
  {
   "cell_type": "code",
   "execution_count": 4,
   "metadata": {
    "collapsed": true
   },
   "outputs": [],
   "source": [
    "num_reqs_df = pd.read_csv(\"../desktop-meal-maker/num_reqs_df.csv\")"
   ]
  },
  {
   "cell_type": "code",
   "execution_count": 5,
   "metadata": {
    "collapsed": false
   },
   "outputs": [
    {
     "data": {
      "text/html": [
       "<div>\n",
       "<style scoped>\n",
       "    .dataframe tbody tr th:only-of-type {\n",
       "        vertical-align: middle;\n",
       "    }\n",
       "\n",
       "    .dataframe tbody tr th {\n",
       "        vertical-align: top;\n",
       "    }\n",
       "\n",
       "    .dataframe thead th {\n",
       "        text-align: right;\n",
       "    }\n",
       "</style>\n",
       "<table border=\"1\" class=\"dataframe\">\n",
       "  <thead>\n",
       "    <tr style=\"text-align: right;\">\n",
       "      <th></th>\n",
       "      <th>carb_g</th>\n",
       "      <th>fat_g</th>\n",
       "      <th>protein_g</th>\n",
       "      <th>calcium_mg</th>\n",
       "      <th>iron_mg</th>\n",
       "      <th>sodium_mg</th>\n",
       "      <th>vit_a_mcg</th>\n",
       "      <th>vit_c_mg</th>\n",
       "      <th>cholesterol_mg</th>\n",
       "      <th>fiber_g</th>\n",
       "      <th>saturated_fat_g</th>\n",
       "      <th>sugar_g</th>\n",
       "    </tr>\n",
       "  </thead>\n",
       "  <tbody>\n",
       "    <tr>\n",
       "      <th>0</th>\n",
       "      <td>139.13614</td>\n",
       "      <td>86.573598</td>\n",
       "      <td>222.617823</td>\n",
       "      <td>1000</td>\n",
       "      <td>18</td>\n",
       "      <td>2400</td>\n",
       "      <td>5000</td>\n",
       "      <td>60</td>\n",
       "      <td>300</td>\n",
       "      <td>31.166495</td>\n",
       "      <td>12.367657</td>\n",
       "      <td>27.827228</td>\n",
       "    </tr>\n",
       "  </tbody>\n",
       "</table>\n",
       "</div>"
      ],
      "text/plain": [
       "      carb_g      fat_g   protein_g  calcium_mg  iron_mg  sodium_mg  \\\n",
       "0  139.13614  86.573598  222.617823        1000       18       2400   \n",
       "\n",
       "   vit_a_mcg  vit_c_mg  cholesterol_mg    fiber_g  saturated_fat_g    sugar_g  \n",
       "0       5000        60             300  31.166495        12.367657  27.827228  "
      ]
     },
     "execution_count": 5,
     "metadata": {},
     "output_type": "execute_result"
    }
   ],
   "source": [
    "num_reqs_df"
   ]
  },
  {
   "cell_type": "code",
   "execution_count": 5,
   "metadata": {
    "collapsed": true
   },
   "outputs": [],
   "source": [
    "df['p_accept'] = .5 + np.random.rand(len(df),1)*.01"
   ]
  },
  {
   "cell_type": "code",
   "execution_count": 6,
   "metadata": {
    "collapsed": false
   },
   "outputs": [],
   "source": [
    "meals_df=df[df.food_type_grp=='grocery']\n",
    "reqs_df = num_reqs_df\n",
    "oth_relax = .01\n",
    "P = 10\n",
    "mac_relax=0.03"
   ]
  },
  {
   "cell_type": "code",
   "execution_count": 7,
   "metadata": {
    "collapsed": true
   },
   "outputs": [],
   "source": [
    "x = cvxpy.Bool(len(meals_df))\n",
    "P = 10 \n",
    "m = meals_df['p_accept'].as_matrix() # p(acceptance)\n",
    "    # Setting constraint variables\n",
    "c = meals_df['carb_g'].as_matrix() # carbs\n",
    "f = meals_df['fat_g'].as_matrix() # fat\n",
    "p = meals_df['protein_g'].as_matrix() # protein\n",
    "ca = meals_df['calcium_mg'].as_matrix() # calcium\n",
    "i = meals_df['iron_mg'].as_matrix() # iron\n",
    "s = meals_df['sodium_mg'].as_matrix() # sodium\n",
    "v_a = meals_df['vit_a_mcg'].as_matrix() # vitamin A\n",
    "v_c = meals_df['vit_c_mg'].as_matrix() # vitamin C\n",
    "ch = meals_df['cholesterol_mg'].as_matrix() # cholesterol\n",
    "f = meals_df['fiber_g'].as_matrix() # fiber\n",
    "sa = meals_df['saturated_fat_g'].as_matrix() # saturated fat\n",
    "su = meals_df['sugar_g'].as_matrix() # sugar_g"
   ]
  },
  {
   "cell_type": "code",
   "execution_count": 8,
   "metadata": {
    "collapsed": true
   },
   "outputs": [],
   "source": [
    "items = np.ones(len(meals_df))"
   ]
  },
  {
   "cell_type": "code",
   "execution_count": 9,
   "metadata": {
    "collapsed": false
   },
   "outputs": [
    {
     "data": {
      "text/plain": [
       "array([  0.,   0.,  61., ...,   1.,   2.,   1.])"
      ]
     },
     "execution_count": 9,
     "metadata": {},
     "output_type": "execute_result"
    }
   ],
   "source": [
    "p"
   ]
  },
  {
   "cell_type": "code",
   "execution_count": 11,
   "metadata": {
    "collapsed": false
   },
   "outputs": [],
   "source": [
    "constraints = [\n",
    "        items*x <= P, # no more than P items\n",
    "        cvxpy.abs(sum(c*x) - reqs_df['carb_g'].item()) < reqs_df['carb_g'].item()*mac_relax,# within 5% of requirements\n",
    "        cvxpy.abs(sum(f*x) - reqs_df['fat_g'].item()) < reqs_df['fat_g'].item()*mac_relax,\n",
    "        cvxpy.abs(sum(p*x) - reqs_df['protein_g'].item()) < reqs_df['protein_g'].item()*mac_relax\n",
    "        #abs(sum(x*ca) - reqs_df['calcium_mg'].item()) < reqs_df['calcium_mg'].item()*oth_relax,\n",
    "        #abs(sum(x*i) - reqs_df['iron_mg'].item()) < reqs_df['iron_mg'].item()*oth_relax,\n",
    "        #cvxpy.sum_entries(x)\n",
    "        #s*x - reqs_df['sodium_mg'].item() < reqs_df['sodium_mg'].item()*oth_relax,# just above zero\n",
    "        #abs(sum(x*v_a) - reqs_df['vit_a_mcg'].item()) < reqs_df['vit_a_mcg'].item()*oth_relax,\n",
    "        #abs(sum(x*v_c) - reqs_df['vit_c_mg'].item()) < reqs_df['vit_c_mcg'].item()*oth_relax,\n",
    "        #sum(x*ch) - reqs_df['cholesterol_mg'].item() < reqs_df['cholesterol_mg'].item()*oth_relax,\n",
    "        #abs(sum(x*f) - reqs_df['fiber_g'].item()) < reqs_df['fiber_g'].item()*oth_relax,\n",
    "        #sum(x*f) - reqs_df['saturated_fat_g'].item() < reqs_df['saturated_fat_g'].item()*oth_relax,\n",
    "        #sum(x*f) - reqs_df['sugar_g'].item() < reqs_df['sugar_g'].item()*oth_relax\n",
    "]"
   ]
  },
  {
   "cell_type": "code",
   "execution_count": 12,
   "metadata": {
    "collapsed": true
   },
   "outputs": [],
   "source": [
    "prob = cvxpy.Problem(cvxpy.Maximize(m*x), constraints)"
   ]
  },
  {
   "cell_type": "code",
   "execution_count": null,
   "metadata": {
    "collapsed": false,
    "scrolled": true
   },
   "outputs": [],
   "source": [
    "prob.solve(verbose=True, solver= 'GLPK_MI')"
   ]
  },
  {
   "cell_type": "markdown",
   "metadata": {},
   "source": [
    "The long way"
   ]
  },
  {
   "cell_type": "code",
   "execution_count": 17,
   "metadata": {
    "collapsed": false
   },
   "outputs": [],
   "source": [
    "df_ind = pd.DataFrame(x.value, columns=['ind'])"
   ]
  },
  {
   "cell_type": "code",
   "execution_count": 29,
   "metadata": {
    "collapsed": false
   },
   "outputs": [],
   "source": [
    "meals_df = pd.concat([meals_df, df_ind], axis=1)"
   ]
  },
  {
   "cell_type": "code",
   "execution_count": 30,
   "metadata": {
    "collapsed": false
   },
   "outputs": [
    {
     "data": {
      "text/plain": [
       "array(['Unnamed: 0', 'food_key', 'food_description', 'brand',\n",
       "       'food_type_grp', 'source', 'ingredients_list', 'serving_size_raw',\n",
       "       'serving_size_val', 'serving_size_unit', 'calories', 'protein_g',\n",
       "       'fat_g', 'saturated_fat_g', 'carb_g', 'fiber_g', 'sugar_g',\n",
       "       'sodium_mg', 'cholesterol_mg', 'calcium_mg', 'iron_mg', 'vit_a_mcg',\n",
       "       'vit_c_mg', 'p_accept', 'ind'], dtype=object)"
      ]
     },
     "execution_count": 30,
     "metadata": {},
     "output_type": "execute_result"
    }
   ],
   "source": [
    "meals_df.columns.values"
   ]
  },
  {
   "cell_type": "code",
   "execution_count": 31,
   "metadata": {
    "collapsed": false
   },
   "outputs": [],
   "source": [
    "plan_df = meals_df[meals_df.ind==1]"
   ]
  },
  {
   "cell_type": "code",
   "execution_count": 32,
   "metadata": {
    "collapsed": false
   },
   "outputs": [
    {
     "data": {
      "text/html": [
       "<div>\n",
       "<table border=\"1\" class=\"dataframe\">\n",
       "  <thead>\n",
       "    <tr style=\"text-align: right;\">\n",
       "      <th></th>\n",
       "      <th>Unnamed: 0</th>\n",
       "      <th>food_key</th>\n",
       "      <th>food_description</th>\n",
       "      <th>brand</th>\n",
       "      <th>food_type_grp</th>\n",
       "      <th>source</th>\n",
       "      <th>ingredients_list</th>\n",
       "      <th>serving_size_raw</th>\n",
       "      <th>serving_size_val</th>\n",
       "      <th>serving_size_unit</th>\n",
       "      <th>...</th>\n",
       "      <th>fiber_g</th>\n",
       "      <th>sugar_g</th>\n",
       "      <th>sodium_mg</th>\n",
       "      <th>cholesterol_mg</th>\n",
       "      <th>calcium_mg</th>\n",
       "      <th>iron_mg</th>\n",
       "      <th>vit_a_mcg</th>\n",
       "      <th>vit_c_mg</th>\n",
       "      <th>p_accept</th>\n",
       "      <th>ind</th>\n",
       "    </tr>\n",
       "  </thead>\n",
       "  <tbody>\n",
       "    <tr>\n",
       "      <th>83</th>\n",
       "      <td>NaN</td>\n",
       "      <td>NaN</td>\n",
       "      <td>NaN</td>\n",
       "      <td>NaN</td>\n",
       "      <td>NaN</td>\n",
       "      <td>NaN</td>\n",
       "      <td>NaN</td>\n",
       "      <td>NaN</td>\n",
       "      <td>NaN</td>\n",
       "      <td>NaN</td>\n",
       "      <td>...</td>\n",
       "      <td>NaN</td>\n",
       "      <td>NaN</td>\n",
       "      <td>NaN</td>\n",
       "      <td>NaN</td>\n",
       "      <td>NaN</td>\n",
       "      <td>NaN</td>\n",
       "      <td>NaN</td>\n",
       "      <td>NaN</td>\n",
       "      <td>NaN</td>\n",
       "      <td>1.0</td>\n",
       "    </tr>\n",
       "    <tr>\n",
       "      <th>154</th>\n",
       "      <td>NaN</td>\n",
       "      <td>NaN</td>\n",
       "      <td>NaN</td>\n",
       "      <td>NaN</td>\n",
       "      <td>NaN</td>\n",
       "      <td>NaN</td>\n",
       "      <td>NaN</td>\n",
       "      <td>NaN</td>\n",
       "      <td>NaN</td>\n",
       "      <td>NaN</td>\n",
       "      <td>...</td>\n",
       "      <td>NaN</td>\n",
       "      <td>NaN</td>\n",
       "      <td>NaN</td>\n",
       "      <td>NaN</td>\n",
       "      <td>NaN</td>\n",
       "      <td>NaN</td>\n",
       "      <td>NaN</td>\n",
       "      <td>NaN</td>\n",
       "      <td>NaN</td>\n",
       "      <td>1.0</td>\n",
       "    </tr>\n",
       "    <tr>\n",
       "      <th>162</th>\n",
       "      <td>NaN</td>\n",
       "      <td>NaN</td>\n",
       "      <td>NaN</td>\n",
       "      <td>NaN</td>\n",
       "      <td>NaN</td>\n",
       "      <td>NaN</td>\n",
       "      <td>NaN</td>\n",
       "      <td>NaN</td>\n",
       "      <td>NaN</td>\n",
       "      <td>NaN</td>\n",
       "      <td>...</td>\n",
       "      <td>NaN</td>\n",
       "      <td>NaN</td>\n",
       "      <td>NaN</td>\n",
       "      <td>NaN</td>\n",
       "      <td>NaN</td>\n",
       "      <td>NaN</td>\n",
       "      <td>NaN</td>\n",
       "      <td>NaN</td>\n",
       "      <td>NaN</td>\n",
       "      <td>1.0</td>\n",
       "    </tr>\n",
       "    <tr>\n",
       "      <th>487</th>\n",
       "      <td>NaN</td>\n",
       "      <td>NaN</td>\n",
       "      <td>NaN</td>\n",
       "      <td>NaN</td>\n",
       "      <td>NaN</td>\n",
       "      <td>NaN</td>\n",
       "      <td>NaN</td>\n",
       "      <td>NaN</td>\n",
       "      <td>NaN</td>\n",
       "      <td>NaN</td>\n",
       "      <td>...</td>\n",
       "      <td>NaN</td>\n",
       "      <td>NaN</td>\n",
       "      <td>NaN</td>\n",
       "      <td>NaN</td>\n",
       "      <td>NaN</td>\n",
       "      <td>NaN</td>\n",
       "      <td>NaN</td>\n",
       "      <td>NaN</td>\n",
       "      <td>NaN</td>\n",
       "      <td>1.0</td>\n",
       "    </tr>\n",
       "    <tr>\n",
       "      <th>509</th>\n",
       "      <td>NaN</td>\n",
       "      <td>NaN</td>\n",
       "      <td>NaN</td>\n",
       "      <td>NaN</td>\n",
       "      <td>NaN</td>\n",
       "      <td>NaN</td>\n",
       "      <td>NaN</td>\n",
       "      <td>NaN</td>\n",
       "      <td>NaN</td>\n",
       "      <td>NaN</td>\n",
       "      <td>...</td>\n",
       "      <td>NaN</td>\n",
       "      <td>NaN</td>\n",
       "      <td>NaN</td>\n",
       "      <td>NaN</td>\n",
       "      <td>NaN</td>\n",
       "      <td>NaN</td>\n",
       "      <td>NaN</td>\n",
       "      <td>NaN</td>\n",
       "      <td>NaN</td>\n",
       "      <td>1.0</td>\n",
       "    </tr>\n",
       "    <tr>\n",
       "      <th>1761</th>\n",
       "      <td>NaN</td>\n",
       "      <td>NaN</td>\n",
       "      <td>NaN</td>\n",
       "      <td>NaN</td>\n",
       "      <td>NaN</td>\n",
       "      <td>NaN</td>\n",
       "      <td>NaN</td>\n",
       "      <td>NaN</td>\n",
       "      <td>NaN</td>\n",
       "      <td>NaN</td>\n",
       "      <td>...</td>\n",
       "      <td>NaN</td>\n",
       "      <td>NaN</td>\n",
       "      <td>NaN</td>\n",
       "      <td>NaN</td>\n",
       "      <td>NaN</td>\n",
       "      <td>NaN</td>\n",
       "      <td>NaN</td>\n",
       "      <td>NaN</td>\n",
       "      <td>NaN</td>\n",
       "      <td>1.0</td>\n",
       "    </tr>\n",
       "    <tr>\n",
       "      <th>1921</th>\n",
       "      <td>NaN</td>\n",
       "      <td>NaN</td>\n",
       "      <td>NaN</td>\n",
       "      <td>NaN</td>\n",
       "      <td>NaN</td>\n",
       "      <td>NaN</td>\n",
       "      <td>NaN</td>\n",
       "      <td>NaN</td>\n",
       "      <td>NaN</td>\n",
       "      <td>NaN</td>\n",
       "      <td>...</td>\n",
       "      <td>NaN</td>\n",
       "      <td>NaN</td>\n",
       "      <td>NaN</td>\n",
       "      <td>NaN</td>\n",
       "      <td>NaN</td>\n",
       "      <td>NaN</td>\n",
       "      <td>NaN</td>\n",
       "      <td>NaN</td>\n",
       "      <td>NaN</td>\n",
       "      <td>1.0</td>\n",
       "    </tr>\n",
       "    <tr>\n",
       "      <th>2691</th>\n",
       "      <td>NaN</td>\n",
       "      <td>NaN</td>\n",
       "      <td>NaN</td>\n",
       "      <td>NaN</td>\n",
       "      <td>NaN</td>\n",
       "      <td>NaN</td>\n",
       "      <td>NaN</td>\n",
       "      <td>NaN</td>\n",
       "      <td>NaN</td>\n",
       "      <td>NaN</td>\n",
       "      <td>...</td>\n",
       "      <td>NaN</td>\n",
       "      <td>NaN</td>\n",
       "      <td>NaN</td>\n",
       "      <td>NaN</td>\n",
       "      <td>NaN</td>\n",
       "      <td>NaN</td>\n",
       "      <td>NaN</td>\n",
       "      <td>NaN</td>\n",
       "      <td>NaN</td>\n",
       "      <td>1.0</td>\n",
       "    </tr>\n",
       "    <tr>\n",
       "      <th>2767</th>\n",
       "      <td>NaN</td>\n",
       "      <td>NaN</td>\n",
       "      <td>NaN</td>\n",
       "      <td>NaN</td>\n",
       "      <td>NaN</td>\n",
       "      <td>NaN</td>\n",
       "      <td>NaN</td>\n",
       "      <td>NaN</td>\n",
       "      <td>NaN</td>\n",
       "      <td>NaN</td>\n",
       "      <td>...</td>\n",
       "      <td>NaN</td>\n",
       "      <td>NaN</td>\n",
       "      <td>NaN</td>\n",
       "      <td>NaN</td>\n",
       "      <td>NaN</td>\n",
       "      <td>NaN</td>\n",
       "      <td>NaN</td>\n",
       "      <td>NaN</td>\n",
       "      <td>NaN</td>\n",
       "      <td>1.0</td>\n",
       "    </tr>\n",
       "    <tr>\n",
       "      <th>3088</th>\n",
       "      <td>NaN</td>\n",
       "      <td>NaN</td>\n",
       "      <td>NaN</td>\n",
       "      <td>NaN</td>\n",
       "      <td>NaN</td>\n",
       "      <td>NaN</td>\n",
       "      <td>NaN</td>\n",
       "      <td>NaN</td>\n",
       "      <td>NaN</td>\n",
       "      <td>NaN</td>\n",
       "      <td>...</td>\n",
       "      <td>NaN</td>\n",
       "      <td>NaN</td>\n",
       "      <td>NaN</td>\n",
       "      <td>NaN</td>\n",
       "      <td>NaN</td>\n",
       "      <td>NaN</td>\n",
       "      <td>NaN</td>\n",
       "      <td>NaN</td>\n",
       "      <td>NaN</td>\n",
       "      <td>1.0</td>\n",
       "    </tr>\n",
       "  </tbody>\n",
       "</table>\n",
       "<p>10 rows × 25 columns</p>\n",
       "</div>"
      ],
      "text/plain": [
       "      Unnamed: 0 food_key food_description brand food_type_grp source  \\\n",
       "83           NaN      NaN              NaN   NaN           NaN    NaN   \n",
       "154          NaN      NaN              NaN   NaN           NaN    NaN   \n",
       "162          NaN      NaN              NaN   NaN           NaN    NaN   \n",
       "487          NaN      NaN              NaN   NaN           NaN    NaN   \n",
       "509          NaN      NaN              NaN   NaN           NaN    NaN   \n",
       "1761         NaN      NaN              NaN   NaN           NaN    NaN   \n",
       "1921         NaN      NaN              NaN   NaN           NaN    NaN   \n",
       "2691         NaN      NaN              NaN   NaN           NaN    NaN   \n",
       "2767         NaN      NaN              NaN   NaN           NaN    NaN   \n",
       "3088         NaN      NaN              NaN   NaN           NaN    NaN   \n",
       "\n",
       "     ingredients_list serving_size_raw  serving_size_val serving_size_unit  \\\n",
       "83                NaN              NaN               NaN               NaN   \n",
       "154               NaN              NaN               NaN               NaN   \n",
       "162               NaN              NaN               NaN               NaN   \n",
       "487               NaN              NaN               NaN               NaN   \n",
       "509               NaN              NaN               NaN               NaN   \n",
       "1761              NaN              NaN               NaN               NaN   \n",
       "1921              NaN              NaN               NaN               NaN   \n",
       "2691              NaN              NaN               NaN               NaN   \n",
       "2767              NaN              NaN               NaN               NaN   \n",
       "3088              NaN              NaN               NaN               NaN   \n",
       "\n",
       "     ...   fiber_g  sugar_g  sodium_mg  cholesterol_mg  calcium_mg  iron_mg  \\\n",
       "83   ...       NaN      NaN        NaN             NaN         NaN      NaN   \n",
       "154  ...       NaN      NaN        NaN             NaN         NaN      NaN   \n",
       "162  ...       NaN      NaN        NaN             NaN         NaN      NaN   \n",
       "487  ...       NaN      NaN        NaN             NaN         NaN      NaN   \n",
       "509  ...       NaN      NaN        NaN             NaN         NaN      NaN   \n",
       "1761 ...       NaN      NaN        NaN             NaN         NaN      NaN   \n",
       "1921 ...       NaN      NaN        NaN             NaN         NaN      NaN   \n",
       "2691 ...       NaN      NaN        NaN             NaN         NaN      NaN   \n",
       "2767 ...       NaN      NaN        NaN             NaN         NaN      NaN   \n",
       "3088 ...       NaN      NaN        NaN             NaN         NaN      NaN   \n",
       "\n",
       "      vit_a_mcg  vit_c_mg  p_accept  ind  \n",
       "83          NaN       NaN       NaN  1.0  \n",
       "154         NaN       NaN       NaN  1.0  \n",
       "162         NaN       NaN       NaN  1.0  \n",
       "487         NaN       NaN       NaN  1.0  \n",
       "509         NaN       NaN       NaN  1.0  \n",
       "1761        NaN       NaN       NaN  1.0  \n",
       "1921        NaN       NaN       NaN  1.0  \n",
       "2691        NaN       NaN       NaN  1.0  \n",
       "2767        NaN       NaN       NaN  1.0  \n",
       "3088        NaN       NaN       NaN  1.0  \n",
       "\n",
       "[10 rows x 25 columns]"
      ]
     },
     "execution_count": 32,
     "metadata": {},
     "output_type": "execute_result"
    }
   ],
   "source": [
    "plan_df"
   ]
  },
  {
   "cell_type": "code",
   "execution_count": 66,
   "metadata": {
    "collapsed": false
   },
   "outputs": [
    {
     "data": {
      "text/plain": [
       "matrix([[1.],\n",
       "        [1.],\n",
       "        [1.],\n",
       "        [1.],\n",
       "        [1.],\n",
       "        [1.],\n",
       "        [1.],\n",
       "        [1.],\n",
       "        [1.],\n",
       "        [1.],\n",
       "        [1.],\n",
       "        [1.]])"
      ]
     },
     "execution_count": 66,
     "metadata": {},
     "output_type": "execute_result"
    }
   ],
   "source": [
    "x.value[0:12]"
   ]
  },
  {
   "cell_type": "code",
   "execution_count": 42,
   "metadata": {
    "collapsed": true
   },
   "outputs": [],
   "source": [
    "x.value"
   ]
  },
  {
   "cell_type": "code",
   "execution_count": 43,
   "metadata": {
    "collapsed": false
   },
   "outputs": [
    {
     "data": {
      "text/plain": [
       "matrix([[ 1.98516638e-17],\n",
       "        [ 1.59748106e-17],\n",
       "        [-1.26992927e-17],\n",
       "        ...,\n",
       "        [-1.45951993e-17],\n",
       "        [-2.30705524e-17],\n",
       "        [-1.05176597e-18]])"
      ]
     },
     "execution_count": 43,
     "metadata": {},
     "output_type": "execute_result"
    }
   ],
   "source": [
    "y.value"
   ]
  },
  {
   "cell_type": "markdown",
   "metadata": {},
   "source": [
    "Incorporate likes, dislikes"
   ]
  },
  {
   "cell_type": "code",
   "execution_count": 5,
   "metadata": {
    "collapsed": true
   },
   "outputs": [],
   "source": [
    "# Optimize Reqs\n",
    "# Note - as these requirements get smaller, the max_relax and oth_relax should get bigger - they should always remain \n",
    "# relative to the original constraints\n",
    "def opt_reqs(meals_df, reqs_df, P, mac_relax,oth_relax ):\n",
    "    P = 10 # max number of food items selected\n",
    "    # Setting integer variable\n",
    "    x = cvxpy.Bool(len(meals_df['carb_g']))\n",
    "    # Setting probability value\n",
    "    # Setting maximization variable\n",
    "    m = meals_df['p_accept'].as_matrix() # p(acceptance)\n",
    "    # Setting constraint variables\n",
    "    c = meals_df['carb_g'].as_matrix() # carbs\n",
    "    f = meals_df['fat_g'].as_matrix() # fat\n",
    "    p = meals_df['protein_g'].as_matrix() # protein\n",
    "    ca = meals_df['calcium_mg'].as_matrix() # calcium\n",
    "    i = meals_df['iron_mg'].as_matrix() # iron\n",
    "    s = meals_df['sodium_mg'].as_matrix() # sodium\n",
    "    v_a = meals_df['vit_a_mcg'].as_matrix() # vitamin A\n",
    "    v_c = meals_df['vit_c_mg'].as_matrix() # vitamin C\n",
    "    ch = meals_df['cholesterol_mg'].as_matrix() # cholesterol\n",
    "    f = meals_df['fiber_g'].as_matrix() # fiber\n",
    "    sa = meals_df['saturated_fat_g'].as_matrix() # saturated fat\n",
    "    su = meals_df['sugar_g'].as_matrix() # sugar_g\n",
    "    \n",
    "    # Setting constraint variables\n",
    "\n",
    "    constraints = [\n",
    "        sum(x) <= P, # no more than P items\n",
    "        #abs(sum(c*x) - reqs_df['carb_g'].item()) < reqs_df['carb_g'].item()*mac_relax,# within 5% of requirements\n",
    "        #abs(sum(x*f) - reqs_df['fat_g'].item()) < reqs_df['fat_g'].item()*mac_relax,\n",
    "        #abs(sum(x*p) - reqs_df['protein_g'].item()) < reqs_df['protein_g'].item()*mac_relax,\n",
    "        #abs(sum(x*ca) - reqs_df['calcium_mg'].item()) < reqs_df['calcium_mg'].item()*oth_relax,\n",
    "        #abs(sum(x*i) - reqs_df['iron_mg'].item()) < reqs_df['iron_mg'].item()*oth_relax,\n",
    "        sum(s*x) - reqs_df['sodium_mg'].item() < reqs_df['sodium_mg'].item()*oth_relax,# just above zero\n",
    "        #abs(sum(x*v_a) - reqs_df['vit_a_mcg'].item()) < reqs_df['vit_a_mcg'].item()*oth_relax,\n",
    "        #abs(sum(x*v_c) - reqs_df['vit_c_mg'].item()) < reqs_df['vit_c_mcg'].item()*oth_relax,\n",
    "        #sum(x*ch) - reqs_df['cholesterol_mg'].item() < reqs_df['cholesterol_mg'].item()*oth_relax,\n",
    "        #abs(sum(x*f) - reqs_df['fiber_g'].item()) < reqs_df['fiber_g'].item()*oth_relax,\n",
    "        #sum(x*f) - reqs_df['saturated_fat_g'].item() < reqs_df['saturated_fat_g'].item()*oth_relax,\n",
    "        #sum(x*f) - reqs_df['sugar_g'].item() < reqs_df['sugar_g'].item()*oth_relax\n",
    "    ]\n",
    "    \n",
    "    obj = cvxpy.Maximize(sum(m*x))\n",
    "    prob = cvxpy.Problem(obj, constraints)\n",
    "    prob.solve(verbose=True)\n",
    "    \n",
    "    return x"
   ]
  },
  {
   "cell_type": "code",
   "execution_count": null,
   "metadata": {
    "collapsed": true
   },
   "outputs": [],
   "source": [
    "bool_return = opt_reqs(df, num_reqs_df, 10, .01, .01)"
   ]
  }
 ],
 "metadata": {
  "kernelspec": {
   "display_name": "Python 3",
   "language": "python",
   "name": "python3"
  },
  "language_info": {
   "codemirror_mode": {
    "name": "ipython",
    "version": 3
   },
   "file_extension": ".py",
   "mimetype": "text/x-python",
   "name": "python",
   "nbconvert_exporter": "python",
   "pygments_lexer": "ipython3",
   "version": "3.6.0"
  }
 },
 "nbformat": 4,
 "nbformat_minor": 2
}
