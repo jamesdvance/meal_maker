{
 "cells": [
  {
   "cell_type": "code",
   "execution_count": 1,
   "metadata": {
    "collapsed": true
   },
   "outputs": [],
   "source": [
    "import pandas as pd\n",
    "import numpy as np\n",
    "from random import randint\n",
    "import math"
   ]
  },
  {
   "cell_type": "code",
   "execution_count": 31,
   "metadata": {
    "collapsed": true
   },
   "outputs": [],
   "source": [
    "prot_req = 144\n",
    "fat_req = 64\n",
    "carb_req = 132"
   ]
  },
  {
   "cell_type": "code",
   "execution_count": 3,
   "metadata": {
    "collapsed": false
   },
   "outputs": [
    {
     "name": "stderr",
     "output_type": "stream",
     "text": [
      "C:\\ProgramData\\Anaconda3\\lib\\site-packages\\IPython\\core\\interactiveshell.py:2717: DtypeWarning: Columns (140) have mixed types. Specify dtype option on import or set low_memory=False.\n",
      "  interactivity=interactivity, compiler=compiler, result=result)\n"
     ]
    }
   ],
   "source": [
    "full_df = pd.read_csv(\"C:/Users/J/Desktop/Businesses/branded_foods_in_progress.csv\")"
   ]
  },
  {
   "cell_type": "code",
   "execution_count": 4,
   "metadata": {
    "collapsed": true
   },
   "outputs": [],
   "source": [
    "alpha_df = full_df[['ndb_no','desc_only','kilocalories', 'protein_g','fat_g','carb_g','unit_per_item']]\n",
    "useful_df = alpha_df[alpha_df['kilocalories']>0]"
   ]
  },
  {
   "cell_type": "code",
   "execution_count": 5,
   "metadata": {
    "collapsed": false
   },
   "outputs": [
    {
     "name": "stderr",
     "output_type": "stream",
     "text": [
      "C:\\ProgramData\\Anaconda3\\lib\\site-packages\\ipykernel\\__main__.py:1: SettingWithCopyWarning: \n",
      "A value is trying to be set on a copy of a slice from a DataFrame\n",
      "\n",
      "See the caveats in the documentation: http://pandas.pydata.org/pandas-docs/stable/indexing.html#indexing-view-versus-copy\n",
      "  if __name__ == '__main__':\n",
      "C:\\ProgramData\\Anaconda3\\lib\\site-packages\\pandas\\core\\generic.py:4702: SettingWithCopyWarning: \n",
      "A value is trying to be set on a copy of a slice from a DataFrame\n",
      "\n",
      "See the caveats in the documentation: http://pandas.pydata.org/pandas-docs/stable/indexing.html#indexing-view-versus-copy\n",
      "  self._update_inplace(new_data)\n",
      "C:\\ProgramData\\Anaconda3\\lib\\site-packages\\IPython\\core\\interactiveshell.py:2881: SettingWithCopyWarning: \n",
      "A value is trying to be set on a copy of a slice from a DataFrame\n",
      "\n",
      "See the caveats in the documentation: http://pandas.pydata.org/pandas-docs/stable/indexing.html#indexing-view-versus-copy\n",
      "  exec(code_obj, self.user_global_ns, self.user_ns)\n",
      "C:\\ProgramData\\Anaconda3\\lib\\site-packages\\ipykernel\\__main__.py:2: SettingWithCopyWarning: \n",
      "A value is trying to be set on a copy of a slice from a DataFrame\n",
      "\n",
      "See the caveats in the documentation: http://pandas.pydata.org/pandas-docs/stable/indexing.html#indexing-view-versus-copy\n",
      "  from ipykernel import kernelapp as app\n",
      "C:\\ProgramData\\Anaconda3\\lib\\site-packages\\ipykernel\\__main__.py:3: SettingWithCopyWarning: \n",
      "A value is trying to be set on a copy of a slice from a DataFrame\n",
      "\n",
      "See the caveats in the documentation: http://pandas.pydata.org/pandas-docs/stable/indexing.html#indexing-view-versus-copy\n",
      "  app.launch_new_instance()\n",
      "C:\\ProgramData\\Anaconda3\\lib\\site-packages\\pandas\\core\\generic.py:2773: SettingWithCopyWarning: \n",
      "A value is trying to be set on a copy of a slice from a DataFrame.\n",
      "Try using .loc[row_indexer,col_indexer] = value instead\n",
      "\n",
      "See the caveats in the documentation: http://pandas.pydata.org/pandas-docs/stable/indexing.html#indexing-view-versus-copy\n",
      "  self[name] = value\n"
     ]
    }
   ],
   "source": [
    "useful_df.protein_g[useful_df['protein_g'].isnull()] = 0\n",
    "useful_df.fat_g[useful_df['fat_g'].isnull()] = 0\n",
    "useful_df.carb_g[useful_df['carb_g'].isnull()] = 0\n",
    "useful_df.isnull().sum()\n",
    "useful_df.protein_g = useful_df.protein_g.astype(int)\n",
    "useful_df.fat_g = useful_df.fat_g.astype(int)\n",
    "useful_df.carb_g = useful_df.carb_g.astype(int)"
   ]
  },
  {
   "cell_type": "code",
   "execution_count": 7,
   "metadata": {
    "collapsed": false
   },
   "outputs": [
    {
     "name": "stderr",
     "output_type": "stream",
     "text": [
      "C:\\ProgramData\\Anaconda3\\lib\\site-packages\\ipykernel\\__main__.py:1: SettingWithCopyWarning: \n",
      "A value is trying to be set on a copy of a slice from a DataFrame.\n",
      "Try using .loc[row_indexer,col_indexer] = value instead\n",
      "\n",
      "See the caveats in the documentation: http://pandas.pydata.org/pandas-docs/stable/indexing.html#indexing-view-versus-copy\n",
      "  if __name__ == '__main__':\n",
      "C:\\ProgramData\\Anaconda3\\lib\\site-packages\\ipykernel\\__main__.py:2: SettingWithCopyWarning: \n",
      "A value is trying to be set on a copy of a slice from a DataFrame.\n",
      "Try using .loc[row_indexer,col_indexer] = value instead\n",
      "\n",
      "See the caveats in the documentation: http://pandas.pydata.org/pandas-docs/stable/indexing.html#indexing-view-versus-copy\n",
      "  from ipykernel import kernelapp as app\n",
      "C:\\ProgramData\\Anaconda3\\lib\\site-packages\\ipykernel\\__main__.py:3: SettingWithCopyWarning: \n",
      "A value is trying to be set on a copy of a slice from a DataFrame.\n",
      "Try using .loc[row_indexer,col_indexer] = value instead\n",
      "\n",
      "See the caveats in the documentation: http://pandas.pydata.org/pandas-docs/stable/indexing.html#indexing-view-versus-copy\n",
      "  app.launch_new_instance()\n"
     ]
    }
   ],
   "source": [
    "useful_df['prot_prop'] = useful_df.protein_g/(useful_df.protein_g+useful_df.fat_g+useful_df.carb_g)\n",
    "useful_df['fat_prop'] = useful_df.fat_g/(useful_df.protein_g+useful_df.fat_g+useful_df.carb_g)\n",
    "useful_df['carb_prop'] = useful_df.carb_g/(useful_df.protein_g+useful_df.fat_g+useful_df.carb_g)"
   ]
  },
  {
   "cell_type": "code",
   "execution_count": null,
   "metadata": {
    "collapsed": true
   },
   "outputs": [],
   "source": [
    "useful_df.to_csv('C:/Users/J/Datasets/useful_nutrition_df.csv',index=False)"
   ]
  },
  {
   "cell_type": "code",
   "execution_count": 9,
   "metadata": {
    "collapsed": false
   },
   "outputs": [],
   "source": [
    "# test case\n",
    "# Calculate proportions of final requirements\n",
    "def meal_maker2(prot_req, fat_req, carb_req):\n",
    "    # Proportions of initial requirements\n",
    "    proportions = np.array([prot_req/sum([prot_req,fat_req,carb_req]),fat_req/sum([prot_req,fat_req,carb_req]),carb_req/sum([prot_req,fat_req,carb_req])])\n",
    "    # Sort full df by distance to initial proportions\n",
    "    useful_df['prop_distance'] = np.sqrt((useful_df.prot_prop-proportions[0])**2+(useful_df.fat_prop - proportions[1])**2+(useful_df.carb_prop - proportions[2])**2)\n",
    "    #temp_df = temp_df.append(useful_df.iloc[randint(0,len(useful_df)-1),:])\n",
    "    useful_df = useful_df.sort_values(by=['prop_distance'])\n",
    "    plan_df = pd.DataFrame([useful_df.iloc[1,:]])\n",
    "    useful_df = useful_df.drop(useful_df.index[[0]])\n",
    "    delta = np.array([prot_req,fat_req,carb_req])-np.array([sum(plan_df['protein_g']),sum(plan_df['fat_g']),sum(plan_df['carb_g'])])\n",
    "\n",
    "    while sum((abs(delta)<np.array([0.05*prot_req,0.05*fat_req,0.05*carb_req])))!=3:\n",
    "# This part could be parallelized: Split into groups, calculate distance at the same time then bring together with merge sort\n",
    "        delta = np.array([prot_req,fat_req,carb_req])-np.array([sum(plan_df['protein_g']),sum(plan_df['fat_g']),sum(plan_df['carb_g'])])\n",
    "        proportions = np.array([delta[0]/sum(delta),delta[1]/sum(delta),delta[2]/sum(delta)])\n",
    "# Calculate new distance and new sort\n",
    "        useful_df['prop_distance'] = np.sqrt((useful_df.prot_prop-proportions[0])**2+(useful_df.fat_prop - proportions[1])**2+(useful_df.carb_prop - proportions[2])**2)# a\n",
    "        useful_df = useful_df.sort_values(by=['prop_distance'])\n",
    "# Append closest distance\n",
    "        plan_df = plan_df.append([useful_df.iloc[1,:]],ignore_index=True)\n",
    "# Calculate new delta\n",
    "        print(delta)\n",
    "        print(proportions)\n",
    "    return plan_df"
   ]
  },
  {
   "cell_type": "code",
   "execution_count": 32,
   "metadata": {
    "collapsed": false
   },
   "outputs": [
    {
     "name": "stdout",
     "output_type": "stream",
     "text": [
      "[119  53 109]\n",
      "[ 0.42348754  0.1886121   0.38790036]\n",
      "[96 43 88]\n",
      "[ 0.42290749  0.18942731  0.3876652 ]\n",
      "[85 38 78]\n",
      "[ 0.42288557  0.18905473  0.3880597 ]\n",
      "[74 33 68]\n",
      "[ 0.42285714  0.18857143  0.38857143]\n",
      "[53 24 49]\n",
      "[ 0.42063492  0.19047619  0.38888889]\n",
      "[38 17 35]\n",
      "[ 0.42222222  0.18888889  0.38888889]\n",
      "[20  9 19]\n",
      "[ 0.41666667  0.1875      0.39583333]\n",
      "[-1  0 -1]\n",
      "[ 0.5 -0.   0.5]\n"
     ]
    }
   ],
   "source": [
    "proportions = np.array([prot_req/sum([prot_req,fat_req,carb_req]),fat_req/sum([prot_req,fat_req,carb_req]),carb_req/sum([prot_req,fat_req,carb_req])])\n",
    "    # Sort full df by distance to initial proportions\n",
    "useful_df['prop_distance'] = np.sqrt((useful_df.prot_prop-proportions[0])**2+(useful_df.fat_prop - proportions[1])**2+(useful_df.carb_prop - proportions[2])**2)\n",
    "    #temp_df = temp_df.append(useful_df.iloc[randint(0,len(useful_df)-1),:])\n",
    "useful_df = useful_df.sort_values(by=['prop_distance'])\n",
    "plan_df = pd.DataFrame([useful_df.iloc[0,:]])\n",
    "useful_df = useful_df.drop(useful_df.index[[0]])\n",
    "delta = np.array([prot_req,fat_req,carb_req])-np.array([sum(plan_df['protein_g']),sum(plan_df['fat_g']),sum(plan_df['carb_g'])])\n",
    "\n",
    "while sum((abs(delta)<np.array([0.05*prot_req,0.05*fat_req,0.05*carb_req])))!=3 and sum(delta<0)<3:\n",
    "# This part could be parallelized: Split into groups, calculate distance at the same time then bring together with merge sort\n",
    "    delta = np.array([prot_req,fat_req,carb_req])-np.array([sum(plan_df['protein_g']),sum(plan_df['fat_g']),sum(plan_df['carb_g'])])\n",
    "    proportions = np.array([delta[0]/sum(delta),delta[1]/sum(delta),delta[2]/sum(delta)])\n",
    "# Calculate new distance and new sort\n",
    "    useful_df['prop_distance'] = np.sqrt((useful_df.prot_prop-proportions[0])**2+(useful_df.fat_prop - proportions[1])**2+(useful_df.carb_prop - proportions[2])**2)# a\n",
    "    useful_df = useful_df.sort_values(by=['prop_distance'])\n",
    "# Append closest distance\n",
    "    plan_df = plan_df.append([useful_df.iloc[0,:]],ignore_index=True)\n",
    "# Drop used\n",
    "    useful_df = useful_df.drop(useful_df.index[[0]])\n",
    "# Calculate new delta\n",
    "    print(delta)\n",
    "    print(proportions)"
   ]
  },
  {
   "cell_type": "code",
   "execution_count": 33,
   "metadata": {
    "collapsed": false
   },
   "outputs": [
    {
     "data": {
      "text/html": [
       "<div>\n",
       "<table border=\"1\" class=\"dataframe\">\n",
       "  <thead>\n",
       "    <tr style=\"text-align: right;\">\n",
       "      <th></th>\n",
       "      <th>ndb_no</th>\n",
       "      <th>desc_only</th>\n",
       "      <th>kilocalories</th>\n",
       "      <th>protein_g</th>\n",
       "      <th>fat_g</th>\n",
       "      <th>carb_g</th>\n",
       "      <th>unit_per_item</th>\n",
       "      <th>prot_prop</th>\n",
       "      <th>fat_prop</th>\n",
       "      <th>carb_prop</th>\n",
       "      <th>prop_distance</th>\n",
       "    </tr>\n",
       "  </thead>\n",
       "  <tbody>\n",
       "    <tr>\n",
       "      <th>0</th>\n",
       "      <td>45257306</td>\n",
       "      <td>ALMOND CRUSTED FLOUNDER,</td>\n",
       "      <td>300.0</td>\n",
       "      <td>25</td>\n",
       "      <td>11</td>\n",
       "      <td>23</td>\n",
       "      <td>b'FILLET | ABOUT 140\\xc2\\xa0g'</td>\n",
       "      <td>0.423729</td>\n",
       "      <td>0.186441</td>\n",
       "      <td>0.389831</td>\n",
       "      <td>0.002409</td>\n",
       "    </tr>\n",
       "    <tr>\n",
       "      <th>1</th>\n",
       "      <td>45258139</td>\n",
       "      <td>CRAB &amp; SHRIMP SEAFOOD FEAST,</td>\n",
       "      <td>270.0</td>\n",
       "      <td>23</td>\n",
       "      <td>10</td>\n",
       "      <td>21</td>\n",
       "      <td>b'OF PACKAGE | ABOUT 250\\xc2\\xa0g'</td>\n",
       "      <td>0.425926</td>\n",
       "      <td>0.185185</td>\n",
       "      <td>0.388889</td>\n",
       "      <td>0.004320</td>\n",
       "    </tr>\n",
       "    <tr>\n",
       "      <th>2</th>\n",
       "      <td>45203311</td>\n",
       "      <td>BLACKENED MAHI MAHI,</td>\n",
       "      <td>130.0</td>\n",
       "      <td>11</td>\n",
       "      <td>5</td>\n",
       "      <td>10</td>\n",
       "      <td>b'BURGER 85\\xc2\\xa0g'</td>\n",
       "      <td>0.423077</td>\n",
       "      <td>0.192308</td>\n",
       "      <td>0.384615</td>\n",
       "      <td>0.004198</td>\n",
       "    </tr>\n",
       "    <tr>\n",
       "      <th>3</th>\n",
       "      <td>45207094</td>\n",
       "      <td>APPLEGATE NATURALS, GLUTEN-FREE CHICKEN BREAST...</td>\n",
       "      <td>130.0</td>\n",
       "      <td>11</td>\n",
       "      <td>5</td>\n",
       "      <td>10</td>\n",
       "      <td>b'TENDERS 84\\xc2\\xa0g'</td>\n",
       "      <td>0.423077</td>\n",
       "      <td>0.192308</td>\n",
       "      <td>0.384615</td>\n",
       "      <td>0.004741</td>\n",
       "    </tr>\n",
       "    <tr>\n",
       "      <th>4</th>\n",
       "      <td>45119520</td>\n",
       "      <td>HIGH LINER, SEA CUISINE, POTATO CRUSTED COD,</td>\n",
       "      <td>250.0</td>\n",
       "      <td>21</td>\n",
       "      <td>9</td>\n",
       "      <td>19</td>\n",
       "      <td>b'FILLET 148\\xc2\\xa0g'</td>\n",
       "      <td>0.428571</td>\n",
       "      <td>0.183673</td>\n",
       "      <td>0.387755</td>\n",
       "      <td>0.007570</td>\n",
       "    </tr>\n",
       "    <tr>\n",
       "      <th>5</th>\n",
       "      <td>45327263</td>\n",
       "      <td>ORGANIC GLUTEN FREE BREADED CHICKEN BREAST TEN...</td>\n",
       "      <td>180.0</td>\n",
       "      <td>15</td>\n",
       "      <td>7</td>\n",
       "      <td>14</td>\n",
       "      <td>b'ONZ 84\\xc2\\xa0g'</td>\n",
       "      <td>0.416667</td>\n",
       "      <td>0.194444</td>\n",
       "      <td>0.388889</td>\n",
       "      <td>0.005612</td>\n",
       "    </tr>\n",
       "    <tr>\n",
       "      <th>6</th>\n",
       "      <td>45198618</td>\n",
       "      <td>CHICKEN STRIPS,</td>\n",
       "      <td>220.0</td>\n",
       "      <td>18</td>\n",
       "      <td>8</td>\n",
       "      <td>16</td>\n",
       "      <td>b'STRIPS 113\\xc2\\xa0g'</td>\n",
       "      <td>0.428571</td>\n",
       "      <td>0.190476</td>\n",
       "      <td>0.380952</td>\n",
       "      <td>0.010287</td>\n",
       "    </tr>\n",
       "    <tr>\n",
       "      <th>7</th>\n",
       "      <td>45031110</td>\n",
       "      <td>HIGH LINER, SEA CUISINE, HERB CRUSTED COD,</td>\n",
       "      <td>251.0</td>\n",
       "      <td>21</td>\n",
       "      <td>9</td>\n",
       "      <td>20</td>\n",
       "      <td>b'FILLET 140\\xc2\\xa0g'</td>\n",
       "      <td>0.420000</td>\n",
       "      <td>0.180000</td>\n",
       "      <td>0.400000</td>\n",
       "      <td>0.009204</td>\n",
       "    </tr>\n",
       "    <tr>\n",
       "      <th>8</th>\n",
       "      <td>45195979</td>\n",
       "      <td>MUSHROOM STEMS &amp; PIECES,</td>\n",
       "      <td>20.0</td>\n",
       "      <td>2</td>\n",
       "      <td>0</td>\n",
       "      <td>2</td>\n",
       "      <td>b'cup 130\\xc2\\xa0g'</td>\n",
       "      <td>0.500000</td>\n",
       "      <td>0.000000</td>\n",
       "      <td>0.500000</td>\n",
       "      <td>0.000000</td>\n",
       "    </tr>\n",
       "  </tbody>\n",
       "</table>\n",
       "</div>"
      ],
      "text/plain": [
       "     ndb_no                                          desc_only  kilocalories  \\\n",
       "0  45257306                           ALMOND CRUSTED FLOUNDER,         300.0   \n",
       "1  45258139                       CRAB & SHRIMP SEAFOOD FEAST,         270.0   \n",
       "2  45203311                               BLACKENED MAHI MAHI,         130.0   \n",
       "3  45207094  APPLEGATE NATURALS, GLUTEN-FREE CHICKEN BREAST...         130.0   \n",
       "4  45119520       HIGH LINER, SEA CUISINE, POTATO CRUSTED COD,         250.0   \n",
       "5  45327263  ORGANIC GLUTEN FREE BREADED CHICKEN BREAST TEN...         180.0   \n",
       "6  45198618                                    CHICKEN STRIPS,         220.0   \n",
       "7  45031110         HIGH LINER, SEA CUISINE, HERB CRUSTED COD,         251.0   \n",
       "8  45195979                           MUSHROOM STEMS & PIECES,          20.0   \n",
       "\n",
       "   protein_g  fat_g  carb_g                       unit_per_item  prot_prop  \\\n",
       "0         25     11      23      b'FILLET | ABOUT 140\\xc2\\xa0g'   0.423729   \n",
       "1         23     10      21  b'OF PACKAGE | ABOUT 250\\xc2\\xa0g'   0.425926   \n",
       "2         11      5      10               b'BURGER 85\\xc2\\xa0g'   0.423077   \n",
       "3         11      5      10              b'TENDERS 84\\xc2\\xa0g'   0.423077   \n",
       "4         21      9      19              b'FILLET 148\\xc2\\xa0g'   0.428571   \n",
       "5         15      7      14                  b'ONZ 84\\xc2\\xa0g'   0.416667   \n",
       "6         18      8      16              b'STRIPS 113\\xc2\\xa0g'   0.428571   \n",
       "7         21      9      20              b'FILLET 140\\xc2\\xa0g'   0.420000   \n",
       "8          2      0       2                 b'cup 130\\xc2\\xa0g'   0.500000   \n",
       "\n",
       "   fat_prop  carb_prop  prop_distance  \n",
       "0  0.186441   0.389831       0.002409  \n",
       "1  0.185185   0.388889       0.004320  \n",
       "2  0.192308   0.384615       0.004198  \n",
       "3  0.192308   0.384615       0.004741  \n",
       "4  0.183673   0.387755       0.007570  \n",
       "5  0.194444   0.388889       0.005612  \n",
       "6  0.190476   0.380952       0.010287  \n",
       "7  0.180000   0.400000       0.009204  \n",
       "8  0.000000   0.500000       0.000000  "
      ]
     },
     "execution_count": 33,
     "metadata": {},
     "output_type": "execute_result"
    }
   ],
   "source": [
    "plan_df"
   ]
  },
  {
   "cell_type": "code",
   "execution_count": 27,
   "metadata": {
    "collapsed": false
   },
   "outputs": [],
   "source": [
    "macros = [sum(plan_df['protein_g']),sum(plan_df['fat_g']),sum(plan_df['carb_g'])]"
   ]
  },
  {
   "cell_type": "code",
   "execution_count": 29,
   "metadata": {
    "collapsed": false
   },
   "outputs": [],
   "source": [
    "plan_df.to_csv('first_meal_plan.csv')"
   ]
  },
  {
   "cell_type": "code",
   "execution_count": 30,
   "metadata": {
    "collapsed": false
   },
   "outputs": [
    {
     "ename": "UnboundLocalError",
     "evalue": "local variable 'useful_df' referenced before assignment",
     "output_type": "error",
     "traceback": [
      "\u001b[0;31m---------------------------------------------------------------------------\u001b[0m",
      "\u001b[0;31mUnboundLocalError\u001b[0m                         Traceback (most recent call last)",
      "\u001b[0;32m<ipython-input-30-a22334e45a92>\u001b[0m in \u001b[0;36m<module>\u001b[0;34m()\u001b[0m\n\u001b[0;32m----> 1\u001b[0;31m \u001b[0mtest\u001b[0m \u001b[1;33m=\u001b[0m \u001b[0mmeal_maker2\u001b[0m\u001b[1;33m(\u001b[0m\u001b[1;36m50\u001b[0m\u001b[1;33m,\u001b[0m \u001b[1;36m50\u001b[0m\u001b[1;33m,\u001b[0m \u001b[1;36m100\u001b[0m\u001b[1;33m)\u001b[0m\u001b[1;33m\u001b[0m\u001b[0m\n\u001b[0m",
      "\u001b[0;32m<ipython-input-9-1b1b4bd511ca>\u001b[0m in \u001b[0;36mmeal_maker2\u001b[0;34m(prot_req, fat_req, carb_req)\u001b[0m\n\u001b[1;32m      5\u001b[0m     \u001b[0mproportions\u001b[0m \u001b[1;33m=\u001b[0m \u001b[0mnp\u001b[0m\u001b[1;33m.\u001b[0m\u001b[0marray\u001b[0m\u001b[1;33m(\u001b[0m\u001b[1;33m[\u001b[0m\u001b[0mprot_req\u001b[0m\u001b[1;33m/\u001b[0m\u001b[0msum\u001b[0m\u001b[1;33m(\u001b[0m\u001b[1;33m[\u001b[0m\u001b[0mprot_req\u001b[0m\u001b[1;33m,\u001b[0m\u001b[0mfat_req\u001b[0m\u001b[1;33m,\u001b[0m\u001b[0mcarb_req\u001b[0m\u001b[1;33m]\u001b[0m\u001b[1;33m)\u001b[0m\u001b[1;33m,\u001b[0m\u001b[0mfat_req\u001b[0m\u001b[1;33m/\u001b[0m\u001b[0msum\u001b[0m\u001b[1;33m(\u001b[0m\u001b[1;33m[\u001b[0m\u001b[0mprot_req\u001b[0m\u001b[1;33m,\u001b[0m\u001b[0mfat_req\u001b[0m\u001b[1;33m,\u001b[0m\u001b[0mcarb_req\u001b[0m\u001b[1;33m]\u001b[0m\u001b[1;33m)\u001b[0m\u001b[1;33m,\u001b[0m\u001b[0mcarb_req\u001b[0m\u001b[1;33m/\u001b[0m\u001b[0msum\u001b[0m\u001b[1;33m(\u001b[0m\u001b[1;33m[\u001b[0m\u001b[0mprot_req\u001b[0m\u001b[1;33m,\u001b[0m\u001b[0mfat_req\u001b[0m\u001b[1;33m,\u001b[0m\u001b[0mcarb_req\u001b[0m\u001b[1;33m]\u001b[0m\u001b[1;33m)\u001b[0m\u001b[1;33m]\u001b[0m\u001b[1;33m)\u001b[0m\u001b[1;33m\u001b[0m\u001b[0m\n\u001b[1;32m      6\u001b[0m     \u001b[1;31m# Sort full df by distance to initial proportions\u001b[0m\u001b[1;33m\u001b[0m\u001b[1;33m\u001b[0m\u001b[0m\n\u001b[0;32m----> 7\u001b[0;31m     \u001b[0museful_df\u001b[0m\u001b[1;33m[\u001b[0m\u001b[1;34m'prop_distance'\u001b[0m\u001b[1;33m]\u001b[0m \u001b[1;33m=\u001b[0m \u001b[0mnp\u001b[0m\u001b[1;33m.\u001b[0m\u001b[0msqrt\u001b[0m\u001b[1;33m(\u001b[0m\u001b[1;33m(\u001b[0m\u001b[0museful_df\u001b[0m\u001b[1;33m.\u001b[0m\u001b[0mprot_prop\u001b[0m\u001b[1;33m-\u001b[0m\u001b[0mproportions\u001b[0m\u001b[1;33m[\u001b[0m\u001b[1;36m0\u001b[0m\u001b[1;33m]\u001b[0m\u001b[1;33m)\u001b[0m\u001b[1;33m**\u001b[0m\u001b[1;36m2\u001b[0m\u001b[1;33m+\u001b[0m\u001b[1;33m(\u001b[0m\u001b[0museful_df\u001b[0m\u001b[1;33m.\u001b[0m\u001b[0mfat_prop\u001b[0m \u001b[1;33m-\u001b[0m \u001b[0mproportions\u001b[0m\u001b[1;33m[\u001b[0m\u001b[1;36m1\u001b[0m\u001b[1;33m]\u001b[0m\u001b[1;33m)\u001b[0m\u001b[1;33m**\u001b[0m\u001b[1;36m2\u001b[0m\u001b[1;33m+\u001b[0m\u001b[1;33m(\u001b[0m\u001b[0museful_df\u001b[0m\u001b[1;33m.\u001b[0m\u001b[0mcarb_prop\u001b[0m \u001b[1;33m-\u001b[0m \u001b[0mproportions\u001b[0m\u001b[1;33m[\u001b[0m\u001b[1;36m2\u001b[0m\u001b[1;33m]\u001b[0m\u001b[1;33m)\u001b[0m\u001b[1;33m**\u001b[0m\u001b[1;36m2\u001b[0m\u001b[1;33m)\u001b[0m\u001b[1;33m\u001b[0m\u001b[0m\n\u001b[0m\u001b[1;32m      8\u001b[0m     \u001b[1;31m#temp_df = temp_df.append(useful_df.iloc[randint(0,len(useful_df)-1),:])\u001b[0m\u001b[1;33m\u001b[0m\u001b[1;33m\u001b[0m\u001b[0m\n\u001b[1;32m      9\u001b[0m     \u001b[0museful_df\u001b[0m \u001b[1;33m=\u001b[0m \u001b[0museful_df\u001b[0m\u001b[1;33m.\u001b[0m\u001b[0msort_values\u001b[0m\u001b[1;33m(\u001b[0m\u001b[0mby\u001b[0m\u001b[1;33m=\u001b[0m\u001b[1;33m[\u001b[0m\u001b[1;34m'prop_distance'\u001b[0m\u001b[1;33m]\u001b[0m\u001b[1;33m)\u001b[0m\u001b[1;33m\u001b[0m\u001b[0m\n",
      "\u001b[0;31mUnboundLocalError\u001b[0m: local variable 'useful_df' referenced before assignment"
     ]
    }
   ],
   "source": [
    "test = meal_maker2(50, 50, 100)"
   ]
  }
 ],
 "metadata": {
  "kernelspec": {
   "display_name": "Python 3",
   "language": "python",
   "name": "python3"
  },
  "language_info": {
   "codemirror_mode": {
    "name": "ipython",
    "version": 3
   },
   "file_extension": ".py",
   "mimetype": "text/x-python",
   "name": "python",
   "nbconvert_exporter": "python",
   "pygments_lexer": "ipython3",
   "version": "3.6.0"
  }
 },
 "nbformat": 4,
 "nbformat_minor": 2
}
