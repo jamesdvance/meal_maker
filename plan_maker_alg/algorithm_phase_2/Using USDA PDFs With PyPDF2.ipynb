{
 "cells": [
  {
   "cell_type": "code",
   "execution_count": 2,
   "metadata": {
    "collapsed": false
   },
   "outputs": [],
   "source": [
    "import PyPDF2"
   ]
  },
  {
   "cell_type": "code",
   "execution_count": 3,
   "metadata": {
    "collapsed": true
   },
   "outputs": [],
   "source": [
    "pypdf_file = open('C:/Users/J/Downloads/Food_Group_Clusters.pdf', 'rb')"
   ]
  },
  {
   "cell_type": "code",
   "execution_count": 4,
   "metadata": {
    "collapsed": true
   },
   "outputs": [],
   "source": [
    "pdf_reader = PyPDF2.PdfFileReader(pypdf_file)"
   ]
  },
  {
   "cell_type": "code",
   "execution_count": 6,
   "metadata": {
    "collapsed": false
   },
   "outputs": [
    {
     "data": {
      "text/plain": [
       "13"
      ]
     },
     "execution_count": 6,
     "metadata": {},
     "output_type": "execute_result"
    }
   ],
   "source": [
    "pdf_reader.numPages"
   ]
  },
  {
   "cell_type": "code",
   "execution_count": 7,
   "metadata": {
    "collapsed": true
   },
   "outputs": [],
   "source": [
    "page_obj = pdf_reader.getPage(0)"
   ]
  },
  {
   "cell_type": "code",
   "execution_count": 8,
   "metadata": {
    "collapsed": true
   },
   "outputs": [],
   "source": [
    "page1_text = page_obj.extractText()"
   ]
  },
  {
   "cell_type": "code",
   "execution_count": 9,
   "metadata": {
    "collapsed": false
   },
   "outputs": [
    {
     "data": {
      "text/plain": [
       "'Item\\n Clusters,\\n Percent\\n of Consumption,\\n and\\n Representative\\n Foods\\n for\\n USDA\\n Food\\n Pattern\\n Food\\n Groups\\n and\\n Subgroups\\n      Whole\\n Fruit\\n 70.4\\n  Apples,\\n cooked\\n or canned\\n 0.8\\n 1.1\\n Applesauce,\\n canned,\\n unsweetened,\\n without\\n vitamin\\n C Apples,\\n dried\\n 0.1\\n 0.1\\n Apple,\\n dried,\\n sulfured,\\n uncooked\\n Apples,\\n raw\\n 18.5\\n 26.3\\n Apple,\\n raw,\\n with\\n skin\\n Applesauce\\n 1.0\\n 1.4\\n Applesauce,\\n canned,\\n unsweetened,\\n without\\n vitamin\\n C Apricot,\\n cooked\\n or canned\\n 0.0\\n 0.0\\n Apricot,\\n canned,\\n water\\n pack\\n Apricot,\\n dried\\n 0.0\\n 0.1\\n Apricot,\\n dried,\\n sulfured,\\n uncooked\\n Apricot,\\n raw\\n 0.1\\n 0.1\\n Apricots,\\n raw\\n Bananas,\\n cooked\\n or canned\\n (Incl.\\n red)\\n 0.1\\n 0.2\\n Bananas,\\n raw\\n Bananas,\\n dried\\n 0.0\\n 0.1\\n Bananas,\\n dehydrated\\n Bananas,\\n raw\\n (Incl.\\n white,\\n red,\\n Chinese,\\n 12.8\\n 18.2\\n Bananas,\\n raw\\n apple\\n types)\\n Blackberries,\\n cooked\\n or canned\\n  0.0\\n  0.0\\n  Blackberries,\\n raw\\n Blackberries,\\n raw\\n 0.3\\n 0.4\\n Blackberries,\\n raw\\n Blueberries,\\n cooked\\n or canned\\n 0.2\\n 0.4\\n Blueberries,\\n raw\\n Blueberries,\\n dried\\n 0.0\\n 0.0\\n Blueberries,\\n raw\\n Blueberries,\\n raw\\n 1.5\\n 2.1\\n Blueberries,\\n raw\\n Boysenberries,\\n raw\\n 0.0\\n 0.0\\n Boysenberries,\\n frozen,\\n unsweetened\\n Cantaloupe,\\n raw\\n 2.0\\n 2.9\\n Melons,\\n cantaloupe,\\n raw\\n Casaba\\n Melon,\\n raw\\n 0.0\\n 0.0\\n Melons,\\n casaba,\\n raw\\n Cherries,\\n cooked\\n or canned\\n (Incl.\\n 0.1\\n 0.1\\n Cherries,\\n sour,\\n red,\\n canned,\\n water\\n pack\\n maraschino)\\n Cherries,\\n raw\\n  0.0\\n  1.4\\n  Cherries,\\n sweet,\\n raw\\n Cranberries,\\n cooked\\n or canned\\n 0.1\\n 0.2\\n Cranberry\\n sauce,\\n canned,\\n sweetened\\n Cranberries,\\n dried\\n 0.4\\n 0.6\\n Cranberries,\\n dried,\\n sweetened\\n Cranberries,\\n raw\\n 0.0\\n 0.0\\n Cranberries,\\n raw\\n Dates,\\n raw\\n and\\n cooked\\n 0.1\\n 0.1\\n Dates,\\n deglet\\n noor\\n Dewberries,\\n raw\\n 0.0\\n 0.0\\n Blackberries,\\n raw\\n Figs,\\n cooked\\n or canned\\n 0.0\\n 0.1\\n Figs,\\n canned,\\n water\\n pack\\n Figs,\\n dried\\n 0.0\\n 0.0\\n Figs,\\n dried,\\n uncooked\\n Figs,\\n raw\\n 0.0\\n 0.0\\n Figs,\\n raw\\n Grapefruit,\\n cooked\\n or canned\\n 0.0\\n 0.0\\n Grapefruit\\n sections,\\n canned,\\n water\\n pack\\n Grapefruit,\\n raw\\n 0.6\\n 0.9\\n Grapefruit,\\n raw,\\n pink,\\n red,\\n and\\n white\\n Grapes,\\n cooked\\n or canned\\n 0.0\\n 0.0\\n Grapes,\\n canned,\\n Thompson\\n seedless,\\n water\\n pack\\n Grapes,\\n raw\\n 3.8\\n 5.4\\n Grapes,\\n red/green\\n (European\\n type),\\n raw\\n Guava,\\n cooked\\n or canned\\n 0.0\\n 0.0\\n Guavas,\\n common,\\n raw\\n Guava,\\n raw\\n 0.0\\n 0.0\\n Guavas,\\n common,\\n raw\\n Honeydew\\n Melon,\\n raw\\n 0.4\\n 0.5\\n Melons,\\n honeydew,\\n raw\\n Huckleberries,\\n raw\\n 0.0\\n 0.0\\n Huckleberries,\\n raw\\n Japanese\\n Pears,\\n raw\\n 0.1\\n 0.1\\n Pears,\\n asian,\\n raw\\n Juneberry,\\n raw\\n 0.0\\n 0.0\\n Blackberries,\\n raw\\n Kiwifruit,\\n raw\\n 0.1\\n 0.2\\n Kiwifruit,\\n green,\\n raw\\n Kumquat,\\n cooked\\n or canned\\n 0.0\\n 0.0\\n Kumquats,\\n raw\\n Kumquat,\\n raw\\n 0.0\\n 0.0\\n Kumquats,\\n raw\\n Lemons,\\n raw\\n or cooked\\n (Incl.\\n lemon\\n peel\\n 0.0\\n 0.0\\n Lemons,\\n raw,\\n without\\n peel\\n & citron)\\n    Lime,\\n raw\\n (Incl.\\n calamondin)\\n 0.0\\n 0.0\\n Limes,\\n raw\\n FRUIT GROUP\\n Subgroup\\n and\\n Item\\n Clusters\\n % food\\n % food\\n group\\n subgroup\\n Representative\\n Food\\n (used\\n to\\n represent\\n nutrient\\n value\\n of\\n the\\n item\\n cluster)\\n '"
      ]
     },
     "execution_count": 9,
     "metadata": {},
     "output_type": "execute_result"
    }
   ],
   "source": [
    "page1_text"
   ]
  }
 ],
 "metadata": {
  "kernelspec": {
   "display_name": "Python 3",
   "language": "python",
   "name": "python3"
  },
  "language_info": {
   "codemirror_mode": {
    "name": "ipython",
    "version": 3
   },
   "file_extension": ".py",
   "mimetype": "text/x-python",
   "name": "python",
   "nbconvert_exporter": "python",
   "pygments_lexer": "ipython3",
   "version": "3.6.0"
  }
 },
 "nbformat": 4,
 "nbformat_minor": 2
}
