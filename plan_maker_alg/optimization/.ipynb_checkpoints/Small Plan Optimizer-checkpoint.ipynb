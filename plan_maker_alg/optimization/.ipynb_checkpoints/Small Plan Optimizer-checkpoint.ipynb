{
 "cells": [
  {
   "cell_type": "code",
   "execution_count": 1,
   "metadata": {
    "collapsed": true
   },
   "outputs": [],
   "source": [
    "import pandas as pd\n",
    "import numpy as np\n",
    "import cvxpy"
   ]
  },
  {
   "cell_type": "code",
   "execution_count": 2,
   "metadata": {
    "collapsed": false
   },
   "outputs": [],
   "source": [
    "df = pd.read_csv('C:/Users/J/Fitness/Meal Plans/foods_this_week.csv')\n",
    "df=df.fillna(0)"
   ]
  },
  {
   "cell_type": "code",
   "execution_count": 4,
   "metadata": {
    "collapsed": true
   },
   "outputs": [],
   "source": [
    "reqs = pd.read_csv('C:/Users/J/Fitness/Meal Plans/num_reqs_df.csv')"
   ]
  },
  {
   "cell_type": "markdown",
   "metadata": {},
   "source": [
    "Adding the start to this plan"
   ]
  },
  {
   "cell_type": "markdown",
   "metadata": {},
   "source": [
    "Optimization"
   ]
  },
  {
   "cell_type": "code",
   "execution_count": 123,
   "metadata": {
    "collapsed": true
   },
   "outputs": [],
   "source": [
    "plan_df = df"
   ]
  },
  {
   "cell_type": "code",
   "execution_count": 72,
   "metadata": {
    "collapsed": false
   },
   "outputs": [
    {
     "data": {
      "text/plain": [
       "array(['Lunch', 'Breakfast', 'Dinner', 'Snacks'], dtype=object)"
      ]
     },
     "execution_count": 72,
     "metadata": {},
     "output_type": "execute_result"
    }
   ],
   "source": [
    "df['Meal Time'].unique()"
   ]
  },
  {
   "cell_type": "markdown",
   "metadata": {},
   "source": [
    "Subsets"
   ]
  },
  {
   "cell_type": "code",
   "execution_count": 73,
   "metadata": {
    "collapsed": true
   },
   "outputs": [],
   "source": [
    "br = df[df['Meal Time']=='Breakfast']\n",
    "lu = df[df['Meal Time']=='Lunch']\n",
    "di = df[df['Meal Time']=='Dinner']\n",
    "sn = df[df['Meal Time']=='Snacks']"
   ]
  },
  {
   "cell_type": "markdown",
   "metadata": {},
   "source": [
    "Variables"
   ]
  },
  {
   "cell_type": "code",
   "execution_count": 20,
   "metadata": {
    "collapsed": true
   },
   "outputs": [],
   "source": [
    "def all_nuts(df):\n",
    "    cal = df['calories'].as_matrix()\n",
    "    pro = df['protein_g'].as_matrix()\n",
    "    fat = df['fat_g'].as_matrix()\n",
    "    sat = df['saturated_fat_g'].as_matrix()\n",
    "    car = df['carb_g'].as_matrix()\n",
    "    fib = df['fiber_g'].as_matrix()\n",
    "    sug = df['sugar_g'].as_matrix()\n",
    "    sod = df['sodium_mg'].as_matrix()\n",
    "    cho = df['cholesterol_mg'].as_matrix()\n",
    "    cal = df['calcium_mg'].as_matrix()\n",
    "    iro = df['iron_mg'].as_matrix()\n",
    "    v_a = df['vit_a_mcg'].as_matrix()\n",
    "    v_c = df['vit_c_mg'].as_matrix()\n",
    "    \n",
    "    return cal, pro, fat, sat, car, fib, sug, sod, cho, cal, iro, v_a, v_c"
   ]
  },
  {
   "cell_type": "code",
   "execution_count": 22,
   "metadata": {
    "collapsed": true
   },
   "outputs": [],
   "source": [
    "def three_arr(df):\n",
    "    mac_mat = df[['protein_g', 'carb_g','fat_g']].as_matrix().astype(float)\n",
    "    req_mat = df[['fiber_g','calcium_mg','iron_mg','vit_a_mcg','vit_c_mg']].as_matrix().astype(float)\n",
    "    thr_mat = df[['saturated_fat_g', 'sodium_mg','cholesterol_mg']].as_matrix().astype(float)\n",
    "    \n",
    "    return mac_mat, req_mat, thr_mat"
   ]
  },
  {
   "cell_type": "code",
   "execution_count": 74,
   "metadata": {
    "collapsed": false
   },
   "outputs": [],
   "source": [
    "# Selectors\n",
    "b = np.array([1,1,2])\n",
    "l = np.array([0.5, 1,1])\n",
    "d =  cvxpy.Variable(len(di))\n",
    "s =  cvxpy.Int(len(sn))\n",
    "# Independents\n",
    "mac_br, req_br, thr_br = three_arr(br)\n",
    "mac_lu, req_lu, thr_lu = three_arr(lu)\n",
    "mac_di, req_di, thr_di = three_arr(di)\n",
    "mac_sn, req_sn, thr_sn = three_arr(sn)\n",
    "# Requirements\n",
    "mac_req, req_req, thr_req = three_arr(reqs)"
   ]
  },
  {
   "cell_type": "code",
   "execution_count": 82,
   "metadata": {
    "collapsed": false
   },
   "outputs": [
    {
     "data": {
      "text/plain": [
       "(3,)"
      ]
     },
     "execution_count": 82,
     "metadata": {},
     "output_type": "execute_result"
    }
   ],
   "source": [
    "sum(b[:, np.newaxis]*mac_br).shape"
   ]
  },
  {
   "cell_type": "code",
   "execution_count": 106,
   "metadata": {
    "collapsed": false
   },
   "outputs": [],
   "source": [
    "cost = cvxpy.sum_entries(cvxpy.sum_squares((sum(b[:, np.newaxis]*mac_br) + sum(l[:, np.newaxis]*mac_lu)+sum(mac_di*d))-mac_req.T))"
   ]
  },
  {
   "cell_type": "code",
   "execution_count": 117,
   "metadata": {
    "collapsed": false
   },
   "outputs": [
    {
     "data": {
      "text/plain": [
       "array([[  4.,  39.,   0.],\n",
       "       [  1.,   7.,   0.],\n",
       "       [ 25.,   0.,   4.]])"
      ]
     },
     "execution_count": 117,
     "metadata": {},
     "output_type": "execute_result"
    }
   ],
   "source": [
    "mac_di"
   ]
  },
  {
   "cell_type": "code",
   "execution_count": 107,
   "metadata": {
    "collapsed": false
   },
   "outputs": [],
   "source": [
    "prob = cvxpy.Problem(cvxpy.Minimize(cost))"
   ]
  },
  {
   "cell_type": "code",
   "execution_count": 109,
   "metadata": {
    "collapsed": false
   },
   "outputs": [
    {
     "data": {
      "text/plain": [
       "7024.200990675435"
      ]
     },
     "execution_count": 109,
     "metadata": {},
     "output_type": "execute_result"
    }
   ],
   "source": [
    "prob.solve(solver='ECOS')"
   ]
  },
  {
   "cell_type": "code",
   "execution_count": 124,
   "metadata": {
    "collapsed": false
   },
   "outputs": [
    {
     "name": "stderr",
     "output_type": "stream",
     "text": [
      "C:\\ProgramData\\Anaconda3\\lib\\site-packages\\ipykernel\\__main__.py:2: SettingWithCopyWarning: \n",
      "A value is trying to be set on a copy of a slice from a DataFrame\n",
      "\n",
      "See the caveats in the documentation: http://pandas.pydata.org/pandas-docs/stable/indexing.html#indexing-view-versus-copy\n",
      "  from ipykernel import kernelapp as app\n",
      "C:\\ProgramData\\Anaconda3\\lib\\site-packages\\ipykernel\\__main__.py:3: SettingWithCopyWarning: \n",
      "A value is trying to be set on a copy of a slice from a DataFrame\n",
      "\n",
      "See the caveats in the documentation: http://pandas.pydata.org/pandas-docs/stable/indexing.html#indexing-view-versus-copy\n",
      "  app.launch_new_instance()\n"
     ]
    }
   ],
   "source": [
    "plan_df['include'] = 0\n",
    "plan_df['include'][plan_df['Meal Time']=='Breakfast'] = b\n",
    "plan_df['include'][plan_df['Meal Time']=='Lunch'] = l\n",
    "plan_df['include'][plan_df['Meal Time']=='Dinner'] = np.asarray(d.value).reshape(-1)"
   ]
  },
  {
   "cell_type": "code",
   "execution_count": 115,
   "metadata": {
    "collapsed": false
   },
   "outputs": [
    {
     "data": {
      "text/plain": [
       "array([ 1.35290425,  0.98181403,  6.13132013])"
      ]
     },
     "execution_count": 115,
     "metadata": {},
     "output_type": "execute_result"
    }
   ],
   "source": [
    "np.asarray(d.value).reshape(-1)"
   ]
  },
  {
   "cell_type": "code",
   "execution_count": 125,
   "metadata": {
    "collapsed": false
   },
   "outputs": [],
   "source": [
    "new_reqs_df = pd.DataFrame([[sum(plan_df['calories']*plan_df['include'])-reqs['calories'].item(),\n",
    "                            sum(plan_df['carb_g']*plan_df['include'])-reqs['carb_g'].item(),\n",
    "                            sum(plan_df['fat_g']*plan_df['include'])-reqs['fat_g'].item(),\n",
    "                            sum(plan_df['protein_g']*plan_df['include'])-reqs['protein_g'].item(), \n",
    "                            sum(plan_df['calcium_mg']*plan_df['include'])-reqs['calcium_mg'].item(), \n",
    "                            sum(plan_df['iron_mg']*plan_df['include'])-reqs['iron_mg'].item(),\n",
    "                            sum(plan_df['sodium_mg']*plan_df['include'])-reqs['sodium_mg'].item(),\n",
    "                            sum(plan_df['vit_a_mcg']*plan_df['include'])-reqs['vit_a_mcg'].item(),\n",
    "                            sum(plan_df['vit_c_mg']*plan_df['include'])-reqs['vit_c_mg'].item(),\n",
    "                            sum(plan_df['cholesterol_mg']*plan_df['include'])-reqs['cholesterol_mg'].item(),\n",
    "                            sum(plan_df['fiber_g']*plan_df['include'])-reqs['fiber_g'].item(),   \n",
    "                            sum(plan_df['saturated_fat_g']*plan_df['include'])-reqs['saturated_fat_g'].item(),   \n",
    "                            sum(plan_df['sugar_g']*plan_df['include'])-reqs['sugar_g'].item()]],columns=reqs.columns.values)"
   ]
  },
  {
   "cell_type": "code",
   "execution_count": 126,
   "metadata": {
    "collapsed": false
   },
   "outputs": [
    {
     "data": {
      "text/html": [
       "<div>\n",
       "<table border=\"1\" class=\"dataframe\">\n",
       "  <thead>\n",
       "    <tr style=\"text-align: right;\">\n",
       "      <th></th>\n",
       "      <th>calories</th>\n",
       "      <th>protein_g</th>\n",
       "      <th>fat_g</th>\n",
       "      <th>saturated_fat_g</th>\n",
       "      <th>carb_g</th>\n",
       "      <th>fiber_g</th>\n",
       "      <th>sugar_g</th>\n",
       "      <th>sodium_mg</th>\n",
       "      <th>cholesterol_mg</th>\n",
       "      <th>calcium_mg</th>\n",
       "      <th>iron_mg</th>\n",
       "      <th>vit_a_mcg</th>\n",
       "      <th>vit_c_mg</th>\n",
       "    </tr>\n",
       "  </thead>\n",
       "  <tbody>\n",
       "    <tr>\n",
       "      <th>0</th>\n",
       "      <td>-513.345271</td>\n",
       "      <td>-32.000176</td>\n",
       "      <td>-38.048317</td>\n",
       "      <td>-16.941389</td>\n",
       "      <td>-577.737317</td>\n",
       "      <td>-10.090538</td>\n",
       "      <td>-1111.464191</td>\n",
       "      <td>-3807.274387</td>\n",
       "      <td>51.9268</td>\n",
       "      <td>315.505611</td>\n",
       "      <td>-24.349963</td>\n",
       "      <td>2.763663</td>\n",
       "      <td>-20.899972</td>\n",
       "    </tr>\n",
       "  </tbody>\n",
       "</table>\n",
       "</div>"
      ],
      "text/plain": [
       "     calories  protein_g      fat_g  saturated_fat_g      carb_g    fiber_g  \\\n",
       "0 -513.345271 -32.000176 -38.048317       -16.941389 -577.737317 -10.090538   \n",
       "\n",
       "       sugar_g    sodium_mg  cholesterol_mg  calcium_mg    iron_mg  vit_a_mcg  \\\n",
       "0 -1111.464191 -3807.274387         51.9268  315.505611 -24.349963   2.763663   \n",
       "\n",
       "    vit_c_mg  \n",
       "0 -20.899972  "
      ]
     },
     "execution_count": 126,
     "metadata": {},
     "output_type": "execute_result"
    }
   ],
   "source": [
    "new_reqs_df"
   ]
  },
  {
   "cell_type": "markdown",
   "metadata": {},
   "source": [
    "Some throughts - the most important thing is calories. Should include calories as a hard constraint and try to minimize this cost\n",
    "* This solver solution clearly isn't working\n",
    "* This is a good framework to keep experimenting with solvers and heuristics"
   ]
  }
 ],
 "metadata": {
  "kernelspec": {
   "display_name": "Python 3",
   "language": "python",
   "name": "python3"
  },
  "language_info": {
   "codemirror_mode": {
    "name": "ipython",
    "version": 3
   },
   "file_extension": ".py",
   "mimetype": "text/x-python",
   "name": "python",
   "nbconvert_exporter": "python",
   "pygments_lexer": "ipython3",
   "version": "3.6.0"
  }
 },
 "nbformat": 4,
 "nbformat_minor": 2
}
