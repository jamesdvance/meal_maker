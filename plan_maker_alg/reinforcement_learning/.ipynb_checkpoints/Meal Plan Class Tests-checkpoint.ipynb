{
 "cells": [
  {
   "cell_type": "code",
   "execution_count": 1,
   "metadata": {
    "collapsed": true
   },
   "outputs": [],
   "source": [
    "import pandas as pd\n",
    "import numpy as np\n",
    "from meal_plan_env import DayPlan"
   ]
  },
  {
   "cell_type": "code",
   "execution_count": 2,
   "metadata": {
    "collapsed": false
   },
   "outputs": [],
   "source": [
    "num_reqs_df = pd.read_csv(\"C:/Users/J/Fitness/Meal Plans/num_reqs_df.csv\")"
   ]
  },
  {
   "cell_type": "code",
   "execution_count": 3,
   "metadata": {
    "collapsed": true
   },
   "outputs": [],
   "source": [
    "pl = DayPlan()"
   ]
  },
  {
   "cell_type": "code",
   "execution_count": 4,
   "metadata": {
    "collapsed": true
   },
   "outputs": [],
   "source": [
    "pl.reset()"
   ]
  },
  {
   "cell_type": "code",
   "execution_count": 5,
   "metadata": {
    "collapsed": true
   },
   "outputs": [],
   "source": [
    "pl.set_num_reqs(num_reqs_df)"
   ]
  },
  {
   "cell_type": "markdown",
   "metadata": {},
   "source": [
    "#### 1. Making First Step"
   ]
  },
  {
   "cell_type": "code",
   "execution_count": null,
   "metadata": {
    "collapsed": true
   },
   "outputs": [],
   "source": [
    "# "
   ]
  },
  {
   "cell_type": "code",
   "execution_count": 6,
   "metadata": {
    "collapsed": false
   },
   "outputs": [],
   "source": [
    "z = np.zeros(len(pl.df))\n",
    "z[np.random.choice(range(len(pl.df)))] =1"
   ]
  },
  {
   "cell_type": "code",
   "execution_count": 7,
   "metadata": {
    "collapsed": false
   },
   "outputs": [
    {
     "data": {
      "text/plain": [
       "166479"
      ]
     },
     "execution_count": 7,
     "metadata": {},
     "output_type": "execute_result"
    }
   ],
   "source": [
    "np.where(z==1)[0][0]"
   ]
  },
  {
   "cell_type": "code",
   "execution_count": 8,
   "metadata": {
    "collapsed": false
   },
   "outputs": [
    {
     "data": {
      "text/plain": [
       "food_key                              401176\n",
       "food_description     Meatless Chicken Slices\n",
       "brand                 Worthington Loma Linda\n",
       "food_type_grp                        grocery\n",
       "source                            fat_secret\n",
       "ingredients_list                           0\n",
       "serving_size_raw              3 slices (57g)\n",
       "serving_size_val                           3\n",
       "serving_size_unit               slices (57g)\n",
       "calories                                  90\n",
       "protein_g                                  9\n",
       "fat_g                                    4.5\n",
       "saturated_fat_g                            1\n",
       "carb_g                                     2\n",
       "fiber_g                                    0\n",
       "sugar_g                                    0\n",
       "sodium_mg                                250\n",
       "cholesterol_mg                             0\n",
       "calcium_mg                               250\n",
       "iron_mg                                  1.8\n",
       "vit_a_mcg                                  0\n",
       "vit_c_mg                                   0\n",
       "Name: 166479, dtype: object"
      ]
     },
     "execution_count": 8,
     "metadata": {},
     "output_type": "execute_result"
    }
   ],
   "source": [
    "pl.df.iloc[np.where(z==1)[0][0],:]"
   ]
  },
  {
   "cell_type": "code",
   "execution_count": 9,
   "metadata": {
    "collapsed": false
   },
   "outputs": [
    {
     "data": {
      "text/html": [
       "<div>\n",
       "<table border=\"1\" class=\"dataframe\">\n",
       "  <thead>\n",
       "    <tr style=\"text-align: right;\">\n",
       "      <th></th>\n",
       "      <th>food_key</th>\n",
       "      <th>food_description</th>\n",
       "      <th>brand</th>\n",
       "      <th>food_type_grp</th>\n",
       "      <th>source</th>\n",
       "      <th>ingredients_list</th>\n",
       "      <th>serving_size_raw</th>\n",
       "      <th>serving_size_val</th>\n",
       "      <th>serving_size_unit</th>\n",
       "      <th>calories</th>\n",
       "      <th>...</th>\n",
       "      <th>saturated_fat_g</th>\n",
       "      <th>carb_g</th>\n",
       "      <th>fiber_g</th>\n",
       "      <th>sugar_g</th>\n",
       "      <th>sodium_mg</th>\n",
       "      <th>cholesterol_mg</th>\n",
       "      <th>calcium_mg</th>\n",
       "      <th>iron_mg</th>\n",
       "      <th>vit_a_mcg</th>\n",
       "      <th>vit_c_mg</th>\n",
       "    </tr>\n",
       "  </thead>\n",
       "  <tbody>\n",
       "    <tr>\n",
       "      <th>166479</th>\n",
       "      <td>401176</td>\n",
       "      <td>Meatless Chicken Slices</td>\n",
       "      <td>Worthington Loma Linda</td>\n",
       "      <td>grocery</td>\n",
       "      <td>fat_secret</td>\n",
       "      <td>0</td>\n",
       "      <td>3 slices (57g)</td>\n",
       "      <td>3.0</td>\n",
       "      <td>slices (57g)</td>\n",
       "      <td>90.0</td>\n",
       "      <td>...</td>\n",
       "      <td>1.0</td>\n",
       "      <td>2.0</td>\n",
       "      <td>0.0</td>\n",
       "      <td>0.0</td>\n",
       "      <td>250.0</td>\n",
       "      <td>0.0</td>\n",
       "      <td>250.0</td>\n",
       "      <td>1.8</td>\n",
       "      <td>0.0</td>\n",
       "      <td>0.0</td>\n",
       "    </tr>\n",
       "  </tbody>\n",
       "</table>\n",
       "<p>1 rows × 22 columns</p>\n",
       "</div>"
      ],
      "text/plain": [
       "        food_key         food_description                   brand  \\\n",
       "166479    401176  Meatless Chicken Slices  Worthington Loma Linda   \n",
       "\n",
       "       food_type_grp      source ingredients_list serving_size_raw  \\\n",
       "166479       grocery  fat_secret                0   3 slices (57g)   \n",
       "\n",
       "        serving_size_val serving_size_unit  calories    ...     \\\n",
       "166479               3.0      slices (57g)      90.0    ...      \n",
       "\n",
       "        saturated_fat_g  carb_g  fiber_g  sugar_g  sodium_mg  cholesterol_mg  \\\n",
       "166479              1.0     2.0      0.0      0.0      250.0             0.0   \n",
       "\n",
       "        calcium_mg  iron_mg  vit_a_mcg  vit_c_mg  \n",
       "166479       250.0      1.8        0.0       0.0  \n",
       "\n",
       "[1 rows x 22 columns]"
      ]
     },
     "execution_count": 9,
     "metadata": {},
     "output_type": "execute_result"
    }
   ],
   "source": [
    "pl.df[list(map(bool, list(z)))]"
   ]
  },
  {
   "cell_type": "code",
   "execution_count": 10,
   "metadata": {
    "collapsed": false
   },
   "outputs": [],
   "source": [
    "s,r,d =  pl.step(z)"
   ]
  },
  {
   "cell_type": "code",
   "execution_count": 11,
   "metadata": {
    "collapsed": false
   },
   "outputs": [
    {
     "data": {
      "text/html": [
       "<div>\n",
       "<table border=\"1\" class=\"dataframe\">\n",
       "  <thead>\n",
       "    <tr style=\"text-align: right;\">\n",
       "      <th></th>\n",
       "      <th>food_key</th>\n",
       "      <th>food_description</th>\n",
       "      <th>brand</th>\n",
       "      <th>food_type_grp</th>\n",
       "      <th>source</th>\n",
       "      <th>ingredients_list</th>\n",
       "      <th>serving_size_raw</th>\n",
       "      <th>serving_size_val</th>\n",
       "      <th>serving_size_unit</th>\n",
       "      <th>calories</th>\n",
       "      <th>...</th>\n",
       "      <th>saturated_fat_g</th>\n",
       "      <th>carb_g</th>\n",
       "      <th>fiber_g</th>\n",
       "      <th>sugar_g</th>\n",
       "      <th>sodium_mg</th>\n",
       "      <th>cholesterol_mg</th>\n",
       "      <th>calcium_mg</th>\n",
       "      <th>iron_mg</th>\n",
       "      <th>vit_a_mcg</th>\n",
       "      <th>vit_c_mg</th>\n",
       "    </tr>\n",
       "  </thead>\n",
       "  <tbody>\n",
       "    <tr>\n",
       "      <th>0</th>\n",
       "      <td>401176.0</td>\n",
       "      <td>Meatless Chicken Slices</td>\n",
       "      <td>Worthington Loma Linda</td>\n",
       "      <td>grocery</td>\n",
       "      <td>fat_secret</td>\n",
       "      <td>0</td>\n",
       "      <td>3 slices (57g)</td>\n",
       "      <td>3.0</td>\n",
       "      <td>slices (57g)</td>\n",
       "      <td>90.0</td>\n",
       "      <td>...</td>\n",
       "      <td>1.0</td>\n",
       "      <td>2.0</td>\n",
       "      <td>0.0</td>\n",
       "      <td>0.0</td>\n",
       "      <td>250.0</td>\n",
       "      <td>0.0</td>\n",
       "      <td>250.0</td>\n",
       "      <td>1.8</td>\n",
       "      <td>0.0</td>\n",
       "      <td>0.0</td>\n",
       "    </tr>\n",
       "  </tbody>\n",
       "</table>\n",
       "<p>1 rows × 22 columns</p>\n",
       "</div>"
      ],
      "text/plain": [
       "   food_key         food_description                   brand food_type_grp  \\\n",
       "0  401176.0  Meatless Chicken Slices  Worthington Loma Linda       grocery   \n",
       "\n",
       "       source ingredients_list serving_size_raw  serving_size_val  \\\n",
       "0  fat_secret                0   3 slices (57g)               3.0   \n",
       "\n",
       "  serving_size_unit  calories    ...     saturated_fat_g  carb_g  fiber_g  \\\n",
       "0      slices (57g)      90.0    ...                 1.0     2.0      0.0   \n",
       "\n",
       "   sugar_g  sodium_mg  cholesterol_mg  calcium_mg  iron_mg  vit_a_mcg  \\\n",
       "0      0.0      250.0             0.0       250.0      1.8        0.0   \n",
       "\n",
       "   vit_c_mg  \n",
       "0       0.0  \n",
       "\n",
       "[1 rows x 22 columns]"
      ]
     },
     "execution_count": 11,
     "metadata": {},
     "output_type": "execute_result"
    }
   ],
   "source": [
    "pl.plan_df"
   ]
  },
  {
   "cell_type": "code",
   "execution_count": 14,
   "metadata": {
    "collapsed": false
   },
   "outputs": [
    {
     "data": {
      "text/plain": [
       "False"
      ]
     },
     "execution_count": 14,
     "metadata": {},
     "output_type": "execute_result"
    }
   ],
   "source": [
    "d"
   ]
  },
  {
   "cell_type": "markdown",
   "metadata": {},
   "source": [
    "#### 2. Making Additional Step"
   ]
  },
  {
   "cell_type": "code",
   "execution_count": 15,
   "metadata": {
    "collapsed": true
   },
   "outputs": [],
   "source": [
    "z = np.zeros(len(pl.df))\n",
    "z[np.random.choice(range(len(pl.df)))] =1"
   ]
  },
  {
   "cell_type": "code",
   "execution_count": 16,
   "metadata": {
    "collapsed": true
   },
   "outputs": [],
   "source": [
    "s,r,d =  pl.step(z)"
   ]
  },
  {
   "cell_type": "code",
   "execution_count": 22,
   "metadata": {
    "collapsed": false
   },
   "outputs": [
    {
     "data": {
      "text/html": [
       "<div>\n",
       "<table border=\"1\" class=\"dataframe\">\n",
       "  <thead>\n",
       "    <tr style=\"text-align: right;\">\n",
       "      <th></th>\n",
       "      <th>food_key</th>\n",
       "      <th>food_description</th>\n",
       "      <th>brand</th>\n",
       "      <th>food_type_grp</th>\n",
       "      <th>source</th>\n",
       "      <th>ingredients_list</th>\n",
       "      <th>serving_size_raw</th>\n",
       "      <th>serving_size_val</th>\n",
       "      <th>serving_size_unit</th>\n",
       "      <th>calories</th>\n",
       "      <th>...</th>\n",
       "      <th>saturated_fat_g</th>\n",
       "      <th>carb_g</th>\n",
       "      <th>fiber_g</th>\n",
       "      <th>sugar_g</th>\n",
       "      <th>sodium_mg</th>\n",
       "      <th>cholesterol_mg</th>\n",
       "      <th>calcium_mg</th>\n",
       "      <th>iron_mg</th>\n",
       "      <th>vit_a_mcg</th>\n",
       "      <th>vit_c_mg</th>\n",
       "    </tr>\n",
       "  </thead>\n",
       "  <tbody>\n",
       "    <tr>\n",
       "      <th>0</th>\n",
       "      <td>401176.0</td>\n",
       "      <td>Meatless Chicken Slices</td>\n",
       "      <td>Worthington Loma Linda</td>\n",
       "      <td>grocery</td>\n",
       "      <td>fat_secret</td>\n",
       "      <td>0</td>\n",
       "      <td>3 slices (57g)</td>\n",
       "      <td>3.0</td>\n",
       "      <td>slices (57g)</td>\n",
       "      <td>90.0</td>\n",
       "      <td>...</td>\n",
       "      <td>1.0</td>\n",
       "      <td>2.0</td>\n",
       "      <td>0.0</td>\n",
       "      <td>0.0</td>\n",
       "      <td>250.0</td>\n",
       "      <td>0.0</td>\n",
       "      <td>250.0</td>\n",
       "      <td>1.8</td>\n",
       "      <td>0.0</td>\n",
       "      <td>0.0</td>\n",
       "    </tr>\n",
       "    <tr>\n",
       "      <th>1</th>\n",
       "      <td>47454.0</td>\n",
       "      <td>CREAMETTE, ENRICHED MACARONI PRODUCT, ZITI,</td>\n",
       "      <td>New World Pasta Company</td>\n",
       "      <td>grocery</td>\n",
       "      <td>usda_branded</td>\n",
       "      <td>SEMOLINA (WHEAT), DURUM FLOUR (WHEAT), NIACIN,...</td>\n",
       "      <td>cup 56g'</td>\n",
       "      <td>1.0</td>\n",
       "      <td>cup 56g'</td>\n",
       "      <td>200.0</td>\n",
       "      <td>...</td>\n",
       "      <td>0.0</td>\n",
       "      <td>42.0</td>\n",
       "      <td>2.0</td>\n",
       "      <td>1.0</td>\n",
       "      <td>0.0</td>\n",
       "      <td>0.0</td>\n",
       "      <td>0.0</td>\n",
       "      <td>4.5</td>\n",
       "      <td>0.0</td>\n",
       "      <td>0.0</td>\n",
       "    </tr>\n",
       "  </tbody>\n",
       "</table>\n",
       "<p>2 rows × 22 columns</p>\n",
       "</div>"
      ],
      "text/plain": [
       "   food_key                             food_description  \\\n",
       "0  401176.0                      Meatless Chicken Slices   \n",
       "1   47454.0  CREAMETTE, ENRICHED MACARONI PRODUCT, ZITI,   \n",
       "\n",
       "                     brand food_type_grp        source  \\\n",
       "0   Worthington Loma Linda       grocery    fat_secret   \n",
       "1  New World Pasta Company       grocery  usda_branded   \n",
       "\n",
       "                                    ingredients_list serving_size_raw  \\\n",
       "0                                                  0   3 slices (57g)   \n",
       "1  SEMOLINA (WHEAT), DURUM FLOUR (WHEAT), NIACIN,...         cup 56g'   \n",
       "\n",
       "   serving_size_val serving_size_unit  calories    ...     saturated_fat_g  \\\n",
       "0               3.0      slices (57g)      90.0    ...                 1.0   \n",
       "1               1.0          cup 56g'     200.0    ...                 0.0   \n",
       "\n",
       "   carb_g  fiber_g  sugar_g  sodium_mg  cholesterol_mg  calcium_mg  iron_mg  \\\n",
       "0     2.0      0.0      0.0      250.0             0.0       250.0      1.8   \n",
       "1    42.0      2.0      1.0        0.0             0.0         0.0      4.5   \n",
       "\n",
       "   vit_a_mcg  vit_c_mg  \n",
       "0        0.0       0.0  \n",
       "1        0.0       0.0  \n",
       "\n",
       "[2 rows x 22 columns]"
      ]
     },
     "execution_count": 22,
     "metadata": {},
     "output_type": "execute_result"
    }
   ],
   "source": [
    "pl.plan_df"
   ]
  },
  {
   "cell_type": "code",
   "execution_count": 28,
   "metadata": {
    "collapsed": false
   },
   "outputs": [
    {
     "data": {
      "text/html": [
       "<div>\n",
       "<table border=\"1\" class=\"dataframe\">\n",
       "  <thead>\n",
       "    <tr style=\"text-align: right;\">\n",
       "      <th></th>\n",
       "      <th>calories</th>\n",
       "      <th>protein_g</th>\n",
       "      <th>fat_g</th>\n",
       "      <th>saturated_fat_g</th>\n",
       "      <th>carb_g</th>\n",
       "      <th>fiber_g</th>\n",
       "      <th>sugar_g</th>\n",
       "      <th>sodium_mg</th>\n",
       "      <th>cholesterol_mg</th>\n",
       "      <th>calcium_mg</th>\n",
       "      <th>iron_mg</th>\n",
       "      <th>vit_a_mcg</th>\n",
       "      <th>vit_c_mg</th>\n",
       "    </tr>\n",
       "  </thead>\n",
       "  <tbody>\n",
       "    <tr>\n",
       "      <th>0</th>\n",
       "      <td>290.0</td>\n",
       "      <td>16.0</td>\n",
       "      <td>5.5</td>\n",
       "      <td>1.0</td>\n",
       "      <td>44.0</td>\n",
       "      <td>2.0</td>\n",
       "      <td>1.0</td>\n",
       "      <td>250.0</td>\n",
       "      <td>0.0</td>\n",
       "      <td>250.0</td>\n",
       "      <td>6.3</td>\n",
       "      <td>0.0</td>\n",
       "      <td>0.0</td>\n",
       "    </tr>\n",
       "  </tbody>\n",
       "</table>\n",
       "</div>"
      ],
      "text/plain": [
       "   calories  protein_g  fat_g  saturated_fat_g  carb_g  fiber_g  sugar_g  \\\n",
       "0     290.0       16.0    5.5              1.0    44.0      2.0      1.0   \n",
       "\n",
       "   sodium_mg  cholesterol_mg  calcium_mg  iron_mg  vit_a_mcg  vit_c_mg  \n",
       "0      250.0             0.0       250.0      6.3        0.0       0.0  "
      ]
     },
     "execution_count": 28,
     "metadata": {},
     "output_type": "execute_result"
    }
   ],
   "source": [
    "pl.agg_pl"
   ]
  },
  {
   "cell_type": "code",
   "execution_count": 31,
   "metadata": {
    "collapsed": false
   },
   "outputs": [
    {
     "data": {
      "text/plain": [
       "array([[   12.36765685,  2400.        ,   300.        ]])"
      ]
     },
     "execution_count": 31,
     "metadata": {},
     "output_type": "execute_result"
    }
   ],
   "source": [
    "pl.thr_mat"
   ]
  },
  {
   "cell_type": "code",
   "execution_count": 32,
   "metadata": {
    "collapsed": false
   },
   "outputs": [
    {
     "data": {
      "text/plain": [
       "array([[   31.16649526,  1000.        ,    18.        ,  5000.        ,\n",
       "           60.        ]])"
      ]
     },
     "execution_count": 32,
     "metadata": {},
     "output_type": "execute_result"
    }
   ],
   "source": [
    "pl.req_mat"
   ]
  },
  {
   "cell_type": "code",
   "execution_count": 34,
   "metadata": {
    "collapsed": false
   },
   "outputs": [
    {
     "data": {
      "text/plain": [
       "array([[ 222.6178233 ,  139.1361396 ,   86.57359795]])"
      ]
     },
     "execution_count": 34,
     "metadata": {},
     "output_type": "execute_result"
    }
   ],
   "source": [
    "pl.mac_mat"
   ]
  },
  {
   "cell_type": "code",
   "execution_count": 35,
   "metadata": {
    "collapsed": false
   },
   "outputs": [
    {
     "data": {
      "text/html": [
       "<div>\n",
       "<table border=\"1\" class=\"dataframe\">\n",
       "  <thead>\n",
       "    <tr style=\"text-align: right;\">\n",
       "      <th></th>\n",
       "      <th>calories</th>\n",
       "      <th>protein_g</th>\n",
       "      <th>fat_g</th>\n",
       "      <th>saturated_fat_g</th>\n",
       "      <th>carb_g</th>\n",
       "      <th>fiber_g</th>\n",
       "      <th>sugar_g</th>\n",
       "      <th>sodium_mg</th>\n",
       "      <th>cholesterol_mg</th>\n",
       "      <th>calcium_mg</th>\n",
       "      <th>iron_mg</th>\n",
       "      <th>vit_a_mcg</th>\n",
       "      <th>vit_c_mg</th>\n",
       "    </tr>\n",
       "  </thead>\n",
       "  <tbody>\n",
       "    <tr>\n",
       "      <th>0</th>\n",
       "      <td>290.0</td>\n",
       "      <td>16.0</td>\n",
       "      <td>5.5</td>\n",
       "      <td>1.0</td>\n",
       "      <td>44.0</td>\n",
       "      <td>2.0</td>\n",
       "      <td>1.0</td>\n",
       "      <td>250.0</td>\n",
       "      <td>0.0</td>\n",
       "      <td>250.0</td>\n",
       "      <td>6.3</td>\n",
       "      <td>0.0</td>\n",
       "      <td>0.0</td>\n",
       "    </tr>\n",
       "  </tbody>\n",
       "</table>\n",
       "</div>"
      ],
      "text/plain": [
       "   calories  protein_g  fat_g  saturated_fat_g  carb_g  fiber_g  sugar_g  \\\n",
       "0     290.0       16.0    5.5              1.0    44.0      2.0      1.0   \n",
       "\n",
       "   sodium_mg  cholesterol_mg  calcium_mg  iron_mg  vit_a_mcg  vit_c_mg  \n",
       "0      250.0             0.0       250.0      6.3        0.0       0.0  "
      ]
     },
     "execution_count": 35,
     "metadata": {},
     "output_type": "execute_result"
    }
   ],
   "source": [
    "pl.agg_pl"
   ]
  },
  {
   "cell_type": "markdown",
   "metadata": {},
   "source": [
    "#### 3. Running through 15 steps"
   ]
  },
  {
   "cell_type": "code",
   "execution_count": null,
   "metadata": {
    "collapsed": true
   },
   "outputs": [],
   "source": [
    "pl.reset()\n",
    "for i in range(10):\n",
    "    # Random pick\n",
    "    z = np.zeros(len(pl.df))\n",
    "    z[np.random.choice(range(len(pl.df)))] =1\n",
    "    # stage\n",
    "    s,r,d = pl.step(z)\n",
    "    print('step '+ str(s))\n",
    "    print('cost'+str(r))\n",
    "    if d == True:\n",
    "        break"
   ]
  }
 ],
 "metadata": {
  "kernelspec": {
   "display_name": "Python 3",
   "language": "python",
   "name": "python3"
  },
  "language_info": {
   "codemirror_mode": {
    "name": "ipython",
    "version": 3
   },
   "file_extension": ".py",
   "mimetype": "text/x-python",
   "name": "python",
   "nbconvert_exporter": "python",
   "pygments_lexer": "ipython3",
   "version": "3.6.0"
  }
 },
 "nbformat": 4,
 "nbformat_minor": 2
}
