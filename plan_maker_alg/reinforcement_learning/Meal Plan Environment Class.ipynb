{
 "cells": [
  {
   "cell_type": "code",
   "execution_count": 4,
   "metadata": {
    "collapsed": true
   },
   "outputs": [],
   "source": [
    "import pandas as pd\n",
    "import numpy as np"
   ]
  },
  {
   "cell_type": "code",
   "execution_count": 7,
   "metadata": {
    "collapsed": false
   },
   "outputs": [],
   "source": [
    "# Simple Meal Plan Environment that takes a calorie requirement and iterates on it. \n",
    "# Starting simple with this class\n",
    "class DayPlan():\n",
    "\n",
    "    \n",
    "    def __init__(self):\n",
    "        # Nutrition DataFrame\n",
    "        self.df = pd.read_csv('C:/Users/J/Desktop/Businesses/Meal_Maker/Scraped_Data/combined_nutrition_small/nutrition_sm_processed_ss.csv',dtype = {'food_key':int,'ingredients_list':object}, encoding='ISO-8859-1')\n",
    "        self.df = self.df.fillna(0)\n",
    "        self.plan_df = pd.DataFrame(columns=self.df.columns.values)\n",
    "\n",
    "    # Short  & Long Term Payoff\n",
    "    def set_num_reqs(self, num_reqs_df):\n",
    "        self.cal_req = num_reqs_df['calories'].item()\n",
    "        self.mac_mat = num_reqs_df[['protein_g', 'carb_g','fat_g']].as_matrix()\n",
    "        self.req_mat = num_reqs_df[['fiber_g','calcium_mg','iron_mg','vit_a_mcg','vit_c_mg']].as_matrix()\n",
    "        self.thr_mat= num_reqs_df[['saturated_fat_g', 'sodium_mg','cholesterol_mg']].as_matrix()\n",
    "        self.req_names = num_reqs_df.columns.values\n",
    "    \n",
    "    def reset(self)\n",
    "        self.s = 0\n",
    "        self.plan_df = pd.DataFrame(columns=self.df.columns.values)\n",
    "    \n",
    "    # Long term, it needs to not just randomly select states, but to evaluate based on the nutrient profile of each food\n",
    "    def step(self, plan_vec):\n",
    "        # Plan vec should be [1,len(df)] vector to select 1 food item\n",
    "        add_df = self.df[list(map(bool, list(plan_vec)))]\n",
    "        self.plan_df.append([add_df], ignore_index=True)\n",
    "        # Aggregate to single row\n",
    "        self.agg_pl = pd.DataFrame([list(map(lambda x: sum(self.plan_df[x]),self.req_names))], columns=self.req_names)\n",
    "        # extra reward\n",
    "        e =0\n",
    "        if (sum(self.plan_df['calories']) > (self.cal_req - 75)) and (sum(self.plan_df['calories']) < (self.cal_req+75)):\n",
    "            d = True\n",
    "            if s < 3:\n",
    "                e-=100               \n",
    "            else:\n",
    "                e +=1000\n",
    "        elif sum(self.plan_df['calories']) < (self.cal_req+75):\n",
    "            d = True\n",
    "            e -=100\n",
    "        # Plan can include no more than 15 foodss\n",
    "        elif self.s > 14:\n",
    "            d = True\n",
    "\n",
    "        else: \n",
    "            d = False\n",
    "        # Can have different rewards on either side of 15. \n",
    "        \n",
    "        mac_c = -1*np.sum(np.sqrt((self.plan_df[['protein_g', 'carb_g','fat_g']].as_matrix().astype(float) - self.mac_mat)**2))*5\n",
    "        req_c = -1*np.sum(np.sqrt((self.plan_df[['fiber_g','calcium_mg','iron_mg','vit_a_mcg','vit_c_mg']].as_matrix().astype(float)-self.req_mat)**2))\n",
    "        thresh_c = -1*np.sum(np.minimum(self.thr_mat-self.plan_df[['saturated_fat_g', 'sodium_mg','cholesterol_mg']].as_matrix().astype(float), np.zeros(len(thresh_mat))))\n",
    "    \n",
    "        # Total Cost\n",
    "        r = sum(mac_c, req_c, thresh_c, e)\n",
    "        s +=1\n",
    "        return s, r, d\n",
    "        \n",
    "    # Short term food_type_grp categor\n",
    "    '''\n",
    "    def set_food_type_grp(self):\n",
    "        \n",
    "    # Get current state and add food at state+1\n",
    "    # Should allow state to remain at zero and advance to next stage\n",
    "    # Instead, shouldn't there be 4 stages, Breakfast, Lunch, Dinner, Snacks. Each can have 1-5 items\n",
    "    # Then this becomes a three-dimensional problem - Meals, N Stages Per Meal, Which Vec Per Meal\n",
    "    # S is the current state vector\n",
    "    def step(self,s,a):\n",
    "        \n",
    "        \n",
    "        \n",
    "    def reset(self):\n",
    "        \n",
    "    def render():\n",
    "    '''\n",
    "    "
   ]
  },
  {
   "cell_type": "code",
   "execution_count": 8,
   "metadata": {
    "collapsed": false
   },
   "outputs": [],
   "source": [
    "pl = DayPlan()"
   ]
  },
  {
   "cell_type": "code",
   "execution_count": 9,
   "metadata": {
    "collapsed": true
   },
   "outputs": [],
   "source": [
    "check = pl.df"
   ]
  }
 ],
 "metadata": {
  "kernelspec": {
   "display_name": "Python 3",
   "language": "python",
   "name": "python3"
  },
  "language_info": {
   "codemirror_mode": {
    "name": "ipython",
    "version": 3
   },
   "file_extension": ".py",
   "mimetype": "text/x-python",
   "name": "python",
   "nbconvert_exporter": "python",
   "pygments_lexer": "ipython3",
   "version": "3.6.0"
  }
 },
 "nbformat": 4,
 "nbformat_minor": 2
}
