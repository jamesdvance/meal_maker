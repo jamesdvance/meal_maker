{
 "cells": [
  {
   "cell_type": "code",
   "execution_count": 2,
   "metadata": {
    "collapsed": true
   },
   "outputs": [],
   "source": [
    "import pandas as pd\n",
    "import numpy as np"
   ]
  },
  {
   "cell_type": "code",
   "execution_count": null,
   "metadata": {
    "collapsed": true
   },
   "outputs": [],
   "source": []
  },
  {
   "cell_type": "code",
   "execution_count": null,
   "metadata": {
    "collapsed": true
   },
   "outputs": [],
   "source": []
  },
  {
   "cell_type": "code",
   "execution_count": null,
   "metadata": {
    "collapsed": true
   },
   "outputs": [],
   "source": [
    "# Simple Meal Plan Environment that takes a calorie requirement and iterates on it. \n",
    "class MealPlan():\n",
    "    \n",
    "    def __init__(self, nut_reqs):\n",
    "        # Nutrition DataFrame\n",
    "        df = pd.read_csv('C:/Users/J/Desktop/Businesses/Meal_Maker/Scraped_Data/combined_nutrition_small/nutrition_sm_processed_ss.csv',dtype = {'food_key':int,'ingredients_list':object}, encoding='ISO-8859-1')\n",
    "        df = df.fillna(0)\n",
    "        \n",
    "    # Should \n",
    "    def set_cal_reqs(self,cal_req):\n",
    "        self.cal_req = cal_req\n",
    "        \n",
    "    # Short term food_type_grp category\n",
    "    def set_food_type_grp(self):\n",
    "    \n",
    "    # Get current state and add food at state+1\n",
    "    # Should allow state to remain at zero and advance to next stage\n",
    "    # Instead, shouldn't there be 4 stages, Breakfast, Lunch, Dinner, Snacks. Each can have 1-5 items\n",
    "    # Then this becomes a three-dimensional problem - Meals, N Stages Per Meal, Which Vec Per Meal\n",
    "    # S is the current state vector\n",
    "    def step(self,s,a):\n",
    "        \n",
    "    def reset(self):\n",
    "        \n",
    "    def render()\n",
    "    "
   ]
  }
 ],
 "metadata": {
  "kernelspec": {
   "display_name": "Python 3",
   "language": "python",
   "name": "python3"
  },
  "language_info": {
   "codemirror_mode": {
    "name": "ipython",
    "version": 3
   },
   "file_extension": ".py",
   "mimetype": "text/x-python",
   "name": "python",
   "nbconvert_exporter": "python",
   "pygments_lexer": "ipython3",
   "version": "3.6.0"
  }
 },
 "nbformat": 4,
 "nbformat_minor": 2
}
