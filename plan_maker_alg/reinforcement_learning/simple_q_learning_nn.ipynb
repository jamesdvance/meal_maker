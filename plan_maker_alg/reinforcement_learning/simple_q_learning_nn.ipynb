{
 "cells": [
  {
   "cell_type": "markdown",
   "metadata": {},
   "source": [
    "# Simple Q- Learning\n",
    "### Finding Ten Discrete Meals To Fit Calorie Requirements"
   ]
  },
  {
   "cell_type": "code",
   "execution_count": 1,
   "metadata": {
    "collapsed": false
   },
   "outputs": [],
   "source": [
    "import tensorflow as tf\n",
    "import numpy as np\n",
    "import pandas as pd\n",
    "import matplotlib.pyplot as plt"
   ]
  },
  {
   "cell_type": "markdown",
   "metadata": {},
   "source": [
    "Reading in nutrition and reqs"
   ]
  },
  {
   "cell_type": "code",
   "execution_count": 2,
   "metadata": {
    "collapsed": false
   },
   "outputs": [],
   "source": [
    "df = pd.read_csv('C:/Users/J/Desktop/Businesses/Meal_Maker/Scraped_Data/combined_nutrition_small/nutrition_sm_processed_ss.csv',dtype = {'food_key':int,'ingredients_list':object}, encoding='ISO-8859-1')"
   ]
  },
  {
   "cell_type": "code",
   "execution_count": 3,
   "metadata": {
    "collapsed": false
   },
   "outputs": [],
   "source": [
    "df = df.fillna(0)"
   ]
  },
  {
   "cell_type": "code",
   "execution_count": 4,
   "metadata": {
    "collapsed": false
   },
   "outputs": [],
   "source": [
    "num_reqs_df = pd.read_csv(\"C:/Users/J/Fitness/Meal Plans/num_reqs_df.csv\")"
   ]
  },
  {
   "cell_type": "code",
   "execution_count": 26,
   "metadata": {
    "collapsed": false
   },
   "outputs": [
    {
     "data": {
      "text/html": [
       "<div>\n",
       "<table border=\"1\" class=\"dataframe\">\n",
       "  <thead>\n",
       "    <tr style=\"text-align: right;\">\n",
       "      <th></th>\n",
       "      <th>calories</th>\n",
       "      <th>protein_g</th>\n",
       "      <th>fat_g</th>\n",
       "      <th>saturated_fat_g</th>\n",
       "      <th>carb_g</th>\n",
       "      <th>fiber_g</th>\n",
       "      <th>sugar_g</th>\n",
       "      <th>sodium_mg</th>\n",
       "      <th>cholesterol_mg</th>\n",
       "      <th>calcium_mg</th>\n",
       "      <th>iron_mg</th>\n",
       "      <th>vit_a_mcg</th>\n",
       "      <th>vit_c_mg</th>\n",
       "    </tr>\n",
       "  </thead>\n",
       "  <tbody>\n",
       "    <tr>\n",
       "      <th>0</th>\n",
       "      <td>2226.178233</td>\n",
       "      <td>222.617823</td>\n",
       "      <td>86.573598</td>\n",
       "      <td>12.367657</td>\n",
       "      <td>139.13614</td>\n",
       "      <td>31.166495</td>\n",
       "      <td>27.827228</td>\n",
       "      <td>2400</td>\n",
       "      <td>300</td>\n",
       "      <td>1000</td>\n",
       "      <td>18</td>\n",
       "      <td>5000</td>\n",
       "      <td>60</td>\n",
       "    </tr>\n",
       "  </tbody>\n",
       "</table>\n",
       "</div>"
      ],
      "text/plain": [
       "      calories   protein_g      fat_g  saturated_fat_g     carb_g    fiber_g  \\\n",
       "0  2226.178233  222.617823  86.573598        12.367657  139.13614  31.166495   \n",
       "\n",
       "     sugar_g  sodium_mg  cholesterol_mg  calcium_mg  iron_mg  vit_a_mcg  \\\n",
       "0  27.827228       2400             300        1000       18       5000   \n",
       "\n",
       "   vit_c_mg  \n",
       "0        60  "
      ]
     },
     "execution_count": 26,
     "metadata": {},
     "output_type": "execute_result"
    }
   ],
   "source": [
    "num_reqs_df"
   ]
  },
  {
   "cell_type": "markdown",
   "metadata": {},
   "source": [
    "### Model Set Up"
   ]
  },
  {
   "cell_type": "code",
   "execution_count": 18,
   "metadata": {
    "collapsed": false
   },
   "outputs": [],
   "source": [
    "tf.reset_default_graph()"
   ]
  },
  {
   "cell_type": "markdown",
   "metadata": {},
   "source": [
    "States"
   ]
  },
  {
   "cell_type": "code",
   "execution_count": 19,
   "metadata": {
    "collapsed": true
   },
   "outputs": [],
   "source": [
    "# float vector 1 - 10 for each 'state'\n",
    "inputs = tf.placeholder(shape=[1,10],dtype=tf.float32)"
   ]
  },
  {
   "cell_type": "markdown",
   "metadata": {},
   "source": [
    "Actions"
   ]
  },
  {
   "cell_type": "code",
   "execution_count": 20,
   "metadata": {
    "collapsed": true
   },
   "outputs": [],
   "source": [
    "# randomized weights for each actions\n",
    "W = tf.Variable(tf.random_uniform([10, len(df)],0,0.01))"
   ]
  },
  {
   "cell_type": "markdown",
   "metadata": {},
   "source": [
    "Matrix multiply"
   ]
  },
  {
   "cell_type": "code",
   "execution_count": 21,
   "metadata": {
    "collapsed": false
   },
   "outputs": [],
   "source": [
    "# Matrix multily the inputs (states) times the weights (actions)\n",
    "Qout = tf.matmul(inputs, W)\n",
    "# Choose index of the largest value in the output accross the 1st axis (row) - choosing the largest expected 'reward'\n",
    "predict = tf.argmax(Qout, 1)"
   ]
  },
  {
   "cell_type": "code",
   "execution_count": 22,
   "metadata": {
    "collapsed": true
   },
   "outputs": [],
   "source": [
    "# inserts a placeholder for a tensor that will always be fed into the algorithm. Is the shape of one possible action\n",
    "# Seem to be trained one state at a time\n",
    "nextQ = tf.placeholder(shape=[1,len(df)], dtype=tf.float32)"
   ]
  },
  {
   "cell_type": "code",
   "execution_count": 23,
   "metadata": {
    "collapsed": false
   },
   "outputs": [],
   "source": [
    "# Loss function - does this include all previous states?\n",
    "loss = tf.reduce_sum(tf.square(nextQ-Qout))\n",
    "trainer = tf.train.GradientDescentOptimizer(learning_rate = 0.1)"
   ]
  },
  {
   "cell_type": "code",
   "execution_count": 24,
   "metadata": {
    "collapsed": false
   },
   "outputs": [],
   "source": [
    "updateModel = trainer.minimize(loss)"
   ]
  },
  {
   "cell_type": "markdown",
   "metadata": {},
   "source": [
    "### Running Model"
   ]
  },
  {
   "cell_type": "code",
   "execution_count": null,
   "metadata": {
    "collapsed": true
   },
   "outputs": [],
   "source": [
    "init = tf.initialize_all_variables()\n",
    "\n",
    "# Setting learning parameters\n",
    "y=.99 \n",
    "e =0.1\n",
    "num_episodes = 2000\n",
    "# Lists to capture total rewards and steps per episode\n",
    "jList = []\n",
    "rList = []\n",
    "with tf.Session() as sess:\n",
    "    sess.run(init)\n",
    "    for i in range(num_episodes):\n",
    "        # Reset environment and get first observation - need to tailor to meal plan class\n",
    "        s = env.reset()\n",
    "        # Total expected reward value at state\n",
    "        rAll = 0\n",
    "        # because this is feed-forward, can set d to be going over by 75 calories. Can't work backwards, so bust\n",
    "        d = False \n",
    "        \n",
    "        # Q Network Iteration\n",
    "        j = 0\n",
    "        while j < 99:\n",
    "            j+=1\n",
    "            # Choose an action greedily from Q-Network. Includes e chance of random action\n",
    "            a, allQ = sess.run([predict, Qout], feed_dict={inputs:np.identity(10)[s:s+1]})\n",
    "            # Reset a[0] according to randomness \n",
    "            if np.random.rand(1) < e:\n",
    "                a[0]= env.action_space.sample()\n",
    "            # Get New State And Reward From Environment\n",
    "            # Short term rewards should be not going over the limit \n",
    "            "
   ]
  }
 ],
 "metadata": {
  "kernelspec": {
   "display_name": "Python 3",
   "language": "python",
   "name": "python3"
  },
  "language_info": {
   "codemirror_mode": {
    "name": "ipython",
    "version": 3
   },
   "file_extension": ".py",
   "mimetype": "text/x-python",
   "name": "python",
   "nbconvert_exporter": "python",
   "pygments_lexer": "ipython3",
   "version": "3.6.0"
  }
 },
 "nbformat": 4,
 "nbformat_minor": 2
}
