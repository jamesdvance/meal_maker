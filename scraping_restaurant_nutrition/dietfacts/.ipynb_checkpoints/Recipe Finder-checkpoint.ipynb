{
 "cells": [
  {
   "cell_type": "code",
   "execution_count": 2,
   "metadata": {
    "collapsed": true
   },
   "outputs": [],
   "source": [
    "pos_url1 = 'http://www.dietfacts.com/html/nutrition-facts/generic-bruschetta-chicken-recipe-included-prepared-with-egg-beaters-egg-substitute-10322.htm'\n",
    "pos_url2 = 'http://www.dietfacts.com/html/nutrition-facts/generic-beef-bourguignon-recipe-included-25076.htm'\n",
    "pos_url3 = 'http://www.dietfacts.com/html/nutrition-facts/generic-butterscotch-martini-66758.htm'\n",
    "neg_url1 = 'http://www.dietfacts.com/html/nutrition-facts/generic-apple-cranberry-mold-homemade-reduced-fat-18903.htm'\n",
    "neg_url2 = 'http://www.dietfacts.com/html/nutrition-facts/a-taste-of-china-sweet-and-sour-rice-quick-meal-microwavable-container-br-6-oz-170-g-46949.htm'"
   ]
  },
  {
   "cell_type": "code",
   "execution_count": 1,
   "metadata": {
    "collapsed": true
   },
   "outputs": [],
   "source": [
    "from bs4 import BeautifulSoup\n",
    "import requests \n",
    "import pandas as pd\n",
    "import numpy as np\n",
    "import time\n",
    "import re"
   ]
  },
  {
   "cell_type": "code",
   "execution_count": 12,
   "metadata": {
    "collapsed": true
   },
   "outputs": [],
   "source": [
    "page = requests.get(neg_url2)\n",
    "soup = BeautifulSoup(page.text, 'html.parser')"
   ]
  },
  {
   "cell_type": "code",
   "execution_count": 13,
   "metadata": {
    "collapsed": true
   },
   "outputs": [],
   "source": [
    "p_left = soup.find('p',attrs={'align':'left'})"
   ]
  },
  {
   "cell_type": "code",
   "execution_count": 14,
   "metadata": {
    "collapsed": false
   },
   "outputs": [],
   "source": [
    "recipe = p_left.text"
   ]
  },
  {
   "cell_type": "code",
   "execution_count": 15,
   "metadata": {
    "collapsed": false
   },
   "outputs": [
    {
     "data": {
      "text/plain": [
       "'No Preservatives.No Trans Fat.No MSG.'"
      ]
     },
     "execution_count": 15,
     "metadata": {},
     "output_type": "execute_result"
    }
   ],
   "source": [
    "recipe"
   ]
  }
 ],
 "metadata": {
  "kernelspec": {
   "display_name": "Python 3",
   "language": "python",
   "name": "python3"
  },
  "language_info": {
   "codemirror_mode": {
    "name": "ipython",
    "version": 3
   },
   "file_extension": ".py",
   "mimetype": "text/x-python",
   "name": "python",
   "nbconvert_exporter": "python",
   "pygments_lexer": "ipython3",
   "version": "3.6.0"
  }
 },
 "nbformat": 4,
 "nbformat_minor": 2
}
