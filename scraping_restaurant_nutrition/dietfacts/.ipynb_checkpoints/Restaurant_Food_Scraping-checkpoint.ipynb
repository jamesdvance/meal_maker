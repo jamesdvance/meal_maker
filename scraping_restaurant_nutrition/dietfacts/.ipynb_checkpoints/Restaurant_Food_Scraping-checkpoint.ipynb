{
 "cells": [
  {
   "cell_type": "code",
   "execution_count": 1,
   "metadata": {
    "collapsed": true
   },
   "outputs": [],
   "source": [
    "from bs4 import BeautifulSoup\n",
    "import requests \n",
    "import pandas as pd\n",
    "import numpy as np\n",
    "import time\n",
    "import re"
   ]
  },
  {
   "cell_type": "code",
   "execution_count": 3,
   "metadata": {
    "collapsed": true
   },
   "outputs": [],
   "source": [
    "# Scraping fast foods\n",
    "brand_url = 'http://www.dietfacts.com/list.asp'\n",
    "ff_url = 'http://www.dietfacts.com/fastfood.asp'"
   ]
  },
  {
   "cell_type": "code",
   "execution_count": 4,
   "metadata": {
    "collapsed": true
   },
   "outputs": [],
   "source": [
    "ff_start = requests.get(ff_url)"
   ]
  },
  {
   "cell_type": "code",
   "execution_count": 5,
   "metadata": {
    "collapsed": false
   },
   "outputs": [],
   "source": [
    "ff_soup = BeautifulSoup(ff_start.text,'html.parser')"
   ]
  },
  {
   "cell_type": "code",
   "execution_count": 6,
   "metadata": {
    "collapsed": false
   },
   "outputs": [],
   "source": [
    "ff_plain = ff_soup.findAll('a',attrs={'class':'plain'})"
   ]
  },
  {
   "cell_type": "code",
   "execution_count": 7,
   "metadata": {
    "collapsed": false
   },
   "outputs": [
    {
     "data": {
      "text/plain": [
       "[<a class=\"plain\" href=\"item.asp?itemid=29412\">17th Street Bar &amp; Grill</a>,\n",
       " <a class=\"plain\" href=\"list.asp?brand=360+Gourmet+World+Grill\">360 Gourmet</a>,\n",
       " <a class=\"plain\" href=\"list.asp?brand=5+_AND_+Diner\">5 &amp; Diner</a>,\n",
       " <a class=\"plain\" href=\"list.asp?brand=Five+Guys\">5 Guys Famous Burgers and Fries</a>]"
      ]
     },
     "execution_count": 7,
     "metadata": {},
     "output_type": "execute_result"
    }
   ],
   "source": [
    "ff_plain[0:4]"
   ]
  },
  {
   "cell_type": "code",
   "execution_count": 8,
   "metadata": {
    "collapsed": true
   },
   "outputs": [],
   "source": [
    "ff_links = []\n",
    "ff_restaurants = []"
   ]
  },
  {
   "cell_type": "code",
   "execution_count": 9,
   "metadata": {
    "collapsed": false
   },
   "outputs": [],
   "source": [
    "for line in ff_plain:\n",
    "    ff_links.append(line['href'])\n",
    "    ff_restaurants.append(line.text)"
   ]
  },
  {
   "cell_type": "code",
   "execution_count": 10,
   "metadata": {
    "collapsed": false
   },
   "outputs": [],
   "source": [
    "base_url = 'http://www.dietfacts.com/'\n",
    "ff_links_full = [base_url+link for link in ff_links]"
   ]
  },
  {
   "cell_type": "code",
   "execution_count": 11,
   "metadata": {
    "collapsed": false
   },
   "outputs": [
    {
     "data": {
      "text/plain": [
       "['http://www.dietfacts.com/item.asp?itemid=29412',\n",
       " 'http://www.dietfacts.com/list.asp?brand=360+Gourmet+World+Grill',\n",
       " 'http://www.dietfacts.com/list.asp?brand=5+_AND_+Diner',\n",
       " 'http://www.dietfacts.com/list.asp?brand=Five+Guys']"
      ]
     },
     "execution_count": 11,
     "metadata": {},
     "output_type": "execute_result"
    }
   ],
   "source": [
    "ff_links_full[0:4]"
   ]
  },
  {
   "cell_type": "code",
   "execution_count": null,
   "metadata": {
    "collapsed": true
   },
   "outputs": [],
   "source": []
  },
  {
   "cell_type": "code",
   "execution_count": 12,
   "metadata": {
    "collapsed": false
   },
   "outputs": [],
   "source": [
    "# There are two different possibilities so far: straight to an item page or to a brand page. \n",
    "# The item bag will have 'itemid=' in the url, and brand will have 'brand.\n",
    "def brand_finder(text):\n",
    "    if re.search(r'itemid=',text)== None:\n",
    "        return False\n",
    "    else:\n",
    "        return True"
   ]
  },
  {
   "cell_type": "code",
   "execution_count": 13,
   "metadata": {
    "collapsed": false
   },
   "outputs": [],
   "source": [
    "ff_restaurant_links = []\n",
    "ff_restaurant_names = []\n",
    "ff_product_links = []\n",
    "ff_rest_product_names = []\n",
    "for i in range(len(ff_links_full)):\n",
    "    if brand_finder(ff_links_full[i]):\n",
    "        ff_restaurant_links.append(ff_links_full[i])\n",
    "        ff_restaurant_names.append(ff_restaurants[i])\n",
    "    else:\n",
    "        ff_product_links.append(ff_links_full[i])\n",
    "        ff_rest_product_names.append(ff_restaurants[i])"
   ]
  },
  {
   "cell_type": "code",
   "execution_count": 64,
   "metadata": {
    "collapsed": false
   },
   "outputs": [
    {
     "data": {
      "text/plain": [
       "['http://www.dietfacts.com/list.asp?brand=360+Gourmet+World+Grill',\n",
       " 'http://www.dietfacts.com/list.asp?brand=5+_AND_+Diner',\n",
       " 'http://www.dietfacts.com/list.asp?brand=Five+Guys',\n",
       " 'http://www.dietfacts.com/list.asp?brand=7-Eleven']"
      ]
     },
     "execution_count": 64,
     "metadata": {},
     "output_type": "execute_result"
    }
   ],
   "source": [
    "# The above for-loop is ineffective. Only 15 links don't have 'brand' and many are still restaurants. Instead need a check for the recipe format."
   ]
  },
  {
   "cell_type": "code",
   "execution_count": 14,
   "metadata": {
    "collapsed": false
   },
   "outputs": [
    {
     "data": {
      "text/plain": [
       "'http://www.dietfacts.com/list.asp?brand=360+Gourmet+World+Grill'"
      ]
     },
     "execution_count": 14,
     "metadata": {},
     "output_type": "execute_result"
    }
   ],
   "source": [
    "ff_links_full[1]"
   ]
  },
  {
   "cell_type": "code",
   "execution_count": 15,
   "metadata": {
    "collapsed": false
   },
   "outputs": [],
   "source": [
    "rest_page = requests.get(ff_links_full[1])"
   ]
  },
  {
   "cell_type": "code",
   "execution_count": 16,
   "metadata": {
    "collapsed": true
   },
   "outputs": [],
   "source": [
    "rest_soup = BeautifulSoup(rest_page.text, 'html.parser')"
   ]
  },
  {
   "cell_type": "code",
   "execution_count": 17,
   "metadata": {
    "collapsed": false
   },
   "outputs": [],
   "source": [
    "bs = rest_soup.findAll('b')"
   ]
  },
  {
   "cell_type": "code",
   "execution_count": 18,
   "metadata": {
    "collapsed": false
   },
   "outputs": [],
   "source": [
    "a_links = rest_soup.findAll('a')"
   ]
  },
  {
   "cell_type": "code",
   "execution_count": 19,
   "metadata": {
    "collapsed": false
   },
   "outputs": [
    {
     "data": {
      "text/plain": [
       "[<a name=\"top\"> </a>,\n",
       " <a href=\"http://www.dietfacts.com\" onmouseout=\"window.status=' ';return true;\" onmouseover=\"window.status='Click now to Return to DietFacts.com Home Page';return true;\" title=\"Click now to Return to DietFacts.com Home Page\">\n",
       " <img border=\"0\" height=\"52\" src=\"images/logo.gif\" width=\"260\"/></a>,\n",
       " <a href=\"http://www.dietfacts.com\" onmouseout=\"window.status=' ';return true;\" onmouseover=\"window.status='Click now to Return to DietFacts.com Home Page';return true;\" title=\"Click now to Return to DietFacts.com Home Page\"><font color=\"#EEE8AA\" size=\"2\">H</font><font color=\"#FFCC33\">OME</font></a>,\n",
       " <a href=\"fastfood.asp\" onmouseout=\"window.status=' ';return true;\" onmouseover=\"window.status='Click now to View Restaurants';return true;\" title=\"Click now to View Restaurants\"><font color=\"#EEE8AA\" size=\"2\">R</font><font color=\"#FFCC33\">ESTAURANTS</font></a>,\n",
       " <a href=\"list.asp\" onmouseout=\"window.status=' ';return true;\" onmouseover=\"window.status='Click now to List Foods by Brand Name';return true;\" title=\"Click now to List Foods by Brand Name\"><font color=\"#EEE8AA\" size=\"2\">B</font><font color=\"#FFCC33\">RANDS</font></a>,\n",
       " <a href=\"forum.asp\" onmouseout=\"window.status=' ';return true;\" onmouseover=\"window.status='Click now to Read and Post Messages';return true;\" title=\"Click now to Read and Post Messages\"><font color=\"#EEE8AA\" size=\"2\">M</font><font color=\"#FFCC33\">ESSAGEBOARD</font></a>,\n",
       " <a href=\"wazzup.asp\" onmouseout=\"window.status=' ';return true;\" onmouseover=\"window.status='Click now to View Recent Additions';return true;\" title=\"Click now to View Recent Additions\"><font color=\"#EEE8AA\" size=\"2\">W</font><font color=\"#FFCC33\">HAT'S NEW</font></a>,\n",
       " <a href=\"topsites.asp\" onmouseout=\"window.status=' ';return true;\" onmouseover=\"window.status='Click now to View the Top Sites list';return true;\" title=\"Click now to View the Top Sites list\"><font color=\"#EEE8AA\" size=\"2\">L</font><font color=\"#FFCC33\">INKS</font></a>,\n",
       " <a href=\"search.asp\" onmouseout=\"window.status=' ';return true;\" onmouseover=\"window.status='Click now to Search the Database';return true;\" title=\"Click now to Search the Database\"><font color=\"#EEE8AA\" size=\"2\">S</font><font color=\"#FFCC33\">EARCH</font></a>,\n",
       " <a href=\"dietfacts.asp\" onmouseout=\"window.status=' ';return true;\" onmouseover=\"window.status='Click now to Read all about DietFacts';return true;\" title=\"Click now to Read all about DietFacts\"><font color=\"#EEE8AA\" size=\"2\">A</font><font color=\"#FFCC33\">BOUT US</font></a>,\n",
       " <a href=\"log.asp\" onmouseout=\"window.status=' ';return true;\" onmouseover=\"window.status='Click now to View Popular Searches';return true;\" title=\"Click now to View Popular Searches\"><font color=\"#EEE8AA\" size=\"2\">P</font><font color=\"#FFCC33\">OPULAR</font></a>,\n",
       " <a href=\"search.asp\">--Search For Food--</a>,\n",
       " <a href=\"list.asp?start=!&amp;end=9999999999\"><b><u>#</u></b></a>,\n",
       " <a href=\"list.asp?start=A\"><b><u>A</u></b></a>,\n",
       " <a href=\"list.asp?start=B\"><b><u>B</u></b></a>,\n",
       " <a href=\"list.asp?start=C\"><b><u>C</u></b></a>,\n",
       " <a href=\"list.asp?start=D\"><b><u>D</u></b></a>,\n",
       " <a href=\"list.asp?start=E\"><b><u>E</u></b></a>,\n",
       " <a href=\"list.asp?start=F\"><b><u>F</u></b></a>,\n",
       " <a href=\"list.asp?start=G\"><b><u>G</u></b></a>,\n",
       " <a href=\"list.asp?start=H\"><b><u>H</u></b></a>,\n",
       " <a href=\"list.asp?start=I\"><b><u>I</u></b></a>,\n",
       " <a href=\"list.asp?start=J\"><b><u>J</u></b></a>,\n",
       " <a href=\"list.asp?start=K\"><b><u>K</u></b></a>,\n",
       " <a href=\"list.asp?start=L\"><b><u>L</u></b></a>,\n",
       " <a href=\"list.asp?start=M\"><b><u>M</u></b></a>,\n",
       " <a href=\"list.asp?start=N\"><b><u>N</u></b></a>,\n",
       " <a href=\"list.asp?start=O\"><b><u>O</u></b></a>,\n",
       " <a href=\"list.asp?start=P\"><b><u>P</u></b></a>,\n",
       " <a href=\"list.asp?start=Q\"><b><u>Q</u></b></a>,\n",
       " <a href=\"list.asp?start=R\"><b><u>R</u></b></a>,\n",
       " <a href=\"list.asp?start=S\"><b><u>S</u></b></a>,\n",
       " <a href=\"list.asp?start=T\"><b><u>T</u></b></a>,\n",
       " <a href=\"list.asp?start=U\"><b><u>U</u></b></a>,\n",
       " <a href=\"list.asp?start=V\"><b><u>V</u></b></a>,\n",
       " <a href=\"list.asp?start=W\"><b><u>W</u></b></a>,\n",
       " <a href=\"list.asp?start=X\"><b><u>X</u></b></a>,\n",
       " <a href=\"list.asp?start=Y\"><b><u>Y</u></b></a>,\n",
       " <a href=\"list.asp?start=Z\"><b><u>Z</u></b></a>,\n",
       " <a href=\"/html/nutrition-facts/360-gourmet-world-grill-56264.htm\"><b>360 Gourmet Burrito</b></a>,\n",
       " <a href=\"/html/nutrition-facts/360-gourmet-world-grill-56264.htm\"><font size=\"1\">a meal wrapped in a tortilla with rice, black beans, lettuce and fresh salsa</font></a>,\n",
       " <a href=\"/html/nutrition-facts/360-gourmet-world-grill-56267.htm\"><b>Cajun Steak Quesadilla</b></a>,\n",
       " <a href=\"/html/nutrition-facts/360-gourmet-world-grill-56270.htm\"><b>Curry Steak Salad</b></a>,\n",
       " <a href=\"/html/nutrition-facts/360-gourmet-world-grill-56268.htm\"><b>Lemon Garlic Chicken Salad</b></a>,\n",
       " <a href=\"/html/nutrition-facts/360-gourmet-world-grill-56265.htm\"><b>Mexican Classic Burrito</b></a>,\n",
       " <a href=\"/html/nutrition-facts/360-gourmet-world-grill-56269.htm\"><b>Teriyaki Prawns - Bowl</b></a>,\n",
       " <a href=\"/html/nutrition-facts/360-gourmet-world-grill-56266.htm\"><b>Thai Chicken Wrap</b></a>,\n",
       " <a href=\"http://www.jdoqocy.com/rp83r09608OXWQRUXOQPTSQWSQ\" onmouseout=\"window.status=' ';return true;\" onmouseover=\"window.status='http://www.Medifast1.com';return true;\" target=\"_blank\">\n",
       " <img alt=\"Medifast - Lose the Weight\" border=\"0\" src=\"http://www.tqlkg.com/c0110o26v0zKTSMNQTKMLPOMSOM\"/></a>,\n",
       " <a href=\"../../terms.asp\">Terms of Use</a>,\n",
       " <a href=\"../../privacy.asp\">Privacy Policy</a>,\n",
       " <a href=\"mailto:dietfacts@gmail.com\">contact us here</a>]"
      ]
     },
     "execution_count": 19,
     "metadata": {},
     "output_type": "execute_result"
    }
   ],
   "source": [
    "a_links"
   ]
  },
  {
   "cell_type": "code",
   "execution_count": 20,
   "metadata": {
    "collapsed": false
   },
   "outputs": [
    {
     "name": "stdout",
     "output_type": "stream",
     "text": [
      "skipped\n"
     ]
    }
   ],
   "source": [
    "rest_links = []\n",
    "rest_food_names = []\n",
    "for a in a_links:\n",
    "    try:\n",
    "        if re.search('html/nutrition-facts',a['href'])!=None:\n",
    "            rest_links.append(base_url+a['href'])\n",
    "            rest_food_names.append(a.text)\n",
    "    except:\n",
    "        print('skipped')"
   ]
  },
  {
   "cell_type": "code",
   "execution_count": 139,
   "metadata": {
    "collapsed": false
   },
   "outputs": [
    {
     "name": "stdout",
     "output_type": "stream",
     "text": [
      "8\n",
      "8\n"
     ]
    }
   ],
   "source": [
    "print(len(rest_links))\n",
    "print(len(rest_food_names))"
   ]
  },
  {
   "cell_type": "raw",
   "metadata": {
    "collapsed": true
   },
   "source": [
    "nut_link = rest_links[0]"
   ]
  },
  {
   "cell_type": "code",
   "execution_count": 22,
   "metadata": {
    "collapsed": true
   },
   "outputs": [],
   "source": [
    "nut_page = requests.get(nut_link)"
   ]
  },
  {
   "cell_type": "code",
   "execution_count": 23,
   "metadata": {
    "collapsed": true
   },
   "outputs": [],
   "source": [
    "nut_soup = BeautifulSoup(nut_page.text, 'html.parser')"
   ]
  },
  {
   "cell_type": "code",
   "execution_count": 24,
   "metadata": {
    "collapsed": false
   },
   "outputs": [
    {
     "data": {
      "text/plain": [
       "<!DOCTYPE html>\n",
       "\n",
       "<html lang=\"en-US\">\n",
       "<head>\n",
       "<script src=\"https://apis.google.com/js/plusone.js\" type=\"text/javascript\"></script><title>360 Gourmet World Grill 360 Gourmet Burrito nutrition facts and calories - DietFacts.com</title>\n",
       "<link href=\"http://www.dietfacts.com/html/nutrition-facts/360-gourmet-world-grill-56264.htm\" rel=\"canonical\"/>\n",
       "<meta content=\"360 Gourmet World Grill 360 Gourmet Burrito nutrition facts and calories. Nutritional information for brand name products and fast food restaurants. Weight Loss, free diets, health &amp; fitness, nutritional supplements, calorie counter, and more.\" name=\"description\"/><meta content=\"360,gourmet,world,grill,360,gourmet,burrito,nutrition,facts,calories,weight loss, lose weight,calories,fat,carbohydrate,cholesterol,sodium,protein,atkins,diet\" name=\"keywords\"/>\n",
       "<meta content=\"2 Days\" name=\"revisit-after\"/>\n",
       "<meta content=\"Health\" name=\"classification\"/>\n",
       "<meta content=\"GENERAL\" name=\"rating\"/>\n",
       "<meta content=\"ALL\" name=\"robots\"/>\n",
       "<meta content=\"DietFacts.com\" name=\"copyright\"/>\n",
       "<meta content=\"Global\" name=\"distribution\"/>\n",
       "<meta content=\"en-US\" name=\"language\"/>\n",
       "<style>\n",
       "\tbody {margin:0}\n",
       "\ta {font-family:verdana,geneva,arial,helvetica,sans-serif;text-decoration:none;color:\"#000000\";}\n",
       "\ta:hover {text-decoration:underline;bBACKGROUND:\"goldenrod\";color:\"#663300\";}\n",
       "\tp {font-family:verdana,geneva,arial,helvetica,sans-serif;font-size:12;color:\"#000000\";}\n",
       "\th2 {margin-top:4;margin-bottom:0;margin-left:4;padding:0;} \n",
       "\tth {font-family:verdana,geneva,arial,helvetica,sans-serif;font-size:12;color:\"#000000\";}\n",
       "\ttd {font-family:verdana,geneva,arial,helvetica,sans-serif;font-size:12;color:\"#000000\";}\n",
       "\tinput {font-family:verdana,geneva,arial,helvetica,sans-serif;font-size:12;}\n",
       "\tinputnumber {font-family:verdana,geneva,arial,helvetica,sans-serif;font-size:12;text-align:right;}\n",
       "\ttextarea {font-family:verdana,geneva,arial,helvetica,sans-serif;font-size:12;}\n",
       "\tselect {font-family:verdana,geneva,arial,helvetica,sans-serif;font-size:12;}\n",
       "</style>\n",
       "</head></html>\n",
       "<body alink=\"#FFFFFF\" bgcolor=\"#99CC33\" link=\"#000000\" text=\"#000000\" vlink=\"#000000\">\n",
       "<basefont color=\"#000000\" face=\"verdana,geneva,arial,helvetica\" size=\"2\"></basefont>\n",
       "<center>\n",
       "<!--//START Header5-->\n",
       "<font face=\"verdana,geneva,arial,helvetica,sans-serif\" size=\"2\">\n",
       "<table border=\"0\" cellpadding=\"0\" cellspacing=\"0\" width=\"100%\">\n",
       "<tr><td valign=\"top\">\n",
       "<table bgcolor=\"#996600\" border=\"0\" cellpadding=\"3\" cellspacing=\"0\" height=\"75\" width=\"100%\">\n",
       "<tr valign=\"middle\">\n",
       "<!--**Begin Header2-->\n",
       "<td width=\"280\"><a name=\"top\"> </a>\n",
       "<a href=\"http://www.dietfacts.com\" onmouseout=\"window.status=' ';return true;\" onmouseover=\"window.status='Click now to Return to DietFacts.com Home Page';return true;\" title=\"Click now to Return to DietFacts.com Home Page\">\n",
       "<img border=\"0\" height=\"52\" src=\"../../images/logo.gif\" width=\"260\"/></a>\n",
       "<br/>  <b><font color=\"#EEE8AA\" size=\"1\">Look before you eat!</font></b></td>\n",
       "<td align=\"left\" bgcolor=\"#996600\">\n",
       "<!--**Search Box BEGIN-->\n",
       "<form action=\"http://www.google.com/cse\" id=\"cse-search-box\">\n",
       "<div>\n",
       "<input name=\"cx\" type=\"hidden\" value=\"partner-pub-5451186737125561:k5ihct-saqa\"/>\n",
       "<input name=\"ie\" type=\"hidden\" value=\"ISO-8859-1\"/>\n",
       "<input name=\"q\" size=\"20\" type=\"text\"/>\n",
       "<input name=\"sa\" type=\"submit\" value=\"Search\"/>\n",
       "</div>\n",
       "</form>\n",
       "<script src=\"http://www.google.com/coop/cse/brand?form=cse-search-box&amp;lang=en\" type=\"text/javascript\"></script>\n",
       "<!--**Search Box END-->\n",
       "</td></tr></table></td></tr></table></font></center></body>\n",
       "<td align=\"left\" bgcolor=\"#996600\" valign=\"top\"><br/>\n",
       "<!--**End Header2--><!--START Google Adsense 728x90-->\n",
       "<script async=\"\" src=\"//pagead2.googlesyndication.com/pagead/js/adsbygoogle.js\"></script>\n",
       "<!-- DF Home ATF Leaderboard -->\n",
       "<ins class=\"adsbygoogle\" data-ad-client=\"ca-pub-5451186737125561\" data-ad-slot=\"1761397528\" style=\"display:inline-block;width:728px;height:90px\"></ins>\n",
       "<script>\n",
       "(adsbygoogle = window.adsbygoogle || []).push({});\n",
       "</script>\n",
       "<!--END Google Adsense 728x90--><!--**BEGIN Header3-->\n",
       "<br/></td>\n",
       "<tr><td align=\"LEFT\" bgcolor=\"#996600\" colspan=\"3\" valign=\"BOTTOM\">    \n",
       "<font color=\"#EEE8AA\" face=\"tahoma,geneva,verdana,arial,helvetica\" size=\"1\">\n",
       "<!--**BEGIN Site Links-->\n",
       "          <a href=\"http://www.dietfacts.com\" onmouseout=\"window.status=' ';return true;\" onmouseover=\"window.status='Click now to Return to DietFacts.com Home Page';return true;\" title=\"Click now to Return to DietFacts.com Home Page\"><font color=\"#EEE8AA\" size=\"2\">H</font><font color=\"#FFCC33\">OME</font></a>          <a href=\"../../fastfood.asp\" onmouseout=\"window.status=' ';return true;\" onmouseover=\"window.status='Click now to View Restaurants';return true;\" title=\"Click now to View Restaurants\"><font color=\"#EEE8AA\" size=\"2\">R</font><font color=\"#FFCC33\">ESTAURANTS</font></a>          <a href=\"../../list.asp\" onmouseout=\"window.status=' ';return true;\" onmouseover=\"window.status='Click now to List Foods by Brand Name';return true;\" title=\"Click now to List Foods by Brand Name\"><font color=\"#EEE8AA\" size=\"2\">B</font><font color=\"#FFCC33\">RANDS</font></a>          <a href=\"../../forum.asp\" onmouseout=\"window.status=' ';return true;\" onmouseover=\"window.status='Click now to Read and Post Messages';return true;\" title=\"Click now to Read and Post Messages\"><font color=\"#EEE8AA\" size=\"2\">M</font><font color=\"#FFCC33\">ESSAGEBOARD</font></a>          <a href=\"../../wazzup.asp\" onmouseout=\"window.status=' ';return true;\" onmouseover=\"window.status='Click now to View Recent Additions';return true;\" title=\"Click now to View Recent Additions\"><font color=\"#EEE8AA\" size=\"2\">W</font><font color=\"#FFCC33\">HAT'S NEW</font></a>          <a href=\"../../topsites.asp\" onmouseout=\"window.status=' ';return true;\" onmouseover=\"window.status='Click now to View Top Sites List';return true;\" title=\"Click now to View Top Sites List\"><font color=\"#EEE8AA\" size=\"2\">L</font><font color=\"#FFCC33\">INKS</font></a>          <a href=\"../../products.asp\" onmouseout=\"window.status=' ';return true;\" onmouseover=\"window.status='Click now to Shop for Gifts or for Yourself';return true;\" title=\"Click now to Shop for Gifts or for Yourself\"><font color=\"#EEE8AA\" size=\"2\">S</font><font color=\"#FFCC33\">HOP</font></a>          <a href=\"../../search.asp\" onmouseout=\"window.status=' ';return true;\" onmouseover=\"window.status='Click now to Search the Database';return true;\" title=\"Click now to Search the Database\"><font color=\"#EEE8AA\" size=\"2\">S</font><font color=\"#FFCC33\">EARCH</font></a>          <a href=\"../../dietfacts.asp\" onmouseout=\"window.status=' ';return true;\" onmouseover=\"window.status='Click now to Read all about DietFacts';return true;\" title=\"Click now to Read all about DietFacts\"><font color=\"#EEE8AA\" size=\"2\">A</font><font color=\"#FFCC33\">BOUT US</font></a>          <a href=\"../../log.asp\" onmouseout=\"window.status=' ';return true;\" onmouseover=\"window.status='Click now to View Popular Searches';return true;\" title=\"Click now to View Popular Searches\"><font color=\"#EEE8AA\" size=\"2\">P</font><font color=\"#FFCC33\">OPULAR</font></a>\n",
       "<!--**END Site Links-->\n",
       "</font></td></tr>\n",
       "\n",
       "<table cellpadding=\"15\" width=\"640\"><tr valign=\"top\"><td align=\"center\" colspan=\"2\">\n",
       "<!--**END Header3--><br/><h2><a href=\"../../list.asp?brand=360+Gourmet+World+Grill\">360 Gourmet World Grill® Nutrition Facts</a></h2><h1>360 Gourmet Burrito</h1>\n",
       "<h2>a meal wrapped in a tortilla with rice, black beans, lettuce and fresh salsa</h2><br/><h7>see also: <a href=\"../nutrition-facts/starbucks-crispy-marshma56263.htm\"><b><font color=\"maroon\">Crispy Marshmallow Square (Starbucks)</font></b></a></h7>\n",
       "<!--**BEGIN Header4-->\n",
       "</td></tr>\n",
       "<tr valign=\"top\"><td valign=\"top\" width=\"50%\">\n",
       "<table cellpadding=\"8\" cellspacing=\"0\" width=\"100%\">\n",
       "<tr valign=\"top\"><td align=\"center\">\n",
       "<!--**END Header4--><table bgcolor=\"#FFFFFF\" border=\"2\" bordercolor=\"#000000\" cellpadding=\"3\" cellspacing=\"0\" width=\"300\"><tr valign=\"top\"><td align=\"center\"> <div align=\"left\"><h2><img alt=\"Nutrition Facts\" border=\"0\" src=\"http://www.dietfacts.com/images/nf.gif\"><g:plusone></g:plusone></img></h2></div><style>\n",
       "td{font-size:12;}\n",
       "</style>\n",
       "<basefont face=\"Verdana\"><font color=\"#666699\" face=\"Verdana\" size=\"2\"><table background=\"../../images/watermark.gif\" bgcolor=\"white\" border=\"0\" bordercolor=\"#FFFFFF\" cellpadding=\"0\" cellspacing=\"0\" width=\"300\">\n",
       "<tr><td><b><font color=\"#666699\" size=\"2\"><nobr>Serving Size:</nobr></font></b><nobr> <font color=\"#666699\" face=\"Verdana\" size=\"2\">1 burrito</font></nobr>\n",
       "<table border=\"0\" cellpadding=\"0\" cellspacing=\"0\" width=\"100%\">\n",
       "<tr><td colspan=\"2\"><img border=\"0\" height=\"6\" src=\"../../images/blue.gif\" vspace=\"2\" width=\"100%\"/></td></tr>\n",
       "<tr><td colspan=\"2\"><b><font color=\"#666699\" size=\"1\">Amount Per Serving</font></b></td></tr>\n",
       "<tr><td colspan=\"2\"><a name=\"VitMin\"><img border=\"0\" height=\"1\" src=\"../../images/blue.gif\" vspace=\"2\" width=\"100%\"/></a></td></tr>\n",
       "<tr><td><font color=\"#666699\" face=\"Verdana\" size=\"2\"><b>Calories </b> 610</font></td><td align=\"RIGHT\"><font color=\"#666699\" face=\"Verdana\" size=\"2\"><nobr>Calories from Fat  171</nobr></font></td></tr>\n",
       "<tr><td colspan=\"2\"><img border=\"0\" height=\"3\" src=\"../../images/blue.gif\" vspace=\"2\" width=\"100%\"/></td></tr>\n",
       "<tr><td align=\"RIGHT\" colspan=\"2\"><font color=\"#666699\" size=\"1\">% DV</font></td></tr>\n",
       "<tr><td colspan=\"2\"><img border=\"0\" height=\"1\" src=\"../../images/blue.gif\" vspace=\"2\" width=\"100%\"/></td></tr>\n",
       "<tr><td><b><font color=\"#666699\" face=\"Verdana\" size=\"2\">Total Fat </font></b> <font color=\"#666699\" face=\"Verdana\" size=\"2\">19g</font></td><td align=\"RIGHT\"><font color=\"#666699\" face=\"Verdana\" size=\"2\">29%</font></td></tr>\n",
       "<tr><td colspan=\"2\"><img border=\"0\" height=\"1\" src=\"../../images/blue.gif\" vspace=\"2\" width=\"100%\"/></td></tr>\n",
       "<tr><td><font color=\"#666699\" face=\"Verdana\" size=\"2\">    Saturated Fat  3g</font></td><td align=\"RIGHT\"><font color=\"#666699\" face=\"Verdana\" size=\"2\">15%</font></td></tr>\n",
       "<tr><td colspan=\"2\"><img border=\"0\" height=\"1\" src=\"../../images/blue.gif\" vspace=\"2\" width=\"100%\"/></td></tr>\n",
       "<tr><td><font color=\"#666699\" face=\"Verdana\" size=\"2\"><b>Cholesterol </b>83mg</font></td><td align=\"RIGHT\"><font color=\"#666699\" face=\"Verdana\" size=\"2\">28%</font></td></tr>\n",
       "<tr><td colspan=\"2\"><img border=\"0\" height=\"1\" src=\"../../images/blue.gif\" vspace=\"2\" width=\"100%\"/></td></tr>\n",
       "<tr><td><font color=\"#666699\" face=\"Verdana\" size=\"2\"><b>Sodium </b> 1283mg</font></td><td align=\"RIGHT\"><font color=\"#666699\" face=\"Verdana\" size=\"2\">53%</font></td></tr>\n",
       "<tr><td colspan=\"2\"><img border=\"0\" height=\"1\" src=\"../../images/blue.gif\" vspace=\"2\" width=\"100%\"/></td></tr>\n",
       "<tr><td><nobr><font color=\"#666699\" face=\"Verdana\" size=\"2\"><b>Total Carbohydrate </b> 70g</font></nobr></td><td align=\"RIGHT\"><font color=\"#666699\" face=\"Verdana\" size=\"2\">23%</font></td></tr>\n",
       "<tr><td colspan=\"2\"><img border=\"0\" height=\"1\" src=\"../../images/blue.gif\" vspace=\"2\" width=\"100%\"/></td></tr>\n",
       "<tr><td><font color=\"#666699\" face=\"Verdana\" size=\"2\">    Dietary Fiber  4g</font></td><td align=\"RIGHT\"><font color=\"#666699\" face=\"Verdana\" size=\"2\">16%</font></td></tr>\n",
       "<tr><td colspan=\"2\"><img border=\"0\" height=\"1\" src=\"../../images/blue.gif\" vspace=\"2\" width=\"100%\"/></td></tr>\n",
       "<tr><td><font color=\"#666699\" face=\"Verdana\" size=\"2\"><b>Protein </b> <font color=\"#666699\" face=\"Verdana\" size=\"2\">39g</font></font></td><td align=\"RIGHT\"><font color=\"#666699\" face=\"Verdana\" size=\"2\">78%</font></td></tr>\n",
       "</table>\n",
       "<table border=\"0\" cellpadding=\"0\" cellspacing=\"0\" width=\"100%\">\n",
       "<tr><td colspan=\"3\"><hr color=\"#666699\"/></td></tr><tr><td colspan=\"2\"><b><font color=\"#666699\"><i>Unofficial Pts+</i>: 16</font></b><br><small>(Old Pts: 13)</small><b></b></br></td></tr></table></td></tr></table></font></basefont></td></tr></table></td></tr></table></td></tr></table><td align=\"RIGHT\"><b><font color=\"#666699\" size=\"2\">©DietFacts.com</font></b></td><tr><td colspan=\"3\"></td></tr>\n",
       "<tr><td colspan=\"3\"><font color=\"#666699\"><br><hr color=\"#666699\"><center><font size=\"1\">Percent of Calories from:</font><br><b><nobr>  Fat: 28%     Carb: 45.9%     Protein: 25.6%   </nobr></b></br></center></hr></br></font></td></tr><tr><td align=\"CENTER\" colspan=\"3\"><font color=\"gray\" size=\"1\">(Total may not equate 100% due to rounding.)</font></td></tr>\n",
       "<br/><img border=\"0\" height=\"136\" src=\"http://www.dietfacts.com/images/dv.asp\" width=\"290\"/><br/>\n",
       "<!--START Google Adsense DF Under Label 336x280-->\n",
       "<script async=\"\" src=\"//pagead2.googlesyndication.com/pagead/js/adsbygoogle.js\"></script>\n",
       "<!-- DF Under Label 336 x 280 -->\n",
       "<ins class=\"adsbygoogle\" data-ad-client=\"ca-pub-5451186737125561\" data-ad-slot=\"6686208301\" style=\"display:inline-block;width:336px;height:280px\"></ins>\n",
       "<script>\n",
       "(adsbygoogle = window.adsbygoogle || []).push({});\n",
       "</script>\n",
       "<!--END Google Adsense DF Under Label 336x280-->\n",
       "<td align=\"left\" valign=\"top\"><table border=\"0\" valign=\"top\" xwidth=\"425\"><tr><td align=\"center\" valign=\"top\"><!--START Google Adsense DF 336x280-->\n",
       "<script async=\"\" src=\"//pagead2.googlesyndication.com/pagead/js/adsbygoogle.js\"></script>\n",
       "<!-- DF Under Label 336 x 280 -->\n",
       "<ins class=\"adsbygoogle\" data-ad-client=\"ca-pub-5451186737125561\" data-ad-slot=\"6686208301\" style=\"display:inline-block;width:336px;height:280px\"></ins>\n",
       "<script>\n",
       "(adsbygoogle = window.adsbygoogle || []).push({});\n",
       "</script>\n",
       "<!--END Google Adsense DF 336x280--><br/><br/>\n",
       "<!-- AddToAny BEGIN --><a class=\"a2a_dd\" href=\"http://www.addtoany.com/share_save?linkurl=http%3A%2F%2Fwww%2Edietfacts%2Ecom%2Fhtml%2Fnutrition%2Dfacts%2F360%2Dgourmet%2Dworld%2Dgrill%2D56264%2Ehtm&amp;linkname=Nutrition+Facts+for+360+Gourmet+Burrito\"><img alt=\"Share\" border=\"0\" height=\"24\" src=\"http://static.addtoany.com/buttons/share_save_256_24.png\" width=\"256\"/></a>\n",
       "<script type=\"text/javascript\">\n",
       "var a2a_config = a2a_config || {};\n",
       "a2a_config.linkname = \"Nutrition Facts for 360 Gourmet Burrito\";\n",
       "a2a_config.linkurl = \"http://www.dietfacts.com/html/nutrition-facts/360-gourmet-world-grill-56264.htm\";\n",
       "a2a_config.num_services = 20;\n",
       "</script>\n",
       "<script src=\"http://static.addtoany.com/menu/page.js\" type=\"text/javascript\"></script>\n",
       "<!-- AddToAny END --><a href=\"#top\" name=\"COMPANY\"><h5>COMPANY INFORMATION:</h5></a><font color=\"#666699\" face=\"Verdana\" size=\"2\">360 Gourmet World Grill<br>3160 Crow Canyon Place<br>Suite 210<br>San Ramon, California 94583<br>United States of America<br>Phone: (925)-866-3522<br>Fax: (925)-866-3506<br>Email: <a href=\"mailto:MMMarvelous@360gourmet.com\"><u>MMMarvelous@360gourmet.com</u></a><br>Website: <a href=\"http://www.360gb.com\" target=\"_blank\"><u>360GB.com</u></a></br></br></br></br></br></br></br></br></font>\n",
       "<p><font size=\"1\">SOURCE: <b><a href=\"http://www.360gb.com\" rel=\"nofollow\" target=\"_blank\">Company Web Site</a></b><br>UPDATED ON: 10/7/2008</br></font></p></td></tr></table></td>\n",
       "<!--// START Footer1 //-->\n",
       "<p>\n",
       "</p>\n",
       "<p align=\"left\">\n",
       "<!--/Footer1 END//-->\n",
       "<font color=\"olive\" size=\"1\">KEYWORDS FOR SEARCH:<br/>calories fat carbohydrate cholesterol sodium protein nutritional information food labels 360gb grills grilles restaurants gourmaye gormet gourmat original wraps burritos burritoes burrittos burrittoes burittos burittoes</font></p><tr><td colspan=\"2\"><p align=\"left\"><font size=\"1\"><b>DISCLAIMER:</b><br/><font color=\"maroon\">DietFacts is NOT associated with any food companies, manufacturers, distributors or restaurants.</font> Do not send us product complaints or questions about availability. You will need to send your comments directly to <b><a href=\"#COMPANY\">the makers of this product</a></b>.\n",
       " Dietfacts.com has obtained information directly from product labels, nutritional guides provided by the companies of the respective products, USDA data, or sources otherwise noted. While we make every effort to ensure that this information is up-to-date and correct, we cannot guarantee accuracy. You are advised to read and verify the food label of any product prior to purchase. If you believe the nutritional information for this product is incorrect, please email us at <a href=\"mailto:kelly@dietfacts.com?subject=DietFacts.com Item Review (56264)\">kelly@dietfacts.com</a> For help in understanding and using the Nutrition Facts panel on food labels, visit the <a href=\"https://www.fda.gov/Food/IngredientsPackagingLabeling/LabelingNutrition\" target=\"_blank\">U.S. Food and Drug Administration</a> web site.</font></p>    <a href=\"../../edit.asp?itemid=56264\"> </a></td></tr><center>\n",
       "<!--//START Footer2-->\n",
       "</center>\n",
       "\n",
       "\n",
       "\n",
       "<p align=\"center\"><hr color=\"saddlebrown\" noshade=\"NOSHADE\">\n",
       "<table align=\"center\" width=\"600\"><tr><td align=\"center\"><font face=\"verdana,arial,helvetica\" size=\"1\"><g:plusone></g:plusone><br/><br/>\n",
       "Copyright ©2002-2017 dietFacts.com.  All rights reserved. \n",
       "Use of this site constitutes acceptance of our <a href=\"../../terms.asp\"><b>Terms of Use</b></a> and our <a href=\"../../privacy.asp\"><b>Privacy Policy</b></a>. \n",
       "The material on dietFacts.com may not be reproduced, transmitted or distributed except with prior written permission; <a href=\"mailto:dietfacts@gmail.com\"><b>contact us here</b></a>.\n",
       "Items submitted to dietFacts.com become the property of dietFacts.com and may be edited for content and/or length.</font>\n",
       "</td></tr></table>\n",
       "<script src=\"http://www.google-analytics.com/urchin.js\" type=\"text/javascript\">\n",
       "</script>\n",
       "<script type=\"text/javascript\">\n",
       "_uacct = \"UA-1349994-1\";\n",
       "urchinTracker();\n",
       "</script>\n",
       "</hr></p>\n",
       "\n"
      ]
     },
     "execution_count": 24,
     "metadata": {},
     "output_type": "execute_result"
    }
   ],
   "source": [
    "nut_soup"
   ]
  },
  {
   "cell_type": "code",
   "execution_count": 25,
   "metadata": {
    "collapsed": true
   },
   "outputs": [],
   "source": [
    "nut_base_font = nut_soup.findAll('basefont')"
   ]
  },
  {
   "cell_type": "code",
   "execution_count": 26,
   "metadata": {
    "collapsed": false
   },
   "outputs": [],
   "source": [
    "nut_space = nut_base_font[1].findAll('tr')"
   ]
  },
  {
   "cell_type": "code",
   "execution_count": 27,
   "metadata": {
    "collapsed": false
   },
   "outputs": [
    {
     "data": {
      "text/plain": [
       "[<tr><td><b><font color=\"#666699\" size=\"2\"><nobr>Serving Size:</nobr></font></b><nobr> <font color=\"#666699\" face=\"Verdana\" size=\"2\">1 burrito</font></nobr>\n",
       " <table border=\"0\" cellpadding=\"0\" cellspacing=\"0\" width=\"100%\">\n",
       " <tr><td colspan=\"2\"><img border=\"0\" height=\"6\" src=\"../../images/blue.gif\" vspace=\"2\" width=\"100%\"/></td></tr>\n",
       " <tr><td colspan=\"2\"><b><font color=\"#666699\" size=\"1\">Amount Per Serving</font></b></td></tr>\n",
       " <tr><td colspan=\"2\"><a name=\"VitMin\"><img border=\"0\" height=\"1\" src=\"../../images/blue.gif\" vspace=\"2\" width=\"100%\"/></a></td></tr>\n",
       " <tr><td><font color=\"#666699\" face=\"Verdana\" size=\"2\"><b>Calories </b> 610</font></td><td align=\"RIGHT\"><font color=\"#666699\" face=\"Verdana\" size=\"2\"><nobr>Calories from Fat  171</nobr></font></td></tr>\n",
       " <tr><td colspan=\"2\"><img border=\"0\" height=\"3\" src=\"../../images/blue.gif\" vspace=\"2\" width=\"100%\"/></td></tr>\n",
       " <tr><td align=\"RIGHT\" colspan=\"2\"><font color=\"#666699\" size=\"1\">% DV</font></td></tr>\n",
       " <tr><td colspan=\"2\"><img border=\"0\" height=\"1\" src=\"../../images/blue.gif\" vspace=\"2\" width=\"100%\"/></td></tr>\n",
       " <tr><td><b><font color=\"#666699\" face=\"Verdana\" size=\"2\">Total Fat </font></b> <font color=\"#666699\" face=\"Verdana\" size=\"2\">19g</font></td><td align=\"RIGHT\"><font color=\"#666699\" face=\"Verdana\" size=\"2\">29%</font></td></tr>\n",
       " <tr><td colspan=\"2\"><img border=\"0\" height=\"1\" src=\"../../images/blue.gif\" vspace=\"2\" width=\"100%\"/></td></tr>\n",
       " <tr><td><font color=\"#666699\" face=\"Verdana\" size=\"2\">    Saturated Fat  3g</font></td><td align=\"RIGHT\"><font color=\"#666699\" face=\"Verdana\" size=\"2\">15%</font></td></tr>\n",
       " <tr><td colspan=\"2\"><img border=\"0\" height=\"1\" src=\"../../images/blue.gif\" vspace=\"2\" width=\"100%\"/></td></tr>\n",
       " <tr><td><font color=\"#666699\" face=\"Verdana\" size=\"2\"><b>Cholesterol </b>83mg</font></td><td align=\"RIGHT\"><font color=\"#666699\" face=\"Verdana\" size=\"2\">28%</font></td></tr>\n",
       " <tr><td colspan=\"2\"><img border=\"0\" height=\"1\" src=\"../../images/blue.gif\" vspace=\"2\" width=\"100%\"/></td></tr>\n",
       " <tr><td><font color=\"#666699\" face=\"Verdana\" size=\"2\"><b>Sodium </b> 1283mg</font></td><td align=\"RIGHT\"><font color=\"#666699\" face=\"Verdana\" size=\"2\">53%</font></td></tr>\n",
       " <tr><td colspan=\"2\"><img border=\"0\" height=\"1\" src=\"../../images/blue.gif\" vspace=\"2\" width=\"100%\"/></td></tr>\n",
       " <tr><td><nobr><font color=\"#666699\" face=\"Verdana\" size=\"2\"><b>Total Carbohydrate </b> 70g</font></nobr></td><td align=\"RIGHT\"><font color=\"#666699\" face=\"Verdana\" size=\"2\">23%</font></td></tr>\n",
       " <tr><td colspan=\"2\"><img border=\"0\" height=\"1\" src=\"../../images/blue.gif\" vspace=\"2\" width=\"100%\"/></td></tr>\n",
       " <tr><td><font color=\"#666699\" face=\"Verdana\" size=\"2\">    Dietary Fiber  4g</font></td><td align=\"RIGHT\"><font color=\"#666699\" face=\"Verdana\" size=\"2\">16%</font></td></tr>\n",
       " <tr><td colspan=\"2\"><img border=\"0\" height=\"1\" src=\"../../images/blue.gif\" vspace=\"2\" width=\"100%\"/></td></tr>\n",
       " <tr><td><font color=\"#666699\" face=\"Verdana\" size=\"2\"><b>Protein </b> <font color=\"#666699\" face=\"Verdana\" size=\"2\">39g</font></font></td><td align=\"RIGHT\"><font color=\"#666699\" face=\"Verdana\" size=\"2\">78%</font></td></tr>\n",
       " </table>\n",
       " <table border=\"0\" cellpadding=\"0\" cellspacing=\"0\" width=\"100%\">\n",
       " <tr><td colspan=\"3\"><hr color=\"#666699\"/></td></tr><tr><td colspan=\"2\"><b><font color=\"#666699\"><i>Unofficial Pts+</i>: 16</font></b><br><small>(Old Pts: 13)</small><b></b></br></td></tr></table></td></tr>,\n",
       " <tr><td colspan=\"2\"><img border=\"0\" height=\"6\" src=\"../../images/blue.gif\" vspace=\"2\" width=\"100%\"/></td></tr>,\n",
       " <tr><td colspan=\"2\"><b><font color=\"#666699\" size=\"1\">Amount Per Serving</font></b></td></tr>,\n",
       " <tr><td colspan=\"2\"><a name=\"VitMin\"><img border=\"0\" height=\"1\" src=\"../../images/blue.gif\" vspace=\"2\" width=\"100%\"/></a></td></tr>,\n",
       " <tr><td><font color=\"#666699\" face=\"Verdana\" size=\"2\"><b>Calories </b> 610</font></td><td align=\"RIGHT\"><font color=\"#666699\" face=\"Verdana\" size=\"2\"><nobr>Calories from Fat  171</nobr></font></td></tr>,\n",
       " <tr><td colspan=\"2\"><img border=\"0\" height=\"3\" src=\"../../images/blue.gif\" vspace=\"2\" width=\"100%\"/></td></tr>,\n",
       " <tr><td align=\"RIGHT\" colspan=\"2\"><font color=\"#666699\" size=\"1\">% DV</font></td></tr>,\n",
       " <tr><td colspan=\"2\"><img border=\"0\" height=\"1\" src=\"../../images/blue.gif\" vspace=\"2\" width=\"100%\"/></td></tr>,\n",
       " <tr><td><b><font color=\"#666699\" face=\"Verdana\" size=\"2\">Total Fat </font></b> <font color=\"#666699\" face=\"Verdana\" size=\"2\">19g</font></td><td align=\"RIGHT\"><font color=\"#666699\" face=\"Verdana\" size=\"2\">29%</font></td></tr>,\n",
       " <tr><td colspan=\"2\"><img border=\"0\" height=\"1\" src=\"../../images/blue.gif\" vspace=\"2\" width=\"100%\"/></td></tr>,\n",
       " <tr><td><font color=\"#666699\" face=\"Verdana\" size=\"2\">    Saturated Fat  3g</font></td><td align=\"RIGHT\"><font color=\"#666699\" face=\"Verdana\" size=\"2\">15%</font></td></tr>,\n",
       " <tr><td colspan=\"2\"><img border=\"0\" height=\"1\" src=\"../../images/blue.gif\" vspace=\"2\" width=\"100%\"/></td></tr>,\n",
       " <tr><td><font color=\"#666699\" face=\"Verdana\" size=\"2\"><b>Cholesterol </b>83mg</font></td><td align=\"RIGHT\"><font color=\"#666699\" face=\"Verdana\" size=\"2\">28%</font></td></tr>,\n",
       " <tr><td colspan=\"2\"><img border=\"0\" height=\"1\" src=\"../../images/blue.gif\" vspace=\"2\" width=\"100%\"/></td></tr>,\n",
       " <tr><td><font color=\"#666699\" face=\"Verdana\" size=\"2\"><b>Sodium </b> 1283mg</font></td><td align=\"RIGHT\"><font color=\"#666699\" face=\"Verdana\" size=\"2\">53%</font></td></tr>,\n",
       " <tr><td colspan=\"2\"><img border=\"0\" height=\"1\" src=\"../../images/blue.gif\" vspace=\"2\" width=\"100%\"/></td></tr>,\n",
       " <tr><td><nobr><font color=\"#666699\" face=\"Verdana\" size=\"2\"><b>Total Carbohydrate </b> 70g</font></nobr></td><td align=\"RIGHT\"><font color=\"#666699\" face=\"Verdana\" size=\"2\">23%</font></td></tr>,\n",
       " <tr><td colspan=\"2\"><img border=\"0\" height=\"1\" src=\"../../images/blue.gif\" vspace=\"2\" width=\"100%\"/></td></tr>,\n",
       " <tr><td><font color=\"#666699\" face=\"Verdana\" size=\"2\">    Dietary Fiber  4g</font></td><td align=\"RIGHT\"><font color=\"#666699\" face=\"Verdana\" size=\"2\">16%</font></td></tr>,\n",
       " <tr><td colspan=\"2\"><img border=\"0\" height=\"1\" src=\"../../images/blue.gif\" vspace=\"2\" width=\"100%\"/></td></tr>,\n",
       " <tr><td><font color=\"#666699\" face=\"Verdana\" size=\"2\"><b>Protein </b> <font color=\"#666699\" face=\"Verdana\" size=\"2\">39g</font></font></td><td align=\"RIGHT\"><font color=\"#666699\" face=\"Verdana\" size=\"2\">78%</font></td></tr>,\n",
       " <tr><td colspan=\"3\"><hr color=\"#666699\"/></td></tr>,\n",
       " <tr><td colspan=\"2\"><b><font color=\"#666699\"><i>Unofficial Pts+</i>: 16</font></b><br><small>(Old Pts: 13)</small><b></b></br></td></tr>]"
      ]
     },
     "execution_count": 27,
     "metadata": {},
     "output_type": "execute_result"
    }
   ],
   "source": [
    "nut_space"
   ]
  },
  {
   "cell_type": "code",
   "execution_count": 42,
   "metadata": {
    "collapsed": true
   },
   "outputs": [],
   "source": [
    "text_vec = []\n",
    "for line in nut_space:\n",
    "    full_text = ''\n",
    "    for sub_line in line:\n",
    "        full_text = full_text + sub_line.text.strip()\n",
    "    text_vec.append(full_text)"
   ]
  },
  {
   "cell_type": "code",
   "execution_count": 61,
   "metadata": {
    "collapsed": true
   },
   "outputs": [],
   "source": [
    "# Getting Serving Size:\n",
    "serving_size = []\n",
    "serv_txt = nut_space[0].find('td').findAll('nobr')[0:2]\n",
    "for line in serv_txt:\n",
    "    serving_size.append(line.text)"
   ]
  },
  {
   "cell_type": "raw",
   "metadata": {},
   "source": [
    "serving_size = nut_space[0].find('td').findAll('nobr')[0].text + ' ' + nut_space[0].find('td').findAll('nobr')[1].text"
   ]
  },
  {
   "cell_type": "code",
   "execution_count": 111,
   "metadata": {
    "collapsed": false
   },
   "outputs": [],
   "source": [
    "serving_size = nut_space[0].find('td').findAll('nobr')[0].text + ' ' + nut_space[0].find('td').findAll('nobr')[1].text\n",
    "calories = nut_space[0].find('td').findAll('font')[3].text\n",
    "calories_from_fat = nut_space[0].find('td').findAll('nobr')[2].text\n",
    "total_fat = nut_space[0].find('td').findAll('font')[6].text+' '+nut_space[0].find('td').findAll('font')[7].text\n",
    "saturated_fat = nut_space[0].find('td').findAll('font')[9].text\n",
    "cholesterol = nut_space[0].find('td').findAll('font')[11].text\n",
    "sodium = nut_space[0].find('td').findAll('font')[13].text\n",
    "total_carb = nut_space[0].find('td').findAll('font')[15].text\n",
    "total_fiber = nut_space[0].find('td').findAll('font')[17].text\n",
    "total_protein = nut_space[0].find('td').findAll('font')[19].text\n",
    "nutrients_list = [serving_size,calories,calories_from_fat, total_fat, saturated_fat, cholesterol, sodium,total_carb, total_fiber,total_protein]"
   ]
  },
  {
   "cell_type": "code",
   "execution_count": 112,
   "metadata": {
    "collapsed": false
   },
   "outputs": [
    {
     "data": {
      "text/plain": [
       "['Serving Size: \\xa01 burrito',\n",
       " 'Calories\\xa0 610',\n",
       " 'Calories from Fat\\xa0 171',\n",
       " 'Total Fat\\xa0 19g',\n",
       " '\\xa0\\xa0\\xa0\\xa0Saturated Fat\\xa0 3g',\n",
       " 'Cholesterol\\xa083mg',\n",
       " 'Sodium\\xa0 1283mg',\n",
       " 'Total Carbohydrate\\xa0 70g',\n",
       " '\\xa0\\xa0\\xa0\\xa0Dietary Fiber\\xa0 4g',\n",
       " 'Protein\\xa0 39g']"
      ]
     },
     "execution_count": 112,
     "metadata": {},
     "output_type": "execute_result"
    }
   ],
   "source": [
    "nutrients_list"
   ]
  },
  {
   "cell_type": "code",
   "execution_count": 128,
   "metadata": {
    "collapsed": false
   },
   "outputs": [],
   "source": [
    "nutrient_col = []\n",
    "value_col =[]\n",
    "for item in nutrients_list:\n",
    "    new_item = item.replace('\\xa0',u' ').strip()\n",
    "    if len(re.split(u'  ', new_item))==2:\n",
    "        nutrient_col.append(re.split(u'  ', new_item)[0])\n",
    "        value_col.append(re.split(u'  ', new_item)[1])\n",
    "    else:\n",
    "        nutrient_col.append(re.split(u' ', new_item)[0])\n",
    "        value_col.append(re.split(u' ', new_item)[1])   "
   ]
  },
  {
   "cell_type": "code",
   "execution_count": 129,
   "metadata": {
    "collapsed": false
   },
   "outputs": [
    {
     "data": {
      "text/plain": [
       "['Serving Size:',\n",
       " 'Calories',\n",
       " 'Calories from Fat',\n",
       " 'Total Fat',\n",
       " 'Saturated Fat',\n",
       " 'Cholesterol',\n",
       " 'Sodium',\n",
       " 'Total Carbohydrate',\n",
       " 'Dietary Fiber',\n",
       " 'Protein']"
      ]
     },
     "execution_count": 129,
     "metadata": {},
     "output_type": "execute_result"
    }
   ],
   "source": [
    "nutrient_col"
   ]
  },
  {
   "cell_type": "code",
   "execution_count": 132,
   "metadata": {
    "collapsed": false
   },
   "outputs": [],
   "source": [
    "nutrient_df = pd.DataFrame([value_col],columns=nutrient_col)"
   ]
  },
  {
   "cell_type": "code",
   "execution_count": 133,
   "metadata": {
    "collapsed": false
   },
   "outputs": [
    {
     "data": {
      "text/html": [
       "<div>\n",
       "<table border=\"1\" class=\"dataframe\">\n",
       "  <thead>\n",
       "    <tr style=\"text-align: right;\">\n",
       "      <th></th>\n",
       "      <th>Serving Size:</th>\n",
       "      <th>Calories</th>\n",
       "      <th>Calories from Fat</th>\n",
       "      <th>Total Fat</th>\n",
       "      <th>Saturated Fat</th>\n",
       "      <th>Cholesterol</th>\n",
       "      <th>Sodium</th>\n",
       "      <th>Total Carbohydrate</th>\n",
       "      <th>Dietary Fiber</th>\n",
       "      <th>Protein</th>\n",
       "    </tr>\n",
       "  </thead>\n",
       "  <tbody>\n",
       "    <tr>\n",
       "      <th>0</th>\n",
       "      <td>1 burrito</td>\n",
       "      <td>610</td>\n",
       "      <td>171</td>\n",
       "      <td>19g</td>\n",
       "      <td>3g</td>\n",
       "      <td>83mg</td>\n",
       "      <td>1283mg</td>\n",
       "      <td>70g</td>\n",
       "      <td>4g</td>\n",
       "      <td>39g</td>\n",
       "    </tr>\n",
       "  </tbody>\n",
       "</table>\n",
       "</div>"
      ],
      "text/plain": [
       "  Serving Size: Calories Calories from Fat Total Fat Saturated Fat  \\\n",
       "0     1 burrito      610               171       19g            3g   \n",
       "\n",
       "  Cholesterol  Sodium Total Carbohydrate Dietary Fiber Protein  \n",
       "0        83mg  1283mg                70g            4g     39g  "
      ]
     },
     "execution_count": 133,
     "metadata": {},
     "output_type": "execute_result"
    }
   ],
   "source": [
    "nutrient_df"
   ]
  },
  {
   "cell_type": "code",
   "execution_count": 63,
   "metadata": {
    "collapsed": true
   },
   "outputs": [],
   "source": [
    "# Getting Total Calories\n",
    "total_carbs = nut_space[0].find('td').findAll('nobr')[3].text"
   ]
  },
  {
   "cell_type": "code",
   "execution_count": 66,
   "metadata": {
    "collapsed": false
   },
   "outputs": [
    {
     "data": {
      "text/plain": [
       "'Calories from Fat\\xa0 171'"
      ]
     },
     "execution_count": 66,
     "metadata": {},
     "output_type": "execute_result"
    }
   ],
   "source": [
    "calories_from_fat = nut_space[0].find('td').findAll('nobr')[2].text"
   ]
  },
  {
   "cell_type": "code",
   "execution_count": 70,
   "metadata": {
    "collapsed": false
   },
   "outputs": [
    {
     "data": {
      "text/plain": [
       "'Calories\\xa0 610'"
      ]
     },
     "execution_count": 70,
     "metadata": {},
     "output_type": "execute_result"
    }
   ],
   "source": [
    "# Getting Calories\n",
    "calories = nut_space[0].find('td').findAll('font')[3].text"
   ]
  },
  {
   "cell_type": "code",
   "execution_count": 71,
   "metadata": {
    "collapsed": false
   },
   "outputs": [
    {
     "data": {
      "text/plain": [
       "'Calories from Fat\\xa0 171'"
      ]
     },
     "execution_count": 71,
     "metadata": {},
     "output_type": "execute_result"
    }
   ],
   "source": [
    "calories_from_fat = nut_space[0].find('td').findAll('font')[4].text"
   ]
  },
  {
   "cell_type": "code",
   "execution_count": 79,
   "metadata": {
    "collapsed": false
   },
   "outputs": [],
   "source": [
    "total_fat = nut_space[0].find('td').findAll('font')[6].text+' '+nut_space[0].find('td').findAll('font')[7].text"
   ]
  },
  {
   "cell_type": "code",
   "execution_count": 82,
   "metadata": {
    "collapsed": false
   },
   "outputs": [
    {
     "data": {
      "text/plain": [
       "'\\xa0\\xa0\\xa0\\xa0Saturated Fat\\xa0 3g'"
      ]
     },
     "execution_count": 82,
     "metadata": {},
     "output_type": "execute_result"
    }
   ],
   "source": [
    "saturated_ fat = nut_space[0].find('td').findAll('font')[9].text"
   ]
  },
  {
   "cell_type": "code",
   "execution_count": 85,
   "metadata": {
    "collapsed": false
   },
   "outputs": [
    {
     "data": {
      "text/plain": [
       "'Cholesterol\\xa083mg'"
      ]
     },
     "execution_count": 85,
     "metadata": {},
     "output_type": "execute_result"
    }
   ],
   "source": [
    "cholesterol = nut_space[0].find('td').findAll('font')[11].text"
   ]
  },
  {
   "cell_type": "code",
   "execution_count": 87,
   "metadata": {
    "collapsed": false
   },
   "outputs": [
    {
     "data": {
      "text/plain": [
       "'Sodium\\xa0 1283mg'"
      ]
     },
     "execution_count": 87,
     "metadata": {},
     "output_type": "execute_result"
    }
   ],
   "source": [
    "sodium = nut_space[0].find('td').findAll('font')[13].text"
   ]
  },
  {
   "cell_type": "code",
   "execution_count": 89,
   "metadata": {
    "collapsed": false
   },
   "outputs": [
    {
     "data": {
      "text/plain": [
       "'Total Carbohydrate\\xa0 70g'"
      ]
     },
     "execution_count": 89,
     "metadata": {},
     "output_type": "execute_result"
    }
   ],
   "source": [
    "total_carb = nut_space[0].find('td').findAll('font')[15].text"
   ]
  },
  {
   "cell_type": "code",
   "execution_count": 91,
   "metadata": {
    "collapsed": false
   },
   "outputs": [
    {
     "data": {
      "text/plain": [
       "'\\xa0\\xa0\\xa0\\xa0Dietary Fiber\\xa0 4g'"
      ]
     },
     "execution_count": 91,
     "metadata": {},
     "output_type": "execute_result"
    }
   ],
   "source": [
    "total_fiber = nut_space[0].find('td').findAll('font')[17].text"
   ]
  },
  {
   "cell_type": "code",
   "execution_count": 93,
   "metadata": {
    "collapsed": false
   },
   "outputs": [
    {
     "data": {
      "text/plain": [
       "'Protein\\xa0 39g'"
      ]
     },
     "execution_count": 93,
     "metadata": {},
     "output_type": "execute_result"
    }
   ],
   "source": [
    "total_protein = nut_space[0].find('td').findAll('font')[19].text"
   ]
  },
  {
   "cell_type": "code",
   "execution_count": 46,
   "metadata": {
    "collapsed": false
   },
   "outputs": [
    {
     "data": {
      "text/plain": [
       "<tr><td colspan=\"2\"><img border=\"0\" height=\"3\" src=\"../../images/blue.gif\" vspace=\"2\" width=\"100%\"/></td></tr>"
      ]
     },
     "execution_count": 46,
     "metadata": {},
     "output_type": "execute_result"
    }
   ],
   "source": [
    "nut_space[0].findAll('tr')[4]"
   ]
  },
  {
   "cell_type": "code",
   "execution_count": 32,
   "metadata": {
    "collapsed": false
   },
   "outputs": [
    {
     "data": {
      "text/plain": [
       "'Calories\\xa0'"
      ]
     },
     "execution_count": 32,
     "metadata": {},
     "output_type": "execute_result"
    }
   ],
   "source": [
    "nut_space[0].findAll('tr')[3].find('b').text"
   ]
  },
  {
   "cell_type": "code",
   "execution_count": 33,
   "metadata": {
    "collapsed": false
   },
   "outputs": [
    {
     "data": {
      "text/plain": [
       "'Calories from Fat\\xa0 171'"
      ]
     },
     "execution_count": 33,
     "metadata": {},
     "output_type": "execute_result"
    }
   ],
   "source": [
    "nut_space[0].findAll('tr')[3].find('nobr').text"
   ]
  },
  {
   "cell_type": "code",
   "execution_count": 34,
   "metadata": {
    "collapsed": false
   },
   "outputs": [
    {
     "data": {
      "text/plain": [
       "'Calories\\xa0 610Calories from Fat\\xa0 171'"
      ]
     },
     "execution_count": 34,
     "metadata": {},
     "output_type": "execute_result"
    }
   ],
   "source": [
    "nut_space[0].findAll('tr')[3].text"
   ]
  },
  {
   "cell_type": "code",
   "execution_count": 35,
   "metadata": {
    "collapsed": false
   },
   "outputs": [
    {
     "data": {
      "text/plain": [
       "'Calories\\xa0 610'"
      ]
     },
     "execution_count": 35,
     "metadata": {},
     "output_type": "execute_result"
    }
   ],
   "source": [
    "nut_space[0].findAll('font')[3].text"
   ]
  },
  {
   "cell_type": "code",
   "execution_count": 47,
   "metadata": {
    "collapsed": false
   },
   "outputs": [
    {
     "data": {
      "text/plain": [
       "23"
      ]
     },
     "execution_count": 47,
     "metadata": {},
     "output_type": "execute_result"
    }
   ],
   "source": [
    "len(nut_space)"
   ]
  },
  {
   "cell_type": "code",
   "execution_count": 55,
   "metadata": {
    "collapsed": false
   },
   "outputs": [
    {
     "name": "stdout",
     "output_type": "stream",
     "text": [
      "no font\n",
      "no b\n",
      "no br\n",
      "no nobr\n",
      "no br\n",
      "no nobr\n",
      "no font\n",
      "no b\n",
      "no br\n",
      "no nobr\n",
      "no br\n",
      "no font\n",
      "no b\n",
      "no br\n",
      "no nobr\n",
      "no b\n",
      "no br\n",
      "no nobr\n",
      "no font\n",
      "no b\n",
      "no br\n",
      "no nobr\n",
      "no br\n",
      "no nobr\n",
      "no font\n",
      "no b\n",
      "no br\n",
      "no nobr\n",
      "no b\n",
      "no br\n",
      "no nobr\n",
      "no font\n",
      "no b\n",
      "no br\n",
      "no nobr\n",
      "no br\n",
      "no nobr\n",
      "no font\n",
      "no b\n",
      "no br\n",
      "no nobr\n",
      "no br\n",
      "no nobr\n",
      "no font\n",
      "no b\n",
      "no br\n",
      "no nobr\n",
      "no br\n",
      "no font\n",
      "no b\n",
      "no br\n",
      "no nobr\n",
      "no b\n",
      "no br\n",
      "no nobr\n",
      "no font\n",
      "no b\n",
      "no br\n",
      "no nobr\n",
      "no br\n",
      "no nobr\n",
      "no font\n",
      "no b\n",
      "no br\n",
      "no nobr\n",
      "no nobr\n"
     ]
    }
   ],
   "source": [
    "font_text = []\n",
    "tr_text = []\n",
    "b_text = []\n",
    "br_text = []\n",
    "no_br_text=[]\n",
    "for line in nut_space:\n",
    "    line_space = line.findAll('tr')\n",
    "    for new_line in line_space:\n",
    "        try:\n",
    "            font_text.append(new_line.find('font').text)\n",
    "        except:\n",
    "            print('no font')\n",
    "        try:\n",
    "            tr_text.append(new_line.text)\n",
    "        except: \n",
    "            print('no tr')\n",
    "        try:\n",
    "            b_text.append(new_line.find('b').text)\n",
    "        except:\n",
    "            print('no b')\n",
    "        try:\n",
    "            br_text.append(new_line.find('br').text)\n",
    "        except:\n",
    "            print('no br')\n",
    "        try:\n",
    "            no_br_text.append(new_line.find('nobr').text)\n",
    "        except:\n",
    "            print('no nobr')"
   ]
  },
  {
   "cell_type": "code",
   "execution_count": 51,
   "metadata": {
    "collapsed": false
   },
   "outputs": [
    {
     "data": {
      "text/plain": [
       "['Amount Per Serving',\n",
       " 'Calories\\xa0 610',\n",
       " '% DV',\n",
       " 'Total Fat\\xa0',\n",
       " '\\xa0\\xa0\\xa0\\xa0Saturated Fat\\xa0 3g',\n",
       " 'Cholesterol\\xa083mg',\n",
       " 'Sodium\\xa0 1283mg',\n",
       " 'Total Carbohydrate\\xa0 70g',\n",
       " '\\xa0\\xa0\\xa0\\xa0Dietary Fiber\\xa0 4g',\n",
       " 'Protein\\xa0 39g',\n",
       " 'Unofficial Pts+: 16']"
      ]
     },
     "execution_count": 51,
     "metadata": {},
     "output_type": "execute_result"
    }
   ],
   "source": [
    "font_text"
   ]
  },
  {
   "cell_type": "code",
   "execution_count": 52,
   "metadata": {
    "collapsed": false
   },
   "outputs": [
    {
     "data": {
      "text/plain": [
       "['',\n",
       " 'Amount Per Serving',\n",
       " '',\n",
       " 'Calories\\xa0 610Calories from Fat\\xa0 171',\n",
       " '',\n",
       " '% DV',\n",
       " '',\n",
       " 'Total Fat\\xa0 19g29%',\n",
       " '',\n",
       " '\\xa0\\xa0\\xa0\\xa0Saturated Fat\\xa0 3g15%',\n",
       " '',\n",
       " 'Cholesterol\\xa083mg28%',\n",
       " '',\n",
       " 'Sodium\\xa0 1283mg53%',\n",
       " '',\n",
       " 'Total Carbohydrate\\xa0 70g23%',\n",
       " '',\n",
       " '\\xa0\\xa0\\xa0\\xa0Dietary Fiber\\xa0 4g16%',\n",
       " '',\n",
       " 'Protein\\xa0 39g78%',\n",
       " '',\n",
       " 'Unofficial Pts+: 16(Old Pts: 13)']"
      ]
     },
     "execution_count": 52,
     "metadata": {},
     "output_type": "execute_result"
    }
   ],
   "source": [
    "tr_text"
   ]
  },
  {
   "cell_type": "code",
   "execution_count": 53,
   "metadata": {
    "collapsed": false
   },
   "outputs": [
    {
     "data": {
      "text/plain": [
       "['Amount Per Serving',\n",
       " 'Calories\\xa0',\n",
       " 'Total Fat\\xa0',\n",
       " 'Cholesterol\\xa0',\n",
       " 'Sodium\\xa0',\n",
       " 'Total Carbohydrate\\xa0',\n",
       " 'Protein\\xa0',\n",
       " 'Unofficial Pts+: 16']"
      ]
     },
     "execution_count": 53,
     "metadata": {},
     "output_type": "execute_result"
    }
   ],
   "source": [
    "b_text"
   ]
  },
  {
   "cell_type": "code",
   "execution_count": 56,
   "metadata": {
    "collapsed": false
   },
   "outputs": [
    {
     "data": {
      "text/plain": [
       "['Calories from Fat\\xa0 171', 'Total Carbohydrate\\xa0 70g']"
      ]
     },
     "execution_count": 56,
     "metadata": {},
     "output_type": "execute_result"
    }
   ],
   "source": [
    "no_br_text"
   ]
  },
  {
   "cell_type": "code",
   "execution_count": 43,
   "metadata": {
    "collapsed": false
   },
   "outputs": [
    {
     "data": {
      "text/plain": [
       "['Serving Size:\\xa01 burrito\\n\\n\\nAmount Per Serving\\n\\nCalories\\xa0 610Calories from Fat\\xa0 171\\n\\n% DV\\n\\nTotal Fat\\xa0 19g29%\\n\\n\\xa0\\xa0\\xa0\\xa0Saturated Fat\\xa0 3g15%\\n\\nCholesterol\\xa083mg28%\\n\\nSodium\\xa0 1283mg53%\\n\\nTotal Carbohydrate\\xa0 70g23%\\n\\n\\xa0\\xa0\\xa0\\xa0Dietary Fiber\\xa0 4g16%\\n\\nProtein\\xa0 39g78%\\n\\n\\nUnofficial Pts+: 16(Old Pts: 13)',\n",
       " '',\n",
       " 'Amount Per Serving',\n",
       " '',\n",
       " 'Calories\\xa0 610Calories from Fat\\xa0 171',\n",
       " '',\n",
       " '% DV',\n",
       " '',\n",
       " 'Total Fat\\xa0 19g29%',\n",
       " '',\n",
       " 'Saturated Fat\\xa0 3g15%',\n",
       " '',\n",
       " 'Cholesterol\\xa083mg28%',\n",
       " '',\n",
       " 'Sodium\\xa0 1283mg53%',\n",
       " '',\n",
       " 'Total Carbohydrate\\xa0 70g23%',\n",
       " '',\n",
       " 'Dietary Fiber\\xa0 4g16%',\n",
       " '',\n",
       " 'Protein\\xa0 39g78%',\n",
       " '',\n",
       " 'Unofficial Pts+: 16(Old Pts: 13)']"
      ]
     },
     "execution_count": 43,
     "metadata": {},
     "output_type": "execute_result"
    }
   ],
   "source": [
    "text_vec"
   ]
  },
  {
   "cell_type": "code",
   "execution_count": 37,
   "metadata": {
    "collapsed": true
   },
   "outputs": [],
   "source": [
    "def un_utf_8(text):\n",
    "    text = text.replace('\\xa0',u' ')\n",
    "    text = text.replace(\"b'\",u'')\n",
    "    text = text.replace(\"'\",u'')\n",
    "    text = text.replace(\"\\n\",u',')\n",
    "    return text"
   ]
  },
  {
   "cell_type": "code",
   "execution_count": 44,
   "metadata": {
    "collapsed": false
   },
   "outputs": [],
   "source": [
    "text_vec_formed = []\n",
    "for blah in text_vec:\n",
    "    text_vec_formed.append(un_utf_8(blah.strip()))"
   ]
  },
  {
   "cell_type": "code",
   "execution_count": 45,
   "metadata": {
    "collapsed": false
   },
   "outputs": [
    {
     "data": {
      "text/plain": [
       "['Serving Size: 1 burrito,,,Amount Per Serving,,Calories  610Calories from Fat  171,,% DV,,Total Fat  19g29%,,    Saturated Fat  3g15%,,Cholesterol 83mg28%,,Sodium  1283mg53%,,Total Carbohydrate  70g23%,,    Dietary Fiber  4g16%,,Protein  39g78%,,,Unofficial Pts+: 16(Old Pts: 13)',\n",
       " '',\n",
       " 'Amount Per Serving',\n",
       " '',\n",
       " 'Calories  610Calories from Fat  171',\n",
       " '',\n",
       " '% DV',\n",
       " '',\n",
       " 'Total Fat  19g29%',\n",
       " '',\n",
       " 'Saturated Fat  3g15%',\n",
       " '',\n",
       " 'Cholesterol 83mg28%',\n",
       " '',\n",
       " 'Sodium  1283mg53%',\n",
       " '',\n",
       " 'Total Carbohydrate  70g23%',\n",
       " '',\n",
       " 'Dietary Fiber  4g16%',\n",
       " '',\n",
       " 'Protein  39g78%',\n",
       " '',\n",
       " 'Unofficial Pts+: 16(Old Pts: 13)']"
      ]
     },
     "execution_count": 45,
     "metadata": {},
     "output_type": "execute_result"
    }
   ],
   "source": [
    "text_vec_formed"
   ]
  },
  {
   "cell_type": "code",
   "execution_count": null,
   "metadata": {
    "collapsed": true
   },
   "outputs": [],
   "source": []
  }
 ],
 "metadata": {
  "kernelspec": {
   "display_name": "Python 3",
   "language": "python",
   "name": "python3"
  },
  "language_info": {
   "codemirror_mode": {
    "name": "ipython",
    "version": 3
   },
   "file_extension": ".py",
   "mimetype": "text/x-python",
   "name": "python",
   "nbconvert_exporter": "python",
   "pygments_lexer": "ipython3",
   "version": "3.6.0"
  }
 },
 "nbformat": 4,
 "nbformat_minor": 2
}
