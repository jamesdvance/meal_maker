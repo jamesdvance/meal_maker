{
 "cells": [
  {
   "cell_type": "markdown",
   "metadata": {},
   "source": [
    "# Fat Secret Recipe Prototyping"
   ]
  },
  {
   "cell_type": "code",
   "execution_count": 2,
   "metadata": {
    "collapsed": true
   },
   "outputs": [],
   "source": [
    "import requests\n",
    "from bs4 import BeautifulSoup\n",
    "import pandas as pd\n",
    "import numpy as np\n",
    "import math\n",
    "import time"
   ]
  },
  {
   "cell_type": "code",
   "execution_count": 1,
   "metadata": {
    "collapsed": true
   },
   "outputs": [],
   "source": [
    "def try_url(url):\n",
    "    while True:\n",
    "        try:\n",
    "            page = requests.get(url)\n",
    "            break\n",
    "        except:\n",
    "            time.sleep(30)\n",
    "    ctr=0\n",
    "    while(page.status_code!=200):\n",
    "        if ctr>10&ctr<200:\n",
    "            time.sleep(45)\n",
    "        elif ctr>=200:\n",
    "            break\n",
    "        time.sleep(30)\n",
    "        page = requests.get(url)\n",
    "        ctr+=1 \n",
    "    return page"
   ]
  },
  {
   "cell_type": "code",
   "execution_count": 4,
   "metadata": {
    "collapsed": false
   },
   "outputs": [],
   "source": [
    "recipe_pg = try_url('https://www.fatsecret.com/recipes/mexican-pozole/Default.aspx')\n",
    "recipe_soup = BeautifulSoup(recipe_pg.text, 'html.parser')"
   ]
  },
  {
   "cell_type": "code",
   "execution_count": 6,
   "metadata": {
    "collapsed": true
   },
   "outputs": [],
   "source": [
    "recipe_yield = recipe_soup.find('div', attrs={'class':'yield'}).text.strip()"
   ]
  },
  {
   "cell_type": "code",
   "execution_count": 8,
   "metadata": {
    "collapsed": false
   },
   "outputs": [],
   "source": [
    "recipe_yield_int = int(recipe_yield.replace('servings',u'').strip())"
   ]
  },
  {
   "cell_type": "code",
   "execution_count": 10,
   "metadata": {
    "collapsed": false
   },
   "outputs": [],
   "source": [
    "meal_type = recipe_soup.find('div', attrs={'class':'tag'}).text.strip()"
   ]
  },
  {
   "cell_type": "code",
   "execution_count": 21,
   "metadata": {
    "collapsed": false
   },
   "outputs": [],
   "source": [
    "ingred_list = recipe_soup.find('ul',attrs={'class':'plain ingredients'}).findAll('li',attrs={'class':'ingredient'})"
   ]
  },
  {
   "cell_type": "code",
   "execution_count": 37,
   "metadata": {
    "collapsed": false
   },
   "outputs": [],
   "source": [
    "# Putting into curly braces seperated by commas to prepare for Postgres array format\n",
    "food_arr = '{'\n",
    "amount_arr = '{'\n",
    "for ingred in ingred_list:\n",
    "    food_arr = food_arr + ingred.find('a')['title'].strip() + ', '\n",
    "    amount_arr = amount_arr  + ingred.text.strip()  + '| '\n",
    "food_arr=food_arr[0:(len(food_arr)-2)]\n",
    "amount_arr=amount_arr[0:(len(amount_arr)-2)]\n",
    "food_arr = food_arr + '}'\n",
    "amount_arr = amount_arr+'}'\n",
    "ingred_arr = '{' + food_arr +', '+amount_arr+'}'"
   ]
  },
  {
   "cell_type": "code",
   "execution_count": 38,
   "metadata": {
    "collapsed": false
   },
   "outputs": [
    {
     "data": {
      "text/plain": [
       "'{{Black Pepper, Salt, Olive Oil, Cilantro (Coriander), Onions, Red Tomatoes (Stewed, Canned), Tomato Paste, Hominy (White, Canned), Ground Beef (90% Lean / 10% Fat)}, {0.12 tsp pepper, 1/4 tsp salt, 1 tbsp olive oil, 1/4 cup cilantro, 1 large onion, 15 oz stewed tomatoes, 2 oz tomato paste, 1 lb hominy, 2 lbs lean beef}}'"
      ]
     },
     "execution_count": 38,
     "metadata": {},
     "output_type": "execute_result"
    }
   ],
   "source": [
    "ingred_arr"
   ]
  },
  {
   "cell_type": "code",
   "execution_count": 36,
   "metadata": {
    "collapsed": false
   },
   "outputs": [
    {
     "data": {
      "text/plain": [
       "'{Black Pepper, Salt, Olive Oil, Cilantro (Coriander), Onions, Red Tomatoes (Stewed, Canned), Tomato Paste, Hominy (White, Canned), Ground Beef (90% Lean / 10% Fat)}'"
      ]
     },
     "execution_count": 36,
     "metadata": {},
     "output_type": "execute_result"
    }
   ],
   "source": [
    "food_arr"
   ]
  },
  {
   "cell_type": "code",
   "execution_count": 39,
   "metadata": {
    "collapsed": true
   },
   "outputs": [],
   "source": [
    "directions_list = recipe_soup.find('ol',attrs={'class':'noind instructions'}).findAll('li',attrs={'class':'instruction'})"
   ]
  },
  {
   "cell_type": "code",
   "execution_count": 44,
   "metadata": {
    "collapsed": true
   },
   "outputs": [],
   "source": [
    "instructions_arr = '{'\n",
    "for instr in directions_list:\n",
    "    instructions_arr = instructions_arr + instr.text.strip()+'| '\n",
    "instructions_arr=instructions_arr[0:(len(instructions_arr)-2)]\n",
    "instructions_arr = instructions_arr + '}'"
   ]
  },
  {
   "cell_type": "code",
   "execution_count": 45,
   "metadata": {
    "collapsed": false
   },
   "outputs": [
    {
     "data": {
      "text/plain": [
       "'{In large pot, heat oil, then sauté beef.| Add onion, garlic, salt, pepper, cilantro, and enough water to cover meat. Cover pot and cook over low heat until meat is tender.| Add tomatoes and tomato paste. Continue cooking for about 20 minutes.| Add hominy and continue cooking over low heat for another 15 minutes, stirring occasionally. If too thick, add water for desired consistency.}'"
      ]
     },
     "execution_count": 45,
     "metadata": {},
     "output_type": "execute_result"
    }
   ],
   "source": [
    "instructions_arr"
   ]
  },
  {
   "cell_type": "markdown",
   "metadata": {},
   "source": [
    "Getting a list of all the recipes"
   ]
  },
  {
   "cell_type": "code",
   "execution_count": 46,
   "metadata": {
    "collapsed": true
   },
   "outputs": [],
   "source": [
    "recipe_list_pg = try_url('https://www.fatsecret.com/Default.aspx?pa=rs')"
   ]
  },
  {
   "cell_type": "code",
   "execution_count": 47,
   "metadata": {
    "collapsed": true
   },
   "outputs": [],
   "source": [
    "recipe_list_soup = BeautifulSoup(recipe_list_pg.text, 'html.parser')"
   ]
  },
  {
   "cell_type": "code",
   "execution_count": 48,
   "metadata": {
    "collapsed": true
   },
   "outputs": [],
   "source": [
    "results_table = recipe_list_soup.find('table',attrs={'class':'listtable searchResult', 'width':'100%'})"
   ]
  },
  {
   "cell_type": "code",
   "execution_count": 51,
   "metadata": {
    "collapsed": true
   },
   "outputs": [],
   "source": [
    "results_rows = results_table.findAll('tr', attrs={'class':'listrow'})results_rows = results_table.findAll('tr', attrs={'class':'listrow'})"
   ]
  },
  {
   "cell_type": "code",
   "execution_count": 53,
   "metadata": {
    "collapsed": true
   },
   "outputs": [],
   "source": [
    "base_url = 'https://www.fatsecret.com'"
   ]
  },
  {
   "cell_type": "code",
   "execution_count": 54,
   "metadata": {
    "collapsed": false
   },
   "outputs": [
    {
     "name": "stdout",
     "output_type": "stream",
     "text": [
      "Shrimp & Cheese Salad\n",
      "Healthy low fat shrimp salad.\n",
      "https://www.fatsecret.com/recipes/shrimp-and-cheese-salad/Default.aspx\n",
      "Spinach Squares\n",
      "Easy spinach squares that taste amazing.\n",
      "https://www.fatsecret.com/recipes/spinach-squares/Default.aspx\n",
      "Keto Waffles\n",
      "Low carb. LCHF. Grain free. No sugars. Gluten free. Wheat free.\n",
      "https://www.fatsecret.com/recipes/keto-waffles/Default.aspx\n",
      "Vegan Pizza\n",
      "Vegan pizza with a variety of vegetables.\n",
      "https://www.fatsecret.com/recipes/vegan-pizza/Default.aspx\n",
      "Overnight Chia Oatmeal\n",
      "Overnight no-cook chia oatmeal with fruit and nuts.\n",
      "https://www.fatsecret.com/recipes/overnight-chia-oatmeal/Default.aspx\n",
      "Conch Fritters\n",
      "Low carb crispy fritters with conch and mozzarella.\n",
      "https://www.fatsecret.com/recipes/conch-fritters/Default.aspx\n",
      "Peanut Butter Balls\n",
      "Protein balls of goodness.\n",
      "https://www.fatsecret.com/recipes/peanut-butter-balls/Default.aspx\n",
      "All Seed Crackers\n",
      "These low carb crackers are amazing in that it's just seeds, water and spices.\n",
      "https://www.fatsecret.com/recipes/all-seed-crackers/Default.aspx\n",
      "Quinoa Pilaf\n",
      "A simple yet delicious vegetable and quinoa pilaf.\n",
      "https://www.fatsecret.com/recipes/quinoa-pilaf/Default.aspx\n",
      "Coconut Flour Wrap\n",
      "A healthy tortilla to accompany a variety of dishes.\n",
      "https://www.fatsecret.com/recipes/coconut-flour-wrap/Default.aspx\n",
      "Kale Leek Soup\n",
      "A heavenly and healthy dish to warm you up on those cold fall and winter days.\n",
      "https://www.fatsecret.com/recipes/kale-leek-soup/Default.aspx\n",
      "Chicken & Dumplings\n",
      "This is more of a loose soup than your mama's C&D;, but it's super high protein, very low fat, and medium carb. And it's pretty darn tasty.\n",
      "https://www.fatsecret.com/recipes/chicken-and-dumplings/Default.aspx\n",
      "Mushroom Ravioli with Diced Chicken Breast\n",
      "A simple pasta dish of chicken and mushrooms that is sure to warm you.\n",
      "https://www.fatsecret.com/recipes/mushroom-ravioli-with-diced-chicken-breast/Default.aspx\n",
      "Lemon Vinaigrette\n",
      "Refreshing dressing of olive oil, lemon juice and dijon mustard.\n",
      "https://www.fatsecret.com/recipes/lemon-vinaigrette/Default.aspx\n",
      "Linguine in White Clam Sauce\n",
      "A delicious seafood pasta of clams.\n",
      "https://www.fatsecret.com/recipes/linguine-in-white-clam-sauce/Default.aspx\n",
      "Energy Bites\n",
      "A healthy and delicious treat when you're on the go and just don't have time for a meal.\n",
      "https://www.fatsecret.com/recipes/energy-bites/Default.aspx\n",
      "Gluten Free Blueberry Muffins\n",
      "An easy and gluten free recipe for delicious muffins.\n",
      "https://www.fatsecret.com/recipes/gluten-free-blueberry-muffins/Default.aspx\n",
      "Crab Stew\n",
      "Creamy tomato base with chunky crab meat, delicious and low calorie.\n",
      "https://www.fatsecret.com/recipes/crab-stew/Default.aspx\n",
      "Curry Sauce\n",
      "A quick to make condiment using the blender.\n",
      "https://www.fatsecret.com/recipes/curry-sauce/Default.aspx\n",
      "Mini Chocolate Protein Muffins\n",
      "Low carb, no sugar treats that taste just like chocolate cake.\n",
      "https://www.fatsecret.com/recipes/mini-chocolate-protein-muffins/Default.aspx\n"
     ]
    }
   ],
   "source": [
    "for row in results_rows:\n",
    "    # taking a very simple approach\n",
    "    recipe_name = row.find('b').text.strip()\n",
    "    recipe_desc = row.find('div',attrs={'class':'topicsummary'}).text.strip()\n",
    "    recipe_link = base_url + row.find('b').find('a')['href']\n",
    "    print(recipe_name)\n",
    "    print(recipe_desc)\n",
    "    print(recipe_link)"
   ]
  },
  {
   "cell_type": "code",
   "execution_count": 63,
   "metadata": {
    "collapsed": false
   },
   "outputs": [],
   "source": [
    "start_url = 'https://www.fatsecret.com/Default.aspx?pa=rs'\n",
    "start_pg = try_url(start_url)\n",
    "start_soup = BeautifulSoup(start_pg.text,'html.parser')"
   ]
  },
  {
   "cell_type": "code",
   "execution_count": 58,
   "metadata": {
    "collapsed": true
   },
   "outputs": [],
   "source": [
    "link_section = start_soup.find('div',attrs={'class':'searchResultsPaging'})\n",
    "recipe_pages = link_section.findAll('a')"
   ]
  },
  {
   "cell_type": "code",
   "execution_count": 76,
   "metadata": {
    "collapsed": false
   },
   "outputs": [],
   "source": [
    "links = []\n",
    "for page in recipe_pages:\n",
    "    if base_url + page['href'] != start_url:\n",
    "        links.append(base_url + page['href'])\n",
    "    else:\n",
    "        pass\n",
    "links = links[0:(len(links)-1)]"
   ]
  }
 ],
 "metadata": {
  "kernelspec": {
   "display_name": "Python 3",
   "language": "python",
   "name": "python3"
  },
  "language_info": {
   "codemirror_mode": {
    "name": "ipython",
    "version": 3
   },
   "file_extension": ".py",
   "mimetype": "text/x-python",
   "name": "python",
   "nbconvert_exporter": "python",
   "pygments_lexer": "ipython3",
   "version": "3.6.0"
  }
 },
 "nbformat": 4,
 "nbformat_minor": 2
}
