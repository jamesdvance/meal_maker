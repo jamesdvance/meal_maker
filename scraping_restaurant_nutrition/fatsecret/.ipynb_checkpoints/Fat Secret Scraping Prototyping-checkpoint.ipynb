{
 "cells": [
  {
   "cell_type": "markdown",
   "metadata": {},
   "source": [
    "Looks like there are 4 sections, 'Food Manufacturer', 'Restaurant/Fast Food', 'Supermarket' and 'Other'"
   ]
  },
  {
   "cell_type": "code",
   "execution_count": 1,
   "metadata": {
    "collapsed": true
   },
   "outputs": [],
   "source": [
    "import requests\n",
    "from bs4 import BeautifulSoup\n",
    "import pandas as pd\n",
    "import numpy as nps\n",
    "import unidecode\n",
    "import math"
   ]
  },
  {
   "cell_type": "markdown",
   "metadata": {},
   "source": [
    "Only 4 different links for the different kinds of foods, and should all be scraped in the same format"
   ]
  },
  {
   "cell_type": "code",
   "execution_count": 2,
   "metadata": {
    "collapsed": true
   },
   "outputs": [],
   "source": [
    "fd_manufac_url = 'https://www.fatsecret.com/Default.aspx?pa=brands&t=1'\n",
    "rest_url = 'https://www.fatsecret.com/Default.aspx?pa=brands&t=2'\n",
    "mrkt_url = 'https://www.fatsecret.com/Default.aspx?pa=brands&t=3'\n",
    "other_url = 'https://www.fatsecret.com/Default.aspx?pa=brands&t=4'"
   ]
  },
  {
   "cell_type": "code",
   "execution_count": 3,
   "metadata": {
    "collapsed": true
   },
   "outputs": [],
   "source": [
    "fd_page = requests.get(fd_manufac_url)\n",
    "fd_soup = BeautifulSoup(fd_page.text, 'html.parser')"
   ]
  },
  {
   "cell_type": "markdown",
   "metadata": {},
   "source": [
    "Starting From the Bottom - Getting All Nutrition"
   ]
  },
  {
   "cell_type": "code",
   "execution_count": 7,
   "metadata": {
    "collapsed": true
   },
   "outputs": [],
   "source": [
    "prod_url = 'https://www.fatsecret.com/calories-nutrition/a-la-carte/chicken-cordon-bleu'\n",
    "prod_page = requests.get(prod_url)\n",
    "prod_soup = BeautifulSoup(prod_page.text, 'html.parser')"
   ]
  },
  {
   "cell_type": "code",
   "execution_count": 75,
   "metadata": {
    "collapsed": false
   },
   "outputs": [],
   "source": [
    "#fact_panel = prod_soup.find('td', attrs={'class':'factPanel', 'width':'255'})\n",
    "fact_panel = prod_soup.find('div', attrs={'class':'nutpanel'})"
   ]
  },
  {
   "cell_type": "code",
   "execution_count": 76,
   "metadata": {
    "collapsed": true
   },
   "outputs": [],
   "source": [
    "rows = fact_panel.findAll('tr')"
   ]
  },
  {
   "cell_type": "code",
   "execution_count": 85,
   "metadata": {
    "collapsed": false
   },
   "outputs": [],
   "source": [
    "# Getting serving size\n",
    "for row in rows:\n",
    "    if row.text.strip().find('Serving Size:') != -1:\n",
    "        serving_size = row.text.strip().replace('Serving Size:', u'').strip()\n",
    "        serving_size = unidecode.unidecode(serving_size)\n",
    "        serving_size = serving_size.replace('\\r',u'').strip()\n",
    "        serving_size = serving_size.replace('\\n',u' ').strip()\n",
    "        serving_size = serving_size.replace('\\t',u'').strip()\n",
    "    elif row.text.strip().find('Calories') != -1:\n",
    "        calories = row.find('td').text.strip()\n",
    "        cal_label = row.find('b').text.strip()\n",
    "        cal_fat_label = row.find('div').text.strip()\n",
    "        calories = calories.replace(cal_fat_label, u'')\n",
    "        calories = calories.replace(cal_label, u'').strip()\n",
    "    elif row.text.strip().find('Total Fat') != -1:\n",
    "        fat = row.find('td').text.strip()\n",
    "        fat_label = row.find('td').find('b').text.strip()\n",
    "        fat = fat.replace(fat_label, u'').strip()\n",
    "    elif row.text.strip().find('Saturated Fat') != -1:\n",
    "        sat_fat = row.find('td', attrs={'class':'borderTop label'}).text.strip()\n",
    "        sat_fat = sat_fat.replace('Saturated Fat', u'').strip()\n",
    "    elif row.text.strip().find('Cholesterol') != -1:\n",
    "        cholesterol = row.find('td').text.strip()\n",
    "        cholesterol_label = row.find('td').find('b').text.strip()\n",
    "        cholesterol = cholesterol.replace(cholesterol_label, u'').strip()\n",
    "    elif row.text.strip().find('Sodium') != -1:\n",
    "        sodium = row.find('td').text.strip()\n",
    "        sodium_label = row.find('td').find('b').text.strip()\n",
    "        sodium = sodium.replace(sodium_label, u'').strip()\n",
    "    elif row.text.strip().find('Total Carbohydrate') != -1:\n",
    "        carb = row.find('td').text.strip()\n",
    "        carb_label = row.find('td').find('b').text.strip()\n",
    "        carb = carb.replace(carb_label, u'').strip()\n",
    "    elif row.text.strip().find('Dietary Fiber') != -1:\n",
    "        fiber = row.find('td', attrs={'class':'borderTop label'}).text.strip()\n",
    "        fiber = fiber.replace('Dietary Fiber', u'').strip()\n",
    "    elif row.text.strip().find('Sugars') != -1:\n",
    "        sugar = row.find('td', attrs={'class':'borderTop label'}).text.strip()\n",
    "        sugar = sugar.replace('Sugars', u'').strip()\n",
    "    elif row.text.strip().find('Protein') != -1:\n",
    "        protein = row.find('td').text.strip()\n",
    "        protein = protein.replace('Protein', u'').strip()\n",
    "    elif row.text.strip().find('Vitamin A') != -1:\n",
    "        vit_rows = row.findAll('td', attrs={'width':'50%'})\n",
    "        vit_a = vit_rows[0].text.strip().replace('Vitamin A',u'').strip()\n",
    "        vit_c = vit_rows[1].text.strip().replace('Vitamin C', u'').strip()\n",
    "    elif row.text.strip().find('Calcium') != -1:\n",
    "        calc_iron_rows = row.findAll('td', attrs={'width':'50%'})\n",
    "        calcium = calc_iron_rows[0].text.strip().replace('Calcium',u'').strip()\n",
    "        iron = calc_iron_rows[1].text.strip().replace('Iron', u'').strip()"
   ]
  },
  {
   "cell_type": "markdown",
   "metadata": {},
   "source": [
    "Next - getting the individual products"
   ]
  },
  {
   "cell_type": "code",
   "execution_count": 92,
   "metadata": {
    "collapsed": true
   },
   "outputs": [],
   "source": [
    "product_list_url = 'https://www.fatsecret.com/calories-nutrition/search?q=A+La+Carte'\n",
    "product_list_pg = requests.get(product_list_url)\n",
    "product_list_soup = BeautifulSoup(product_list_pg.text, 'html.parser')"
   ]
  },
  {
   "cell_type": "code",
   "execution_count": 94,
   "metadata": {
    "collapsed": false
   },
   "outputs": [],
   "source": [
    "results_sec = product_list_soup.find('table', attrs={'class':'generic searchResult'})\n",
    "rows = results_sec.findAll('tr')"
   ]
  },
  {
   "cell_type": "code",
   "execution_count": 20,
   "metadata": {
    "collapsed": true
   },
   "outputs": [],
   "source": [
    "base_url = 'https://www.fatsecret.com'"
   ]
  },
  {
   "cell_type": "code",
   "execution_count": 100,
   "metadata": {
    "collapsed": false
   },
   "outputs": [
    {
     "name": "stdout",
     "output_type": "stream",
     "text": [
      "Chicken Cordon Bleu\n",
      "https://www.fatsecret.com/calories-nutrition/a-la-carte/chicken-cordon-bleu\n",
      "A La Carte\n",
      "Irish Lamb Stew\n",
      "https://www.fatsecret.com/calories-nutrition/a-la-carte/irish-lamb-stew\n",
      "A La Carte\n",
      "Herbes De Provence Lamb Shanks\n",
      "https://www.fatsecret.com/calories-nutrition/a-la-carte/herbes-de-provence-lamb-shanks\n",
      "A La Carte\n",
      "Vegetable Medley\n",
      "https://www.fatsecret.com/calories-nutrition/a-la-carte/vegetable-medley\n",
      "A La Carte\n",
      "Stephen Colbert's Americone Dream Vanilla Ice Cream with Fudge Covered Waffle Cone Pieces & a Caramel Swirl (Container)\n",
      "https://www.fatsecret.com/calories-nutrition/ben-and-jerrys/stephen-colberts-americone-dream-vanilla-ice-cream-with-fudge-covered-waffle-cone-pieces-and-a-caramel-swirl-(container)\n",
      "Ben & Jerry's\n",
      "Seven-Layer Salad (Lettuce Salad Made with A Combination Of Onion, Celery, Green Pepper, Peas, Mayonnaise, Cheese, Eggs and/or Bacon)\n",
      "https://www.fatsecret.com/calories-nutrition/generic/seven-layer-salad-(lettuce-salad-made-with-a-combination-of-onion-celery-green-pepper-peas-mayonnaise-cheese-eggs-and-or-bacon)\n",
      "nan\n",
      "Shrimp, Pasta & Primavera Style Vegetables Dressed with a Light Tomato & Garlic Sauce\n",
      "https://www.fatsecret.com/calories-nutrition/tastee-choice/shrimp-pasta-and-primavera-style-vegetables-dressed-with-a-light-tomato-and-garlic-sauce\n",
      "Tastee Choice\n",
      "Shrimp, Italian Style Linguini & Vegetables Paired with a Cream Garlic Sauce\n",
      "https://www.fatsecret.com/calories-nutrition/tastee-choice/shrimp-italian-style-linguini-and-vegetables-paired-with-a-cream-garlic-sauce\n",
      "Tastee Choice\n",
      "Sliced Yellow Carrots, White Navy Beans & Chopped Spinach in a Garlic Herb Sauce\n",
      "https://www.fatsecret.com/calories-nutrition/green-giant/sliced-yellow-carrots-white-navy-beans-and-chopped-spinach-in-a-garlic-herb-sauce\n",
      "Green Giant\n",
      "Sandwich Style 100% Whole Wheat with a Hint of Molasses Bread\n",
      "https://www.fatsecret.com/calories-nutrition/oroweat/sandwich-style-100%25-whole-wheat-with-a-hint-of-molasses-bread\n",
      "Oroweat\n"
     ]
    }
   ],
   "source": [
    "base_url = 'https://www.fatsecret.com'\n",
    "for row in rows:\n",
    "    text_line = row.find('td',attrs={'class':'borderBottom'})\n",
    "    food = text_line.find('a',attrs={'class':'prominent'}).text.strip()\n",
    "    food_link = base_url+text_line.find('a',attrs={'class':'prominent'})['href']\n",
    "    if text_line.find('a',attrs={'class':'brand'}) != None:\n",
    "        brand = text_line.find('a',attrs={'class':'brand'}).text.strip()\n",
    "        brand = brand.replace('(',u'').replace(')',u'').strip()\n",
    "    else:\n",
    "        brand = np.nan\n",
    "    print(food)\n",
    "    print(food_link)\n",
    "    print(brand)\n",
    "    "
   ]
  },
  {
   "cell_type": "markdown",
   "metadata": {},
   "source": [
    "Parsing all pages for a single brand"
   ]
  },
  {
   "cell_type": "code",
   "execution_count": 103,
   "metadata": {
    "collapsed": false
   },
   "outputs": [],
   "source": [
    "search_summary = product_list_soup.find('div',attrs={'class':'searchResultSummary'})\n",
    "txt = search_summary.text.strip()\n",
    "total_products = txt[(txt.find('of')+2):txt.find('for')].strip()\n",
    "total_pages = math.ceil(int(total_products)/10)"
   ]
  },
  {
   "cell_type": "code",
   "execution_count": 122,
   "metadata": {
    "collapsed": false
   },
   "outputs": [
    {
     "data": {
      "text/plain": [
       "range(0, 62)"
      ]
     },
     "execution_count": 122,
     "metadata": {},
     "output_type": "execute_result"
    }
   ],
   "source": [
    "range(total_pages)"
   ]
  },
  {
   "cell_type": "code",
   "execution_count": 126,
   "metadata": {
    "collapsed": false
   },
   "outputs": [],
   "source": [
    "brands_page = requests.get(fd_manufac_url)\n",
    "brands_soup = BeautifulSoup(brands_page.text,'html.parser')"
   ]
  },
  {
   "cell_type": "code",
   "execution_count": 127,
   "metadata": {
    "collapsed": true
   },
   "outputs": [],
   "source": [
    "brand_sec = brounds_soup.find('div', attrs={'class':'leftCellContent'})"
   ]
  },
  {
   "cell_type": "code",
   "execution_count": 128,
   "metadata": {
    "collapsed": true
   },
   "outputs": [],
   "source": [
    "brand_rows = brand_sec.findAll('h2')"
   ]
  },
  {
   "cell_type": "code",
   "execution_count": 129,
   "metadata": {
    "collapsed": false
   },
   "outputs": [
    {
     "name": "stdout",
     "output_type": "stream",
     "text": [
      "A La Carte\n",
      "https://www.fatsecret.com/calories-nutrition/a-la-carte\n",
      "A La Francaise\n",
      "https://www.fatsecret.com/calories-nutrition/a-la-francaise\n",
      "A Southern Season\n",
      "https://www.fatsecret.com/calories-nutrition/a-southern-season\n",
      "A Taste of India\n",
      "https://www.fatsecret.com/calories-nutrition/a-taste-of-india\n",
      "A Taste of Thai\n",
      "https://www.fatsecret.com/calories-nutrition/a-taste-of-thai\n",
      "A&W\n",
      "https://www.fatsecret.com/calories-nutrition/aandw\n",
      "A. Vogel\n",
      "https://www.fatsecret.com/calories-nutrition/a-vogel\n",
      "A.1. Steak Sauces And Marinades\n",
      "https://www.fatsecret.com/calories-nutrition/a1-steak-sauces-and-marinades\n",
      "A.K. Gourmet\n",
      "https://www.fatsecret.com/calories-nutrition/ak-gourmet\n",
      "A2\n",
      "https://www.fatsecret.com/calories-nutrition/a2\n",
      "Aaron's\n",
      "https://www.fatsecret.com/calories-nutrition/aarons\n",
      "Ab Cuts\n",
      "https://www.fatsecret.com/calories-nutrition/ab-cuts\n",
      "ABB\n",
      "https://www.fatsecret.com/calories-nutrition/abb\n",
      "Abbey Bakery\n",
      "https://www.fatsecret.com/calories-nutrition/abbey-bakery\n",
      "Abbotsford Farms\n",
      "https://www.fatsecret.com/calories-nutrition/abbotsford-farms\n",
      "Abbott Nutrition\n",
      "https://www.fatsecret.com/calories-nutrition/abbott-nutrition\n",
      "Abbyland\n",
      "https://www.fatsecret.com/calories-nutrition/abbyland\n",
      "ABC\n",
      "https://www.fatsecret.com/calories-nutrition/abc\n",
      "Abdallah\n",
      "https://www.fatsecret.com/calories-nutrition/abdallah\n",
      "Aberdeen Farms\n",
      "https://www.fatsecret.com/calories-nutrition/aberdeen-farms\n"
     ]
    }
   ],
   "source": [
    "for row in brand_rows:\n",
    "    brand_name = row.find('a').text.strip()\n",
    "    brand_link = base_url+row.find('a')['href']\n",
    "    print(brand_name)\n",
    "    print(brand_link)"
   ]
  },
  {
   "cell_type": "code",
   "execution_count": 130,
   "metadata": {
    "collapsed": true
   },
   "outputs": [],
   "source": [
    "brand_step_pg =requests.get(brand_link)\n",
    "brand_stp_soup = BeautifulSoup(brand_step_pg.text, 'html.parser')"
   ]
  },
  {
   "cell_type": "code",
   "execution_count": 134,
   "metadata": {
    "collapsed": true
   },
   "outputs": [],
   "source": [
    "full_pg_link = base_url+brand_stp_soup.find('div', attrs={'class':'smallText more', 'align':'right'}).find('a')['href']"
   ]
  },
  {
   "cell_type": "code",
   "execution_count": 148,
   "metadata": {
    "collapsed": false
   },
   "outputs": [],
   "source": [
    "n_letter_pages = brands_soup.find('div', attrs={'class':'searchResultSummary'}).text.strip()"
   ]
  },
  {
   "cell_type": "code",
   "execution_count": 150,
   "metadata": {
    "collapsed": false
   },
   "outputs": [
    {
     "data": {
      "text/plain": [
       "'490'"
      ]
     },
     "execution_count": 150,
     "metadata": {},
     "output_type": "execute_result"
    }
   ],
   "source": [
    "n_letter_pages[(n_letter_pages.find('of')+2):len(n_letter_pages)].strip()"
   ]
  },
  {
   "cell_type": "code",
   "execution_count": 156,
   "metadata": {
    "collapsed": true
   },
   "outputs": [],
   "source": [
    "i = 0\n",
    "char = 'A'\n",
    "t = 1"
   ]
  },
  {
   "cell_type": "code",
   "execution_count": 158,
   "metadata": {
    "collapsed": false
   },
   "outputs": [
    {
     "data": {
      "text/plain": [
       "'https://www.fatsecret.com/Default.aspx?pa=brands&pg=0&f=a&t=1'"
      ]
     },
     "execution_count": 158,
     "metadata": {},
     "output_type": "execute_result"
    }
   ],
   "source": [
    "base_url+'/Default.aspx?pa=brands&pg='+str(i)+'&f='+char.lower()+'&t='+str(t)"
   ]
  },
  {
   "cell_type": "code",
   "execution_count": 160,
   "metadata": {
    "collapsed": false
   },
   "outputs": [
    {
     "name": "stdout",
     "output_type": "stream",
     "text": [
      "1\n",
      "2\n",
      "3\n",
      "4\n"
     ]
    }
   ],
   "source": [
    "for i in range(1,5):\n",
    "    print(i)"
   ]
  },
  {
   "cell_type": "code",
   "execution_count": 161,
   "metadata": {
    "collapsed": true
   },
   "outputs": [],
   "source": [
    "food_types = {1:'grocery',2:'restaurant',3:'super_market',4:'other'}"
   ]
  },
  {
   "cell_type": "code",
   "execution_count": 164,
   "metadata": {
    "collapsed": false
   },
   "outputs": [
    {
     "data": {
      "text/plain": [
       "'super_market'"
      ]
     },
     "execution_count": 164,
     "metadata": {},
     "output_type": "execute_result"
    }
   ],
   "source": [
    "food_types[3]"
   ]
  },
  {
   "cell_type": "code",
   "execution_count": 4,
   "metadata": {
    "collapsed": true
   },
   "outputs": [],
   "source": [
    "brand_pg = requests.get('https://www.fatsecret.com/Default.aspx?pa=brands&t=3')\n",
    "brand_soup = BeautifulSoup(brand_pg.text, 'html.parser')"
   ]
  },
  {
   "cell_type": "code",
   "execution_count": 14,
   "metadata": {
    "collapsed": false
   },
   "outputs": [
    {
     "name": "stdout",
     "output_type": "stream",
     "text": [
      "https://www.fatsecret.com/calories-nutrition/search?q=A+Taste+of+Thai\n",
      "https://www.fatsecret.com/calories-nutrition/search?q=Albertsons\n",
      "https://www.fatsecret.com/calories-nutrition/search?q=Aldi\n",
      "https://www.fatsecret.com/calories-nutrition/search?q=All+Stars\n",
      "https://www.fatsecret.com/calories-nutrition/search?q=All+Whites\n",
      "https://www.fatsecret.com/calories-nutrition/search?q=Allure\n",
      "https://www.fatsecret.com/calories-nutrition/search?q=American+Fare\n",
      "https://www.fatsecret.com/calories-nutrition/search?q=America's+Choice\n",
      "https://www.fatsecret.com/calories-nutrition/search?q=Amick+Farms\n",
      "https://www.fatsecret.com/calories-nutrition/search?q=Appetitos\n",
      "https://www.fatsecret.com/calories-nutrition/search?q=Apple+Bobbers\n",
      "https://www.fatsecret.com/calories-nutrition/search?q=Appleton\n",
      "https://www.fatsecret.com/calories-nutrition/search?q=Appleton+Farms\n",
      "https://www.fatsecret.com/calories-nutrition/search?q=Archer+Farms\n",
      "https://www.fatsecret.com/calories-nutrition/search?q=Art+Dessert\n",
      "https://www.fatsecret.com/calories-nutrition/search?q=ArtDessert\n",
      "https://www.fatsecret.com/calories-nutrition/search?q=Artisan+Fresh\n",
      "https://www.fatsecret.com/calories-nutrition/search?q=Asda\n",
      "https://www.fatsecret.com/calories-nutrition/search?q=Asia+Specialties\n",
      "https://www.fatsecret.com/calories-nutrition/search?q=Aunt+Maple's\n"
     ]
    }
   ],
   "source": [
    "search_url = 'https://www.fatsecret.com/calories-nutrition/search?q='\n",
    "brand_sec = brand_soup.find('div', attrs={'class':'leftCellContent'})\n",
    "if brand_sec.find('h2') != None:\n",
    "    brand_rows = brand_sec.findAll('h2')\n",
    "    for row in brand_rows:\n",
    "        brand_name = row.find('a').text.strip()\n",
    "        brand_url = search_url + brand_name.replace(' ', u'+')\n",
    "        print(brand_url)"
   ]
  },
  {
   "cell_type": "code",
   "execution_count": 25,
   "metadata": {
    "collapsed": true
   },
   "outputs": [],
   "source": [
    "brand_pg = requests.get('https://www.fatsecret.com/calories-nutrition/search?q=A+Taste+of+Thai&pg=3')\n",
    "brand_soup = BeautifulSoup(brand_pg.text, 'html.parser')"
   ]
  },
  {
   "cell_type": "code",
   "execution_count": 26,
   "metadata": {
    "collapsed": true
   },
   "outputs": [],
   "source": [
    "results_sec = brand_soup.find('table', attrs={'class':'generic searchResult'})"
   ]
  },
  {
   "cell_type": "code",
   "execution_count": 27,
   "metadata": {
    "collapsed": true
   },
   "outputs": [],
   "source": [
    "if results_sec == None:\n",
    "    rows = product_list_soup.findAll('tr')\n",
    "else:\n",
    "    rows = results_sec.findAll('tr')"
   ]
  },
  {
   "cell_type": "code",
   "execution_count": 28,
   "metadata": {
    "collapsed": true
   },
   "outputs": [],
   "source": [
    "page_brand = 'A Taste of Thai'"
   ]
  },
  {
   "cell_type": "code",
   "execution_count": 38,
   "metadata": {
    "collapsed": false
   },
   "outputs": [
    {
     "name": "stdout",
     "output_type": "stream",
     "text": [
      "A Taste of Thai\n",
      "Chicken & Rice Seasoning\n",
      "https://www.fatsecret.com/calories-nutrition/a-taste-of-thai/chicken-and-rice-seasoning\n",
      "A Taste of Thai\n",
      "Coconut Milk Unsweetened/First Pressing\n",
      "https://www.fatsecret.com/calories-nutrition/a-taste-of-thai/coconut-milk-unsweetened-first-pressing\n",
      "A Taste of Thai\n",
      "Toasted Coconut Fortune Cookies\n",
      "https://www.fatsecret.com/calories-nutrition/a-taste-of-thai/toasted-coconut-fortune-cookies\n",
      "Ben & Jerry's\n",
      "Taco Time\n",
      "Taco Time\n",
      "Taco Time\n",
      "Old Dutch\n",
      "Trader Joe's\n"
     ]
    }
   ],
   "source": [
    "for row in rows:\n",
    "    if row.find('td', attrs={'class':'borderBottom'}).find('a',attrs={'class':'brand'})!=None:\n",
    "        text_line = row.find('td',attrs={'class':'borderBottom'})\n",
    "\n",
    "        brand = text_line.find('a',attrs={'class':'brand'}).text.strip()\n",
    "        brand = brand.replace('(',u'').replace(')',u'').strip()\n",
    "        print(brand)\n",
    "        if brand == page_brand:\n",
    "            food = text_line.find('a',attrs={'class':'prominent'}).text.strip()\n",
    "            food_link = base_url+text_line.find('a',attrs={'class':'prominent'})['href']\n",
    "            print(food)\n",
    "            print(food_link)"
   ]
  },
  {
   "cell_type": "code",
   "execution_count": 31,
   "metadata": {
    "collapsed": false
   },
   "outputs": [
    {
     "data": {
      "text/plain": [
       "<tr>\n",
       "<td class=\"borderBottom\">\n",
       "<a class=\"prominent\" href=\"/calories-nutrition/generic/chicken-or-turkey-a-la-king-with-vegetables-(including-carrots-broccoli-and-or-dark-green-leafy-(no-potatoes))-cream-white-or-soup-based-sauce\">Chicken or Turkey A La King with Vegetables in Cream, White or Soup-Based Sauce (Including Carrots, Broccoli, and/or Dark-Green Leafy, No Potatoes)</a>\n",
       "<div class=\"smallText greyText greyLink\">\n",
       "\t\t\t\t\t\t\t\t\t\t\n",
       "\t\t\t\t\t\t\t\t\t\t\tPer 1 cup - Calories: 465kcal | Fat: 33.38g | Carbs: 16.41g | Protein: 24.41g\n",
       "\t\t\t\t\t\t\t\t\t\t\n",
       "\t\t\t\t\t\t\t\t\t\t<!--\n",
       "\t\t\t\t\t\t\t\t\t\t1153 calories per <a href=\"#\">597g serving of Chicken or Turkey A La King with Vegetables in Cream, White or Soup-Based Sauce (Including Carrots, Broccoli, and/or Dark-Green Leafy, No Potatoes)</a>.\n",
       "\t\t\t\t\t\t\t\t\t\t-->\n",
       "<br/>Other sizes:\n",
       "\t\t\t\t\t\t\t\t\t\t\t\t\t1 serving - 349kcal\n",
       "\t\t\t\t\t\t\t\t\t\t\t, 1 Banquet's Cookin' Bag - 247kcal\n",
       "\t\t\t\t\t\t\t\t\t\t\t, 100 g - 193kcal\n",
       "\t\t\t\t\t\t\t\t\t\t\t\n",
       "\t\t\t\t\t\t\t\t\t\t\t, <i>more...</i>\n",
       "\t\t\t\t\t\t\t\t\t\t\n",
       "\t\t\t\t\t\t\t\t\t\t   <a href=\"/calories-nutrition/generic/chicken-or-turkey-a-la-king-with-vegetables-(including-carrots-broccoli-and-or-dark-green-leafy-(no-potatoes))-cream-white-or-soup-based-sauce\">Nutrition Facts</a> - <a href=\"/calories-nutrition/search?q=Chicken+or+Turkey+A+La+King+with+Vegetables+in+Cream%2c+White+or+Soup-Based+Sauce+(Including+Carrots%2c+Broccoli%2c+and%2for+Dark-Green+Leafy%2c+No+Potatoes)\">Similar</a>\n",
       "</div>\n",
       "</td>\n",
       "</tr>"
      ]
     },
     "execution_count": 31,
     "metadata": {},
     "output_type": "execute_result"
    }
   ],
   "source": [
    "row"
   ]
  },
  {
   "cell_type": "code",
   "execution_count": 39,
   "metadata": {
    "collapsed": false
   },
   "outputs": [
    {
     "data": {
      "text/plain": [
       "\"Trader Joe's\""
      ]
     },
     "execution_count": 39,
     "metadata": {},
     "output_type": "execute_result"
    }
   ],
   "source": [
    "brand"
   ]
  },
  {
   "cell_type": "code",
   "execution_count": 40,
   "metadata": {
    "collapsed": false
   },
   "outputs": [
    {
     "data": {
      "text/plain": [
       "\"Trader+Joe's\""
      ]
     },
     "execution_count": 40,
     "metadata": {},
     "output_type": "execute_result"
    }
   ],
   "source": [
    "brand.replace(' ',u'+')"
   ]
  },
  {
   "cell_type": "code",
   "execution_count": 41,
   "metadata": {
    "collapsed": false
   },
   "outputs": [
    {
     "data": {
      "text/plain": [
       "\"Trader Joe's\""
      ]
     },
     "execution_count": 41,
     "metadata": {},
     "output_type": "execute_result"
    }
   ],
   "source": [
    "brand"
   ]
  },
  {
   "cell_type": "code",
   "execution_count": 34,
   "metadata": {
    "collapsed": false
   },
   "outputs": [],
   "source": [
    "text_line = row.find('td',attrs={'class':'borderBottom'})\n",
    "#brand = text_line.find('a',attrs={'class':'brand'}).text.strip()"
   ]
  },
  {
   "cell_type": "code",
   "execution_count": 35,
   "metadata": {
    "collapsed": false
   },
   "outputs": [
    {
     "data": {
      "text/plain": [
       "<td class=\"borderBottom\">\n",
       "<a class=\"prominent\" href=\"/calories-nutrition/generic/chicken-or-turkey-a-la-king-with-vegetables-(including-carrots-broccoli-and-or-dark-green-leafy-(no-potatoes))-cream-white-or-soup-based-sauce\">Chicken or Turkey A La King with Vegetables in Cream, White or Soup-Based Sauce (Including Carrots, Broccoli, and/or Dark-Green Leafy, No Potatoes)</a>\n",
       "<div class=\"smallText greyText greyLink\">\n",
       "\t\t\t\t\t\t\t\t\t\t\n",
       "\t\t\t\t\t\t\t\t\t\t\tPer 1 cup - Calories: 465kcal | Fat: 33.38g | Carbs: 16.41g | Protein: 24.41g\n",
       "\t\t\t\t\t\t\t\t\t\t\n",
       "\t\t\t\t\t\t\t\t\t\t<!--\n",
       "\t\t\t\t\t\t\t\t\t\t1153 calories per <a href=\"#\">597g serving of Chicken or Turkey A La King with Vegetables in Cream, White or Soup-Based Sauce (Including Carrots, Broccoli, and/or Dark-Green Leafy, No Potatoes)</a>.\n",
       "\t\t\t\t\t\t\t\t\t\t-->\n",
       "<br/>Other sizes:\n",
       "\t\t\t\t\t\t\t\t\t\t\t\t\t1 serving - 349kcal\n",
       "\t\t\t\t\t\t\t\t\t\t\t, 1 Banquet's Cookin' Bag - 247kcal\n",
       "\t\t\t\t\t\t\t\t\t\t\t, 100 g - 193kcal\n",
       "\t\t\t\t\t\t\t\t\t\t\t\n",
       "\t\t\t\t\t\t\t\t\t\t\t, <i>more...</i>\n",
       "\t\t\t\t\t\t\t\t\t\t\n",
       "\t\t\t\t\t\t\t\t\t\t   <a href=\"/calories-nutrition/generic/chicken-or-turkey-a-la-king-with-vegetables-(including-carrots-broccoli-and-or-dark-green-leafy-(no-potatoes))-cream-white-or-soup-based-sauce\">Nutrition Facts</a> - <a href=\"/calories-nutrition/search?q=Chicken+or+Turkey+A+La+King+with+Vegetables+in+Cream%2c+White+or+Soup-Based+Sauce+(Including+Carrots%2c+Broccoli%2c+and%2for+Dark-Green+Leafy%2c+No+Potatoes)\">Similar</a>\n",
       "</div>\n",
       "</td>"
      ]
     },
     "execution_count": 35,
     "metadata": {},
     "output_type": "execute_result"
    }
   ],
   "source": [
    "text_line"
   ]
  },
  {
   "cell_type": "code",
   "execution_count": 5,
   "metadata": {
    "collapsed": true
   },
   "outputs": [],
   "source": [
    "good_url = 'https://www.fatsecret.com/calories-nutrition/search?q=A.K.+Gourmet'\n",
    "bad_url = 'https://www.fatsecret.com/calories-nutrition/search?q=A2'"
   ]
  },
  {
   "cell_type": "code",
   "execution_count": 11,
   "metadata": {
    "collapsed": false
   },
   "outputs": [],
   "source": [
    "food_pages_url = requests.get(good_url)\n",
    "food_pages_soup = BeautifulSoup(food_pages_url.text, 'html.parser')\n",
    "search_summary = food_pages_soup.find('div',attrs={'class':'searchResultSummary'})"
   ]
  },
  {
   "cell_type": "code",
   "execution_count": 12,
   "metadata": {
    "collapsed": false
   },
   "outputs": [
    {
     "data": {
      "text/plain": [
       "True"
      ]
     },
     "execution_count": 12,
     "metadata": {},
     "output_type": "execute_result"
    }
   ],
   "source": [
    "search_summary != None"
   ]
  }
 ],
 "metadata": {
  "kernelspec": {
   "display_name": "Python 3",
   "language": "python",
   "name": "python3"
  },
  "language_info": {
   "codemirror_mode": {
    "name": "ipython",
    "version": 3
   },
   "file_extension": ".py",
   "mimetype": "text/x-python",
   "name": "python",
   "nbconvert_exporter": "python",
   "pygments_lexer": "ipython3",
   "version": "3.6.0"
  }
 },
 "nbformat": 4,
 "nbformat_minor": 2
}
