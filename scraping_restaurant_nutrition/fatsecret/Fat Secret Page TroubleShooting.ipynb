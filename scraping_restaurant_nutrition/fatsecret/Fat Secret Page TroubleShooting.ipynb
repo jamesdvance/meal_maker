{
 "cells": [
  {
   "cell_type": "code",
   "execution_count": 1,
   "metadata": {
    "collapsed": true
   },
   "outputs": [],
   "source": [
    "import requests\n",
    "from bs4 import BeautifulSoup\n",
    "import pandas as pd\n",
    "import numpy as np\n",
    "import math\n",
    "import time\n",
    "\n",
    "# Global base_url variable\n",
    "base_url = 'https://www.fatsecret.com'\n",
    "\n",
    "glob_iter = 0 \n",
    "\n",
    "def try_url(url):\n",
    "    while True:\n",
    "        try:\n",
    "            page = requests.get(url)\n",
    "            break\n",
    "        except:\n",
    "            time.sleep(30)\n",
    "    ctr=0\n",
    "    while(page.status_code!=200):\n",
    "        if ctr>10&ctr<200:\n",
    "            time.sleep(45)\n",
    "        elif ctr>=200:\n",
    "            break\n",
    "        time.sleep(30)\n",
    "        page = requests.get(url)\n",
    "        ctr+=1 \n",
    "    return page\n",
    "\n",
    "def scrape_nutrients(prod_url):\n",
    "    prod_page = try_url(prod_url)\n",
    "    prod_soup = BeautifulSoup(prod_page.text, 'html.parser')\n",
    "    fact_panel = prod_soup.find('div', attrs={'class':'nutpanel'})\n",
    "    rows = fact_panel.findAll('tr')\n",
    "    # Getting serving size\n",
    "    for row in rows:\n",
    "\t    if row.text.strip().find('Serving Size:') != -1:\n",
    "\t        serving_size = row.text.strip().replace('Serving Size:', u'').strip()\n",
    "\t        serving_size = serving_size.replace('\\r',u'').strip()\n",
    "\t        serving_size = serving_size.replace('\\n',u' ').strip()\n",
    "\t        serving_size = serving_size.replace('\\t',u'').strip()\n",
    "\t    elif row.text.strip().find('Calories') != -1:\n",
    "\t        calories = row.find('td').text.strip()\n",
    "\t        cal_label = row.find('b').text.strip()\n",
    "\t        cal_fat_label = row.find('div').text.strip()\n",
    "\t        calories = calories.replace(cal_fat_label, u'')\n",
    "\t        calories = calories.replace(cal_label, u'').strip()\n",
    "\t    elif row.text.strip().find('Total Fat') != -1:\n",
    "\t        fat = row.find('td').text.strip()\n",
    "\t        fat_label = row.find('td').find('b').text.strip()\n",
    "\t        fat = fat.replace(fat_label, u'').strip()\n",
    "\t    elif row.text.strip().find('Saturated Fat') != -1:\n",
    "\t        sat_fat = row.find('td', attrs={'class':'borderTop label'}).text.strip()\n",
    "\t        sat_fat = sat_fat.replace('Saturated Fat', u'').strip()\n",
    "\t    elif row.text.strip().find('Cholesterol') != -1:\n",
    "\t        cholesterol = row.find('td').text.strip()\n",
    "\t        cholesterol_label = row.find('td').find('b').text.strip()\n",
    "\t        cholesterol = cholesterol.replace(cholesterol_label, u'').strip()\n",
    "\t    elif row.text.strip().find('Sodium') != -1:\n",
    "\t        sodium = row.find('td').text.strip()\n",
    "\t        sodium_label = row.find('td').find('b').text.strip()\n",
    "\t        sodium = sodium.replace(sodium_label, u'').strip()\n",
    "\t    elif row.text.strip().find('Total Carbohydrate') != -1:\n",
    "\t        carb = row.find('td').text.strip()\n",
    "\t        carb_label = row.find('td').find('b').text.strip()\n",
    "\t        carb = carb.replace(carb_label, u'').strip()\n",
    "\t    elif row.text.strip().find('Dietary Fiber') != -1:\n",
    "\t        fiber = row.find('td', attrs={'class':'borderTop label'}).text.strip()\n",
    "\t        fiber = fiber.replace('Dietary Fiber', u'').strip()\n",
    "\t    elif row.text.strip().find('Sugars') != -1:\n",
    "\t        sugar = row.find('td', attrs={'class':'borderTop label'}).text.strip()\n",
    "\t        sugar = sugar.replace('Sugars', u'').strip()\n",
    "\t    elif row.text.strip().find('Protein') != -1:\n",
    "\t        protein = row.find('td').text.strip()\n",
    "\t        protein = protein.replace('Protein', u'').strip()\n",
    "\t    elif row.text.strip().find('Vitamin A') != -1:\n",
    "\t        vit_rows = row.findAll('td', attrs={'width':'50%'})\n",
    "\t        vit_a = vit_rows[0].text.strip().replace('Vitamin A',u'').strip()\n",
    "\t        vit_c = vit_rows[1].text.strip().replace('Vitamin C', u'').strip()\n",
    "\t    elif row.text.strip().find('Calcium') != -1:\n",
    "\t        calc_iron_rows = row.findAll('td', attrs={'width':'50%'})\n",
    "\t        calcium = calc_iron_rows[0].text.strip().replace('Calcium',u'').strip()\n",
    "\t        iron = calc_iron_rows[1].text.strip().replace('Iron', u'').strip()\n",
    "    nut_df = pd.DataFrame([{\"serving_size\":serving_size, \"calories\":calories,\"fat_g\":fat.replace('g',u''),\"saturated_fat_g\":sat_fat.replace('g',u''),\"cholesterol_mg\":cholesterol.replace('mg',u''), \"sodium_mg\":sodium.replace('mg',u''),\"carb_g\":carb.replace('g',u''),\"fiber_g\":fiber.replace('g',u''),\"sugar_g\":sugar.replace('g',u''),\"protein\":protein.replace('g',u''),\"vit_a_perc\":vit_a.replace('%',u''),\"vit_c_perc\":vit_c.replace('%',u''),\"calcium_perc\":calcium.replace('%',u''),\"iron_perc\":iron.replace('%',u'')}])\n",
    "    return nut_df\n",
    "\n",
    "def parse_food_page(url, food_type, page_brand):\n",
    "    product_list_pg = try_url(url)\n",
    "    product_list_soup = BeautifulSoup(product_list_pg.text, 'html.parser')\n",
    "    results_sec = product_list_soup.find('table', attrs={'class':'generic searchResult'})\n",
    "    if results_sec == None:\n",
    "        rows = product_list_soup.findAll('tr')\n",
    "    else:\n",
    "        rows = results_sec.findAll('tr')\n",
    "    full_page_df = pd.DataFrame()\n",
    "    for row in rows:\n",
    "        if row.find('td', attrs={'class':'borderBottom'}).find('a',attrs={'class':'brand'})!=None:\n",
    "            text_line = row.find('td',attrs={'class':'borderBottom'})\n",
    "            brand = text_line.find('a',attrs={'class':'brand'}).text.strip()\n",
    "            brand = brand.replace('(',u'').replace(')',u'').strip()\n",
    "            if page_brand == brand:\n",
    "                food = text_line.find('a',attrs={'class':'prominent'}).text.strip()\n",
    "                food_link = base_url+text_line.find('a',attrs={'class':'prominent'})['href']\n",
    "                food_df = pd.DataFrame([{'food':food, 'brand':brand, 'food_type':food_type}])\n",
    "                try:\n",
    "                    nut_df = scrape_nutrients(food_link)\n",
    "                    full_food_df = pd.concat([food_df, nut_df],axis=1)\n",
    "                    full_page_df = full_page_df.append([full_food_df], ignore_index=False)\n",
    "                except: \n",
    "                    print('skipped')\n",
    "                    pass\n",
    "    return full_page_df\n",
    "\n",
    "def parse_food_pages(url,food_type, page_brand):\n",
    "    global glob_iter\n",
    "    food_pages_url = try_url(url)\n",
    "    food_pages_soup = BeautifulSoup(food_pages_url.text, 'html.parser')\n",
    "    search_summary = food_pages_soup.find('div',attrs={'class':'searchResultSummary'})\n",
    "    if search_summary != None:\n",
    "        txt = search_summary.text.strip()\n",
    "        total_products = txt[(txt.find('of')+2):txt.find('for')].strip()\n",
    "        total_pages = math.ceil(int(total_products)/10)\n",
    "        #food_df = pd.DataFrame()\n",
    "        for i in range(total_pages):\n",
    "            page_url = url+'&pg='+str(i) \n",
    "            page_df = parse_food_page(page_url,food_type, page_brand)\n",
    "            #food_df = food_df.append(page_df)\n",
    "            if glob_iter == 0:\n",
    "                page_df.to_csv('fat_secret_in_progress.csv', index=False)\n",
    "            else:\n",
    "                page_df.to_csv('fat_secret_in_progress.csv', mode='a',index=False, header=False, index_label=0)\n",
    "            glob_iter +=1\n",
    "    return 'done' \n",
    "\n",
    "def parse_brand_pages(url,food_type):\n",
    "    search_url = 'https://www.fatsecret.com/calories-nutrition/search?q='\n",
    "    brand_pages_pg = try_url(url)\n",
    "    brand_pages_soup = BeautifulSoup(brand_pages_pg.text, 'html.parser')\n",
    "    brand_sec = brand_pages_soup.find('div', attrs={'class':'leftCellContent'})\n",
    "    if brand_sec.find('h2') != None:\n",
    "        brand_rows = brand_sec.findAll('h2')\n",
    "        for row in brand_rows:\n",
    "            brand_name = row.find('a').text.strip()\n",
    "            brand_url = search_url + brand_name.replace('&',u'%26').replace(' ', u'+')\n",
    "            brand_df = parse_food_pages(brand_url,food_type, brand_name)\n",
    "    return print(brand_name+ ' scraped')\n",
    "\n",
    "def parse_letters(url,char,t):\n",
    "    start_letter_pg = try_url(url)\n",
    "    start_letter_soup = BeautifulSoup(start_letter_pg.text,'html.parser')\n",
    "    n_letter_pages = start_letter_soup.find('div', attrs={'class':'searchResultSummary'}).text.strip()\n",
    "    total_entries = n_letter_pages[(n_letter_pages.find('of')+2):len(n_letter_pages)].strip()\n",
    "    total_pages = math.ceil(int(total_entries)/20)\n",
    "    food_types = {1:'grocery',2:'restaurant',3:'super_market',4:'other'}\n",
    "    food_type = food_types[t]\n",
    "\n",
    "    for i in range(total_pages):\n",
    "        page_url = base_url+'/Default.aspx?pa=brands&pg='+str(i)+'&f='+char.lower()+'&t='+str(t)\n",
    "        parse_brand_pages(page_url,food_type)\n",
    "    return print(char + ' '+str(t)+' pages parsed')\n",
    "\n",
    "def parse_all_chars():\n",
    "    chars_list = ['A','B','C','D','E','F','G','H','I','J','K','L','M','N','O','P','Q','R','S','T','U','V','W','X','Y','Z','*']\n",
    "    for t in range(1,5):\n",
    "        for char in chars_list:\n",
    "            start_url = base_url+'/Default.aspx?pa=brands&pg=0&f='+char.lower()+'&t='+str(t)\n",
    "            parse_letters(start_url,char,t)\n",
    "            print('Section '+str(t)+' '+char+' scraped')\n",
    "    return 'finished'\n"
   ]
  },
  {
   "cell_type": "code",
   "execution_count": 2,
   "metadata": {
    "collapsed": false
   },
   "outputs": [
    {
     "data": {
      "text/plain": [
       "'done'"
      ]
     },
     "execution_count": 2,
     "metadata": {},
     "output_type": "execute_result"
    }
   ],
   "source": [
    "parse_food_pages('https://www.fatsecret.com/calories-nutrition/search?q=Cheesewich', 'grocery','Cheesewich')"
   ]
  },
  {
   "cell_type": "code",
   "execution_count": null,
   "metadata": {
    "collapsed": true
   },
   "outputs": [],
   "source": [
    "parse_food_pages('https://www.fatsecret.com/calories-nutrition/search?q=Cheesewich', 'grocery','Cheesewich')"
   ]
  },
  {
   "cell_type": "code",
   "execution_count": 3,
   "metadata": {
    "collapsed": true
   },
   "outputs": [],
   "source": [
    "new_page = requests.get('https://www.fatsecret.com/calories-nutrition/search?q=Cheesewich')\n",
    "soup = BeautifulSoup(new_page.text, 'html.parser')"
   ]
  },
  {
   "cell_type": "code",
   "execution_count": 5,
   "metadata": {
    "collapsed": false
   },
   "outputs": [],
   "source": [
    "results_sec = soup.find('table', attrs={'class':'generic searchResult'})"
   ]
  },
  {
   "cell_type": "code",
   "execution_count": 7,
   "metadata": {
    "collapsed": false
   },
   "outputs": [],
   "source": [
    "if results_sec == None:\n",
    "    rows = product_list_soup.findAll('tr')\n",
    "else:\n",
    "    rows = results_sec.findAll('tr')"
   ]
  },
  {
   "cell_type": "code",
   "execution_count": 8,
   "metadata": {
    "collapsed": false
   },
   "outputs": [
    {
     "data": {
      "text/plain": [
       "[<tr>\n",
       " <td class=\"borderBottom\">\n",
       " <a class=\"prominent\" href=\"/calories-nutrition/cheesewich/1-slice-hard-salami-2-slices-colby-jack-cheese\">1 Slice Hard Salami 2 Slices Colby Jack Cheese</a>  <a class=\"brand\" href=\"/calories-nutrition/cheesewich\">(Cheesewich)</a>\n",
       " <div class=\"smallText greyText greyLink\">\n",
       " \t\t\t\t\t\t\t\t\t\t\n",
       " \t\t\t\t\t\t\t\t\t\t\tPer 1 package - Calories: 290kcal | Fat: 25.00g | Carbs: 1.00g | Protein: 16.00g\n",
       " \t\t\t\t\t\t\t\t\t\t\n",
       " \t\t\t\t\t\t\t\t\t\t<!--\n",
       " \t\t\t\t\t\t\t\t\t\t290 calories per <a href=\"#\">1 package serving of 1 Slice Hard Salami 2 Slices Colby Jack Cheese</a>.\n",
       " \t\t\t\t\t\t\t\t\t\t-->\n",
       " \t\t\t\t\t\t\t\t\t\t\n",
       " \t\t\t\t\t\t\t\t\t\t\n",
       " \t\t\t\t\t\t\t\t\t\t   <a href=\"/calories-nutrition/cheesewich/1-slice-hard-salami-2-slices-colby-jack-cheese\">Nutrition Facts</a> - <a href=\"/calories-nutrition/search?q=Cheesewich+1+Slice+Hard+Salami+2+Slices+Colby+Jack+Cheese\">Similar</a>\n",
       " </div>\n",
       " </td>\n",
       " </tr>, <tr>\n",
       " <td class=\"borderBottom\">\n",
       " <a class=\"prominent\" href=\"/calories-nutrition/cheesewich/1-slice-hard-salami-2-slices-pepper-jack-cheese\">1 Slice Hard Salami 2 Slices Pepper Jack Cheese</a>  <a class=\"brand\" href=\"/calories-nutrition/cheesewich\">(Cheesewich)</a>\n",
       " <div class=\"smallText greyText greyLink\">\n",
       " \t\t\t\t\t\t\t\t\t\t\n",
       " \t\t\t\t\t\t\t\t\t\t\tPer 1 package - Calories: 270kcal | Fat: 23.00g | Carbs: 1.00g | Protein: 14.00g\n",
       " \t\t\t\t\t\t\t\t\t\t\n",
       " \t\t\t\t\t\t\t\t\t\t<!--\n",
       " \t\t\t\t\t\t\t\t\t\t270 calories per <a href=\"#\">1 package serving of 1 Slice Hard Salami 2 Slices Pepper Jack Cheese</a>.\n",
       " \t\t\t\t\t\t\t\t\t\t-->\n",
       " \t\t\t\t\t\t\t\t\t\t\n",
       " \t\t\t\t\t\t\t\t\t\t\n",
       " \t\t\t\t\t\t\t\t\t\t   <a href=\"/calories-nutrition/cheesewich/1-slice-hard-salami-2-slices-pepper-jack-cheese\">Nutrition Facts</a> - <a href=\"/calories-nutrition/search?q=Cheesewich+1+Slice+Hard+Salami+2+Slices+Pepper+Jack+Cheese\">Similar</a>\n",
       " </div>\n",
       " </td>\n",
       " </tr>, <tr>\n",
       " <td class=\"borderBottom\">\n",
       " <a class=\"prominent\" href=\"/calories-nutrition/cheesewich/1-slice-hard-salami-2-slices-mild-cheddar-cheese\">1 Slice Hard Salami 2 Slices Mild Cheddar Cheese</a>  <a class=\"brand\" href=\"/calories-nutrition/cheesewich\">(Cheesewich)</a>\n",
       " <div class=\"smallText greyText greyLink\">\n",
       " \t\t\t\t\t\t\t\t\t\t\n",
       " \t\t\t\t\t\t\t\t\t\t\tPer 1 package - Calories: 290kcal | Fat: 25.00g | Carbs: 1.00g | Protein: 16.00g\n",
       " \t\t\t\t\t\t\t\t\t\t\n",
       " \t\t\t\t\t\t\t\t\t\t<!--\n",
       " \t\t\t\t\t\t\t\t\t\t290 calories per <a href=\"#\">1 package serving of 1 Slice Hard Salami 2 Slices Mild Cheddar Cheese</a>.\n",
       " \t\t\t\t\t\t\t\t\t\t-->\n",
       " \t\t\t\t\t\t\t\t\t\t\n",
       " \t\t\t\t\t\t\t\t\t\t\n",
       " \t\t\t\t\t\t\t\t\t\t   <a href=\"/calories-nutrition/cheesewich/1-slice-hard-salami-2-slices-mild-cheddar-cheese\">Nutrition Facts</a> - <a href=\"/calories-nutrition/search?q=Cheesewich+1+Slice+Hard+Salami+2+Slices+Mild+Cheddar+Cheese\">Similar</a>\n",
       " </div>\n",
       " </td>\n",
       " </tr>, <tr>\n",
       " <td class=\"borderBottom\">\n",
       " <a class=\"prominent\" href=\"/calories-nutrition/red-robin/grilled-cheesewich\">Grilled Cheesewich</a>  <a class=\"brand\" href=\"/calories-nutrition/red-robin\">(Red Robin)</a>\n",
       " <div class=\"smallText greyText greyLink\">\n",
       " \t\t\t\t\t\t\t\t\t\t\n",
       " \t\t\t\t\t\t\t\t\t\t\tPer 1 sandwich - Calories: 440kcal | Fat: 29.00g | Carbs: 30.00g | Protein: 15.00g\n",
       " \t\t\t\t\t\t\t\t\t\t\n",
       " \t\t\t\t\t\t\t\t\t\t<!--\n",
       " \t\t\t\t\t\t\t\t\t\t440 calories per <a href=\"#\">1 sandwich serving of Grilled Cheesewich</a>.\n",
       " \t\t\t\t\t\t\t\t\t\t-->\n",
       " \t\t\t\t\t\t\t\t\t\t\n",
       " \t\t\t\t\t\t\t\t\t\t\n",
       " \t\t\t\t\t\t\t\t\t\t   <a href=\"/calories-nutrition/red-robin/grilled-cheesewich\">Nutrition Facts</a> - <a href=\"/calories-nutrition/search?q=Red+Robin+Grilled+Cheesewich\">Similar</a>\n",
       " </div>\n",
       " </td>\n",
       " </tr>]"
      ]
     },
     "execution_count": 8,
     "metadata": {},
     "output_type": "execute_result"
    }
   ],
   "source": [
    "rows"
   ]
  },
  {
   "cell_type": "code",
   "execution_count": 10,
   "metadata": {
    "collapsed": true
   },
   "outputs": [],
   "source": [
    "page_brand = 'Cheesewich'"
   ]
  },
  {
   "cell_type": "code",
   "execution_count": 11,
   "metadata": {
    "collapsed": false
   },
   "outputs": [
    {
     "name": "stdout",
     "output_type": "stream",
     "text": [
      "1 Slice Hard Salami 2 Slices Colby Jack Cheese\n",
      "https://www.fatsecret.com/calories-nutrition/cheesewich/1-slice-hard-salami-2-slices-colby-jack-cheese\n",
      "1 Slice Hard Salami 2 Slices Pepper Jack Cheese\n",
      "https://www.fatsecret.com/calories-nutrition/cheesewich/1-slice-hard-salami-2-slices-pepper-jack-cheese\n",
      "1 Slice Hard Salami 2 Slices Mild Cheddar Cheese\n",
      "https://www.fatsecret.com/calories-nutrition/cheesewich/1-slice-hard-salami-2-slices-mild-cheddar-cheese\n"
     ]
    }
   ],
   "source": [
    "for row in rows:\n",
    "    text_line = row.find('td',attrs={'class':'borderBottom'})\n",
    "    brand = text_line.find('a',attrs={'class':'brand'}).text.strip()\n",
    "    brand = brand.replace('(',u'').replace(')',u'').strip()\n",
    "    if page_brand == brand:\n",
    "        food = text_line.find('a',attrs={'class':'prominent'}).text.strip()\n",
    "        food_link = base_url+text_line.find('a',attrs={'class':'prominent'})['href']\n",
    "        print(food)\n",
    "        print(food_link)"
   ]
  },
  {
   "cell_type": "code",
   "execution_count": 8,
   "metadata": {
    "collapsed": false
   },
   "outputs": [
    {
     "data": {
      "text/plain": [
       "True"
      ]
     },
     "execution_count": 8,
     "metadata": {},
     "output_type": "execute_result"
    }
   ],
   "source": [
    "check == []"
   ]
  },
  {
   "cell_type": "code",
   "execution_count": 2,
   "metadata": {
    "collapsed": true
   },
   "outputs": [],
   "source": [
    "test = None"
   ]
  },
  {
   "cell_type": "code",
   "execution_count": 4,
   "metadata": {
    "collapsed": false
   },
   "outputs": [
    {
     "data": {
      "text/plain": [
       "False"
      ]
     },
     "execution_count": 4,
     "metadata": {},
     "output_type": "execute_result"
    }
   ],
   "source": [
    "(test != None) and test.find('a')"
   ]
  }
 ],
 "metadata": {
  "kernelspec": {
   "display_name": "Python 3",
   "language": "python",
   "name": "python3"
  },
  "language_info": {
   "codemirror_mode": {
    "name": "ipython",
    "version": 3
   },
   "file_extension": ".py",
   "mimetype": "text/x-python",
   "name": "python",
   "nbconvert_exporter": "python",
   "pygments_lexer": "ipython3",
   "version": "3.6.0"
  }
 },
 "nbformat": 4,
 "nbformat_minor": 2
}
