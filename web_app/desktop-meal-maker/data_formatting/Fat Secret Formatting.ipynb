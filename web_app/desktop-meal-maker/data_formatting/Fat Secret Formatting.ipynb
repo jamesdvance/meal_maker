{
 "cells": [
  {
   "cell_type": "code",
   "execution_count": 57,
   "metadata": {
    "collapsed": true
   },
   "outputs": [],
   "source": [
    "import pandas as pd\n",
    "import numpy as np"
   ]
  },
  {
   "cell_type": "code",
   "execution_count": 58,
   "metadata": {
    "collapsed": true
   },
   "outputs": [],
   "source": [
    "def length_finder(x):\n",
    "    if type(x)!= str:\n",
    "        return 0\n",
    "    else:\n",
    "        return len(x)"
   ]
  },
  {
   "cell_type": "code",
   "execution_count": 59,
   "metadata": {
    "collapsed": false
   },
   "outputs": [],
   "source": [
    "fs_all_search = pd.read_csv('C:/Users/J/Desktop/Businesses/Meal_Maker/Scraped_Data/fat_secret_in_progress.csv')"
   ]
  },
  {
   "cell_type": "code",
   "execution_count": 60,
   "metadata": {
    "collapsed": false
   },
   "outputs": [
    {
     "name": "stdout",
     "output_type": "stream",
     "text": [
      "calcium_perc\n",
      "47768\n"
     ]
    },
    {
     "name": "stderr",
     "output_type": "stream",
     "text": [
      "C:\\ProgramData\\Anaconda3\\lib\\site-packages\\ipykernel\\__main__.py:5: SettingWithCopyWarning: \n",
      "A value is trying to be set on a copy of a slice from a DataFrame\n",
      "\n",
      "See the caveats in the documentation: http://pandas.pydata.org/pandas-docs/stable/indexing.html#indexing-view-versus-copy\n"
     ]
    },
    {
     "name": "stdout",
     "output_type": "stream",
     "text": [
      "0\n",
      "cholesterol_mg\n",
      "13419\n",
      "0\n",
      "fiber_g\n",
      "10785\n",
      "0\n",
      "iron_perc\n",
      "46701\n",
      "0\n",
      "saturated_fat_g\n",
      "15963\n",
      "0\n",
      "sodium_mg\n",
      "4679\n",
      "0\n",
      "sugar_g\n",
      "10020\n",
      "0\n",
      "vit_a_perc\n",
      "52420\n",
      "0\n",
      "vit_c_perc\n",
      "52465\n",
      "0\n"
     ]
    }
   ],
   "source": [
    "for i in range(len(fs_all_search.columns)):\n",
    "    if fs_all_search.iloc[:,i].dtype == 'O' and sum(fs_all_search.iloc[:,i]=='-') > 0:\n",
    "        print(fs_all_search.columns.values[i])\n",
    "        print(sum(fs_all_search.iloc[:,i]=='-'))\n",
    "        fs_all_search.iloc[:,i][fs_all_search.iloc[:,i]=='-'] = 0 \n",
    "        print(sum(fs_all_search.iloc[:,i]=='-'))"
   ]
  },
  {
   "cell_type": "code",
   "execution_count": 61,
   "metadata": {
    "collapsed": false
   },
   "outputs": [
    {
     "data": {
      "text/plain": [
       "array(['brand', 'food', 'food_type', 'calcium_perc', 'calories', 'carb_g',\n",
       "       'cholesterol_mg', 'fat_g', 'fiber_g', 'iron_perc', 'protein',\n",
       "       'saturated_fat_g', 'serving_size', 'sodium_mg', 'sugar_g',\n",
       "       'vit_a_perc', 'vit_c_perc'], dtype=object)"
      ]
     },
     "execution_count": 61,
     "metadata": {},
     "output_type": "execute_result"
    }
   ],
   "source": [
    "fs_all_search.columns.values"
   ]
  },
  {
   "cell_type": "code",
   "execution_count": 64,
   "metadata": {
    "collapsed": false
   },
   "outputs": [
    {
     "data": {
      "text/plain": [
       "108"
      ]
     },
     "execution_count": 64,
     "metadata": {},
     "output_type": "execute_result"
    }
   ],
   "source": [
    "max(fs_all_search.serving_size.map(lambda x: length_finder(x)))"
   ]
  },
  {
   "cell_type": "code",
   "execution_count": 41,
   "metadata": {
    "collapsed": false
   },
   "outputs": [],
   "source": [
    "df_sorted = fs_all_search.sort_values(by=['brand','food'])"
   ]
  },
  {
   "cell_type": "code",
   "execution_count": 42,
   "metadata": {
    "collapsed": false
   },
   "outputs": [
    {
     "data": {
      "text/plain": [
       "156515"
      ]
     },
     "execution_count": 42,
     "metadata": {},
     "output_type": "execute_result"
    }
   ],
   "source": [
    "len(df_sorted)"
   ]
  },
  {
   "cell_type": "code",
   "execution_count": 43,
   "metadata": {
    "collapsed": false
   },
   "outputs": [],
   "source": [
    "df_sorted = df_sorted[df_sorted.brand!=0]"
   ]
  },
  {
   "cell_type": "code",
   "execution_count": 44,
   "metadata": {
    "collapsed": false
   },
   "outputs": [
    {
     "data": {
      "text/plain": [
       "156515"
      ]
     },
     "execution_count": 44,
     "metadata": {},
     "output_type": "execute_result"
    }
   ],
   "source": [
    "len(df_sorted)"
   ]
  },
  {
   "cell_type": "code",
   "execution_count": 27,
   "metadata": {
    "collapsed": false
   },
   "outputs": [
    {
     "data": {
      "text/html": [
       "<div>\n",
       "<table border=\"1\" class=\"dataframe\">\n",
       "  <thead>\n",
       "    <tr style=\"text-align: right;\">\n",
       "      <th></th>\n",
       "      <th>brand</th>\n",
       "      <th>food</th>\n",
       "      <th>food_type</th>\n",
       "      <th>calcium_perc</th>\n",
       "      <th>calories</th>\n",
       "      <th>carb_g</th>\n",
       "      <th>cholesterol_mg</th>\n",
       "      <th>fat_g</th>\n",
       "      <th>fiber_g</th>\n",
       "      <th>iron_perc</th>\n",
       "      <th>protein</th>\n",
       "      <th>saturated_fat_g</th>\n",
       "      <th>serving_size</th>\n",
       "      <th>sodium_mg</th>\n",
       "      <th>sugar_g</th>\n",
       "      <th>vit_a_perc</th>\n",
       "      <th>vit_c_perc</th>\n",
       "    </tr>\n",
       "  </thead>\n",
       "  <tbody>\n",
       "    <tr>\n",
       "      <th>121568</th>\n",
       "      <td>12th Avenue Bread Company</td>\n",
       "      <td>The Caprese</td>\n",
       "      <td>restaurant</td>\n",
       "      <td>8</td>\n",
       "      <td>246.0</td>\n",
       "      <td>9.0</td>\n",
       "      <td>45</td>\n",
       "      <td>17.0</td>\n",
       "      <td>2</td>\n",
       "      <td>10</td>\n",
       "      <td>13.0</td>\n",
       "      <td>7</td>\n",
       "      <td>1 sandwich (341g)</td>\n",
       "      <td>890</td>\n",
       "      <td>5</td>\n",
       "      <td>30</td>\n",
       "      <td>30</td>\n",
       "    </tr>\n",
       "    <tr>\n",
       "      <th>88101</th>\n",
       "      <td>18 Rabbits</td>\n",
       "      <td>Bunny Bar</td>\n",
       "      <td>grocery</td>\n",
       "      <td>2</td>\n",
       "      <td>130.0</td>\n",
       "      <td>20.0</td>\n",
       "      <td>0</td>\n",
       "      <td>4.5</td>\n",
       "      <td>2</td>\n",
       "      <td>6</td>\n",
       "      <td>3.0</td>\n",
       "      <td>1</td>\n",
       "      <td>1 bar (30g)</td>\n",
       "      <td>8</td>\n",
       "      <td>9</td>\n",
       "      <td>0</td>\n",
       "      <td>2</td>\n",
       "    </tr>\n",
       "    <tr>\n",
       "      <th>88100</th>\n",
       "      <td>18 Rabbits</td>\n",
       "      <td>Cheeky Cherry Chocolate Granola Bar</td>\n",
       "      <td>grocery</td>\n",
       "      <td>2</td>\n",
       "      <td>240.0</td>\n",
       "      <td>33.0</td>\n",
       "      <td>5</td>\n",
       "      <td>10.0</td>\n",
       "      <td>4</td>\n",
       "      <td>8</td>\n",
       "      <td>4.0</td>\n",
       "      <td>4.5</td>\n",
       "      <td>1 bar (54g)</td>\n",
       "      <td>10</td>\n",
       "      <td>12</td>\n",
       "      <td>2</td>\n",
       "      <td>4</td>\n",
       "    </tr>\n",
       "    <tr>\n",
       "      <th>88099</th>\n",
       "      <td>18 Rabbits</td>\n",
       "      <td>Gracious Granola (Pecan, Almond and Maple)</td>\n",
       "      <td>grocery</td>\n",
       "      <td>2</td>\n",
       "      <td>220.0</td>\n",
       "      <td>21.0</td>\n",
       "      <td>5</td>\n",
       "      <td>13.0</td>\n",
       "      <td>4</td>\n",
       "      <td>10</td>\n",
       "      <td>5.0</td>\n",
       "      <td>5</td>\n",
       "      <td>1/2 cup (44g)</td>\n",
       "      <td>0</td>\n",
       "      <td>5</td>\n",
       "      <td>2</td>\n",
       "      <td>0</td>\n",
       "    </tr>\n",
       "    <tr>\n",
       "      <th>88102</th>\n",
       "      <td>18 Rabbits</td>\n",
       "      <td>Haute Diggity Date Granola Bar</td>\n",
       "      <td>grocery</td>\n",
       "      <td>2</td>\n",
       "      <td>230.0</td>\n",
       "      <td>32.0</td>\n",
       "      <td>5</td>\n",
       "      <td>10.0</td>\n",
       "      <td>4</td>\n",
       "      <td>10</td>\n",
       "      <td>4.0</td>\n",
       "      <td>3.5</td>\n",
       "      <td>1 bar (54g)</td>\n",
       "      <td>10</td>\n",
       "      <td>12</td>\n",
       "      <td>2</td>\n",
       "      <td>0</td>\n",
       "    </tr>\n",
       "  </tbody>\n",
       "</table>\n",
       "</div>"
      ],
      "text/plain": [
       "                            brand                                        food  \\\n",
       "121568  12th Avenue Bread Company                                 The Caprese   \n",
       "88101                  18 Rabbits                                   Bunny Bar   \n",
       "88100                  18 Rabbits         Cheeky Cherry Chocolate Granola Bar   \n",
       "88099                  18 Rabbits  Gracious Granola (Pecan, Almond and Maple)   \n",
       "88102                  18 Rabbits              Haute Diggity Date Granola Bar   \n",
       "\n",
       "         food_type calcium_perc  calories  carb_g cholesterol_mg  fat_g  \\\n",
       "121568  restaurant            8     246.0     9.0             45   17.0   \n",
       "88101      grocery            2     130.0    20.0              0    4.5   \n",
       "88100      grocery            2     240.0    33.0              5   10.0   \n",
       "88099      grocery            2     220.0    21.0              5   13.0   \n",
       "88102      grocery            2     230.0    32.0              5   10.0   \n",
       "\n",
       "       fiber_g iron_perc  protein saturated_fat_g       serving_size  \\\n",
       "121568       2        10     13.0               7  1 sandwich (341g)   \n",
       "88101        2         6      3.0               1        1 bar (30g)   \n",
       "88100        4         8      4.0             4.5        1 bar (54g)   \n",
       "88099        4        10      5.0               5      1/2 cup (44g)   \n",
       "88102        4        10      4.0             3.5        1 bar (54g)   \n",
       "\n",
       "       sodium_mg sugar_g vit_a_perc vit_c_perc  \n",
       "121568       890       5         30         30  \n",
       "88101          8       9          0          2  \n",
       "88100         10      12          2          4  \n",
       "88099          0       5          2          0  \n",
       "88102         10      12          2          0  "
      ]
     },
     "execution_count": 27,
     "metadata": {},
     "output_type": "execute_result"
    }
   ],
   "source": [
    "df_sorted.head()"
   ]
  },
  {
   "cell_type": "code",
   "execution_count": 28,
   "metadata": {
    "collapsed": false
   },
   "outputs": [
    {
     "data": {
      "text/plain": [
       "'12th Avenue Bread Company'"
      ]
     },
     "execution_count": 28,
     "metadata": {},
     "output_type": "execute_result"
    }
   ],
   "source": [
    "df_sorted.iloc[0,0]"
   ]
  },
  {
   "cell_type": "code",
   "execution_count": 45,
   "metadata": {
    "collapsed": false
   },
   "outputs": [
    {
     "name": "stderr",
     "output_type": "stream",
     "text": [
      "C:\\ProgramData\\Anaconda3\\lib\\site-packages\\ipykernel\\__main__.py:1: SettingWithCopyWarning: \n",
      "A value is trying to be set on a copy of a slice from a DataFrame\n",
      "\n",
      "See the caveats in the documentation: http://pandas.pydata.org/pandas-docs/stable/indexing.html#indexing-view-versus-copy\n",
      "  if __name__ == '__main__':\n"
     ]
    }
   ],
   "source": [
    "df_sorted.food_type[df_sorted.food_type!='restaurant']='grocery'"
   ]
  },
  {
   "cell_type": "code",
   "execution_count": 46,
   "metadata": {
    "collapsed": false
   },
   "outputs": [],
   "source": [
    "df_sorted = df_sorted.drop_duplicates()"
   ]
  },
  {
   "cell_type": "code",
   "execution_count": 55,
   "metadata": {
    "collapsed": false
   },
   "outputs": [
    {
     "data": {
      "text/plain": [
       "67248"
      ]
     },
     "execution_count": 55,
     "metadata": {},
     "output_type": "execute_result"
    }
   ],
   "source": [
    "len(df_sorted)"
   ]
  },
  {
   "cell_type": "code",
   "execution_count": 51,
   "metadata": {
    "collapsed": false
   },
   "outputs": [
    {
     "data": {
      "text/plain": [
       "brand                          truRoots\n",
       "food               Sprouted Quinoa Trio\n",
       "food_type                       grocery\n",
       "calcium_perc                          0\n",
       "calories                            150\n",
       "carb_g                               27\n",
       "cholesterol_mg                        0\n",
       "fat_g                                 3\n",
       "fiber_g                               3\n",
       "iron_perc                            10\n",
       "protein                               5\n",
       "saturated_fat_g                       0\n",
       "serving_size          1/4 cup dry (38g)\n",
       "sodium_mg                            10\n",
       "sugar_g                               6\n",
       "vit_a_perc                            0\n",
       "vit_c_perc                            0\n",
       "Name: 81729, dtype: object"
      ]
     },
     "execution_count": 51,
     "metadata": {},
     "output_type": "execute_result"
    }
   ],
   "source": [
    "df_sorted.iloc[len(df_sorted)-1,:]"
   ]
  },
  {
   "cell_type": "code",
   "execution_count": 52,
   "metadata": {
    "collapsed": false,
    "scrolled": true
   },
   "outputs": [
    {
     "ename": "IndexError",
     "evalue": "single positional indexer is out-of-bounds",
     "output_type": "error",
     "traceback": [
      "\u001b[0;31m---------------------------------------------------------------------------\u001b[0m",
      "\u001b[0;31mIndexError\u001b[0m                                Traceback (most recent call last)",
      "\u001b[0;32m<ipython-input-52-96f90d7014aa>\u001b[0m in \u001b[0;36m<module>\u001b[0;34m()\u001b[0m\n\u001b[1;32m      1\u001b[0m \u001b[1;32mfor\u001b[0m \u001b[0mi\u001b[0m \u001b[1;32min\u001b[0m \u001b[0mrange\u001b[0m\u001b[1;33m(\u001b[0m\u001b[1;36m1\u001b[0m\u001b[1;33m,\u001b[0m\u001b[1;33m(\u001b[0m\u001b[0mlen\u001b[0m\u001b[1;33m(\u001b[0m\u001b[0mdf_sorted\u001b[0m\u001b[1;33m)\u001b[0m\u001b[1;33m-\u001b[0m\u001b[1;36m2\u001b[0m\u001b[1;33m)\u001b[0m\u001b[1;33m)\u001b[0m\u001b[1;33m:\u001b[0m \u001b[1;31m# Start one below. Finish one above\u001b[0m\u001b[1;33m\u001b[0m\u001b[0m\n\u001b[1;32m      2\u001b[0m \u001b[1;31m# Don't know if the 'restaurant' duplicate is before or after the grocery duplicate so it checks before and after\u001b[0m\u001b[1;33m\u001b[0m\u001b[1;33m\u001b[0m\u001b[0m\n\u001b[0;32m----> 3\u001b[0;31m     \u001b[1;32mif\u001b[0m\u001b[1;33m(\u001b[0m\u001b[1;33m(\u001b[0m\u001b[1;33m(\u001b[0m\u001b[0mdf_sorted\u001b[0m\u001b[1;33m.\u001b[0m\u001b[0miloc\u001b[0m\u001b[1;33m[\u001b[0m\u001b[0mi\u001b[0m\u001b[1;33m,\u001b[0m\u001b[1;36m0\u001b[0m\u001b[1;33m]\u001b[0m\u001b[1;33m==\u001b[0m\u001b[0mdf_sorted\u001b[0m\u001b[1;33m.\u001b[0m\u001b[0miloc\u001b[0m\u001b[1;33m[\u001b[0m\u001b[0mi\u001b[0m\u001b[1;33m+\u001b[0m\u001b[1;36m1\u001b[0m\u001b[1;33m,\u001b[0m\u001b[1;36m0\u001b[0m\u001b[1;33m]\u001b[0m\u001b[1;33m)\u001b[0m \u001b[1;32mor\u001b[0m\u001b[1;33m(\u001b[0m\u001b[0mdf_sorted\u001b[0m\u001b[1;33m.\u001b[0m\u001b[0miloc\u001b[0m\u001b[1;33m[\u001b[0m\u001b[0mi\u001b[0m\u001b[1;33m,\u001b[0m\u001b[1;36m0\u001b[0m\u001b[1;33m]\u001b[0m\u001b[1;33m==\u001b[0m\u001b[0mdf_sorted\u001b[0m\u001b[1;33m.\u001b[0m\u001b[0miloc\u001b[0m\u001b[1;33m[\u001b[0m\u001b[0mi\u001b[0m\u001b[1;33m-\u001b[0m\u001b[1;36m1\u001b[0m\u001b[1;33m,\u001b[0m\u001b[1;36m0\u001b[0m\u001b[1;33m]\u001b[0m\u001b[1;33m)\u001b[0m\u001b[1;33m)\u001b[0m \u001b[1;32mand\u001b[0m\u001b[1;33m(\u001b[0m\u001b[0mdf_sorted\u001b[0m\u001b[1;33m.\u001b[0m\u001b[0miloc\u001b[0m\u001b[1;33m[\u001b[0m\u001b[0mi\u001b[0m\u001b[1;33m,\u001b[0m\u001b[1;36m2\u001b[0m\u001b[1;33m]\u001b[0m\u001b[1;33m!=\u001b[0m\u001b[1;34m'restaurant'\u001b[0m\u001b[1;33m)\u001b[0m\u001b[1;33m)\u001b[0m\u001b[1;33m:\u001b[0m\u001b[1;33m\u001b[0m\u001b[0m\n\u001b[0m\u001b[1;32m      4\u001b[0m         \u001b[0mdf_sorted\u001b[0m \u001b[1;33m=\u001b[0m \u001b[0mdf_sorted\u001b[0m\u001b[1;33m.\u001b[0m\u001b[0mdrop\u001b[0m\u001b[1;33m(\u001b[0m\u001b[1;33m[\u001b[0m\u001b[0mdf_sorted\u001b[0m\u001b[1;33m.\u001b[0m\u001b[0mindex\u001b[0m\u001b[1;33m[\u001b[0m\u001b[0mi\u001b[0m\u001b[1;33m]\u001b[0m\u001b[1;33m]\u001b[0m\u001b[1;33m)\u001b[0m\u001b[1;33m\u001b[0m\u001b[0m\n",
      "\u001b[0;32mC:\\ProgramData\\Anaconda3\\lib\\site-packages\\pandas\\core\\indexing.py\u001b[0m in \u001b[0;36m__getitem__\u001b[0;34m(self, key)\u001b[0m\n\u001b[1;32m   1308\u001b[0m \u001b[1;33m\u001b[0m\u001b[0m\n\u001b[1;32m   1309\u001b[0m         \u001b[1;32mif\u001b[0m \u001b[0mtype\u001b[0m\u001b[1;33m(\u001b[0m\u001b[0mkey\u001b[0m\u001b[1;33m)\u001b[0m \u001b[1;32mis\u001b[0m \u001b[0mtuple\u001b[0m\u001b[1;33m:\u001b[0m\u001b[1;33m\u001b[0m\u001b[0m\n\u001b[0;32m-> 1310\u001b[0;31m             \u001b[1;32mreturn\u001b[0m \u001b[0mself\u001b[0m\u001b[1;33m.\u001b[0m\u001b[0m_getitem_tuple\u001b[0m\u001b[1;33m(\u001b[0m\u001b[0mkey\u001b[0m\u001b[1;33m)\u001b[0m\u001b[1;33m\u001b[0m\u001b[0m\n\u001b[0m\u001b[1;32m   1311\u001b[0m         \u001b[1;32melse\u001b[0m\u001b[1;33m:\u001b[0m\u001b[1;33m\u001b[0m\u001b[0m\n\u001b[1;32m   1312\u001b[0m             \u001b[1;32mreturn\u001b[0m \u001b[0mself\u001b[0m\u001b[1;33m.\u001b[0m\u001b[0m_getitem_axis\u001b[0m\u001b[1;33m(\u001b[0m\u001b[0mkey\u001b[0m\u001b[1;33m,\u001b[0m \u001b[0maxis\u001b[0m\u001b[1;33m=\u001b[0m\u001b[1;36m0\u001b[0m\u001b[1;33m)\u001b[0m\u001b[1;33m\u001b[0m\u001b[0m\n",
      "\u001b[0;32mC:\\ProgramData\\Anaconda3\\lib\\site-packages\\pandas\\core\\indexing.py\u001b[0m in \u001b[0;36m_getitem_tuple\u001b[0;34m(self, tup)\u001b[0m\n\u001b[1;32m   1558\u001b[0m     \u001b[1;32mdef\u001b[0m \u001b[0m_getitem_tuple\u001b[0m\u001b[1;33m(\u001b[0m\u001b[0mself\u001b[0m\u001b[1;33m,\u001b[0m \u001b[0mtup\u001b[0m\u001b[1;33m)\u001b[0m\u001b[1;33m:\u001b[0m\u001b[1;33m\u001b[0m\u001b[0m\n\u001b[1;32m   1559\u001b[0m \u001b[1;33m\u001b[0m\u001b[0m\n\u001b[0;32m-> 1560\u001b[0;31m         \u001b[0mself\u001b[0m\u001b[1;33m.\u001b[0m\u001b[0m_has_valid_tuple\u001b[0m\u001b[1;33m(\u001b[0m\u001b[0mtup\u001b[0m\u001b[1;33m)\u001b[0m\u001b[1;33m\u001b[0m\u001b[0m\n\u001b[0m\u001b[1;32m   1561\u001b[0m         \u001b[1;32mtry\u001b[0m\u001b[1;33m:\u001b[0m\u001b[1;33m\u001b[0m\u001b[0m\n\u001b[1;32m   1562\u001b[0m             \u001b[1;32mreturn\u001b[0m \u001b[0mself\u001b[0m\u001b[1;33m.\u001b[0m\u001b[0m_getitem_lowerdim\u001b[0m\u001b[1;33m(\u001b[0m\u001b[0mtup\u001b[0m\u001b[1;33m)\u001b[0m\u001b[1;33m\u001b[0m\u001b[0m\n",
      "\u001b[0;32mC:\\ProgramData\\Anaconda3\\lib\\site-packages\\pandas\\core\\indexing.py\u001b[0m in \u001b[0;36m_has_valid_tuple\u001b[0;34m(self, key)\u001b[0m\n\u001b[1;32m    149\u001b[0m             \u001b[1;32mif\u001b[0m \u001b[0mi\u001b[0m \u001b[1;33m>=\u001b[0m \u001b[0mself\u001b[0m\u001b[1;33m.\u001b[0m\u001b[0mobj\u001b[0m\u001b[1;33m.\u001b[0m\u001b[0mndim\u001b[0m\u001b[1;33m:\u001b[0m\u001b[1;33m\u001b[0m\u001b[0m\n\u001b[1;32m    150\u001b[0m                 \u001b[1;32mraise\u001b[0m \u001b[0mIndexingError\u001b[0m\u001b[1;33m(\u001b[0m\u001b[1;34m'Too many indexers'\u001b[0m\u001b[1;33m)\u001b[0m\u001b[1;33m\u001b[0m\u001b[0m\n\u001b[0;32m--> 151\u001b[0;31m             \u001b[1;32mif\u001b[0m \u001b[1;32mnot\u001b[0m \u001b[0mself\u001b[0m\u001b[1;33m.\u001b[0m\u001b[0m_has_valid_type\u001b[0m\u001b[1;33m(\u001b[0m\u001b[0mk\u001b[0m\u001b[1;33m,\u001b[0m \u001b[0mi\u001b[0m\u001b[1;33m)\u001b[0m\u001b[1;33m:\u001b[0m\u001b[1;33m\u001b[0m\u001b[0m\n\u001b[0m\u001b[1;32m    152\u001b[0m                 raise ValueError(\"Location based indexing can only have [%s] \"\n\u001b[1;32m    153\u001b[0m                                  \"types\" % self._valid_types)\n",
      "\u001b[0;32mC:\\ProgramData\\Anaconda3\\lib\\site-packages\\pandas\\core\\indexing.py\u001b[0m in \u001b[0;36m_has_valid_type\u001b[0;34m(self, key, axis)\u001b[0m\n\u001b[1;32m   1526\u001b[0m             \u001b[1;32mreturn\u001b[0m \u001b[1;32mTrue\u001b[0m\u001b[1;33m\u001b[0m\u001b[0m\n\u001b[1;32m   1527\u001b[0m         \u001b[1;32melif\u001b[0m \u001b[0mis_integer\u001b[0m\u001b[1;33m(\u001b[0m\u001b[0mkey\u001b[0m\u001b[1;33m)\u001b[0m\u001b[1;33m:\u001b[0m\u001b[1;33m\u001b[0m\u001b[0m\n\u001b[0;32m-> 1528\u001b[0;31m             \u001b[1;32mreturn\u001b[0m \u001b[0mself\u001b[0m\u001b[1;33m.\u001b[0m\u001b[0m_is_valid_integer\u001b[0m\u001b[1;33m(\u001b[0m\u001b[0mkey\u001b[0m\u001b[1;33m,\u001b[0m \u001b[0maxis\u001b[0m\u001b[1;33m)\u001b[0m\u001b[1;33m\u001b[0m\u001b[0m\n\u001b[0m\u001b[1;32m   1529\u001b[0m         \u001b[1;32melif\u001b[0m \u001b[0mis_list_like_indexer\u001b[0m\u001b[1;33m(\u001b[0m\u001b[0mkey\u001b[0m\u001b[1;33m)\u001b[0m\u001b[1;33m:\u001b[0m\u001b[1;33m\u001b[0m\u001b[0m\n\u001b[1;32m   1530\u001b[0m             \u001b[1;32mreturn\u001b[0m \u001b[0mself\u001b[0m\u001b[1;33m.\u001b[0m\u001b[0m_is_valid_list_like\u001b[0m\u001b[1;33m(\u001b[0m\u001b[0mkey\u001b[0m\u001b[1;33m,\u001b[0m \u001b[0maxis\u001b[0m\u001b[1;33m)\u001b[0m\u001b[1;33m\u001b[0m\u001b[0m\n",
      "\u001b[0;32mC:\\ProgramData\\Anaconda3\\lib\\site-packages\\pandas\\core\\indexing.py\u001b[0m in \u001b[0;36m_is_valid_integer\u001b[0;34m(self, key, axis)\u001b[0m\n\u001b[1;32m   1540\u001b[0m         \u001b[0ml\u001b[0m \u001b[1;33m=\u001b[0m \u001b[0mlen\u001b[0m\u001b[1;33m(\u001b[0m\u001b[0max\u001b[0m\u001b[1;33m)\u001b[0m\u001b[1;33m\u001b[0m\u001b[0m\n\u001b[1;32m   1541\u001b[0m         \u001b[1;32mif\u001b[0m \u001b[0mkey\u001b[0m \u001b[1;33m>=\u001b[0m \u001b[0ml\u001b[0m \u001b[1;32mor\u001b[0m \u001b[0mkey\u001b[0m \u001b[1;33m<\u001b[0m \u001b[1;33m-\u001b[0m\u001b[0ml\u001b[0m\u001b[1;33m:\u001b[0m\u001b[1;33m\u001b[0m\u001b[0m\n\u001b[0;32m-> 1542\u001b[0;31m             \u001b[1;32mraise\u001b[0m \u001b[0mIndexError\u001b[0m\u001b[1;33m(\u001b[0m\u001b[1;34m\"single positional indexer is out-of-bounds\"\u001b[0m\u001b[1;33m)\u001b[0m\u001b[1;33m\u001b[0m\u001b[0m\n\u001b[0m\u001b[1;32m   1543\u001b[0m         \u001b[1;32mreturn\u001b[0m \u001b[1;32mTrue\u001b[0m\u001b[1;33m\u001b[0m\u001b[0m\n\u001b[1;32m   1544\u001b[0m \u001b[1;33m\u001b[0m\u001b[0m\n",
      "\u001b[0;31mIndexError\u001b[0m: single positional indexer is out-of-bounds"
     ]
    }
   ],
   "source": [
    "for i in range(1,(len(df_sorted)-2)): # Start one below. Finish one above\n",
    "# Don't know if the 'restaurant' duplicate is before or after the grocery duplicate so it checks before and after\n",
    "    if(((df_sorted.iloc[i,0]==df_sorted.iloc[i+1,0]) or(df_sorted.iloc[i,0]==df_sorted.iloc[i-1,0])) and(df_sorted.iloc[i,2]!='restaurant')):\n",
    "        df_sorted = df_sorted.drop([df_sorted.index[i]])"
   ]
  },
  {
   "cell_type": "code",
   "execution_count": 53,
   "metadata": {
    "collapsed": false
   },
   "outputs": [
    {
     "data": {
      "text/plain": [
       "67247"
      ]
     },
     "execution_count": 53,
     "metadata": {},
     "output_type": "execute_result"
    }
   ],
   "source": [
    "i"
   ]
  },
  {
   "cell_type": "code",
   "execution_count": 54,
   "metadata": {
    "collapsed": false
   },
   "outputs": [
    {
     "data": {
      "text/plain": [
       "67248"
      ]
     },
     "execution_count": 54,
     "metadata": {},
     "output_type": "execute_result"
    }
   ],
   "source": [
    "len(df_sorted)"
   ]
  },
  {
   "cell_type": "code",
   "execution_count": null,
   "metadata": {
    "collapsed": true
   },
   "outputs": [],
   "source": [
    "len(df_sorted)"
   ]
  },
  {
   "cell_type": "code",
   "execution_count": 9,
   "metadata": {
    "collapsed": false
   },
   "outputs": [],
   "source": [
    "fs_all_search.to_csv('C:/Users/J/Desktop/Businesses/Meal_Maker/Scraped_Data/fat_secret_full_formatted.csv', index=False)"
   ]
  },
  {
   "cell_type": "code",
   "execution_count": 5,
   "metadata": {
    "collapsed": false
   },
   "outputs": [
    {
     "data": {
      "text/html": [
       "<div>\n",
       "<table border=\"1\" class=\"dataframe\">\n",
       "  <thead>\n",
       "    <tr style=\"text-align: right;\">\n",
       "      <th></th>\n",
       "      <th>brand</th>\n",
       "      <th>food</th>\n",
       "      <th>food_type</th>\n",
       "      <th>calcium_perc</th>\n",
       "      <th>calories</th>\n",
       "      <th>carb_g</th>\n",
       "      <th>cholesterol_mg</th>\n",
       "      <th>fat_g</th>\n",
       "      <th>fiber_g</th>\n",
       "      <th>iron_perc</th>\n",
       "      <th>protein</th>\n",
       "      <th>saturated_fat_g</th>\n",
       "      <th>serving_size</th>\n",
       "      <th>sodium_mg</th>\n",
       "      <th>sugar_g</th>\n",
       "      <th>vit_a_perc</th>\n",
       "      <th>vit_c_perc</th>\n",
       "    </tr>\n",
       "  </thead>\n",
       "  <tbody>\n",
       "    <tr>\n",
       "      <th>0</th>\n",
       "      <td>all</td>\n",
       "      <td>2% Fat Milk</td>\n",
       "      <td>all</td>\n",
       "      <td>28</td>\n",
       "      <td>122</td>\n",
       "      <td>11.42</td>\n",
       "      <td>20</td>\n",
       "      <td>4.81</td>\n",
       "      <td>0</td>\n",
       "      <td>0</td>\n",
       "      <td>8.05</td>\n",
       "      <td>3.067</td>\n",
       "      <td>1 cup</td>\n",
       "      <td>100</td>\n",
       "      <td>12.35</td>\n",
       "      <td>9</td>\n",
       "      <td>1</td>\n",
       "    </tr>\n",
       "    <tr>\n",
       "      <th>1</th>\n",
       "      <td>all</td>\n",
       "      <td>Nonfat Lactose Reduced Milk</td>\n",
       "      <td>all</td>\n",
       "      <td>31</td>\n",
       "      <td>83</td>\n",
       "      <td>12.15</td>\n",
       "      <td>5</td>\n",
       "      <td>0.20</td>\n",
       "      <td>0</td>\n",
       "      <td>0</td>\n",
       "      <td>8.26</td>\n",
       "      <td>0.287</td>\n",
       "      <td>1 cup</td>\n",
       "      <td>103</td>\n",
       "      <td>12.47</td>\n",
       "      <td>10</td>\n",
       "      <td>0</td>\n",
       "    </tr>\n",
       "    <tr>\n",
       "      <th>2</th>\n",
       "      <td>all</td>\n",
       "      <td>Lactose Reduced Whole Milk</td>\n",
       "      <td>all</td>\n",
       "      <td>28</td>\n",
       "      <td>146</td>\n",
       "      <td>11.03</td>\n",
       "      <td>24</td>\n",
       "      <td>7.93</td>\n",
       "      <td>0</td>\n",
       "      <td>0</td>\n",
       "      <td>7.86</td>\n",
       "      <td>4.551</td>\n",
       "      <td>1 cup</td>\n",
       "      <td>98</td>\n",
       "      <td>12.83</td>\n",
       "      <td>5</td>\n",
       "      <td>0</td>\n",
       "    </tr>\n",
       "    <tr>\n",
       "      <th>3</th>\n",
       "      <td>all</td>\n",
       "      <td>Dry Milk (Reconstituted)</td>\n",
       "      <td>all</td>\n",
       "      <td>28</td>\n",
       "      <td>81</td>\n",
       "      <td>11.88</td>\n",
       "      <td>5</td>\n",
       "      <td>0.17</td>\n",
       "      <td>0</td>\n",
       "      <td>0</td>\n",
       "      <td>7.99</td>\n",
       "      <td>0.105</td>\n",
       "      <td>1 cup</td>\n",
       "      <td>130</td>\n",
       "      <td>11.88</td>\n",
       "      <td>11</td>\n",
       "      <td>2</td>\n",
       "    </tr>\n",
       "    <tr>\n",
       "      <th>4</th>\n",
       "      <td>all</td>\n",
       "      <td>Whole Dry Milk (Reconstituted)</td>\n",
       "      <td>all</td>\n",
       "      <td>29</td>\n",
       "      <td>156</td>\n",
       "      <td>12.18</td>\n",
       "      <td>32</td>\n",
       "      <td>8.47</td>\n",
       "      <td>0</td>\n",
       "      <td>1</td>\n",
       "      <td>8.34</td>\n",
       "      <td>5.304</td>\n",
       "      <td>1 cup</td>\n",
       "      <td>122</td>\n",
       "      <td>12.18</td>\n",
       "      <td>6</td>\n",
       "      <td>4</td>\n",
       "    </tr>\n",
       "  </tbody>\n",
       "</table>\n",
       "</div>"
      ],
      "text/plain": [
       "  brand                            food food_type  calcium_perc  calories  \\\n",
       "0   all                     2% Fat Milk       all            28       122   \n",
       "1   all     Nonfat Lactose Reduced Milk       all            31        83   \n",
       "2   all      Lactose Reduced Whole Milk       all            28       146   \n",
       "3   all        Dry Milk (Reconstituted)       all            28        81   \n",
       "4   all  Whole Dry Milk (Reconstituted)       all            29       156   \n",
       "\n",
       "   carb_g cholesterol_mg  fat_g fiber_g  iron_perc  protein saturated_fat_g  \\\n",
       "0   11.42             20   4.81       0          0     8.05           3.067   \n",
       "1   12.15              5   0.20       0          0     8.26           0.287   \n",
       "2   11.03             24   7.93       0          0     7.86           4.551   \n",
       "3   11.88              5   0.17       0          0     7.99           0.105   \n",
       "4   12.18             32   8.47       0          1     8.34           5.304   \n",
       "\n",
       "  serving_size sodium_mg sugar_g  vit_a_perc  vit_c_perc  \n",
       "0        1 cup       100   12.35           9           1  \n",
       "1        1 cup       103   12.47          10           0  \n",
       "2        1 cup        98   12.83           5           0  \n",
       "3        1 cup       130   11.88          11           2  \n",
       "4        1 cup       122   12.18           6           4  "
      ]
     },
     "execution_count": 5,
     "metadata": {},
     "output_type": "execute_result"
    }
   ],
   "source": [
    "fs_all_search.head()"
   ]
  },
  {
   "cell_type": "code",
   "execution_count": null,
   "metadata": {
    "collapsed": true
   },
   "outputs": [],
   "source": [
    "fs_all_search = pd.read_csv('C:/Users/J/Desktop/Businesses/Meal_Maker/Scraped_Data/fat_secret_all_search_progress.csv')"
   ]
  },
  {
   "cell_type": "code",
   "execution_count": 8,
   "metadata": {
    "collapsed": false
   },
   "outputs": [
    {
     "data": {
      "text/plain": [
       "88"
      ]
     },
     "execution_count": 8,
     "metadata": {},
     "output_type": "execute_result"
    }
   ],
   "source": [
    "max(fs_all_search.food.map(lambda x: length_finder(x)))\n",
    "max(fs_all_search.serving_size.map(lambda x: length_finder(x)))"
   ]
  },
  {
   "cell_type": "code",
   "execution_count": 13,
   "metadata": {
    "collapsed": false
   },
   "outputs": [
    {
     "data": {
      "text/plain": [
       "array(['brand', 'food', 'food_type', 'calcium_perc', 'calories', 'carb_g',\n",
       "       'cholesterol_mg', 'fat_g', 'fiber_g', 'iron_perc', 'protein',\n",
       "       'saturated_fat_g', 'serving_size', 'sodium_mg', 'sugar_g',\n",
       "       'vit_a_perc', 'vit_c_perc'], dtype=object)"
      ]
     },
     "execution_count": 13,
     "metadata": {},
     "output_type": "execute_result"
    }
   ],
   "source": [
    "fs_all_search.columns.values"
   ]
  },
  {
   "cell_type": "code",
   "execution_count": 17,
   "metadata": {
    "collapsed": false
   },
   "outputs": [
    {
     "data": {
      "text/plain": [
       "dtype('float64')"
      ]
     },
     "execution_count": 17,
     "metadata": {},
     "output_type": "execute_result"
    }
   ],
   "source": [
    "fs_all_search.protein.dtype"
   ]
  },
  {
   "cell_type": "code",
   "execution_count": 18,
   "metadata": {
    "collapsed": false
   },
   "outputs": [
    {
     "data": {
      "text/plain": [
       "dtype('O')"
      ]
     },
     "execution_count": 18,
     "metadata": {},
     "output_type": "execute_result"
    }
   ],
   "source": [
    "fs_all_search.sugar_g.dtype"
   ]
  },
  {
   "cell_type": "code",
   "execution_count": 14,
   "metadata": {
    "collapsed": false
   },
   "outputs": [
    {
     "name": "stderr",
     "output_type": "stream",
     "text": [
      "C:\\ProgramData\\Anaconda3\\lib\\site-packages\\pandas\\core\\ops.py:792: FutureWarning: elementwise comparison failed; returning scalar instead, but in the future will perform elementwise comparison\n",
      "  result = getattr(x, name)(y)\n"
     ]
    },
    {
     "ename": "TypeError",
     "evalue": "invalid type comparison",
     "output_type": "error",
     "traceback": [
      "\u001b[0;31m---------------------------------------------------------------------------\u001b[0m",
      "\u001b[0;31mTypeError\u001b[0m                                 Traceback (most recent call last)",
      "\u001b[0;32m<ipython-input-14-48cf68e58ce0>\u001b[0m in \u001b[0;36m<module>\u001b[0;34m()\u001b[0m\n\u001b[0;32m----> 1\u001b[0;31m \u001b[0msum\u001b[0m\u001b[1;33m(\u001b[0m\u001b[0mfs_all_search\u001b[0m\u001b[1;33m.\u001b[0m\u001b[0mprotein\u001b[0m\u001b[1;33m==\u001b[0m\u001b[1;34m'-'\u001b[0m\u001b[1;33m)\u001b[0m\u001b[1;33m\u001b[0m\u001b[0m\n\u001b[0m",
      "\u001b[0;32mC:\\ProgramData\\Anaconda3\\lib\\site-packages\\pandas\\core\\ops.py\u001b[0m in \u001b[0;36mwrapper\u001b[0;34m(self, other, axis)\u001b[0m\n\u001b[1;32m    853\u001b[0m \u001b[1;33m\u001b[0m\u001b[0m\n\u001b[1;32m    854\u001b[0m             \u001b[1;32mwith\u001b[0m \u001b[0mnp\u001b[0m\u001b[1;33m.\u001b[0m\u001b[0merrstate\u001b[0m\u001b[1;33m(\u001b[0m\u001b[0mall\u001b[0m\u001b[1;33m=\u001b[0m\u001b[1;34m'ignore'\u001b[0m\u001b[1;33m)\u001b[0m\u001b[1;33m:\u001b[0m\u001b[1;33m\u001b[0m\u001b[0m\n\u001b[0;32m--> 855\u001b[0;31m                 \u001b[0mres\u001b[0m \u001b[1;33m=\u001b[0m \u001b[0mna_op\u001b[0m\u001b[1;33m(\u001b[0m\u001b[0mvalues\u001b[0m\u001b[1;33m,\u001b[0m \u001b[0mother\u001b[0m\u001b[1;33m)\u001b[0m\u001b[1;33m\u001b[0m\u001b[0m\n\u001b[0m\u001b[1;32m    856\u001b[0m             \u001b[1;32mif\u001b[0m \u001b[0misscalar\u001b[0m\u001b[1;33m(\u001b[0m\u001b[0mres\u001b[0m\u001b[1;33m)\u001b[0m\u001b[1;33m:\u001b[0m\u001b[1;33m\u001b[0m\u001b[0m\n\u001b[1;32m    857\u001b[0m                 raise TypeError('Could not compare %s type with Series' %\n",
      "\u001b[0;32mC:\\ProgramData\\Anaconda3\\lib\\site-packages\\pandas\\core\\ops.py\u001b[0m in \u001b[0;36mna_op\u001b[0;34m(x, y)\u001b[0m\n\u001b[1;32m    792\u001b[0m                     \u001b[0mresult\u001b[0m \u001b[1;33m=\u001b[0m \u001b[0mgetattr\u001b[0m\u001b[1;33m(\u001b[0m\u001b[0mx\u001b[0m\u001b[1;33m,\u001b[0m \u001b[0mname\u001b[0m\u001b[1;33m)\u001b[0m\u001b[1;33m(\u001b[0m\u001b[0my\u001b[0m\u001b[1;33m)\u001b[0m\u001b[1;33m\u001b[0m\u001b[0m\n\u001b[1;32m    793\u001b[0m                 \u001b[1;32mif\u001b[0m \u001b[0mresult\u001b[0m \u001b[1;32mis\u001b[0m \u001b[0mNotImplemented\u001b[0m\u001b[1;33m:\u001b[0m\u001b[1;33m\u001b[0m\u001b[0m\n\u001b[0;32m--> 794\u001b[0;31m                     \u001b[1;32mraise\u001b[0m \u001b[0mTypeError\u001b[0m\u001b[1;33m(\u001b[0m\u001b[1;34m\"invalid type comparison\"\u001b[0m\u001b[1;33m)\u001b[0m\u001b[1;33m\u001b[0m\u001b[0m\n\u001b[0m\u001b[1;32m    795\u001b[0m             \u001b[1;32mexcept\u001b[0m \u001b[0mAttributeError\u001b[0m\u001b[1;33m:\u001b[0m\u001b[1;33m\u001b[0m\u001b[0m\n\u001b[1;32m    796\u001b[0m                 \u001b[0mresult\u001b[0m \u001b[1;33m=\u001b[0m \u001b[0mop\u001b[0m\u001b[1;33m(\u001b[0m\u001b[0mx\u001b[0m\u001b[1;33m,\u001b[0m \u001b[0my\u001b[0m\u001b[1;33m)\u001b[0m\u001b[1;33m\u001b[0m\u001b[0m\n",
      "\u001b[0;31mTypeError\u001b[0m: invalid type comparison"
     ]
    }
   ],
   "source": [
    "sum(fs_all_search.protein=='-')"
   ]
  },
  {
   "cell_type": "code",
   "execution_count": 25,
   "metadata": {
    "collapsed": false
   },
   "outputs": [],
   "source": [
    "for i in range(len(fs_all_search.columns)):\n",
    "    if fs_all_search.iloc[:,i].dtype == 'O' and sum(fs_all_search.iloc[:,i]=='-') > 0:\n",
    "        print(fs_all_search.columns.values[i])\n",
    "        print(sum(fs_all_search.iloc[:,i]=='-'))\n",
    "        fs_all_search[fs_all_search.iloc[:,i]=='-'] = 0 \n",
    "        print(sum(fs_all_search.iloc[:,i]=='-'))"
   ]
  },
  {
   "cell_type": "code",
   "execution_count": 31,
   "metadata": {
    "collapsed": true
   },
   "outputs": [],
   "source": [
    "fs_all_search.to_csv('C:/Users/J/Desktop/Businesses/Meal_Maker/Scraped_Data/fat_secret_all_search_formatted.csv', index=False)"
   ]
  },
  {
   "cell_type": "code",
   "execution_count": 27,
   "metadata": {
    "collapsed": false
   },
   "outputs": [],
   "source": [
    "fs_recipes = pd.read_csv('C:/Users/J/Desktop/Businesses/Meal_Maker/Scraped_Data/fat_secret_recipe_in_progress.csv')"
   ]
  },
  {
   "cell_type": "code",
   "execution_count": 28,
   "metadata": {
    "collapsed": false
   },
   "outputs": [
    {
     "name": "stdout",
     "output_type": "stream",
     "text": [
      "sugar_g\n",
      "2\n",
      "0\n"
     ]
    }
   ],
   "source": [
    "for i in range(len(fs_recipes.columns)):\n",
    "    if fs_recipes.iloc[:,i].dtype == 'O' and sum(fs_recipes.iloc[:,i]=='-') > 0:\n",
    "        print(fs_recipes.columns.values[i])\n",
    "        print(sum(fs_recipes.iloc[:,i]=='-'))\n",
    "        fs_recipes[fs_recipes.iloc[:,i]=='-'] = 0 \n",
    "        print(sum(fs_recipes.iloc[:,i]=='-'))"
   ]
  },
  {
   "cell_type": "code",
   "execution_count": 30,
   "metadata": {
    "collapsed": true
   },
   "outputs": [],
   "source": [
    "fs_recipes.to_csv('C:/Users/J/Desktop/Businesses/Meal_Maker/Scraped_Data/fat_secret_recipe_formatted.csv', index=False)"
   ]
  },
  {
   "cell_type": "code",
   "execution_count": 15,
   "metadata": {
    "collapsed": false,
    "scrolled": true
   },
   "outputs": [
    {
     "data": {
      "text/html": [
       "<div>\n",
       "<table border=\"1\" class=\"dataframe\">\n",
       "  <thead>\n",
       "    <tr style=\"text-align: right;\">\n",
       "      <th></th>\n",
       "      <th>recipe_desc</th>\n",
       "      <th>recipe_name</th>\n",
       "      <th>full_ingred_list</th>\n",
       "      <th>ingredient_list</th>\n",
       "      <th>instructions</th>\n",
       "      <th>meal_type</th>\n",
       "      <th>quantities_list</th>\n",
       "      <th>yield</th>\n",
       "      <th>calcium_perc</th>\n",
       "      <th>calories</th>\n",
       "      <th>...</th>\n",
       "      <th>fat_g</th>\n",
       "      <th>fiber_g</th>\n",
       "      <th>iron_perc</th>\n",
       "      <th>protein</th>\n",
       "      <th>saturated_fat_g</th>\n",
       "      <th>serving_size</th>\n",
       "      <th>sodium_mg</th>\n",
       "      <th>sugar_g</th>\n",
       "      <th>vit_a_perc</th>\n",
       "      <th>vit_c_perc</th>\n",
       "    </tr>\n",
       "  </thead>\n",
       "  <tbody>\n",
       "    <tr>\n",
       "      <th>0</th>\n",
       "      <td>A tasty dressing to add to your salad.</td>\n",
       "      <td>Cilantro Lime Dressing</td>\n",
       "      <td>{{Red Wine Vinegar, Sea Salt, Fresh Lime Juice...</td>\n",
       "      <td>{Red Wine Vinegar, Sea Salt, Fresh Lime Juice,...</td>\n",
       "      <td>{Put all items in a bullet blender or similar ...</td>\n",
       "      <td>{Salads and Salad Dressings}</td>\n",
       "      <td>{1 tbsp red wine vinegar| 1 dash sea salt| 1 f...</td>\n",
       "      <td>10.0</td>\n",
       "      <td>9</td>\n",
       "      <td>63</td>\n",
       "      <td>...</td>\n",
       "      <td>6.56</td>\n",
       "      <td>0.8</td>\n",
       "      <td>14</td>\n",
       "      <td>0.40</td>\n",
       "      <td>0.907</td>\n",
       "      <td>1 serving</td>\n",
       "      <td>21</td>\n",
       "      <td>0.2</td>\n",
       "      <td>140</td>\n",
       "      <td>76</td>\n",
       "    </tr>\n",
       "    <tr>\n",
       "      <th>1</th>\n",
       "      <td>Cookies made from just 3 ingredients.</td>\n",
       "      <td>Oat Banana Cookies</td>\n",
       "      <td>{{Banana, Cinnamon, Oats}, {1 medium banana| 1...</td>\n",
       "      <td>{Banana, Cinnamon, Oats}</td>\n",
       "      <td>{Preheat the oven to 390 °F (200 °C).| Mix all...</td>\n",
       "      <td>{Breads &amp; Baked Products| Desserts| Snacks}</td>\n",
       "      <td>{1 medium banana| 1/2 tsp cinnamon| 1 3/4 oz o...</td>\n",
       "      <td>6.0</td>\n",
       "      <td>5</td>\n",
       "      <td>50</td>\n",
       "      <td>...</td>\n",
       "      <td>0.65</td>\n",
       "      <td>1.5</td>\n",
       "      <td>17</td>\n",
       "      <td>1.63</td>\n",
       "      <td>0.124</td>\n",
       "      <td>1 serving</td>\n",
       "      <td>0</td>\n",
       "      <td>2.41</td>\n",
       "      <td>2</td>\n",
       "      <td>17</td>\n",
       "    </tr>\n",
       "    <tr>\n",
       "      <th>2</th>\n",
       "      <td>A fresh Iranian salad.</td>\n",
       "      <td>Shirazi Salad</td>\n",
       "      <td>{{Red Onion, Fresh Lime Juice, Tomatoes, Black...</td>\n",
       "      <td>{Red Onion, Fresh Lime Juice, Tomatoes, Black ...</td>\n",
       "      <td>{Dice tomatoes, cucumber and onion. Add mint, ...</td>\n",
       "      <td>{Side Dishes| Salads and Salad Dressings}</td>\n",
       "      <td>{1 1/2 oz red onion| juice of 1 lime| 3 medium...</td>\n",
       "      <td>2.0</td>\n",
       "      <td>9</td>\n",
       "      <td>68</td>\n",
       "      <td>...</td>\n",
       "      <td>0.55</td>\n",
       "      <td>3.6</td>\n",
       "      <td>11</td>\n",
       "      <td>2.69</td>\n",
       "      <td>0.138</td>\n",
       "      <td>1 serving</td>\n",
       "      <td>90</td>\n",
       "      <td>8.68</td>\n",
       "      <td>67</td>\n",
       "      <td>117</td>\n",
       "    </tr>\n",
       "    <tr>\n",
       "      <th>3</th>\n",
       "      <td>A quick dish of chili and rice without the meat.</td>\n",
       "      <td>Chili &amp; Rice</td>\n",
       "      <td>{{Instant Brown Rice, All Natural Diced Tomato...</td>\n",
       "      <td>{Instant Brown Rice, All Natural Diced Tomatoe...</td>\n",
       "      <td>{Mix all ingredients together in a microwave s...</td>\n",
       "      <td>{Lunch}</td>\n",
       "      <td>{1 cup brown rice dry| 1 3/4 cups diced tomato...</td>\n",
       "      <td>2.0</td>\n",
       "      <td>21</td>\n",
       "      <td>352</td>\n",
       "      <td>...</td>\n",
       "      <td>1.00</td>\n",
       "      <td>16.0</td>\n",
       "      <td>53</td>\n",
       "      <td>16.25</td>\n",
       "      <td>0.000</td>\n",
       "      <td>1 serving</td>\n",
       "      <td>640</td>\n",
       "      <td>7</td>\n",
       "      <td>51</td>\n",
       "      <td>70</td>\n",
       "    </tr>\n",
       "    <tr>\n",
       "      <th>4</th>\n",
       "      <td>Crisp and fresh vegetable slaw with black beans.</td>\n",
       "      <td>Vege &amp; Black Bean Coleslaw</td>\n",
       "      <td>{{English Cucumber, Sliced Carrots, Broccoli, ...</td>\n",
       "      <td>{English Cucumber, Sliced Carrots, Broccoli, C...</td>\n",
       "      <td>{Shred or chop all vegetables and mix in a lar...</td>\n",
       "      <td>{Side Dishes| Salads and Salad Dressings}</td>\n",
       "      <td>{1 1/2 cups English cucumber| 1 1/2 cups carro...</td>\n",
       "      <td>12.0</td>\n",
       "      <td>41</td>\n",
       "      <td>113</td>\n",
       "      <td>...</td>\n",
       "      <td>8.49</td>\n",
       "      <td>3.1</td>\n",
       "      <td>45</td>\n",
       "      <td>2.55</td>\n",
       "      <td>1.172</td>\n",
       "      <td>1 serving</td>\n",
       "      <td>166</td>\n",
       "      <td>2.01</td>\n",
       "      <td>381</td>\n",
       "      <td>265</td>\n",
       "    </tr>\n",
       "  </tbody>\n",
       "</table>\n",
       "<p>5 rows × 22 columns</p>\n",
       "</div>"
      ],
      "text/plain": [
       "                                        recipe_desc  \\\n",
       "0            A tasty dressing to add to your salad.   \n",
       "1             Cookies made from just 3 ingredients.   \n",
       "2                            A fresh Iranian salad.   \n",
       "3  A quick dish of chili and rice without the meat.   \n",
       "4  Crisp and fresh vegetable slaw with black beans.   \n",
       "\n",
       "                  recipe_name  \\\n",
       "0      Cilantro Lime Dressing   \n",
       "1          Oat Banana Cookies   \n",
       "2               Shirazi Salad   \n",
       "3                Chili & Rice   \n",
       "4  Vege & Black Bean Coleslaw   \n",
       "\n",
       "                                    full_ingred_list  \\\n",
       "0  {{Red Wine Vinegar, Sea Salt, Fresh Lime Juice...   \n",
       "1  {{Banana, Cinnamon, Oats}, {1 medium banana| 1...   \n",
       "2  {{Red Onion, Fresh Lime Juice, Tomatoes, Black...   \n",
       "3  {{Instant Brown Rice, All Natural Diced Tomato...   \n",
       "4  {{English Cucumber, Sliced Carrots, Broccoli, ...   \n",
       "\n",
       "                                     ingredient_list  \\\n",
       "0  {Red Wine Vinegar, Sea Salt, Fresh Lime Juice,...   \n",
       "1                           {Banana, Cinnamon, Oats}   \n",
       "2  {Red Onion, Fresh Lime Juice, Tomatoes, Black ...   \n",
       "3  {Instant Brown Rice, All Natural Diced Tomatoe...   \n",
       "4  {English Cucumber, Sliced Carrots, Broccoli, C...   \n",
       "\n",
       "                                        instructions  \\\n",
       "0  {Put all items in a bullet blender or similar ...   \n",
       "1  {Preheat the oven to 390 °F (200 °C).| Mix all...   \n",
       "2  {Dice tomatoes, cucumber and onion. Add mint, ...   \n",
       "3  {Mix all ingredients together in a microwave s...   \n",
       "4  {Shred or chop all vegetables and mix in a lar...   \n",
       "\n",
       "                                     meal_type  \\\n",
       "0                 {Salads and Salad Dressings}   \n",
       "1  {Breads & Baked Products| Desserts| Snacks}   \n",
       "2    {Side Dishes| Salads and Salad Dressings}   \n",
       "3                                      {Lunch}   \n",
       "4    {Side Dishes| Salads and Salad Dressings}   \n",
       "\n",
       "                                     quantities_list  yield  calcium_perc  \\\n",
       "0  {1 tbsp red wine vinegar| 1 dash sea salt| 1 f...   10.0             9   \n",
       "1  {1 medium banana| 1/2 tsp cinnamon| 1 3/4 oz o...    6.0             5   \n",
       "2  {1 1/2 oz red onion| juice of 1 lime| 3 medium...    2.0             9   \n",
       "3  {1 cup brown rice dry| 1 3/4 cups diced tomato...    2.0            21   \n",
       "4  {1 1/2 cups English cucumber| 1 1/2 cups carro...   12.0            41   \n",
       "\n",
       "   calories    ...      fat_g  fiber_g  iron_perc  protein  saturated_fat_g  \\\n",
       "0        63    ...       6.56      0.8         14     0.40            0.907   \n",
       "1        50    ...       0.65      1.5         17     1.63            0.124   \n",
       "2        68    ...       0.55      3.6         11     2.69            0.138   \n",
       "3       352    ...       1.00     16.0         53    16.25            0.000   \n",
       "4       113    ...       8.49      3.1         45     2.55            1.172   \n",
       "\n",
       "   serving_size  sodium_mg sugar_g  vit_a_perc vit_c_perc  \n",
       "0     1 serving         21     0.2         140         76  \n",
       "1     1 serving          0    2.41           2         17  \n",
       "2     1 serving         90    8.68          67        117  \n",
       "3     1 serving        640       7          51         70  \n",
       "4     1 serving        166    2.01         381        265  \n",
       "\n",
       "[5 rows x 22 columns]"
      ]
     },
     "execution_count": 15,
     "metadata": {},
     "output_type": "execute_result"
    }
   ],
   "source": [
    "fs_recipes.head()"
   ]
  },
  {
   "cell_type": "code",
   "execution_count": 25,
   "metadata": {
    "collapsed": false
   },
   "outputs": [
    {
     "name": "stdout",
     "output_type": "stream",
     "text": [
      "203 recipe_desc\n",
      "66 recipe_name\n",
      "1345 full_ingred_list\n",
      "607 ingredient_list\n",
      "1990 instructions\n",
      "64 meal_type\n",
      "734 quantities_list\n"
     ]
    }
   ],
   "source": [
    "print(str(max(fs_recipes.recipe_desc.map(lambda x: length_finder(x)))) + ' recipe_desc')\n",
    "print(str(max(fs_recipes.recipe_name.map(lambda x: length_finder(x))))+ ' recipe_name')\n",
    "print(str(max(fs_recipes.full_ingred_list.map(lambda x: length_finder(x))))+ ' full_ingred_list')\n",
    "print(str(max(fs_recipes.ingredient_list.map(lambda x: length_finder(x))))+ ' ingredient_list')\n",
    "print(str(max(fs_recipes.instructions.map(lambda x: length_finder(x))))+' instructions')\n",
    "print(str(max(fs_recipes.meal_type.map(lambda x: length_finder(x))))+ ' meal_type')\n",
    "print(str(max(fs_recipes.quantities_list.map(lambda x: length_finder(x))))+ ' quantities_list')"
   ]
  },
  {
   "cell_type": "code",
   "execution_count": 27,
   "metadata": {
    "collapsed": false
   },
   "outputs": [
    {
     "data": {
      "text/plain": [
       "array(['recipe_desc', 'recipe_name', 'full_ingred_list', 'ingredient_list',\n",
       "       'instructions', 'meal_type', 'quantities_list', 'yield',\n",
       "       'calcium_perc', 'calories', 'carb_g', 'cholesterol_mg', 'fat_g',\n",
       "       'fiber_g', 'iron_perc', 'protein', 'saturated_fat_g',\n",
       "       'serving_size', 'sodium_mg', 'sugar_g', 'vit_a_perc', 'vit_c_perc'], dtype=object)"
      ]
     },
     "execution_count": 27,
     "metadata": {},
     "output_type": "execute_result"
    }
   ],
   "source": [
    "fs_recipes.columns.values"
   ]
  },
  {
   "cell_type": "code",
   "execution_count": null,
   "metadata": {
    "collapsed": true
   },
   "outputs": [],
   "source": []
  }
 ],
 "metadata": {
  "kernelspec": {
   "display_name": "Python 3",
   "language": "python",
   "name": "python3"
  },
  "language_info": {
   "codemirror_mode": {
    "name": "ipython",
    "version": 3
   },
   "file_extension": ".py",
   "mimetype": "text/x-python",
   "name": "python",
   "nbconvert_exporter": "python",
   "pygments_lexer": "ipython3",
   "version": "3.6.0"
  }
 },
 "nbformat": 4,
 "nbformat_minor": 2
}
