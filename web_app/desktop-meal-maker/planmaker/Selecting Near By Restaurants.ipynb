{
 "cells": [
  {
   "cell_type": "markdown",
   "metadata": {},
   "source": [
    "# Selecting Near By Restaurants"
   ]
  },
  {
   "cell_type": "code",
   "execution_count": 1,
   "metadata": {
    "collapsed": true
   },
   "outputs": [],
   "source": [
    "import pandas as pd\n",
    "import numpy as np"
   ]
  },
  {
   "cell_type": "code",
   "execution_count": 2,
   "metadata": {
    "collapsed": false
   },
   "outputs": [
    {
     "name": "stderr",
     "output_type": "stream",
     "text": [
      "C:\\Users\\jvanc494\\anaconda3\\lib\\site-packages\\IPython\\core\\interactiveshell.py:2698: DtypeWarning: Columns (6) have mixed types. Specify dtype option on import or set low_memory=False.\n",
      "  interactivity=interactivity, compiler=compiler, result=result)\n"
     ]
    }
   ],
   "source": [
    "# Can replace this with an S3 reference\n",
    "df = pd.read_csv('C:/Users/jvanc494/Documents/nutrition_sm_ss_formatted.csv', delimiter = ',',encoding='ISO-8859-1')"
   ]
  },
  {
   "cell_type": "code",
   "execution_count": 3,
   "metadata": {
    "collapsed": false
   },
   "outputs": [
    {
     "data": {
      "text/plain": [
       "array(['Unnamed: 0', 'food_key', 'food_description', 'brand',\n",
       "       'food_type_grp', 'source', 'ingredients_list', 'serving_size_raw',\n",
       "       'serving_size_val', 'serving_size_unit', 'calories', 'protein_g',\n",
       "       'fat_g', 'saturated_fat_g', 'carb_g', 'fiber_g', 'sugar_g',\n",
       "       'sodium_mg', 'cholesterol_mg', 'calcium_mg', 'iron_mg', 'vit_a_mcg',\n",
       "       'vit_c_mg'], dtype=object)"
      ]
     },
     "execution_count": 3,
     "metadata": {},
     "output_type": "execute_result"
    }
   ],
   "source": [
    "df.columns.values"
   ]
  },
  {
   "cell_type": "markdown",
   "metadata": {},
   "source": [
    "### Selecting Restaurants Near By"
   ]
  },
  {
   "cell_type": "markdown",
   "metadata": {},
   "source": [
    "To hack finding restaurants nearby, can just have the google search api go and search 'for restaurants near' + 'some address'. Then run through the 'all restaurants' list and use fuzzy match to find matches. \n",
    "\n",
    "Then give person options of what restaurants they near them they like"
   ]
  },
  {
   "cell_type": "code",
   "execution_count": 5,
   "metadata": {
    "collapsed": true
   },
   "outputs": [],
   "source": [
    "all_restaurants = df.brand[df['food_type_grp']=='restaurant'].unique()"
   ]
  },
  {
   "cell_type": "markdown",
   "metadata": {
    "collapsed": true
   },
   "source": [
    "Likewise when asking what kind of foods they like, can start with tags and categories and then show items in those tags and categories"
   ]
  },
  {
   "cell_type": "code",
   "execution_count": null,
   "metadata": {
    "collapsed": true
   },
   "outputs": [],
   "source": [
    "# But for purposes of this demo, start with search only"
   ]
  },
  {
   "cell_type": "code",
   "execution_count": 7,
   "metadata": {
    "collapsed": false
   },
   "outputs": [
    {
     "name": "stderr",
     "output_type": "stream",
     "text": [
      "C:\\Users\\jvanc494\\anaconda3\\lib\\site-packages\\fuzzywuzzy\\fuzz.py:35: UserWarning: Using slow pure-python SequenceMatcher. Install python-Levenshtein to remove this warning\n",
      "  warnings.warn('Using slow pure-python SequenceMatcher. Install python-Levenshtein to remove this warning')\n"
     ]
    }
   ],
   "source": [
    "from fuzzywuzzy import fuzz\n",
    "from titlecase import titlecase"
   ]
  },
  {
   "cell_type": "markdown",
   "metadata": {},
   "source": [
    "Since 'google' package doesn't work on this pc, will just manually enter some from nearby"
   ]
  },
  {
   "cell_type": "code",
   "execution_count": 15,
   "metadata": {
    "collapsed": true
   },
   "outputs": [],
   "source": [
    "# Manually entering restaurants from google search\n",
    "near_me = ['Extreme Pizza','sweetgreen', 'paper horse ramen', 'Roti Modern Mediterranean', 'Starbucks']"
   ]
  },
  {
   "cell_type": "code",
   "execution_count": 16,
   "metadata": {
    "collapsed": true
   },
   "outputs": [],
   "source": [
    "my_rests = []\n",
    "for i in range(len(near_me)):\n",
    "    near_me[i]= titlecase(near_me[i])\n",
    "    rest = near_me[i]\n",
    "    if rest in all_restaurants:\n",
    "        my_rests.append(rest)"
   ]
  },
  {
   "cell_type": "code",
   "execution_count": 17,
   "metadata": {
    "collapsed": true
   },
   "outputs": [],
   "source": [
    "remaining = set(near_me) - set(my_rests)"
   ]
  },
  {
   "cell_type": "code",
   "execution_count": 18,
   "metadata": {
    "collapsed": false
   },
   "outputs": [
    {
     "data": {
      "text/plain": [
       "{'Paper Horse Ramen', 'Roti Modern Mediterranean'}"
      ]
     },
     "execution_count": 18,
     "metadata": {},
     "output_type": "execute_result"
    }
   ],
   "source": [
    "remaining"
   ]
  },
  {
   "cell_type": "code",
   "execution_count": 19,
   "metadata": {
    "collapsed": true
   },
   "outputs": [],
   "source": [
    "for rem in remaining:\n",
    "    for choice in all_restaurants:\n",
    "        if fuzz.token_set_ratio(rem, choice) >85:\n",
    "            my_rests.append(choice)"
   ]
  },
  {
   "cell_type": "code",
   "execution_count": 20,
   "metadata": {
    "collapsed": false
   },
   "outputs": [
    {
     "data": {
      "text/plain": [
       "['Extreme Pizza', 'Sweetgreen', 'Starbucks', 'Roti Mediterranean Grill']"
      ]
     },
     "execution_count": 20,
     "metadata": {},
     "output_type": "execute_result"
    }
   ],
   "source": [
    "my_rests"
   ]
  },
  {
   "cell_type": "markdown",
   "metadata": {
    "collapsed": true
   },
   "source": [
    "Just pretending I've already selected 'Y' that I like all of those places"
   ]
  },
  {
   "cell_type": "markdown",
   "metadata": {},
   "source": [
    "### Selecting liked/disliked foods and rating foods"
   ]
  },
  {
   "cell_type": "markdown",
   "metadata": {},
   "source": [
    "It seems like in the real interface, throwing out a matrix of 15 foods at a time and having the person click the ones \n",
    "they like would be an easy enough interface.\n",
    "\n",
    "Still with 450k, would need to poll them on likes and dislikes (and it would be great to have tags by then). "
   ]
  },
  {
   "cell_type": "code",
   "execution_count": 21,
   "metadata": {
    "collapsed": false
   },
   "outputs": [
    {
     "data": {
      "text/plain": [
       "array(['Unnamed: 0', 'food_key', 'food_description', 'brand',\n",
       "       'food_type_grp', 'source', 'ingredients_list', 'serving_size_raw',\n",
       "       'serving_size_val', 'serving_size_unit', 'calories', 'protein_g',\n",
       "       'fat_g', 'saturated_fat_g', 'carb_g', 'fiber_g', 'sugar_g',\n",
       "       'sodium_mg', 'cholesterol_mg', 'calcium_mg', 'iron_mg', 'vit_a_mcg',\n",
       "       'vit_c_mg'], dtype=object)"
      ]
     },
     "execution_count": 21,
     "metadata": {},
     "output_type": "execute_result"
    }
   ],
   "source": [
    "df.columns.values"
   ]
  },
  {
   "cell_type": "code",
   "execution_count": null,
   "metadata": {
    "collapsed": true
   },
   "outputs": [],
   "source": [
    "recipes = df[['food_key', 'food_description', 'brand', 'ingredients_list']][df.food_type_grp=='recipe']"
   ]
  }
 ],
 "metadata": {
  "kernelspec": {
   "display_name": "Python 3",
   "language": "python",
   "name": "python3"
  },
  "language_info": {
   "codemirror_mode": {
    "name": "ipython",
    "version": 3
   },
   "file_extension": ".py",
   "mimetype": "text/x-python",
   "name": "python",
   "nbconvert_exporter": "python",
   "pygments_lexer": "ipython3",
   "version": "3.6.0"
  }
 },
 "nbformat": 4,
 "nbformat_minor": 2
}
